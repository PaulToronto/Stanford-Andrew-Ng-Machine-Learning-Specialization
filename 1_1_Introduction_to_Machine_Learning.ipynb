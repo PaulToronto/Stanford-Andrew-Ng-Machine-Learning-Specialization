{
  "nbformat": 4,
  "nbformat_minor": 0,
  "metadata": {
    "colab": {
      "provenance": [],
      "toc_visible": true,
      "authorship_tag": "ABX9TyNKGdGmKZ23YUUCoLA7FIzI",
      "include_colab_link": true
    },
    "kernelspec": {
      "name": "python3",
      "display_name": "Python 3"
    },
    "language_info": {
      "name": "python"
    }
  },
  "cells": [
    {
      "cell_type": "markdown",
      "metadata": {
        "id": "view-in-github",
        "colab_type": "text"
      },
      "source": [
        "<a href=\"https://colab.research.google.com/github/PaulToronto/Stanford-Andrew-Ng-Machine-Learning-Specialization/blob/main/1_1_Introduction_to_Machine_Learning.ipynb\" target=\"_parent\"><img src=\"https://colab.research.google.com/assets/colab-badge.svg\" alt=\"Open In Colab\"/></a>"
      ]
    },
    {
      "cell_type": "markdown",
      "source": [
        "# 1.1 Introduction to Machine Learning"
      ],
      "metadata": {
        "id": "LPwb0SWhpg71"
      }
    },
    {
      "cell_type": "code",
      "source": [
        "import pandas as pd\n",
        "import matplotlib.pyplot as plt\n",
        "import sklearn\n",
        "import numpy as np\n",
        "from sklearn.linear_model import LinearRegression"
      ],
      "metadata": {
        "id": "BOBitb4Sk0tv"
      },
      "execution_count": 1,
      "outputs": []
    },
    {
      "cell_type": "markdown",
      "source": [
        "## 1.1.1 Overview of Machine Learning"
      ],
      "metadata": {
        "id": "o1xCUCTQpk40"
      }
    },
    {
      "cell_type": "markdown",
      "source": [
        "### 1.1.1.1 Welcome to machine learning"
      ],
      "metadata": {
        "id": "_KD_kRM6pwKP"
      }
    },
    {
      "cell_type": "markdown",
      "source": [
        "#### Definition: Machine learning\n",
        "\n",
        "**Machine learning** is the science of getting computers to learn without being explicitly programmed."
      ],
      "metadata": {
        "id": "WS5hJMkZrm0q"
      }
    },
    {
      "cell_type": "markdown",
      "source": [
        "### 1.1.1.2 Applications of machine learning\n",
        "\n",
        "- ML is a sub-field of AI\n",
        "- Web search\n",
        "- Speech recognition\n",
        "- Diagnose disease from X-rays\n",
        "- Self-driving cars\n",
        "- Computer vision\n",
        "- Augmented reality\n",
        "- Manufacturing\n",
        "- Large-scale agriculture\n",
        "- Health care\n",
        "- E-commerce\n",
        "- AGI - Artificial General Intelligence, still a long way from that goal"
      ],
      "metadata": {
        "id": "0vClbk_DsZ0G"
      }
    },
    {
      "cell_type": "markdown",
      "source": [
        "## 1.1.2 Supervised vs Unsupervised Machine Learning"
      ],
      "metadata": {
        "id": "dgRuX4CM2ltd"
      }
    },
    {
      "cell_type": "markdown",
      "source": [
        "### 1.1.2.1 What is machine learning"
      ],
      "metadata": {
        "id": "BZnGZG1i3bYn"
      }
    },
    {
      "cell_type": "markdown",
      "source": [
        "#### Definition: Machine Learning\n",
        "\n",
        "Field of study that gives computers the ability to learn without being explicitly programmed.\n",
        "\n",
        "~ Arthur Samuel (1959)"
      ],
      "metadata": {
        "id": "uMPLMqZc4OSl"
      }
    },
    {
      "cell_type": "markdown",
      "source": [
        "#### Machine Learning Algorithms\n",
        "\n",
        "1. Supervised learning\n",
        "    - used most in real-world applications\n",
        "    - has seen the most rapid advancements and innovations\n",
        "    - the topic of the first two courses in this specialization\n",
        "2. Unsupervised learning\n",
        "    - covered along with recommender systems and reinforcement learning in the third course of this specialization\n",
        "3. Recommender systems\n",
        "4. Reinforcement learning"
      ],
      "metadata": {
        "id": "NMHD-mQl70WO"
      }
    },
    {
      "cell_type": "markdown",
      "source": [
        "### 1.1.2.2 Supervised learning part 1\n",
        "\n",
        "- $x \\implies y$ \n",
        "- $\\text{input} \\implies \\text{output label}$\n",
        "- the learning algorithm learns from being given the \"right answers\"\n",
        "- the \"right answer\" is the correct **label** $y$ for a given input $x$\n",
        "- when the algorithm is trained it can predict the **label** given $x$\n"
      ],
      "metadata": {
        "id": "wvPc57ROAYr-"
      }
    },
    {
      "cell_type": "markdown",
      "source": [
        "#### **Example Application**: $x \\implies y$\n",
        "\n",
        "- **Spam Filter**: $\\text{email} \\implies \\text{spam? (0/1)}$\n",
        "- **Speach Recognition**: $\\text{audio} \\implies \\text{text transcript}$\n",
        "- **Machine Translation**: $\\text{English} \\implies \\text{Spanish}$\n",
        "- **Online Advertising**: $\\text{ad, user, info} \\implies \\text{click? (0/1)}$\n",
        "- **Self-driving Car**: $\\text{image, radar info} \\implies \\text{position of other cars}$\n",
        "- **Visual Inspection**: $\\text{image of phone} \\implies \\text{defect? (0/1)}$\n"
      ],
      "metadata": {
        "id": "RAjUg092CuM9"
      }
    },
    {
      "cell_type": "markdown",
      "source": [
        "#### Regression: Housing Price Prediction\n",
        "\n",
        "- Is it better to fit this data with a line or a curve? Later in the course we will learn how to make that decision\n",
        "- The red X's are the labels, the actual price\n",
        "- **Regression** is a particular type of supervised learning\n",
        "    - Predict a number when there are infinitely many possible outputs\n",
        "\n",
        "<img src='https://drive.google.com/uc?export=view&id=1GYfWx1zMlGjAJ_Stjwmknh1Z9bZu6sml'>\n",
        "\n",
        "<img src='https://drive.google.com/uc?export=view&id=1DbI1h5dV_FnbBgOXosZaWEamqwBPSVxg'>\n",
        "\n",
        "<img src='https://drive.google.com/uc?export=view&id=14lRdkNuT-3pN9u8bDAca-pOs7B2dxCQa'> "
      ],
      "metadata": {
        "id": "yq-Fe3KgPDYh"
      }
    },
    {
      "cell_type": "markdown",
      "source": [
        "### 1.1.2.3 Supervised learning part 2"
      ],
      "metadata": {
        "id": "uewLnwSdToBR"
      }
    },
    {
      "cell_type": "markdown",
      "source": [
        "#### Classification Example: Breast cancer detection\n",
        "\n",
        "A classsification problem with two possible output categories:\n",
        "\n",
        "$\\text{tumor size} \\implies \\text{diagnosis benign or malignant? (0/1)}$\n",
        "\n",
        "<img src='https://drive.google.com/uc?export=view&id=1GZIr1Uty7GDvA_erhsIYgqB_h0Sc6ul8'>\n",
        "\n",
        "A classification problem can also have more than just two possible output categories:\n",
        "\n",
        "<img src='https://drive.google.com/uc?export=view&id=19j2-p29yJh8XwEg22S-iDCWWsF5rfulP'>\n",
        "\n",
        "**NOTE**: For classification, the terms **output class** and **output category** are used interchangeably. \n",
        "\n",
        "<img src='https://drive.google.com/uc?export=view&id=1bUXYmVKZiQWDd_NZTSyw-8To0I6D9wMc'> \n",
        "\n",
        "In the above example, the learning algorithm has to decide how to fit a **boundary line** through this data.\n",
        "\n"
      ],
      "metadata": {
        "id": "ohHP806fU3t-"
      }
    },
    {
      "cell_type": "markdown",
      "source": [
        "#### Types of supervised learning\n",
        "\n",
        "1. Regression \n",
        "    - to predict a number\n",
        "    - infinitely many possible outputs\n",
        "2. Classification\n",
        "    - to predict a category\n",
        "    - categories can be numbers, but they don't have to be\n",
        "    - small number of possible output categories\n"
      ],
      "metadata": {
        "id": "RLaR8e0VTO4i"
      }
    },
    {
      "cell_type": "markdown",
      "source": [
        "### 1.1.2.4 Unsupervised learning part 1"
      ],
      "metadata": {
        "id": "9oDphYTAdRXu"
      }
    },
    {
      "cell_type": "markdown",
      "source": [
        "<img src='https://drive.google.com/uc?export=view&id=1-4_Y5Wt525WhqNGmDKN82ocTQpgtFQ7Q'> \n",
        "\n",
        "- the goal of unsupervised learning is to find something interesting in **unlabeled** data.\n",
        "- an unsupervised learning algorithm might decide that the data can be assigned to two different clusters\n",
        "    - this is a particular type of unsupervised learning called a **clustering algorithm**"
      ],
      "metadata": {
        "id": "6iCzCanbHcx5"
      }
    },
    {
      "cell_type": "markdown",
      "source": [
        "#### Clustering Examples\n",
        "\n",
        "1. Google News\n",
        "    - articles are clustered\n",
        "    - no predetermined key words are known\n",
        "2. DNA microarray\n",
        "    - <img src='https://drive.google.com/uc?export=view&id=1fgb3VY9I6fX-kaSMaaCTNOXeWdAgm-QM'> \n",
        "    - use this data to cluster individuals into different categories\n",
        "3. Grouping customers\n",
        "    - many companies have huge databases of customer information\n",
        "        - this data can be used to cluster customers into different market segments"
      ],
      "metadata": {
        "id": "JYThId1LJgUl"
      }
    },
    {
      "cell_type": "markdown",
      "source": [
        "### 1.1.2.5 Unsupervised learning part 2"
      ],
      "metadata": {
        "id": "Hv0yCFxEOnsZ"
      }
    },
    {
      "cell_type": "markdown",
      "source": [
        "#### Definition: Unsupervised learning\n",
        "\n",
        "Data only comes with imput $x$, but not output labels $y$. The algorithm has to find **structure** in the data."
      ],
      "metadata": {
        "id": "0jTCG27VO3gc"
      }
    },
    {
      "cell_type": "markdown",
      "source": [
        "#### Three types of Unsupervised Learning covered in this specialization\n",
        "\n",
        "1. Clustering\n",
        "    - Group similar data points together\n",
        "2. Anomaly detection\n",
        "    - Find unusual data points\n",
        "        - important for fraud detection\n",
        "3. Dimensionality reduction\n",
        "    - Compress data using fewer numbers while losing as little information as possible"
      ],
      "metadata": {
        "id": "GTSnaXHxPcet"
      }
    },
    {
      "cell_type": "markdown",
      "source": [
        "## 1.1.3 Regression Model"
      ],
      "metadata": {
        "id": "UYjfTA4CVUIG"
      }
    },
    {
      "cell_type": "markdown",
      "source": [
        "### 1.1.3.1 Linear regression model part 1"
      ],
      "metadata": {
        "id": "C6iS9Ha7XQ9N"
      }
    },
    {
      "cell_type": "markdown",
      "source": [
        "#### Portland Data"
      ],
      "metadata": {
        "id": "nEAdTNvkkYpr"
      }
    },
    {
      "cell_type": "code",
      "source": [
        "path = 'https://raw.githubusercontent.com/PaulToronto'\n",
        "path += '/Stanford-Andrew-Ng-Machine-Learning-Specialization/main'\n",
        "path += '/data/Portland.csv'\n",
        "\n",
        "portland = pd.read_csv(path, header=None, names=['Size', 'Bedrooms', 'Price'])\n",
        "#portland['Price'] = portland['Price'] / 1000.0\n",
        "portland.head()"
      ],
      "metadata": {
        "colab": {
          "base_uri": "https://localhost:8080/",
          "height": 206
        },
        "id": "i9XgFd6zkX6T",
        "outputId": "f56007c8-ebdf-4da7-cf04-e340fb041734"
      },
      "execution_count": 2,
      "outputs": [
        {
          "output_type": "execute_result",
          "data": {
            "text/plain": [
              "   Size  Bedrooms  Price\n",
              "0  2104         3  399.9\n",
              "1  1600         3  329.9\n",
              "2  2400         3  369.0\n",
              "3  1416         2  232.0\n",
              "4  3000         4  539.9"
            ],
            "text/html": [
              "\n",
              "  <div id=\"df-b8f5211e-c3dd-4ae9-87dd-8e443e6031cb\">\n",
              "    <div class=\"colab-df-container\">\n",
              "      <div>\n",
              "<style scoped>\n",
              "    .dataframe tbody tr th:only-of-type {\n",
              "        vertical-align: middle;\n",
              "    }\n",
              "\n",
              "    .dataframe tbody tr th {\n",
              "        vertical-align: top;\n",
              "    }\n",
              "\n",
              "    .dataframe thead th {\n",
              "        text-align: right;\n",
              "    }\n",
              "</style>\n",
              "<table border=\"1\" class=\"dataframe\">\n",
              "  <thead>\n",
              "    <tr style=\"text-align: right;\">\n",
              "      <th></th>\n",
              "      <th>Size</th>\n",
              "      <th>Bedrooms</th>\n",
              "      <th>Price</th>\n",
              "    </tr>\n",
              "  </thead>\n",
              "  <tbody>\n",
              "    <tr>\n",
              "      <th>0</th>\n",
              "      <td>2104</td>\n",
              "      <td>3</td>\n",
              "      <td>399.9</td>\n",
              "    </tr>\n",
              "    <tr>\n",
              "      <th>1</th>\n",
              "      <td>1600</td>\n",
              "      <td>3</td>\n",
              "      <td>329.9</td>\n",
              "    </tr>\n",
              "    <tr>\n",
              "      <th>2</th>\n",
              "      <td>2400</td>\n",
              "      <td>3</td>\n",
              "      <td>369.0</td>\n",
              "    </tr>\n",
              "    <tr>\n",
              "      <th>3</th>\n",
              "      <td>1416</td>\n",
              "      <td>2</td>\n",
              "      <td>232.0</td>\n",
              "    </tr>\n",
              "    <tr>\n",
              "      <th>4</th>\n",
              "      <td>3000</td>\n",
              "      <td>4</td>\n",
              "      <td>539.9</td>\n",
              "    </tr>\n",
              "  </tbody>\n",
              "</table>\n",
              "</div>\n",
              "      <button class=\"colab-df-convert\" onclick=\"convertToInteractive('df-b8f5211e-c3dd-4ae9-87dd-8e443e6031cb')\"\n",
              "              title=\"Convert this dataframe to an interactive table.\"\n",
              "              style=\"display:none;\">\n",
              "        \n",
              "  <svg xmlns=\"http://www.w3.org/2000/svg\" height=\"24px\"viewBox=\"0 0 24 24\"\n",
              "       width=\"24px\">\n",
              "    <path d=\"M0 0h24v24H0V0z\" fill=\"none\"/>\n",
              "    <path d=\"M18.56 5.44l.94 2.06.94-2.06 2.06-.94-2.06-.94-.94-2.06-.94 2.06-2.06.94zm-11 1L8.5 8.5l.94-2.06 2.06-.94-2.06-.94L8.5 2.5l-.94 2.06-2.06.94zm10 10l.94 2.06.94-2.06 2.06-.94-2.06-.94-.94-2.06-.94 2.06-2.06.94z\"/><path d=\"M17.41 7.96l-1.37-1.37c-.4-.4-.92-.59-1.43-.59-.52 0-1.04.2-1.43.59L10.3 9.45l-7.72 7.72c-.78.78-.78 2.05 0 2.83L4 21.41c.39.39.9.59 1.41.59.51 0 1.02-.2 1.41-.59l7.78-7.78 2.81-2.81c.8-.78.8-2.07 0-2.86zM5.41 20L4 18.59l7.72-7.72 1.47 1.35L5.41 20z\"/>\n",
              "  </svg>\n",
              "      </button>\n",
              "      \n",
              "  <style>\n",
              "    .colab-df-container {\n",
              "      display:flex;\n",
              "      flex-wrap:wrap;\n",
              "      gap: 12px;\n",
              "    }\n",
              "\n",
              "    .colab-df-convert {\n",
              "      background-color: #E8F0FE;\n",
              "      border: none;\n",
              "      border-radius: 50%;\n",
              "      cursor: pointer;\n",
              "      display: none;\n",
              "      fill: #1967D2;\n",
              "      height: 32px;\n",
              "      padding: 0 0 0 0;\n",
              "      width: 32px;\n",
              "    }\n",
              "\n",
              "    .colab-df-convert:hover {\n",
              "      background-color: #E2EBFA;\n",
              "      box-shadow: 0px 1px 2px rgba(60, 64, 67, 0.3), 0px 1px 3px 1px rgba(60, 64, 67, 0.15);\n",
              "      fill: #174EA6;\n",
              "    }\n",
              "\n",
              "    [theme=dark] .colab-df-convert {\n",
              "      background-color: #3B4455;\n",
              "      fill: #D2E3FC;\n",
              "    }\n",
              "\n",
              "    [theme=dark] .colab-df-convert:hover {\n",
              "      background-color: #434B5C;\n",
              "      box-shadow: 0px 1px 3px 1px rgba(0, 0, 0, 0.15);\n",
              "      filter: drop-shadow(0px 1px 2px rgba(0, 0, 0, 0.3));\n",
              "      fill: #FFFFFF;\n",
              "    }\n",
              "  </style>\n",
              "\n",
              "      <script>\n",
              "        const buttonEl =\n",
              "          document.querySelector('#df-b8f5211e-c3dd-4ae9-87dd-8e443e6031cb button.colab-df-convert');\n",
              "        buttonEl.style.display =\n",
              "          google.colab.kernel.accessAllowed ? 'block' : 'none';\n",
              "\n",
              "        async function convertToInteractive(key) {\n",
              "          const element = document.querySelector('#df-b8f5211e-c3dd-4ae9-87dd-8e443e6031cb');\n",
              "          const dataTable =\n",
              "            await google.colab.kernel.invokeFunction('convertToInteractive',\n",
              "                                                     [key], {});\n",
              "          if (!dataTable) return;\n",
              "\n",
              "          const docLinkHtml = 'Like what you see? Visit the ' +\n",
              "            '<a target=\"_blank\" href=https://colab.research.google.com/notebooks/data_table.ipynb>data table notebook</a>'\n",
              "            + ' to learn more about interactive tables.';\n",
              "          element.innerHTML = '';\n",
              "          dataTable['output_type'] = 'display_data';\n",
              "          await google.colab.output.renderOutput(dataTable, element);\n",
              "          const docLink = document.createElement('div');\n",
              "          docLink.innerHTML = docLinkHtml;\n",
              "          element.appendChild(docLink);\n",
              "        }\n",
              "      </script>\n",
              "    </div>\n",
              "  </div>\n",
              "  "
            ]
          },
          "metadata": {},
          "execution_count": 2
        }
      ]
    },
    {
      "cell_type": "code",
      "source": [
        "plt.figure(figsize=(10, 6))\n",
        "plt.scatter(portland['Size'], \n",
        "            portland['Price'],\n",
        "            marker='x', \n",
        "            color='red');\n",
        "plt.xlim(xmin=0)\n",
        "plt.ylim(ymin=0)\n",
        "plt.grid(axis='y')\n",
        "plt.title('House sizes and prices')\n",
        "plt.xlabel('size in ${feet}^2$')\n",
        "plt.ylabel(\"price in $1000's\")\n",
        " \n",
        "plt.show()"
      ],
      "metadata": {
        "colab": {
          "base_uri": "https://localhost:8080/",
          "height": 408
        },
        "id": "4gDqTqtuk_I2",
        "outputId": "99d62acc-53fa-47ac-ea99-bf8ec8c8b941"
      },
      "execution_count": 3,
      "outputs": [
        {
          "output_type": "display_data",
          "data": {
            "text/plain": [
              "<Figure size 720x432 with 1 Axes>"
            ],
            "image/png": "[encoded data removed]"
          },
          "metadata": {
            "needs_background": "light"
          }
        }
      ]
    },
    {
      "cell_type": "code",
      "source": [
        "X = portland[['Size']]\n",
        "y = portland['Price']\n",
        "\n",
        "model = LinearRegression()\n",
        "model.fit(X, y)"
      ],
      "metadata": {
        "colab": {
          "base_uri": "https://localhost:8080/"
        },
        "id": "Q7vkqLgYoPer",
        "outputId": "506cce02-c39e-41d7-f81a-e6d57ec52bdd"
      },
      "execution_count": 4,
      "outputs": [
        {
          "output_type": "execute_result",
          "data": {
            "text/plain": [
              "LinearRegression()"
            ]
          },
          "metadata": {},
          "execution_count": 4
        }
      ]
    },
    {
      "cell_type": "code",
      "source": [
        "model.intercept_, model.coef_"
      ],
      "metadata": {
        "colab": {
          "base_uri": "https://localhost:8080/"
        },
        "id": "hykafX1eqIXw",
        "outputId": "c6950fd8-54fe-4a98-e46e-e1d21634825e"
      },
      "execution_count": 5,
      "outputs": [
        {
          "output_type": "execute_result",
          "data": {
            "text/plain": [
              "(71.2704924487291, array([0.13452529]))"
            ]
          },
          "metadata": {},
          "execution_count": 5
        }
      ]
    },
    {
      "cell_type": "code",
      "source": [
        "fitted = model.predict(X)"
      ],
      "metadata": {
        "id": "Esc9qpxaqb3F"
      },
      "execution_count": 6,
      "outputs": []
    },
    {
      "cell_type": "code",
      "source": [
        "size_1250_predict = model.intercept_ + 1250 * model.coef_[0]\n",
        "size_1250_predict"
      ],
      "metadata": {
        "colab": {
          "base_uri": "https://localhost:8080/"
        },
        "id": "obRq7WaUsi80",
        "outputId": "8ef101f5-99ee-47f1-bbd4-8dbc810ecacd"
      },
      "execution_count": 7,
      "outputs": [
        {
          "output_type": "execute_result",
          "data": {
            "text/plain": [
              "239.42710209903078"
            ]
          },
          "metadata": {},
          "execution_count": 7
        }
      ]
    },
    {
      "cell_type": "code",
      "source": [
        "plt.figure(figsize=(10, 6))\n",
        "plt.scatter(X, \n",
        "            y,\n",
        "            marker='x', \n",
        "            color='red');\n",
        "\n",
        "# regression line - two ways\n",
        "house_size = np.linspace(0, portland['Size'].max() + 500)\n",
        "plt.plot(portland['Size'], fitted, color='navy', linewidth=3)\n",
        "plt.plot(house_size, \n",
        "         model.intercept_ + house_size * model.coef_[0],\n",
        "         color='dodgerblue', alpha=0.6)\n",
        "\n",
        "plt.xlim(xmin=0)\n",
        "plt.ylim(ymin=0)\n",
        "plt.grid(axis='y')\n",
        "plt.title('House sizes and prices')\n",
        "plt.xlabel('size in ${feet}^2$')\n",
        "plt.ylabel(\"price in $1000's\")\n",
        " \n",
        "plt.show()"
      ],
      "metadata": {
        "colab": {
          "base_uri": "https://localhost:8080/",
          "height": 408
        },
        "id": "YT7LPDuGqrdP",
        "outputId": "d7dbc5a9-9ab8-409d-ac60-18f88c9e195b"
      },
      "execution_count": 8,
      "outputs": [
        {
          "output_type": "display_data",
          "data": {
            "text/plain": [
              "<Figure size 720x432 with 1 Axes>"
            ],
            "image/png": "[encoded data removed]"
          },
          "metadata": {
            "needs_background": "light"
          }
        }
      ]
    },
    {
      "cell_type": "markdown",
      "source": [
        "#### Terminology\n",
        "\n",
        "- **Training set**: data that is used to train a model\n",
        "- $x$ is the input variable, aka *feature*\n",
        "- $y$ is the output variable, aka *target variable*\n",
        "- $m$ is the total number of training examples (rows)\n",
        "- $(x, y)$ denotes a single training example\n",
        "- $(x^{(i)}, y^{(i)})$ denotes the $i^{th}$ training example\n",
        "- $w$ is the **weight** parameter\n",
        "- $b$ is the **bias** parameter\n",
        "- $f_{w,b}\\left(x^{(i)}\\right)$ is the result of the model evaluation at $x^{(i)}$ parameterized by $w,b$\n",
        "    - $f_{w,b}\\left(x^{(i)}\\right) = wx^{(i)} + b$\n",
        "- $a$ is a scalar\n",
        "- $\\textbf{a}$ is a vector"
      ],
      "metadata": {
        "id": "eok8i_Pqxd2a"
      }
    },
    {
      "cell_type": "markdown",
      "source": [
        "### 1.1.3.2 Linear regression model part 2"
      ],
      "metadata": {
        "id": "oVm4Wfchb4RK"
      }
    },
    {
      "cell_type": "markdown",
      "source": [
        "#### What does a supervised learning algorithm do with a dataset? \n",
        "\n",
        "- Input: training set\n",
        "    - features\n",
        "    - targets\n",
        "- Output: function, $f$\n",
        "    - historically, this function used to be called a **hypothesis**\n",
        "    - the job of $f$ is to take a new input, $x$ and output an estimate or prediction for $\\hat{y}$\n",
        "    - $\\hat{y}$ is the estimate or prediction for $y$\n",
        "    - $y$ is the actual data value in the training set, aka the **target**\n",
        "    - the function, $f$ is called the **model**\n"
      ],
      "metadata": {
        "id": "gBktNAy-cCtR"
      }
    },
    {
      "cell_type": "markdown",
      "source": [
        "#### From the Portland housing example:\n",
        "\n",
        "$\\text{size} \\implies f \\implies \\text{estimated price}$"
      ],
      "metadata": {
        "id": "RCKZ_9ljeYAj"
      }
    },
    {
      "cell_type": "markdown",
      "source": [
        "#### How to represent $f$? \n",
        "\n",
        "$f_{w,b}\\left(x\\right) = wx + b$\n",
        "\n",
        "- sometimes, $w,b$ is omitted, but it means the same thing\n",
        "- the name if this model is **linear regression** or more specifically, **linear regression with one variable** or **univariate linear regression**\n",
        "    - in the Portland example, that one variable is the single feature: the size of the house"
      ],
      "metadata": {
        "id": "0dQ1x9S4e3oa"
      }
    },
    {
      "cell_type": "markdown",
      "source": [
        "### 1.1.3.3 Lab: Model representation"
      ],
      "metadata": {
        "id": "GOf52CzFhyZS"
      }
    },
    {
      "cell_type": "markdown",
      "source": [
        "#### Goal\n",
        "\n",
        "The goal of this lab is to learn to implement the model $f_{w,b}$ for linear regression with one variable."
      ],
      "metadata": {
        "id": "7UIki-6kiGPT"
      }
    },
    {
      "cell_type": "markdown",
      "source": [
        "#### The data and problem statement\n",
        "\n",
        "This lab will use a simple data set with only two data points - a house with 1000 square feet(sqft) sold for \\$300,000 and a house with 2000 square feet sold for \\$500,000. These two points will constitute our data or **training set**. In this lab, the units of size are 1000 sqft and the units of price are 1000s of dollars."
      ],
      "metadata": {
        "id": "MjM_2RtJkEO7"
      }
    },
    {
      "cell_type": "code",
      "source": [
        "data = [[1.0, 300], [2.0, 500]]\n",
        "train = pd.DataFrame(data, columns=['Size', 'Price'])\n",
        "train"
      ],
      "metadata": {
        "colab": {
          "base_uri": "https://localhost:8080/",
          "height": 112
        },
        "id": "Ymkdm9h_kRtY",
        "outputId": "d3fdf94c-b8e3-4ba9-b599-37b2c7877a11"
      },
      "execution_count": 9,
      "outputs": [
        {
          "output_type": "execute_result",
          "data": {
            "text/plain": [
              "   Size  Price\n",
              "0   1.0    300\n",
              "1   2.0    500"
            ],
            "text/html": [
              "\n",
              "  <div id=\"df-f18643f0-71ec-48a8-85dd-902f47af8b9a\">\n",
              "    <div class=\"colab-df-container\">\n",
              "      <div>\n",
              "<style scoped>\n",
              "    .dataframe tbody tr th:only-of-type {\n",
              "        vertical-align: middle;\n",
              "    }\n",
              "\n",
              "    .dataframe tbody tr th {\n",
              "        vertical-align: top;\n",
              "    }\n",
              "\n",
              "    .dataframe thead th {\n",
              "        text-align: right;\n",
              "    }\n",
              "</style>\n",
              "<table border=\"1\" class=\"dataframe\">\n",
              "  <thead>\n",
              "    <tr style=\"text-align: right;\">\n",
              "      <th></th>\n",
              "      <th>Size</th>\n",
              "      <th>Price</th>\n",
              "    </tr>\n",
              "  </thead>\n",
              "  <tbody>\n",
              "    <tr>\n",
              "      <th>0</th>\n",
              "      <td>1.0</td>\n",
              "      <td>300</td>\n",
              "    </tr>\n",
              "    <tr>\n",
              "      <th>1</th>\n",
              "      <td>2.0</td>\n",
              "      <td>500</td>\n",
              "    </tr>\n",
              "  </tbody>\n",
              "</table>\n",
              "</div>\n",
              "      <button class=\"colab-df-convert\" onclick=\"convertToInteractive('df-f18643f0-71ec-48a8-85dd-902f47af8b9a')\"\n",
              "              title=\"Convert this dataframe to an interactive table.\"\n",
              "              style=\"display:none;\">\n",
              "        \n",
              "  <svg xmlns=\"http://www.w3.org/2000/svg\" height=\"24px\"viewBox=\"0 0 24 24\"\n",
              "       width=\"24px\">\n",
              "    <path d=\"M0 0h24v24H0V0z\" fill=\"none\"/>\n",
              "    <path d=\"M18.56 5.44l.94 2.06.94-2.06 2.06-.94-2.06-.94-.94-2.06-.94 2.06-2.06.94zm-11 1L8.5 8.5l.94-2.06 2.06-.94-2.06-.94L8.5 2.5l-.94 2.06-2.06.94zm10 10l.94 2.06.94-2.06 2.06-.94-2.06-.94-.94-2.06-.94 2.06-2.06.94z\"/><path d=\"M17.41 7.96l-1.37-1.37c-.4-.4-.92-.59-1.43-.59-.52 0-1.04.2-1.43.59L10.3 9.45l-7.72 7.72c-.78.78-.78 2.05 0 2.83L4 21.41c.39.39.9.59 1.41.59.51 0 1.02-.2 1.41-.59l7.78-7.78 2.81-2.81c.8-.78.8-2.07 0-2.86zM5.41 20L4 18.59l7.72-7.72 1.47 1.35L5.41 20z\"/>\n",
              "  </svg>\n",
              "      </button>\n",
              "      \n",
              "  <style>\n",
              "    .colab-df-container {\n",
              "      display:flex;\n",
              "      flex-wrap:wrap;\n",
              "      gap: 12px;\n",
              "    }\n",
              "\n",
              "    .colab-df-convert {\n",
              "      background-color: #E8F0FE;\n",
              "      border: none;\n",
              "      border-radius: 50%;\n",
              "      cursor: pointer;\n",
              "      display: none;\n",
              "      fill: #1967D2;\n",
              "      height: 32px;\n",
              "      padding: 0 0 0 0;\n",
              "      width: 32px;\n",
              "    }\n",
              "\n",
              "    .colab-df-convert:hover {\n",
              "      background-color: #E2EBFA;\n",
              "      box-shadow: 0px 1px 2px rgba(60, 64, 67, 0.3), 0px 1px 3px 1px rgba(60, 64, 67, 0.15);\n",
              "      fill: #174EA6;\n",
              "    }\n",
              "\n",
              "    [theme=dark] .colab-df-convert {\n",
              "      background-color: #3B4455;\n",
              "      fill: #D2E3FC;\n",
              "    }\n",
              "\n",
              "    [theme=dark] .colab-df-convert:hover {\n",
              "      background-color: #434B5C;\n",
              "      box-shadow: 0px 1px 3px 1px rgba(0, 0, 0, 0.15);\n",
              "      filter: drop-shadow(0px 1px 2px rgba(0, 0, 0, 0.3));\n",
              "      fill: #FFFFFF;\n",
              "    }\n",
              "  </style>\n",
              "\n",
              "      <script>\n",
              "        const buttonEl =\n",
              "          document.querySelector('#df-f18643f0-71ec-48a8-85dd-902f47af8b9a button.colab-df-convert');\n",
              "        buttonEl.style.display =\n",
              "          google.colab.kernel.accessAllowed ? 'block' : 'none';\n",
              "\n",
              "        async function convertToInteractive(key) {\n",
              "          const element = document.querySelector('#df-f18643f0-71ec-48a8-85dd-902f47af8b9a');\n",
              "          const dataTable =\n",
              "            await google.colab.kernel.invokeFunction('convertToInteractive',\n",
              "                                                     [key], {});\n",
              "          if (!dataTable) return;\n",
              "\n",
              "          const docLinkHtml = 'Like what you see? Visit the ' +\n",
              "            '<a target=\"_blank\" href=https://colab.research.google.com/notebooks/data_table.ipynb>data table notebook</a>'\n",
              "            + ' to learn more about interactive tables.';\n",
              "          element.innerHTML = '';\n",
              "          dataTable['output_type'] = 'display_data';\n",
              "          await google.colab.output.renderOutput(dataTable, element);\n",
              "          const docLink = document.createElement('div');\n",
              "          docLink.innerHTML = docLinkHtml;\n",
              "          element.appendChild(docLink);\n",
              "        }\n",
              "      </script>\n",
              "    </div>\n",
              "  </div>\n",
              "  "
            ]
          },
          "metadata": {},
          "execution_count": 9
        }
      ]
    },
    {
      "cell_type": "code",
      "source": [
        "x_train = np.array(train['Size'])\n",
        "y_train = np.array(train['Price'])"
      ],
      "metadata": {
        "id": "gEdp32CYlapu"
      },
      "execution_count": 10,
      "outputs": []
    },
    {
      "cell_type": "code",
      "source": [
        "print(f\"x_train = {x_train}\")\n",
        "print(f\"y_train = {y_train}\")"
      ],
      "metadata": {
        "colab": {
          "base_uri": "https://localhost:8080/"
        },
        "id": "XlqgEGLXly8R",
        "outputId": "79fb41bb-6ee5-423f-e08c-216685c3368f"
      },
      "execution_count": 11,
      "outputs": [
        {
          "output_type": "stream",
          "name": "stdout",
          "text": [
            "x_train = [1. 2.]\n",
            "y_train = [300 500]\n"
          ]
        }
      ]
    },
    {
      "cell_type": "markdown",
      "source": [
        "#### Number of training examples: $m$"
      ],
      "metadata": {
        "id": "7MPM2IQImgkG"
      }
    },
    {
      "cell_type": "code",
      "source": [
        "# m in the number of training examples\n",
        "print(f'x_train.shape: {x_train.shape}')\n",
        "m = x_train.shape[0]\n",
        "print(f'The number of training examples is: {m}')"
      ],
      "metadata": {
        "colab": {
          "base_uri": "https://localhost:8080/"
        },
        "id": "nLWiw8bEmruQ",
        "outputId": "fc4d4fb8-56c4-4969-b1ff-9ee3b387aebe"
      },
      "execution_count": 12,
      "outputs": [
        {
          "output_type": "stream",
          "name": "stdout",
          "text": [
            "x_train.shape: (2,)\n",
            "The number of training examples is: 2\n"
          ]
        }
      ]
    },
    {
      "cell_type": "code",
      "source": [
        "# an alternate way to get m\n",
        "m = len(x_train)\n",
        "print(f'The number of training examples is: {m}')"
      ],
      "metadata": {
        "colab": {
          "base_uri": "https://localhost:8080/"
        },
        "id": "ZEaq-SrIoGgn",
        "outputId": "db166119-668a-4d1e-8c8d-e417cb4bd516"
      },
      "execution_count": 13,
      "outputs": [
        {
          "output_type": "stream",
          "name": "stdout",
          "text": [
            "The number of training examples is: 2\n"
          ]
        }
      ]
    },
    {
      "cell_type": "markdown",
      "source": [
        "#### Training example: $x^{(i)}, y^{(i)}$\n",
        "\n",
        "- Python is zero-index, so the first training example has index, $0$."
      ],
      "metadata": {
        "id": "aB0ENvEstH7T"
      }
    },
    {
      "cell_type": "code",
      "source": [
        "i = 0\n",
        "\n",
        "x_i = x_train[i]\n",
        "y_i = y_train[i]\n",
        "\n",
        "print(f'(x^({i}), y^({i})) = ({x_i}, {y_i})')"
      ],
      "metadata": {
        "colab": {
          "base_uri": "https://localhost:8080/"
        },
        "id": "IKDEHx6TtZeQ",
        "outputId": "d3437be0-26db-42df-fd54-3217a8fec8be"
      },
      "execution_count": 14,
      "outputs": [
        {
          "output_type": "stream",
          "name": "stdout",
          "text": [
            "(x^(0), y^(0)) = (1.0, 300)\n"
          ]
        }
      ]
    },
    {
      "cell_type": "markdown",
      "source": [
        "#### Plotting the data"
      ],
      "metadata": {
        "id": "EhQL9o7juezF"
      }
    },
    {
      "cell_type": "code",
      "source": [
        "plt.scatter(x_train, y_train, marker='x', c='r')\n",
        "plt.title('Housing Prices')\n",
        "plt.xlabel('Size (1000 sqft)')\n",
        "plt.ylabel('Price (in 1000s of dollars)')\n",
        "plt.show()"
      ],
      "metadata": {
        "colab": {
          "base_uri": "https://localhost:8080/",
          "height": 295
        },
        "id": "mC8oLfifujyb",
        "outputId": "f2bf0ecb-f024-4fae-da38-82a8be87d57c"
      },
      "execution_count": 15,
      "outputs": [
        {
          "output_type": "display_data",
          "data": {
            "text/plain": [
              "<Figure size 432x288 with 1 Axes>"
            ],
            "image/png": "[encoded data removed]"
          },
          "metadata": {
            "needs_background": "light"
          }
        }
      ]
    },
    {
      "cell_type": "markdown",
      "source": [
        "#### Model, function $f$\n",
        "\n",
        "The model function for linear regression is represented as:\n",
        "\n",
        "$\n",
        "f_{w,b}\\left(x^{(i)}\\right) = wx^{(i)} + b\n",
        "$\n",
        "\n",
        "Different values of $w$ and $b$ represent different straight lines on the plot."
      ],
      "metadata": {
        "id": "AqD4WPLAvN35"
      }
    },
    {
      "cell_type": "code",
      "source": [
        "def compute_model_output(x, w, b):\n",
        "    \"\"\"\n",
        "    Computes the prediction of a linear model\n",
        "    Args:\n",
        "      x (ndarray(m,)): Data, m examples\n",
        "      w,b (scalar).  : model parameters\n",
        "    Returns\n",
        "      y (ndarray(m,)): target values\n",
        "    \"\"\"\n",
        "    m = x.shape[0]\n",
        "    f_wb = np.zeros(m)\n",
        "    for i in range(m):\n",
        "        f_wb[i] = w * x[i] + b\n",
        "\n",
        "    return f_wb"
      ],
      "metadata": {
        "id": "3BJ0P-ZNwLlJ"
      },
      "execution_count": 16,
      "outputs": []
    },
    {
      "cell_type": "code",
      "source": [
        "# w = 100; b = 100 # this is not a good estimate\n",
        "w = 200; b = 100   # much better\n",
        "\n",
        "# plot the data points\n",
        "plt.scatter(x_train, y_train, marker='x', color='r', label='Actual Values')\n",
        "\n",
        "# plot model prediction\n",
        "temp_f_wb = compute_model_output(x_train, w, b)\n",
        "plt.plot(x_train, temp_f_wb, c='b', label='Prediction')\n",
        "\n",
        "plt.xlim(xmin=0)\n",
        "plt.ylim(ymin=0)\n",
        "\n",
        "# title, labels and legend\n",
        "plt.title('Housing Prices')\n",
        "plt.xlabel('Size (1000 sqft)')\n",
        "plt.ylabel('Price (in 1000s of dollars)')\n",
        "plt.legend()\n",
        "\n",
        "plt.show()"
      ],
      "metadata": {
        "colab": {
          "base_uri": "https://localhost:8080/",
          "height": 295
        },
        "id": "tJTtLALm3t70",
        "outputId": "917220d1-b421-4c8b-e2da-b6dd2cc96f87"
      },
      "execution_count": 17,
      "outputs": [
        {
          "output_type": "display_data",
          "data": {
            "text/plain": [
              "<Figure size 432x288 with 1 Axes>"
            ],
            "image/png": "[encoded data removed]"
          },
          "metadata": {
            "needs_background": "light"
          }
        }
      ]
    },
    {
      "cell_type": "markdown",
      "source": [
        "In our model, $w = 200$ and $b = 100$. Predict the cost of a house that is 1200 sqft. "
      ],
      "metadata": {
        "id": "aUpcPV3J6pvS"
      }
    },
    {
      "cell_type": "code",
      "source": [
        "w = 200\n",
        "b = 100\n",
        "x_i = 1200 / 1000\n",
        "\n",
        "cost_1200sqft = w * x_i + b\n",
        "\n",
        "print(f'The cost of a 1200 sqft house is predicted to be {cost_1200sqft:.0f} thousand dollars')"
      ],
      "metadata": {
        "colab": {
          "base_uri": "https://localhost:8080/"
        },
        "id": "FV5mogaj66Pw",
        "outputId": "19c25267-d4c5-47f8-a274-b8f4244957e3"
      },
      "execution_count": 18,
      "outputs": [
        {
          "output_type": "stream",
          "name": "stdout",
          "text": [
            "The cost of a 1200 sqft house is predicted to be 340 thousand dollars\n"
          ]
        }
      ]
    },
    {
      "cell_type": "markdown",
      "source": [
        "### 1.1.3.4 Cost function formula"
      ],
      "metadata": {
        "id": "JFOHLSEj72zV"
      }
    },
    {
      "cell_type": "markdown",
      "source": [
        "- Training set: has features, $x$, and output targets, $y$\n",
        "- Model: $f_{w,b}\\left(x\\right) = wx + b$\n",
        "- Model parameters: $w$ and $b$\n",
        "    - these parameters are also called: *coefficients* or *weights*\n",
        "- $w,b$ determine the model, $f$, as shown in the following code:"
      ],
      "metadata": {
        "id": "R8LZzc1_F1HC"
      }
    },
    {
      "cell_type": "code",
      "source": [
        "fig, (ax1, ax2, ax3) = plt.subplots(1, 3, figsize=(12, 4))\n",
        "\n",
        "domain = np.array([0, 1, 2, 3])\n",
        "f_wb = lambda w, b: w * domain + b\n",
        "\n",
        "w = 0\n",
        "b = 1.5\n",
        "ax1.plot(domain, f_wb(w, b))\n",
        "ax1.set_title('f(x) = 0x + 1.5')\n",
        "ax1.set_ylim([0, 3])\n",
        "\n",
        "w = 0.5\n",
        "b = 0\n",
        "ax2.plot(domain, f_wb(w, b))\n",
        "ax2.set_title('f(x) = 0.5x + 0')\n",
        "ax2.set_ylim([0, 3])\n",
        "\n",
        "w = 0.5\n",
        "b = 1\n",
        "ax3.plot(domain, f_wb(w, b))\n",
        "ax3.set_title('f(x) 0.5x + 1')\n",
        "ax3.set_ylim([0, 3])\n",
        "\n",
        "plt.show()"
      ],
      "metadata": {
        "colab": {
          "base_uri": "https://localhost:8080/",
          "height": 281
        },
        "id": "pERo0iIqHsbn",
        "outputId": "69cc86f4-32fb-40a7-99d4-6daf1afe5f40"
      },
      "execution_count": 19,
      "outputs": [
        {
          "output_type": "display_data",
          "data": {
            "text/plain": [
              "<Figure size 864x288 with 3 Axes>"
            ],
            "image/png": "[encoded data removed]"
          },
          "metadata": {
            "needs_background": "light"
          }
        }
      ]
    },
    {
      "cell_type": "markdown",
      "source": [
        "- Recall that the $i^{th}$ training example is represented by $\\left(x^{(i)}, y^{(i)}\\right)$, where $y^{(i)}$ is the target\n",
        "- For a given input, $x^{(i)}$, the function, $f$, also makes a predicted value, $\\hat{y}^{(i)}$\n",
        "    - $\\hat{y}^{(i)} = f_{w,b}\\left(x^{(i)}\\right) = wx^{(i)} + b$\n",
        "- **Goal**: find values $w$ and $b$ so that $\\hat{y}^{(i)}$ is close to $y^{(i)}$ for all $\\left(x^{(i)}, y^{(i)}\\right)$ "
      ],
      "metadata": {
        "id": "4w0ujAoqMizC"
      }
    },
    {
      "cell_type": "markdown",
      "source": [
        "#### Measuring how well a line fits the training data\n",
        "\n",
        "- To do this, we need a **cost function**\n",
        "- The error for the $i^{th}$ data point is $\\hat{y}^{(i)} - y^{(i)}$\n",
        "- We want to square this error and measure it across the entire dataset\n"
      ],
      "metadata": {
        "id": "fYSQUfu4QK1_"
      }
    },
    {
      "cell_type": "markdown",
      "source": [
        "$$\n",
        "\\sum_{i=1}^{m}\\left(\\hat{y}^{(i)} - y^{(i)}\\right)^{2}\n",
        "$$"
      ],
      "metadata": {
        "id": "1CeYRFPiSV70"
      }
    },
    {
      "cell_type": "markdown",
      "source": [
        "- So that the cost function doesn't automatically get larger as the training set size gets larger, we take the average"
      ],
      "metadata": {
        "id": "zq2h9dMkUUeU"
      }
    },
    {
      "cell_type": "markdown",
      "source": [
        "$$\n",
        "\\frac{1}{m}\\sum_{i=1}^{m}\\left(\\hat{y}^{(i)} - y^{(i)}\\right)^{2}\n",
        "$$"
      ],
      "metadata": {
        "id": "4QW_B_-dUlyO"
      }
    },
    {
      "cell_type": "markdown",
      "source": [
        "- However, by convention in the ML community, the division is by $2m$ instead of $m$\n",
        "    - this cost function still works and it makes later calculations cleaner\n",
        "- We use $J(w,b)$ to refer to the cost function\n",
        "- This function is also called the **Squared Error Cost Function**\n",
        "- In ML different cost functions are used for different applications, but this cost function is the most commonly used for linear regression, and all other regression problems\n"
      ],
      "metadata": {
        "id": "1U1KsdexU4VL"
      }
    },
    {
      "cell_type": "markdown",
      "source": [
        "$$\n",
        "\\begin{align}\n",
        "J(w,b) &= \\frac{1}{2m}\\sum_{i=1}^{m}\\left(\\hat{y}^{(i)} - y^{(i)}\\right)^{2} \\\\ \n",
        "&= \\frac{1}{2m}\\sum_{i=1}^{m}\\left(f_{w,b}\\left(x^{(i)}\\right) - y^{(i)}\\right)^{2}\n",
        "\\end{align}\n",
        "$$"
      ],
      "metadata": {
        "id": "rP0ONHEwVolq"
      }
    },
    {
      "cell_type": "markdown",
      "source": [
        "- We have still not arrived at our goal of finding values for $w$ and $b$ that minimize the cost function, but we will get there after a lecture to build intuition about what it means if $J(w,b)$ is large vs small"
      ],
      "metadata": {
        "id": "uTFMjDq4YI-a"
      }
    },
    {
      "cell_type": "markdown",
      "source": [
        "### 1.1.3.5 Cost function intuition"
      ],
      "metadata": {
        "id": "TIJZKIIFY-cd"
      }
    }
  ]
}