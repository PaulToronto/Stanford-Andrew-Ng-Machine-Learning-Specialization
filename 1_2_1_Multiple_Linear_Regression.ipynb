{
  "nbformat": 4,
  "nbformat_minor": 0,
  "metadata": {
    "colab": {
      "provenance": [],
      "toc_visible": true,
      "machine_shape": "hm",
      "authorship_tag": "ABX9TyMKBpxAs45CRGWDuyNfvwqK",
      "include_colab_link": true
    },
    "kernelspec": {
      "name": "python3",
      "display_name": "Python 3"
    },
    "language_info": {
      "name": "python"
    }
  },
  "cells": [
    {
      "cell_type": "markdown",
      "metadata": {
        "id": "view-in-github",
        "colab_type": "text"
      },
      "source": [
        "<a href=\"https://colab.research.google.com/github/PaulToronto/Stanford-Andrew-Ng-Machine-Learning-Specialization/blob/main/1_2_1_Multiple_Linear_Regression.ipynb\" target=\"_parent\"><img src=\"https://colab.research.google.com/assets/colab-badge.svg\" alt=\"Open In Colab\"/></a>"
      ]
    },
    {
      "cell_type": "markdown",
      "source": [
        "# 1.2.1 Multiple Linear Regression\n",
        "\n",
        "- **NOTE**: this should not be confused with **multivariate regression**\n",
        "    - **multiple** refers to more than one predictor variable but **multivariate** refers to more than one dependent variables\n",
        "    - not covered in this course"
      ],
      "metadata": {
        "id": "nh2Yq0NVVQ2g"
      }
    },
    {
      "cell_type": "code",
      "source": [
        "import pandas as pd\n",
        "import numpy as np"
      ],
      "metadata": {
        "id": "ZRe4YnjJWXAc"
      },
      "execution_count": 1,
      "outputs": []
    },
    {
      "cell_type": "markdown",
      "source": [
        "## 1.2.1.1 Multiple features"
      ],
      "metadata": {
        "id": "MQi1KrwbVfp_"
      }
    },
    {
      "cell_type": "markdown",
      "source": [
        "### Previously\n",
        "\n",
        "- A single feature, $x$ was used to predict the price of the house, $y$\n",
        "- $f_{w,b}\\left(x\\right) = wx + b$"
      ],
      "metadata": {
        "id": "vlijwX1RdSY6"
      }
    },
    {
      "cell_type": "code",
      "source": [
        "path = 'https://raw.githubusercontent.com/PaulToronto'\n",
        "path += '/Stanford-Andrew-Ng-Machine-Learning-Specialization/main'\n",
        "path += '/data/Portland.csv'\n",
        "\n",
        "portland = pd.read_csv(path, header=None, names=['Size', 'Bedrooms', 'Price'])\n",
        "portland['Price'] = portland['Price'] / 1000.0\n",
        "portland.shape"
      ],
      "metadata": {
        "colab": {
          "base_uri": "https://localhost:8080/"
        },
        "id": "eXBsay8AdVur",
        "outputId": "c078455d-44f6-40d1-ec83-a0a6591b3615"
      },
      "execution_count": 2,
      "outputs": [
        {
          "output_type": "execute_result",
          "data": {
            "text/plain": [
              "(47, 3)"
            ]
          },
          "metadata": {},
          "execution_count": 2
        }
      ]
    },
    {
      "cell_type": "code",
      "source": [
        "portland = portland.drop('Bedrooms', axis=1)\n",
        "portland.head()"
      ],
      "metadata": {
        "colab": {
          "base_uri": "https://localhost:8080/",
          "height": 206
        },
        "id": "P1jz717mZ2Oa",
        "outputId": "3e4d54dd-ae5c-48bd-ab9a-a09f3d5cd843"
      },
      "execution_count": 3,
      "outputs": [
        {
          "output_type": "execute_result",
          "data": {
            "text/plain": [
              "   Size  Price\n",
              "0  2104  399.9\n",
              "1  1600  329.9\n",
              "2  2400  369.0\n",
              "3  1416  232.0\n",
              "4  3000  539.9"
            ],
            "text/html": [
              "\n",
              "  <div id=\"df-f5983b8a-34da-46db-8198-799246f33429\" class=\"colab-df-container\">\n",
              "    <div>\n",
              "<style scoped>\n",
              "    .dataframe tbody tr th:only-of-type {\n",
              "        vertical-align: middle;\n",
              "    }\n",
              "\n",
              "    .dataframe tbody tr th {\n",
              "        vertical-align: top;\n",
              "    }\n",
              "\n",
              "    .dataframe thead th {\n",
              "        text-align: right;\n",
              "    }\n",
              "</style>\n",
              "<table border=\"1\" class=\"dataframe\">\n",
              "  <thead>\n",
              "    <tr style=\"text-align: right;\">\n",
              "      <th></th>\n",
              "      <th>Size</th>\n",
              "      <th>Price</th>\n",
              "    </tr>\n",
              "  </thead>\n",
              "  <tbody>\n",
              "    <tr>\n",
              "      <th>0</th>\n",
              "      <td>2104</td>\n",
              "      <td>399.9</td>\n",
              "    </tr>\n",
              "    <tr>\n",
              "      <th>1</th>\n",
              "      <td>1600</td>\n",
              "      <td>329.9</td>\n",
              "    </tr>\n",
              "    <tr>\n",
              "      <th>2</th>\n",
              "      <td>2400</td>\n",
              "      <td>369.0</td>\n",
              "    </tr>\n",
              "    <tr>\n",
              "      <th>3</th>\n",
              "      <td>1416</td>\n",
              "      <td>232.0</td>\n",
              "    </tr>\n",
              "    <tr>\n",
              "      <th>4</th>\n",
              "      <td>3000</td>\n",
              "      <td>539.9</td>\n",
              "    </tr>\n",
              "  </tbody>\n",
              "</table>\n",
              "</div>\n",
              "    <div class=\"colab-df-buttons\">\n",
              "\n",
              "  <div class=\"colab-df-container\">\n",
              "    <button class=\"colab-df-convert\" onclick=\"convertToInteractive('df-f5983b8a-34da-46db-8198-799246f33429')\"\n",
              "            title=\"Convert this dataframe to an interactive table.\"\n",
              "            style=\"display:none;\">\n",
              "\n",
              "  <svg xmlns=\"http://www.w3.org/2000/svg\" height=\"24px\" viewBox=\"0 -960 960 960\">\n",
              "    <path d=\"M120-120v-720h720v720H120Zm60-500h600v-160H180v160Zm220 220h160v-160H400v160Zm0 220h160v-160H400v160ZM180-400h160v-160H180v160Zm440 0h160v-160H620v160ZM180-180h160v-160H180v160Zm440 0h160v-160H620v160Z\"/>\n",
              "  </svg>\n",
              "    </button>\n",
              "\n",
              "  <style>\n",
              "    .colab-df-container {\n",
              "      display:flex;\n",
              "      gap: 12px;\n",
              "    }\n",
              "\n",
              "    .colab-df-convert {\n",
              "      background-color: #E8F0FE;\n",
              "      border: none;\n",
              "      border-radius: 50%;\n",
              "      cursor: pointer;\n",
              "      display: none;\n",
              "      fill: #1967D2;\n",
              "      height: 32px;\n",
              "      padding: 0 0 0 0;\n",
              "      width: 32px;\n",
              "    }\n",
              "\n",
              "    .colab-df-convert:hover {\n",
              "      background-color: #E2EBFA;\n",
              "      box-shadow: 0px 1px 2px rgba(60, 64, 67, 0.3), 0px 1px 3px 1px rgba(60, 64, 67, 0.15);\n",
              "      fill: #174EA6;\n",
              "    }\n",
              "\n",
              "    .colab-df-buttons div {\n",
              "      margin-bottom: 4px;\n",
              "    }\n",
              "\n",
              "    [theme=dark] .colab-df-convert {\n",
              "      background-color: #3B4455;\n",
              "      fill: #D2E3FC;\n",
              "    }\n",
              "\n",
              "    [theme=dark] .colab-df-convert:hover {\n",
              "      background-color: #434B5C;\n",
              "      box-shadow: 0px 1px 3px 1px rgba(0, 0, 0, 0.15);\n",
              "      filter: drop-shadow(0px 1px 2px rgba(0, 0, 0, 0.3));\n",
              "      fill: #FFFFFF;\n",
              "    }\n",
              "  </style>\n",
              "\n",
              "    <script>\n",
              "      const buttonEl =\n",
              "        document.querySelector('#df-f5983b8a-34da-46db-8198-799246f33429 button.colab-df-convert');\n",
              "      buttonEl.style.display =\n",
              "        google.colab.kernel.accessAllowed ? 'block' : 'none';\n",
              "\n",
              "      async function convertToInteractive(key) {\n",
              "        const element = document.querySelector('#df-f5983b8a-34da-46db-8198-799246f33429');\n",
              "        const dataTable =\n",
              "          await google.colab.kernel.invokeFunction('convertToInteractive',\n",
              "                                                    [key], {});\n",
              "        if (!dataTable) return;\n",
              "\n",
              "        const docLinkHtml = 'Like what you see? Visit the ' +\n",
              "          '<a target=\"_blank\" href=https://colab.research.google.com/notebooks/data_table.ipynb>data table notebook</a>'\n",
              "          + ' to learn more about interactive tables.';\n",
              "        element.innerHTML = '';\n",
              "        dataTable['output_type'] = 'display_data';\n",
              "        await google.colab.output.renderOutput(dataTable, element);\n",
              "        const docLink = document.createElement('div');\n",
              "        docLink.innerHTML = docLinkHtml;\n",
              "        element.appendChild(docLink);\n",
              "      }\n",
              "    </script>\n",
              "  </div>\n",
              "\n",
              "\n",
              "<div id=\"df-cae27a5f-c6dd-4bba-8c93-7908f08ffffb\">\n",
              "  <button class=\"colab-df-quickchart\" onclick=\"quickchart('df-cae27a5f-c6dd-4bba-8c93-7908f08ffffb')\"\n",
              "            title=\"Suggest charts.\"\n",
              "            style=\"display:none;\">\n",
              "\n",
              "<svg xmlns=\"http://www.w3.org/2000/svg\" height=\"24px\"viewBox=\"0 0 24 24\"\n",
              "     width=\"24px\">\n",
              "    <g>\n",
              "        <path d=\"M19 3H5c-1.1 0-2 .9-2 2v14c0 1.1.9 2 2 2h14c1.1 0 2-.9 2-2V5c0-1.1-.9-2-2-2zM9 17H7v-7h2v7zm4 0h-2V7h2v10zm4 0h-2v-4h2v4z\"/>\n",
              "    </g>\n",
              "</svg>\n",
              "  </button>\n",
              "\n",
              "<style>\n",
              "  .colab-df-quickchart {\n",
              "    background-color: #E8F0FE;\n",
              "    border: none;\n",
              "    border-radius: 50%;\n",
              "    cursor: pointer;\n",
              "    display: none;\n",
              "    fill: #1967D2;\n",
              "    height: 32px;\n",
              "    padding: 0 0 0 0;\n",
              "    width: 32px;\n",
              "  }\n",
              "\n",
              "  .colab-df-quickchart:hover {\n",
              "    background-color: #E2EBFA;\n",
              "    box-shadow: 0px 1px 2px rgba(60, 64, 67, 0.3), 0px 1px 3px 1px rgba(60, 64, 67, 0.15);\n",
              "    fill: #174EA6;\n",
              "  }\n",
              "\n",
              "  [theme=dark] .colab-df-quickchart {\n",
              "    background-color: #3B4455;\n",
              "    fill: #D2E3FC;\n",
              "  }\n",
              "\n",
              "  [theme=dark] .colab-df-quickchart:hover {\n",
              "    background-color: #434B5C;\n",
              "    box-shadow: 0px 1px 3px 1px rgba(0, 0, 0, 0.15);\n",
              "    filter: drop-shadow(0px 1px 2px rgba(0, 0, 0, 0.3));\n",
              "    fill: #FFFFFF;\n",
              "  }\n",
              "</style>\n",
              "\n",
              "  <script>\n",
              "    async function quickchart(key) {\n",
              "      const charts = await google.colab.kernel.invokeFunction(\n",
              "          'suggestCharts', [key], {});\n",
              "    }\n",
              "    (() => {\n",
              "      let quickchartButtonEl =\n",
              "        document.querySelector('#df-cae27a5f-c6dd-4bba-8c93-7908f08ffffb button');\n",
              "      quickchartButtonEl.style.display =\n",
              "        google.colab.kernel.accessAllowed ? 'block' : 'none';\n",
              "    })();\n",
              "  </script>\n",
              "</div>\n",
              "    </div>\n",
              "  </div>\n"
            ]
          },
          "metadata": {},
          "execution_count": 3
        }
      ]
    },
    {
      "cell_type": "markdown",
      "source": [
        "### Terminology for multiple regression\n",
        "\n",
        "- Now there are four features: $x_1$, $x_2$, $x_3$, and $x_4$\n",
        "- $x_j$ represents the $j^{th}$ feature: $j = 1\\dots4$\n",
        "- $n$ denotes the total number of features: $n = 4$\n",
        "- $\\vec{x}^{(i)}$ denotes the $i^{th}$ training example\n",
        "    - note that for multiple regression this is a vector\n",
        "        - more specifically, this is a row vector\n",
        "- $x_j^{(i)}$ is the value of feature $j$ in the $i^{th}$ training example"
      ],
      "metadata": {
        "id": "nL42lZzKe9Sm"
      }
    },
    {
      "cell_type": "code",
      "execution_count": 4,
      "metadata": {
        "id": "cxIP97cwTjD-",
        "colab": {
          "base_uri": "https://localhost:8080/"
        },
        "outputId": "11f1e0b9-7002-4d2b-d09d-881ed2b8991a"
      },
      "outputs": [
        {
          "output_type": "execute_result",
          "data": {
            "text/plain": [
              "(100, 5)"
            ]
          },
          "metadata": {},
          "execution_count": 4
        }
      ],
      "source": [
        "path = 'https://raw.githubusercontent.com/PaulToronto'\n",
        "path += '/Stanford-Andrew-Ng-Machine-Learning-Specialization/main'\n",
        "path += '/data/houses.csv'\n",
        "\n",
        "houses = pd.read_csv(path,\n",
        "                     header=None,\n",
        "                     names=['Size', 'Bedrooms', 'Floors', 'YearsOld', 'Price'],\n",
        "                     dtype={'Size':'int',\n",
        "                            'Bedrooms': 'int',\n",
        "                            'Floors': 'int',\n",
        "                            'YearsOld':'int',\n",
        "                            'Price': 'double'})\n",
        "houses.shape"
      ]
    },
    {
      "cell_type": "code",
      "source": [
        "houses.head()"
      ],
      "metadata": {
        "colab": {
          "base_uri": "https://localhost:8080/",
          "height": 206
        },
        "id": "H2GE3PgNWg0Z",
        "outputId": "7d5a5c6e-ab77-4a29-d557-d684597514cc"
      },
      "execution_count": 5,
      "outputs": [
        {
          "output_type": "execute_result",
          "data": {
            "text/plain": [
              "   Size  Bedrooms  Floors  YearsOld  Price\n",
              "0   952         2       1        65  271.5\n",
              "1  1244         3       1        64  300.0\n",
              "2  1947         3       2        17  509.8\n",
              "3  1725         3       2        42  394.0\n",
              "4  1959         3       2        15  540.0"
            ],
            "text/html": [
              "\n",
              "  <div id=\"df-124050cb-657c-41d7-b401-1005849ada19\" class=\"colab-df-container\">\n",
              "    <div>\n",
              "<style scoped>\n",
              "    .dataframe tbody tr th:only-of-type {\n",
              "        vertical-align: middle;\n",
              "    }\n",
              "\n",
              "    .dataframe tbody tr th {\n",
              "        vertical-align: top;\n",
              "    }\n",
              "\n",
              "    .dataframe thead th {\n",
              "        text-align: right;\n",
              "    }\n",
              "</style>\n",
              "<table border=\"1\" class=\"dataframe\">\n",
              "  <thead>\n",
              "    <tr style=\"text-align: right;\">\n",
              "      <th></th>\n",
              "      <th>Size</th>\n",
              "      <th>Bedrooms</th>\n",
              "      <th>Floors</th>\n",
              "      <th>YearsOld</th>\n",
              "      <th>Price</th>\n",
              "    </tr>\n",
              "  </thead>\n",
              "  <tbody>\n",
              "    <tr>\n",
              "      <th>0</th>\n",
              "      <td>952</td>\n",
              "      <td>2</td>\n",
              "      <td>1</td>\n",
              "      <td>65</td>\n",
              "      <td>271.5</td>\n",
              "    </tr>\n",
              "    <tr>\n",
              "      <th>1</th>\n",
              "      <td>1244</td>\n",
              "      <td>3</td>\n",
              "      <td>1</td>\n",
              "      <td>64</td>\n",
              "      <td>300.0</td>\n",
              "    </tr>\n",
              "    <tr>\n",
              "      <th>2</th>\n",
              "      <td>1947</td>\n",
              "      <td>3</td>\n",
              "      <td>2</td>\n",
              "      <td>17</td>\n",
              "      <td>509.8</td>\n",
              "    </tr>\n",
              "    <tr>\n",
              "      <th>3</th>\n",
              "      <td>1725</td>\n",
              "      <td>3</td>\n",
              "      <td>2</td>\n",
              "      <td>42</td>\n",
              "      <td>394.0</td>\n",
              "    </tr>\n",
              "    <tr>\n",
              "      <th>4</th>\n",
              "      <td>1959</td>\n",
              "      <td>3</td>\n",
              "      <td>2</td>\n",
              "      <td>15</td>\n",
              "      <td>540.0</td>\n",
              "    </tr>\n",
              "  </tbody>\n",
              "</table>\n",
              "</div>\n",
              "    <div class=\"colab-df-buttons\">\n",
              "\n",
              "  <div class=\"colab-df-container\">\n",
              "    <button class=\"colab-df-convert\" onclick=\"convertToInteractive('df-124050cb-657c-41d7-b401-1005849ada19')\"\n",
              "            title=\"Convert this dataframe to an interactive table.\"\n",
              "            style=\"display:none;\">\n",
              "\n",
              "  <svg xmlns=\"http://www.w3.org/2000/svg\" height=\"24px\" viewBox=\"0 -960 960 960\">\n",
              "    <path d=\"M120-120v-720h720v720H120Zm60-500h600v-160H180v160Zm220 220h160v-160H400v160Zm0 220h160v-160H400v160ZM180-400h160v-160H180v160Zm440 0h160v-160H620v160ZM180-180h160v-160H180v160Zm440 0h160v-160H620v160Z\"/>\n",
              "  </svg>\n",
              "    </button>\n",
              "\n",
              "  <style>\n",
              "    .colab-df-container {\n",
              "      display:flex;\n",
              "      gap: 12px;\n",
              "    }\n",
              "\n",
              "    .colab-df-convert {\n",
              "      background-color: #E8F0FE;\n",
              "      border: none;\n",
              "      border-radius: 50%;\n",
              "      cursor: pointer;\n",
              "      display: none;\n",
              "      fill: #1967D2;\n",
              "      height: 32px;\n",
              "      padding: 0 0 0 0;\n",
              "      width: 32px;\n",
              "    }\n",
              "\n",
              "    .colab-df-convert:hover {\n",
              "      background-color: #E2EBFA;\n",
              "      box-shadow: 0px 1px 2px rgba(60, 64, 67, 0.3), 0px 1px 3px 1px rgba(60, 64, 67, 0.15);\n",
              "      fill: #174EA6;\n",
              "    }\n",
              "\n",
              "    .colab-df-buttons div {\n",
              "      margin-bottom: 4px;\n",
              "    }\n",
              "\n",
              "    [theme=dark] .colab-df-convert {\n",
              "      background-color: #3B4455;\n",
              "      fill: #D2E3FC;\n",
              "    }\n",
              "\n",
              "    [theme=dark] .colab-df-convert:hover {\n",
              "      background-color: #434B5C;\n",
              "      box-shadow: 0px 1px 3px 1px rgba(0, 0, 0, 0.15);\n",
              "      filter: drop-shadow(0px 1px 2px rgba(0, 0, 0, 0.3));\n",
              "      fill: #FFFFFF;\n",
              "    }\n",
              "  </style>\n",
              "\n",
              "    <script>\n",
              "      const buttonEl =\n",
              "        document.querySelector('#df-124050cb-657c-41d7-b401-1005849ada19 button.colab-df-convert');\n",
              "      buttonEl.style.display =\n",
              "        google.colab.kernel.accessAllowed ? 'block' : 'none';\n",
              "\n",
              "      async function convertToInteractive(key) {\n",
              "        const element = document.querySelector('#df-124050cb-657c-41d7-b401-1005849ada19');\n",
              "        const dataTable =\n",
              "          await google.colab.kernel.invokeFunction('convertToInteractive',\n",
              "                                                    [key], {});\n",
              "        if (!dataTable) return;\n",
              "\n",
              "        const docLinkHtml = 'Like what you see? Visit the ' +\n",
              "          '<a target=\"_blank\" href=https://colab.research.google.com/notebooks/data_table.ipynb>data table notebook</a>'\n",
              "          + ' to learn more about interactive tables.';\n",
              "        element.innerHTML = '';\n",
              "        dataTable['output_type'] = 'display_data';\n",
              "        await google.colab.output.renderOutput(dataTable, element);\n",
              "        const docLink = document.createElement('div');\n",
              "        docLink.innerHTML = docLinkHtml;\n",
              "        element.appendChild(docLink);\n",
              "      }\n",
              "    </script>\n",
              "  </div>\n",
              "\n",
              "\n",
              "<div id=\"df-95c9be35-c5a7-4b8a-88e8-0da12e02b8c7\">\n",
              "  <button class=\"colab-df-quickchart\" onclick=\"quickchart('df-95c9be35-c5a7-4b8a-88e8-0da12e02b8c7')\"\n",
              "            title=\"Suggest charts.\"\n",
              "            style=\"display:none;\">\n",
              "\n",
              "<svg xmlns=\"http://www.w3.org/2000/svg\" height=\"24px\"viewBox=\"0 0 24 24\"\n",
              "     width=\"24px\">\n",
              "    <g>\n",
              "        <path d=\"M19 3H5c-1.1 0-2 .9-2 2v14c0 1.1.9 2 2 2h14c1.1 0 2-.9 2-2V5c0-1.1-.9-2-2-2zM9 17H7v-7h2v7zm4 0h-2V7h2v10zm4 0h-2v-4h2v4z\"/>\n",
              "    </g>\n",
              "</svg>\n",
              "  </button>\n",
              "\n",
              "<style>\n",
              "  .colab-df-quickchart {\n",
              "    background-color: #E8F0FE;\n",
              "    border: none;\n",
              "    border-radius: 50%;\n",
              "    cursor: pointer;\n",
              "    display: none;\n",
              "    fill: #1967D2;\n",
              "    height: 32px;\n",
              "    padding: 0 0 0 0;\n",
              "    width: 32px;\n",
              "  }\n",
              "\n",
              "  .colab-df-quickchart:hover {\n",
              "    background-color: #E2EBFA;\n",
              "    box-shadow: 0px 1px 2px rgba(60, 64, 67, 0.3), 0px 1px 3px 1px rgba(60, 64, 67, 0.15);\n",
              "    fill: #174EA6;\n",
              "  }\n",
              "\n",
              "  [theme=dark] .colab-df-quickchart {\n",
              "    background-color: #3B4455;\n",
              "    fill: #D2E3FC;\n",
              "  }\n",
              "\n",
              "  [theme=dark] .colab-df-quickchart:hover {\n",
              "    background-color: #434B5C;\n",
              "    box-shadow: 0px 1px 3px 1px rgba(0, 0, 0, 0.15);\n",
              "    filter: drop-shadow(0px 1px 2px rgba(0, 0, 0, 0.3));\n",
              "    fill: #FFFFFF;\n",
              "  }\n",
              "</style>\n",
              "\n",
              "  <script>\n",
              "    async function quickchart(key) {\n",
              "      const charts = await google.colab.kernel.invokeFunction(\n",
              "          'suggestCharts', [key], {});\n",
              "    }\n",
              "    (() => {\n",
              "      let quickchartButtonEl =\n",
              "        document.querySelector('#df-95c9be35-c5a7-4b8a-88e8-0da12e02b8c7 button');\n",
              "      quickchartButtonEl.style.display =\n",
              "        google.colab.kernel.accessAllowed ? 'block' : 'none';\n",
              "    })();\n",
              "  </script>\n",
              "</div>\n",
              "    </div>\n",
              "  </div>\n"
            ]
          },
          "metadata": {},
          "execution_count": 5
        }
      ]
    },
    {
      "cell_type": "markdown",
      "source": [
        "### Model\n",
        "\n",
        "- Previously: $f_{w,b}\\left(x\\right) = wx + b$\n",
        "- With multiple regression: $f_{\\vec{w},b}\\left(\\vec{x}\\right) = w_1x_1 + w_2x_2 + w_3x_3 \\dots + w_nx_n + b$"
      ],
      "metadata": {
        "id": "7Yc7xSRGlKJP"
      }
    },
    {
      "cell_type": "markdown",
      "source": [
        "#### In our example:\n",
        "\n",
        "- $x_1$ denotes the `Size`\n",
        "- $x_2$ denotes the `Bedrooms`\n",
        "- $x_3$ denotes the `Floors`\n",
        "- $x_4$ denotes the `YearsOld`\n",
        "\n",
        "Suppose we have trained the model and found the parameters:\n",
        "\n",
        "$f_{w,b}\\left(x\\right) = 0.1x_1 + 4x_2 + 10x_3 - 2x_4 + 80$\n",
        "\n",
        "#### How might we interpret these parameters?\n",
        "\n",
        "- First note that the price is in 1000s of dollars\n",
        "- $b = 80$ where the unit is 1000s of dollars\n",
        "    - This can be thought of as the *base price* of a house with 0 square feet, 0 bedrooms, 0 floors and 0 years old\n",
        "- $0.1x$\n",
        "    - The price increases by $0.1 \\times 1000 = 100$ dollars for each additional square foot\n",
        "- $4x_2$\n",
        "    - The price increases by $4 \\times 1000 = 4000$ dollars for each additional bedroom\n",
        "- $10x_3$\n",
        "    - The prices increases by $10 \\times 1000 = 10000$ dollars for each additional floor\n",
        "- $-2x_4$\n",
        "    - The price **decreases** by $2 \\times 1000 = 2000$ dollars for each year added to the age of the house\n"
      ],
      "metadata": {
        "id": "NP1087ixm4wy"
      }
    },
    {
      "cell_type": "markdown",
      "source": [
        "### Notation\n",
        "\n",
        "- **The model**: $f_{\\vec{w},b}\\left(\\vec{x}\\right) = w_1x_1 + w_2x_x2 + w_3x_3 \\dots + w_nx_n + b$\n",
        "- $\\vec{w} = \\left[w_1 \\ w_2 \\ w_3 \\dots w_n\\right]$\n",
        "- $b$ is a scalar\n",
        "    - $\\vec{w}$ together with $b$ are the **parameters of the model**\n",
        "- $\\vec{x} = \\left[x_1 \\ x_2 \\ x_3 \\dots x_n\\right]$\n",
        "    - $\\vec{x}$ contains the **features of the model**"
      ],
      "metadata": {
        "id": "GnBTXuOdqdWu"
      }
    },
    {
      "cell_type": "markdown",
      "source": [
        "### Model: more succinctly\n",
        "\n",
        "- the dot ($\\cdot$) in the following formula is for the **dot product**"
      ],
      "metadata": {
        "id": "I25bBEsjwfPb"
      }
    },
    {
      "cell_type": "markdown",
      "source": [
        "$$\n",
        "f_{\\vec{w},b}\\left(\\vec{x}\\right) = \\vec{w} \\cdot \\vec{x} + b\n",
        "$$"
      ],
      "metadata": {
        "id": "5oIIdiNYwqq1"
      }
    },
    {
      "cell_type": "markdown",
      "source": [
        "## 1.2.1.2 Vectorization\n",
        "\n",
        "Benefiits of vectorization:\n",
        "\n",
        "1. Makes your code more compact\n",
        "2. Make your code run more efficiently\n",
        "3. Allows you to make use of modern numerical linear algebra libraries\n",
        "4. Might even allow you to make use of GPU hardware"
      ],
      "metadata": {
        "id": "DMpZPrnZzRnz"
      }
    },
    {
      "cell_type": "markdown",
      "source": [
        "### Example\n",
        "\n",
        "Note that in linear algebra, the count starts from 1. In Python the count starts from 0.\n",
        "\n",
        "- $\\vec{w} = \\left[w_1 \\ w_2 \\ w_3\\right]$\n",
        "- $b$ is a scalar\n",
        "- $\\vec{x} = \\left[x_1 \\ x_2 \\ x_3\\right]$\n",
        "- So, $n = 3$\n",
        "\n",
        "Be careful. In linear algebra, counting starts from 1, but in Python, it starts from 0.\n",
        "\n",
        "Here it is in Python code:"
      ],
      "metadata": {
        "id": "ikd2Bsfp1ozy"
      }
    },
    {
      "cell_type": "code",
      "source": [
        "w = np.array([1.0, 2.5, -3.3])\n",
        "b = 4\n",
        "x = np.array([10, 20, 30])\n",
        "n = len(w)\n",
        "\n",
        "print('w:', w)\n",
        "print(' w1:', w[0], ' w2:', w[1], ' w3:', w[2], '\\n')\n",
        "\n",
        "print('b:', b, '\\n')\n",
        "\n",
        "print('x:', x)\n",
        "print(' x1:', x[0], ' x2:', x[1], ' x3:', w[2], '\\n')\n",
        "\n",
        "print('n:', n, '\\n')"
      ],
      "metadata": {
        "colab": {
          "base_uri": "https://localhost:8080/"
        },
        "id": "THSo3JyT2y9y",
        "outputId": "c39ab3a7-e8da-45cb-a08c-75201fb5e128"
      },
      "execution_count": 6,
      "outputs": [
        {
          "output_type": "stream",
          "name": "stdout",
          "text": [
            "w: [ 1.   2.5 -3.3]\n",
            " w1: 1.0  w2: 2.5  w3: -3.3 \n",
            "\n",
            "b: 4 \n",
            "\n",
            "x: [10 20 30]\n",
            " x1: 10  x2: 20  x3: -3.3 \n",
            "\n",
            "n: 3 \n",
            "\n"
          ]
        }
      ]
    },
    {
      "cell_type": "markdown",
      "source": [
        "#### Without vectorization\n",
        "\n",
        "$f_{\\vec{w},b} = w_1x_1 + w_2x_2 + w_3x_3 + b$"
      ],
      "metadata": {
        "id": "g6p6MLvH7M4C"
      }
    },
    {
      "cell_type": "code",
      "source": [
        "%%timeit -r7 -n1000000\n",
        "f = w[0] * x[0] + \\\n",
        "    w[1] * x[1] + \\\n",
        "    w[2] * x[2] + b"
      ],
      "metadata": {
        "colab": {
          "base_uri": "https://localhost:8080/"
        },
        "id": "YXMJrUsd7Ty3",
        "outputId": "4a977bdc-c787-44c6-bcb2-a7c9bd44e889"
      },
      "execution_count": 7,
      "outputs": [
        {
          "output_type": "stream",
          "name": "stdout",
          "text": [
            "1.31 µs ± 29.4 ns per loop (mean ± std. dev. of 7 runs, 1000000 loops each)\n"
          ]
        }
      ]
    },
    {
      "cell_type": "markdown",
      "source": [
        "#### Without vectorizaaion using a `for` loop\n",
        "\n",
        "$$\n",
        "f_{\\vec{w},b} = \\left(\\sum_{j=1}^{n}w_jx_j\\right) + b\n",
        "$$"
      ],
      "metadata": {
        "id": "OQlMFy5D8S7W"
      }
    },
    {
      "cell_type": "code",
      "source": [
        "%%timeit -r7 -n1000000\n",
        "f = 0\n",
        "for j in range(0, n):\n",
        "    f += w[j] * x[j]\n",
        "f += b"
      ],
      "metadata": {
        "colab": {
          "base_uri": "https://localhost:8080/"
        },
        "id": "-XMCa_gc8ZB8",
        "outputId": "4276ba0a-423d-4f80-e810-1ec59e6461c5"
      },
      "execution_count": 8,
      "outputs": [
        {
          "output_type": "stream",
          "name": "stdout",
          "text": [
            "1.64 µs ± 18.3 ns per loop (mean ± std. dev. of 7 runs, 1000000 loops each)\n"
          ]
        }
      ]
    },
    {
      "cell_type": "markdown",
      "source": [
        "#### With vectorization\n",
        "\n",
        "- This code only seems to run better than the two previous code cells when using a GPU\n",
        "\n",
        "$$\n",
        "f_{\\vec{w},b} = \\vec{w} \\cdot \\vec{x} + b\n",
        "$$"
      ],
      "metadata": {
        "id": "_VhCfVOD_pt-"
      }
    },
    {
      "cell_type": "code",
      "source": [
        "%%timeit -r7 -n1000000\n",
        "f = w.dot(x) + b"
      ],
      "metadata": {
        "colab": {
          "base_uri": "https://localhost:8080/"
        },
        "id": "TFKJIAdHIgw4",
        "outputId": "7f87c82d-9ac1-4c86-c1b2-acc6bfde0ca6"
      },
      "execution_count": 9,
      "outputs": [
        {
          "output_type": "stream",
          "name": "stdout",
          "text": [
            "1.28 µs ± 6.5 ns per loop (mean ± std. dev. of 7 runs, 1000000 loops each)\n"
          ]
        }
      ]
    },
    {
      "cell_type": "code",
      "source": [
        "%%timeit -r7 -n1000000\n",
        "f = np.dot(w, x) + b"
      ],
      "metadata": {
        "colab": {
          "base_uri": "https://localhost:8080/"
        },
        "id": "rFYxkPkK_vfR",
        "outputId": "5deb0089-ba30-4511-dc78-d79ff79e011e"
      },
      "execution_count": 10,
      "outputs": [
        {
          "output_type": "stream",
          "name": "stdout",
          "text": [
            "1.96 µs ± 22.1 ns per loop (mean ± std. dev. of 7 runs, 1000000 loops each)\n"
          ]
        }
      ]
    },
    {
      "cell_type": "code",
      "source": [
        "%%timeit -r7 -n1000000\n",
        "f = w @ x + b"
      ],
      "metadata": {
        "colab": {
          "base_uri": "https://localhost:8080/"
        },
        "id": "I4yGnPisK4Uq",
        "outputId": "078df8e8-635f-4e87-c0e8-9a24100cf549"
      },
      "execution_count": 11,
      "outputs": [
        {
          "output_type": "stream",
          "name": "stdout",
          "text": [
            "2.03 µs ± 45.9 ns per loop (mean ± std. dev. of 7 runs, 1000000 loops each)\n"
          ]
        }
      ]
    },
    {
      "cell_type": "markdown",
      "source": [
        "### Careful, don't use `*`\n",
        "\n",
        "- `*` does element-wise multiplication"
      ],
      "metadata": {
        "id": "HGfjuRtFLoHm"
      }
    },
    {
      "cell_type": "code",
      "source": [
        "# correct\n",
        "w.dot(x), w @ x"
      ],
      "metadata": {
        "colab": {
          "base_uri": "https://localhost:8080/"
        },
        "id": "ZRwPJpy2KfY6",
        "outputId": "0947a71c-6ae7-40c5-a907-62e2bc097565"
      },
      "execution_count": 12,
      "outputs": [
        {
          "output_type": "execute_result",
          "data": {
            "text/plain": [
              "(-39.0, -39.0)"
            ]
          },
          "metadata": {},
          "execution_count": 12
        }
      ]
    },
    {
      "cell_type": "code",
      "source": [
        "# incorrect\n",
        "w * x"
      ],
      "metadata": {
        "colab": {
          "base_uri": "https://localhost:8080/"
        },
        "id": "GmZBPrc8MKIS",
        "outputId": "f12cb071-34c0-49db-a9a4-1f4b7c61feaa"
      },
      "execution_count": 13,
      "outputs": [
        {
          "output_type": "execute_result",
          "data": {
            "text/plain": [
              "array([ 10.,  50., -99.])"
            ]
          },
          "metadata": {},
          "execution_count": 13
        }
      ]
    },
    {
      "cell_type": "markdown",
      "source": [
        "### How does vectorization help with Gradient Descent?"
      ],
      "metadata": {
        "id": "Rc5TfKmMQA-9"
      }
    },
    {
      "cell_type": "markdown",
      "source": [
        "Let $\\vec{w}$ be the vector for the weights and let $\\vec{d}$ be the vector for the derivatives. Suppose there are $n = 16$ features. Let $b$ be the intercept.\n",
        "\n",
        "$$\n",
        "\\begin{align}\n",
        "\\vec{w} &= \\begin{pmatrix} w_1 & w_2 & \\dots & w_{16}\\end{pmatrix} \\\\\n",
        "\\vec{d} &= \\begin{pmatrix} d_1 & d_2 & \\dots & d_{16}\\end{pmatrix}\n",
        "\\end{align}\n",
        "$$\n",
        "\n",
        "Suppose the values for $vec{w}$ and $\\vec{d}$ are in `numpy arrays`.\n",
        "\n",
        "Compute:\n",
        "\n",
        "$$\n",
        "w_j = w_j - \\alpha d_j \\text{ for } j = 1 \\dots 16\n",
        "$$\n",
        "\n",
        "Code without vectorization (ignoring $b$):\n",
        "\n",
        "$$\n",
        "\\begin{align}\n",
        "w_1 &= w_1 - \\alpha d_1 \\\\\n",
        "w_2 &= w_2 - \\alpha d_2 \\\\\n",
        "& \\vdots \\\\\n",
        "w_{16} &= w_{16} - \\alpha d_{16}\n",
        "\\end{align}\n",
        "$$\n",
        "\n",
        "```python\n",
        "for j in range(0, 16):\n",
        "    w[j] = w[j] - alpha * d[j]\n",
        "```\n",
        "\n",
        "Code with vectorization (ignoring $b$):\n",
        "\n",
        "$$\n",
        "\\vec{w} = \\vec{w} - \\alpha\\vec{d}\n",
        "$$\n",
        "\n",
        "```python\n",
        "w = w - alpha * d\n",
        "```"
      ],
      "metadata": {
        "id": "zTU7Spo1QHOK"
      }
    },
    {
      "cell_type": "markdown",
      "source": [
        "## 1.2.1.3 Lab - Python, Numpy and Vectorization\n",
        "\n",
        "https://colab.research.google.com/drive/1FuQouLAiKi4487ELObVYfBX5r-e2L96V#scrollTo=6qQadVxTW-hn\n",
        "\n"
      ],
      "metadata": {
        "id": "2oAeeaR4WY8r"
      }
    },
    {
      "cell_type": "markdown",
      "source": [
        "## 1.2.1.4 Gradient descent for multiple linear regression"
      ],
      "metadata": {
        "id": "188tQT8tXf4_"
      }
    },
    {
      "cell_type": "markdown",
      "source": [
        "### Vector Notation\n",
        "\n",
        "**Parameters:** $\\vec{w} = \\begin{bmatrix}w_1 & w_2 & \\cdots & w_n\\end{bmatrix}$ and $b$\n",
        "\n",
        "**Model:** $f_{\\vec{w}, b} =  \\vec{w}\\cdot\\vec{x} + b$\n",
        "\n",
        "**Cost function:** $J(\\vec{w}, b)$\n",
        "\n",
        "**Gradient descent:**\n",
        "\n",
        "repeat:\n",
        "{\n",
        "$$\n",
        "\\begin{align} \\\\\n",
        "w_1 &= w_1 - \\alpha\\frac{\\partial}{\\partial w_1}J(\\vec{w}, b) \\\\\n",
        "\\vdots \\\\\n",
        "w_n &= w_n - \\alpha\\frac{\\partial}{\\partial w_n}J(\\vec{w}, b) \\\\\n",
        "b &= b - \\alpha\\frac{\\partial}{\\partial b}J(\\vec{w}, b)\n",
        "\\end{align}\n",
        "$$\n",
        "}\n",
        "\n"
      ],
      "metadata": {
        "id": "jHRencdzEEdM"
      }
    },
    {
      "cell_type": "markdown",
      "source": [
        "### Gradient Descent\n",
        "\n",
        "$n$ features where $(n \\ge 2)$\n",
        "\n",
        "repeat:\n",
        "{\n",
        "$$\n",
        "\\begin{align} \\\\\n",
        "w_1 &= w_1 - \\alpha\\frac{1}{m}\\sum_{i=1}^{m}{\\left(f_{\\vec{w},b}\\left(\\vec{x}^{(i)}\\right) - y^{(i)}\\right)x_{1}^{(i)}} \\\\\n",
        "\\vdots \\\\\n",
        "w_n &= w_n - \\alpha\\frac{1}{m}\\sum_{i=1}^{m}{\\left(f_{\\vec{w},b}\\left(\\vec{x}^{(i)}\\right) - y^{(i)}\\right)x_{n}^{(i)}} \\\\\n",
        "b &= b - \\alpha\\frac{1}{m}\\sum_{i=1}^{m}{\\left(f_{\\vec{w},b}\\left(\\vec{x}^{(i)}\\right) - y^{(i)}\\right)}\n",
        "\\end{align}\n",
        "$$\n",
        "\n",
        "simultaneously update $w_j (\\text{for } j=1,\\dots,n) , b$\n",
        "\n",
        "}"
      ],
      "metadata": {
        "id": "Rr2iLqlmT97a"
      }
    },
    {
      "cell_type": "markdown",
      "source": [
        "### An alternative to gradient descent: Normal equation\n",
        "\n",
        "- The **normal equation** can be used to solve $w,b$ without iterations\n",
        "- It only works for **linear regression**\n",
        "- Disadvantages:\n",
        "    - Does not generalize to other learning algorithms\n",
        "        - not for logistic regression\n",
        "        - not for neural networks\n",
        "    - Slow when number of features is large (> 10,000)\n",
        "- Normal equation method may be used in machine learning libraries that implement linear regression\n",
        "- Gradient descent is the recommended method for finding parameters $w,b$"
      ],
      "metadata": {
        "id": "Fp-UkzNTUt71"
      }
    },
    {
      "cell_type": "markdown",
      "source": [
        "## 1.2.1.4 Lab - Multiple linear regression\n",
        "\n",
        "https://colab.research.google.com/drive/1ocSQc912KUqmhHrAt3vF3Fw2BK3V9rk7#scrollTo=jwDKphOAYrmy"
      ],
      "metadata": {
        "id": "XjghPbPHYZDg"
      }
    }
  ]
}