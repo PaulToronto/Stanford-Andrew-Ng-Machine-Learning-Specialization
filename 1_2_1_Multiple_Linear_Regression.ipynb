{
  "nbformat": 4,
  "nbformat_minor": 0,
  "metadata": {
    "colab": {
      "provenance": [],
      "toc_visible": true,
      "authorship_tag": "ABX9TyN9jBZw2SIsmhf/iRFkSfwQ",
      "include_colab_link": true
    },
    "kernelspec": {
      "name": "python3",
      "display_name": "Python 3"
    },
    "language_info": {
      "name": "python"
    },
    "gpuClass": "standard"
  },
  "cells": [
    {
      "cell_type": "markdown",
      "metadata": {
        "id": "view-in-github",
        "colab_type": "text"
      },
      "source": [
        "<a href=\"https://colab.research.google.com/github/PaulToronto/Stanford-Andrew-Ng-Machine-Learning-Specialization/blob/main/1_2_1_Multiple_Linear_Regression.ipynb\" target=\"_parent\"><img src=\"https://colab.research.google.com/assets/colab-badge.svg\" alt=\"Open In Colab\"/></a>"
      ]
    },
    {
      "cell_type": "markdown",
      "source": [
        "# 1.2.1 Multiple Linear Regression\n",
        "\n",
        "- **NOTE**: this should not be confused with **multivariate regression**\n",
        "    - **multiple** refers to more than one predictor variables but **multivariate** refers to more than one dependent variables\n",
        "    - not covered in this course"
      ],
      "metadata": {
        "id": "nh2Yq0NVVQ2g"
      }
    },
    {
      "cell_type": "code",
      "source": [
        "import pandas as pd\n",
        "import numpy as np"
      ],
      "metadata": {
        "id": "ZRe4YnjJWXAc"
      },
      "execution_count": 1,
      "outputs": []
    },
    {
      "cell_type": "markdown",
      "source": [
        "## 1.2.1.1 Multiple features"
      ],
      "metadata": {
        "id": "MQi1KrwbVfp_"
      }
    },
    {
      "cell_type": "markdown",
      "source": [
        "### Previously\n",
        "\n",
        "- A single feature, $x$ was used to predict the price of the house, $y$\n",
        "- $f_{w,b}\\left(x\\right) = wx + b$"
      ],
      "metadata": {
        "id": "vlijwX1RdSY6"
      }
    },
    {
      "cell_type": "code",
      "source": [
        "path = 'https://raw.githubusercontent.com/PaulToronto'\n",
        "path += '/Stanford-Andrew-Ng-Machine-Learning-Specialization/main'\n",
        "path += '/data/Portland.csv'\n",
        "\n",
        "portland = pd.read_csv(path, header=None, names=['Size', 'Price'])\n",
        "portland['Price'] = portland['Price'] / 1000.0\n",
        "portland.head()"
      ],
      "metadata": {
        "colab": {
          "base_uri": "https://localhost:8080/",
          "height": 206
        },
        "id": "eXBsay8AdVur",
        "outputId": "b652be29-a135-4e3a-df44-1e1b4ea7721e"
      },
      "execution_count": 2,
      "outputs": [
        {
          "output_type": "execute_result",
          "data": {
            "text/plain": [
              "      Size  Price\n",
              "2104     3  399.9\n",
              "1600     3  329.9\n",
              "2400     3  369.0\n",
              "1416     2  232.0\n",
              "3000     4  539.9"
            ],
            "text/html": [
              "\n",
              "  <div id=\"df-92055b33-4285-41ab-a6a5-e94bc793ed61\">\n",
              "    <div class=\"colab-df-container\">\n",
              "      <div>\n",
              "<style scoped>\n",
              "    .dataframe tbody tr th:only-of-type {\n",
              "        vertical-align: middle;\n",
              "    }\n",
              "\n",
              "    .dataframe tbody tr th {\n",
              "        vertical-align: top;\n",
              "    }\n",
              "\n",
              "    .dataframe thead th {\n",
              "        text-align: right;\n",
              "    }\n",
              "</style>\n",
              "<table border=\"1\" class=\"dataframe\">\n",
              "  <thead>\n",
              "    <tr style=\"text-align: right;\">\n",
              "      <th></th>\n",
              "      <th>Size</th>\n",
              "      <th>Price</th>\n",
              "    </tr>\n",
              "  </thead>\n",
              "  <tbody>\n",
              "    <tr>\n",
              "      <th>2104</th>\n",
              "      <td>3</td>\n",
              "      <td>399.9</td>\n",
              "    </tr>\n",
              "    <tr>\n",
              "      <th>1600</th>\n",
              "      <td>3</td>\n",
              "      <td>329.9</td>\n",
              "    </tr>\n",
              "    <tr>\n",
              "      <th>2400</th>\n",
              "      <td>3</td>\n",
              "      <td>369.0</td>\n",
              "    </tr>\n",
              "    <tr>\n",
              "      <th>1416</th>\n",
              "      <td>2</td>\n",
              "      <td>232.0</td>\n",
              "    </tr>\n",
              "    <tr>\n",
              "      <th>3000</th>\n",
              "      <td>4</td>\n",
              "      <td>539.9</td>\n",
              "    </tr>\n",
              "  </tbody>\n",
              "</table>\n",
              "</div>\n",
              "      <button class=\"colab-df-convert\" onclick=\"convertToInteractive('df-92055b33-4285-41ab-a6a5-e94bc793ed61')\"\n",
              "              title=\"Convert this dataframe to an interactive table.\"\n",
              "              style=\"display:none;\">\n",
              "        \n",
              "  <svg xmlns=\"http://www.w3.org/2000/svg\" height=\"24px\"viewBox=\"0 0 24 24\"\n",
              "       width=\"24px\">\n",
              "    <path d=\"M0 0h24v24H0V0z\" fill=\"none\"/>\n",
              "    <path d=\"M18.56 5.44l.94 2.06.94-2.06 2.06-.94-2.06-.94-.94-2.06-.94 2.06-2.06.94zm-11 1L8.5 8.5l.94-2.06 2.06-.94-2.06-.94L8.5 2.5l-.94 2.06-2.06.94zm10 10l.94 2.06.94-2.06 2.06-.94-2.06-.94-.94-2.06-.94 2.06-2.06.94z\"/><path d=\"M17.41 7.96l-1.37-1.37c-.4-.4-.92-.59-1.43-.59-.52 0-1.04.2-1.43.59L10.3 9.45l-7.72 7.72c-.78.78-.78 2.05 0 2.83L4 21.41c.39.39.9.59 1.41.59.51 0 1.02-.2 1.41-.59l7.78-7.78 2.81-2.81c.8-.78.8-2.07 0-2.86zM5.41 20L4 18.59l7.72-7.72 1.47 1.35L5.41 20z\"/>\n",
              "  </svg>\n",
              "      </button>\n",
              "      \n",
              "  <style>\n",
              "    .colab-df-container {\n",
              "      display:flex;\n",
              "      flex-wrap:wrap;\n",
              "      gap: 12px;\n",
              "    }\n",
              "\n",
              "    .colab-df-convert {\n",
              "      background-color: #E8F0FE;\n",
              "      border: none;\n",
              "      border-radius: 50%;\n",
              "      cursor: pointer;\n",
              "      display: none;\n",
              "      fill: #1967D2;\n",
              "      height: 32px;\n",
              "      padding: 0 0 0 0;\n",
              "      width: 32px;\n",
              "    }\n",
              "\n",
              "    .colab-df-convert:hover {\n",
              "      background-color: #E2EBFA;\n",
              "      box-shadow: 0px 1px 2px rgba(60, 64, 67, 0.3), 0px 1px 3px 1px rgba(60, 64, 67, 0.15);\n",
              "      fill: #174EA6;\n",
              "    }\n",
              "\n",
              "    [theme=dark] .colab-df-convert {\n",
              "      background-color: #3B4455;\n",
              "      fill: #D2E3FC;\n",
              "    }\n",
              "\n",
              "    [theme=dark] .colab-df-convert:hover {\n",
              "      background-color: #434B5C;\n",
              "      box-shadow: 0px 1px 3px 1px rgba(0, 0, 0, 0.15);\n",
              "      filter: drop-shadow(0px 1px 2px rgba(0, 0, 0, 0.3));\n",
              "      fill: #FFFFFF;\n",
              "    }\n",
              "  </style>\n",
              "\n",
              "      <script>\n",
              "        const buttonEl =\n",
              "          document.querySelector('#df-92055b33-4285-41ab-a6a5-e94bc793ed61 button.colab-df-convert');\n",
              "        buttonEl.style.display =\n",
              "          google.colab.kernel.accessAllowed ? 'block' : 'none';\n",
              "\n",
              "        async function convertToInteractive(key) {\n",
              "          const element = document.querySelector('#df-92055b33-4285-41ab-a6a5-e94bc793ed61');\n",
              "          const dataTable =\n",
              "            await google.colab.kernel.invokeFunction('convertToInteractive',\n",
              "                                                     [key], {});\n",
              "          if (!dataTable) return;\n",
              "\n",
              "          const docLinkHtml = 'Like what you see? Visit the ' +\n",
              "            '<a target=\"_blank\" href=https://colab.research.google.com/notebooks/data_table.ipynb>data table notebook</a>'\n",
              "            + ' to learn more about interactive tables.';\n",
              "          element.innerHTML = '';\n",
              "          dataTable['output_type'] = 'display_data';\n",
              "          await google.colab.output.renderOutput(dataTable, element);\n",
              "          const docLink = document.createElement('div');\n",
              "          docLink.innerHTML = docLinkHtml;\n",
              "          element.appendChild(docLink);\n",
              "        }\n",
              "      </script>\n",
              "    </div>\n",
              "  </div>\n",
              "  "
            ]
          },
          "metadata": {},
          "execution_count": 2
        }
      ]
    },
    {
      "cell_type": "markdown",
      "source": [
        "### Terminology for multiple regression\n",
        "\n",
        "- Now there are four features: $x_1$, $x_2$, $x_3$, and $x_4$\n",
        "- $x_j$ represents the $j^{th}$ feature: $j = 1\\dots4$\n",
        "- $n$ denotes the total number of features: $n = 4$\n",
        "- $\\vec{x}^{(i)}$ denotes the $i^{th}$ training example\n",
        "    - note that for multiple regression this is a vector\n",
        "        - more specifically, this is a row vector\n",
        "- $x_j^{(i)}$ is the value of feature $j$ in the $i^{th}$ training example"
      ],
      "metadata": {
        "id": "nL42lZzKe9Sm"
      }
    },
    {
      "cell_type": "code",
      "execution_count": 3,
      "metadata": {
        "id": "cxIP97cwTjD-"
      },
      "outputs": [],
      "source": [
        "path = 'https://raw.githubusercontent.com/PaulToronto'\n",
        "path += '/Stanford-Andrew-Ng-Machine-Learning-Specialization/main'\n",
        "path += '/data/houses.csv'\n",
        "\n",
        "houses = pd.read_csv(path, \n",
        "                     header=None,\n",
        "                     names=['Size', 'Bedrooms', 'Floors', 'YearsOld', 'Price'],\n",
        "                     dtype={'Size':'int', \n",
        "                            'Bedrooms': 'int', \n",
        "                            'Floors': 'int', \n",
        "                            'YearsOld':'int',\n",
        "                            'Price': 'double'})"
      ]
    },
    {
      "cell_type": "code",
      "source": [
        "houses.head()"
      ],
      "metadata": {
        "colab": {
          "base_uri": "https://localhost:8080/",
          "height": 206
        },
        "id": "H2GE3PgNWg0Z",
        "outputId": "9f4db4a1-5db7-4b3d-9732-9da39e5d498c"
      },
      "execution_count": 4,
      "outputs": [
        {
          "output_type": "execute_result",
          "data": {
            "text/plain": [
              "   Size  Bedrooms  Floors  YearsOld  Price\n",
              "0   952         2       1        65  271.5\n",
              "1  1244         3       1        64  300.0\n",
              "2  1947         3       2        17  509.8\n",
              "3  1725         3       2        42  394.0\n",
              "4  1959         3       2        15  540.0"
            ],
            "text/html": [
              "\n",
              "  <div id=\"df-27a8b51e-16a0-4553-95b3-f877d102ef1b\">\n",
              "    <div class=\"colab-df-container\">\n",
              "      <div>\n",
              "<style scoped>\n",
              "    .dataframe tbody tr th:only-of-type {\n",
              "        vertical-align: middle;\n",
              "    }\n",
              "\n",
              "    .dataframe tbody tr th {\n",
              "        vertical-align: top;\n",
              "    }\n",
              "\n",
              "    .dataframe thead th {\n",
              "        text-align: right;\n",
              "    }\n",
              "</style>\n",
              "<table border=\"1\" class=\"dataframe\">\n",
              "  <thead>\n",
              "    <tr style=\"text-align: right;\">\n",
              "      <th></th>\n",
              "      <th>Size</th>\n",
              "      <th>Bedrooms</th>\n",
              "      <th>Floors</th>\n",
              "      <th>YearsOld</th>\n",
              "      <th>Price</th>\n",
              "    </tr>\n",
              "  </thead>\n",
              "  <tbody>\n",
              "    <tr>\n",
              "      <th>0</th>\n",
              "      <td>952</td>\n",
              "      <td>2</td>\n",
              "      <td>1</td>\n",
              "      <td>65</td>\n",
              "      <td>271.5</td>\n",
              "    </tr>\n",
              "    <tr>\n",
              "      <th>1</th>\n",
              "      <td>1244</td>\n",
              "      <td>3</td>\n",
              "      <td>1</td>\n",
              "      <td>64</td>\n",
              "      <td>300.0</td>\n",
              "    </tr>\n",
              "    <tr>\n",
              "      <th>2</th>\n",
              "      <td>1947</td>\n",
              "      <td>3</td>\n",
              "      <td>2</td>\n",
              "      <td>17</td>\n",
              "      <td>509.8</td>\n",
              "    </tr>\n",
              "    <tr>\n",
              "      <th>3</th>\n",
              "      <td>1725</td>\n",
              "      <td>3</td>\n",
              "      <td>2</td>\n",
              "      <td>42</td>\n",
              "      <td>394.0</td>\n",
              "    </tr>\n",
              "    <tr>\n",
              "      <th>4</th>\n",
              "      <td>1959</td>\n",
              "      <td>3</td>\n",
              "      <td>2</td>\n",
              "      <td>15</td>\n",
              "      <td>540.0</td>\n",
              "    </tr>\n",
              "  </tbody>\n",
              "</table>\n",
              "</div>\n",
              "      <button class=\"colab-df-convert\" onclick=\"convertToInteractive('df-27a8b51e-16a0-4553-95b3-f877d102ef1b')\"\n",
              "              title=\"Convert this dataframe to an interactive table.\"\n",
              "              style=\"display:none;\">\n",
              "        \n",
              "  <svg xmlns=\"http://www.w3.org/2000/svg\" height=\"24px\"viewBox=\"0 0 24 24\"\n",
              "       width=\"24px\">\n",
              "    <path d=\"M0 0h24v24H0V0z\" fill=\"none\"/>\n",
              "    <path d=\"M18.56 5.44l.94 2.06.94-2.06 2.06-.94-2.06-.94-.94-2.06-.94 2.06-2.06.94zm-11 1L8.5 8.5l.94-2.06 2.06-.94-2.06-.94L8.5 2.5l-.94 2.06-2.06.94zm10 10l.94 2.06.94-2.06 2.06-.94-2.06-.94-.94-2.06-.94 2.06-2.06.94z\"/><path d=\"M17.41 7.96l-1.37-1.37c-.4-.4-.92-.59-1.43-.59-.52 0-1.04.2-1.43.59L10.3 9.45l-7.72 7.72c-.78.78-.78 2.05 0 2.83L4 21.41c.39.39.9.59 1.41.59.51 0 1.02-.2 1.41-.59l7.78-7.78 2.81-2.81c.8-.78.8-2.07 0-2.86zM5.41 20L4 18.59l7.72-7.72 1.47 1.35L5.41 20z\"/>\n",
              "  </svg>\n",
              "      </button>\n",
              "      \n",
              "  <style>\n",
              "    .colab-df-container {\n",
              "      display:flex;\n",
              "      flex-wrap:wrap;\n",
              "      gap: 12px;\n",
              "    }\n",
              "\n",
              "    .colab-df-convert {\n",
              "      background-color: #E8F0FE;\n",
              "      border: none;\n",
              "      border-radius: 50%;\n",
              "      cursor: pointer;\n",
              "      display: none;\n",
              "      fill: #1967D2;\n",
              "      height: 32px;\n",
              "      padding: 0 0 0 0;\n",
              "      width: 32px;\n",
              "    }\n",
              "\n",
              "    .colab-df-convert:hover {\n",
              "      background-color: #E2EBFA;\n",
              "      box-shadow: 0px 1px 2px rgba(60, 64, 67, 0.3), 0px 1px 3px 1px rgba(60, 64, 67, 0.15);\n",
              "      fill: #174EA6;\n",
              "    }\n",
              "\n",
              "    [theme=dark] .colab-df-convert {\n",
              "      background-color: #3B4455;\n",
              "      fill: #D2E3FC;\n",
              "    }\n",
              "\n",
              "    [theme=dark] .colab-df-convert:hover {\n",
              "      background-color: #434B5C;\n",
              "      box-shadow: 0px 1px 3px 1px rgba(0, 0, 0, 0.15);\n",
              "      filter: drop-shadow(0px 1px 2px rgba(0, 0, 0, 0.3));\n",
              "      fill: #FFFFFF;\n",
              "    }\n",
              "  </style>\n",
              "\n",
              "      <script>\n",
              "        const buttonEl =\n",
              "          document.querySelector('#df-27a8b51e-16a0-4553-95b3-f877d102ef1b button.colab-df-convert');\n",
              "        buttonEl.style.display =\n",
              "          google.colab.kernel.accessAllowed ? 'block' : 'none';\n",
              "\n",
              "        async function convertToInteractive(key) {\n",
              "          const element = document.querySelector('#df-27a8b51e-16a0-4553-95b3-f877d102ef1b');\n",
              "          const dataTable =\n",
              "            await google.colab.kernel.invokeFunction('convertToInteractive',\n",
              "                                                     [key], {});\n",
              "          if (!dataTable) return;\n",
              "\n",
              "          const docLinkHtml = 'Like what you see? Visit the ' +\n",
              "            '<a target=\"_blank\" href=https://colab.research.google.com/notebooks/data_table.ipynb>data table notebook</a>'\n",
              "            + ' to learn more about interactive tables.';\n",
              "          element.innerHTML = '';\n",
              "          dataTable['output_type'] = 'display_data';\n",
              "          await google.colab.output.renderOutput(dataTable, element);\n",
              "          const docLink = document.createElement('div');\n",
              "          docLink.innerHTML = docLinkHtml;\n",
              "          element.appendChild(docLink);\n",
              "        }\n",
              "      </script>\n",
              "    </div>\n",
              "  </div>\n",
              "  "
            ]
          },
          "metadata": {},
          "execution_count": 4
        }
      ]
    },
    {
      "cell_type": "markdown",
      "source": [
        "### Model\n",
        "\n",
        "- Previously: $f_{w,b}\\left(x\\right) = wx + b$\n",
        "- With multiple regression: $f_{\\vec{w},b}\\left(\\vec{x}\\right) = w_1x_1 + w_2x_2 + w_3x_3 \\dots + w_nx_n + b$"
      ],
      "metadata": {
        "id": "7Yc7xSRGlKJP"
      }
    },
    {
      "cell_type": "markdown",
      "source": [
        "#### In our example:\n",
        "\n",
        "- $x_1$ denotes the `Size`\n",
        "- $x_2$ denotes the `Bedrooms`\n",
        "- $x_3$ denotes the `Floors`\n",
        "- $x_4$ denotes the `YearsOld`\n",
        "\n",
        "Suppose we have trained the model and found the parameters:\n",
        "\n",
        "$f_{w,b}\\left(x\\right) = 0.1x_1 + 4x_2 + 10x_3 - 2x_4 + 80$\n",
        "\n",
        "#### How might we interpret these parameters?\n",
        "\n",
        "- $b = 80$ where the unit is 1000s of dollars\n",
        "    - This can be thought of as the *base price* of a house with 0 square feet, 0 bedrooms, 0 floors and 0 years old\n",
        "- $0.1x$\n",
        "    - The price increases by $0.1 \\times 1000 = 100$ dollars for each additional square foot\n",
        "- $4x_2$\n",
        "    - The price increases by $4 \\times 1000 = 4000$ dollars for each additional bedroom\n",
        "- $10x_3$\n",
        "    - The prices increases by $10 \\times 1000 = 10000$ dollars for each additional floor\n",
        "- $-2x_4$\n",
        "    - The price **decreases** by $2 \\times 1000 = 2000$ dollars for each year added to the age of the house\n"
      ],
      "metadata": {
        "id": "NP1087ixm4wy"
      }
    },
    {
      "cell_type": "markdown",
      "source": [
        "### Notation\n",
        "\n",
        "- **The model**: $f_{\\vec{w},b}\\left(\\vec{x}\\right) = w_1x_1 + w_2x_x2 + w_3x_3 \\dots + w_nx_n + b$\n",
        "- $\\vec{w} = \\left[w_1 \\ w_2 \\ w_3 \\dots w_n\\right]$\n",
        "- $b$ is a scalar\n",
        "    - $\\vec{w}$ together with $b$ are the **parameters of the model**\n",
        "- $\\vec{x} = \\left[x_1 \\ x_2 \\ x_3 \\dots x_n\\right]$\n",
        "    - $\\vec{x}$ contains the **features of the model**"
      ],
      "metadata": {
        "id": "GnBTXuOdqdWu"
      }
    },
    {
      "cell_type": "markdown",
      "source": [
        "### Model: more succinctly\n",
        "\n",
        "- the dot ($\\cdot$) in the following formula is for the **dot product**"
      ],
      "metadata": {
        "id": "I25bBEsjwfPb"
      }
    },
    {
      "cell_type": "markdown",
      "source": [
        "$$\n",
        "f_{\\vec{w},b}\\left(\\vec{x}\\right) = \\vec{w} \\cdot \\vec{x} + b\n",
        "$$"
      ],
      "metadata": {
        "id": "5oIIdiNYwqq1"
      }
    },
    {
      "cell_type": "markdown",
      "source": [
        "## 1.2.1.2 Vectorization part 1\n",
        "\n",
        "Benefiits of vectorization:\n",
        "\n",
        "1. Makes your code more compact\n",
        "2. Make your code run more efficiently\n",
        "3. Allows you to make use of modern numerical linear algebra libraries\n",
        "4. Might even allow you to make use of GPU hardware"
      ],
      "metadata": {
        "id": "DMpZPrnZzRnz"
      }
    },
    {
      "cell_type": "markdown",
      "source": [
        "### Example\n",
        "\n",
        "Note that in linear algebra, the count starts from 1. In Python the count starts from 0.\n",
        "\n",
        "- $n = 3$\n",
        "- $\\vec{w} = \\left[w_1 \\ w_2 \\ w_3\\right]$\n",
        "- $b$ is a scalar\n",
        "- $\\vec{x} = \\left[x_1 \\ x_2 \\ x_3\\right]$\n",
        "\n",
        "Here it is in Python code:"
      ],
      "metadata": {
        "id": "ikd2Bsfp1ozy"
      }
    },
    {
      "cell_type": "code",
      "source": [
        "w = np.array([1.0, 2.5, -3.3])\n",
        "n = len(w)\n",
        "b = 4\n",
        "x = np.array([10, 20, 30])\n",
        "\n",
        "print('n:', n, '\\n')\n",
        "print('w:', w)\n",
        "print(' w1:', w[0], ' w2:', w[1], ' w3:', w[2], '\\n')\n",
        "print('b:', b, '\\n')\n",
        "print('x:', x)\n",
        "print(' x1:', x[0], ' x2:', x[1], ' x3:', w[2], '\\n')"
      ],
      "metadata": {
        "colab": {
          "base_uri": "https://localhost:8080/"
        },
        "id": "THSo3JyT2y9y",
        "outputId": "eed78980-4c9c-4642-f82c-11b4096d0845"
      },
      "execution_count": 5,
      "outputs": [
        {
          "output_type": "stream",
          "name": "stdout",
          "text": [
            "n: 3 \n",
            "\n",
            "w: [ 1.   2.5 -3.3]\n",
            " w1: 1.0  w2: 2.5  w3: -3.3 \n",
            "\n",
            "b: 4 \n",
            "\n",
            "x: [10 20 30]\n",
            " x1: 10  x2: 20  x3: -3.3 \n",
            "\n"
          ]
        }
      ]
    },
    {
      "cell_type": "markdown",
      "source": [
        "#### Without vectorization"
      ],
      "metadata": {
        "id": "g6p6MLvH7M4C"
      }
    },
    {
      "cell_type": "code",
      "source": [
        "%%timeit -r7 -n1000000\n",
        "f = w[0] * x[0] + \\\n",
        "    w[1] * x[1] + \\\n",
        "    w[2] * x[2] + b"
      ],
      "metadata": {
        "colab": {
          "base_uri": "https://localhost:8080/"
        },
        "id": "YXMJrUsd7Ty3",
        "outputId": "8fcbd4f4-4b19-4f85-cc67-f8bf1f3f6eda"
      },
      "execution_count": 6,
      "outputs": [
        {
          "output_type": "stream",
          "name": "stdout",
          "text": [
            "3.37 µs ± 953 ns per loop (mean ± std. dev. of 7 runs, 1000000 loops each)\n"
          ]
        }
      ]
    },
    {
      "cell_type": "markdown",
      "source": [
        "#### With vectorization using a `for` loop\n",
        "\n",
        "$$\n",
        "f_{\\vec{w},b} = \\left(\\sum_{j=1}^{n}w_jx_j\\right) + b\n",
        "$$"
      ],
      "metadata": {
        "id": "OQlMFy5D8S7W"
      }
    },
    {
      "cell_type": "code",
      "source": [
        "%%timeit -r7 -n1000000\n",
        "f = 0\n",
        "for j in range(0, n):\n",
        "    f += w[j] * x[j]\n",
        "f += b "
      ],
      "metadata": {
        "colab": {
          "base_uri": "https://localhost:8080/"
        },
        "id": "-XMCa_gc8ZB8",
        "outputId": "6f65973d-a65a-4230-a333-45bd553b4a97"
      },
      "execution_count": 7,
      "outputs": [
        {
          "output_type": "stream",
          "name": "stdout",
          "text": [
            "2.84 µs ± 714 ns per loop (mean ± std. dev. of 7 runs, 1000000 loops each)\n"
          ]
        }
      ]
    },
    {
      "cell_type": "markdown",
      "source": [
        "#### With vectorization\n",
        "\n",
        "- I'm not 100% sure, but this code only seems to run better than the two previous code cells when using a GPU\n",
        "- In theory, it should run faster even without a GPU\n",
        "- I should do some experiments to see what happens when $n$ is large\n",
        "\n",
        "$$\n",
        "f_{\\vec{w},b} = \\vec{w} \\cdot \\vec{x} + b\n",
        "$$"
      ],
      "metadata": {
        "id": "_VhCfVOD_pt-"
      }
    },
    {
      "cell_type": "code",
      "source": [
        "%%timeit -r7 -n1000000\n",
        "f = np.dot(w, x) + b"
      ],
      "metadata": {
        "colab": {
          "base_uri": "https://localhost:8080/"
        },
        "id": "rFYxkPkK_vfR",
        "outputId": "91d959cf-c0a4-4def-d9ba-f0278d7b9cbb"
      },
      "execution_count": 8,
      "outputs": [
        {
          "output_type": "stream",
          "name": "stdout",
          "text": [
            "1.89 µs ± 24.9 ns per loop (mean ± std. dev. of 7 runs, 1000000 loops each)\n"
          ]
        }
      ]
    },
    {
      "cell_type": "code",
      "source": [
        "f = w[0] * x[0] + \\\n",
        "    w[1] * x[1] + \\\n",
        "    w[2] * x[2] + b\n",
        "\n",
        "print(f)\n",
        "\n",
        "f = 0\n",
        "for j in range(0, n):\n",
        "    f += w[j] * x[j]\n",
        "f += b \n",
        "\n",
        "print(f)\n",
        "\n",
        "f = np.dot(w, x) + b\n",
        "\n",
        "print(f)\n",
        "\n",
        "f = w.dot(x) + b\n",
        "print(f)"
      ],
      "metadata": {
        "colab": {
          "base_uri": "https://localhost:8080/"
        },
        "id": "Cdy-J-vsBRli",
        "outputId": "6842dc30-2a30-4a9a-b58c-85bd9b506e29"
      },
      "execution_count": 9,
      "outputs": [
        {
          "output_type": "stream",
          "name": "stdout",
          "text": [
            "-35.0\n",
            "-35.0\n",
            "-35.0\n",
            "-35.0\n"
          ]
        }
      ]
    },
    {
      "cell_type": "markdown",
      "source": [
        "## 1.2.1.3 Vectorization part 2"
      ],
      "metadata": {
        "id": "UFISEStuDKUV"
      }
    }
  ]
}