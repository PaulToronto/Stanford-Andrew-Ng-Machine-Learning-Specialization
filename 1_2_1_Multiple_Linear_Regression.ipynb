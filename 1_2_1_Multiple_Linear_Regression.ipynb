{
  "nbformat": 4,
  "nbformat_minor": 0,
  "metadata": {
    "colab": {
      "provenance": [],
      "toc_visible": true,
      "machine_shape": "hm",
      "authorship_tag": "ABX9TyMaqfT9AM2qNNmr+N0FjDhE",
      "include_colab_link": true
    },
    "kernelspec": {
      "name": "python3",
      "display_name": "Python 3"
    },
    "language_info": {
      "name": "python"
    }
  },
  "cells": [
    {
      "cell_type": "markdown",
      "metadata": {
        "id": "view-in-github",
        "colab_type": "text"
      },
      "source": [
        "<a href=\"https://colab.research.google.com/github/PaulToronto/Stanford-Andrew-Ng-Machine-Learning-Specialization/blob/main/1_2_1_Multiple_Linear_Regression.ipynb\" target=\"_parent\"><img src=\"https://colab.research.google.com/assets/colab-badge.svg\" alt=\"Open In Colab\"/></a>"
      ]
    },
    {
      "cell_type": "markdown",
      "source": [
        "# 1.2.1 Multiple Linear Regression\n",
        "\n",
        "- **NOTE**: this should not be confused with **multivariate regression**\n",
        "    - **multiple** refers to more than one predictor variable but **multivariate** refers to more than one dependent variables\n",
        "    - not covered in this course"
      ],
      "metadata": {
        "id": "nh2Yq0NVVQ2g"
      }
    },
    {
      "cell_type": "code",
      "source": [
        "import pandas as pd\n",
        "import numpy as np"
      ],
      "metadata": {
        "id": "ZRe4YnjJWXAc"
      },
      "execution_count": null,
      "outputs": []
    },
    {
      "cell_type": "markdown",
      "source": [
        "## 1.2.1.1 Multiple features"
      ],
      "metadata": {
        "id": "MQi1KrwbVfp_"
      }
    },
    {
      "cell_type": "markdown",
      "source": [
        "### Previously\n",
        "\n",
        "- A single feature, $x$ was used to predict the price of the house, $y$\n",
        "- $f_{w,b}\\left(x\\right) = wx + b$"
      ],
      "metadata": {
        "id": "vlijwX1RdSY6"
      }
    },
    {
      "cell_type": "code",
      "source": [
        "path = 'https://raw.githubusercontent.com/PaulToronto'\n",
        "path += '/Stanford-Andrew-Ng-Machine-Learning-Specialization/main'\n",
        "path += '/data/Portland.csv'\n",
        "\n",
        "portland = pd.read_csv(path, header=None, names=['Size', 'Bedrooms', 'Price'])\n",
        "portland['Price'] = portland['Price'] / 1000.0\n",
        "portland.shape"
      ],
      "metadata": {
        "colab": {
          "base_uri": "https://localhost:8080/"
        },
        "id": "eXBsay8AdVur",
        "outputId": "096e2a39-a618-4e30-d911-9c11c00f4068"
      },
      "execution_count": null,
      "outputs": [
        {
          "output_type": "execute_result",
          "data": {
            "text/plain": [
              "(47, 3)"
            ]
          },
          "metadata": {},
          "execution_count": 2
        }
      ]
    },
    {
      "cell_type": "code",
      "source": [
        "portland = portland.drop('Bedrooms', axis=1)\n",
        "portland.head()"
      ],
      "metadata": {
        "colab": {
          "base_uri": "https://localhost:8080/",
          "height": 206
        },
        "id": "P1jz717mZ2Oa",
        "outputId": "04d83892-d155-4b96-bf4d-9b5ebf537df9"
      },
      "execution_count": null,
      "outputs": [
        {
          "output_type": "execute_result",
          "data": {
            "text/plain": [
              "   Size  Price\n",
              "0  2104  399.9\n",
              "1  1600  329.9\n",
              "2  2400  369.0\n",
              "3  1416  232.0\n",
              "4  3000  539.9"
            ],
            "text/html": [
              "\n",
              "  <div id=\"df-1bc4222a-a129-46da-99e7-d67976075639\" class=\"colab-df-container\">\n",
              "    <div>\n",
              "<style scoped>\n",
              "    .dataframe tbody tr th:only-of-type {\n",
              "        vertical-align: middle;\n",
              "    }\n",
              "\n",
              "    .dataframe tbody tr th {\n",
              "        vertical-align: top;\n",
              "    }\n",
              "\n",
              "    .dataframe thead th {\n",
              "        text-align: right;\n",
              "    }\n",
              "</style>\n",
              "<table border=\"1\" class=\"dataframe\">\n",
              "  <thead>\n",
              "    <tr style=\"text-align: right;\">\n",
              "      <th></th>\n",
              "      <th>Size</th>\n",
              "      <th>Price</th>\n",
              "    </tr>\n",
              "  </thead>\n",
              "  <tbody>\n",
              "    <tr>\n",
              "      <th>0</th>\n",
              "      <td>2104</td>\n",
              "      <td>399.9</td>\n",
              "    </tr>\n",
              "    <tr>\n",
              "      <th>1</th>\n",
              "      <td>1600</td>\n",
              "      <td>329.9</td>\n",
              "    </tr>\n",
              "    <tr>\n",
              "      <th>2</th>\n",
              "      <td>2400</td>\n",
              "      <td>369.0</td>\n",
              "    </tr>\n",
              "    <tr>\n",
              "      <th>3</th>\n",
              "      <td>1416</td>\n",
              "      <td>232.0</td>\n",
              "    </tr>\n",
              "    <tr>\n",
              "      <th>4</th>\n",
              "      <td>3000</td>\n",
              "      <td>539.9</td>\n",
              "    </tr>\n",
              "  </tbody>\n",
              "</table>\n",
              "</div>\n",
              "    <div class=\"colab-df-buttons\">\n",
              "\n",
              "  <div class=\"colab-df-container\">\n",
              "    <button class=\"colab-df-convert\" onclick=\"convertToInteractive('df-1bc4222a-a129-46da-99e7-d67976075639')\"\n",
              "            title=\"Convert this dataframe to an interactive table.\"\n",
              "            style=\"display:none;\">\n",
              "\n",
              "  <svg xmlns=\"http://www.w3.org/2000/svg\" height=\"24px\" viewBox=\"0 -960 960 960\">\n",
              "    <path d=\"M120-120v-720h720v720H120Zm60-500h600v-160H180v160Zm220 220h160v-160H400v160Zm0 220h160v-160H400v160ZM180-400h160v-160H180v160Zm440 0h160v-160H620v160ZM180-180h160v-160H180v160Zm440 0h160v-160H620v160Z\"/>\n",
              "  </svg>\n",
              "    </button>\n",
              "\n",
              "  <style>\n",
              "    .colab-df-container {\n",
              "      display:flex;\n",
              "      gap: 12px;\n",
              "    }\n",
              "\n",
              "    .colab-df-convert {\n",
              "      background-color: #E8F0FE;\n",
              "      border: none;\n",
              "      border-radius: 50%;\n",
              "      cursor: pointer;\n",
              "      display: none;\n",
              "      fill: #1967D2;\n",
              "      height: 32px;\n",
              "      padding: 0 0 0 0;\n",
              "      width: 32px;\n",
              "    }\n",
              "\n",
              "    .colab-df-convert:hover {\n",
              "      background-color: #E2EBFA;\n",
              "      box-shadow: 0px 1px 2px rgba(60, 64, 67, 0.3), 0px 1px 3px 1px rgba(60, 64, 67, 0.15);\n",
              "      fill: #174EA6;\n",
              "    }\n",
              "\n",
              "    .colab-df-buttons div {\n",
              "      margin-bottom: 4px;\n",
              "    }\n",
              "\n",
              "    [theme=dark] .colab-df-convert {\n",
              "      background-color: #3B4455;\n",
              "      fill: #D2E3FC;\n",
              "    }\n",
              "\n",
              "    [theme=dark] .colab-df-convert:hover {\n",
              "      background-color: #434B5C;\n",
              "      box-shadow: 0px 1px 3px 1px rgba(0, 0, 0, 0.15);\n",
              "      filter: drop-shadow(0px 1px 2px rgba(0, 0, 0, 0.3));\n",
              "      fill: #FFFFFF;\n",
              "    }\n",
              "  </style>\n",
              "\n",
              "    <script>\n",
              "      const buttonEl =\n",
              "        document.querySelector('#df-1bc4222a-a129-46da-99e7-d67976075639 button.colab-df-convert');\n",
              "      buttonEl.style.display =\n",
              "        google.colab.kernel.accessAllowed ? 'block' : 'none';\n",
              "\n",
              "      async function convertToInteractive(key) {\n",
              "        const element = document.querySelector('#df-1bc4222a-a129-46da-99e7-d67976075639');\n",
              "        const dataTable =\n",
              "          await google.colab.kernel.invokeFunction('convertToInteractive',\n",
              "                                                    [key], {});\n",
              "        if (!dataTable) return;\n",
              "\n",
              "        const docLinkHtml = 'Like what you see? Visit the ' +\n",
              "          '<a target=\"_blank\" href=https://colab.research.google.com/notebooks/data_table.ipynb>data table notebook</a>'\n",
              "          + ' to learn more about interactive tables.';\n",
              "        element.innerHTML = '';\n",
              "        dataTable['output_type'] = 'display_data';\n",
              "        await google.colab.output.renderOutput(dataTable, element);\n",
              "        const docLink = document.createElement('div');\n",
              "        docLink.innerHTML = docLinkHtml;\n",
              "        element.appendChild(docLink);\n",
              "      }\n",
              "    </script>\n",
              "  </div>\n",
              "\n",
              "\n",
              "<div id=\"df-3e342f30-a9cc-4ddc-905c-b15521511509\">\n",
              "  <button class=\"colab-df-quickchart\" onclick=\"quickchart('df-3e342f30-a9cc-4ddc-905c-b15521511509')\"\n",
              "            title=\"Suggest charts.\"\n",
              "            style=\"display:none;\">\n",
              "\n",
              "<svg xmlns=\"http://www.w3.org/2000/svg\" height=\"24px\"viewBox=\"0 0 24 24\"\n",
              "     width=\"24px\">\n",
              "    <g>\n",
              "        <path d=\"M19 3H5c-1.1 0-2 .9-2 2v14c0 1.1.9 2 2 2h14c1.1 0 2-.9 2-2V5c0-1.1-.9-2-2-2zM9 17H7v-7h2v7zm4 0h-2V7h2v10zm4 0h-2v-4h2v4z\"/>\n",
              "    </g>\n",
              "</svg>\n",
              "  </button>\n",
              "\n",
              "<style>\n",
              "  .colab-df-quickchart {\n",
              "    background-color: #E8F0FE;\n",
              "    border: none;\n",
              "    border-radius: 50%;\n",
              "    cursor: pointer;\n",
              "    display: none;\n",
              "    fill: #1967D2;\n",
              "    height: 32px;\n",
              "    padding: 0 0 0 0;\n",
              "    width: 32px;\n",
              "  }\n",
              "\n",
              "  .colab-df-quickchart:hover {\n",
              "    background-color: #E2EBFA;\n",
              "    box-shadow: 0px 1px 2px rgba(60, 64, 67, 0.3), 0px 1px 3px 1px rgba(60, 64, 67, 0.15);\n",
              "    fill: #174EA6;\n",
              "  }\n",
              "\n",
              "  [theme=dark] .colab-df-quickchart {\n",
              "    background-color: #3B4455;\n",
              "    fill: #D2E3FC;\n",
              "  }\n",
              "\n",
              "  [theme=dark] .colab-df-quickchart:hover {\n",
              "    background-color: #434B5C;\n",
              "    box-shadow: 0px 1px 3px 1px rgba(0, 0, 0, 0.15);\n",
              "    filter: drop-shadow(0px 1px 2px rgba(0, 0, 0, 0.3));\n",
              "    fill: #FFFFFF;\n",
              "  }\n",
              "</style>\n",
              "\n",
              "  <script>\n",
              "    async function quickchart(key) {\n",
              "      const charts = await google.colab.kernel.invokeFunction(\n",
              "          'suggestCharts', [key], {});\n",
              "    }\n",
              "    (() => {\n",
              "      let quickchartButtonEl =\n",
              "        document.querySelector('#df-3e342f30-a9cc-4ddc-905c-b15521511509 button');\n",
              "      quickchartButtonEl.style.display =\n",
              "        google.colab.kernel.accessAllowed ? 'block' : 'none';\n",
              "    })();\n",
              "  </script>\n",
              "</div>\n",
              "    </div>\n",
              "  </div>\n"
            ]
          },
          "metadata": {},
          "execution_count": 3
        }
      ]
    },
    {
      "cell_type": "markdown",
      "source": [
        "### Terminology for multiple regression\n",
        "\n",
        "- Now there are four features: $x_1$, $x_2$, $x_3$, and $x_4$\n",
        "- $x_j$ represents the $j^{th}$ feature: $j = 1\\dots4$\n",
        "- $n$ denotes the total number of features: $n = 4$\n",
        "- $\\vec{x}^{(i)}$ denotes the $i^{th}$ training example\n",
        "    - note that for multiple regression this is a vector\n",
        "        - more specifically, this is a row vector\n",
        "- $x_j^{(i)}$ is the value of feature $j$ in the $i^{th}$ training example"
      ],
      "metadata": {
        "id": "nL42lZzKe9Sm"
      }
    },
    {
      "cell_type": "code",
      "execution_count": null,
      "metadata": {
        "id": "cxIP97cwTjD-",
        "colab": {
          "base_uri": "https://localhost:8080/"
        },
        "outputId": "6b4c1a53-8797-4a8a-a956-24636d4b58f8"
      },
      "outputs": [
        {
          "output_type": "execute_result",
          "data": {
            "text/plain": [
              "(100, 5)"
            ]
          },
          "metadata": {},
          "execution_count": 4
        }
      ],
      "source": [
        "path = 'https://raw.githubusercontent.com/PaulToronto'\n",
        "path += '/Stanford-Andrew-Ng-Machine-Learning-Specialization/main'\n",
        "path += '/data/houses.csv'\n",
        "\n",
        "houses = pd.read_csv(path,\n",
        "                     header=None,\n",
        "                     names=['Size', 'Bedrooms', 'Floors', 'YearsOld', 'Price'],\n",
        "                     dtype={'Size':'int',\n",
        "                            'Bedrooms': 'int',\n",
        "                            'Floors': 'int',\n",
        "                            'YearsOld':'int',\n",
        "                            'Price': 'double'})\n",
        "houses.shape"
      ]
    },
    {
      "cell_type": "code",
      "source": [
        "houses.head()"
      ],
      "metadata": {
        "colab": {
          "base_uri": "https://localhost:8080/",
          "height": 206
        },
        "id": "H2GE3PgNWg0Z",
        "outputId": "78a123c4-d210-4103-eb41-4075956db997"
      },
      "execution_count": null,
      "outputs": [
        {
          "output_type": "execute_result",
          "data": {
            "text/plain": [
              "   Size  Bedrooms  Floors  YearsOld  Price\n",
              "0   952         2       1        65  271.5\n",
              "1  1244         3       1        64  300.0\n",
              "2  1947         3       2        17  509.8\n",
              "3  1725         3       2        42  394.0\n",
              "4  1959         3       2        15  540.0"
            ],
            "text/html": [
              "\n",
              "  <div id=\"df-e33478dd-5091-47c9-81ca-7d2419909f08\" class=\"colab-df-container\">\n",
              "    <div>\n",
              "<style scoped>\n",
              "    .dataframe tbody tr th:only-of-type {\n",
              "        vertical-align: middle;\n",
              "    }\n",
              "\n",
              "    .dataframe tbody tr th {\n",
              "        vertical-align: top;\n",
              "    }\n",
              "\n",
              "    .dataframe thead th {\n",
              "        text-align: right;\n",
              "    }\n",
              "</style>\n",
              "<table border=\"1\" class=\"dataframe\">\n",
              "  <thead>\n",
              "    <tr style=\"text-align: right;\">\n",
              "      <th></th>\n",
              "      <th>Size</th>\n",
              "      <th>Bedrooms</th>\n",
              "      <th>Floors</th>\n",
              "      <th>YearsOld</th>\n",
              "      <th>Price</th>\n",
              "    </tr>\n",
              "  </thead>\n",
              "  <tbody>\n",
              "    <tr>\n",
              "      <th>0</th>\n",
              "      <td>952</td>\n",
              "      <td>2</td>\n",
              "      <td>1</td>\n",
              "      <td>65</td>\n",
              "      <td>271.5</td>\n",
              "    </tr>\n",
              "    <tr>\n",
              "      <th>1</th>\n",
              "      <td>1244</td>\n",
              "      <td>3</td>\n",
              "      <td>1</td>\n",
              "      <td>64</td>\n",
              "      <td>300.0</td>\n",
              "    </tr>\n",
              "    <tr>\n",
              "      <th>2</th>\n",
              "      <td>1947</td>\n",
              "      <td>3</td>\n",
              "      <td>2</td>\n",
              "      <td>17</td>\n",
              "      <td>509.8</td>\n",
              "    </tr>\n",
              "    <tr>\n",
              "      <th>3</th>\n",
              "      <td>1725</td>\n",
              "      <td>3</td>\n",
              "      <td>2</td>\n",
              "      <td>42</td>\n",
              "      <td>394.0</td>\n",
              "    </tr>\n",
              "    <tr>\n",
              "      <th>4</th>\n",
              "      <td>1959</td>\n",
              "      <td>3</td>\n",
              "      <td>2</td>\n",
              "      <td>15</td>\n",
              "      <td>540.0</td>\n",
              "    </tr>\n",
              "  </tbody>\n",
              "</table>\n",
              "</div>\n",
              "    <div class=\"colab-df-buttons\">\n",
              "\n",
              "  <div class=\"colab-df-container\">\n",
              "    <button class=\"colab-df-convert\" onclick=\"convertToInteractive('df-e33478dd-5091-47c9-81ca-7d2419909f08')\"\n",
              "            title=\"Convert this dataframe to an interactive table.\"\n",
              "            style=\"display:none;\">\n",
              "\n",
              "  <svg xmlns=\"http://www.w3.org/2000/svg\" height=\"24px\" viewBox=\"0 -960 960 960\">\n",
              "    <path d=\"M120-120v-720h720v720H120Zm60-500h600v-160H180v160Zm220 220h160v-160H400v160Zm0 220h160v-160H400v160ZM180-400h160v-160H180v160Zm440 0h160v-160H620v160ZM180-180h160v-160H180v160Zm440 0h160v-160H620v160Z\"/>\n",
              "  </svg>\n",
              "    </button>\n",
              "\n",
              "  <style>\n",
              "    .colab-df-container {\n",
              "      display:flex;\n",
              "      gap: 12px;\n",
              "    }\n",
              "\n",
              "    .colab-df-convert {\n",
              "      background-color: #E8F0FE;\n",
              "      border: none;\n",
              "      border-radius: 50%;\n",
              "      cursor: pointer;\n",
              "      display: none;\n",
              "      fill: #1967D2;\n",
              "      height: 32px;\n",
              "      padding: 0 0 0 0;\n",
              "      width: 32px;\n",
              "    }\n",
              "\n",
              "    .colab-df-convert:hover {\n",
              "      background-color: #E2EBFA;\n",
              "      box-shadow: 0px 1px 2px rgba(60, 64, 67, 0.3), 0px 1px 3px 1px rgba(60, 64, 67, 0.15);\n",
              "      fill: #174EA6;\n",
              "    }\n",
              "\n",
              "    .colab-df-buttons div {\n",
              "      margin-bottom: 4px;\n",
              "    }\n",
              "\n",
              "    [theme=dark] .colab-df-convert {\n",
              "      background-color: #3B4455;\n",
              "      fill: #D2E3FC;\n",
              "    }\n",
              "\n",
              "    [theme=dark] .colab-df-convert:hover {\n",
              "      background-color: #434B5C;\n",
              "      box-shadow: 0px 1px 3px 1px rgba(0, 0, 0, 0.15);\n",
              "      filter: drop-shadow(0px 1px 2px rgba(0, 0, 0, 0.3));\n",
              "      fill: #FFFFFF;\n",
              "    }\n",
              "  </style>\n",
              "\n",
              "    <script>\n",
              "      const buttonEl =\n",
              "        document.querySelector('#df-e33478dd-5091-47c9-81ca-7d2419909f08 button.colab-df-convert');\n",
              "      buttonEl.style.display =\n",
              "        google.colab.kernel.accessAllowed ? 'block' : 'none';\n",
              "\n",
              "      async function convertToInteractive(key) {\n",
              "        const element = document.querySelector('#df-e33478dd-5091-47c9-81ca-7d2419909f08');\n",
              "        const dataTable =\n",
              "          await google.colab.kernel.invokeFunction('convertToInteractive',\n",
              "                                                    [key], {});\n",
              "        if (!dataTable) return;\n",
              "\n",
              "        const docLinkHtml = 'Like what you see? Visit the ' +\n",
              "          '<a target=\"_blank\" href=https://colab.research.google.com/notebooks/data_table.ipynb>data table notebook</a>'\n",
              "          + ' to learn more about interactive tables.';\n",
              "        element.innerHTML = '';\n",
              "        dataTable['output_type'] = 'display_data';\n",
              "        await google.colab.output.renderOutput(dataTable, element);\n",
              "        const docLink = document.createElement('div');\n",
              "        docLink.innerHTML = docLinkHtml;\n",
              "        element.appendChild(docLink);\n",
              "      }\n",
              "    </script>\n",
              "  </div>\n",
              "\n",
              "\n",
              "<div id=\"df-e7b295f0-0595-4edd-8c3b-a8a64fb874be\">\n",
              "  <button class=\"colab-df-quickchart\" onclick=\"quickchart('df-e7b295f0-0595-4edd-8c3b-a8a64fb874be')\"\n",
              "            title=\"Suggest charts.\"\n",
              "            style=\"display:none;\">\n",
              "\n",
              "<svg xmlns=\"http://www.w3.org/2000/svg\" height=\"24px\"viewBox=\"0 0 24 24\"\n",
              "     width=\"24px\">\n",
              "    <g>\n",
              "        <path d=\"M19 3H5c-1.1 0-2 .9-2 2v14c0 1.1.9 2 2 2h14c1.1 0 2-.9 2-2V5c0-1.1-.9-2-2-2zM9 17H7v-7h2v7zm4 0h-2V7h2v10zm4 0h-2v-4h2v4z\"/>\n",
              "    </g>\n",
              "</svg>\n",
              "  </button>\n",
              "\n",
              "<style>\n",
              "  .colab-df-quickchart {\n",
              "    background-color: #E8F0FE;\n",
              "    border: none;\n",
              "    border-radius: 50%;\n",
              "    cursor: pointer;\n",
              "    display: none;\n",
              "    fill: #1967D2;\n",
              "    height: 32px;\n",
              "    padding: 0 0 0 0;\n",
              "    width: 32px;\n",
              "  }\n",
              "\n",
              "  .colab-df-quickchart:hover {\n",
              "    background-color: #E2EBFA;\n",
              "    box-shadow: 0px 1px 2px rgba(60, 64, 67, 0.3), 0px 1px 3px 1px rgba(60, 64, 67, 0.15);\n",
              "    fill: #174EA6;\n",
              "  }\n",
              "\n",
              "  [theme=dark] .colab-df-quickchart {\n",
              "    background-color: #3B4455;\n",
              "    fill: #D2E3FC;\n",
              "  }\n",
              "\n",
              "  [theme=dark] .colab-df-quickchart:hover {\n",
              "    background-color: #434B5C;\n",
              "    box-shadow: 0px 1px 3px 1px rgba(0, 0, 0, 0.15);\n",
              "    filter: drop-shadow(0px 1px 2px rgba(0, 0, 0, 0.3));\n",
              "    fill: #FFFFFF;\n",
              "  }\n",
              "</style>\n",
              "\n",
              "  <script>\n",
              "    async function quickchart(key) {\n",
              "      const charts = await google.colab.kernel.invokeFunction(\n",
              "          'suggestCharts', [key], {});\n",
              "    }\n",
              "    (() => {\n",
              "      let quickchartButtonEl =\n",
              "        document.querySelector('#df-e7b295f0-0595-4edd-8c3b-a8a64fb874be button');\n",
              "      quickchartButtonEl.style.display =\n",
              "        google.colab.kernel.accessAllowed ? 'block' : 'none';\n",
              "    })();\n",
              "  </script>\n",
              "</div>\n",
              "    </div>\n",
              "  </div>\n"
            ]
          },
          "metadata": {},
          "execution_count": 5
        }
      ]
    },
    {
      "cell_type": "markdown",
      "source": [
        "### Model\n",
        "\n",
        "- Previously: $f_{w,b}\\left(x\\right) = wx + b$\n",
        "- With multiple regression: $f_{\\vec{w},b}\\left(\\vec{x}\\right) = w_1x_1 + w_2x_2 + w_3x_3 \\dots + w_nx_n + b$"
      ],
      "metadata": {
        "id": "7Yc7xSRGlKJP"
      }
    },
    {
      "cell_type": "markdown",
      "source": [
        "#### In our example:\n",
        "\n",
        "- $x_1$ denotes the `Size`\n",
        "- $x_2$ denotes the `Bedrooms`\n",
        "- $x_3$ denotes the `Floors`\n",
        "- $x_4$ denotes the `YearsOld`\n",
        "\n",
        "Suppose we have trained the model and found the parameters:\n",
        "\n",
        "$f_{w,b}\\left(x\\right) = 0.1x_1 + 4x_2 + 10x_3 - 2x_4 + 80$\n",
        "\n",
        "#### How might we interpret these parameters?\n",
        "\n",
        "- First note that the price is in 1000s of dollars\n",
        "- $b = 80$ where the unit is 1000s of dollars\n",
        "    - This can be thought of as the *base price* of a house with 0 square feet, 0 bedrooms, 0 floors and 0 years old\n",
        "- $0.1x$\n",
        "    - The price increases by $0.1 \\times 1000 = 100$ dollars for each additional square foot\n",
        "- $4x_2$\n",
        "    - The price increases by $4 \\times 1000 = 4000$ dollars for each additional bedroom\n",
        "- $10x_3$\n",
        "    - The prices increases by $10 \\times 1000 = 10000$ dollars for each additional floor\n",
        "- $-2x_4$\n",
        "    - The price **decreases** by $2 \\times 1000 = 2000$ dollars for each year added to the age of the house\n"
      ],
      "metadata": {
        "id": "NP1087ixm4wy"
      }
    },
    {
      "cell_type": "markdown",
      "source": [
        "### Notation\n",
        "\n",
        "- **The model**: $f_{\\vec{w},b}\\left(\\vec{x}\\right) = w_1x_1 + w_2x_x2 + w_3x_3 \\dots + w_nx_n + b$\n",
        "- $\\vec{w} = \\left[w_1 \\ w_2 \\ w_3 \\dots w_n\\right]$\n",
        "- $b$ is a scalar\n",
        "    - $\\vec{w}$ together with $b$ are the **parameters of the model**\n",
        "- $\\vec{x} = \\left[x_1 \\ x_2 \\ x_3 \\dots x_n\\right]$\n",
        "    - $\\vec{x}$ contains the **features of the model**"
      ],
      "metadata": {
        "id": "GnBTXuOdqdWu"
      }
    },
    {
      "cell_type": "markdown",
      "source": [
        "### Model: more succinctly\n",
        "\n",
        "- the dot ($\\cdot$) in the following formula is for the **dot product**"
      ],
      "metadata": {
        "id": "I25bBEsjwfPb"
      }
    },
    {
      "cell_type": "markdown",
      "source": [
        "$$\n",
        "f_{\\vec{w},b}\\left(\\vec{x}\\right) = \\vec{w} \\cdot \\vec{x} + b\n",
        "$$"
      ],
      "metadata": {
        "id": "5oIIdiNYwqq1"
      }
    },
    {
      "cell_type": "markdown",
      "source": [
        "## 1.2.1.2 Vectorization\n",
        "\n",
        "Benefiits of vectorization:\n",
        "\n",
        "1. Makes your code more compact\n",
        "2. Make your code run more efficiently\n",
        "3. Allows you to make use of modern numerical linear algebra libraries\n",
        "4. Might even allow you to make use of GPU hardware"
      ],
      "metadata": {
        "id": "DMpZPrnZzRnz"
      }
    },
    {
      "cell_type": "markdown",
      "source": [
        "### Example\n",
        "\n",
        "Note that in linear algebra, the count starts from 1. In Python the count starts from 0.\n",
        "\n",
        "- $\\vec{w} = \\left[w_1 \\ w_2 \\ w_3\\right]$\n",
        "- $b$ is a scalar\n",
        "- $\\vec{x} = \\left[x_1 \\ x_2 \\ x_3\\right]$\n",
        "- So, $n = 3$\n",
        "\n",
        "Be careful. In linear algebra, counting starts from 1, but in Python, it starts from 0.\n",
        "\n",
        "Here it is in Python code:"
      ],
      "metadata": {
        "id": "ikd2Bsfp1ozy"
      }
    },
    {
      "cell_type": "code",
      "source": [
        "w = np.array([1.0, 2.5, -3.3])\n",
        "b = 4\n",
        "x = np.array([10, 20, 30])\n",
        "n = len(w)\n",
        "\n",
        "print('w:', w)\n",
        "print(' w1:', w[0], ' w2:', w[1], ' w3:', w[2], '\\n')\n",
        "\n",
        "print('b:', b, '\\n')\n",
        "\n",
        "print('x:', x)\n",
        "print(' x1:', x[0], ' x2:', x[1], ' x3:', w[2], '\\n')\n",
        "\n",
        "print('n:', n, '\\n')"
      ],
      "metadata": {
        "colab": {
          "base_uri": "https://localhost:8080/"
        },
        "id": "THSo3JyT2y9y",
        "outputId": "87802e94-044e-494d-9cb1-fc15dd7170ce"
      },
      "execution_count": null,
      "outputs": [
        {
          "output_type": "stream",
          "name": "stdout",
          "text": [
            "w: [ 1.   2.5 -3.3]\n",
            " w1: 1.0  w2: 2.5  w3: -3.3 \n",
            "\n",
            "b: 4 \n",
            "\n",
            "x: [10 20 30]\n",
            " x1: 10  x2: 20  x3: -3.3 \n",
            "\n",
            "n: 3 \n",
            "\n"
          ]
        }
      ]
    },
    {
      "cell_type": "markdown",
      "source": [
        "#### Without vectorization\n",
        "\n",
        "$f_{\\vec{w},b} = w_1x_1 + w_2x_2 + w_3x_3 + b$"
      ],
      "metadata": {
        "id": "g6p6MLvH7M4C"
      }
    },
    {
      "cell_type": "code",
      "source": [
        "%%timeit -r7 -n1000000\n",
        "f = w[0] * x[0] + \\\n",
        "    w[1] * x[1] + \\\n",
        "    w[2] * x[2] + b"
      ],
      "metadata": {
        "colab": {
          "base_uri": "https://localhost:8080/"
        },
        "id": "YXMJrUsd7Ty3",
        "outputId": "538a5edd-6c82-4bb9-98cd-1c2824f407a7"
      },
      "execution_count": null,
      "outputs": [
        {
          "output_type": "stream",
          "name": "stdout",
          "text": [
            "1.54 µs ± 253 ns per loop (mean ± std. dev. of 7 runs, 1000000 loops each)\n"
          ]
        }
      ]
    },
    {
      "cell_type": "markdown",
      "source": [
        "#### Without vectorizaaion using a `for` loop\n",
        "\n",
        "$$\n",
        "f_{\\vec{w},b} = \\left(\\sum_{j=1}^{n}w_jx_j\\right) + b\n",
        "$$"
      ],
      "metadata": {
        "id": "OQlMFy5D8S7W"
      }
    },
    {
      "cell_type": "code",
      "source": [
        "%%timeit -r7 -n1000000\n",
        "f = 0\n",
        "for j in range(0, n):\n",
        "    f += w[j] * x[j]\n",
        "f += b"
      ],
      "metadata": {
        "colab": {
          "base_uri": "https://localhost:8080/"
        },
        "id": "-XMCa_gc8ZB8",
        "outputId": "3ffb1210-8594-444f-9671-9ce29be2ffee"
      },
      "execution_count": null,
      "outputs": [
        {
          "output_type": "stream",
          "name": "stdout",
          "text": [
            "1.7 µs ± 35.9 ns per loop (mean ± std. dev. of 7 runs, 1000000 loops each)\n"
          ]
        }
      ]
    },
    {
      "cell_type": "markdown",
      "source": [
        "#### With vectorization\n",
        "\n",
        "- This code only seems to run better than the two previous code cells when using a GPU\n",
        "\n",
        "$$\n",
        "f_{\\vec{w},b} = \\vec{w} \\cdot \\vec{x} + b\n",
        "$$"
      ],
      "metadata": {
        "id": "_VhCfVOD_pt-"
      }
    },
    {
      "cell_type": "code",
      "source": [
        "%%timeit -r7 -n1000000\n",
        "f = w.dot(x) + b"
      ],
      "metadata": {
        "colab": {
          "base_uri": "https://localhost:8080/"
        },
        "id": "TFKJIAdHIgw4",
        "outputId": "90703c84-1c93-4669-9af4-19975a8ac506"
      },
      "execution_count": null,
      "outputs": [
        {
          "output_type": "stream",
          "name": "stdout",
          "text": [
            "1.22 µs ± 10.9 ns per loop (mean ± std. dev. of 7 runs, 1000000 loops each)\n"
          ]
        }
      ]
    },
    {
      "cell_type": "code",
      "source": [
        "%%timeit -r7 -n1000000\n",
        "f = np.dot(w, x) + b"
      ],
      "metadata": {
        "colab": {
          "base_uri": "https://localhost:8080/"
        },
        "id": "rFYxkPkK_vfR",
        "outputId": "0182ad2b-8e2a-487b-cb22-620045d51e65"
      },
      "execution_count": null,
      "outputs": [
        {
          "output_type": "stream",
          "name": "stdout",
          "text": [
            "1.79 µs ± 18.2 ns per loop (mean ± std. dev. of 7 runs, 1000000 loops each)\n"
          ]
        }
      ]
    },
    {
      "cell_type": "code",
      "source": [
        "%%timeit -r7 -n1000000\n",
        "f = w @ x + b"
      ],
      "metadata": {
        "colab": {
          "base_uri": "https://localhost:8080/"
        },
        "id": "I4yGnPisK4Uq",
        "outputId": "ee0df912-8288-4a55-bc2e-708aa53d65dd"
      },
      "execution_count": null,
      "outputs": [
        {
          "output_type": "stream",
          "name": "stdout",
          "text": [
            "1.91 µs ± 13.2 ns per loop (mean ± std. dev. of 7 runs, 1000000 loops each)\n"
          ]
        }
      ]
    },
    {
      "cell_type": "markdown",
      "source": [
        "### Careful, don't use `*`\n",
        "\n",
        "- `*` does element-wise multiplication"
      ],
      "metadata": {
        "id": "HGfjuRtFLoHm"
      }
    },
    {
      "cell_type": "code",
      "source": [
        "# correct\n",
        "w.dot(x), w @ x"
      ],
      "metadata": {
        "colab": {
          "base_uri": "https://localhost:8080/"
        },
        "id": "ZRwPJpy2KfY6",
        "outputId": "21a87df9-fb15-4a16-9ac4-9a7d61b966be"
      },
      "execution_count": null,
      "outputs": [
        {
          "output_type": "execute_result",
          "data": {
            "text/plain": [
              "(-39.0, -39.0)"
            ]
          },
          "metadata": {},
          "execution_count": 12
        }
      ]
    },
    {
      "cell_type": "code",
      "source": [
        "# incorrect\n",
        "w * x"
      ],
      "metadata": {
        "colab": {
          "base_uri": "https://localhost:8080/"
        },
        "id": "GmZBPrc8MKIS",
        "outputId": "d734a7ae-5efc-4ecd-c948-d9e57eafdc65"
      },
      "execution_count": null,
      "outputs": [
        {
          "output_type": "execute_result",
          "data": {
            "text/plain": [
              "array([ 10.,  50., -99.])"
            ]
          },
          "metadata": {},
          "execution_count": 13
        }
      ]
    },
    {
      "cell_type": "markdown",
      "source": [
        "### How does vectorization help with Gradient Descent?"
      ],
      "metadata": {
        "id": "Rc5TfKmMQA-9"
      }
    },
    {
      "cell_type": "markdown",
      "source": [
        "Let $\\vec{w}$ be the vector for the weights and let $\\vec{d}$ be the vector for the derivatives. Suppose there are $n = 16$ features. Let $b$ be the intercept.\n",
        "\n",
        "$$\n",
        "\\begin{align}\n",
        "\\vec{w} &= \\begin{pmatrix} w_1 & w_2 & \\dots & w_{16}\\end{pmatrix} \\\\\n",
        "\\vec{d} &= \\begin{pmatrix} d_1 & d_2 & \\dots & d_{16}\\end{pmatrix}\n",
        "\\end{align}\n",
        "$$\n",
        "\n",
        "Suppose the values for $vec{w}$ and $\\vec{d}$ are in `numpy arrays`.\n",
        "\n",
        "Compute:\n",
        "\n",
        "$$\n",
        "w_j = w_j - \\alpha d_j \\text{ for } j = 1 \\dots 16\n",
        "$$\n",
        "\n",
        "Code without vectorization (ignoring $b$):\n",
        "\n",
        "$$\n",
        "\\begin{align}\n",
        "w_1 &= w_1 - \\alpha d_1 \\\\\n",
        "w_2 &= w_2 - \\alpha d_2 \\\\\n",
        "& \\vdots \\\\\n",
        "w_{16} &= w_{16} - \\alpha d_{16}\n",
        "\\end{align}\n",
        "$$\n",
        "\n",
        "```python\n",
        "for j in range(0, 16):\n",
        "    w[j] = w[j] - alpha * d[j]\n",
        "```\n",
        "\n",
        "Code with vectorization (ignoring $b$):\n",
        "\n",
        "$$\n",
        "\\vec{w} = \\vec{w} - \\alpha\\vec{d}\n",
        "$$\n",
        "\n",
        "```python\n",
        "w = w - 0.1 * d\n",
        "```"
      ],
      "metadata": {
        "id": "zTU7Spo1QHOK"
      }
    },
    {
      "cell_type": "markdown",
      "source": [
        "## 1.2.1.3 Lab - Python, Numpy and Vectorization\n",
        "\n",
        "https://colab.research.google.com/drive/1FuQouLAiKi4487ELObVYfBX5r-e2L96V#scrollTo=6qQadVxTW-hn\n",
        "\n"
      ],
      "metadata": {
        "id": "2oAeeaR4WY8r"
      }
    },
    {
      "cell_type": "markdown",
      "source": [
        "## 1.2.1.4 Gradient descent for multiple linear regression"
      ],
      "metadata": {
        "id": "188tQT8tXf4_"
      }
    }
  ]
}