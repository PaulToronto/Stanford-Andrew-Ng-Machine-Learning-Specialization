{
  "nbformat": 4,
  "nbformat_minor": 0,
  "metadata": {
    "colab": {
      "provenance": [],
      "toc_visible": true,
      "authorship_tag": "ABX9TyPQcCIGUP+Vzd6tQoqRjiAn",
      "include_colab_link": true
    },
    "kernelspec": {
      "name": "python3",
      "display_name": "Python 3"
    },
    "language_info": {
      "name": "python"
    }
  },
  "cells": [
    {
      "cell_type": "markdown",
      "metadata": {
        "id": "view-in-github",
        "colab_type": "text"
      },
      "source": [
        "<a href=\"https://colab.research.google.com/github/PaulToronto/Stanford-Andrew-Ng-Machine-Learning-Specialization/blob/main/1_2_2_3_Lab_Linear_regression_with_scikit_learn.ipynb\" target=\"_parent\"><img src=\"https://colab.research.google.com/assets/colab-badge.svg\" alt=\"Open In Colab\"/></a>"
      ]
    },
    {
      "cell_type": "markdown",
      "source": [
        "# Lab - Linear regression with scikit-learn"
      ],
      "metadata": {
        "id": "8l3FyFwemrl2"
      }
    },
    {
      "cell_type": "markdown",
      "source": [
        "## Imports"
      ],
      "metadata": {
        "id": "llokSIUjmtbC"
      }
    },
    {
      "cell_type": "code",
      "execution_count": 1,
      "metadata": {
        "id": "394v8PgWmQG4"
      },
      "outputs": [],
      "source": [
        "import pandas as pd\n",
        "import numpy as np\n",
        "import matplotlib.pyplot as plt\n",
        "from sklearn.linear_model import SGDRegressor\n",
        "from sklearn.preprocessing import StandardScaler"
      ]
    },
    {
      "cell_type": "markdown",
      "source": [
        "## The Data"
      ],
      "metadata": {
        "id": "1aVJO2ASYaQ2"
      }
    },
    {
      "cell_type": "code",
      "source": [
        "path = 'https://raw.githubusercontent.com/PaulToronto/'\n",
        "path += 'Stanford-Andrew-Ng-Machine-Learning-Specialization/main/data/'\n",
        "path += 'houses2.csv'\n",
        "houses = pd.read_csv(path, header=None)"
      ],
      "metadata": {
        "id": "gAf8jJ1_Yjnr"
      },
      "execution_count": 2,
      "outputs": []
    },
    {
      "cell_type": "code",
      "source": [
        "houses.columns = ['size_sqft', 'bedrooms', 'floors', 'age', 'price']\n",
        "houses"
      ],
      "metadata": {
        "colab": {
          "base_uri": "https://localhost:8080/",
          "height": 424
        },
        "id": "emB0lKgSYqNZ",
        "outputId": "90d08f87-dc93-4e08-f979-8303066d4df1"
      },
      "execution_count": 3,
      "outputs": [
        {
          "output_type": "execute_result",
          "data": {
            "text/plain": [
              "    size_sqft  bedrooms  floors   age  price\n",
              "0       952.0       2.0     1.0  65.0  271.5\n",
              "1      1244.0       3.0     1.0  64.0  300.0\n",
              "2      1947.0       3.0     2.0  17.0  509.8\n",
              "3      1725.0       3.0     2.0  42.0  394.0\n",
              "4      1959.0       3.0     2.0  15.0  540.0\n",
              "..        ...       ...     ...   ...    ...\n",
              "95     1224.0       2.0     2.0  12.0  329.0\n",
              "96     1432.0       2.0     1.0  43.0  388.0\n",
              "97     1660.0       3.0     2.0  19.0  390.0\n",
              "98     1212.0       3.0     1.0  20.0  356.0\n",
              "99     1050.0       2.0     1.0  65.0  257.8\n",
              "\n",
              "[100 rows x 5 columns]"
            ],
            "text/html": [
              "\n",
              "  <div id=\"df-0f8d5f5e-e60e-4e34-8fea-7eda5b6f86c1\" class=\"colab-df-container\">\n",
              "    <div>\n",
              "<style scoped>\n",
              "    .dataframe tbody tr th:only-of-type {\n",
              "        vertical-align: middle;\n",
              "    }\n",
              "\n",
              "    .dataframe tbody tr th {\n",
              "        vertical-align: top;\n",
              "    }\n",
              "\n",
              "    .dataframe thead th {\n",
              "        text-align: right;\n",
              "    }\n",
              "</style>\n",
              "<table border=\"1\" class=\"dataframe\">\n",
              "  <thead>\n",
              "    <tr style=\"text-align: right;\">\n",
              "      <th></th>\n",
              "      <th>size_sqft</th>\n",
              "      <th>bedrooms</th>\n",
              "      <th>floors</th>\n",
              "      <th>age</th>\n",
              "      <th>price</th>\n",
              "    </tr>\n",
              "  </thead>\n",
              "  <tbody>\n",
              "    <tr>\n",
              "      <th>0</th>\n",
              "      <td>952.0</td>\n",
              "      <td>2.0</td>\n",
              "      <td>1.0</td>\n",
              "      <td>65.0</td>\n",
              "      <td>271.5</td>\n",
              "    </tr>\n",
              "    <tr>\n",
              "      <th>1</th>\n",
              "      <td>1244.0</td>\n",
              "      <td>3.0</td>\n",
              "      <td>1.0</td>\n",
              "      <td>64.0</td>\n",
              "      <td>300.0</td>\n",
              "    </tr>\n",
              "    <tr>\n",
              "      <th>2</th>\n",
              "      <td>1947.0</td>\n",
              "      <td>3.0</td>\n",
              "      <td>2.0</td>\n",
              "      <td>17.0</td>\n",
              "      <td>509.8</td>\n",
              "    </tr>\n",
              "    <tr>\n",
              "      <th>3</th>\n",
              "      <td>1725.0</td>\n",
              "      <td>3.0</td>\n",
              "      <td>2.0</td>\n",
              "      <td>42.0</td>\n",
              "      <td>394.0</td>\n",
              "    </tr>\n",
              "    <tr>\n",
              "      <th>4</th>\n",
              "      <td>1959.0</td>\n",
              "      <td>3.0</td>\n",
              "      <td>2.0</td>\n",
              "      <td>15.0</td>\n",
              "      <td>540.0</td>\n",
              "    </tr>\n",
              "    <tr>\n",
              "      <th>...</th>\n",
              "      <td>...</td>\n",
              "      <td>...</td>\n",
              "      <td>...</td>\n",
              "      <td>...</td>\n",
              "      <td>...</td>\n",
              "    </tr>\n",
              "    <tr>\n",
              "      <th>95</th>\n",
              "      <td>1224.0</td>\n",
              "      <td>2.0</td>\n",
              "      <td>2.0</td>\n",
              "      <td>12.0</td>\n",
              "      <td>329.0</td>\n",
              "    </tr>\n",
              "    <tr>\n",
              "      <th>96</th>\n",
              "      <td>1432.0</td>\n",
              "      <td>2.0</td>\n",
              "      <td>1.0</td>\n",
              "      <td>43.0</td>\n",
              "      <td>388.0</td>\n",
              "    </tr>\n",
              "    <tr>\n",
              "      <th>97</th>\n",
              "      <td>1660.0</td>\n",
              "      <td>3.0</td>\n",
              "      <td>2.0</td>\n",
              "      <td>19.0</td>\n",
              "      <td>390.0</td>\n",
              "    </tr>\n",
              "    <tr>\n",
              "      <th>98</th>\n",
              "      <td>1212.0</td>\n",
              "      <td>3.0</td>\n",
              "      <td>1.0</td>\n",
              "      <td>20.0</td>\n",
              "      <td>356.0</td>\n",
              "    </tr>\n",
              "    <tr>\n",
              "      <th>99</th>\n",
              "      <td>1050.0</td>\n",
              "      <td>2.0</td>\n",
              "      <td>1.0</td>\n",
              "      <td>65.0</td>\n",
              "      <td>257.8</td>\n",
              "    </tr>\n",
              "  </tbody>\n",
              "</table>\n",
              "<p>100 rows × 5 columns</p>\n",
              "</div>\n",
              "    <div class=\"colab-df-buttons\">\n",
              "\n",
              "  <div class=\"colab-df-container\">\n",
              "    <button class=\"colab-df-convert\" onclick=\"convertToInteractive('df-0f8d5f5e-e60e-4e34-8fea-7eda5b6f86c1')\"\n",
              "            title=\"Convert this dataframe to an interactive table.\"\n",
              "            style=\"display:none;\">\n",
              "\n",
              "  <svg xmlns=\"http://www.w3.org/2000/svg\" height=\"24px\" viewBox=\"0 -960 960 960\">\n",
              "    <path d=\"M120-120v-720h720v720H120Zm60-500h600v-160H180v160Zm220 220h160v-160H400v160Zm0 220h160v-160H400v160ZM180-400h160v-160H180v160Zm440 0h160v-160H620v160ZM180-180h160v-160H180v160Zm440 0h160v-160H620v160Z\"/>\n",
              "  </svg>\n",
              "    </button>\n",
              "\n",
              "  <style>\n",
              "    .colab-df-container {\n",
              "      display:flex;\n",
              "      gap: 12px;\n",
              "    }\n",
              "\n",
              "    .colab-df-convert {\n",
              "      background-color: #E8F0FE;\n",
              "      border: none;\n",
              "      border-radius: 50%;\n",
              "      cursor: pointer;\n",
              "      display: none;\n",
              "      fill: #1967D2;\n",
              "      height: 32px;\n",
              "      padding: 0 0 0 0;\n",
              "      width: 32px;\n",
              "    }\n",
              "\n",
              "    .colab-df-convert:hover {\n",
              "      background-color: #E2EBFA;\n",
              "      box-shadow: 0px 1px 2px rgba(60, 64, 67, 0.3), 0px 1px 3px 1px rgba(60, 64, 67, 0.15);\n",
              "      fill: #174EA6;\n",
              "    }\n",
              "\n",
              "    .colab-df-buttons div {\n",
              "      margin-bottom: 4px;\n",
              "    }\n",
              "\n",
              "    [theme=dark] .colab-df-convert {\n",
              "      background-color: #3B4455;\n",
              "      fill: #D2E3FC;\n",
              "    }\n",
              "\n",
              "    [theme=dark] .colab-df-convert:hover {\n",
              "      background-color: #434B5C;\n",
              "      box-shadow: 0px 1px 3px 1px rgba(0, 0, 0, 0.15);\n",
              "      filter: drop-shadow(0px 1px 2px rgba(0, 0, 0, 0.3));\n",
              "      fill: #FFFFFF;\n",
              "    }\n",
              "  </style>\n",
              "\n",
              "    <script>\n",
              "      const buttonEl =\n",
              "        document.querySelector('#df-0f8d5f5e-e60e-4e34-8fea-7eda5b6f86c1 button.colab-df-convert');\n",
              "      buttonEl.style.display =\n",
              "        google.colab.kernel.accessAllowed ? 'block' : 'none';\n",
              "\n",
              "      async function convertToInteractive(key) {\n",
              "        const element = document.querySelector('#df-0f8d5f5e-e60e-4e34-8fea-7eda5b6f86c1');\n",
              "        const dataTable =\n",
              "          await google.colab.kernel.invokeFunction('convertToInteractive',\n",
              "                                                    [key], {});\n",
              "        if (!dataTable) return;\n",
              "\n",
              "        const docLinkHtml = 'Like what you see? Visit the ' +\n",
              "          '<a target=\"_blank\" href=https://colab.research.google.com/notebooks/data_table.ipynb>data table notebook</a>'\n",
              "          + ' to learn more about interactive tables.';\n",
              "        element.innerHTML = '';\n",
              "        dataTable['output_type'] = 'display_data';\n",
              "        await google.colab.output.renderOutput(dataTable, element);\n",
              "        const docLink = document.createElement('div');\n",
              "        docLink.innerHTML = docLinkHtml;\n",
              "        element.appendChild(docLink);\n",
              "      }\n",
              "    </script>\n",
              "  </div>\n",
              "\n",
              "\n",
              "<div id=\"df-14b8fae0-c04c-4ba7-b953-54afc744a66f\">\n",
              "  <button class=\"colab-df-quickchart\" onclick=\"quickchart('df-14b8fae0-c04c-4ba7-b953-54afc744a66f')\"\n",
              "            title=\"Suggest charts.\"\n",
              "            style=\"display:none;\">\n",
              "\n",
              "<svg xmlns=\"http://www.w3.org/2000/svg\" height=\"24px\"viewBox=\"0 0 24 24\"\n",
              "     width=\"24px\">\n",
              "    <g>\n",
              "        <path d=\"M19 3H5c-1.1 0-2 .9-2 2v14c0 1.1.9 2 2 2h14c1.1 0 2-.9 2-2V5c0-1.1-.9-2-2-2zM9 17H7v-7h2v7zm4 0h-2V7h2v10zm4 0h-2v-4h2v4z\"/>\n",
              "    </g>\n",
              "</svg>\n",
              "  </button>\n",
              "\n",
              "<style>\n",
              "  .colab-df-quickchart {\n",
              "    background-color: #E8F0FE;\n",
              "    border: none;\n",
              "    border-radius: 50%;\n",
              "    cursor: pointer;\n",
              "    display: none;\n",
              "    fill: #1967D2;\n",
              "    height: 32px;\n",
              "    padding: 0 0 0 0;\n",
              "    width: 32px;\n",
              "  }\n",
              "\n",
              "  .colab-df-quickchart:hover {\n",
              "    background-color: #E2EBFA;\n",
              "    box-shadow: 0px 1px 2px rgba(60, 64, 67, 0.3), 0px 1px 3px 1px rgba(60, 64, 67, 0.15);\n",
              "    fill: #174EA6;\n",
              "  }\n",
              "\n",
              "  [theme=dark] .colab-df-quickchart {\n",
              "    background-color: #3B4455;\n",
              "    fill: #D2E3FC;\n",
              "  }\n",
              "\n",
              "  [theme=dark] .colab-df-quickchart:hover {\n",
              "    background-color: #434B5C;\n",
              "    box-shadow: 0px 1px 3px 1px rgba(0, 0, 0, 0.15);\n",
              "    filter: drop-shadow(0px 1px 2px rgba(0, 0, 0, 0.3));\n",
              "    fill: #FFFFFF;\n",
              "  }\n",
              "</style>\n",
              "\n",
              "  <script>\n",
              "    async function quickchart(key) {\n",
              "      const charts = await google.colab.kernel.invokeFunction(\n",
              "          'suggestCharts', [key], {});\n",
              "    }\n",
              "    (() => {\n",
              "      let quickchartButtonEl =\n",
              "        document.querySelector('#df-14b8fae0-c04c-4ba7-b953-54afc744a66f button');\n",
              "      quickchartButtonEl.style.display =\n",
              "        google.colab.kernel.accessAllowed ? 'block' : 'none';\n",
              "    })();\n",
              "  </script>\n",
              "</div>\n",
              "    </div>\n",
              "  </div>\n"
            ]
          },
          "metadata": {},
          "execution_count": 3
        }
      ]
    },
    {
      "cell_type": "code",
      "source": [
        "X_features = houses.columns[:-1]\n",
        "X_features = list(X_features)\n",
        "X_features"
      ],
      "metadata": {
        "colab": {
          "base_uri": "https://localhost:8080/"
        },
        "id": "WYaLFZ5bYvPE",
        "outputId": "7f9e2606-7c54-46d6-9be3-2ad990e51dbb"
      },
      "execution_count": 4,
      "outputs": [
        {
          "output_type": "execute_result",
          "data": {
            "text/plain": [
              "['size_sqft', 'bedrooms', 'floors', 'age']"
            ]
          },
          "metadata": {},
          "execution_count": 4
        }
      ]
    },
    {
      "cell_type": "code",
      "source": [
        "X_train = houses.drop('price', axis=1).values\n",
        "y_train = houses['price'].values"
      ],
      "metadata": {
        "id": "UHcFTAE0YzeT"
      },
      "execution_count": 5,
      "outputs": []
    },
    {
      "cell_type": "code",
      "source": [
        "X_train, y_train"
      ],
      "metadata": {
        "colab": {
          "base_uri": "https://localhost:8080/"
        },
        "id": "bUyHJxrfZEQ2",
        "outputId": "1beed9fc-2d69-4753-d69a-a22aa0c0088c"
      },
      "execution_count": 6,
      "outputs": [
        {
          "output_type": "execute_result",
          "data": {
            "text/plain": [
              "(array([[9.520e+02, 2.000e+00, 1.000e+00, 6.500e+01],\n",
              "        [1.244e+03, 3.000e+00, 1.000e+00, 6.400e+01],\n",
              "        [1.947e+03, 3.000e+00, 2.000e+00, 1.700e+01],\n",
              "        [1.725e+03, 3.000e+00, 2.000e+00, 4.200e+01],\n",
              "        [1.959e+03, 3.000e+00, 2.000e+00, 1.500e+01],\n",
              "        [1.314e+03, 2.000e+00, 1.000e+00, 1.400e+01],\n",
              "        [8.640e+02, 2.000e+00, 1.000e+00, 6.600e+01],\n",
              "        [1.836e+03, 3.000e+00, 1.000e+00, 1.700e+01],\n",
              "        [1.026e+03, 3.000e+00, 1.000e+00, 4.300e+01],\n",
              "        [3.194e+03, 4.000e+00, 2.000e+00, 8.700e+01],\n",
              "        [7.880e+02, 2.000e+00, 1.000e+00, 8.000e+01],\n",
              "        [1.200e+03, 2.000e+00, 2.000e+00, 1.700e+01],\n",
              "        [1.557e+03, 2.000e+00, 1.000e+00, 1.800e+01],\n",
              "        [1.430e+03, 3.000e+00, 1.000e+00, 2.000e+01],\n",
              "        [1.220e+03, 2.000e+00, 1.000e+00, 1.500e+01],\n",
              "        [1.092e+03, 2.000e+00, 1.000e+00, 6.400e+01],\n",
              "        [8.480e+02, 1.000e+00, 1.000e+00, 1.700e+01],\n",
              "        [1.682e+03, 3.000e+00, 2.000e+00, 2.300e+01],\n",
              "        [1.768e+03, 3.000e+00, 2.000e+00, 1.800e+01],\n",
              "        [1.040e+03, 3.000e+00, 1.000e+00, 4.400e+01],\n",
              "        [1.652e+03, 2.000e+00, 1.000e+00, 2.100e+01],\n",
              "        [1.088e+03, 2.000e+00, 1.000e+00, 3.500e+01],\n",
              "        [1.316e+03, 3.000e+00, 1.000e+00, 1.400e+01],\n",
              "        [1.593e+03, 0.000e+00, 1.000e+00, 2.000e+01],\n",
              "        [9.720e+02, 2.000e+00, 1.000e+00, 7.300e+01],\n",
              "        [1.097e+03, 3.000e+00, 1.000e+00, 3.700e+01],\n",
              "        [1.004e+03, 2.000e+00, 1.000e+00, 5.100e+01],\n",
              "        [9.040e+02, 3.000e+00, 1.000e+00, 5.500e+01],\n",
              "        [1.694e+03, 3.000e+00, 1.000e+00, 1.300e+01],\n",
              "        [1.073e+03, 2.000e+00, 1.000e+00, 1.000e+02],\n",
              "        [1.419e+03, 3.000e+00, 2.000e+00, 1.900e+01],\n",
              "        [1.164e+03, 3.000e+00, 1.000e+00, 5.200e+01],\n",
              "        [1.935e+03, 3.000e+00, 2.000e+00, 1.200e+01],\n",
              "        [1.216e+03, 2.000e+00, 2.000e+00, 7.400e+01],\n",
              "        [2.482e+03, 4.000e+00, 2.000e+00, 1.600e+01],\n",
              "        [1.200e+03, 2.000e+00, 1.000e+00, 1.800e+01],\n",
              "        [1.840e+03, 3.000e+00, 2.000e+00, 2.000e+01],\n",
              "        [1.851e+03, 3.000e+00, 2.000e+00, 5.700e+01],\n",
              "        [1.660e+03, 3.000e+00, 2.000e+00, 1.900e+01],\n",
              "        [1.096e+03, 2.000e+00, 2.000e+00, 9.700e+01],\n",
              "        [1.775e+03, 3.000e+00, 2.000e+00, 2.800e+01],\n",
              "        [2.030e+03, 4.000e+00, 2.000e+00, 4.500e+01],\n",
              "        [1.784e+03, 4.000e+00, 2.000e+00, 1.070e+02],\n",
              "        [1.073e+03, 2.000e+00, 1.000e+00, 1.000e+02],\n",
              "        [1.552e+03, 3.000e+00, 1.000e+00, 1.600e+01],\n",
              "        [1.953e+03, 3.000e+00, 2.000e+00, 1.600e+01],\n",
              "        [1.224e+03, 2.000e+00, 2.000e+00, 1.200e+01],\n",
              "        [1.616e+03, 3.000e+00, 1.000e+00, 1.600e+01],\n",
              "        [8.160e+02, 2.000e+00, 1.000e+00, 5.800e+01],\n",
              "        [1.349e+03, 3.000e+00, 1.000e+00, 2.100e+01],\n",
              "        [1.571e+03, 3.000e+00, 1.000e+00, 1.400e+01],\n",
              "        [1.486e+03, 3.000e+00, 1.000e+00, 5.700e+01],\n",
              "        [1.506e+03, 2.000e+00, 1.000e+00, 1.600e+01],\n",
              "        [1.097e+03, 3.000e+00, 1.000e+00, 2.700e+01],\n",
              "        [1.764e+03, 3.000e+00, 2.000e+00, 2.400e+01],\n",
              "        [1.208e+03, 2.000e+00, 1.000e+00, 1.400e+01],\n",
              "        [1.470e+03, 3.000e+00, 2.000e+00, 2.400e+01],\n",
              "        [1.768e+03, 3.000e+00, 2.000e+00, 8.400e+01],\n",
              "        [1.654e+03, 3.000e+00, 1.000e+00, 1.900e+01],\n",
              "        [1.029e+03, 3.000e+00, 1.000e+00, 6.000e+01],\n",
              "        [1.120e+03, 2.000e+00, 2.000e+00, 1.600e+01],\n",
              "        [1.150e+03, 3.000e+00, 1.000e+00, 6.200e+01],\n",
              "        [8.160e+02, 2.000e+00, 1.000e+00, 3.900e+01],\n",
              "        [1.040e+03, 3.000e+00, 1.000e+00, 2.500e+01],\n",
              "        [1.392e+03, 3.000e+00, 1.000e+00, 6.400e+01],\n",
              "        [1.603e+03, 3.000e+00, 2.000e+00, 2.900e+01],\n",
              "        [1.215e+03, 3.000e+00, 1.000e+00, 6.300e+01],\n",
              "        [1.073e+03, 2.000e+00, 1.000e+00, 1.000e+02],\n",
              "        [2.599e+03, 4.000e+00, 2.000e+00, 2.200e+01],\n",
              "        [1.431e+03, 3.000e+00, 1.000e+00, 5.900e+01],\n",
              "        [2.090e+03, 3.000e+00, 2.000e+00, 2.600e+01],\n",
              "        [1.790e+03, 4.000e+00, 2.000e+00, 4.900e+01],\n",
              "        [1.484e+03, 3.000e+00, 2.000e+00, 1.600e+01],\n",
              "        [1.040e+03, 3.000e+00, 1.000e+00, 2.500e+01],\n",
              "        [1.431e+03, 3.000e+00, 1.000e+00, 2.200e+01],\n",
              "        [1.159e+03, 3.000e+00, 1.000e+00, 5.300e+01],\n",
              "        [1.547e+03, 3.000e+00, 2.000e+00, 1.200e+01],\n",
              "        [1.983e+03, 3.000e+00, 2.000e+00, 2.200e+01],\n",
              "        [1.056e+03, 3.000e+00, 1.000e+00, 5.300e+01],\n",
              "        [1.180e+03, 2.000e+00, 1.000e+00, 9.900e+01],\n",
              "        [1.358e+03, 2.000e+00, 1.000e+00, 1.700e+01],\n",
              "        [9.600e+02, 3.000e+00, 1.000e+00, 5.100e+01],\n",
              "        [1.456e+03, 3.000e+00, 2.000e+00, 1.600e+01],\n",
              "        [1.446e+03, 3.000e+00, 2.000e+00, 2.500e+01],\n",
              "        [1.208e+03, 2.000e+00, 1.000e+00, 1.500e+01],\n",
              "        [1.553e+03, 3.000e+00, 2.000e+00, 1.600e+01],\n",
              "        [8.820e+02, 3.000e+00, 1.000e+00, 4.900e+01],\n",
              "        [2.030e+03, 4.000e+00, 2.000e+00, 4.500e+01],\n",
              "        [1.040e+03, 3.000e+00, 1.000e+00, 6.200e+01],\n",
              "        [1.616e+03, 3.000e+00, 1.000e+00, 1.600e+01],\n",
              "        [8.030e+02, 2.000e+00, 1.000e+00, 8.000e+01],\n",
              "        [1.430e+03, 3.000e+00, 2.000e+00, 2.100e+01],\n",
              "        [1.656e+03, 3.000e+00, 1.000e+00, 6.100e+01],\n",
              "        [1.541e+03, 3.000e+00, 1.000e+00, 1.600e+01],\n",
              "        [9.480e+02, 3.000e+00, 1.000e+00, 5.300e+01],\n",
              "        [1.224e+03, 2.000e+00, 2.000e+00, 1.200e+01],\n",
              "        [1.432e+03, 2.000e+00, 1.000e+00, 4.300e+01],\n",
              "        [1.660e+03, 3.000e+00, 2.000e+00, 1.900e+01],\n",
              "        [1.212e+03, 3.000e+00, 1.000e+00, 2.000e+01],\n",
              "        [1.050e+03, 2.000e+00, 1.000e+00, 6.500e+01]]),\n",
              " array([271.5  , 300.   , 509.8  , 394.   , 540.   , 415.   , 230.   ,\n",
              "        560.   , 294.   , 718.2  , 200.   , 302.   , 468.   , 374.2  ,\n",
              "        388.   , 282.   , 311.8  , 401.   , 449.8  , 301.   , 502.   ,\n",
              "        340.   , 400.282, 572.   , 264.   , 304.   , 298.   , 219.8  ,\n",
              "        490.7  , 216.96 , 368.2  , 280.   , 526.87 , 237.   , 562.426,\n",
              "        369.8  , 460.   , 374.   , 390.   , 158.   , 426.   , 390.   ,\n",
              "        277.774, 216.96 , 425.8  , 504.   , 329.   , 464.   , 220.   ,\n",
              "        358.   , 478.   , 334.   , 426.98 , 290.   , 463.   , 390.8  ,\n",
              "        354.   , 350.   , 460.   , 237.   , 288.304, 282.   , 249.   ,\n",
              "        304.   , 332.   , 351.8  , 310.   , 216.96 , 666.336, 330.   ,\n",
              "        480.   , 330.3  , 348.   , 304.   , 384.   , 316.   , 430.4  ,\n",
              "        450.   , 284.   , 275.   , 414.   , 258.   , 378.   , 350.   ,\n",
              "        412.   , 373.   , 225.   , 390.   , 267.4  , 464.   , 174.   ,\n",
              "        340.   , 430.   , 440.   , 216.   , 329.   , 388.   , 390.   ,\n",
              "        356.   , 257.8  ]))"
            ]
          },
          "metadata": {},
          "execution_count": 6
        }
      ]
    },
    {
      "cell_type": "markdown",
      "source": [
        "## Gradient Descent\n",
        "\n",
        "Scikit-learn has a gradient descent regression model [sklearn.linear_model.SGDRegressor](https://scikit-learn.org/stable/modules/generated/sklearn.linear_model.SGDRegressor.html).  Like your previous implementation of gradient descent, this model performs best with normalized inputs. [sklearn.preprocessing.StandardScaler](https://scikit-learn.org/stable/modules/generated/sklearn.preprocessing.StandardScaler.html) will perform z-score normalization as in a previous lab. Here it is referred to as 'standard score'."
      ],
      "metadata": {
        "id": "fxaYbCVmbWMC"
      }
    },
    {
      "cell_type": "markdown",
      "source": [
        "## Scale the data"
      ],
      "metadata": {
        "id": "ftl5TbYCa8B9"
      }
    },
    {
      "cell_type": "code",
      "source": [
        "def zscore_normalize_features(X):\n",
        "    \"\"\"\n",
        "    computes  X, zcore normalized by column\n",
        "\n",
        "    Args:\n",
        "      X (ndarray (m,n))     : input data, m examples, n features\n",
        "\n",
        "    Returns:\n",
        "      X_norm (ndarray (m,n)): input normalized by column\n",
        "      mu (ndarray (n,))     : mean of each feature\n",
        "      sigma (ndarray (n,))  : standard deviation of each feature\n",
        "    \"\"\"\n",
        "    # find the mean of each feature\n",
        "    mu = np.mean(X, axis=0)\n",
        "    # find the standard deviation of each feature\n",
        "    sigma = np.std(X, axis=0)\n",
        "    # element-wise, subtract mean for each column and divide by standard deviation\n",
        "    X_norm = (X - mu) / sigma\n",
        "\n",
        "    return X_norm, mu, sigma"
      ],
      "metadata": {
        "id": "Q7qGtZqGcWp0"
      },
      "execution_count": 7,
      "outputs": []
    },
    {
      "cell_type": "code",
      "source": [
        "X_norm_test, mu, sigma = zscore_normalize_features(X_train)\n",
        "X_norm_test[0:5], mu, sigma"
      ],
      "metadata": {
        "colab": {
          "base_uri": "https://localhost:8080/"
        },
        "id": "CVpiivmob3dF",
        "outputId": "e42c907b-2156-431b-b321-cd1aceb8b076"
      },
      "execution_count": 8,
      "outputs": [
        {
          "output_type": "execute_result",
          "data": {
            "text/plain": [
              "(array([[-1.12018542, -1.08793896, -0.78288136,  1.02191098],\n",
              "        [-0.41174475,  0.44436943, -0.78288136,  0.98312878],\n",
              "        [ 1.29385043,  0.44436943,  1.27733275, -0.83963464],\n",
              "        [ 0.75524143,  0.44436943,  1.27733275,  0.12992037],\n",
              "        [ 1.32296443,  0.44436943,  1.27733275, -0.91719904]]),\n",
              " array([1.41371e+03, 2.71000e+00, 1.38000e+00, 3.86500e+01]),\n",
              " array([412.17283499,   0.65261014,   0.48538644,  25.78502472]))"
            ]
          },
          "metadata": {},
          "execution_count": 8
        }
      ]
    },
    {
      "cell_type": "code",
      "source": [
        "# no need to use custom function to scale\n",
        "# sklearn has an equivalent\n",
        "scaler = StandardScaler()\n",
        "X_norm = scaler.fit_transform(X_train)\n",
        "X_norm[0:5], scaler.mean_, scaler.scale_"
      ],
      "metadata": {
        "colab": {
          "base_uri": "https://localhost:8080/"
        },
        "id": "SFRMIH7dcrxn",
        "outputId": "75906015-56b7-4b2a-c088-2a9d58f30a88"
      },
      "execution_count": 9,
      "outputs": [
        {
          "output_type": "execute_result",
          "data": {
            "text/plain": [
              "(array([[-1.12018542, -1.08793896, -0.78288136,  1.02191098],\n",
              "        [-0.41174475,  0.44436943, -0.78288136,  0.98312878],\n",
              "        [ 1.29385043,  0.44436943,  1.27733275, -0.83963464],\n",
              "        [ 0.75524143,  0.44436943,  1.27733275,  0.12992037],\n",
              "        [ 1.32296443,  0.44436943,  1.27733275, -0.91719904]]),\n",
              " array([1.41371e+03, 2.71000e+00, 1.38000e+00, 3.86500e+01]),\n",
              " array([412.17283499,   0.65261014,   0.48538644,  25.78502472]))"
            ]
          },
          "metadata": {},
          "execution_count": 9
        }
      ]
    },
    {
      "cell_type": "code",
      "source": [
        "print(f\"Peak to Peak range by column in Raw        X:{np.ptp(X_train,axis=0)}\")\n",
        "print(f\"Peak to Peak range by column in Normalized X:{np.ptp(X_norm,axis=0)}\")"
      ],
      "metadata": {
        "colab": {
          "base_uri": "https://localhost:8080/"
        },
        "id": "SypW_u3CdqDV",
        "outputId": "892aa439-3a0f-4997-a21f-b3eec01bf295"
      },
      "execution_count": 10,
      "outputs": [
        {
          "output_type": "stream",
          "name": "stdout",
          "text": [
            "Peak to Peak range by column in Raw        X:[2.406e+03 4.000e+00 1.000e+00 9.500e+01]\n",
            "Peak to Peak range by column in Normalized X:[5.83735704 6.12923357 2.06021411 3.68430905]\n"
          ]
        }
      ]
    },
    {
      "cell_type": "markdown",
      "source": [
        "## Create and fit the Regression Model"
      ],
      "metadata": {
        "id": "dkcm5TOGdvH5"
      }
    },
    {
      "cell_type": "code",
      "source": [
        "sgdr = SGDRegressor(max_iter=1000)\n",
        "sgdr.fit(X_norm, y_train)"
      ],
      "metadata": {
        "colab": {
          "base_uri": "https://localhost:8080/",
          "height": 75
        },
        "id": "zLXcs631dxvF",
        "outputId": "ac6c5deb-7ec8-45fe-9f8c-df7aed2978a6"
      },
      "execution_count": 11,
      "outputs": [
        {
          "output_type": "execute_result",
          "data": {
            "text/plain": [
              "SGDRegressor()"
            ],
            "text/html": [
              "<style>#sk-container-id-1 {color: black;background-color: white;}#sk-container-id-1 pre{padding: 0;}#sk-container-id-1 div.sk-toggleable {background-color: white;}#sk-container-id-1 label.sk-toggleable__label {cursor: pointer;display: block;width: 100%;margin-bottom: 0;padding: 0.3em;box-sizing: border-box;text-align: center;}#sk-container-id-1 label.sk-toggleable__label-arrow:before {content: \"▸\";float: left;margin-right: 0.25em;color: #696969;}#sk-container-id-1 label.sk-toggleable__label-arrow:hover:before {color: black;}#sk-container-id-1 div.sk-estimator:hover label.sk-toggleable__label-arrow:before {color: black;}#sk-container-id-1 div.sk-toggleable__content {max-height: 0;max-width: 0;overflow: hidden;text-align: left;background-color: #f0f8ff;}#sk-container-id-1 div.sk-toggleable__content pre {margin: 0.2em;color: black;border-radius: 0.25em;background-color: #f0f8ff;}#sk-container-id-1 input.sk-toggleable__control:checked~div.sk-toggleable__content {max-height: 200px;max-width: 100%;overflow: auto;}#sk-container-id-1 input.sk-toggleable__control:checked~label.sk-toggleable__label-arrow:before {content: \"▾\";}#sk-container-id-1 div.sk-estimator input.sk-toggleable__control:checked~label.sk-toggleable__label {background-color: #d4ebff;}#sk-container-id-1 div.sk-label input.sk-toggleable__control:checked~label.sk-toggleable__label {background-color: #d4ebff;}#sk-container-id-1 input.sk-hidden--visually {border: 0;clip: rect(1px 1px 1px 1px);clip: rect(1px, 1px, 1px, 1px);height: 1px;margin: -1px;overflow: hidden;padding: 0;position: absolute;width: 1px;}#sk-container-id-1 div.sk-estimator {font-family: monospace;background-color: #f0f8ff;border: 1px dotted black;border-radius: 0.25em;box-sizing: border-box;margin-bottom: 0.5em;}#sk-container-id-1 div.sk-estimator:hover {background-color: #d4ebff;}#sk-container-id-1 div.sk-parallel-item::after {content: \"\";width: 100%;border-bottom: 1px solid gray;flex-grow: 1;}#sk-container-id-1 div.sk-label:hover label.sk-toggleable__label {background-color: #d4ebff;}#sk-container-id-1 div.sk-serial::before {content: \"\";position: absolute;border-left: 1px solid gray;box-sizing: border-box;top: 0;bottom: 0;left: 50%;z-index: 0;}#sk-container-id-1 div.sk-serial {display: flex;flex-direction: column;align-items: center;background-color: white;padding-right: 0.2em;padding-left: 0.2em;position: relative;}#sk-container-id-1 div.sk-item {position: relative;z-index: 1;}#sk-container-id-1 div.sk-parallel {display: flex;align-items: stretch;justify-content: center;background-color: white;position: relative;}#sk-container-id-1 div.sk-item::before, #sk-container-id-1 div.sk-parallel-item::before {content: \"\";position: absolute;border-left: 1px solid gray;box-sizing: border-box;top: 0;bottom: 0;left: 50%;z-index: -1;}#sk-container-id-1 div.sk-parallel-item {display: flex;flex-direction: column;z-index: 1;position: relative;background-color: white;}#sk-container-id-1 div.sk-parallel-item:first-child::after {align-self: flex-end;width: 50%;}#sk-container-id-1 div.sk-parallel-item:last-child::after {align-self: flex-start;width: 50%;}#sk-container-id-1 div.sk-parallel-item:only-child::after {width: 0;}#sk-container-id-1 div.sk-dashed-wrapped {border: 1px dashed gray;margin: 0 0.4em 0.5em 0.4em;box-sizing: border-box;padding-bottom: 0.4em;background-color: white;}#sk-container-id-1 div.sk-label label {font-family: monospace;font-weight: bold;display: inline-block;line-height: 1.2em;}#sk-container-id-1 div.sk-label-container {text-align: center;}#sk-container-id-1 div.sk-container {/* jupyter's `normalize.less` sets `[hidden] { display: none; }` but bootstrap.min.css set `[hidden] { display: none !important; }` so we also need the `!important` here to be able to override the default hidden behavior on the sphinx rendered scikit-learn.org. See: https://github.com/scikit-learn/scikit-learn/issues/21755 */display: inline-block !important;position: relative;}#sk-container-id-1 div.sk-text-repr-fallback {display: none;}</style><div id=\"sk-container-id-1\" class=\"sk-top-container\"><div class=\"sk-text-repr-fallback\"><pre>SGDRegressor()</pre><b>In a Jupyter environment, please rerun this cell to show the HTML representation or trust the notebook. <br />On GitHub, the HTML representation is unable to render, please try loading this page with nbviewer.org.</b></div><div class=\"sk-container\" hidden><div class=\"sk-item\"><div class=\"sk-estimator sk-toggleable\"><input class=\"sk-toggleable__control sk-hidden--visually\" id=\"sk-estimator-id-1\" type=\"checkbox\" checked><label for=\"sk-estimator-id-1\" class=\"sk-toggleable__label sk-toggleable__label-arrow\">SGDRegressor</label><div class=\"sk-toggleable__content\"><pre>SGDRegressor()</pre></div></div></div></div></div>"
            ]
          },
          "metadata": {},
          "execution_count": 11
        }
      ]
    },
    {
      "cell_type": "code",
      "source": [
        "sgdr.get_params()"
      ],
      "metadata": {
        "colab": {
          "base_uri": "https://localhost:8080/"
        },
        "id": "bapFKKVAd5ho",
        "outputId": "bb7132cc-d82f-40ac-cedc-97841be882b8"
      },
      "execution_count": 12,
      "outputs": [
        {
          "output_type": "execute_result",
          "data": {
            "text/plain": [
              "{'alpha': 0.0001,\n",
              " 'average': False,\n",
              " 'early_stopping': False,\n",
              " 'epsilon': 0.1,\n",
              " 'eta0': 0.01,\n",
              " 'fit_intercept': True,\n",
              " 'l1_ratio': 0.15,\n",
              " 'learning_rate': 'invscaling',\n",
              " 'loss': 'squared_error',\n",
              " 'max_iter': 1000,\n",
              " 'n_iter_no_change': 5,\n",
              " 'penalty': 'l2',\n",
              " 'power_t': 0.25,\n",
              " 'random_state': None,\n",
              " 'shuffle': True,\n",
              " 'tol': 0.001,\n",
              " 'validation_fraction': 0.1,\n",
              " 'verbose': 0,\n",
              " 'warm_start': False}"
            ]
          },
          "metadata": {},
          "execution_count": 12
        }
      ]
    },
    {
      "cell_type": "code",
      "source": [
        "print(f\"number of iterations completed: {sgdr.n_iter_}, number of weight updates: {sgdr.t_}\")"
      ],
      "metadata": {
        "colab": {
          "base_uri": "https://localhost:8080/"
        },
        "id": "QD6Gv3ZveTB3",
        "outputId": "0a8d1ec3-6c53-4834-874d-c91cbd7429a8"
      },
      "execution_count": 13,
      "outputs": [
        {
          "output_type": "stream",
          "name": "stdout",
          "text": [
            "number of iterations completed: 112, number of weight updates: 11201.0\n"
          ]
        }
      ]
    },
    {
      "cell_type": "markdown",
      "source": [
        "## View parameters\n",
        "\n",
        "Note that these parameters are associted with the **normalized** input data."
      ],
      "metadata": {
        "id": "DL_E5zyJfJHL"
      }
    },
    {
      "cell_type": "code",
      "source": [
        "w_norm = sgdr.coef_\n",
        "w_norm"
      ],
      "metadata": {
        "colab": {
          "base_uri": "https://localhost:8080/"
        },
        "id": "7kcRwIIDfNc_",
        "outputId": "2dc8eb0c-2871-43ce-b725-d380a2207873"
      },
      "execution_count": 14,
      "outputs": [
        {
          "output_type": "execute_result",
          "data": {
            "text/plain": [
              "array([110.00831974, -21.16509218, -32.31463201, -37.88716221])"
            ]
          },
          "metadata": {},
          "execution_count": 14
        }
      ]
    },
    {
      "cell_type": "code",
      "source": [
        "b_norm = sgdr.intercept_\n",
        "b_norm"
      ],
      "metadata": {
        "colab": {
          "base_uri": "https://localhost:8080/"
        },
        "id": "rPqZeb0MfZNv",
        "outputId": "3d081e53-8749-4c0f-fb8b-18748e238f74"
      },
      "execution_count": 15,
      "outputs": [
        {
          "output_type": "execute_result",
          "data": {
            "text/plain": [
              "array([362.24838926])"
            ]
          },
          "metadata": {},
          "execution_count": 15
        }
      ]
    },
    {
      "cell_type": "markdown",
      "source": [
        "## Make Predictions"
      ],
      "metadata": {
        "id": "xp82m1IMf7IO"
      }
    },
    {
      "cell_type": "code",
      "source": [
        "# make predictions using `sgdr.predict()`\n",
        "y_pred_sgdr = sgdr.predict(X_norm)\n",
        "y_pred_sgdr"
      ],
      "metadata": {
        "colab": {
          "base_uri": "https://localhost:8080/"
        },
        "id": "Bdu6s5iVf9Nz",
        "outputId": "af5e3e7f-482b-49f1-bd2c-6760669bc012"
      },
      "execution_count": 16,
      "outputs": [
        {
          "output_type": "execute_result",
          "data": {
            "text/plain": [
              "array([248.62621768, 295.59848475, 485.71241728, 389.72725772,\n",
              "       491.85389457, 420.18020567, 223.66980038, 522.6617423 ,\n",
              "       268.27090532, 683.24909704, 182.81464752, 318.77067103,\n",
              "       479.15915599, 409.89290052, 393.62239725, 287.46135804,\n",
              "       323.82890103, 406.16822428, 436.46823463, 270.53813709,\n",
              "       500.10647285, 329.00484212, 388.28255435, 550.69170439,\n",
              "       242.2094079 , 296.0367854 , 283.07580605, 218.07711558,\n",
              "       490.63954252, 229.49377533, 341.85130355, 291.87877341,\n",
              "       489.85637265, 239.28823855, 597.54102476, 383.87638427,\n",
              "       452.74623305, 401.31625842, 406.17384693, 173.46542309,\n",
              "       423.64304905, 434.29181546, 277.53523306, 229.49377533,\n",
              "       448.33191008, 488.78315592, 332.52297313, 465.41341538,\n",
              "       222.61345159, 386.80477286, 456.34167701, 370.47335931,\n",
              "       468.48602651, 310.73026063, 426.58455542, 391.88896253,\n",
              "       348.11639047, 339.49129812, 471.14751658, 244.092693  ,\n",
              "       298.88813693, 273.4487189 , 250.53105453, 298.45574002,\n",
              "       335.09946575, 376.26715605, 289.32777519, 229.49377533,\n",
              "       619.95206649, 352.85524565, 510.65477796, 364.35878051,\n",
              "       363.60774994, 298.45574002, 407.221104  , 289.07493329,\n",
              "       386.2997468 , 487.97402639, 261.5843857 , 259.52126452,\n",
              "       427.51569799, 238.90082281, 356.13459137, 340.24147846,\n",
              "       390.419615  , 382.02374783, 221.02143327, 434.29181546,\n",
              "       244.08988167, 465.41341538, 186.81812532, 341.84849223,\n",
              "       409.96871766, 445.39602636, 232.75934552, 332.52297313,\n",
              "       409.06315289, 406.17384693, 351.70902311, 274.78227266])"
            ]
          },
          "metadata": {},
          "execution_count": 16
        }
      ]
    },
    {
      "cell_type": "code",
      "source": [
        "# make predictions using w and b\n",
        "y_pred = X_norm @ w_norm + b_norm\n",
        "y_pred"
      ],
      "metadata": {
        "colab": {
          "base_uri": "https://localhost:8080/"
        },
        "id": "TdyyyB7TgVJi",
        "outputId": "edb3ab70-11b4-4b05-cbaf-b33b33d4f5a0"
      },
      "execution_count": 17,
      "outputs": [
        {
          "output_type": "execute_result",
          "data": {
            "text/plain": [
              "array([248.62621768, 295.59848475, 485.71241728, 389.72725772,\n",
              "       491.85389457, 420.18020567, 223.66980038, 522.6617423 ,\n",
              "       268.27090532, 683.24909704, 182.81464752, 318.77067103,\n",
              "       479.15915599, 409.89290052, 393.62239725, 287.46135804,\n",
              "       323.82890103, 406.16822428, 436.46823463, 270.53813709,\n",
              "       500.10647285, 329.00484212, 388.28255435, 550.69170439,\n",
              "       242.2094079 , 296.0367854 , 283.07580605, 218.07711558,\n",
              "       490.63954252, 229.49377533, 341.85130355, 291.87877341,\n",
              "       489.85637265, 239.28823855, 597.54102476, 383.87638427,\n",
              "       452.74623305, 401.31625842, 406.17384693, 173.46542309,\n",
              "       423.64304905, 434.29181546, 277.53523306, 229.49377533,\n",
              "       448.33191008, 488.78315592, 332.52297313, 465.41341538,\n",
              "       222.61345159, 386.80477286, 456.34167701, 370.47335931,\n",
              "       468.48602651, 310.73026063, 426.58455542, 391.88896253,\n",
              "       348.11639047, 339.49129812, 471.14751658, 244.092693  ,\n",
              "       298.88813693, 273.4487189 , 250.53105453, 298.45574002,\n",
              "       335.09946575, 376.26715605, 289.32777519, 229.49377533,\n",
              "       619.95206649, 352.85524565, 510.65477796, 364.35878051,\n",
              "       363.60774994, 298.45574002, 407.221104  , 289.07493329,\n",
              "       386.2997468 , 487.97402639, 261.5843857 , 259.52126452,\n",
              "       427.51569799, 238.90082281, 356.13459137, 340.24147846,\n",
              "       390.419615  , 382.02374783, 221.02143327, 434.29181546,\n",
              "       244.08988167, 465.41341538, 186.81812532, 341.84849223,\n",
              "       409.96871766, 445.39602636, 232.75934552, 332.52297313,\n",
              "       409.06315289, 406.17384693, 351.70902311, 274.78227266])"
            ]
          },
          "metadata": {},
          "execution_count": 17
        }
      ]
    },
    {
      "cell_type": "code",
      "source": [
        "(y_pred_sgdr == y_pred).all()"
      ],
      "metadata": {
        "colab": {
          "base_uri": "https://localhost:8080/"
        },
        "id": "hHcrCOnng3Ij",
        "outputId": "3ad393b5-3485-4b34-f89f-7f1f22afc068"
      },
      "execution_count": 18,
      "outputs": [
        {
          "output_type": "execute_result",
          "data": {
            "text/plain": [
              "True"
            ]
          },
          "metadata": {},
          "execution_count": 18
        }
      ]
    },
    {
      "cell_type": "code",
      "source": [
        "# compare a few predictions to the target\n",
        "y_pred_sgdr[0:5], y_train[0:5]"
      ],
      "metadata": {
        "colab": {
          "base_uri": "https://localhost:8080/"
        },
        "id": "kQUjkkrThTq4",
        "outputId": "197f4da6-9b27-4744-f2d0-912326d1ba4e"
      },
      "execution_count": 19,
      "outputs": [
        {
          "output_type": "execute_result",
          "data": {
            "text/plain": [
              "(array([248.62621768, 295.59848475, 485.71241728, 389.72725772,\n",
              "        491.85389457]),\n",
              " array([271.5, 300. , 509.8, 394. , 540. ]))"
            ]
          },
          "metadata": {},
          "execution_count": 19
        }
      ]
    },
    {
      "cell_type": "markdown",
      "source": [
        "## Plot Predictions and Target Values"
      ],
      "metadata": {
        "id": "VTd1_mzGhixR"
      }
    },
    {
      "cell_type": "code",
      "source": [
        "fig, ax = plt.subplots(1, 4, figsize=(12, 3), sharey=True)\n",
        "for i in range(len(ax)):\n",
        "    ax[i].scatter(X_train[:, i], y_train, label='target')\n",
        "    ax[i].set_xlabel(X_features[i])\n",
        "    ax[i].scatter(X_train[:, i], y_pred, label='predict', alpha=0.6)\n",
        "ax[0].set_ylabel('Price')\n",
        "ax[0].legend()\n",
        "fig.suptitle('target vs prediction using z-score normalized model')\n",
        "\n",
        "plt.show()"
      ],
      "metadata": {
        "colab": {
          "base_uri": "https://localhost:8080/",
          "height": 341
        },
        "id": "sHUs88aIhp_H",
        "outputId": "42d0eb50-b3c5-4890-cbf7-0f5f92c36df0"
      },
      "execution_count": 20,
      "outputs": [
        {
          "output_type": "display_data",
          "data": {
            "text/plain": [
              "<Figure size 1200x300 with 4 Axes>"
            ],
            "image/png": "[encoded data removed]"
          },
          "metadata": {}
        }
      ]
    }
  ]
}