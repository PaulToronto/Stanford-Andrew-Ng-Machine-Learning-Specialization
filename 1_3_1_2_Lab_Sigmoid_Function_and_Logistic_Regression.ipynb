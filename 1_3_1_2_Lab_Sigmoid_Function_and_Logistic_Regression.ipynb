{
  "nbformat": 4,
  "nbformat_minor": 0,
  "metadata": {
    "colab": {
      "provenance": [],
      "toc_visible": true,
      "authorship_tag": "ABX9TyNLUzPjb+oiC/K3bplQEu8P",
      "include_colab_link": true
    },
    "kernelspec": {
      "name": "python3",
      "display_name": "Python 3"
    },
    "language_info": {
      "name": "python"
    }
  },
  "cells": [
    {
      "cell_type": "markdown",
      "metadata": {
        "id": "view-in-github",
        "colab_type": "text"
      },
      "source": [
        "<a href=\"https://colab.research.google.com/github/PaulToronto/Stanford-Andrew-Ng-Machine-Learning-Specialization/blob/main/1_3_1_2_Lab_Sigmoid_Function_and_Logistic_Regression.ipynb\" target=\"_parent\"><img src=\"https://colab.research.google.com/assets/colab-badge.svg\" alt=\"Open In Colab\"/></a>"
      ]
    },
    {
      "cell_type": "markdown",
      "source": [
        "# Sigmoid Function and Logistic Regression"
      ],
      "metadata": {
        "id": "4kqSV8_N3AYk"
      }
    },
    {
      "cell_type": "markdown",
      "source": [
        "## Imports"
      ],
      "metadata": {
        "id": "HQy8Y5Jy3ESf"
      }
    },
    {
      "cell_type": "code",
      "execution_count": 1,
      "metadata": {
        "id": "iJfedydr23b5"
      },
      "outputs": [],
      "source": [
        "import numpy as np\n",
        "import matplotlib.pyplot as plt\n",
        "\n",
        "import math, copy"
      ]
    },
    {
      "cell_type": "markdown",
      "source": [
        "## Functions"
      ],
      "metadata": {
        "id": "t-yisG-POeVQ"
      }
    },
    {
      "cell_type": "code",
      "source": [
        "def predict_linear(X, w, b):\n",
        "    return X @ w + b"
      ],
      "metadata": {
        "id": "otpnKHhROgQo"
      },
      "execution_count": 2,
      "outputs": []
    },
    {
      "cell_type": "code",
      "source": [
        "def predict_logistic(X, w, b):\n",
        "    return sigmoid(X @ w + b)"
      ],
      "metadata": {
        "id": "yl9CWsv8OgZA"
      },
      "execution_count": 3,
      "outputs": []
    },
    {
      "cell_type": "code",
      "source": [
        "def compute_cost_logistic(X, y, w, b):\n",
        "    \"\"\"\n",
        "    Computes cost using logistic loss, non-matrix version\n",
        "\n",
        "    Args:\n",
        "      X (ndarray): Shape (m,n)  matrix of examples with n features\n",
        "      y (ndarray): Shape (m,)   target values\n",
        "      w (ndarray): Shape (n,)   parameters for prediction\n",
        "      b (scalar):               parameter  for prediction\n",
        "    Returns:\n",
        "      cost (scalar): cost\n",
        "    \"\"\"\n",
        "    m = X.shape[0]\n",
        "\n",
        "    cost = 0.0\n",
        "    for i in range(m):\n",
        "        z_i = np.dot(X[i], w) + b\n",
        "        f_wb_i = sigmoid(z_i)\n",
        "        cost += y[i] * np.log(f_wb_i) + (1 - y[i]) * np.log(1 - f_wb_i)\n",
        "\n",
        "    cost = -(cost / m)\n",
        "\n",
        "    return cost"
      ],
      "metadata": {
        "id": "mS7IZia0LL5-"
      },
      "execution_count": 4,
      "outputs": []
    },
    {
      "cell_type": "code",
      "source": [
        "def compute_gradient_logistic(X, y, w, b):\n",
        "    \"\"\"\n",
        "    Computes the gradient for linear regression\n",
        "\n",
        "    Args:\n",
        "      X (ndarray (m,n): Data, m examples with n features\n",
        "      y (ndarray (m,)): target values\n",
        "      w (ndarray (n,)): model parameters\n",
        "      b (scalar)      : model parameter\n",
        "    Returns\n",
        "      dj_dw (ndarray (n,)): The gradient of the cost w.r.t. the parameters w.\n",
        "      dj_db (scalar)      : The gradient of the cost w.r.t. the parameter b.\n",
        "    \"\"\"\n",
        "    m, n = X.shape\n",
        "    dj_dw = np.zeros((n,))\n",
        "    dj_db = 0.0\n",
        "\n",
        "    for i in range(m):\n",
        "        f_wb_i = sigmoid(np.dot(X[i], w) + b)\n",
        "        err_i = f_wb_i - y[i]\n",
        "        for j in range(n):\n",
        "            dj_dw[j] = dj_dw[j] + err_i * X[i,j]\n",
        "        dj_db = dj_db + err_i\n",
        "\n",
        "    dj_dw = dj_dw / m\n",
        "    dj_db = dj_db / m\n",
        "\n",
        "    return dj_db, dj_dw"
      ],
      "metadata": {
        "id": "6pc95cuuLXj3"
      },
      "execution_count": 5,
      "outputs": []
    },
    {
      "cell_type": "code",
      "source": [
        "def gradient_descent(X, y, w_in, b_in, alpha, num_iters):\n",
        "    \"\"\"\n",
        "    Performs batch gradient descent\n",
        "\n",
        "    Args:\n",
        "      X (ndarray (m,n)   : Data, m examples with n features\n",
        "      y (ndarray (m,))   : target values\n",
        "      w_in (ndarray (n,)): Initial values of model parameters\n",
        "      b_in (scalar)      : Initial values of model parameter\n",
        "      alpha (float)      : Learning rate\n",
        "      num_iters (scalar) : number of iterations to run gradient descent\n",
        "\n",
        "    Returns:\n",
        "      w (ndarray (n,))   : Updated values of parameters\n",
        "      b (scalar)         : Updated value of parameter\n",
        "      J_history (List)   : History of cost values\n",
        "    \"\"\"\n",
        "\n",
        "    J_history = [] # an array of cost values\n",
        "    w = copy.deepcopy(w_in) # avoid modifying global w within the function\n",
        "    b = b_in\n",
        "\n",
        "    for i in range(num_iters):\n",
        "        # calculate the gradient\n",
        "        dj_db, dj_dw = compute_gradient_logistic(X, y, w, b)\n",
        "\n",
        "        # update the parameters\n",
        "        w = w - alpha * dj_dw\n",
        "        b = b - alpha * dj_db\n",
        "\n",
        "        # save cost at each iteration\n",
        "        if i < 100_000: # prevent resource exhaustion\n",
        "            J_history.append(compute_cost_logistic(X, y, w, b))\n",
        "\n",
        "        # Print cost every at intervals 10 times or as many iterations if < 10\n",
        "        if i % math.ceil(num_iters / 10) == 0:\n",
        "            print(f'Iteration {i:4d}: Cost {J_history[-1]}')\n",
        "\n",
        "    return w, b, J_history"
      ],
      "metadata": {
        "id": "GnIRC7J_LMCj"
      },
      "execution_count": 6,
      "outputs": []
    },
    {
      "cell_type": "markdown",
      "source": [
        "## Sigmoid or Logistic Function"
      ],
      "metadata": {
        "id": "vAuTM0Dg3sHC"
      }
    },
    {
      "cell_type": "markdown",
      "source": [
        "- For a classification task, we can start by using our linear regression model\n",
        " - $f_{w,b}(x^{(i)}) = w \\cdot x^{(i)} + b$, to predict $y$ given $x$.\n",
        "- However, we want the predictions of our classification model to be between $0$ and $1$.\n",
        " - This can be accomplished by using the **sigmoid function** which maps all values to values between $0$ and $1$."
      ],
      "metadata": {
        "id": "0WNS5PrV3wgN"
      }
    },
    {
      "cell_type": "markdown",
      "source": [
        "### Formula for the Sigmoid Function\n",
        "\n",
        "$$\n",
        "g(z) = \\frac{1}{1 + e^{-z}}\n",
        "$$\n",
        "<br>\n",
        "$$\n",
        "0 \\lt g(z) \\lt 1\n",
        "$$\n",
        "\n",
        "- In the case of linear regression, $z$, the input to the sigmoid function is the output of a linear regression model.\n",
        "- In the case of a single example, $z$ is scalar.\n",
        "- In the case of multiple examples, $z$ may be a vector consisting of $m$ values, one for each example"
      ],
      "metadata": {
        "id": "tPOgmDUL40ka"
      }
    },
    {
      "cell_type": "code",
      "source": [
        "# we an use `np.exp`, which works for scalars and numpy arrays\n",
        "\n",
        "np.exp(1), np.exp(2), np.exp(3)"
      ],
      "metadata": {
        "colab": {
          "base_uri": "https://localhost:8080/"
        },
        "id": "hPnFeH6B6LEP",
        "outputId": "4e417fde-1305-4d3b-c430-bbbbce0213a5"
      },
      "execution_count": 7,
      "outputs": [
        {
          "output_type": "execute_result",
          "data": {
            "text/plain": [
              "(2.718281828459045, 7.38905609893065, 20.085536923187668)"
            ]
          },
          "metadata": {},
          "execution_count": 7
        }
      ]
    },
    {
      "cell_type": "code",
      "source": [
        "np.exp(np.array([1, 2, 3]))"
      ],
      "metadata": {
        "colab": {
          "base_uri": "https://localhost:8080/"
        },
        "id": "YhyE7FTP6gDf",
        "outputId": "56864e56-80b1-462c-c20d-2fd82a8325bf"
      },
      "execution_count": 8,
      "outputs": [
        {
          "output_type": "execute_result",
          "data": {
            "text/plain": [
              "array([ 2.71828183,  7.3890561 , 20.08553692])"
            ]
          },
          "metadata": {},
          "execution_count": 8
        }
      ]
    },
    {
      "cell_type": "code",
      "source": [
        "# the sigmoid function\n",
        "def sigmoid(z):\n",
        "    \"\"\"\n",
        "    Compute the sigmoid of z\n",
        "\n",
        "    Args:\n",
        "        z (ndarray): A scalar, numpy array of any size.\n",
        "\n",
        "    Returns:\n",
        "        g (ndarray): sigmoid(z), with the same shape as z\n",
        "\n",
        "    \"\"\"\n",
        "\n",
        "    g = 1 / (1 + np.exp(-z))\n",
        "    return g"
      ],
      "metadata": {
        "id": "apgeGVPL6oAK"
      },
      "execution_count": 9,
      "outputs": []
    },
    {
      "cell_type": "code",
      "source": [
        "sigmoid(-3), sigmoid(0), sigmoid(3)"
      ],
      "metadata": {
        "colab": {
          "base_uri": "https://localhost:8080/"
        },
        "id": "Ap2UnsjY63JT",
        "outputId": "1abce49c-b4a1-485c-a8c2-cc2906297ca7"
      },
      "execution_count": 10,
      "outputs": [
        {
          "output_type": "execute_result",
          "data": {
            "text/plain": [
              "(0.04742587317756678, 0.5, 0.9525741268224334)"
            ]
          },
          "metadata": {},
          "execution_count": 10
        }
      ]
    },
    {
      "cell_type": "code",
      "source": [
        "sigmoid(np.array([-3, 0, 3]))"
      ],
      "metadata": {
        "colab": {
          "base_uri": "https://localhost:8080/"
        },
        "id": "BFZJfN6h6-Of",
        "outputId": "582a085a-0945-4f0e-add6-10a73bae7ab2"
      },
      "execution_count": 11,
      "outputs": [
        {
          "output_type": "execute_result",
          "data": {
            "text/plain": [
              "array([0.04742587, 0.5       , 0.95257413])"
            ]
          },
          "metadata": {},
          "execution_count": 11
        }
      ]
    },
    {
      "cell_type": "code",
      "source": [
        "# generate an array\n",
        "z_temp = np.arange(-10, 11)\n",
        "z_temp"
      ],
      "metadata": {
        "colab": {
          "base_uri": "https://localhost:8080/"
        },
        "id": "DGSu9je-7FL8",
        "outputId": "2675a090-0e2f-45b6-c582-96b42031889d"
      },
      "execution_count": 12,
      "outputs": [
        {
          "output_type": "execute_result",
          "data": {
            "text/plain": [
              "array([-10,  -9,  -8,  -7,  -6,  -5,  -4,  -3,  -2,  -1,   0,   1,   2,\n",
              "         3,   4,   5,   6,   7,   8,   9,  10])"
            ]
          },
          "metadata": {},
          "execution_count": 12
        }
      ]
    },
    {
      "cell_type": "code",
      "source": [
        "y = sigmoid(z_temp)\n",
        "y"
      ],
      "metadata": {
        "colab": {
          "base_uri": "https://localhost:8080/"
        },
        "id": "Q25lDJf07KoR",
        "outputId": "4ff848d8-939f-44e9-a040-accc3c619968"
      },
      "execution_count": 13,
      "outputs": [
        {
          "output_type": "execute_result",
          "data": {
            "text/plain": [
              "array([4.53978687e-05, 1.23394576e-04, 3.35350130e-04, 9.11051194e-04,\n",
              "       2.47262316e-03, 6.69285092e-03, 1.79862100e-02, 4.74258732e-02,\n",
              "       1.19202922e-01, 2.68941421e-01, 5.00000000e-01, 7.31058579e-01,\n",
              "       8.80797078e-01, 9.52574127e-01, 9.82013790e-01, 9.93307149e-01,\n",
              "       9.97527377e-01, 9.99088949e-01, 9.99664650e-01, 9.99876605e-01,\n",
              "       9.99954602e-01])"
            ]
          },
          "metadata": {},
          "execution_count": 13
        }
      ]
    },
    {
      "cell_type": "code",
      "source": [
        "xmin = -10.2\n",
        "xmax = 10.2\n",
        "ymin = -0.1\n",
        "ymax = 1.1\n",
        "\n",
        "# plot the sigmoid function\n",
        "fig, ax = plt.subplots(1, 1, figsize=(5, 3))\n",
        "\n",
        "ax.set_xlim(xmin, xmax)\n",
        "ax.set_ylim(ymin, ymax)\n",
        "\n",
        "ax.plot(z_temp, y)\n",
        "ax.set_title('Sigmoid function')\n",
        "ax.set_ylabel('sigmoid(z)')\n",
        "ax.set_xlabel('z')\n",
        "\n",
        "ax.axvline(0, c='lightgray', label='$z = 0$')\n",
        "ax.fill_betweenx((ymin, ymax),\n",
        "                 xmin, 0,\n",
        "                 facecolor='dodgerblue',\n",
        "                 alpha=0.2, label='$z < 0$')\n",
        "ax.fill_betweenx((ymin, ymax),\n",
        "                 0, xmax,\n",
        "                 facecolor='red',\n",
        "                 alpha=0.2, label='$z > 0$')\n",
        "ax.legend()\n",
        "\n",
        "plt.show()"
      ],
      "metadata": {
        "colab": {
          "base_uri": "https://localhost:8080/",
          "height": 333
        },
        "id": "JQzOmVsf7Sh6",
        "outputId": "d945e4fb-5b78-4bec-efb9-6f7f8ad57005"
      },
      "execution_count": 14,
      "outputs": [
        {
          "output_type": "display_data",
          "data": {
            "text/plain": [
              "<Figure size 500x300 with 1 Axes>"
            ],
            "image/png": "[encoded data removed]"
          },
          "metadata": {}
        }
      ]
    },
    {
      "cell_type": "markdown",
      "source": [
        "## Logistic Regression"
      ],
      "metadata": {
        "id": "NdkddsZfBJxX"
      }
    },
    {
      "cell_type": "markdown",
      "source": [
        "A logistic regression model applies the sigmoid to the familiar linear regression model as show below:\n",
        "\n",
        "$$\n",
        "f_{\\mathbf{w},b} = g(\\mathbf{w} \\cdot \\mathbf{x}^{(i)} + b)\n",
        "$$\n",
        "\n",
        "where\n",
        "\n",
        "$$\n",
        "g(z) = \\frac{1}{1 + e^{-z}}\n",
        "$$"
      ],
      "metadata": {
        "id": "bs7atGUUBe3T"
      }
    },
    {
      "cell_type": "code",
      "source": [
        "x_train = np.array([0, 1, 2, 3, 4, 5])\n",
        "y_train = np.array([0, 0, 0, 1, 1, 1])\n",
        "\n",
        "pos = (y_train == 1)\n",
        "neg = (y_train == 0)"
      ],
      "metadata": {
        "id": "mVWIVG358ogU"
      },
      "execution_count": 15,
      "outputs": []
    },
    {
      "cell_type": "code",
      "source": [
        "xmin = -0.1\n",
        "xmax = 10.2\n",
        "ymin = -0.1\n",
        "ymax = 1.1\n",
        "\n",
        "w_in = np.zeros(1)\n",
        "b_in = 0\n",
        "\n",
        "# plot data points\n",
        "plt.figure(figsize=(8, 4))\n",
        "plt.scatter(x_train[pos], y_train[pos],\n",
        "            marker='X', s=80, c='red', label='malignant')\n",
        "plt.scatter(x_train[neg], y_train[neg],\n",
        "            marker='o', s=80, facecolors='none',\n",
        "            edgecolor='dodgerblue', lw=3, label='benign')\n",
        "\n",
        "\n",
        "# plot z\n",
        "f_wb = np.matmul(x_train.reshape(-1, 1), w_in) + b_in\n",
        "plt.plot(x_train, f_wb, color='orange', lw=1, label=f'z={w_in[0]}x + ({b_in})')\n",
        "# plot sigmoid(z)\n",
        "plt.plot(x_train, sigmoid(f_wb), c='dodgerblue', lw=3, label='y=sigmoid(z)')\n",
        "\n",
        "plt.xlim(xmin, xmax)\n",
        "plt.ylim(ymin, ymax)\n",
        "plt.xlabel('Tumor Size', fontsize=12)\n",
        "plt.ylabel('y', fontsize=12)\n",
        "plt.title('Logistic Regression for Binary Classification')\n",
        "plt.legend(loc='lower right')\n",
        "\n",
        "plt.show()"
      ],
      "metadata": {
        "colab": {
          "base_uri": "https://localhost:8080/",
          "height": 414
        },
        "id": "bN6fhJG4Eh9S",
        "outputId": "24991ec8-083c-47dd-8672-669bc21f83e0"
      },
      "execution_count": 16,
      "outputs": [
        {
          "output_type": "display_data",
          "data": {
            "text/plain": [
              "<Figure size 800x400 with 1 Axes>"
            ],
            "image/png": "[encoded data removed]"
          },
          "metadata": {}
        }
      ]
    },
    {
      "cell_type": "markdown",
      "source": [
        "### Gradient Descent to find $w$ and $b$"
      ],
      "metadata": {
        "id": "nmiUZFmcM6AE"
      }
    },
    {
      "cell_type": "code",
      "source": [
        "w_out, b_out, _ = gradient_descent(x_train.reshape(-1, 1), y_train.reshape(-1, 1), w_in.reshape(-1, 1), b_in, 0.1, 8185)"
      ],
      "metadata": {
        "colab": {
          "base_uri": "https://localhost:8080/"
        },
        "id": "jH1P1WGpNDmc",
        "outputId": "240e0e74-13c8-4434-9718-ebc7748b78df"
      },
      "execution_count": 17,
      "outputs": [
        {
          "output_type": "stream",
          "name": "stdout",
          "text": [
            "Iteration    0: Cost [0.64331581]\n",
            "Iteration  819: Cost [0.12540607]\n",
            "Iteration 1638: Cost [0.08718881]\n",
            "Iteration 2457: Cost [0.06908096]\n",
            "Iteration 3276: Cost [0.05779066]\n",
            "Iteration 4095: Cost [0.04987164]\n",
            "Iteration 4914: Cost [0.04393738]\n",
            "Iteration 5733: Cost [0.03929551]\n",
            "Iteration 6552: Cost [0.03555236]\n",
            "Iteration 7371: Cost [0.03246392]\n"
          ]
        }
      ]
    },
    {
      "cell_type": "code",
      "source": [
        "w_out, b_out"
      ],
      "metadata": {
        "colab": {
          "base_uri": "https://localhost:8080/"
        },
        "id": "b3SQjXqvP9b7",
        "outputId": "3eab4c02-4825-468e-c2c2-c498c2dab9a2"
      },
      "execution_count": 18,
      "outputs": [
        {
          "output_type": "execute_result",
          "data": {
            "text/plain": [
              "(array([[4.785636]]), array([-11.77039712]))"
            ]
          },
          "metadata": {},
          "execution_count": 18
        }
      ]
    },
    {
      "cell_type": "code",
      "source": [
        "xmin = -0.1\n",
        "xmax = 10.2\n",
        "ymin = -0.1\n",
        "ymax = 1.1\n",
        "\n",
        "w_in = w_out\n",
        "b_in = b_out\n",
        "\n",
        "# plot data points\n",
        "plt.figure(figsize=(8, 4))\n",
        "plt.scatter(x_train[pos], y_train[pos],\n",
        "            marker='X', s=80, c='red', label='malignant')\n",
        "plt.scatter(x_train[neg], y_train[neg],\n",
        "            marker='o', s=80, facecolors='none',\n",
        "            edgecolor='dodgerblue', lw=3, label='benign')\n",
        "\n",
        "\n",
        "# plot z\n",
        "f_wb = np.matmul(x_train.reshape(-1, 1), w_in) + b_in\n",
        "plt.plot(x_train, f_wb, color='green', lw=1, label=f'z={w_in[0][0].round(2)}x + ({b_in[0].round(2)})')\n",
        "# plot sigmoid(z)\n",
        "plt.plot(x_train, sigmoid(f_wb), c='dodgerblue', lw=3, label='y=sigmoid(z)')\n",
        "\n",
        "# decsion boundary\n",
        "decision_boundary = -b_in[0]/w_in[0][0]\n",
        "plt.axvline(decision_boundary, c='purple', label='decision boundary')\n",
        "plt.fill_betweenx((ymin, ymax),\n",
        "                  xmin, decision_boundary,\n",
        "                  facecolor='dodgerblue',\n",
        "                  alpha=0.2, label='benign')\n",
        "plt.fill_betweenx((ymin, ymax),\n",
        "                  decision_boundary, xmax,\n",
        "                  facecolor='red',\n",
        "                  alpha=0.2, label='malignant')\n",
        "\n",
        "plt.xlim(xmin, xmax)\n",
        "plt.ylim(ymin, ymax)\n",
        "plt.xlabel('Tumor Size', fontsize=12)\n",
        "plt.ylabel('y', fontsize=12)\n",
        "plt.title('Logistic Regression for Binary Classification')\n",
        "plt.legend(loc='lower right')\n",
        "\n",
        "plt.show()"
      ],
      "metadata": {
        "colab": {
          "base_uri": "https://localhost:8080/",
          "height": 414
        },
        "id": "lob4G1rkNkBh",
        "outputId": "6f89eb84-97f1-4145-c2ce-8949a83c801a"
      },
      "execution_count": 19,
      "outputs": [
        {
          "output_type": "display_data",
          "data": {
            "text/plain": [
              "<Figure size 800x400 with 1 Axes>"
            ],
            "image/png": "[encoded data removed]"
          },
          "metadata": {}
        }
      ]
    }
  ]
}