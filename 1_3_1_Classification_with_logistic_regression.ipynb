{
  "nbformat": 4,
  "nbformat_minor": 0,
  "metadata": {
    "colab": {
      "provenance": [],
      "toc_visible": true,
      "authorship_tag": "ABX9TyM8LbbJOdd7FSs4deuxkrKO",
      "include_colab_link": true
    },
    "kernelspec": {
      "name": "python3",
      "display_name": "Python 3"
    },
    "language_info": {
      "name": "python"
    }
  },
  "cells": [
    {
      "cell_type": "markdown",
      "metadata": {
        "id": "view-in-github",
        "colab_type": "text"
      },
      "source": [
        "<a href=\"https://colab.research.google.com/github/PaulToronto/Stanford-Andrew-Ng-Machine-Learning-Specialization/blob/main/1_3_1_Classification_with_logistic_regression.ipynb\" target=\"_parent\"><img src=\"https://colab.research.google.com/assets/colab-badge.svg\" alt=\"Open In Colab\"/></a>"
      ]
    },
    {
      "cell_type": "markdown",
      "source": [
        "# 1.3.1 Classification with logistic regression"
      ],
      "metadata": {
        "id": "p-TjpxZLpvdm"
      }
    },
    {
      "cell_type": "markdown",
      "source": [
        "## Imports"
      ],
      "metadata": {
        "id": "NEvFVPzDpxaS"
      }
    },
    {
      "cell_type": "code",
      "execution_count": 1,
      "metadata": {
        "id": "dWpPBHxLppLW"
      },
      "outputs": [],
      "source": [
        "import numpy as np\n",
        "import pandas as pd\n",
        "import matplotlib.pyplot as plt\n",
        "\n",
        "from sklearn.linear_model import LinearRegression"
      ]
    },
    {
      "cell_type": "markdown",
      "source": [
        "## Toy Datasets"
      ],
      "metadata": {
        "id": "P6IcgfKpx2yI"
      }
    },
    {
      "cell_type": "code",
      "source": [
        "data1 = pd.DataFrame({\n",
        "        'x': [0, 1, 2, 3, 4, 5],\n",
        "        'y': [0, 0, 0, 1, 1, 1]\n",
        "})\n",
        "\n",
        "data1"
      ],
      "metadata": {
        "colab": {
          "base_uri": "https://localhost:8080/",
          "height": 238
        },
        "id": "3AGRsv5Gx58B",
        "outputId": "944fcf8d-4d12-42d1-8883-9bbc02cd756f"
      },
      "execution_count": 2,
      "outputs": [
        {
          "output_type": "execute_result",
          "data": {
            "text/plain": [
              "   x  y\n",
              "0  0  0\n",
              "1  1  0\n",
              "2  2  0\n",
              "3  3  1\n",
              "4  4  1\n",
              "5  5  1"
            ],
            "text/html": [
              "\n",
              "  <div id=\"df-b3d13886-2857-4a86-8367-1aa3e6fd82d5\" class=\"colab-df-container\">\n",
              "    <div>\n",
              "<style scoped>\n",
              "    .dataframe tbody tr th:only-of-type {\n",
              "        vertical-align: middle;\n",
              "    }\n",
              "\n",
              "    .dataframe tbody tr th {\n",
              "        vertical-align: top;\n",
              "    }\n",
              "\n",
              "    .dataframe thead th {\n",
              "        text-align: right;\n",
              "    }\n",
              "</style>\n",
              "<table border=\"1\" class=\"dataframe\">\n",
              "  <thead>\n",
              "    <tr style=\"text-align: right;\">\n",
              "      <th></th>\n",
              "      <th>x</th>\n",
              "      <th>y</th>\n",
              "    </tr>\n",
              "  </thead>\n",
              "  <tbody>\n",
              "    <tr>\n",
              "      <th>0</th>\n",
              "      <td>0</td>\n",
              "      <td>0</td>\n",
              "    </tr>\n",
              "    <tr>\n",
              "      <th>1</th>\n",
              "      <td>1</td>\n",
              "      <td>0</td>\n",
              "    </tr>\n",
              "    <tr>\n",
              "      <th>2</th>\n",
              "      <td>2</td>\n",
              "      <td>0</td>\n",
              "    </tr>\n",
              "    <tr>\n",
              "      <th>3</th>\n",
              "      <td>3</td>\n",
              "      <td>1</td>\n",
              "    </tr>\n",
              "    <tr>\n",
              "      <th>4</th>\n",
              "      <td>4</td>\n",
              "      <td>1</td>\n",
              "    </tr>\n",
              "    <tr>\n",
              "      <th>5</th>\n",
              "      <td>5</td>\n",
              "      <td>1</td>\n",
              "    </tr>\n",
              "  </tbody>\n",
              "</table>\n",
              "</div>\n",
              "    <div class=\"colab-df-buttons\">\n",
              "\n",
              "  <div class=\"colab-df-container\">\n",
              "    <button class=\"colab-df-convert\" onclick=\"convertToInteractive('df-b3d13886-2857-4a86-8367-1aa3e6fd82d5')\"\n",
              "            title=\"Convert this dataframe to an interactive table.\"\n",
              "            style=\"display:none;\">\n",
              "\n",
              "  <svg xmlns=\"http://www.w3.org/2000/svg\" height=\"24px\" viewBox=\"0 -960 960 960\">\n",
              "    <path d=\"M120-120v-720h720v720H120Zm60-500h600v-160H180v160Zm220 220h160v-160H400v160Zm0 220h160v-160H400v160ZM180-400h160v-160H180v160Zm440 0h160v-160H620v160ZM180-180h160v-160H180v160Zm440 0h160v-160H620v160Z\"/>\n",
              "  </svg>\n",
              "    </button>\n",
              "\n",
              "  <style>\n",
              "    .colab-df-container {\n",
              "      display:flex;\n",
              "      gap: 12px;\n",
              "    }\n",
              "\n",
              "    .colab-df-convert {\n",
              "      background-color: #E8F0FE;\n",
              "      border: none;\n",
              "      border-radius: 50%;\n",
              "      cursor: pointer;\n",
              "      display: none;\n",
              "      fill: #1967D2;\n",
              "      height: 32px;\n",
              "      padding: 0 0 0 0;\n",
              "      width: 32px;\n",
              "    }\n",
              "\n",
              "    .colab-df-convert:hover {\n",
              "      background-color: #E2EBFA;\n",
              "      box-shadow: 0px 1px 2px rgba(60, 64, 67, 0.3), 0px 1px 3px 1px rgba(60, 64, 67, 0.15);\n",
              "      fill: #174EA6;\n",
              "    }\n",
              "\n",
              "    .colab-df-buttons div {\n",
              "      margin-bottom: 4px;\n",
              "    }\n",
              "\n",
              "    [theme=dark] .colab-df-convert {\n",
              "      background-color: #3B4455;\n",
              "      fill: #D2E3FC;\n",
              "    }\n",
              "\n",
              "    [theme=dark] .colab-df-convert:hover {\n",
              "      background-color: #434B5C;\n",
              "      box-shadow: 0px 1px 3px 1px rgba(0, 0, 0, 0.15);\n",
              "      filter: drop-shadow(0px 1px 2px rgba(0, 0, 0, 0.3));\n",
              "      fill: #FFFFFF;\n",
              "    }\n",
              "  </style>\n",
              "\n",
              "    <script>\n",
              "      const buttonEl =\n",
              "        document.querySelector('#df-b3d13886-2857-4a86-8367-1aa3e6fd82d5 button.colab-df-convert');\n",
              "      buttonEl.style.display =\n",
              "        google.colab.kernel.accessAllowed ? 'block' : 'none';\n",
              "\n",
              "      async function convertToInteractive(key) {\n",
              "        const element = document.querySelector('#df-b3d13886-2857-4a86-8367-1aa3e6fd82d5');\n",
              "        const dataTable =\n",
              "          await google.colab.kernel.invokeFunction('convertToInteractive',\n",
              "                                                    [key], {});\n",
              "        if (!dataTable) return;\n",
              "\n",
              "        const docLinkHtml = 'Like what you see? Visit the ' +\n",
              "          '<a target=\"_blank\" href=https://colab.research.google.com/notebooks/data_table.ipynb>data table notebook</a>'\n",
              "          + ' to learn more about interactive tables.';\n",
              "        element.innerHTML = '';\n",
              "        dataTable['output_type'] = 'display_data';\n",
              "        await google.colab.output.renderOutput(dataTable, element);\n",
              "        const docLink = document.createElement('div');\n",
              "        docLink.innerHTML = docLinkHtml;\n",
              "        element.appendChild(docLink);\n",
              "      }\n",
              "    </script>\n",
              "  </div>\n",
              "\n",
              "\n",
              "<div id=\"df-90e31966-661f-4355-99bd-bbfd2d70cdff\">\n",
              "  <button class=\"colab-df-quickchart\" onclick=\"quickchart('df-90e31966-661f-4355-99bd-bbfd2d70cdff')\"\n",
              "            title=\"Suggest charts.\"\n",
              "            style=\"display:none;\">\n",
              "\n",
              "<svg xmlns=\"http://www.w3.org/2000/svg\" height=\"24px\"viewBox=\"0 0 24 24\"\n",
              "     width=\"24px\">\n",
              "    <g>\n",
              "        <path d=\"M19 3H5c-1.1 0-2 .9-2 2v14c0 1.1.9 2 2 2h14c1.1 0 2-.9 2-2V5c0-1.1-.9-2-2-2zM9 17H7v-7h2v7zm4 0h-2V7h2v10zm4 0h-2v-4h2v4z\"/>\n",
              "    </g>\n",
              "</svg>\n",
              "  </button>\n",
              "\n",
              "<style>\n",
              "  .colab-df-quickchart {\n",
              "      --bg-color: #E8F0FE;\n",
              "      --fill-color: #1967D2;\n",
              "      --hover-bg-color: #E2EBFA;\n",
              "      --hover-fill-color: #174EA6;\n",
              "      --disabled-fill-color: #AAA;\n",
              "      --disabled-bg-color: #DDD;\n",
              "  }\n",
              "\n",
              "  [theme=dark] .colab-df-quickchart {\n",
              "      --bg-color: #3B4455;\n",
              "      --fill-color: #D2E3FC;\n",
              "      --hover-bg-color: #434B5C;\n",
              "      --hover-fill-color: #FFFFFF;\n",
              "      --disabled-bg-color: #3B4455;\n",
              "      --disabled-fill-color: #666;\n",
              "  }\n",
              "\n",
              "  .colab-df-quickchart {\n",
              "    background-color: var(--bg-color);\n",
              "    border: none;\n",
              "    border-radius: 50%;\n",
              "    cursor: pointer;\n",
              "    display: none;\n",
              "    fill: var(--fill-color);\n",
              "    height: 32px;\n",
              "    padding: 0;\n",
              "    width: 32px;\n",
              "  }\n",
              "\n",
              "  .colab-df-quickchart:hover {\n",
              "    background-color: var(--hover-bg-color);\n",
              "    box-shadow: 0 1px 2px rgba(60, 64, 67, 0.3), 0 1px 3px 1px rgba(60, 64, 67, 0.15);\n",
              "    fill: var(--button-hover-fill-color);\n",
              "  }\n",
              "\n",
              "  .colab-df-quickchart-complete:disabled,\n",
              "  .colab-df-quickchart-complete:disabled:hover {\n",
              "    background-color: var(--disabled-bg-color);\n",
              "    fill: var(--disabled-fill-color);\n",
              "    box-shadow: none;\n",
              "  }\n",
              "\n",
              "  .colab-df-spinner {\n",
              "    border: 2px solid var(--fill-color);\n",
              "    border-color: transparent;\n",
              "    border-bottom-color: var(--fill-color);\n",
              "    animation:\n",
              "      spin 1s steps(1) infinite;\n",
              "  }\n",
              "\n",
              "  @keyframes spin {\n",
              "    0% {\n",
              "      border-color: transparent;\n",
              "      border-bottom-color: var(--fill-color);\n",
              "      border-left-color: var(--fill-color);\n",
              "    }\n",
              "    20% {\n",
              "      border-color: transparent;\n",
              "      border-left-color: var(--fill-color);\n",
              "      border-top-color: var(--fill-color);\n",
              "    }\n",
              "    30% {\n",
              "      border-color: transparent;\n",
              "      border-left-color: var(--fill-color);\n",
              "      border-top-color: var(--fill-color);\n",
              "      border-right-color: var(--fill-color);\n",
              "    }\n",
              "    40% {\n",
              "      border-color: transparent;\n",
              "      border-right-color: var(--fill-color);\n",
              "      border-top-color: var(--fill-color);\n",
              "    }\n",
              "    60% {\n",
              "      border-color: transparent;\n",
              "      border-right-color: var(--fill-color);\n",
              "    }\n",
              "    80% {\n",
              "      border-color: transparent;\n",
              "      border-right-color: var(--fill-color);\n",
              "      border-bottom-color: var(--fill-color);\n",
              "    }\n",
              "    90% {\n",
              "      border-color: transparent;\n",
              "      border-bottom-color: var(--fill-color);\n",
              "    }\n",
              "  }\n",
              "</style>\n",
              "\n",
              "  <script>\n",
              "    async function quickchart(key) {\n",
              "      const quickchartButtonEl =\n",
              "        document.querySelector('#' + key + ' button');\n",
              "      quickchartButtonEl.disabled = true;  // To prevent multiple clicks.\n",
              "      quickchartButtonEl.classList.add('colab-df-spinner');\n",
              "      try {\n",
              "        const charts = await google.colab.kernel.invokeFunction(\n",
              "            'suggestCharts', [key], {});\n",
              "      } catch (error) {\n",
              "        console.error('Error during call to suggestCharts:', error);\n",
              "      }\n",
              "      quickchartButtonEl.classList.remove('colab-df-spinner');\n",
              "      quickchartButtonEl.classList.add('colab-df-quickchart-complete');\n",
              "    }\n",
              "    (() => {\n",
              "      let quickchartButtonEl =\n",
              "        document.querySelector('#df-90e31966-661f-4355-99bd-bbfd2d70cdff button');\n",
              "      quickchartButtonEl.style.display =\n",
              "        google.colab.kernel.accessAllowed ? 'block' : 'none';\n",
              "    })();\n",
              "  </script>\n",
              "</div>\n",
              "    </div>\n",
              "  </div>\n"
            ]
          },
          "metadata": {},
          "execution_count": 2
        }
      ]
    },
    {
      "cell_type": "code",
      "source": [
        "x_train1 = data1.drop('y', axis=1).values\n",
        "y_train1 = data1['y'].values\n",
        "x_train1, y_train1"
      ],
      "metadata": {
        "colab": {
          "base_uri": "https://localhost:8080/"
        },
        "id": "ubFQkXb9zLFT",
        "outputId": "79dd7149-4c86-4d60-9968-30c752078c3d"
      },
      "execution_count": 3,
      "outputs": [
        {
          "output_type": "execute_result",
          "data": {
            "text/plain": [
              "(array([[0],\n",
              "        [1],\n",
              "        [2],\n",
              "        [3],\n",
              "        [4],\n",
              "        [5]]),\n",
              " array([0, 0, 0, 1, 1, 1]))"
            ]
          },
          "metadata": {},
          "execution_count": 3
        }
      ]
    },
    {
      "cell_type": "code",
      "source": [
        "pos1 = (y_train1 == 1)\n",
        "neg1 = (y_train1 == 0)\n",
        "pos1, neg1"
      ],
      "metadata": {
        "colab": {
          "base_uri": "https://localhost:8080/"
        },
        "id": "kpetIDGdzmdq",
        "outputId": "845b44a8-f4a6-42b7-b2ca-5e9a95a03177"
      },
      "execution_count": 4,
      "outputs": [
        {
          "output_type": "execute_result",
          "data": {
            "text/plain": [
              "(array([False, False, False,  True,  True,  True]),\n",
              " array([ True,  True,  True, False, False, False]))"
            ]
          },
          "metadata": {},
          "execution_count": 4
        }
      ]
    },
    {
      "cell_type": "code",
      "source": [
        "data2 = pd.DataFrame({\n",
        "        'x': [0, 1, 2, 3, 4, 5, 20],\n",
        "        'y': [0, 0, 0, 1, 1, 1, 1]\n",
        "})\n",
        "\n",
        "data2"
      ],
      "metadata": {
        "colab": {
          "base_uri": "https://localhost:8080/",
          "height": 269
        },
        "id": "r_qeGXUUyka_",
        "outputId": "190b28c6-4a5a-46ba-da47-cde2fb82fee1"
      },
      "execution_count": 5,
      "outputs": [
        {
          "output_type": "execute_result",
          "data": {
            "text/plain": [
              "    x  y\n",
              "0   0  0\n",
              "1   1  0\n",
              "2   2  0\n",
              "3   3  1\n",
              "4   4  1\n",
              "5   5  1\n",
              "6  20  1"
            ],
            "text/html": [
              "\n",
              "  <div id=\"df-dc4bc05c-6787-477f-a0c4-1f342296fde9\" class=\"colab-df-container\">\n",
              "    <div>\n",
              "<style scoped>\n",
              "    .dataframe tbody tr th:only-of-type {\n",
              "        vertical-align: middle;\n",
              "    }\n",
              "\n",
              "    .dataframe tbody tr th {\n",
              "        vertical-align: top;\n",
              "    }\n",
              "\n",
              "    .dataframe thead th {\n",
              "        text-align: right;\n",
              "    }\n",
              "</style>\n",
              "<table border=\"1\" class=\"dataframe\">\n",
              "  <thead>\n",
              "    <tr style=\"text-align: right;\">\n",
              "      <th></th>\n",
              "      <th>x</th>\n",
              "      <th>y</th>\n",
              "    </tr>\n",
              "  </thead>\n",
              "  <tbody>\n",
              "    <tr>\n",
              "      <th>0</th>\n",
              "      <td>0</td>\n",
              "      <td>0</td>\n",
              "    </tr>\n",
              "    <tr>\n",
              "      <th>1</th>\n",
              "      <td>1</td>\n",
              "      <td>0</td>\n",
              "    </tr>\n",
              "    <tr>\n",
              "      <th>2</th>\n",
              "      <td>2</td>\n",
              "      <td>0</td>\n",
              "    </tr>\n",
              "    <tr>\n",
              "      <th>3</th>\n",
              "      <td>3</td>\n",
              "      <td>1</td>\n",
              "    </tr>\n",
              "    <tr>\n",
              "      <th>4</th>\n",
              "      <td>4</td>\n",
              "      <td>1</td>\n",
              "    </tr>\n",
              "    <tr>\n",
              "      <th>5</th>\n",
              "      <td>5</td>\n",
              "      <td>1</td>\n",
              "    </tr>\n",
              "    <tr>\n",
              "      <th>6</th>\n",
              "      <td>20</td>\n",
              "      <td>1</td>\n",
              "    </tr>\n",
              "  </tbody>\n",
              "</table>\n",
              "</div>\n",
              "    <div class=\"colab-df-buttons\">\n",
              "\n",
              "  <div class=\"colab-df-container\">\n",
              "    <button class=\"colab-df-convert\" onclick=\"convertToInteractive('df-dc4bc05c-6787-477f-a0c4-1f342296fde9')\"\n",
              "            title=\"Convert this dataframe to an interactive table.\"\n",
              "            style=\"display:none;\">\n",
              "\n",
              "  <svg xmlns=\"http://www.w3.org/2000/svg\" height=\"24px\" viewBox=\"0 -960 960 960\">\n",
              "    <path d=\"M120-120v-720h720v720H120Zm60-500h600v-160H180v160Zm220 220h160v-160H400v160Zm0 220h160v-160H400v160ZM180-400h160v-160H180v160Zm440 0h160v-160H620v160ZM180-180h160v-160H180v160Zm440 0h160v-160H620v160Z\"/>\n",
              "  </svg>\n",
              "    </button>\n",
              "\n",
              "  <style>\n",
              "    .colab-df-container {\n",
              "      display:flex;\n",
              "      gap: 12px;\n",
              "    }\n",
              "\n",
              "    .colab-df-convert {\n",
              "      background-color: #E8F0FE;\n",
              "      border: none;\n",
              "      border-radius: 50%;\n",
              "      cursor: pointer;\n",
              "      display: none;\n",
              "      fill: #1967D2;\n",
              "      height: 32px;\n",
              "      padding: 0 0 0 0;\n",
              "      width: 32px;\n",
              "    }\n",
              "\n",
              "    .colab-df-convert:hover {\n",
              "      background-color: #E2EBFA;\n",
              "      box-shadow: 0px 1px 2px rgba(60, 64, 67, 0.3), 0px 1px 3px 1px rgba(60, 64, 67, 0.15);\n",
              "      fill: #174EA6;\n",
              "    }\n",
              "\n",
              "    .colab-df-buttons div {\n",
              "      margin-bottom: 4px;\n",
              "    }\n",
              "\n",
              "    [theme=dark] .colab-df-convert {\n",
              "      background-color: #3B4455;\n",
              "      fill: #D2E3FC;\n",
              "    }\n",
              "\n",
              "    [theme=dark] .colab-df-convert:hover {\n",
              "      background-color: #434B5C;\n",
              "      box-shadow: 0px 1px 3px 1px rgba(0, 0, 0, 0.15);\n",
              "      filter: drop-shadow(0px 1px 2px rgba(0, 0, 0, 0.3));\n",
              "      fill: #FFFFFF;\n",
              "    }\n",
              "  </style>\n",
              "\n",
              "    <script>\n",
              "      const buttonEl =\n",
              "        document.querySelector('#df-dc4bc05c-6787-477f-a0c4-1f342296fde9 button.colab-df-convert');\n",
              "      buttonEl.style.display =\n",
              "        google.colab.kernel.accessAllowed ? 'block' : 'none';\n",
              "\n",
              "      async function convertToInteractive(key) {\n",
              "        const element = document.querySelector('#df-dc4bc05c-6787-477f-a0c4-1f342296fde9');\n",
              "        const dataTable =\n",
              "          await google.colab.kernel.invokeFunction('convertToInteractive',\n",
              "                                                    [key], {});\n",
              "        if (!dataTable) return;\n",
              "\n",
              "        const docLinkHtml = 'Like what you see? Visit the ' +\n",
              "          '<a target=\"_blank\" href=https://colab.research.google.com/notebooks/data_table.ipynb>data table notebook</a>'\n",
              "          + ' to learn more about interactive tables.';\n",
              "        element.innerHTML = '';\n",
              "        dataTable['output_type'] = 'display_data';\n",
              "        await google.colab.output.renderOutput(dataTable, element);\n",
              "        const docLink = document.createElement('div');\n",
              "        docLink.innerHTML = docLinkHtml;\n",
              "        element.appendChild(docLink);\n",
              "      }\n",
              "    </script>\n",
              "  </div>\n",
              "\n",
              "\n",
              "<div id=\"df-33527506-36cb-4b1a-9a49-866215a02bb8\">\n",
              "  <button class=\"colab-df-quickchart\" onclick=\"quickchart('df-33527506-36cb-4b1a-9a49-866215a02bb8')\"\n",
              "            title=\"Suggest charts.\"\n",
              "            style=\"display:none;\">\n",
              "\n",
              "<svg xmlns=\"http://www.w3.org/2000/svg\" height=\"24px\"viewBox=\"0 0 24 24\"\n",
              "     width=\"24px\">\n",
              "    <g>\n",
              "        <path d=\"M19 3H5c-1.1 0-2 .9-2 2v14c0 1.1.9 2 2 2h14c1.1 0 2-.9 2-2V5c0-1.1-.9-2-2-2zM9 17H7v-7h2v7zm4 0h-2V7h2v10zm4 0h-2v-4h2v4z\"/>\n",
              "    </g>\n",
              "</svg>\n",
              "  </button>\n",
              "\n",
              "<style>\n",
              "  .colab-df-quickchart {\n",
              "      --bg-color: #E8F0FE;\n",
              "      --fill-color: #1967D2;\n",
              "      --hover-bg-color: #E2EBFA;\n",
              "      --hover-fill-color: #174EA6;\n",
              "      --disabled-fill-color: #AAA;\n",
              "      --disabled-bg-color: #DDD;\n",
              "  }\n",
              "\n",
              "  [theme=dark] .colab-df-quickchart {\n",
              "      --bg-color: #3B4455;\n",
              "      --fill-color: #D2E3FC;\n",
              "      --hover-bg-color: #434B5C;\n",
              "      --hover-fill-color: #FFFFFF;\n",
              "      --disabled-bg-color: #3B4455;\n",
              "      --disabled-fill-color: #666;\n",
              "  }\n",
              "\n",
              "  .colab-df-quickchart {\n",
              "    background-color: var(--bg-color);\n",
              "    border: none;\n",
              "    border-radius: 50%;\n",
              "    cursor: pointer;\n",
              "    display: none;\n",
              "    fill: var(--fill-color);\n",
              "    height: 32px;\n",
              "    padding: 0;\n",
              "    width: 32px;\n",
              "  }\n",
              "\n",
              "  .colab-df-quickchart:hover {\n",
              "    background-color: var(--hover-bg-color);\n",
              "    box-shadow: 0 1px 2px rgba(60, 64, 67, 0.3), 0 1px 3px 1px rgba(60, 64, 67, 0.15);\n",
              "    fill: var(--button-hover-fill-color);\n",
              "  }\n",
              "\n",
              "  .colab-df-quickchart-complete:disabled,\n",
              "  .colab-df-quickchart-complete:disabled:hover {\n",
              "    background-color: var(--disabled-bg-color);\n",
              "    fill: var(--disabled-fill-color);\n",
              "    box-shadow: none;\n",
              "  }\n",
              "\n",
              "  .colab-df-spinner {\n",
              "    border: 2px solid var(--fill-color);\n",
              "    border-color: transparent;\n",
              "    border-bottom-color: var(--fill-color);\n",
              "    animation:\n",
              "      spin 1s steps(1) infinite;\n",
              "  }\n",
              "\n",
              "  @keyframes spin {\n",
              "    0% {\n",
              "      border-color: transparent;\n",
              "      border-bottom-color: var(--fill-color);\n",
              "      border-left-color: var(--fill-color);\n",
              "    }\n",
              "    20% {\n",
              "      border-color: transparent;\n",
              "      border-left-color: var(--fill-color);\n",
              "      border-top-color: var(--fill-color);\n",
              "    }\n",
              "    30% {\n",
              "      border-color: transparent;\n",
              "      border-left-color: var(--fill-color);\n",
              "      border-top-color: var(--fill-color);\n",
              "      border-right-color: var(--fill-color);\n",
              "    }\n",
              "    40% {\n",
              "      border-color: transparent;\n",
              "      border-right-color: var(--fill-color);\n",
              "      border-top-color: var(--fill-color);\n",
              "    }\n",
              "    60% {\n",
              "      border-color: transparent;\n",
              "      border-right-color: var(--fill-color);\n",
              "    }\n",
              "    80% {\n",
              "      border-color: transparent;\n",
              "      border-right-color: var(--fill-color);\n",
              "      border-bottom-color: var(--fill-color);\n",
              "    }\n",
              "    90% {\n",
              "      border-color: transparent;\n",
              "      border-bottom-color: var(--fill-color);\n",
              "    }\n",
              "  }\n",
              "</style>\n",
              "\n",
              "  <script>\n",
              "    async function quickchart(key) {\n",
              "      const quickchartButtonEl =\n",
              "        document.querySelector('#' + key + ' button');\n",
              "      quickchartButtonEl.disabled = true;  // To prevent multiple clicks.\n",
              "      quickchartButtonEl.classList.add('colab-df-spinner');\n",
              "      try {\n",
              "        const charts = await google.colab.kernel.invokeFunction(\n",
              "            'suggestCharts', [key], {});\n",
              "      } catch (error) {\n",
              "        console.error('Error during call to suggestCharts:', error);\n",
              "      }\n",
              "      quickchartButtonEl.classList.remove('colab-df-spinner');\n",
              "      quickchartButtonEl.classList.add('colab-df-quickchart-complete');\n",
              "    }\n",
              "    (() => {\n",
              "      let quickchartButtonEl =\n",
              "        document.querySelector('#df-33527506-36cb-4b1a-9a49-866215a02bb8 button');\n",
              "      quickchartButtonEl.style.display =\n",
              "        google.colab.kernel.accessAllowed ? 'block' : 'none';\n",
              "    })();\n",
              "  </script>\n",
              "</div>\n",
              "    </div>\n",
              "  </div>\n"
            ]
          },
          "metadata": {},
          "execution_count": 5
        }
      ]
    },
    {
      "cell_type": "code",
      "source": [
        "x_train2 = data2.drop('y', axis=1).values\n",
        "y_train2 = data2['y'].values\n",
        "x_train2, y_train2"
      ],
      "metadata": {
        "colab": {
          "base_uri": "https://localhost:8080/"
        },
        "id": "-iKbcKnrzb8G",
        "outputId": "392de5dc-9827-4d0c-d1d1-3b0adb8c05cd"
      },
      "execution_count": 6,
      "outputs": [
        {
          "output_type": "execute_result",
          "data": {
            "text/plain": [
              "(array([[ 0],\n",
              "        [ 1],\n",
              "        [ 2],\n",
              "        [ 3],\n",
              "        [ 4],\n",
              "        [ 5],\n",
              "        [20]]),\n",
              " array([0, 0, 0, 1, 1, 1, 1]))"
            ]
          },
          "metadata": {},
          "execution_count": 6
        }
      ]
    },
    {
      "cell_type": "code",
      "source": [
        "pos2 = (y_train2 == 1)\n",
        "neg2 = (y_train2 == 0)\n",
        "pos2, neg2"
      ],
      "metadata": {
        "colab": {
          "base_uri": "https://localhost:8080/"
        },
        "id": "Xc3vfhnTzpuc",
        "outputId": "d6fdee09-c523-4376-ea50-b8b36b2945c9"
      },
      "execution_count": 7,
      "outputs": [
        {
          "output_type": "execute_result",
          "data": {
            "text/plain": [
              "(array([False, False, False,  True,  True,  True,  True]),\n",
              " array([ True,  True,  True, False, False, False, False]))"
            ]
          },
          "metadata": {},
          "execution_count": 7
        }
      ]
    },
    {
      "cell_type": "markdown",
      "source": [
        "## 1.3.1.1 Motivations"
      ],
      "metadata": {
        "id": "IOdIjAN0p3JS"
      }
    },
    {
      "cell_type": "markdown",
      "source": [
        "### Examples of classification problems\n",
        "\n",
        "#### **Binary** classification: $y$ can only be one of two categories\n",
        "\n",
        "- Is this email spam? - no or yes, false or true, 0 or 1\n",
        "- Is the transaction fraudulent? - no or yes, false or true, 0 or 1\n",
        "- Is the tumor malignant? - no or yes, false or true, 0 or 1\n",
        "\n",
        "The 0 or false category is often called the **negative class** as opposed to the **positive class**"
      ],
      "metadata": {
        "id": "9lOik_7G49Uf"
      }
    },
    {
      "cell_type": "markdown",
      "source": [
        "### How to build a classification algorithm"
      ],
      "metadata": {
        "id": "313tvPOi4xbC"
      }
    },
    {
      "cell_type": "markdown",
      "source": [
        "#### How about linear regression?"
      ],
      "metadata": {
        "id": "KDl47yxG4226"
      }
    },
    {
      "cell_type": "code",
      "source": [
        "fig, ax = plt.subplots(1, 2, figsize=(10, 4))\n",
        "fig.set_facecolor('whitesmoke')\n",
        "\n",
        "# data1 boundary\n",
        "xmin1 = -0.2\n",
        "xmax1 = 5.2\n",
        "ymin1 = -0.1\n",
        "ymax1 = 1.1\n",
        "\n",
        "# plot data1\n",
        "ax[0].scatter(x_train1[pos1], y_train1[pos1],\n",
        "              marker='X', s=80, c='red', label='y=1')\n",
        "ax[0].scatter(x_train1[neg1], y_train1[neg1],\n",
        "              marker='o', s=80, facecolors='none',\n",
        "              edgecolor='dodgerblue', lw=3, label='y=0')\n",
        "ax[0].set_xlabel('x', fontsize=12)\n",
        "ax[0].set_ylabel('y', fontsize=12)\n",
        "ax[0].set_title('Dataset')\n",
        "ax[0].set_xlim(xmin1, xmax1)\n",
        "ax[0].set_ylim(ymin1, ymax1)\n",
        "ax[0].legend(loc='lower right')\n",
        "\n",
        "# plot regression line for data1\n",
        "model1 = LinearRegression()\n",
        "model1.fit(x_train1, y_train1)\n",
        "w1 = model1.coef_[0]\n",
        "b1 = model1.intercept_\n",
        "regression_line = w1 * x_train1 + b1\n",
        "ax[0].plot(x_train1, regression_line,\n",
        "           c='navy', label='regression line')\n",
        "\n",
        "# plot threshold\n",
        "ax[0].axhline(0.5, c='orange', label='threshold')\n",
        "\n",
        "# decision boundary\n",
        "decision_boundary1 = (0.5 - b1) / w1\n",
        "ax[0].axvline(decision_boundary1, c='purple', label='decision boundary')\n",
        "ax[0].fill_betweenx((ymin1, ymax1),\n",
        "                  xmin1, decision_boundary1,\n",
        "                  facecolor='dodgerblue',\n",
        "                  alpha=0.2, label='benign')\n",
        "ax[0].fill_betweenx((ymin1, ymax1),\n",
        "                  decision_boundary1, xmax1,\n",
        "                  facecolor='red',\n",
        "                  alpha=0.2, label='malignant')\n",
        "\n",
        "# data2 boundary\n",
        "xmin2 = -0.5\n",
        "xmax2 = 20.5\n",
        "ymin2 = -0.1\n",
        "ymax2 = 1.1\n",
        "\n",
        "# plot data2\n",
        "ax[1].scatter(x_train2[pos2], y_train2[pos2],\n",
        "              marker='X', s=80, c='red', label='y=1')\n",
        "ax[1].scatter(x_train2[neg2], y_train2[neg2],\n",
        "              marker='o', s=80, facecolors='none',\n",
        "              edgecolor='dodgerblue', lw=3, label='y=0')\n",
        "ax[1].set_xlabel('x', fontsize=12)\n",
        "ax[1].set_ylabel('y', fontsize=12)\n",
        "ax[1].set_title('Dataset with extra training example')\n",
        "ax[1].set_xlim(xmin2, xmax2)\n",
        "ax[1].set_ylim(ymin2, ymax2)\n",
        "ax[1].legend(loc='lower right')\n",
        "\n",
        "# plot regression line for data2\n",
        "model2 = LinearRegression()\n",
        "model2.fit(x_train2, y_train2)\n",
        "w2 = model2.coef_[0]\n",
        "b2 = model2.intercept_\n",
        "regression_line2 = w2 * x_train2 + b2\n",
        "ax[1].plot(x_train2, regression_line2,\n",
        "           c='navy', label='regression line')\n",
        "\n",
        "# plot threshold\n",
        "ax[1].axhline(0.5, c='orange', label='threshold')\n",
        "\n",
        "# decision boundary\n",
        "decision_boundary2 = (0.5 - b2) / w2\n",
        "ax[1].axvline(decision_boundary2, c='purple', label='decision boundary')\n",
        "ax[1].fill_betweenx((ymin2, ymax2),\n",
        "                  xmin2, decision_boundary2,\n",
        "                  facecolor='dodgerblue',\n",
        "                  alpha=0.2, label='benign')\n",
        "ax[1].fill_betweenx((ymin2, ymax2),\n",
        "                  decision_boundary2, xmax2,\n",
        "                  facecolor='red',\n",
        "                  alpha=0.2, label='malignant')\n",
        "\n",
        "\n",
        "plt.tight_layout()\n",
        "plt.show()"
      ],
      "metadata": {
        "colab": {
          "base_uri": "https://localhost:8080/",
          "height": 407
        },
        "id": "PLA9y_eRzH0J",
        "outputId": "fc00feed-42eb-4819-ba79-a1cb77d9d8f3"
      },
      "execution_count": 8,
      "outputs": [
        {
          "output_type": "display_data",
          "data": {
            "text/plain": [
              "<Figure size 1000x400 with 2 Axes>"
            ],
            "image/png": "[encoded data removed]"
          },
          "metadata": {}
        }
      ]
    },
    {
      "cell_type": "markdown",
      "source": [
        "- We could pick a threshold (horizontal orange line), say $0.5$\n",
        " - if $f_{w,b}(x) \\lt 0.5 \\implies \\widehat{y} = 0$\n",
        " - if $f_{w,b}(x) \\ge 0.5 \\implies \\widehat{y} = 1$\n",
        "\n",
        "- What if there is one more training example?\n",
        " - This single training example should not change how we classify the data, but it does\n",
        " - The original vertical dividing line (aka **decision boundary**) still makes sense\n",
        "    - But the best fit line shifts over and we get a new decision boundary\n",
        "        - a boundary that no longer makes sense!"
      ],
      "metadata": {
        "id": "kBLTXzWA6Y67"
      }
    },
    {
      "cell_type": "markdown",
      "source": [
        "## 1.3.1.2 Lab - Classification\n",
        "\n",
        "https://colab.research.google.com/drive/1I_CCuK-RPtMr0qMJxydT3ptxhKn_kXPy"
      ],
      "metadata": {
        "id": "Poqf9uzw9BJT"
      }
    },
    {
      "cell_type": "markdown",
      "source": [
        "## 1.3.1.3 Logistic Regression"
      ],
      "metadata": {
        "id": "jDClBSs-9K3E"
      }
    },
    {
      "cell_type": "markdown",
      "source": [
        "<img src='https://drive.google.com/uc?export=view&id=1PD3WtdeGq6-0lUy_woo6CyfbTDPdtJDJ'>\n",
        "\n",
        "- Logistic Regression will fit a curve that looks like the s-shaped curve shown here\n",
        "- The output label can only be 0 or 1\n",
        "\n"
      ],
      "metadata": {
        "id": "0CM8Ntxs-Jyb"
      }
    },
    {
      "cell_type": "markdown",
      "source": [
        "### The Sigmoid Function\n",
        "\n",
        "The sigmoid function (aka logistic function) only has outputs between 0 and 1.\n",
        "\n",
        "$$\n",
        "g(z) = \\frac{1}{1 + e^{-z}}\n",
        "$$\n",
        "<br>\n",
        "$$\n",
        "0 \\lt g(z) \\lt 1\n",
        "$$"
      ],
      "metadata": {
        "id": "UH6FZTxDfbac"
      }
    },
    {
      "cell_type": "code",
      "source": [
        "def sigmoid(z):\n",
        "    \"\"\"\n",
        "    Compute the sigmoid of z\n",
        "\n",
        "    Parameters\n",
        "    ----------\n",
        "    z : array_like\n",
        "        A scalar or numpy array of any size.\n",
        "\n",
        "    Returns\n",
        "    -------\n",
        "     g : array_like\n",
        "         sigmoid(z)\n",
        "    \"\"\"\n",
        "    z = np.clip( z, -500, 500 )           # protect against overflow\n",
        "    g = 1.0 / (1.0 + np.exp(-z))\n",
        "\n",
        "    return g"
      ],
      "metadata": {
        "id": "TM_FXdZGfnlc"
      },
      "execution_count": 9,
      "outputs": []
    },
    {
      "cell_type": "code",
      "source": [
        "z = np.linspace(-10, 10, 500)\n",
        "plt.plot(z, sigmoid(z), c='red', lw=3)\n",
        "\n",
        "zs = np.array([-10, -2, 0, 2, 10])\n",
        "plt.scatter(zs, sigmoid(zs), c='dodgerblue', s=100, zorder=100)\n",
        "\n",
        "plt.xlabel('$z$')\n",
        "plt.ylabel('$g(z)$')\n",
        "plt.title('The sigmoid function')\n",
        "plt.show()"
      ],
      "metadata": {
        "colab": {
          "base_uri": "https://localhost:8080/",
          "height": 472
        },
        "id": "peBspMocfxGz",
        "outputId": "dc8d28b5-9193-40f7-c62e-cba7e9ecf08f"
      },
      "execution_count": 10,
      "outputs": [
        {
          "output_type": "display_data",
          "data": {
            "text/plain": [
              "<Figure size 640x480 with 1 Axes>"
            ],
            "image/png": "[encoded data removed]"
          },
          "metadata": {}
        }
      ]
    },
    {
      "cell_type": "markdown",
      "source": [
        "\n",
        "\n",
        "<img src='https://drive.google.com/uc?export=view&id=1l7hWem5Eni4mXrFqLyiV2fgWrGI1AtJQ'>\n",
        "\n",
        "- Note that the graph on the right, unlike that on the left, is centered at 0 on the z-axis\n",
        "- When $z = 0$, $y = 0.5$"
      ],
      "metadata": {
        "id": "LGrmBY_b_y0P"
      }
    },
    {
      "cell_type": "code",
      "source": [
        "sigmoid(-100), sigmoid(0), sigmoid(100)"
      ],
      "metadata": {
        "colab": {
          "base_uri": "https://localhost:8080/"
        },
        "id": "1QekfYysgcmo",
        "outputId": "9e6277b7-7bc3-45c6-edca-186faa173191"
      },
      "execution_count": 11,
      "outputs": [
        {
          "output_type": "execute_result",
          "data": {
            "text/plain": [
              "(3.7200759760208356e-44, 0.5, 1.0)"
            ]
          },
          "metadata": {},
          "execution_count": 11
        }
      ]
    },
    {
      "cell_type": "markdown",
      "source": [
        "<img src='https://drive.google.com/uc?export=view&id=156WvzHWyqzJ66-tdg8YdjVdPg5T1NQbX'>\n",
        "\n",
        "Building up to the **logistic regression** algorithm in two steps.\n",
        "\n",
        "#### Step 1\n",
        "\n",
        "- Recall that a straight line function, like the linear regression function, can be expressed as $\\vec{w}\\vec{x} + b$.\n",
        "- Let's store that in the variable $z$\n",
        " - $z = \\vec{w}\\vec{x}+ b$\n",
        "\n",
        "#### Step 2\n",
        "\n",
        "- plug $z$ into the sigmoid function\n",
        "\n",
        "$$\n",
        "\\begin{align}\n",
        "f_{\\vec{w},b}(\\vec{x})\n",
        "&= g(\\vec{w}\\vec{x} + b) \\\\\n",
        "&= \\frac{1}{1 + e^{-(\\vec{w}\\vec{x} + b)}}\n",
        "\\end{align}\n",
        "$$"
      ],
      "metadata": {
        "id": "URYKHA8hBnVj"
      }
    },
    {
      "cell_type": "markdown",
      "source": [
        "### Interpretation of Logistic Regression Output"
      ],
      "metadata": {
        "id": "Dc0WF19JB6pj"
      }
    },
    {
      "cell_type": "markdown",
      "source": [
        " <img src='https://drive.google.com/uc?export=view&id=1gNJn6dZEKlgq8QZCfOUuQzEiDmkBpIUp'>\n",
        "\n",
        "- think of the ouptut of logistic regression as the **probability** that the true class is 1\n",
        " - $P(y = 1)$\n",
        "\n",
        " $$\n",
        " P(y = 0) + P(y = 1) = 1\n",
        " $$\n",
        "\n",
        "- You may see the following notation which means: \"Probability that $y$ is 1, given input $\\vec{x}$ and parameters $\\vec{w},b$\n",
        "\n",
        " $$\n",
        " f_{\\vec{w},b}(\\vec{x}) = P(y = 1|\\vec{x};\\vec{w},b)\n",
        " $$"
      ],
      "metadata": {
        "id": "l2qvQvIvC695"
      }
    },
    {
      "cell_type": "markdown",
      "source": [
        "## 1.3.1.4 Lab - Sigmoid Function and Logistic Regression\n",
        "\n",
        "https://colab.research.google.com/drive/14ma_UlR6Aa4VC0pt3TJNCU-ysB9dcARg"
      ],
      "metadata": {
        "id": "uNpLYJa32hQN"
      }
    },
    {
      "cell_type": "markdown",
      "source": [
        "## 1.3.1.5 Decision Boundary"
      ],
      "metadata": {
        "id": "SgUGFmoa3hKi"
      }
    },
    {
      "cell_type": "code",
      "source": [
        "z = np.linspace(-10, 10, 500)\n",
        "plt.plot(z, sigmoid(z), c='red', lw=3)\n",
        "\n",
        "plt.yticks([0, 0.5, 1])\n",
        "plt.xlabel('$z$')\n",
        "plt.ylabel('$g(z)$')\n",
        "plt.title('The sigmoid function: g(z)')\n",
        "plt.show()"
      ],
      "metadata": {
        "colab": {
          "base_uri": "https://localhost:8080/",
          "height": 472
        },
        "id": "XT0PwY9TV0bk",
        "outputId": "0ca05356-f914-4474-958f-50a3b6f2f9a2"
      },
      "execution_count": 12,
      "outputs": [
        {
          "output_type": "display_data",
          "data": {
            "text/plain": [
              "<Figure size 640x480 with 1 Axes>"
            ],
            "image/png": "[encoded data removed]"
          },
          "metadata": {}
        }
      ]
    },
    {
      "cell_type": "markdown",
      "source": [
        "### Logistic Regression Recap\n",
        "\n",
        "$$\n",
        "\\begin{align}\n",
        "f_{\\vec{w},b}(\\vec{x})\n",
        "&= g(\\vec{w}\\cdot\\vec{x} + b) \\\\\n",
        "&= \\frac{1}{1 + e^{-(\\vec{w}\\vec{x} + b)}} \\\\\n",
        "&= P(y = 1|\\vec{x};\\vec{w},b)\n",
        "\\end{align}\n",
        "$$\n",
        "\n",
        "- This returns a value between 0 and 1\n",
        "- Given the return value, how is $\\widehat{y}$ determined?\n",
        " - We could pick a **threshold**, say $0.5$:\n",
        "   - if $f_{w,b}(x) \\lt 0.5 \\implies \\widehat{y} = 0$\n",
        "   - if $f_{w,b}(x) \\ge 0.5 \\implies \\widehat{y} = 1$"
      ],
      "metadata": {
        "id": "fiGWDWz6VrvJ"
      }
    },
    {
      "cell_type": "markdown",
      "source": [
        "### When is $f_{\\vec{w},b}{(\\vec{x})} \\ge 0.5$?\n",
        "\n",
        "- When $g(z) \\ge 0.5$\n",
        "    - Which happens when $z \\ge 0$\n",
        "        - Which happens when $\\vec{w} \\cdot \\vec{x} + b \\ge 0$"
      ],
      "metadata": {
        "id": "7aj38fHfYvI0"
      }
    },
    {
      "cell_type": "markdown",
      "source": [
        "### Decision Boundary with Two Features\n",
        "\n",
        "<img src='https://drive.google.com/uc?export=view&id=1mXwUn49nND_2B5dP2r6UON6oX1kSvMzr'>\n",
        "\n",
        "$$\n",
        "\\begin{align}\n",
        "f_{\\vec{w},b}(\\vec{x}) &= g(z) \\\\\n",
        "&= g(w_1x_1 + w_2x_2 + b)\n",
        "\\end{align}\n",
        "$$\n",
        "\n",
        "Suppose:\n",
        "\n",
        "$$\n",
        "\\begin{align}\n",
        "w_1 &= 1 \\\\\n",
        "w_2 &= 1 \\\\\n",
        "b &= -3\n",
        "\\end{align}\n",
        "$$"
      ],
      "metadata": {
        "id": "n9LW9Ucca3fs"
      }
    },
    {
      "cell_type": "markdown",
      "source": [
        "### The decision boundary is given by the following line:\n",
        "\n",
        "$$\n",
        "\\begin{align}\n",
        "z &= 0 \\\\\n",
        "x_1 + x_2 - 3 &= 0 \\\\\n",
        "x_1 + x_2 &= 3 \\\\\n",
        "\\end{align}\n",
        "$$\n",
        "\n",
        "<img src='https://drive.google.com/uc?export=view&id=18u_QHaMRh7hl2Jg1k8iH6fxBthbN4lgS'>\n",
        "\n",
        "- The decision boundary depends on the values of $\\vec{w}$ and $b$.\n"
      ],
      "metadata": {
        "id": "B8S_BDG-cnvN"
      }
    },
    {
      "cell_type": "markdown",
      "source": [
        "### Non-linear decision boundaries\n",
        "\n",
        "<img src='https://drive.google.com/uc?export=view&id=1erjN9tiTHvk1S-Zws054YfBJa9dbR7PR'>\n",
        "\n",
        "$$\n",
        "\\begin{align}\n",
        "z &= w_1{x_1}^{2} + w_2{x_2}^{2} + b \\\\\n",
        "f_{\\vec{w},b}(\\vec{x}) &= g(z) \\\\\n",
        "&= g(w_1{x_1}^{2} + w_2{x_2}^{2} + b)\n",
        "\\end{align}\n",
        "$$\n",
        "\n",
        "Suppose:\n",
        "\n",
        "$$\n",
        "\\begin{align}\n",
        "w_1 &= 1 \\\\\n",
        "w_2 &= 2 \\\\\n",
        "b &= -1\n",
        "\\end{align}\n",
        "$$\n",
        "\n",
        "The decision boundary is given by the following:\n",
        "\n",
        "$$\n",
        "\\begin{align}\n",
        "z &= 0 \\\\\n",
        "{x_1}^{2} + {x_2}^{2} - 1 &= 0 \\\\\n",
        "{x_1}^{2} + {x_2}^{2} &= 1\n",
        "\\end{align}\n",
        "$$\n",
        "\n",
        "Which is a circle with radius 1.\n",
        "\n",
        "<img src='https://drive.google.com/uc?export=view&id=1YMz2GTadWHNhrUJxUxPYdmSoLlwhYwCB'>\n",
        "\n",
        "When: ${x_1}^2 + {x_2}^2 >= 1$ then $\\widehat{y} = 1$\n",
        "<br>\n",
        "Else: $\\widehat{y} = 0$\n",
        "\n",
        "With logistic regression you can get even more complex descision boundaries.\n",
        "\n",
        "<img src='https://drive.google.com/uc?export=view&id=1PHigWlTm8snH9irESnr_rAHxwosBAHqA'>\n",
        "\n",
        "\n",
        "\n"
      ],
      "metadata": {
        "id": "jr-0wnttgjgT"
      }
    },
    {
      "cell_type": "markdown",
      "source": [
        "## 1.3.1.6 Lab - Decision Boundary\n",
        "\n",
        "https://colab.research.google.com/drive/1F3VbDhKVBqBy6BeUqTwdNd8xYOGDgYGw"
      ],
      "metadata": {
        "id": "tleNbZZopZKs"
      }
    }
  ]
}