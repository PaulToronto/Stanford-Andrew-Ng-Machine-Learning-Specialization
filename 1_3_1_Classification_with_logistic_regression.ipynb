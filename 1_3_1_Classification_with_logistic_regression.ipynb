{
  "nbformat": 4,
  "nbformat_minor": 0,
  "metadata": {
    "colab": {
      "provenance": [],
      "toc_visible": true,
      "authorship_tag": "ABX9TyMv1YvBC3ytYXKaJhkY7QVZ",
      "include_colab_link": true
    },
    "kernelspec": {
      "name": "python3",
      "display_name": "Python 3"
    },
    "language_info": {
      "name": "python"
    }
  },
  "cells": [
    {
      "cell_type": "markdown",
      "metadata": {
        "id": "view-in-github",
        "colab_type": "text"
      },
      "source": [
        "<a href=\"https://colab.research.google.com/github/PaulToronto/Stanford-Andrew-Ng-Machine-Learning-Specialization/blob/main/1_3_1_Classification_with_logistic_regression.ipynb\" target=\"_parent\"><img src=\"https://colab.research.google.com/assets/colab-badge.svg\" alt=\"Open In Colab\"/></a>"
      ]
    },
    {
      "cell_type": "markdown",
      "source": [
        "# Classification with logistic regression"
      ],
      "metadata": {
        "id": "p-TjpxZLpvdm"
      }
    },
    {
      "cell_type": "markdown",
      "source": [
        "## Imports"
      ],
      "metadata": {
        "id": "NEvFVPzDpxaS"
      }
    },
    {
      "cell_type": "code",
      "execution_count": null,
      "metadata": {
        "id": "dWpPBHxLppLW"
      },
      "outputs": [],
      "source": []
    },
    {
      "cell_type": "markdown",
      "source": [
        "## 1.3.1.1 Motivations"
      ],
      "metadata": {
        "id": "IOdIjAN0p3JS"
      }
    },
    {
      "cell_type": "markdown",
      "source": [
        "### Examples of classification problems\n",
        "\n",
        "#### Binary classification: $y$ can only be one of two categories\n",
        "\n",
        "- Is this email spam? - no or yes, false or true, 0 or 1\n",
        "- Is the transaction fraudulent? - no or yes, false or true, 0 or 1\n",
        "- Is the tumor malignant? - no or yes, false or true, 0 or 1\n",
        "\n",
        "The 0 or false category is often called the **negative class** as opposed to the **positive class**"
      ],
      "metadata": {
        "id": "9lOik_7G49Uf"
      }
    },
    {
      "cell_type": "markdown",
      "source": [
        "### How to build a classification algorithm\n",
        "\n",
        "- How about linear regression?\n",
        "\n",
        "<img src='https://drive.google.com/uc?export=view&id=19scsIB2Y-AP_6MiPXAmXJ5SIISd0sri0'>\n",
        "\n",
        "- We could pick a threshold, say $0.5$\n",
        " - if $f_{w,b}(x) \\lt 0.5 \\implies \\widehat{y} = 0$\n",
        " - if $f_{w,b}(x) \\ge 0.5 \\implies \\widehat{y} = 1$\n",
        "\n",
        "- What if there is one more training example?\n",
        " - This single training example should not change how we classify the data, but it does\n",
        " - The vertical dividing line (aka **decision boundary**) still makes sense\n",
        " - But the best fit line shifts over (green) and we get a new decision boundary\n",
        "  - a boundary that no longer makes sense!\n",
        "\n",
        "<img src='https://drive.google.com/uc?export=view&id=1LF6fxT-fmSmXUb-iSzDVxk8h6KLP4bPu'>\n"
      ],
      "metadata": {
        "id": "ACnsM7qL6nwB"
      }
    },
    {
      "cell_type": "markdown",
      "source": [
        "## 1.3.1.2 Lab - Classification\n",
        "\n",
        "https://colab.research.google.com/drive/1S-s82C5sWGGrAcqVly_IRh0eFclaNTFh"
      ],
      "metadata": {
        "id": "Poqf9uzw9BJT"
      }
    },
    {
      "cell_type": "markdown",
      "source": [
        "## 1.3.1.3 Logistic Regression"
      ],
      "metadata": {
        "id": "jDClBSs-9K3E"
      }
    },
    {
      "cell_type": "markdown",
      "source": [
        "<img src='https://drive.google.com/uc?export=view&id=1PD3WtdeGq6-0lUy_woo6CyfbTDPdtJDJ'>\n",
        "\n",
        "Logistic Regression will fit a curve that looks like the s-shaped curve in the image above.\n",
        "**INSERT NOTES HERE**\n"
      ],
      "metadata": {
        "id": "0CM8Ntxs-Jyb"
      }
    },
    {
      "cell_type": "markdown",
      "source": [
        "\n",
        "\n",
        "<img src='https://drive.google.com/uc?export=view&id=1l7hWem5Eni4mXrFqLyiV2fgWrGI1AtJQ'>\n",
        "\n",
        "**INSERT NOTES HERE**"
      ],
      "metadata": {
        "id": "LGrmBY_b_y0P"
      }
    },
    {
      "cell_type": "markdown",
      "source": [
        "<img src='https://drive.google.com/uc?export=view&id=156WvzHWyqzJ66-tdg8YdjVdPg5T1NQbX'>\n",
        "\n",
        "**INSERT NOTES HERE**"
      ],
      "metadata": {
        "id": "URYKHA8hBnVj"
      }
    },
    {
      "cell_type": "markdown",
      "source": [
        "### Interpretation of Logistic Regression Output"
      ],
      "metadata": {
        "id": "Dc0WF19JB6pj"
      }
    },
    {
      "cell_type": "markdown",
      "source": [
        " <img src='https://drive.google.com/uc?export=view&id=1gNJn6dZEKlgq8QZCfOUuQzEiDmkBpIUp'>\n",
        "\n",
        "**INSERT NOTES HERE**"
      ],
      "metadata": {
        "id": "l2qvQvIvC695"
      }
    }
  ]
}