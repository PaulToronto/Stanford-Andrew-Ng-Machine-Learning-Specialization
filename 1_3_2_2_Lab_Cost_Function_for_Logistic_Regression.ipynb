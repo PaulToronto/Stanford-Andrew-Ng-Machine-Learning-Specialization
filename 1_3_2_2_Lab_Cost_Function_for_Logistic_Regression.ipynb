{
  "nbformat": 4,
  "nbformat_minor": 0,
  "metadata": {
    "colab": {
      "provenance": [],
      "toc_visible": true,
      "authorship_tag": "ABX9TyNZQUjppvtBKVX7REg7d4pq",
      "include_colab_link": true
    },
    "kernelspec": {
      "name": "python3",
      "display_name": "Python 3"
    },
    "language_info": {
      "name": "python"
    }
  },
  "cells": [
    {
      "cell_type": "markdown",
      "metadata": {
        "id": "view-in-github",
        "colab_type": "text"
      },
      "source": [
        "<a href=\"https://colab.research.google.com/github/PaulToronto/Stanford-Andrew-Ng-Machine-Learning-Specialization/blob/main/1_3_2_2_Lab_Cost_Function_for_Logistic_Regression.ipynb\" target=\"_parent\"><img src=\"https://colab.research.google.com/assets/colab-badge.svg\" alt=\"Open In Colab\"/></a>"
      ]
    },
    {
      "cell_type": "markdown",
      "source": [
        "# Lab - Cost Function for Logistic Regression"
      ],
      "metadata": {
        "id": "x_3cUPrVvUYX"
      }
    },
    {
      "cell_type": "markdown",
      "source": [
        "## Imports"
      ],
      "metadata": {
        "id": "0UvRcVSSvbK9"
      }
    },
    {
      "cell_type": "code",
      "execution_count": 1,
      "metadata": {
        "id": "KPINckFbvPl1"
      },
      "outputs": [],
      "source": [
        "import numpy as np\n",
        "import matplotlib.pyplot as plt"
      ]
    },
    {
      "cell_type": "markdown",
      "source": [
        "## Functions"
      ],
      "metadata": {
        "id": "WV4Y8NbcMCVE"
      }
    },
    {
      "cell_type": "code",
      "source": [
        "def sigmoid(z):\n",
        "    \"\"\"\n",
        "    Compute the sigmoid of z\n",
        "\n",
        "    Parameters\n",
        "    ----------\n",
        "    z : array_like\n",
        "        A scalar or numpy array of any size.\n",
        "\n",
        "    Returns\n",
        "    -------\n",
        "     g : array_like\n",
        "         sigmoid(z)\n",
        "    \"\"\"\n",
        "    z = np.clip( z, -500, 500 )           # protect against overflow\n",
        "    g = 1.0/(1.0+np.exp(-z))\n",
        "\n",
        "    return g"
      ],
      "metadata": {
        "id": "YRot-XZsMBwj"
      },
      "execution_count": 2,
      "outputs": []
    },
    {
      "cell_type": "markdown",
      "source": [
        "## Toy Dataset"
      ],
      "metadata": {
        "id": "W-8G628OWskp"
      }
    },
    {
      "cell_type": "code",
      "source": [
        "X_train = np.array([[0.5, 1.5], [1,1], [1.5, 0.5], [3, 0.5], [2, 2], [1, 2.5]])  #(m,n)\n",
        "y_train = np.array([0, 0, 0, 1, 1, 1])\n",
        "\n",
        "pos = (y_train == 1)\n",
        "neg = (y_train == 0)"
      ],
      "metadata": {
        "id": "WFddW6F9Wu08"
      },
      "execution_count": 3,
      "outputs": []
    },
    {
      "cell_type": "markdown",
      "source": [
        "## Plot Data"
      ],
      "metadata": {
        "id": "DmEiISh2XGeF"
      }
    },
    {
      "cell_type": "code",
      "source": [
        "fig, ax = plt.subplots(1, 1, figsize=(5, 5))\n",
        "\n",
        "ax.scatter(X_train[pos, 0], X_train[pos, 1],\n",
        "              marker='X', s=80, c='red', label='y=1')\n",
        "ax.scatter(X_train[neg, 0], X_train[neg, 1],\n",
        "              marker='o', s=80, facecolors='none',\n",
        "              edgecolor='dodgerblue', lw=3, label='y=0')\n",
        "ax.axis([0, 4, 0, 4])\n",
        "ax.set_xlabel('$x_0$', fontsize=12)\n",
        "ax.set_ylabel('$x_1$', fontsize=12)\n",
        "ax.legend()\n",
        "\n",
        "plt.show()"
      ],
      "metadata": {
        "colab": {
          "base_uri": "https://localhost:8080/",
          "height": 474
        },
        "id": "ldDRmWrJXH-P",
        "outputId": "c0ca2e4f-66fc-428d-f4ab-caf681862b42"
      },
      "execution_count": 4,
      "outputs": [
        {
          "output_type": "display_data",
          "data": {
            "text/plain": [
              "<Figure size 500x500 with 1 Axes>"
            ],
            "image/png": "[encoded data removed]"
          },
          "metadata": {}
        }
      ]
    },
    {
      "cell_type": "markdown",
      "source": [
        "## Cost Function"
      ],
      "metadata": {
        "id": "oBor1g7-XwcO"
      }
    },
    {
      "cell_type": "markdown",
      "source": [
        "$$\n",
        "L\\left(f_{\\vec{w},b}\\left(\\vec{x}^{(i)}\\right), y^{(i)}\\right) = -y^{(i)}\\log{\\left(f_{\\vec{w},b}\\left(\\vec{x}^{(i)}\\right)\\right)} - \\left(1 - y^{(i)}\\right)\\log{\\left(1 - f_{\\vec{w},b}\\left(\\vec{x}^{(i)}\\right)\\right)}\n",
        "$$\n",
        "<hr/>\n",
        "$$\n",
        "\\begin{align}\n",
        "J\\left(\\vec{w},b\\right) &= \\frac{1}{m}\\sum_{i=1}^{m}\\left(L\\left(f_{\\vec{w},b}\\left(\\vec{x}^{(i)}\\right), y^{(i)}\\right)\\right) \\\\\n",
        "&= \\frac{1}{m}\\sum_{i=1}^{m}\\left(-y^{(i)}\\log{\\left(f_{\\vec{w},b}\\left(\\vec{x}^{(i)}\\right)\\right)} - \\left(1 - y^{(i)}\\right)\\log{\\left(1 - f_{\\vec{w},b}\\left(\\vec{x}^{(i)}\\right)\\right)}\\right) \\\\\n",
        "&= -\\frac{1}{m}\\sum_{i=1}^{m}\\left(y^{(i)}\\log{\\left(f_{\\vec{w},b}\\left(\\vec{x}^{(i)}\\right)\\right)} + \\left(1 - y^{(i)}\\right)\\log{\\left(1 - f_{\\vec{w},b}\\left(\\vec{x}^{(i)}\\right)\\right)}\\right)\n",
        "\\end{align}\n",
        "$$\n",
        "<hr/>\n",
        "$$\n",
        "\\begin{align}\n",
        "  f_{\\mathbf{w},b}(\\mathbf{x^{(i)}}) &= g(z^{(i)}) \\\\\n",
        "  z^{(i)} &= \\mathbf{w} \\cdot \\mathbf{x}^{(i)}+ b\\ \\\\\n",
        "  g(z^{(i)}) &= \\frac{1}{1+e^{-z^{(i)}}}\n",
        "\\end{align}\n",
        "$$"
      ],
      "metadata": {
        "id": "OO7SyFRDX_TT"
      }
    },
    {
      "cell_type": "markdown",
      "source": [
        "The algorithm for `compute_cost_logistic` loops over all the examples calculating the loss for each example and accumulating the total.\n",
        "\n",
        "Note that the variables X and y are not scalar values but matrices of shape ($m, n$) and ($𝑚$,) respectively, where  $𝑛$ is the number of features and $𝑚$ is the number of training examples."
      ],
      "metadata": {
        "id": "_j-GCAVPK59k"
      }
    },
    {
      "cell_type": "code",
      "source": [
        "def compute_cost_logistic(X, y, w, b):\n",
        "    \"\"\"\n",
        "    Computes cost\n",
        "\n",
        "    Args:\n",
        "      X (ndarray (m,n)): Data, m examples with n features\n",
        "      y (ndarray (m,)) : target values\n",
        "      w (ndarray (n,)) : model parameters\n",
        "      b (scalar)       : model parameter\n",
        "\n",
        "    Returns:\n",
        "      cost (scalar): cost\n",
        "    \"\"\"\n",
        "    m = X.shape[0]\n",
        "    cost = 0.0\n",
        "    for i in range(m):\n",
        "        z_i = np.dot(X[i], w) + b\n",
        "        f_wb_i = sigmoid(z_i)\n",
        "        cost += -y[i] * np.log(f_wb_i) - (1 - y[i]) * np.log(1 - f_wb_i)\n",
        "\n",
        "    cost /= m\n",
        "    return cost"
      ],
      "metadata": {
        "id": "PB4ITzULX-qh"
      },
      "execution_count": 5,
      "outputs": []
    },
    {
      "cell_type": "code",
      "source": [
        "w_tmp = np.array([1, 1])\n",
        "b_tmp = -3\n",
        "\n",
        "compute_cost_logistic(X_train, y_train, w_tmp, b_tmp)"
      ],
      "metadata": {
        "colab": {
          "base_uri": "https://localhost:8080/"
        },
        "id": "CmA4K_qnLKHw",
        "outputId": "dc1003f4-4e94-4851-901c-89d1c6d26ca5"
      },
      "execution_count": 6,
      "outputs": [
        {
          "output_type": "execute_result",
          "data": {
            "text/plain": [
              "0.36686678640551745"
            ]
          },
          "metadata": {},
          "execution_count": 6
        }
      ]
    },
    {
      "cell_type": "markdown",
      "source": [
        "For $b = -3$, $w_0 = 1$ and $w_1 = 1$, the decision boundary is given by $-3 + x_0 + x_1 = 0$"
      ],
      "metadata": {
        "id": "RGxw3lWRNPFt"
      }
    },
    {
      "cell_type": "code",
      "source": [
        "w_tmp_2 = w_tmp\n",
        "b_tmp_2 = -4\n",
        "\n",
        "compute_cost_logistic(X_train, y_train, w_tmp_2, b_tmp_2)"
      ],
      "metadata": {
        "colab": {
          "base_uri": "https://localhost:8080/"
        },
        "id": "kYWDVKB_SFCJ",
        "outputId": "ec9ae9a4-ba30-4b7a-90ec-cc352bc32ab4"
      },
      "execution_count": 7,
      "outputs": [
        {
          "output_type": "execute_result",
          "data": {
            "text/plain": [
              "0.5036808636748461"
            ]
          },
          "metadata": {},
          "execution_count": 7
        }
      ]
    },
    {
      "cell_type": "markdown",
      "source": [
        "For $b = -4$, $w_0 = 1$ and $w_1 = 1$, the decision boundary is given by $-4 + x_0 + x_1 = 0$"
      ],
      "metadata": {
        "id": "l3Vv9QcRSXI3"
      }
    },
    {
      "cell_type": "code",
      "source": [
        "x0 = np.arange(0, 6)\n",
        "x1 = 3 - x0\n",
        "\n",
        "x0_other = x0\n",
        "x1_other = 4 - x0_other\n",
        "\n",
        "fig, ax = plt.subplots(1, 1, figsize=(6, 6))\n",
        "\n",
        "# plot the data\n",
        "ax.scatter(X_train[pos, 0], X_train[pos, 1],\n",
        "              marker='X', s=80, c='red', label='y=1')\n",
        "ax.scatter(X_train[neg, 0], X_train[neg, 1],\n",
        "              marker='o', s=80, facecolors='none',\n",
        "              edgecolor='dodgerblue', lw=3, label='y=0')\n",
        "ax.axis([0, 4, 0, 4])\n",
        "ax.set_xlabel('$x_0$', fontsize=12)\n",
        "ax.set_ylabel('$x_1$', fontsize=12)\n",
        "\n",
        "# plot decision boundaries\n",
        "ax.plot(x0, x1, c='dodgerblue', lw=3, label=r'$b = -3, w_0 = 1, w_1 = 1$')\n",
        "ax.plot(x0_other, x1_other, c='pink', lw=3, label=r'$b = -4, w_0 = 1, w_1 = 1$')\n",
        "\n",
        "ax.legend(loc='upper right')\n",
        "plt.show()"
      ],
      "metadata": {
        "colab": {
          "base_uri": "https://localhost:8080/",
          "height": 551
        },
        "id": "Rwps-dQCNq3l",
        "outputId": "2061f533-3570-4e65-a562-89a0df508c2a"
      },
      "execution_count": 8,
      "outputs": [
        {
          "output_type": "display_data",
          "data": {
            "text/plain": [
              "<Figure size 600x600 with 1 Axes>"
            ],
            "image/png": "[encoded data removed]"
          },
          "metadata": {}
        }
      ]
    },
    {
      "cell_type": "code",
      "source": [
        "print(\"Cost for b = -3 : \", compute_cost_logistic(X_train, y_train, w_tmp, b_tmp))\n",
        "print(\"Cost for b = -4 : \", compute_cost_logistic(X_train, y_train, w_tmp_2, b_tmp_2))"
      ],
      "metadata": {
        "colab": {
          "base_uri": "https://localhost:8080/"
        },
        "id": "LdhQq0OQTCIb",
        "outputId": "36fab776-48d3-4ca0-87ea-17cece123d00"
      },
      "execution_count": 9,
      "outputs": [
        {
          "output_type": "stream",
          "name": "stdout",
          "text": [
            "Cost for b = -3 :  0.36686678640551745\n",
            "Cost for b = -4 :  0.5036808636748461\n"
          ]
        }
      ]
    }
  ]
}