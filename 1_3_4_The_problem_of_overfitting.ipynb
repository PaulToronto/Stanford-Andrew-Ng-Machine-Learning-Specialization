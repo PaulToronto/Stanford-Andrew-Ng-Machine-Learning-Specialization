{
  "nbformat": 4,
  "nbformat_minor": 0,
  "metadata": {
    "colab": {
      "provenance": [],
      "toc_visible": true,
      "authorship_tag": "ABX9TyMU/72FiqSNOLO4IH/fgyTv",
      "include_colab_link": true
    },
    "kernelspec": {
      "name": "python3",
      "display_name": "Python 3"
    },
    "language_info": {
      "name": "python"
    }
  },
  "cells": [
    {
      "cell_type": "markdown",
      "metadata": {
        "id": "view-in-github",
        "colab_type": "text"
      },
      "source": [
        "<a href=\"https://colab.research.google.com/github/PaulToronto/Stanford-Andrew-Ng-Machine-Learning-Specialization/blob/main/1_3_4_The_problem_of_overfitting.ipynb\" target=\"_parent\"><img src=\"https://colab.research.google.com/assets/colab-badge.svg\" alt=\"Open In Colab\"/></a>"
      ]
    },
    {
      "cell_type": "markdown",
      "source": [
        "# 1.3.4 The problem of overfitting"
      ],
      "metadata": {
        "id": "Bmizq1aHsb61"
      }
    },
    {
      "cell_type": "markdown",
      "source": [
        "## Imports"
      ],
      "metadata": {
        "id": "XSG10DhWskX3"
      }
    },
    {
      "cell_type": "code",
      "execution_count": null,
      "metadata": {
        "id": "HJ-fsv_fsT8D"
      },
      "outputs": [],
      "source": []
    },
    {
      "cell_type": "markdown",
      "source": [
        "## 1.3.4.1 The problem of overfitting"
      ],
      "metadata": {
        "id": "daEPY8tvsl-S"
      }
    },
    {
      "cell_type": "markdown",
      "source": [
        "### Regression Example\n",
        "\n",
        "<img src='https://drive.google.com/uc?export=view&id=1g73vbNNJVusL9Rht4lG91wKFPVOcXS1a'>\n",
        "\n",
        "- **high bias** refers to a strong preconception or bias that the housing prices are going to be a completely linear function\n",
        "- **high variance** refers to the fact that a slightly different training set would likely give rise to a very different model"
      ],
      "metadata": {
        "id": "6XHrl8kemsMJ"
      }
    },
    {
      "cell_type": "markdown",
      "source": [
        "### Logistic Regression Example\n",
        "\n",
        "<img src='https://drive.google.com/uc?export=view&id=1pptyAySCxsikh1qlU6ZZ_n8mW1NmZjtj'>\n",
        "\n",
        ""
      ],
      "metadata": {
        "id": "JYiBjHa6r20u"
      }
    },
    {
      "cell_type": "markdown",
      "source": [
        "## 1.3.4.2 Addressing overfitting"
      ],
      "metadata": {
        "id": "gYGheVSWt3iA"
      }
    }
  ]
}