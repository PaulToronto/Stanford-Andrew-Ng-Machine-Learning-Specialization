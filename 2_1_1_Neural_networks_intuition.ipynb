{
  "nbformat": 4,
  "nbformat_minor": 0,
  "metadata": {
    "colab": {
      "provenance": [],
      "authorship_tag": "ABX9TyMzpfaOIQwXycyzGw71r+oM",
      "include_colab_link": true
    },
    "kernelspec": {
      "name": "python3",
      "display_name": "Python 3"
    },
    "language_info": {
      "name": "python"
    }
  },
  "cells": [
    {
      "cell_type": "markdown",
      "metadata": {
        "id": "view-in-github",
        "colab_type": "text"
      },
      "source": [
        "<a href=\"https://colab.research.google.com/github/PaulToronto/Stanford-Andrew-Ng-Machine-Learning-Specialization/blob/main/2_1_1_Neural_networks_intuition.ipynb\" target=\"_parent\"><img src=\"https://colab.research.google.com/assets/colab-badge.svg\" alt=\"Open In Colab\"/></a>"
      ]
    },
    {
      "cell_type": "markdown",
      "source": [
        "# 2.1.1 Neural networks intuition"
      ],
      "metadata": {
        "id": "TgTnYEdoONAJ"
      }
    },
    {
      "cell_type": "markdown",
      "source": [
        "## 2.1.1.1 Welcome\n",
        "\n",
        "1. Week 1: Neural Networks, inference (prediction)\n",
        "2. Week 2: Neural Networks, training\n",
        "3. Week 3: Practical advice for building machine learning systems\n",
        "4. Week 5: Decision Trees\n"
      ],
      "metadata": {
        "id": "vdfd74lUQ2q0"
      }
    },
    {
      "cell_type": "markdown",
      "source": [
        "## 2.1.1.2 Neurons and the brain"
      ],
      "metadata": {
        "id": "zXJPTgtsRryp"
      }
    }
  ]
}