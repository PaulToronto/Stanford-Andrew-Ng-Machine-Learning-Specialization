{
  "nbformat": 4,
  "nbformat_minor": 0,
  "metadata": {
    "colab": {
      "provenance": [],
      "toc_visible": true,
      "authorship_tag": "ABX9TyPs0vBAK9p98xjLMmSLO+0l",
      "include_colab_link": true
    },
    "kernelspec": {
      "name": "python3",
      "display_name": "Python 3"
    },
    "language_info": {
      "name": "python"
    }
  },
  "cells": [
    {
      "cell_type": "markdown",
      "metadata": {
        "id": "view-in-github",
        "colab_type": "text"
      },
      "source": [
        "<a href=\"https://colab.research.google.com/github/PaulToronto/Stanford-Andrew-Ng-Machine-Learning-Specialization/blob/main/2_1_2_1_Lab_Neurons_and_Layers.ipynb\" target=\"_parent\"><img src=\"https://colab.research.google.com/assets/colab-badge.svg\" alt=\"Open In Colab\"/></a>"
      ]
    },
    {
      "cell_type": "markdown",
      "source": [
        "# Lab - Neurons and Layers"
      ],
      "metadata": {
        "id": "pZ_ZEwZ2fpQt"
      }
    },
    {
      "cell_type": "markdown",
      "source": [
        "## Imports"
      ],
      "metadata": {
        "id": "MBak7mhGFZU2"
      }
    },
    {
      "cell_type": "code",
      "execution_count": 1,
      "metadata": {
        "id": "tllIyD3ofg_0"
      },
      "outputs": [],
      "source": [
        "import numpy as np\n",
        "import matplotlib.pyplot as plt\n",
        "\n",
        "import tensorflow as tf\n",
        "from tensorflow.keras import Sequential"
      ]
    },
    {
      "cell_type": "markdown",
      "source": [
        "## Packages\n",
        "\n",
        "- **Tensorflow** is a machine learning packages developed by Google\n",
        "- In 2019, Google integrated **Keras** into Tensorflow and released TensorFlow 2.0\n",
        "- Keras is a framework developed independently by François Chollet that creates a simple, layer-centric interface to Tensorflow\n",
        "- This course will use the Keras interface"
      ],
      "metadata": {
        "id": "gxjEjLBGFa68"
      }
    },
    {
      "cell_type": "markdown",
      "source": [
        "## Functions"
      ],
      "metadata": {
        "id": "ZvZ5LjdOdYC7"
      }
    },
    {
      "cell_type": "code",
      "source": [
        "def sigmoid(z):\n",
        "    \"\"\"\n",
        "    Compute the sigmoid of z\n",
        "\n",
        "    Parameters\n",
        "    ----------\n",
        "    z : array_like\n",
        "        A scalar or numpy array of any size.\n",
        "\n",
        "    Returns\n",
        "    -------\n",
        "     g : array_like\n",
        "         sigmoid(z)\n",
        "    \"\"\"\n",
        "    z = np.clip( z, -500, 500 )           # protect against overflow\n",
        "    g = 1.0/(1.0+np.exp(-z))\n",
        "\n",
        "    return g"
      ],
      "metadata": {
        "id": "QyiKib8tdaRp"
      },
      "execution_count": 2,
      "outputs": []
    },
    {
      "cell_type": "markdown",
      "source": [
        "## Neuron without activation - Regression/Linear Model"
      ],
      "metadata": {
        "id": "itdvTwnjF_db"
      }
    },
    {
      "cell_type": "markdown",
      "source": [
        "### Dataset\n",
        "\n",
        "- This dataset is from Course 1, linear regression on house prices"
      ],
      "metadata": {
        "id": "Jf0McoCgGEsb"
      }
    },
    {
      "cell_type": "code",
      "source": [
        "X_train = np.array([[1.0], [2.0]], dtype=np.float32)      # price in 1000 square feel\n",
        "Y_train = np.array([[300.0], [500.0]], dtype=np.float32)  # price in 1000s dollars"
      ],
      "metadata": {
        "id": "TBircA3NGQem"
      },
      "execution_count": 3,
      "outputs": []
    },
    {
      "cell_type": "code",
      "source": [
        "fig, ax = plt.subplots(1, 1)\n",
        "\n",
        "ax.scatter(X_train, Y_train, marker='x', c='r', label='Data Points')\n",
        "ax.set_ylabel('Price (in 1000s of dollars)', fontsize='xx-large')\n",
        "ax.set_xlabel('Size (1000 sqft)', fontsize='xx-large')\n",
        "ax.legend(fontsize='xx-large')\n",
        "\n",
        "plt.show()"
      ],
      "metadata": {
        "colab": {
          "base_uri": "https://localhost:8080/",
          "height": 459
        },
        "id": "dUBaQrfAG3Q3",
        "outputId": "91803d3f-5861-405c-dff8-02d9b1247425"
      },
      "execution_count": 4,
      "outputs": [
        {
          "output_type": "display_data",
          "data": {
            "text/plain": [
              "<Figure size 640x480 with 1 Axes>"
            ],
            "image/png": "[encoded data removed]"
          },
          "metadata": {}
        }
      ]
    },
    {
      "cell_type": "markdown",
      "source": [
        "### Regression/Linear Model\n",
        "\n",
        "The function implemented by a neuron with no activation is the same as in Course 1, linear regression:\n",
        "\n",
        "$$\n",
        "f_{\\vec{w},b}\\left(x^{(i)}\\right) = \\vec{w} \\cdot x^{(i)} + b\n",
        "$$\n",
        "\n",
        "We can define a layer with one neuron and compare it to the familiar linear regression function."
      ],
      "metadata": {
        "id": "TVIVSfsRJeZ1"
      }
    },
    {
      "cell_type": "code",
      "source": [
        "linear_layer = tf.keras.layers.Dense(units=1, activation='linear')\n",
        "linear_layer, type(linear_layer)"
      ],
      "metadata": {
        "colab": {
          "base_uri": "https://localhost:8080/"
        },
        "id": "t_Rc1kbEJhXQ",
        "outputId": "535837e4-4ab2-4a63-9e36-01365896a857"
      },
      "execution_count": 5,
      "outputs": [
        {
          "output_type": "execute_result",
          "data": {
            "text/plain": [
              "(<keras.src.layers.core.dense.Dense at 0x7c5a2730ff70>,\n",
              " keras.src.layers.core.dense.Dense)"
            ]
          },
          "metadata": {},
          "execution_count": 5
        }
      ]
    },
    {
      "cell_type": "code",
      "source": [
        "linear_layer.get_weights()"
      ],
      "metadata": {
        "colab": {
          "base_uri": "https://localhost:8080/"
        },
        "id": "ZJVOIMD-KEEv",
        "outputId": "2ea741d6-45ef-4e71-8e95-9540f148c596"
      },
      "execution_count": 6,
      "outputs": [
        {
          "output_type": "execute_result",
          "data": {
            "text/plain": [
              "[]"
            ]
          },
          "metadata": {},
          "execution_count": 6
        }
      ]
    },
    {
      "cell_type": "markdown",
      "source": [
        "There are no weights as the weights are not yet instantiated. Training the model on one example in `X_train` will trigger the instantiation of the weights. Note, the input to the layer must be 2-D, so we reshape it."
      ],
      "metadata": {
        "id": "kpCYmafPKzg5"
      }
    },
    {
      "cell_type": "code",
      "source": [
        "al = linear_layer(X_train[0].reshape(1, 1))\n",
        "print(al)"
      ],
      "metadata": {
        "colab": {
          "base_uri": "https://localhost:8080/"
        },
        "id": "VrjLsd-sLI0J",
        "outputId": "b66a20ab-e0ba-4b3d-d371-876b3476f5b3"
      },
      "execution_count": 7,
      "outputs": [
        {
          "output_type": "stream",
          "name": "stdout",
          "text": [
            "tf.Tensor([[-1.2001069]], shape=(1, 1), dtype=float32)\n"
          ]
        }
      ]
    },
    {
      "cell_type": "markdown",
      "source": [
        "The result is a **tensor** (another name for an array)) with the shape of (1, 1) or one entry."
      ],
      "metadata": {
        "id": "szA8glvrNHJZ"
      }
    },
    {
      "cell_type": "code",
      "source": [
        "al.shape"
      ],
      "metadata": {
        "colab": {
          "base_uri": "https://localhost:8080/"
        },
        "id": "MCwtEI0kNM-Y",
        "outputId": "4fafd6c2-c92a-4b1a-ae28-c128b1f3bf20"
      },
      "execution_count": 8,
      "outputs": [
        {
          "output_type": "execute_result",
          "data": {
            "text/plain": [
              "TensorShape([1, 1])"
            ]
          },
          "metadata": {},
          "execution_count": 8
        }
      ]
    },
    {
      "cell_type": "markdown",
      "source": [
        "Now lets take a look at the weights. These weights are **randomly initialized** to small numbers and the bias defaults to 0."
      ],
      "metadata": {
        "id": "HqXsdYCLNTVu"
      }
    },
    {
      "cell_type": "code",
      "source": [
        "w, b = linear_layer.get_weights()"
      ],
      "metadata": {
        "id": "5PpMFeToNguM"
      },
      "execution_count": 9,
      "outputs": []
    },
    {
      "cell_type": "code",
      "source": [
        "w"
      ],
      "metadata": {
        "colab": {
          "base_uri": "https://localhost:8080/"
        },
        "id": "VE2LNV2DNpRx",
        "outputId": "b16ea52e-69c9-4790-ebc9-e6c7f27db5c5"
      },
      "execution_count": 10,
      "outputs": [
        {
          "output_type": "execute_result",
          "data": {
            "text/plain": [
              "array([[-1.2001069]], dtype=float32)"
            ]
          },
          "metadata": {},
          "execution_count": 10
        }
      ]
    },
    {
      "cell_type": "code",
      "source": [
        "b"
      ],
      "metadata": {
        "colab": {
          "base_uri": "https://localhost:8080/"
        },
        "id": "MbidVnlMNqqw",
        "outputId": "0e13061e-c299-4e84-f8a2-9ae9eb17e7af"
      },
      "execution_count": 11,
      "outputs": [
        {
          "output_type": "execute_result",
          "data": {
            "text/plain": [
              "array([0.], dtype=float32)"
            ]
          },
          "metadata": {},
          "execution_count": 11
        }
      ]
    },
    {
      "cell_type": "code",
      "source": [
        "print(f\"w = {w}, b={b}\")"
      ],
      "metadata": {
        "colab": {
          "base_uri": "https://localhost:8080/"
        },
        "id": "KDJu73HMNt5R",
        "outputId": "30573e40-60fd-4dd7-97ec-f277648b045d"
      },
      "execution_count": 12,
      "outputs": [
        {
          "output_type": "stream",
          "name": "stdout",
          "text": [
            "w = [[-1.2001069]], b=[0.]\n"
          ]
        }
      ]
    },
    {
      "cell_type": "markdown",
      "source": [
        "A linear regression model with a single input feature will have a single weight and bias. This matches the dimensions of our `linear_layer` above."
      ],
      "metadata": {
        "id": "rFZ7GILzODH7"
      }
    },
    {
      "cell_type": "code",
      "source": [
        "type(linear_layer), type(al)"
      ],
      "metadata": {
        "colab": {
          "base_uri": "https://localhost:8080/"
        },
        "id": "azGjjmLpPnkZ",
        "outputId": "447cdc66-d166-48ea-c73a-2c0f134dc0ec"
      },
      "execution_count": 13,
      "outputs": [
        {
          "output_type": "execute_result",
          "data": {
            "text/plain": [
              "(keras.src.layers.core.dense.Dense,\n",
              " tensorflow.python.framework.ops.EagerTensor)"
            ]
          },
          "metadata": {},
          "execution_count": 13
        }
      ]
    },
    {
      "cell_type": "markdown",
      "source": [
        "### Setting the weights to a known value"
      ],
      "metadata": {
        "id": "6Z-MsMlBPivO"
      }
    },
    {
      "cell_type": "code",
      "source": [
        "set_w = np.array([[200]])\n",
        "set_b = np.array([100])\n",
        "\n",
        "linear_layer.set_weights([set_w, set_b])\n",
        "linear_layer.get_weights()"
      ],
      "metadata": {
        "colab": {
          "base_uri": "https://localhost:8080/"
        },
        "id": "K-cL2Ti3QKHF",
        "outputId": "01b87dde-d0f6-468e-8b3a-c798649bb41c"
      },
      "execution_count": 14,
      "outputs": [
        {
          "output_type": "execute_result",
          "data": {
            "text/plain": [
              "[array([[200.]], dtype=float32), array([100.], dtype=float32)]"
            ]
          },
          "metadata": {},
          "execution_count": 14
        }
      ]
    },
    {
      "cell_type": "code",
      "source": [
        "print(al)"
      ],
      "metadata": {
        "colab": {
          "base_uri": "https://localhost:8080/"
        },
        "id": "Cdh_j9coQ90H",
        "outputId": "34168a69-d8f2-4a71-fcb0-b8a5710dd747"
      },
      "execution_count": 15,
      "outputs": [
        {
          "output_type": "stream",
          "name": "stdout",
          "text": [
            "tf.Tensor([[-1.2001069]], shape=(1, 1), dtype=float32)\n"
          ]
        }
      ]
    },
    {
      "cell_type": "markdown",
      "source": [
        "### Comparing $f_{\\vec{w},b}\\left(x^{(i)}\\right) = \\vec{w} \\cdot x^{(i)} + b$ to the layer output:"
      ],
      "metadata": {
        "id": "IrrD3jW6SIGR"
      }
    },
    {
      "cell_type": "code",
      "source": [
        "al = linear_layer(X_train[0].reshape(1, 1))\n",
        "print(al)\n",
        "alin = np.dot(set_w, X_train[0].reshape(1, 1)) + set_b\n",
        "print(alin)"
      ],
      "metadata": {
        "colab": {
          "base_uri": "https://localhost:8080/"
        },
        "id": "9yLDNbx8Qt4Z",
        "outputId": "9648283b-78f5-4dd3-aabe-e6ee629fb65a"
      },
      "execution_count": 16,
      "outputs": [
        {
          "output_type": "stream",
          "name": "stdout",
          "text": [
            "tf.Tensor([[300.]], shape=(1, 1), dtype=float32)\n",
            "[[300.]]\n"
          ]
        }
      ]
    },
    {
      "cell_type": "markdown",
      "source": [
        "They produce the same values. We can use our linear layer to make predictions on our training data"
      ],
      "metadata": {
        "id": "xbv95qzaS-9K"
      }
    },
    {
      "cell_type": "code",
      "source": [
        "prediction_tf = linear_layer(X_train)\n",
        "prediction_tf"
      ],
      "metadata": {
        "colab": {
          "base_uri": "https://localhost:8080/"
        },
        "id": "tqjZCIMXTHnw",
        "outputId": "6360e8fb-52b9-4c21-9518-a7c105c1b546"
      },
      "execution_count": 17,
      "outputs": [
        {
          "output_type": "execute_result",
          "data": {
            "text/plain": [
              "<tf.Tensor: shape=(2, 1), dtype=float32, numpy=\n",
              "array([[300.],\n",
              "       [500.]], dtype=float32)>"
            ]
          },
          "metadata": {},
          "execution_count": 17
        }
      ]
    },
    {
      "cell_type": "code",
      "source": [
        "linear_layer.get_weights()"
      ],
      "metadata": {
        "colab": {
          "base_uri": "https://localhost:8080/"
        },
        "id": "BvPDQwQZtCsx",
        "outputId": "b065a2a0-a80f-4437-f1ae-d68db6447ee6"
      },
      "execution_count": 18,
      "outputs": [
        {
          "output_type": "execute_result",
          "data": {
            "text/plain": [
              "[array([[200.]], dtype=float32), array([100.], dtype=float32)]"
            ]
          },
          "metadata": {},
          "execution_count": 18
        }
      ]
    },
    {
      "cell_type": "code",
      "source": [
        "prediction_np = np.dot(X_train, set_w) + set_b\n",
        "prediction_np"
      ],
      "metadata": {
        "colab": {
          "base_uri": "https://localhost:8080/"
        },
        "id": "AUxCpigqTPJ2",
        "outputId": "779d93ed-a81b-4114-efeb-1679d09d537b"
      },
      "execution_count": 19,
      "outputs": [
        {
          "output_type": "execute_result",
          "data": {
            "text/plain": [
              "array([[300.],\n",
              "       [500.]])"
            ]
          },
          "metadata": {},
          "execution_count": 19
        }
      ]
    },
    {
      "cell_type": "code",
      "source": [
        "fig, ax = plt.subplots(1, 1)\n",
        "\n",
        "ax.scatter(X_train, Y_train, marker='x', c='r', label='Data Points')\n",
        "ax.set_ylabel('Price (in 1000s of dollars)', fontsize='xx-large')\n",
        "ax.set_xlabel('Size (1000 sqft)', fontsize='xx-large')\n",
        "\n",
        "\n",
        "ax.plot(X_train, prediction_tf, color='dodgerblue', linewidth=3,\n",
        "        label='Tensorflow prediction')\n",
        "ax.plot(X_train, prediction_np, color='lime', linewidth=1,\n",
        "        label='Numpy prediction')\n",
        "\n",
        "ax.legend()\n",
        "plt.show()"
      ],
      "metadata": {
        "colab": {
          "base_uri": "https://localhost:8080/",
          "height": 459
        },
        "id": "VIjcA3IRXFDv",
        "outputId": "29e74644-813d-4f31-9fb1-adc7d16f40d6"
      },
      "execution_count": 20,
      "outputs": [
        {
          "output_type": "display_data",
          "data": {
            "text/plain": [
              "<Figure size 640x480 with 1 Axes>"
            ],
            "image/png": "[encoded data removed]"
          },
          "metadata": {}
        }
      ]
    },
    {
      "cell_type": "markdown",
      "source": [
        "## Neuron with Sigmoid Activation\n",
        "\n",
        "The funcdtion implemented by a neuron/unit with a sigmoid activation is the same as in Course 1, logistic regression:\n",
        "\n",
        "$$\n",
        "f_{\\vec{w},b}\\left(x^{(i)}\\right) = g(\\vec{w} \\cdot x^{(i)} + b)\n",
        "$$\n",
        "\n",
        "where\n",
        "\n",
        "$$\n",
        "g(x) = sigmoid(x)\n",
        "$$"
      ],
      "metadata": {
        "id": "OUpdpoPVZ_oC"
      }
    },
    {
      "cell_type": "markdown",
      "source": [
        "### Dataset"
      ],
      "metadata": {
        "id": "J6s33WpIa45E"
      }
    },
    {
      "cell_type": "code",
      "source": [
        "X_train = np.array([0, 1, 2, 3, 4, 5], dtype=np.float32).reshape(-1,1)  # 2-D Matrix\n",
        "Y_train = np.array([0, 0, 0, 1, 1, 1], dtype=np.float32).reshape(-1,1)  # 2-D Matrix\n",
        "\n",
        "pos = Y_train == 1\n",
        "neg = Y_train == 0"
      ],
      "metadata": {
        "id": "_PGiSKw8a6-h"
      },
      "execution_count": 21,
      "outputs": []
    },
    {
      "cell_type": "code",
      "source": [
        "fig, ax = plt.subplots(1, 1)\n",
        "\n",
        "ax.scatter(X_train[pos], Y_train[pos], marker='X', c='r', s=80, label='y=1')\n",
        "ax.scatter(X_train[neg], Y_train[neg], marker='o', s=100, lw=3,\n",
        "           label='y=0', facecolors='none', edgecolors='dodgerblue')\n",
        "ax.set_ylabel('y', fontsize=12)\n",
        "ax.set_xlabel('x', fontsize=12)\n",
        "\n",
        "ax.legend(fontsize=12)\n",
        "plt.show()"
      ],
      "metadata": {
        "colab": {
          "base_uri": "https://localhost:8080/",
          "height": 453
        },
        "id": "ZpTwRHxRbeXd",
        "outputId": "a0e700ae-1153-4af5-ba13-7479565d29b5"
      },
      "execution_count": 22,
      "outputs": [
        {
          "output_type": "display_data",
          "data": {
            "text/plain": [
              "<Figure size 640x480 with 1 Axes>"
            ],
            "image/png": "[encoded data removed]"
          },
          "metadata": {}
        }
      ]
    },
    {
      "cell_type": "markdown",
      "source": [
        "### Logistic Neuron\n",
        "\n",
        "We can implement a *logistic neuron* by adding a sigmoid activation. The function of the neuron is then described by $f_{\\vec{w},b}\\left(x^{(i)}\\right) = g(\\vec{w} \\cdot x^{(i)} + b)$.\n",
        "\n",
        "This section with create a Tensorflow model that contains our logistic layer to demonstrate an alternate method for creating models. Tensorflow is most often used to create multi-layer models. The [Sequential](https://keras.io/guides/sequential_model/) model is a convenient means of construction these models."
      ],
      "metadata": {
        "id": "T-FLbeEvdkjg"
      }
    },
    {
      "cell_type": "code",
      "source": [
        "model = Sequential(\n",
        "    [\n",
        "        tf.keras.layers.Dense(1, input_dim=1, activation='sigmoid', name='L1')\n",
        "    ]\n",
        ")"
      ],
      "metadata": {
        "id": "LBUkQXREez01"
      },
      "execution_count": 23,
      "outputs": []
    },
    {
      "cell_type": "code",
      "source": [
        "model.summary()"
      ],
      "metadata": {
        "colab": {
          "base_uri": "https://localhost:8080/"
        },
        "id": "H4vhbgVafLzH",
        "outputId": "25d97451-aa2b-4b11-f03c-b07c935f3dc9"
      },
      "execution_count": 24,
      "outputs": [
        {
          "output_type": "stream",
          "name": "stdout",
          "text": [
            "Model: \"sequential\"\n",
            "_________________________________________________________________\n",
            " Layer (type)                Output Shape              Param #   \n",
            "=================================================================\n",
            " L1 (Dense)                  (None, 1)                 2         \n",
            "                                                                 \n",
            "=================================================================\n",
            "Total params: 2 (8.00 Byte)\n",
            "Trainable params: 2 (8.00 Byte)\n",
            "Non-trainable params: 0 (0.00 Byte)\n",
            "_________________________________________________________________\n"
          ]
        }
      ]
    },
    {
      "cell_type": "code",
      "source": [
        "logistic_layer = model.get_layer('L1')\n",
        "logistic_layer"
      ],
      "metadata": {
        "colab": {
          "base_uri": "https://localhost:8080/"
        },
        "id": "Pqo7mfBafWuY",
        "outputId": "7bec8c8d-10f7-4bf2-ac52-d7667330a97f"
      },
      "execution_count": 25,
      "outputs": [
        {
          "output_type": "execute_result",
          "data": {
            "text/plain": [
              "<keras.src.layers.core.dense.Dense at 0x7c5a22062710>"
            ]
          },
          "metadata": {},
          "execution_count": 25
        }
      ]
    },
    {
      "cell_type": "code",
      "source": [
        "w, b = logistic_layer.get_weights()\n",
        "w, b"
      ],
      "metadata": {
        "colab": {
          "base_uri": "https://localhost:8080/"
        },
        "id": "PtL636lefr55",
        "outputId": "5ca65c96-c9de-4ed1-f6bc-c2a3ad130509"
      },
      "execution_count": 26,
      "outputs": [
        {
          "output_type": "execute_result",
          "data": {
            "text/plain": [
              "(array([[-0.6395161]], dtype=float32), array([0.], dtype=float32))"
            ]
          },
          "metadata": {},
          "execution_count": 26
        }
      ]
    },
    {
      "cell_type": "markdown",
      "source": [
        "### Setting the weights to known values"
      ],
      "metadata": {
        "id": "Q4UfWdY7f4ZE"
      }
    },
    {
      "cell_type": "code",
      "source": [
        "set_w = np.array([[2]])\n",
        "set_b = np.array([-4.5])\n",
        "\n",
        "logistic_layer.set_weights([set_w, set_b])\n",
        "print(logistic_layer.get_weights())"
      ],
      "metadata": {
        "colab": {
          "base_uri": "https://localhost:8080/"
        },
        "id": "MNQYoTX2f6ZK",
        "outputId": "cda9dc55-983b-4d74-ebc5-19453c0f69e9"
      },
      "execution_count": 27,
      "outputs": [
        {
          "output_type": "stream",
          "name": "stdout",
          "text": [
            "[array([[2.]], dtype=float32), array([-4.5], dtype=float32)]\n"
          ]
        }
      ]
    },
    {
      "cell_type": "code",
      "source": [
        "al = model.predict(X_train[0].reshape(1, 1))\n",
        "alog = sigmoid(np.dot(set_w, X_train[0].reshape(1, 1)) + set_b)"
      ],
      "metadata": {
        "colab": {
          "base_uri": "https://localhost:8080/"
        },
        "id": "7E7-aK6wgZIw",
        "outputId": "771e3564-2b6f-47df-ab59-5d4ca92d0184"
      },
      "execution_count": 28,
      "outputs": [
        {
          "output_type": "stream",
          "name": "stdout",
          "text": [
            "1/1 [==============================] - 0s 131ms/step\n"
          ]
        }
      ]
    },
    {
      "cell_type": "code",
      "source": [
        "print(al)\n",
        "print(alog)"
      ],
      "metadata": {
        "colab": {
          "base_uri": "https://localhost:8080/"
        },
        "id": "Rb-j7Bh2g4vK",
        "outputId": "7a1dfa3e-e484-46c0-ec18-4af9623c3b5f"
      },
      "execution_count": 29,
      "outputs": [
        {
          "output_type": "stream",
          "name": "stdout",
          "text": [
            "[[0.01098694]]\n",
            "[[0.01098694]]\n"
          ]
        }
      ]
    },
    {
      "cell_type": "markdown",
      "source": [
        "They produce the same values. We can use our logistic layer to make predictions on our training data"
      ],
      "metadata": {
        "id": "pFHFnVs6hGeA"
      }
    },
    {
      "cell_type": "code",
      "source": [
        "model.predict(X_train)"
      ],
      "metadata": {
        "colab": {
          "base_uri": "https://localhost:8080/"
        },
        "id": "CzRLfT72hMA4",
        "outputId": "79793216-feef-4758-a60c-5e59010816b7"
      },
      "execution_count": 30,
      "outputs": [
        {
          "output_type": "stream",
          "name": "stdout",
          "text": [
            "1/1 [==============================] - 0s 24ms/step\n"
          ]
        },
        {
          "output_type": "execute_result",
          "data": {
            "text/plain": [
              "array([[0.01098694],\n",
              "       [0.07585818],\n",
              "       [0.37754068],\n",
              "       [0.8175745 ],\n",
              "       [0.97068775],\n",
              "       [0.99592984]], dtype=float32)"
            ]
          },
          "metadata": {},
          "execution_count": 30
        }
      ]
    },
    {
      "cell_type": "code",
      "source": [
        "sigmoid(np.dot(X_train, set_w) + set_b)"
      ],
      "metadata": {
        "colab": {
          "base_uri": "https://localhost:8080/"
        },
        "id": "cwiv9VpYi7LW",
        "outputId": "1268e392-4b09-4447-cf1a-d7496e0fe25b"
      },
      "execution_count": 31,
      "outputs": [
        {
          "output_type": "execute_result",
          "data": {
            "text/plain": [
              "array([[0.01098694],\n",
              "       [0.07585818],\n",
              "       [0.37754067],\n",
              "       [0.81757448],\n",
              "       [0.97068777],\n",
              "       [0.99592986]])"
            ]
          },
          "metadata": {},
          "execution_count": 31
        }
      ]
    },
    {
      "cell_type": "code",
      "source": [
        "fig, ax = plt.subplots(1, 2, figsize=(16, 4))\n",
        "\n",
        "# for plotting decision boundary with shaded probability\n",
        "x_space = np.linspace(0, 5, 50)\n",
        "y_space = np.linspace(0, 1, 50)\n",
        "\n",
        "ax[0].scatter(X_train[pos], Y_train[pos], marker='X', c='r', s=80,\n",
        "              label='y=1', zorder=100)\n",
        "ax[0].scatter(X_train[neg], Y_train[neg], marker='o', s=100, lw=3,\n",
        "              label='y=0', facecolors='none', edgecolors='dodgerblue',\n",
        "              zorder=100)\n",
        "ax[0].set_ylabel('y', fontsize=12)\n",
        "ax[0].set_xlabel('x', fontsize=12)\n",
        "ax[0].set_title('Tensorflow Model')\n",
        "ax[0].set_ylim(-0.08, 1.1)\n",
        "ax[0].set_xlim(-0.5, 5.5)\n",
        "\n",
        "tf_predict = lambda x: model.predict(x, verbose=0)\n",
        "z = np.zeros((len(x_space), len(y_space)))\n",
        "for i in range(len(x_space)):\n",
        "    x = np.array([[x_space[i]]])\n",
        "    z[:, i] = tf_predict(x)\n",
        "\n",
        "cmap = plt.get_cmap('Blues')\n",
        "pcm = ax[0].pcolormesh(x_space, y_space, z, cmap=cmap, alpha=0.9)\n",
        "\n",
        "ax[0].legend(fontsize=12)\n",
        "\n",
        "\n",
        "ax[1].scatter(X_train[pos], Y_train[pos], marker='X', c='r', s=80, label='y=1',\n",
        "              zorder=100)\n",
        "ax[1].scatter(X_train[neg], Y_train[neg], marker='o', s=100, lw=3,\n",
        "              label='y=0', facecolors='none', edgecolors='dodgerblue',\n",
        "              zorder=100)\n",
        "ax[1].set_ylabel('y', fontsize=12)\n",
        "ax[1].set_xlabel('x', fontsize=12)\n",
        "ax[1].set_title('Numpy Model')\n",
        "ax[1].set_ylim(-0.08, 1.1)\n",
        "ax[1].set_xlim(-0.5, 5.5)\n",
        "\n",
        "np_predict = lambda x: sigmoid(np.dot(set_w, x.reshape(1, 1)) + set_b)\n",
        "z = np.zeros((len(x_space), len(y_space)))\n",
        "for i in range(len(x_space)):\n",
        "    x = np.array([[x_space[i]]])\n",
        "    z[:, i] = np_predict(x)\n",
        "\n",
        "cmap = plt.get_cmap('Blues')\n",
        "pcm = ax[1].pcolormesh(x_space, y_space, z, cmap=cmap, alpha=0.9)\n",
        "\n",
        "ax[1].legend(fontsize=12)\n",
        "\n",
        "plt.show()"
      ],
      "metadata": {
        "colab": {
          "base_uri": "https://localhost:8080/",
          "height": 373
        },
        "id": "AA14BfpSjW94",
        "outputId": "cef27f0c-cbbc-40fe-8851-513cee9c28cf"
      },
      "execution_count": 32,
      "outputs": [
        {
          "output_type": "display_data",
          "data": {
            "text/plain": [
              "<Figure size 1600x400 with 2 Axes>"
            ],
            "image/png": "[encoded data removed]"
          },
          "metadata": {}
        }
      ]
    }
  ]
}