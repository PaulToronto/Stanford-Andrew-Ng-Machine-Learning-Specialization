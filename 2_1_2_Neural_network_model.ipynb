{
  "nbformat": 4,
  "nbformat_minor": 0,
  "metadata": {
    "colab": {
      "provenance": [],
      "toc_visible": true,
      "authorship_tag": "ABX9TyOQ0ltQkffHZexHuci8Cbt5",
      "include_colab_link": true
    },
    "kernelspec": {
      "name": "python3",
      "display_name": "Python 3"
    },
    "language_info": {
      "name": "python"
    }
  },
  "cells": [
    {
      "cell_type": "markdown",
      "metadata": {
        "id": "view-in-github",
        "colab_type": "text"
      },
      "source": [
        "<a href=\"https://colab.research.google.com/github/PaulToronto/Stanford-Andrew-Ng-Machine-Learning-Specialization/blob/main/2_1_2_Neural_network_model.ipynb\" target=\"_parent\"><img src=\"https://colab.research.google.com/assets/colab-badge.svg\" alt=\"Open In Colab\"/></a>"
      ]
    },
    {
      "cell_type": "markdown",
      "source": [
        "# 2.1.2 Neural network model"
      ],
      "metadata": {
        "id": "0Ol6jJvF-b7r"
      }
    },
    {
      "cell_type": "markdown",
      "source": [
        "## 2.1.2.1 Neural network layer"
      ],
      "metadata": {
        "id": "bkQc2wIk-gcP"
      }
    },
    {
      "cell_type": "markdown",
      "source": [
        "<img src='https://drive.google.com/uc?export=view&id=1E16ACEMFRfLNBA4MLac7wpULyboDcVgJ'>\n",
        "\n",
        "- a **layer** of neurons is a fundamental building block of most modern neural networks\n",
        "- the layer above inputs 4 numbers and these 4 numbers are inputs to each of 3 neurons\n",
        "- each of these 3 neurons is just implementing a little **logistic regression unit** or **logistic regression function**\n",
        "- the 3 neurons output $0.3$, $0.7$ and $0.2$\n",
        "    - these 3 values are called **activation values**\n",
        "    - $\\vec{a}$ is a vector of activation values, denoted $\\vec{a}^{[1]}$ since these are the activation values in layer 1.\n",
        "- the input layer is called **layer 0** and the layer number increases from left to right\n",
        "    - superscripts enclosed in square brackets are also used to denoted $\\vec{w}$ and $b$: $\\vec{w}^{[1]}$, $b^{[1]}$\n",
        "- $\\vec{a}^{[1]}$ is passed to the **output layer** of this neural network\n",
        "\n",
        "<img src='https://drive.google.com/uc?export=view&id=1i1T8-Dz0id56rnzj2LtK49TlHT0rnt6T'>\n",
        "\n",
        "- the output of layer 1 is the input to layer 2, which is $\\vec{a}^{[1]}$\n",
        "\n",
        "$$\n",
        "\\vec{a}^{[1]} = \\begin{bmatrix}0.3 \\\\ 0.7 \\\\ 0.2 \\end{bmatrix}\n",
        "$$\n",
        "\n",
        "- the output of layer 2 is $a^{[2]}$ which in this example is equal to $0.84$\n",
        "    - this is a probability\n",
        "\n",
        "<img src='https://drive.google.com/uc?export=view&id=1KNeQ7VwIv6I05cUhcM9h1P2L22KBJu2z'>\n",
        "\n",
        "- $a^{[2]}$, along with a threshold value can be used to make a prediction\n",
        "    - in this case, $\\widehat{y} = 1$"
      ],
      "metadata": {
        "id": "aZdFcbKB-kmT"
      }
    },
    {
      "cell_type": "markdown",
      "source": [
        "## 2.1.2.2 More complex neural networks"
      ],
      "metadata": {
        "id": "41Bazkx3eijC"
      }
    }
  ]
}