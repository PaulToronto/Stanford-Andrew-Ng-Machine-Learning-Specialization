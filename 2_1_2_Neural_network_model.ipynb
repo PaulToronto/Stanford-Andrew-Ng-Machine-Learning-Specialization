{
  "nbformat": 4,
  "nbformat_minor": 0,
  "metadata": {
    "colab": {
      "provenance": [],
      "toc_visible": true,
      "authorship_tag": "ABX9TyO55qxPPmh71Zs7zM/oTUFa",
      "include_colab_link": true
    },
    "kernelspec": {
      "name": "python3",
      "display_name": "Python 3"
    },
    "language_info": {
      "name": "python"
    }
  },
  "cells": [
    {
      "cell_type": "markdown",
      "metadata": {
        "id": "view-in-github",
        "colab_type": "text"
      },
      "source": [
        "<a href=\"https://colab.research.google.com/github/PaulToronto/Stanford-Andrew-Ng-Machine-Learning-Specialization/blob/main/2_1_2_Neural_network_model.ipynb\" target=\"_parent\"><img src=\"https://colab.research.google.com/assets/colab-badge.svg\" alt=\"Open In Colab\"/></a>"
      ]
    },
    {
      "cell_type": "markdown",
      "source": [
        "# 2.1.2 Neural network model"
      ],
      "metadata": {
        "id": "0Ol6jJvF-b7r"
      }
    },
    {
      "cell_type": "markdown",
      "source": [
        "## 2.1.2.1 Neural network layer"
      ],
      "metadata": {
        "id": "bkQc2wIk-gcP"
      }
    },
    {
      "cell_type": "markdown",
      "source": [
        "<img src='https://drive.google.com/uc?export=view&id=1E16ACEMFRfLNBA4MLac7wpULyboDcVgJ'>\n",
        "\n",
        "- a **layer** of neurons is a fundamental building block of most modern neural networks\n",
        "- the layer above inputs 4 numbers and these 4 numbers are inputs to each of 3 neurons\n",
        "- each of these 3 neurons is just implementing a little **logistic regression unit** or **logistic regression function**\n",
        "    - a **unit** is a single neuron in the layer\n",
        "- the 3 neurons output $0.3$, $0.7$ and $0.2$\n",
        "    - these 3 values are called **activation values**\n",
        "    - $\\vec{a}$ is a vector of activation values, denoted $\\vec{a}^{[1]}$ since these are the activation values in layer 1.\n",
        "- the input layer is called **layer 0** and the layer number increases from left to right\n",
        "- superscripts enclosed in square brackets are also used to denoted $\\vec{w}$ and $b$: $\\vec{w}^{[1]}$, $b^{[1]}$\n",
        "- $\\vec{a}^{[1]}$ is passed to the **output layer** of this neural network\n",
        "\n",
        "<img src='https://drive.google.com/uc?export=view&id=1i1T8-Dz0id56rnzj2LtK49TlHT0rnt6T'>\n",
        "\n",
        "- the output of layer 1 is the input to layer 2, which is $\\vec{a}^{[1]}$\n",
        "\n",
        "$$\n",
        "\\vec{a}^{[1]} = \\begin{bmatrix}0.3 \\\\ 0.7 \\\\ 0.2 \\end{bmatrix}\n",
        "$$\n",
        "\n",
        "- the output of layer 2 is $a^{[2]}$ which in this example is equal to $0.84$\n",
        "    - this is a probability\n",
        "\n",
        "<img src='https://drive.google.com/uc?export=view&id=1KNeQ7VwIv6I05cUhcM9h1P2L22KBJu2z'>\n",
        "\n",
        "- $a^{[2]}$, along with a threshold value can be used to make a prediction\n",
        "    - in this case, $\\widehat{y} = 1$"
      ],
      "metadata": {
        "id": "aZdFcbKB-kmT"
      }
    },
    {
      "cell_type": "markdown",
      "source": [
        "## 2.1.2.2 More complex neural networks"
      ],
      "metadata": {
        "id": "41Bazkx3eijC"
      }
    },
    {
      "cell_type": "markdown",
      "source": [
        "<img src='https://drive.google.com/uc?export=view&id=1MDNBzgvdu8IigCRcnVHgoZBJVDxUvCqK'>\n",
        "\n",
        "- We say this neural network has 4 layers. Layer 0 is not counted\n",
        " - Layer 0 is the input layer\n",
        " - Layers 1, 2 and 3 are hidden layers\n",
        " - Layer 4 is the output layer\n",
        "\n",
        "### Zoom into Layer 3\n",
        "\n",
        "<img src='https://drive.google.com/uc?export=view&id=1LBaObWeIXC_9irTqjiuPCtfhyTIP0Cb_'>\n",
        "\n",
        "- the input to Layer 3 is $\\vec{a}^{[2]}$\n",
        "- the output of Layer 3 is $\\vec{a}^{[3]}$\n",
        "- Layer 3 has 3 hidden neurons which are also called **hidden units**\n",
        "\n",
        "$$\n",
        "\\begin{align}\n",
        "\\vec{a}^{[3]} &= \\begin{bmatrix}a_1^{[3]} \\\\ a_2^{[3]} \\\\ a_3^{[3]}\\end{bmatrix} \\\\\n",
        "&= \\begin{bmatrix}\n",
        "g\\left(\\vec{w}_1^{[3]} \\cdot \\vec{a}^{[2]} + b_1^{[3]}\\right) \\\\\n",
        "g\\left(\\vec{w}_2^{[3]} \\cdot \\vec{a}^{[2]} + b_2^{[3]}\\right) \\\\\n",
        "g\\left(\\vec{w}_3^{[3]} \\cdot \\vec{a}^{[2]} + b_3^{[3]}\\right)\n",
        "\\end{bmatrix}\n",
        "\\end{align}\n",
        "$$\n",
        "\n"
      ],
      "metadata": {
        "id": "7qMJVjA-VtYD"
      }
    },
    {
      "cell_type": "markdown",
      "source": [
        "### General equation for an arbitrary unit $j$ and an arbitrary layer $l$\n",
        "\n",
        "$$\n",
        "a_{j}^{[l]} = g\\left(\\vec{w}_{j}^{[l]} \\cdot \\vec{a}^{[l - 1]} + b_{j}^{[l]}\\right)\n",
        "$$\n",
        "\n",
        "- $g$ is the **activation function**, which might be the sigmoid function, but there are other activation functions\n",
        "- an activation function outputs an **activation value**\n",
        "- the input values, $\\vec{x}$ is also denoted as $\\vec{a}^{[0]}$, so this formula can be applied to layer 1"
      ],
      "metadata": {
        "id": "IVdqieRza5Lg"
      }
    },
    {
      "cell_type": "markdown",
      "source": [
        "## 2.1.2.3 Inference: Making Predictions\n",
        "\n",
        "To make inferences an algorithm called **forward propagation** is used\n",
        "- it is is called *forward* propagation because it goes from left to right\n",
        "- **backward propagation** or **back progagation** is used for learning"
      ],
      "metadata": {
        "id": "WANRnAgkeWMH"
      }
    },
    {
      "cell_type": "markdown",
      "source": [
        "### Example: Handwritten digit recognition\n",
        "\n",
        "- for simplicity, we are only differentiating between the digits, $0$ and $1$\n",
        "- the image of digit is an $8 \\times 8$ grid of intensity values\n",
        "    - ranging from $0$ (black) to $255$ (white)\n",
        "- here is a $1$:\n",
        "\n",
        "<img src='https://drive.google.com/uc?export=view&id=1ghIVLSU1bcpV-NVcqdq-PZImpeZstd2n'>\n",
        "\n",
        "- here is the neural network:\n",
        "\n",
        "<img src='https://drive.google.com/uc?export=view&id=1WcOqh0l6Ewvd38Dlu3Q6zp-VRjNgHazd'>\n",
        "\n",
        "- $\\vec{a}^{[3]}$ is the probablity of the digit being a 1\n",
        "\n",
        "\n",
        "### Steps\n",
        "\n",
        "1. The first computation is to go from $\\vec{x}$ to $\\vec{a}^{[1]}$\n",
        "\n",
        "$$\n",
        "\\vec{a}^{[1]} = \\begin{bmatrix}\n",
        "g\\left(\\vec{w}_{1}^{[1]} \\cdot \\vec{x} + b_{1}^{[1]}\\right) \\\\\n",
        "\\vdots \\\\\n",
        "g\\left(\\vec{w}_{25}^{[1]} \\cdot \\vec{x} + b_{25}^{[1]}\\right)\n",
        "\\end{bmatrix}\n",
        "$$\n",
        "\n",
        "2. The next step is to compute $\\vec{a}^{[2]}$\n",
        "\n",
        "$$\n",
        "\\vec{a}^{[2]} = \\begin{bmatrix}\n",
        "g\\left(\\vec{w}_{1}^{[2]} \\cdot \\vec{a}^{[1]} + b_{1}^{[2]}\\right) \\\\\n",
        "\\vdots \\\\\n",
        "g\\left(\\vec{w}_{15}^{[2]} \\cdot \\vec{a}^{[1]} + b_{15}^{[2]}\\right)\n",
        "\\end{bmatrix}\n",
        "$$\n",
        "\n",
        "3. Compute $\\vec{a}^{[3]}$\n",
        "\n",
        "$$\n",
        "\\vec{a}^{[3]} = \\begin{bmatrix}\n",
        "g\\left(\\vec{w}_{1}^{[3]} \\cdot \\vec{a}^{[2]} + b_{1}^{[3]}\\right)\n",
        "\\end{bmatrix}\n",
        "$$\n",
        "\n",
        "4. Is $a_1^{[3]} \\ge 0.5$ ?\n",
        " - if True: $\\widehat{y} = 1$, image is digit $1$\n",
        " - if False: $\\widehat{y} = 0$, image is digit $0$\n",
        "\n",
        " ### Note:\n",
        "\n",
        " Starting on the left with layers with a large number of units (in our case 25) moving right to layers with less units (15 in our case) is a typical choice in neural network architectures.\n"
      ],
      "metadata": {
        "id": "zEzIZeaZhPZ3"
      }
    },
    {
      "cell_type": "markdown",
      "source": [
        "## 2.1.2.4 Lab - Neurons and Layers\n",
        "\n",
        "https://colab.research.google.com/drive/1E2PBxhZHaD5VY69Ug713sFXKC25foFsu"
      ],
      "metadata": {
        "id": "Zk56EbVWzT67"
      }
    }
  ]
}