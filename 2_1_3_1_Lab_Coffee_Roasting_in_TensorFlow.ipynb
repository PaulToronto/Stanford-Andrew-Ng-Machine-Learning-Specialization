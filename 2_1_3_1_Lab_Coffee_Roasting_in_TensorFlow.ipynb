{
  "nbformat": 4,
  "nbformat_minor": 0,
  "metadata": {
    "colab": {
      "provenance": [],
      "toc_visible": true,
      "authorship_tag": "ABX9TyMdEqx56EKeO6bpgE0O4iQV",
      "include_colab_link": true
    },
    "kernelspec": {
      "name": "python3",
      "display_name": "Python 3"
    },
    "language_info": {
      "name": "python"
    }
  },
  "cells": [
    {
      "cell_type": "markdown",
      "metadata": {
        "id": "view-in-github",
        "colab_type": "text"
      },
      "source": [
        "<a href=\"https://colab.research.google.com/github/PaulToronto/Stanford-Andrew-Ng-Machine-Learning-Specialization/blob/main/2_1_3_1_Lab_Coffee_Roasting_in_TensorFlow.ipynb\" target=\"_parent\"><img src=\"https://colab.research.google.com/assets/colab-badge.svg\" alt=\"Open In Colab\"/></a>"
      ]
    },
    {
      "cell_type": "markdown",
      "source": [
        "# Lab - Coffee Roasting in Tensor Flow"
      ],
      "metadata": {
        "id": "KcbnMoefRrjR"
      }
    },
    {
      "cell_type": "markdown",
      "source": [
        "## Imports"
      ],
      "metadata": {
        "id": "LuibBLNt4xTD"
      }
    },
    {
      "cell_type": "code",
      "execution_count": 1,
      "metadata": {
        "id": "7Zcp2Z5_Ri9K"
      },
      "outputs": [],
      "source": [
        "import numpy as np\n",
        "import matplotlib.pyplot as plt\n",
        "\n",
        "import tensorflow as tf\n",
        "from tensorflow.keras.models import Sequential\n",
        "from tensorflow.keras.layers import Dense"
      ]
    },
    {
      "cell_type": "markdown",
      "source": [
        "## Dataset"
      ],
      "metadata": {
        "id": "f_cczv164y8Y"
      }
    },
    {
      "cell_type": "code",
      "source": [
        "# Temperature (Celsius), Duration (minutes)\n",
        "X = np.array([[185.32,  12.69],\n",
        "       [259.92,  11.87],\n",
        "       [231.01,  14.41],\n",
        "       [175.37,  11.72],\n",
        "       [187.12,  14.13],\n",
        "       [225.91,  12.1 ],\n",
        "       [208.41,  14.18],\n",
        "       [207.08,  14.03],\n",
        "       [280.6 ,  14.23],\n",
        "       [202.87,  12.25],\n",
        "       [196.7 ,  13.54],\n",
        "       [270.31,  14.6 ],\n",
        "       [192.95,  15.2 ],\n",
        "       [213.57,  14.28],\n",
        "       [164.47,  11.92],\n",
        "       [177.26,  15.04],\n",
        "       [241.77,  14.9 ],\n",
        "       [237.  ,  13.13],\n",
        "       [219.74,  13.87],\n",
        "       [266.39,  13.25],\n",
        "       [270.45,  13.95],\n",
        "       [261.96,  13.49],\n",
        "       [243.49,  12.86],\n",
        "       [220.58,  12.36],\n",
        "       [163.59,  11.65],\n",
        "       [244.76,  13.33],\n",
        "       [271.19,  14.84],\n",
        "       [201.99,  15.39],\n",
        "       [229.93,  14.56],\n",
        "       [204.97,  12.28],\n",
        "       [173.19,  12.22],\n",
        "       [231.51,  11.95],\n",
        "       [152.69,  14.83],\n",
        "       [163.42,  13.3 ],\n",
        "       [215.95,  13.98],\n",
        "       [218.04,  15.25],\n",
        "       [251.3 ,  13.8 ],\n",
        "       [233.33,  13.53],\n",
        "       [280.24,  12.41],\n",
        "       [243.02,  13.72],\n",
        "       [155.67,  12.68],\n",
        "       [275.17,  14.64],\n",
        "       [151.73,  12.69],\n",
        "       [151.32,  14.81],\n",
        "       [164.9 ,  11.73],\n",
        "       [282.55,  13.28],\n",
        "       [192.98,  11.7 ],\n",
        "       [202.6 ,  12.96],\n",
        "       [220.67,  11.53],\n",
        "       [169.97,  12.34],\n",
        "       [209.47,  12.71],\n",
        "       [232.8 ,  12.64],\n",
        "       [272.8 ,  15.35],\n",
        "       [158.02,  12.34],\n",
        "       [226.01,  14.58],\n",
        "       [158.64,  12.24],\n",
        "       [211.66,  14.17],\n",
        "       [271.95,  14.97],\n",
        "       [257.16,  11.71],\n",
        "       [281.85,  13.96],\n",
        "       [161.63,  12.52],\n",
        "       [233.8 ,  13.04],\n",
        "       [210.29,  14.72],\n",
        "       [261.24,  13.69],\n",
        "       [256.98,  13.12],\n",
        "       [281.56,  13.92],\n",
        "       [280.64,  11.68],\n",
        "       [269.16,  13.74],\n",
        "       [246.34,  12.27],\n",
        "       [224.07,  12.66],\n",
        "       [164.24,  11.51],\n",
        "       [272.42,  14.18],\n",
        "       [177.68,  12.53],\n",
        "       [212.86,  14.77],\n",
        "       [165.88,  15.37],\n",
        "       [277.43,  12.48],\n",
        "       [236.51,  12.94],\n",
        "       [244.14,  11.85],\n",
        "       [213.45,  13.85],\n",
        "       [234.57,  14.27],\n",
        "       [270.34,  12.47],\n",
        "       [170.68,  13.06],\n",
        "       [226.79,  15.34],\n",
        "       [245.92,  14.45],\n",
        "       [281.32,  12.57],\n",
        "       [185.03,  13.19],\n",
        "       [189.88,  14.1 ],\n",
        "       [278.48,  12.11],\n",
        "       [219.92,  14.21],\n",
        "       [216.58,  15.15],\n",
        "       [249.48,  15.03],\n",
        "       [165.09,  12.28],\n",
        "       [158.87,  14.82],\n",
        "       [279.98,  11.56],\n",
        "       [256.55,  14.41],\n",
        "       [272.61,  12.58],\n",
        "       [246.49,  12.45],\n",
        "       [160.26,  14.48],\n",
        "       [155.7 ,  14.3 ],\n",
        "       [188.27,  13.45],\n",
        "       [270.36,  12.47],\n",
        "       [213.22,  12.92],\n",
        "       [175.7 ,  13.39],\n",
        "       [174.52,  14.7 ],\n",
        "       [233.  ,  12.63],\n",
        "       [281.37,  12.88],\n",
        "       [240.62,  14.43],\n",
        "       [185.81,  11.55],\n",
        "       [270.5 ,  15.33],\n",
        "       [172.98,  12.11],\n",
        "       [208.41,  13.89],\n",
        "       [283.51,  15.35],\n",
        "       [283.36,  12.48],\n",
        "       [230.85,  13.24],\n",
        "       [181.24,  11.76],\n",
        "       [172.78,  12.93],\n",
        "       [161.88,  12.1 ],\n",
        "       [156.03,  13.99],\n",
        "       [216.52,  12.47],\n",
        "       [221.06,  13.2 ],\n",
        "       [238.99,  15.23],\n",
        "       [197.69,  14.08],\n",
        "       [179.55,  15.26],\n",
        "       [233.39,  12.13],\n",
        "       [184.7 ,  12.14],\n",
        "       [174.18,  12.73],\n",
        "       [261.11,  13.33],\n",
        "       [187.42,  13.18],\n",
        "       [186.1 ,  14.43],\n",
        "       [157.94,  12.66],\n",
        "       [193.64,  12.23],\n",
        "       [249.65,  12.22],\n",
        "       [190.56,  11.73],\n",
        "       [252.  ,  12.96],\n",
        "       [238.55,  12.37],\n",
        "       [152.94,  12.79],\n",
        "       [255.17,  14.85],\n",
        "       [197.09,  14.89],\n",
        "       [156.8 ,  13.59],\n",
        "       [184.75,  13.26],\n",
        "       [179.92,  15.07],\n",
        "       [190.79,  15.28],\n",
        "       [164.73,  13.22],\n",
        "       [209.87,  14.34],\n",
        "       [196.58,  13.47],\n",
        "       [159.51,  12.74],\n",
        "       [247.87,  11.92],\n",
        "       [212.44,  12.45],\n",
        "       [172.34,  11.99],\n",
        "       [259.87,  14.25],\n",
        "       [201.23,  13.07],\n",
        "       [248.34,  13.92],\n",
        "       [273.66,  15.18],\n",
        "       [215.09,  14.14],\n",
        "       [223.53,  12.74],\n",
        "       [211.22,  14.38],\n",
        "       [224.61,  14.03],\n",
        "       [215.75,  15.31],\n",
        "       [254.82,  12.02],\n",
        "       [259.9 ,  15.17],\n",
        "       [260.25,  12.87],\n",
        "       [199.67,  12.47],\n",
        "       [157.52,  13.39],\n",
        "       [264.81,  14.58],\n",
        "       [239.4 ,  14.89],\n",
        "       [238.98,  12.39],\n",
        "       [258.43,  12.97],\n",
        "       [270.16,  12.81],\n",
        "       [162.41,  14.42],\n",
        "       [164.53,  14.98],\n",
        "       [205.61,  14.62],\n",
        "       [157.1 ,  13.68],\n",
        "       [241.38,  12.02],\n",
        "       [232.13,  12.07],\n",
        "       [191.04,  12.96],\n",
        "       [233.64,  12.02],\n",
        "       [174.95,  14.63],\n",
        "       [246.64,  13.32],\n",
        "       [188.07,  14.27],\n",
        "       [213.16,  12.75],\n",
        "       [268.08,  12.31],\n",
        "       [258.58,  13.97],\n",
        "       [237.21,  14.23],\n",
        "       [251.02,  15.02],\n",
        "       [274.28,  12.52],\n",
        "       [172.12,  15.09],\n",
        "       [177.52,  12.39],\n",
        "       [258.71,  15.36],\n",
        "       [264.01,  13.57],\n",
        "       [200.71,  15.45],\n",
        "       [249.37,  14.02],\n",
        "       [151.5 ,  12.28],\n",
        "       [151.82,  15.13],\n",
        "       [181.92,  12.18],\n",
        "       [228.65,  12.31],\n",
        "       [223.78,  15.3 ],\n",
        "       [266.63,  12.48],\n",
        "       [273.68,  13.1 ],\n",
        "       [220.61,  12.8 ],\n",
        "       [284.99,  12.73]])"
      ],
      "metadata": {
        "id": "Kiggspt05IK_"
      },
      "execution_count": 2,
      "outputs": []
    },
    {
      "cell_type": "code",
      "source": [
        "Y = np.array([[1.],\n",
        "       [0.],\n",
        "       [0.],\n",
        "       [0.],\n",
        "       [1.],\n",
        "       [1.],\n",
        "       [0.],\n",
        "       [0.],\n",
        "       [0.],\n",
        "       [1.],\n",
        "       [1.],\n",
        "       [0.],\n",
        "       [0.],\n",
        "       [0.],\n",
        "       [0.],\n",
        "       [0.],\n",
        "       [0.],\n",
        "       [0.],\n",
        "       [0.],\n",
        "       [0.],\n",
        "       [0.],\n",
        "       [0.],\n",
        "       [0.],\n",
        "       [1.],\n",
        "       [0.],\n",
        "       [0.],\n",
        "       [0.],\n",
        "       [0.],\n",
        "       [0.],\n",
        "       [1.],\n",
        "       [0.],\n",
        "       [0.],\n",
        "       [0.],\n",
        "       [0.],\n",
        "       [0.],\n",
        "       [0.],\n",
        "       [0.],\n",
        "       [0.],\n",
        "       [0.],\n",
        "       [0.],\n",
        "       [0.],\n",
        "       [0.],\n",
        "       [0.],\n",
        "       [0.],\n",
        "       [0.],\n",
        "       [0.],\n",
        "       [0.],\n",
        "       [1.],\n",
        "       [0.],\n",
        "       [0.],\n",
        "       [1.],\n",
        "       [1.],\n",
        "       [0.],\n",
        "       [0.],\n",
        "       [0.],\n",
        "       [0.],\n",
        "       [0.],\n",
        "       [0.],\n",
        "       [0.],\n",
        "       [0.],\n",
        "       [0.],\n",
        "       [0.],\n",
        "       [0.],\n",
        "       [0.],\n",
        "       [0.],\n",
        "       [0.],\n",
        "       [0.],\n",
        "       [0.],\n",
        "       [1.],\n",
        "       [1.],\n",
        "       [0.],\n",
        "       [0.],\n",
        "       [1.],\n",
        "       [0.],\n",
        "       [0.],\n",
        "       [0.],\n",
        "       [0.],\n",
        "       [0.],\n",
        "       [0.],\n",
        "       [0.],\n",
        "       [0.],\n",
        "       [0.],\n",
        "       [0.],\n",
        "       [0.],\n",
        "       [0.],\n",
        "       [1.],\n",
        "       [1.],\n",
        "       [0.],\n",
        "       [0.],\n",
        "       [0.],\n",
        "       [0.],\n",
        "       [0.],\n",
        "       [0.],\n",
        "       [0.],\n",
        "       [0.],\n",
        "       [0.],\n",
        "       [0.],\n",
        "       [0.],\n",
        "       [0.],\n",
        "       [1.],\n",
        "       [0.],\n",
        "       [1.],\n",
        "       [1.],\n",
        "       [0.],\n",
        "       [1.],\n",
        "       [0.],\n",
        "       [0.],\n",
        "       [0.],\n",
        "       [0.],\n",
        "       [0.],\n",
        "       [0.],\n",
        "       [0.],\n",
        "       [0.],\n",
        "       [0.],\n",
        "       [0.],\n",
        "       [0.],\n",
        "       [0.],\n",
        "       [0.],\n",
        "       [1.],\n",
        "       [1.],\n",
        "       [0.],\n",
        "       [0.],\n",
        "       [0.],\n",
        "       [1.],\n",
        "       [1.],\n",
        "       [0.],\n",
        "       [0.],\n",
        "       [1.],\n",
        "       [0.],\n",
        "       [0.],\n",
        "       [1.],\n",
        "       [0.],\n",
        "       [0.],\n",
        "       [0.],\n",
        "       [1.],\n",
        "       [0.],\n",
        "       [0.],\n",
        "       [0.],\n",
        "       [0.],\n",
        "       [1.],\n",
        "       [0.],\n",
        "       [0.],\n",
        "       [0.],\n",
        "       [0.],\n",
        "       [1.],\n",
        "       [0.],\n",
        "       [0.],\n",
        "       [1.],\n",
        "       [0.],\n",
        "       [0.],\n",
        "       [1.],\n",
        "       [0.],\n",
        "       [0.],\n",
        "       [0.],\n",
        "       [1.],\n",
        "       [0.],\n",
        "       [0.],\n",
        "       [0.],\n",
        "       [0.],\n",
        "       [0.],\n",
        "       [0.],\n",
        "       [1.],\n",
        "       [0.],\n",
        "       [0.],\n",
        "       [0.],\n",
        "       [1.],\n",
        "       [0.],\n",
        "       [0.],\n",
        "       [0.],\n",
        "       [0.],\n",
        "       [0.],\n",
        "       [0.],\n",
        "       [1.],\n",
        "       [1.],\n",
        "       [1.],\n",
        "       [1.],\n",
        "       [0.],\n",
        "       [0.],\n",
        "       [1.],\n",
        "       [1.],\n",
        "       [0.],\n",
        "       [0.],\n",
        "       [0.],\n",
        "       [0.],\n",
        "       [0.],\n",
        "       [0.],\n",
        "       [1.],\n",
        "       [0.],\n",
        "       [0.],\n",
        "       [0.],\n",
        "       [0.],\n",
        "       [0.],\n",
        "       [0.],\n",
        "       [1.],\n",
        "       [1.],\n",
        "       [0.],\n",
        "       [0.],\n",
        "       [0.],\n",
        "       [1.],\n",
        "       [0.]])"
      ],
      "metadata": {
        "id": "O7nBDJ9u5rno"
      },
      "execution_count": 3,
      "outputs": []
    },
    {
      "cell_type": "code",
      "source": [
        "X.shape, Y.shape"
      ],
      "metadata": {
        "colab": {
          "base_uri": "https://localhost:8080/"
        },
        "id": "dKbOTDFS58ji",
        "outputId": "227fb738-205b-469e-8ef7-f980f384455e"
      },
      "execution_count": 4,
      "outputs": [
        {
          "output_type": "execute_result",
          "data": {
            "text/plain": [
              "((200, 2), (200, 1))"
            ]
          },
          "metadata": {},
          "execution_count": 4
        }
      ]
    },
    {
      "cell_type": "markdown",
      "source": [
        "## Plot Coffee Roasting Data"
      ],
      "metadata": {
        "id": "WbNKZUwb6Hjk"
      }
    },
    {
      "cell_type": "code",
      "source": [
        "X[Y.reshape(-1,) == 1, 0]"
      ],
      "metadata": {
        "colab": {
          "base_uri": "https://localhost:8080/"
        },
        "id": "isMKldPk8P7C",
        "outputId": "15efe391-fa7d-4cd5-fc09-dc888c9c629f"
      },
      "execution_count": 5,
      "outputs": [
        {
          "output_type": "execute_result",
          "data": {
            "text/plain": [
              "array([185.32, 187.12, 225.91, 202.87, 196.7 , 220.58, 204.97, 202.6 ,\n",
              "       209.47, 232.8 , 246.34, 224.07, 177.68, 185.03, 189.88, 188.27,\n",
              "       213.22, 175.7 , 233.  , 216.52, 221.06, 233.39, 184.7 , 187.42,\n",
              "       193.64, 238.55, 184.75, 196.58, 212.44, 201.23, 223.53, 199.67,\n",
              "       238.98, 241.38, 232.13, 191.04, 233.64, 188.07, 213.16, 177.52,\n",
              "       181.92, 228.65, 220.61])"
            ]
          },
          "metadata": {},
          "execution_count": 5
        }
      ]
    },
    {
      "cell_type": "code",
      "source": [
        "fig, ax = plt.subplots(1, 1, figsize=(10, 8))\n",
        "\n",
        "y = Y.reshape(-1, )\n",
        "# temperature on x-axis, duration on y-axis\n",
        "ax.scatter(X[y==1, 0], X[y==1, 1], s=70, marker='X', c='r', label='Good Roast')\n",
        "ax.scatter(X[y==0, 0], X[y==0, 1], s=100, marker='o', facecolor='none',\n",
        "           edgecolors='dodgerblue', linewidth=1, label='Bad Roast')\n",
        "ax.axhline(y=12, color='purple', linewidth=1)\n",
        "ax.axvline(x=175, color='purple', linewidth=1)\n",
        "tr = np.linspace(175, 260, 50)\n",
        "ax.plot(tr, (-3/85) * tr + 21, color='purple', linewidth=1)\n",
        "\n",
        "ax.set_title('Coffee Roasting', size=16)\n",
        "ax.set_xlabel(\"Temperature \\n(Celsius)\",size=12)\n",
        "ax.set_ylabel(\"Duration \\n(minutes)\",size=12)\n",
        "ax.legend(loc='upper right')\n",
        "\n",
        "plt.show()"
      ],
      "metadata": {
        "colab": {
          "base_uri": "https://localhost:8080/",
          "height": 745
        },
        "id": "6Yx0HnQ26G43",
        "outputId": "29759993-e1d1-4fff-ddd3-dcf71fd1cfbc"
      },
      "execution_count": 6,
      "outputs": [
        {
          "output_type": "display_data",
          "data": {
            "text/plain": [
              "<Figure size 1000x800 with 1 Axes>"
            ],
            "image/png": "[encoded data removed]"
          },
          "metadata": {}
        }
      ]
    },
    {
      "cell_type": "markdown",
      "source": [
        "## Normalize Data\n",
        "\n",
        "- Fitting the weights to the data (back-propagation) proceeds more quickly when the data is normalize\n",
        "- This procedure uses the Keras [normalization layer](https://keras.io/api/layers/preprocessing_layers/numerical/normalization/)\n",
        "- Steps\n",
        " 1. Create a \"Normalization Layer\": this is not a layer in your model\n",
        " 2. `adapt` the data (learns the mean and variance of the dataset and stores the values internally\n",
        " 2. normalize the data"
      ],
      "metadata": {
        "id": "DbOMn4lwCjgJ"
      }
    },
    {
      "cell_type": "code",
      "source": [
        "# max and min temperature\n",
        "np.max(X[:, 0]), np.min(X[:, 0])"
      ],
      "metadata": {
        "colab": {
          "base_uri": "https://localhost:8080/"
        },
        "id": "Pu3txcWiDiEQ",
        "outputId": "f215fada-d950-43b2-b201-68c9e9374b21"
      },
      "execution_count": 7,
      "outputs": [
        {
          "output_type": "execute_result",
          "data": {
            "text/plain": [
              "(284.99, 151.32)"
            ]
          },
          "metadata": {},
          "execution_count": 7
        }
      ]
    },
    {
      "cell_type": "code",
      "source": [
        "# max and min duration\n",
        "np.max(X[:, 1]), np.min(X[:, 1])"
      ],
      "metadata": {
        "colab": {
          "base_uri": "https://localhost:8080/"
        },
        "id": "FRGDbEETDydd",
        "outputId": "fca9aed6-0b06-4a30-87dc-4b646925e83a"
      },
      "execution_count": 8,
      "outputs": [
        {
          "output_type": "execute_result",
          "data": {
            "text/plain": [
              "(15.45, 11.51)"
            ]
          },
          "metadata": {},
          "execution_count": 8
        }
      ]
    },
    {
      "cell_type": "code",
      "source": [
        "norm_1 = tf.keras.layers.Normalization(axis=-1)\n",
        "norm_1.adapt(X)\n",
        "Xn = norm_1(X)"
      ],
      "metadata": {
        "id": "JN8cmOybEjuJ"
      },
      "execution_count": 9,
      "outputs": []
    },
    {
      "cell_type": "code",
      "source": [
        "# max and min temperature\n",
        "np.max(Xn[:, 0]), np.min(Xn[:, 0])"
      ],
      "metadata": {
        "colab": {
          "base_uri": "https://localhost:8080/"
        },
        "id": "fq_M1A5sGJ2p",
        "outputId": "bed39360-d358-4f84-9457-367cd1ca4032"
      },
      "execution_count": 10,
      "outputs": [
        {
          "output_type": "execute_result",
          "data": {
            "text/plain": [
              "(1.6596596, -1.6853083)"
            ]
          },
          "metadata": {},
          "execution_count": 10
        }
      ]
    },
    {
      "cell_type": "code",
      "source": [
        "# max and min duration\n",
        "np.max(Xn[:, 1]), np.min(Xn[:, 1])"
      ],
      "metadata": {
        "colab": {
          "base_uri": "https://localhost:8080/"
        },
        "id": "WRN2_aWHHLut",
        "outputId": "64f363bf-e0f6-4800-dd77-1fc3685ce84b"
      },
      "execution_count": 11,
      "outputs": [
        {
          "output_type": "execute_result",
          "data": {
            "text/plain": [
              "(1.7897574, -1.7021072)"
            ]
          },
          "metadata": {},
          "execution_count": 11
        }
      ]
    },
    {
      "cell_type": "markdown",
      "source": [
        "## Tile Data"
      ],
      "metadata": {
        "id": "Ls8ZSeKyJeA-"
      }
    },
    {
      "cell_type": "code",
      "source": [
        "# tile/copy data to increase the training set size and\n",
        "#  reduce the number of epochs\n",
        "Xt = np.tile(Xn, (1000, 1))\n",
        "Yt = np.tile(Y, (1000, 1))"
      ],
      "metadata": {
        "id": "rFWjoX9OHZuE"
      },
      "execution_count": 12,
      "outputs": []
    },
    {
      "cell_type": "code",
      "source": [
        "X.shape, Xn.shape, Xt.shape"
      ],
      "metadata": {
        "colab": {
          "base_uri": "https://localhost:8080/"
        },
        "id": "kXV0dT0MH4CY",
        "outputId": "00eb77c0-4041-4760-9c9d-0fa4ae7385df"
      },
      "execution_count": 13,
      "outputs": [
        {
          "output_type": "execute_result",
          "data": {
            "text/plain": [
              "((200, 2), TensorShape([200, 2]), (200000, 2))"
            ]
          },
          "metadata": {},
          "execution_count": 13
        }
      ]
    },
    {
      "cell_type": "code",
      "source": [
        "Y.shape, Yt.shape"
      ],
      "metadata": {
        "colab": {
          "base_uri": "https://localhost:8080/"
        },
        "id": "3LXnnff5IAxJ",
        "outputId": "370d447c-80c3-41c8-acdc-df6010df7cce"
      },
      "execution_count": 14,
      "outputs": [
        {
          "output_type": "execute_result",
          "data": {
            "text/plain": [
              "((200, 1), (200000, 1))"
            ]
          },
          "metadata": {},
          "execution_count": 14
        }
      ]
    },
    {
      "cell_type": "code",
      "source": [
        "Xn[0:5, :], Xt[0:5, :], Xt[200:205]"
      ],
      "metadata": {
        "colab": {
          "base_uri": "https://localhost:8080/"
        },
        "id": "C6syOgJfIGhr",
        "outputId": "e1c833ac-ff32-4b7e-af02-257e652879ea"
      },
      "execution_count": 15,
      "outputs": [
        {
          "output_type": "execute_result",
          "data": {
            "text/plain": [
              "(<tf.Tensor: shape=(5, 2), dtype=float32, numpy=\n",
              " array([[-0.83448976, -0.6563208 ],\n",
              "        [ 1.0323066 , -1.3830538 ],\n",
              "        [ 0.30886003,  0.8680468 ],\n",
              "        [-1.0834796 , -1.5159925 ],\n",
              "        [-0.7894467 ,  0.6198942 ]], dtype=float32)>,\n",
              " array([[-0.83448976, -0.6563208 ],\n",
              "        [ 1.0323066 , -1.3830538 ],\n",
              "        [ 0.30886003,  0.8680468 ],\n",
              "        [-1.0834796 , -1.5159925 ],\n",
              "        [-0.7894467 ,  0.6198942 ]], dtype=float32),\n",
              " array([[-0.83448976, -0.6563208 ],\n",
              "        [ 1.0323066 , -1.3830538 ],\n",
              "        [ 0.30886003,  0.8680468 ],\n",
              "        [-1.0834796 , -1.5159925 ],\n",
              "        [-0.7894467 ,  0.6198942 ]], dtype=float32))"
            ]
          },
          "metadata": {},
          "execution_count": 15
        }
      ]
    },
    {
      "cell_type": "code",
      "source": [
        "Y[0:5], Yt[0:5], Yt[200:205], Yt[400:405]"
      ],
      "metadata": {
        "colab": {
          "base_uri": "https://localhost:8080/"
        },
        "id": "aDhjJ_GFInj6",
        "outputId": "43ebd999-6cf9-4949-8136-d4df8df027c2"
      },
      "execution_count": 16,
      "outputs": [
        {
          "output_type": "execute_result",
          "data": {
            "text/plain": [
              "(array([[1.],\n",
              "        [0.],\n",
              "        [0.],\n",
              "        [0.],\n",
              "        [1.]]),\n",
              " array([[1.],\n",
              "        [0.],\n",
              "        [0.],\n",
              "        [0.],\n",
              "        [1.]]),\n",
              " array([[1.],\n",
              "        [0.],\n",
              "        [0.],\n",
              "        [0.],\n",
              "        [1.]]),\n",
              " array([[1.],\n",
              "        [0.],\n",
              "        [0.],\n",
              "        [0.],\n",
              "        [1.]]))"
            ]
          },
          "metadata": {},
          "execution_count": 16
        }
      ]
    },
    {
      "cell_type": "markdown",
      "source": [
        "## TensorFlow Model\n",
        "\n",
        "<img src='https://drive.google.com/uc?export=view&id=1pNscrM4uMbFa1Lvhqv6YyNC-Ivy2i5hh'>\n",
        "\n"
      ],
      "metadata": {
        "id": "Hmp_LAUSJsk9"
      }
    },
    {
      "cell_type": "code",
      "source": [
        "tf.random.set_seed(1234)\n",
        "\n",
        "model = Sequential([\n",
        "    tf.keras.Input(shape=(2, )),\n",
        "    Dense(3, activation='sigmoid', name='layer1'),\n",
        "    Dense(1, activation='sigmoid', name='layer2')\n",
        "])"
      ],
      "metadata": {
        "id": "LqmC51XfKs8T"
      },
      "execution_count": 17,
      "outputs": []
    },
    {
      "cell_type": "markdown",
      "source": [
        ">**Note 1:** The `tf.keras.Input(shape=(2,)),` specifies the expected shape of the input. This allows Tensorflow to size the weights and bias parameters at this point.  This is useful when exploring Tensorflow models. This statement can be omitted in practice and Tensorflow will size the network parameters when the input data is specified in the `model.fit` statement.  \n",
        ">**Note 2:** Including the sigmoid activation in the final layer is not considered best practice. It would instead be accounted for in the loss which improves numerical stability. This will be described in more detail in a later lab.\n",
        "\n",
        "The `model.summary()` provides a description of the network:"
      ],
      "metadata": {
        "id": "IDzWX93kNPcd"
      }
    },
    {
      "cell_type": "code",
      "source": [
        "model.summary()"
      ],
      "metadata": {
        "colab": {
          "base_uri": "https://localhost:8080/"
        },
        "id": "ajlqHbX4RBk2",
        "outputId": "87b95624-bdbe-47cd-f3f8-fe586413551c"
      },
      "execution_count": 18,
      "outputs": [
        {
          "output_type": "stream",
          "name": "stdout",
          "text": [
            "Model: \"sequential\"\n",
            "_________________________________________________________________\n",
            " Layer (type)                Output Shape              Param #   \n",
            "=================================================================\n",
            " layer1 (Dense)              (None, 3)                 9         \n",
            "                                                                 \n",
            " layer2 (Dense)              (None, 1)                 4         \n",
            "                                                                 \n",
            "=================================================================\n",
            "Total params: 13 (52.00 Byte)\n",
            "Trainable params: 13 (52.00 Byte)\n",
            "Non-trainable params: 0 (0.00 Byte)\n",
            "_________________________________________________________________\n"
          ]
        }
      ]
    },
    {
      "cell_type": "code",
      "source": [
        "layer1 = model.get_layer('layer1')\n",
        "layer2 = model.get_layer('layer2')"
      ],
      "metadata": {
        "id": "eoOr-e3pQQ8r"
      },
      "execution_count": 19,
      "outputs": []
    },
    {
      "cell_type": "code",
      "source": [
        "# number of variables in input * number nodes + number nodes\n",
        "L1_num_params = layer1.input.shape[1] * layer1.units + layer1.units # W1 parameters + b_parameters\n",
        "L2_num_params = layer2.input.shape[1] * layer2.units + layer2.units\n",
        "L1_num_params, L2_num_params"
      ],
      "metadata": {
        "colab": {
          "base_uri": "https://localhost:8080/"
        },
        "id": "n_59D1TlQV-r",
        "outputId": "209724b2-2c4f-4630-d499-49d4a055519e"
      },
      "execution_count": 20,
      "outputs": [
        {
          "output_type": "execute_result",
          "data": {
            "text/plain": [
              "(9, 4)"
            ]
          },
          "metadata": {},
          "execution_count": 20
        }
      ]
    },
    {
      "cell_type": "markdown",
      "source": [
        "## Initial Weights"
      ],
      "metadata": {
        "id": "pSmsxZcHUWHB"
      }
    },
    {
      "cell_type": "code",
      "source": [
        "W1, b1 = layer1.get_weights()\n",
        "W1, b1"
      ],
      "metadata": {
        "colab": {
          "base_uri": "https://localhost:8080/"
        },
        "id": "i-VTTIxNRslg",
        "outputId": "b79809b3-dd18-4554-a1fc-246353ab4b45"
      },
      "execution_count": 21,
      "outputs": [
        {
          "output_type": "execute_result",
          "data": {
            "text/plain": [
              "(array([[-0.43748373, -0.69526917, -0.5482541 ],\n",
              "        [-0.6390673 ,  0.40119636, -0.213507  ]], dtype=float32),\n",
              " array([0., 0., 0.], dtype=float32))"
            ]
          },
          "metadata": {},
          "execution_count": 21
        }
      ]
    },
    {
      "cell_type": "code",
      "source": [
        "W2, b2 = layer2.get_weights()\n",
        "W2, b2"
      ],
      "metadata": {
        "colab": {
          "base_uri": "https://localhost:8080/"
        },
        "id": "6rPq9uX7Sey3",
        "outputId": "8a1506f1-f731-4b31-fea3-29617500680e"
      },
      "execution_count": 22,
      "outputs": [
        {
          "output_type": "execute_result",
          "data": {
            "text/plain": [
              "(array([[-0.38817453],\n",
              "        [-0.95930314],\n",
              "        [-0.08866107]], dtype=float32),\n",
              " array([0.], dtype=float32))"
            ]
          },
          "metadata": {},
          "execution_count": 22
        }
      ]
    },
    {
      "cell_type": "markdown",
      "source": [
        "The following statements will be described in detail in Week2. For now:\n",
        "- The `model.compile` statement defines a loss function and specifies a compile optimization.\n",
        "- The `model.fit` statement runs gradient descent and fits the weights to the data."
      ],
      "metadata": {
        "id": "yGALyD67SupF"
      }
    },
    {
      "cell_type": "code",
      "source": [
        "model.compile(\n",
        "    optimizer=tf.keras.optimizers.Adam(learning_rate=0.01),\n",
        "    loss = tf.keras.losses.BinaryCrossentropy()\n",
        ")"
      ],
      "metadata": {
        "id": "m1WeruA6S5G7"
      },
      "execution_count": 23,
      "outputs": []
    },
    {
      "cell_type": "code",
      "source": [
        "model.fit(Xt, Yt, epochs=10)"
      ],
      "metadata": {
        "colab": {
          "base_uri": "https://localhost:8080/"
        },
        "id": "_433nfI_TaAE",
        "outputId": "db4d988c-975d-49af-a039-0ab88cdd995d"
      },
      "execution_count": 24,
      "outputs": [
        {
          "output_type": "stream",
          "name": "stdout",
          "text": [
            "Epoch 1/10\n",
            "6250/6250 [==============================] - 23s 3ms/step - loss: 0.2759\n",
            "Epoch 2/10\n",
            "6250/6250 [==============================] - 11s 2ms/step - loss: 0.1362\n",
            "Epoch 3/10\n",
            "6250/6250 [==============================] - 12s 2ms/step - loss: 0.1302\n",
            "Epoch 4/10\n",
            "6250/6250 [==============================] - 13s 2ms/step - loss: 0.1227\n",
            "Epoch 5/10\n",
            "6250/6250 [==============================] - 12s 2ms/step - loss: 0.1152\n",
            "Epoch 6/10\n",
            "6250/6250 [==============================] - 12s 2ms/step - loss: 0.1092\n",
            "Epoch 7/10\n",
            "6250/6250 [==============================] - 12s 2ms/step - loss: 0.0548\n",
            "Epoch 8/10\n",
            "6250/6250 [==============================] - 12s 2ms/step - loss: 0.0139\n",
            "Epoch 9/10\n",
            "6250/6250 [==============================] - 13s 2ms/step - loss: 0.0091\n",
            "Epoch 10/10\n",
            "6250/6250 [==============================] - 12s 2ms/step - loss: 0.0065\n"
          ]
        },
        {
          "output_type": "execute_result",
          "data": {
            "text/plain": [
              "<keras.src.callbacks.History at 0x78e2ce560160>"
            ]
          },
          "metadata": {},
          "execution_count": 24
        }
      ]
    },
    {
      "cell_type": "markdown",
      "source": [
        "## Epochs and batches\n",
        "\n",
        "In the `compile` statement above, the number of `epochs` was set to 10. This specifies that the entire data set should be applied during training 10 times.  During training, you see output describing the progress of training that looks like this:\n",
        "```\n",
        "Epoch 1/10\n",
        "6250/6250 [==============================] - 12s 2ms/step - loss: 0.1839\n",
        "```\n",
        "The first line, `Epoch 1/10`, describes which epoch the model is currently running. For efficiency, the training data set is broken into 'batches'. The default size of a batch in Tensorflow is 32. There are 200000 examples in our expanded data set or 6250 batches. The notation on the 2nd line `6250/6250 [====` is describing which batch has been executed."
      ],
      "metadata": {
        "id": "hwAyrSBnUDaT"
      }
    },
    {
      "cell_type": "markdown",
      "source": [
        "## Updated weights"
      ],
      "metadata": {
        "id": "XuQr8BDNUSLw"
      }
    },
    {
      "cell_type": "code",
      "source": [
        "W1, b1 = layer1.get_weights()\n",
        "W1, b1"
      ],
      "metadata": {
        "colab": {
          "base_uri": "https://localhost:8080/"
        },
        "id": "MxXlb6dmVMbl",
        "outputId": "0bd26717-9301-4ceb-c645-2e2ae697a69c"
      },
      "execution_count": 25,
      "outputs": [
        {
          "output_type": "execute_result",
          "data": {
            "text/plain": [
              "(array([[13.72331   , -9.827587  ,  0.13677995],\n",
              "        [11.424054  , -0.1998485 , -8.21591   ]], dtype=float32),\n",
              " array([  1.3569852, -10.765054 , -10.374317 ], dtype=float32))"
            ]
          },
          "metadata": {},
          "execution_count": 25
        }
      ]
    },
    {
      "cell_type": "code",
      "source": [
        "W2, b2 = layer2.get_weights()\n",
        "W2, b2"
      ],
      "metadata": {
        "colab": {
          "base_uri": "https://localhost:8080/"
        },
        "id": "IHBCxBx6VMkT",
        "outputId": "e7fc42de-40d9-41e6-ea2a-8f4de7ddcaf5"
      },
      "execution_count": 26,
      "outputs": [
        {
          "output_type": "execute_result",
          "data": {
            "text/plain": [
              "(array([[-33.79269 ],\n",
              "        [-35.184044],\n",
              "        [-30.496597]], dtype=float32),\n",
              " array([17.774477], dtype=float32))"
            ]
          },
          "metadata": {},
          "execution_count": 26
        }
      ]
    },
    {
      "cell_type": "markdown",
      "source": [
        "## Predictions"
      ],
      "metadata": {
        "id": "SDv343jsVrKO"
      }
    },
    {
      "cell_type": "code",
      "source": [
        "predictions = model.predict(Xn)\n",
        "predictions # these are probabilities"
      ],
      "metadata": {
        "colab": {
          "base_uri": "https://localhost:8080/"
        },
        "id": "DDkV6TUOVqOk",
        "outputId": "f486ecf0-a9f1-4429-e32e-b50999c94c7a"
      },
      "execution_count": 27,
      "outputs": [
        {
          "output_type": "stream",
          "name": "stdout",
          "text": [
            "7/7 [==============================] - 0s 2ms/step\n"
          ]
        },
        {
          "output_type": "execute_result",
          "data": {
            "text/plain": [
              "array([[9.99999583e-01],\n",
              "       [2.39141351e-09],\n",
              "       [1.10501546e-07],\n",
              "       [6.32899495e-13],\n",
              "       [9.99998569e-01],\n",
              "       [9.99382377e-01],\n",
              "       [1.27170992e-07],\n",
              "       [3.09934023e-07],\n",
              "       [1.10503656e-07],\n",
              "       [9.99998689e-01],\n",
              "       [1.00000000e+00],\n",
              "       [1.10504075e-07],\n",
              "       [8.18919261e-08],\n",
              "       [1.11277345e-07],\n",
              "       [1.72319133e-15],\n",
              "       [9.58138863e-12],\n",
              "       [1.10503656e-07],\n",
              "       [1.52796545e-07],\n",
              "       [1.18473096e-07],\n",
              "       [1.10044297e-07],\n",
              "       [1.10501126e-07],\n",
              "       [1.10425276e-07],\n",
              "       [1.79019253e-07],\n",
              "       [9.99999821e-01],\n",
              "       [9.03026612e-20],\n",
              "       [1.10606138e-07],\n",
              "       [1.10504075e-07],\n",
              "       [1.07055207e-07],\n",
              "       [1.10499862e-07],\n",
              "       [9.99999344e-01],\n",
              "       [5.22262635e-05],\n",
              "       [2.98893720e-01],\n",
              "       [3.23728138e-08],\n",
              "       [1.89597699e-07],\n",
              "       [1.20107188e-07],\n",
              "       [1.10434549e-07],\n",
              "       [1.10496487e-07],\n",
              "       [1.12754094e-07],\n",
              "       [1.71570367e-08],\n",
              "       [1.10502391e-07],\n",
              "       [3.00792777e-08],\n",
              "       [1.10504075e-07],\n",
              "       [2.58298503e-08],\n",
              "       [3.10544657e-08],\n",
              "       [8.81587073e-19],\n",
              "       [1.10112737e-07],\n",
              "       [4.28133171e-05],\n",
              "       [1.00000000e+00],\n",
              "       [7.47780268e-06],\n",
              "       [3.43855504e-06],\n",
              "       [1.00000000e+00],\n",
              "       [9.99996781e-01],\n",
              "       [1.10504075e-07],\n",
              "       [5.67458480e-09],\n",
              "       [1.10493964e-07],\n",
              "       [9.03777331e-10],\n",
              "       [1.16210877e-07],\n",
              "       [1.10504075e-07],\n",
              "       [7.77694368e-06],\n",
              "       [1.10501126e-07],\n",
              "       [4.66465551e-08],\n",
              "       [1.12472242e-06],\n",
              "       [1.10028765e-07],\n",
              "       [1.10485530e-07],\n",
              "       [1.09401803e-07],\n",
              "       [1.10500281e-07],\n",
              "       [6.83708009e-20],\n",
              "       [1.10491008e-07],\n",
              "       [9.76314247e-01],\n",
              "       [1.00000000e+00],\n",
              "       [2.31870423e-20],\n",
              "       [1.10503656e-07],\n",
              "       [9.84178960e-01],\n",
              "       [1.10243455e-07],\n",
              "       [3.88007807e-20],\n",
              "       [3.54781662e-08],\n",
              "       [1.32740195e-06],\n",
              "       [2.81041511e-03],\n",
              "       [2.28901840e-07],\n",
              "       [1.10503237e-07],\n",
              "       [3.36913040e-08],\n",
              "       [1.75510111e-04],\n",
              "       [1.10496067e-07],\n",
              "       [1.10504075e-07],\n",
              "       [6.01199233e-08],\n",
              "       [9.99999702e-01],\n",
              "       [9.99993920e-01],\n",
              "       [1.63360157e-12],\n",
              "       [1.10684645e-07],\n",
              "       [1.10402951e-07],\n",
              "       [1.10504075e-07],\n",
              "       [1.36772691e-08],\n",
              "       [5.26889714e-08],\n",
              "       [4.41940532e-20],\n",
              "       [1.10504075e-07],\n",
              "       [6.37553583e-08],\n",
              "       [3.07017501e-04],\n",
              "       [8.35345020e-08],\n",
              "       [3.94629716e-08],\n",
              "       [9.99999940e-01],\n",
              "       [3.36879644e-08],\n",
              "       [1.00000000e+00],\n",
              "       [8.64898920e-01],\n",
              "       [3.13454453e-04],\n",
              "       [9.99997079e-01],\n",
              "       [1.03563742e-07],\n",
              "       [1.10503656e-07],\n",
              "       [4.59009499e-07],\n",
              "       [1.10504075e-07],\n",
              "       [5.08893891e-07],\n",
              "       [1.46965306e-06],\n",
              "       [1.10504075e-07],\n",
              "       [3.46850157e-08],\n",
              "       [2.67719571e-07],\n",
              "       [1.67498229e-07],\n",
              "       [6.41870825e-03],\n",
              "       [1.08061468e-11],\n",
              "       [3.98535853e-08],\n",
              "       [9.99999881e-01],\n",
              "       [8.98879588e-01],\n",
              "       [1.10503656e-07],\n",
              "       [5.86506026e-03],\n",
              "       [1.61408470e-10],\n",
              "       [9.99821246e-01],\n",
              "       [9.98582482e-01],\n",
              "       [7.12553412e-02],\n",
              "       [1.10252707e-07],\n",
              "       [9.99999881e-01],\n",
              "       [3.38962749e-02],\n",
              "       [3.55874192e-08],\n",
              "       [9.99996960e-01],\n",
              "       [6.19513132e-02],\n",
              "       [5.67813950e-05],\n",
              "       [1.08109504e-07],\n",
              "       [9.99998152e-01],\n",
              "       [2.92150659e-08],\n",
              "       [1.10504075e-07],\n",
              "       [9.90076146e-08],\n",
              "       [4.17290913e-08],\n",
              "       [9.99999642e-01],\n",
              "       [2.84847590e-10],\n",
              "       [6.69995757e-08],\n",
              "       [3.61212386e-07],\n",
              "       [1.11880475e-07],\n",
              "       [1.00000000e+00],\n",
              "       [4.88941225e-08],\n",
              "       [3.12590264e-02],\n",
              "       [9.99999881e-01],\n",
              "       [2.69662570e-10],\n",
              "       [1.10503656e-07],\n",
              "       [1.00000000e+00],\n",
              "       [1.10501126e-07],\n",
              "       [1.10504075e-07],\n",
              "       [1.12846180e-07],\n",
              "       [9.99999940e-01],\n",
              "       [1.10900615e-07],\n",
              "       [1.10774614e-07],\n",
              "       [1.10383581e-07],\n",
              "       [3.31683659e-05],\n",
              "       [1.10504075e-07],\n",
              "       [1.03725448e-07],\n",
              "       [1.00000000e+00],\n",
              "       [4.43937900e-08],\n",
              "       [1.10504075e-07],\n",
              "       [1.10503656e-07],\n",
              "       [9.99996424e-01],\n",
              "       [1.07228502e-07],\n",
              "       [9.96194558e-08],\n",
              "       [1.71674543e-07],\n",
              "       [1.94127803e-09],\n",
              "       [1.09361331e-07],\n",
              "       [4.33807941e-08],\n",
              "       [9.25715089e-01],\n",
              "       [9.96594310e-01],\n",
              "       [9.99999940e-01],\n",
              "       [9.48352814e-01],\n",
              "       [1.90784372e-02],\n",
              "       [1.10443395e-07],\n",
              "       [9.93608415e-01],\n",
              "       [1.00000000e+00],\n",
              "       [3.47577123e-09],\n",
              "       [1.10501546e-07],\n",
              "       [1.10503237e-07],\n",
              "       [1.10504075e-07],\n",
              "       [4.73298272e-08],\n",
              "       [2.74017636e-15],\n",
              "       [9.33256149e-01],\n",
              "       [1.10504075e-07],\n",
              "       [1.10459403e-07],\n",
              "       [1.05856422e-07],\n",
              "       [1.10502391e-07],\n",
              "       [1.54407731e-09],\n",
              "       [2.14002238e-08],\n",
              "       [9.95174944e-01],\n",
              "       [9.99999583e-01],\n",
              "       [1.10487214e-07],\n",
              "       [3.72514997e-08],\n",
              "       [1.09103816e-07],\n",
              "       [9.99999940e-01],\n",
              "       [9.09328577e-08]], dtype=float32)"
            ]
          },
          "metadata": {},
          "execution_count": 27
        }
      ]
    },
    {
      "cell_type": "code",
      "source": [
        "y_hat = (predictions >= 0.5).astype(int)\n",
        "y_hat"
      ],
      "metadata": {
        "colab": {
          "base_uri": "https://localhost:8080/"
        },
        "id": "fTegWIPhXGai",
        "outputId": "9b17c861-fa3a-432c-a615-1c8f1f46302a"
      },
      "execution_count": 28,
      "outputs": [
        {
          "output_type": "execute_result",
          "data": {
            "text/plain": [
              "array([[1],\n",
              "       [0],\n",
              "       [0],\n",
              "       [0],\n",
              "       [1],\n",
              "       [1],\n",
              "       [0],\n",
              "       [0],\n",
              "       [0],\n",
              "       [1],\n",
              "       [1],\n",
              "       [0],\n",
              "       [0],\n",
              "       [0],\n",
              "       [0],\n",
              "       [0],\n",
              "       [0],\n",
              "       [0],\n",
              "       [0],\n",
              "       [0],\n",
              "       [0],\n",
              "       [0],\n",
              "       [0],\n",
              "       [1],\n",
              "       [0],\n",
              "       [0],\n",
              "       [0],\n",
              "       [0],\n",
              "       [0],\n",
              "       [1],\n",
              "       [0],\n",
              "       [0],\n",
              "       [0],\n",
              "       [0],\n",
              "       [0],\n",
              "       [0],\n",
              "       [0],\n",
              "       [0],\n",
              "       [0],\n",
              "       [0],\n",
              "       [0],\n",
              "       [0],\n",
              "       [0],\n",
              "       [0],\n",
              "       [0],\n",
              "       [0],\n",
              "       [0],\n",
              "       [1],\n",
              "       [0],\n",
              "       [0],\n",
              "       [1],\n",
              "       [1],\n",
              "       [0],\n",
              "       [0],\n",
              "       [0],\n",
              "       [0],\n",
              "       [0],\n",
              "       [0],\n",
              "       [0],\n",
              "       [0],\n",
              "       [0],\n",
              "       [0],\n",
              "       [0],\n",
              "       [0],\n",
              "       [0],\n",
              "       [0],\n",
              "       [0],\n",
              "       [0],\n",
              "       [1],\n",
              "       [1],\n",
              "       [0],\n",
              "       [0],\n",
              "       [1],\n",
              "       [0],\n",
              "       [0],\n",
              "       [0],\n",
              "       [0],\n",
              "       [0],\n",
              "       [0],\n",
              "       [0],\n",
              "       [0],\n",
              "       [0],\n",
              "       [0],\n",
              "       [0],\n",
              "       [0],\n",
              "       [1],\n",
              "       [1],\n",
              "       [0],\n",
              "       [0],\n",
              "       [0],\n",
              "       [0],\n",
              "       [0],\n",
              "       [0],\n",
              "       [0],\n",
              "       [0],\n",
              "       [0],\n",
              "       [0],\n",
              "       [0],\n",
              "       [0],\n",
              "       [1],\n",
              "       [0],\n",
              "       [1],\n",
              "       [1],\n",
              "       [0],\n",
              "       [1],\n",
              "       [0],\n",
              "       [0],\n",
              "       [0],\n",
              "       [0],\n",
              "       [0],\n",
              "       [0],\n",
              "       [0],\n",
              "       [0],\n",
              "       [0],\n",
              "       [0],\n",
              "       [0],\n",
              "       [0],\n",
              "       [0],\n",
              "       [1],\n",
              "       [1],\n",
              "       [0],\n",
              "       [0],\n",
              "       [0],\n",
              "       [1],\n",
              "       [1],\n",
              "       [0],\n",
              "       [0],\n",
              "       [1],\n",
              "       [0],\n",
              "       [0],\n",
              "       [1],\n",
              "       [0],\n",
              "       [0],\n",
              "       [0],\n",
              "       [1],\n",
              "       [0],\n",
              "       [0],\n",
              "       [0],\n",
              "       [0],\n",
              "       [1],\n",
              "       [0],\n",
              "       [0],\n",
              "       [0],\n",
              "       [0],\n",
              "       [1],\n",
              "       [0],\n",
              "       [0],\n",
              "       [1],\n",
              "       [0],\n",
              "       [0],\n",
              "       [1],\n",
              "       [0],\n",
              "       [0],\n",
              "       [0],\n",
              "       [1],\n",
              "       [0],\n",
              "       [0],\n",
              "       [0],\n",
              "       [0],\n",
              "       [0],\n",
              "       [0],\n",
              "       [1],\n",
              "       [0],\n",
              "       [0],\n",
              "       [0],\n",
              "       [1],\n",
              "       [0],\n",
              "       [0],\n",
              "       [0],\n",
              "       [0],\n",
              "       [0],\n",
              "       [0],\n",
              "       [1],\n",
              "       [1],\n",
              "       [1],\n",
              "       [1],\n",
              "       [0],\n",
              "       [0],\n",
              "       [1],\n",
              "       [1],\n",
              "       [0],\n",
              "       [0],\n",
              "       [0],\n",
              "       [0],\n",
              "       [0],\n",
              "       [0],\n",
              "       [1],\n",
              "       [0],\n",
              "       [0],\n",
              "       [0],\n",
              "       [0],\n",
              "       [0],\n",
              "       [0],\n",
              "       [1],\n",
              "       [1],\n",
              "       [0],\n",
              "       [0],\n",
              "       [0],\n",
              "       [1],\n",
              "       [0]])"
            ]
          },
          "metadata": {},
          "execution_count": 28
        }
      ]
    },
    {
      "cell_type": "code",
      "source": [
        "sum(y_hat == Y) / len(Y) # 100% accuracy"
      ],
      "metadata": {
        "colab": {
          "base_uri": "https://localhost:8080/"
        },
        "id": "oUWQkA0mYSof",
        "outputId": "e2c2daa0-9ef3-4ee9-dccc-f922faa4e990"
      },
      "execution_count": 29,
      "outputs": [
        {
          "output_type": "execute_result",
          "data": {
            "text/plain": [
              "array([1.])"
            ]
          },
          "metadata": {},
          "execution_count": 29
        }
      ]
    },
    {
      "cell_type": "markdown",
      "source": [
        "## Layer Functions\n",
        "\n",
        "Let's examine the functions of the units to determine their role in the coffee roasting decision. We will plot the output of each node for all values of the inputs (duration,temp). Each unit is a logistic function whose output can range from zero to one. The shading in the graph represents the output value."
      ],
      "metadata": {
        "id": "m3EPQlrucqU9"
      }
    }
  ]
}