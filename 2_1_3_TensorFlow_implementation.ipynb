{
  "nbformat": 4,
  "nbformat_minor": 0,
  "metadata": {
    "colab": {
      "provenance": [],
      "toc_visible": true,
      "authorship_tag": "ABX9TyN2LGGzXgHrnQw8FtsF9UE0",
      "include_colab_link": true
    },
    "kernelspec": {
      "name": "python3",
      "display_name": "Python 3"
    },
    "language_info": {
      "name": "python"
    }
  },
  "cells": [
    {
      "cell_type": "markdown",
      "metadata": {
        "id": "view-in-github",
        "colab_type": "text"
      },
      "source": [
        "<a href=\"https://colab.research.google.com/github/PaulToronto/Stanford-Andrew-Ng-Machine-Learning-Specialization/blob/main/2_1_3_TensorFlow_implementation.ipynb\" target=\"_parent\"><img src=\"https://colab.research.google.com/assets/colab-badge.svg\" alt=\"Open In Colab\"/></a>"
      ]
    },
    {
      "cell_type": "markdown",
      "source": [
        "# 2.1.3 TensorFlow implementation"
      ],
      "metadata": {
        "id": "hqvQUv56tSWE"
      }
    },
    {
      "cell_type": "markdown",
      "source": [
        "## Imports"
      ],
      "metadata": {
        "id": "wbOb5EpptYfA"
      }
    },
    {
      "cell_type": "code",
      "execution_count": 1,
      "metadata": {
        "id": "2er_QELFtIet"
      },
      "outputs": [],
      "source": [
        "import numpy as np"
      ]
    },
    {
      "cell_type": "markdown",
      "source": [
        "## 2.1.3.1 Inference in Code"
      ],
      "metadata": {
        "id": "uSxm1s0YtaPl"
      }
    },
    {
      "cell_type": "markdown",
      "source": [
        "One of the remarkable things about neural networks is that the same algorithm can be applied to so many different applications"
      ],
      "metadata": {
        "id": "aYyHn4yrvGVb"
      }
    },
    {
      "cell_type": "markdown",
      "source": [
        "### Coffee Roasting Example\n",
        "\n",
        "- This is classification problem with two classes: good coffee and bad coffee\n",
        "- This is a simplified example, but there have been real projects using machine learning to optimize coffee roasting\n",
        "\n",
        "<img src='https://drive.google.com/uc?export=view&id=1vj4T81K1F-6sVk1qk5hBN9C_uydLpIrr'>\n",
        "\n",
        "- Task: given temperature 200 and duration 17, will we get good coffee or not?\n",
        "\n",
        "Given:\n",
        "\n",
        "$$\n",
        "\\vec{x} = \\begin{bmatrix}200 \\\\ 17\\end{bmatrix}\n",
        "$$\n",
        "\n",
        "Determine: $\\widehat{y} = 1$ (good coffee) or $\\widehat{y} = 0$ (bad coffee)\n",
        "\n",
        "<img src='https://drive.google.com/uc?export=view&id=1q41OMoxQF25yw5IsrpKuejmzu4BXB7se'>\n",
        "\n",
        "- these are the key steps to forward propagation\n",
        "\n",
        "  "
      ],
      "metadata": {
        "id": "N6zqP17nvWyM"
      }
    },
    {
      "cell_type": "markdown",
      "source": [
        "### Model for digit classification\n",
        "\n",
        "<img src='https://drive.google.com/uc?export=view&id=11lAGLR3geOaPtgtgds2F1h65lMSgTnWW'>\n",
        "\n",
        "- $\\vec{x}$ is a list of the pixel intensity values"
      ],
      "metadata": {
        "id": "hEwJvcqf197-"
      }
    },
    {
      "cell_type": "markdown",
      "source": [
        "## 2.1.3.2 Data in TensorFlow\n",
        "\n",
        "- For historical reasons, there are some inconsistencies between how data is represented in `numpy` and `TensorFlow`\n",
        "- TensorFlow was designed to handle very large datasets and by representing the data as matrices instead of 1D arrays, which enables TensorFlow to be a bit more computationally efficient internally"
      ],
      "metadata": {
        "id": "XSsKfYjn5yw6"
      }
    },
    {
      "cell_type": "markdown",
      "source": [
        "### How `TensorFlow` represents data\n",
        "\n",
        "<img src='https://drive.google.com/uc?export=view&id=1lyizo54f-gcGrvZOrCkysPyUyT-HQOZb'>"
      ],
      "metadata": {
        "id": "C1Lqo24k7TJA"
      }
    },
    {
      "cell_type": "code",
      "source": [
        "# feature vector\n",
        "# 1 X 2 matrix\n",
        "x = np.array([[200.0, 17.0]])\n",
        "x, x.shape"
      ],
      "metadata": {
        "colab": {
          "base_uri": "https://localhost:8080/"
        },
        "id": "4mlyDDpp7sce",
        "outputId": "5a254dd8-9b2c-4f1a-a8c7-2ce4205bad82"
      },
      "execution_count": 2,
      "outputs": [
        {
          "output_type": "execute_result",
          "data": {
            "text/plain": [
              "(array([[200.,  17.]]), (1, 2))"
            ]
          },
          "metadata": {},
          "execution_count": 2
        }
      ]
    },
    {
      "cell_type": "code",
      "source": [
        "# alternate feature vector\n",
        "# 1 X 2 matrix\n",
        "x = np.array([200.0, 17.0]).reshape(1, -1)\n",
        "x, x.shape"
      ],
      "metadata": {
        "colab": {
          "base_uri": "https://localhost:8080/"
        },
        "id": "1qJKGJ-D_NHH",
        "outputId": "7ffc4700-460d-4f13-f755-fda426979576"
      },
      "execution_count": 3,
      "outputs": [
        {
          "output_type": "execute_result",
          "data": {
            "text/plain": [
              "(array([[200.,  17.]]), (1, 2))"
            ]
          },
          "metadata": {},
          "execution_count": 3
        }
      ]
    },
    {
      "cell_type": "code",
      "source": [
        "# not a 2D array\n",
        "# not a matrix\n",
        "# this is a 1D array with\n",
        "# a 1D \"vector\" with no rows or columns\n",
        "x = np.array([200.0, 17.0])\n",
        "x, x.shape"
      ],
      "metadata": {
        "colab": {
          "base_uri": "https://localhost:8080/"
        },
        "id": "GVSrX-NP_JuF",
        "outputId": "b3c76fa4-d9f6-4830-f0e2-ed386859eb29"
      },
      "execution_count": 4,
      "outputs": [
        {
          "output_type": "execute_result",
          "data": {
            "text/plain": [
              "(array([200.,  17.]), (2,))"
            ]
          },
          "metadata": {},
          "execution_count": 4
        }
      ]
    },
    {
      "cell_type": "markdown",
      "source": [
        "- Why the double square brackets in the feature vector?\n",
        "    - Because we need a **matrix** which is a 2D array"
      ],
      "metadata": {
        "id": "KPqqFD4_8iAK"
      }
    },
    {
      "cell_type": "markdown",
      "source": [
        "### Some of the code for carrying out forward propagation\n",
        "\n",
        "#### First layer\n",
        "\n",
        "<img src='https://drive.google.com/uc?export=view&id=1ScnwOI2iNkC2tPXNjj-RiJzxAHqe6FPM'>\n",
        "\n",
        "- What is `a1`?\n",
        " - it is a $1 \\times 3$ matrix:\n",
        " - `tf.Tensor([[0.2 0.7 0.3]], shape=(1, 3), dtype=float32)`\n",
        " - a **Tensor** is a data type created to store and carry out computations on matrices efficiently\n",
        " - in this course it is ok to think of a tensor as a matrix\n",
        " - technically, a tensor is a little bit more general than a matrix\n",
        "- a tensor can be coverted to a `numpy` array\n",
        " - `a1.numpy()`\n",
        "\n",
        "#### Second layer\n",
        "\n",
        "<img src='https://drive.google.com/uc?export=view&id=1NGpxy9kmOGGLN7FkiLMl1wkKkIDaeleZ'>\n",
        "\n",
        "- `a2` is a number, but it is represented by a $1 \\times 1$ matrix\n"
      ],
      "metadata": {
        "id": "dih2ZcDTFiNn"
      }
    },
    {
      "cell_type": "markdown",
      "source": [
        "## 2.1.3.3 Building a neural network\n",
        "\n",
        "### One layer at time\n",
        "\n",
        "<img src='https://drive.google.com/uc?export=view&id=1BUtqc_y5uY99etlz5ZwH8KEioxecQwp4'>\n",
        "\n",
        "### Using `Sequential`\n",
        "\n",
        "<img src='https://drive.google.com/uc?export=view&id=1ngKVbPXzILpqC7Ileohtu5GmVz2_V1RW'>\n",
        "\n",
        "Alternately:\n",
        "\n",
        "<img src='https://drive.google.com/uc?export=view&id=1qgnKKrOWxVlEfGmcRFHS9g0Bke2C01s5'>\n",
        "\n",
        "- to find `a2`: `model.predict(x_new)`\n",
        "\n",
        "\n",
        "### Training: more on this next week\n",
        "\n",
        "<img src='https://drive.google.com/uc?export=view&id=1jswiQTa1W42oancLunvcfsFJRkJ_Cjyr'>\n",
        "\n",
        "\n"
      ],
      "metadata": {
        "id": "nmaRIbfgKYka"
      }
    },
    {
      "cell_type": "markdown",
      "source": [
        "### Digit classification example\n",
        "\n",
        "<img src='https://drive.google.com/uc?export=view&id=11O7Y2f7JesY-bSGrp5hNahGBEdFLmDmH'>"
      ],
      "metadata": {
        "id": "3ePk9F3RQUZ4"
      }
    },
    {
      "cell_type": "markdown",
      "source": [
        "## 2.1.3.4 Lab - Coffee Roasting in TensorFlow\n",
        "\n",
        "https://colab.research.google.com/drive/1soMCVgYzFMbOBbfWvTPBqfyK3C2N6svP"
      ],
      "metadata": {
        "id": "DdwoxzxERadk"
      }
    }
  ]
}