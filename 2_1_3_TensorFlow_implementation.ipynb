{
  "nbformat": 4,
  "nbformat_minor": 0,
  "metadata": {
    "colab": {
      "provenance": [],
      "toc_visible": true,
      "authorship_tag": "ABX9TyNUC1kxUyn9JeiPJnZEPN5j",
      "include_colab_link": true
    },
    "kernelspec": {
      "name": "python3",
      "display_name": "Python 3"
    },
    "language_info": {
      "name": "python"
    }
  },
  "cells": [
    {
      "cell_type": "markdown",
      "metadata": {
        "id": "view-in-github",
        "colab_type": "text"
      },
      "source": [
        "<a href=\"https://colab.research.google.com/github/PaulToronto/Stanford-Andrew-Ng-Machine-Learning-Specialization/blob/main/2_1_3_TensorFlow_implementation.ipynb\" target=\"_parent\"><img src=\"https://colab.research.google.com/assets/colab-badge.svg\" alt=\"Open In Colab\"/></a>"
      ]
    },
    {
      "cell_type": "markdown",
      "source": [
        "# 2.1.3 TensorFlow implementation"
      ],
      "metadata": {
        "id": "hqvQUv56tSWE"
      }
    },
    {
      "cell_type": "markdown",
      "source": [
        "## Imports"
      ],
      "metadata": {
        "id": "wbOb5EpptYfA"
      }
    },
    {
      "cell_type": "code",
      "execution_count": 1,
      "metadata": {
        "id": "2er_QELFtIet"
      },
      "outputs": [],
      "source": [
        "import numpy as np\n",
        "import tensorflow as tf\n",
        "from tensorflow.keras.models import Sequential\n",
        "from tensorflow.keras.layers import Dense"
      ]
    },
    {
      "cell_type": "markdown",
      "source": [
        "## 2.1.3.1 Inference in Code"
      ],
      "metadata": {
        "id": "uSxm1s0YtaPl"
      }
    },
    {
      "cell_type": "markdown",
      "source": [
        "One of the remarkable things about neural networks is that the same algorithm can be applied to so many different applications"
      ],
      "metadata": {
        "id": "aYyHn4yrvGVb"
      }
    },
    {
      "cell_type": "markdown",
      "source": [
        "### Coffee Roasting Example\n",
        "\n",
        "- This is classification problem with two classes: good coffee and bad coffee\n",
        "- This is a simplified example, but there have been real projects using machine learning to optimize coffee roasting\n",
        "\n",
        "<img src='https://drive.google.com/uc?export=view&id=1vj4T81K1F-6sVk1qk5hBN9C_uydLpIrr'>\n",
        "\n",
        "- Task: given temperature 200 and duration 17, will we get good coffee or not?\n",
        "\n",
        "Given:\n",
        "\n",
        "$$\n",
        "\\vec{x} = \\begin{bmatrix}200 \\\\ 17\\end{bmatrix}\n",
        "$$\n",
        "\n",
        "Determine: $\\widehat{y} = 1$ (good coffee) or $\\widehat{y} = 0$ (bad coffee)\n",
        "\n",
        "<img src='https://drive.google.com/uc?export=view&id=1q41OMoxQF25yw5IsrpKuejmzu4BXB7se'>\n",
        "\n",
        "- these are the key steps to forward propagation\n",
        "\n",
        "  "
      ],
      "metadata": {
        "id": "N6zqP17nvWyM"
      }
    },
    {
      "cell_type": "code",
      "source": [
        "x = np.array([[200.0, 17.0]])\n",
        "layer_1 = tf.keras.layers.Dense(units=3, activation='sigmoid')\n",
        "layer_1"
      ],
      "metadata": {
        "colab": {
          "base_uri": "https://localhost:8080/"
        },
        "id": "jFCfJbM9E7In",
        "outputId": "0189022a-f040-4f75-a20b-06de9b635f16"
      },
      "execution_count": 2,
      "outputs": [
        {
          "output_type": "execute_result",
          "data": {
            "text/plain": [
              "<keras.src.layers.core.dense.Dense at 0x7c06c9392b00>"
            ]
          },
          "metadata": {},
          "execution_count": 2
        }
      ]
    },
    {
      "cell_type": "code",
      "source": [
        "a1 = layer_1(x)\n",
        "a1"
      ],
      "metadata": {
        "colab": {
          "base_uri": "https://localhost:8080/"
        },
        "id": "fo_UH0cxFNVC",
        "outputId": "febc1883-b866-4708-f5d0-27eb114bd61b"
      },
      "execution_count": 3,
      "outputs": [
        {
          "output_type": "execute_result",
          "data": {
            "text/plain": [
              "<tf.Tensor: shape=(1, 3), dtype=float32, numpy=array([[1., 1., 1.]], dtype=float32)>"
            ]
          },
          "metadata": {},
          "execution_count": 3
        }
      ]
    },
    {
      "cell_type": "code",
      "source": [
        "a1.numpy()"
      ],
      "metadata": {
        "colab": {
          "base_uri": "https://localhost:8080/"
        },
        "id": "142d4N_lF7SI",
        "outputId": "0cba6288-49a1-4349-a9d7-a13303c0fb77"
      },
      "execution_count": 4,
      "outputs": [
        {
          "output_type": "execute_result",
          "data": {
            "text/plain": [
              "array([[1., 1., 1.]], dtype=float32)"
            ]
          },
          "metadata": {},
          "execution_count": 4
        }
      ]
    },
    {
      "cell_type": "code",
      "source": [
        "a1.shape"
      ],
      "metadata": {
        "colab": {
          "base_uri": "https://localhost:8080/"
        },
        "id": "6HEETSrsFd7O",
        "outputId": "d9a1ab4f-158f-4cad-c08d-45b7cae9fbd5"
      },
      "execution_count": 5,
      "outputs": [
        {
          "output_type": "execute_result",
          "data": {
            "text/plain": [
              "TensorShape([1, 3])"
            ]
          },
          "metadata": {},
          "execution_count": 5
        }
      ]
    },
    {
      "cell_type": "code",
      "source": [
        "layer_2 = tf.keras.layers.Dense(units=1, activation='sigmoid')"
      ],
      "metadata": {
        "id": "7JBCcviYFW9Z"
      },
      "execution_count": 6,
      "outputs": []
    },
    {
      "cell_type": "code",
      "source": [
        "a2 = layer_2(a1)\n",
        "a2"
      ],
      "metadata": {
        "colab": {
          "base_uri": "https://localhost:8080/"
        },
        "id": "e5U0A8cTFdXQ",
        "outputId": "1d9a7560-be4c-4bf5-ca91-1c355ace0360"
      },
      "execution_count": 7,
      "outputs": [
        {
          "output_type": "execute_result",
          "data": {
            "text/plain": [
              "<tf.Tensor: shape=(1, 1), dtype=float32, numpy=array([[0.86750245]], dtype=float32)>"
            ]
          },
          "metadata": {},
          "execution_count": 7
        }
      ]
    },
    {
      "cell_type": "code",
      "source": [
        "a2.numpy()"
      ],
      "metadata": {
        "colab": {
          "base_uri": "https://localhost:8080/"
        },
        "id": "8v-KBrxqFyHw",
        "outputId": "99633fa8-84a2-4e07-f903-872ddae276e4"
      },
      "execution_count": 8,
      "outputs": [
        {
          "output_type": "execute_result",
          "data": {
            "text/plain": [
              "array([[0.86750245]], dtype=float32)"
            ]
          },
          "metadata": {},
          "execution_count": 8
        }
      ]
    },
    {
      "cell_type": "code",
      "source": [
        "# alternately\n",
        "model = Sequential([\n",
        "    layer_1,\n",
        "    layer_2\n",
        "])\n",
        "\n",
        "model"
      ],
      "metadata": {
        "colab": {
          "base_uri": "https://localhost:8080/"
        },
        "id": "fIwafNeXMh6X",
        "outputId": "aefffcbe-ab41-450f-b7ab-0bc44cf17b2a"
      },
      "execution_count": 9,
      "outputs": [
        {
          "output_type": "execute_result",
          "data": {
            "text/plain": [
              "<keras.src.engine.sequential.Sequential at 0x7c07582043d0>"
            ]
          },
          "metadata": {},
          "execution_count": 9
        }
      ]
    },
    {
      "cell_type": "code",
      "source": [
        "# this is the same value we got above\n",
        "#  using `a2.numpy()`\n",
        "model.predict(x)"
      ],
      "metadata": {
        "colab": {
          "base_uri": "https://localhost:8080/"
        },
        "id": "U0euiKTLMq7e",
        "outputId": "213f2bd8-9643-42d8-e0b8-cd5f2f7b8e07"
      },
      "execution_count": 10,
      "outputs": [
        {
          "output_type": "stream",
          "name": "stdout",
          "text": [
            "1/1 [==============================] - 0s 212ms/step\n"
          ]
        },
        {
          "output_type": "execute_result",
          "data": {
            "text/plain": [
              "array([[0.86750245]], dtype=float32)"
            ]
          },
          "metadata": {},
          "execution_count": 10
        }
      ]
    },
    {
      "cell_type": "markdown",
      "source": [
        "### Model for digit classification\n",
        "\n",
        "<img src='https://drive.google.com/uc?export=view&id=11lAGLR3geOaPtgtgds2F1h65lMSgTnWW'>\n",
        "\n",
        "- $\\vec{x}$ is a list of the pixel intensity values"
      ],
      "metadata": {
        "id": "hEwJvcqf197-"
      }
    },
    {
      "cell_type": "markdown",
      "source": [
        "## 2.1.3.2 Data in TensorFlow\n",
        "\n",
        "- For historical reasons, there are some inconsistencies between how data is represented in `numpy` and `TensorFlow`\n",
        "- TensorFlow was designed to handle very large datasets and by representing the data as matrices instead of 1D arrays, which enables TensorFlow to be a bit more computationally efficient internally"
      ],
      "metadata": {
        "id": "XSsKfYjn5yw6"
      }
    },
    {
      "cell_type": "markdown",
      "source": [
        "### How `TensorFlow` represents data\n",
        "\n",
        "<img src='https://drive.google.com/uc?export=view&id=1lyizo54f-gcGrvZOrCkysPyUyT-HQOZb'>"
      ],
      "metadata": {
        "id": "C1Lqo24k7TJA"
      }
    },
    {
      "cell_type": "code",
      "source": [
        "# feature vector\n",
        "# 1 X 2 matrix\n",
        "x = np.array([[200.0, 17.0]])\n",
        "x, x.shape"
      ],
      "metadata": {
        "colab": {
          "base_uri": "https://localhost:8080/"
        },
        "id": "4mlyDDpp7sce",
        "outputId": "a8a2f68c-4b87-4687-92f4-03ed483cd6a6"
      },
      "execution_count": 11,
      "outputs": [
        {
          "output_type": "execute_result",
          "data": {
            "text/plain": [
              "(array([[200.,  17.]]), (1, 2))"
            ]
          },
          "metadata": {},
          "execution_count": 11
        }
      ]
    },
    {
      "cell_type": "code",
      "source": [
        "# alternate feature vector\n",
        "# 1 X 2 matrix\n",
        "x = np.array([200.0, 17.0]).reshape(1, -1)\n",
        "x, x.shape"
      ],
      "metadata": {
        "colab": {
          "base_uri": "https://localhost:8080/"
        },
        "id": "1qJKGJ-D_NHH",
        "outputId": "594691b6-e135-4dc7-91c8-7571301b75a7"
      },
      "execution_count": 12,
      "outputs": [
        {
          "output_type": "execute_result",
          "data": {
            "text/plain": [
              "(array([[200.,  17.]]), (1, 2))"
            ]
          },
          "metadata": {},
          "execution_count": 12
        }
      ]
    },
    {
      "cell_type": "code",
      "source": [
        "# not a 2D array\n",
        "# not a matrix\n",
        "# this is a 1D array with\n",
        "# a 1D \"vector\" with no rows or columns\n",
        "x = np.array([200.0, 17.0])\n",
        "x, x.shape"
      ],
      "metadata": {
        "colab": {
          "base_uri": "https://localhost:8080/"
        },
        "id": "GVSrX-NP_JuF",
        "outputId": "a0c2758e-0656-41e3-bca0-b3d72a472a43"
      },
      "execution_count": 13,
      "outputs": [
        {
          "output_type": "execute_result",
          "data": {
            "text/plain": [
              "(array([200.,  17.]), (2,))"
            ]
          },
          "metadata": {},
          "execution_count": 13
        }
      ]
    },
    {
      "cell_type": "markdown",
      "source": [
        "- Why the double square brackets in the feature vector?\n",
        "    - Because we need a **matrix** which is a 2D array"
      ],
      "metadata": {
        "id": "KPqqFD4_8iAK"
      }
    },
    {
      "cell_type": "markdown",
      "source": [
        "### Some of the code for carrying out forward propagation\n",
        "\n",
        "#### First layer\n",
        "\n",
        "<img src='https://drive.google.com/uc?export=view&id=1ScnwOI2iNkC2tPXNjj-RiJzxAHqe6FPM'>\n",
        "\n",
        "- What is `a1`?\n",
        " - it is a $1 \\times 3$ matrix:\n",
        " - `tf.Tensor([[0.2 0.7 0.3]], shape=(1, 3), dtype=float32)`\n",
        " - a **Tensor** is a data type created to store and carry out computations on matrices efficiently\n",
        " - in this course it is ok to think of a tensor as a matrix\n",
        " - technically, a tensor is a little bit more general than a matrix\n",
        "- a tensor can be coverted to a `numpy` array\n",
        " - `a1.numpy()`\n",
        "\n",
        "#### Second layer\n",
        "\n",
        "<img src='https://drive.google.com/uc?export=view&id=1NGpxy9kmOGGLN7FkiLMl1wkKkIDaeleZ'>\n",
        "\n",
        "- `a2` is a number, but it is represented by a $1 \\times 1$ matrix\n"
      ],
      "metadata": {
        "id": "dih2ZcDTFiNn"
      }
    },
    {
      "cell_type": "markdown",
      "source": [
        "## 2.1.3.3 Building a neural network\n",
        "\n",
        "### Forward Propagation: One layer at time\n",
        "\n",
        "<img src='https://drive.google.com/uc?export=view&id=1BUtqc_y5uY99etlz5ZwH8KEioxecQwp4'>\n",
        "\n",
        "### Forward Progagation: Using `Sequential`\n",
        "\n",
        "<img src='https://drive.google.com/uc?export=view&id=1ngKVbPXzILpqC7Ileohtu5GmVz2_V1RW'>\n",
        "\n",
        "Alternately:\n",
        "\n",
        "<img src='https://drive.google.com/uc?export=view&id=1qgnKKrOWxVlEfGmcRFHS9g0Bke2C01s5'>\n",
        "\n",
        "- to find `a2`: `model.predict(x_new)`\n",
        "- `model.predict` carries out forward propagation\n",
        "\n",
        "\n",
        "### Training: more on this next week\n",
        "\n",
        "<img src='https://drive.google.com/uc?export=view&id=1jswiQTa1W42oancLunvcfsFJRkJ_Cjyr'>\n",
        "\n",
        "\n"
      ],
      "metadata": {
        "id": "nmaRIbfgKYka"
      }
    },
    {
      "cell_type": "code",
      "source": [
        "x = np.array([[200.0, 17.0],\n",
        "              [120.0, 5.0],\n",
        "              [425.0, 20.0],\n",
        "              [212.0, 180.]])\n",
        "y = np.array([1, 0, 0, 1])"
      ],
      "metadata": {
        "id": "lHsieemsISkN"
      },
      "execution_count": 14,
      "outputs": []
    },
    {
      "cell_type": "code",
      "source": [
        "model = Sequential([\n",
        "    Dense(units=3, activation='sigmoid'),\n",
        "    Dense(units=1, activation='sigmoid')\n",
        "])\n",
        "\n",
        "model"
      ],
      "metadata": {
        "colab": {
          "base_uri": "https://localhost:8080/"
        },
        "id": "7orD3MiXIx5i",
        "outputId": "e7464d23-4cd8-4a83-f833-07a679d7d16b"
      },
      "execution_count": 15,
      "outputs": [
        {
          "output_type": "execute_result",
          "data": {
            "text/plain": [
              "<keras.src.engine.sequential.Sequential at 0x7c06c56ab8b0>"
            ]
          },
          "metadata": {},
          "execution_count": 15
        }
      ]
    },
    {
      "cell_type": "code",
      "source": [
        "model.layers[1]"
      ],
      "metadata": {
        "colab": {
          "base_uri": "https://localhost:8080/"
        },
        "id": "FbpQd9VzJ7c9",
        "outputId": "b24851bd-5c91-4a62-dabf-c1423bd63098"
      },
      "execution_count": 16,
      "outputs": [
        {
          "output_type": "execute_result",
          "data": {
            "text/plain": [
              "<keras.src.layers.core.dense.Dense at 0x7c06c56aa9b0>"
            ]
          },
          "metadata": {},
          "execution_count": 16
        }
      ]
    },
    {
      "cell_type": "code",
      "source": [
        "model.get_layer(index=1)"
      ],
      "metadata": {
        "colab": {
          "base_uri": "https://localhost:8080/"
        },
        "id": "7I3w_2dzKJCi",
        "outputId": "64abbfa4-9036-4d9d-c3e0-2001c3cc2f94"
      },
      "execution_count": 17,
      "outputs": [
        {
          "output_type": "execute_result",
          "data": {
            "text/plain": [
              "<keras.src.layers.core.dense.Dense at 0x7c06c56aa9b0>"
            ]
          },
          "metadata": {},
          "execution_count": 17
        }
      ]
    },
    {
      "cell_type": "code",
      "source": [
        "# model.predict carries out forward propagation\n",
        "model.predict(x)"
      ],
      "metadata": {
        "colab": {
          "base_uri": "https://localhost:8080/"
        },
        "id": "JBLI18q0TVz7",
        "outputId": "7daf264b-1f10-41ca-cebb-3f2d3f864b94"
      },
      "execution_count": 18,
      "outputs": [
        {
          "output_type": "stream",
          "name": "stdout",
          "text": [
            "1/1 [==============================] - 0s 203ms/step\n"
          ]
        },
        {
          "output_type": "execute_result",
          "data": {
            "text/plain": [
              "array([[0.62837833],\n",
              "       [0.62837833],\n",
              "       [0.62837833],\n",
              "       [0.5706036 ]], dtype=float32)"
            ]
          },
          "metadata": {},
          "execution_count": 18
        }
      ]
    },
    {
      "cell_type": "markdown",
      "source": [
        "### Digit classification example\n",
        "\n",
        "<img src='https://drive.google.com/uc?export=view&id=11O7Y2f7JesY-bSGrp5hNahGBEdFLmDmH'>"
      ],
      "metadata": {
        "id": "3ePk9F3RQUZ4"
      }
    },
    {
      "cell_type": "markdown",
      "source": [
        "## 2.1.3.4 Lab - Coffee Roasting in TensorFlow\n",
        "\n",
        "https://colab.research.google.com/drive/1soMCVgYzFMbOBbfWvTPBqfyK3C2N6svP"
      ],
      "metadata": {
        "id": "DdwoxzxERadk"
      }
    }
  ]
}