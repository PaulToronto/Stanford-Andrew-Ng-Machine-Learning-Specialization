{
  "nbformat": 4,
  "nbformat_minor": 0,
  "metadata": {
    "colab": {
      "provenance": [],
      "toc_visible": true,
      "authorship_tag": "ABX9TyOETywgdv4tuN7xZdizuSLZ",
      "include_colab_link": true
    },
    "kernelspec": {
      "name": "python3",
      "display_name": "Python 3"
    },
    "language_info": {
      "name": "python"
    }
  },
  "cells": [
    {
      "cell_type": "markdown",
      "metadata": {
        "id": "view-in-github",
        "colab_type": "text"
      },
      "source": [
        "<a href=\"https://colab.research.google.com/github/PaulToronto/Stanford-Andrew-Ng-Machine-Learning-Specialization/blob/main/2_1_4_Neural_network_implementation_in_Python.ipynb\" target=\"_parent\"><img src=\"https://colab.research.google.com/assets/colab-badge.svg\" alt=\"Open In Colab\"/></a>"
      ]
    },
    {
      "cell_type": "markdown",
      "source": [
        "2.1.4 Neural network implementation in Python"
      ],
      "metadata": {
        "id": "Ev1293EmtYx_"
      }
    },
    {
      "cell_type": "markdown",
      "source": [
        "## Imports"
      ],
      "metadata": {
        "id": "mKsQwmimta9G"
      }
    },
    {
      "cell_type": "code",
      "execution_count": 1,
      "metadata": {
        "id": "UqwNDXxstK4g"
      },
      "outputs": [],
      "source": [
        "import numpy as np\n",
        "import sympy as sym"
      ]
    },
    {
      "cell_type": "markdown",
      "source": [
        "## Functions"
      ],
      "metadata": {
        "id": "q5HXDj3-u8A5"
      }
    },
    {
      "cell_type": "code",
      "source": [
        "def sigmoid(z):\n",
        "    \"\"\"\n",
        "    Compute the sigmoid of z\n",
        "\n",
        "    Parameters\n",
        "    ----------\n",
        "    z : array_like\n",
        "        A scalar or numpy array of any size.\n",
        "\n",
        "    Returns\n",
        "    -------\n",
        "     g : array_like\n",
        "         sigmoid(z)\n",
        "    \"\"\"\n",
        "    z = np.clip( z, -500, 500 )           # protect against overflow\n",
        "    g = 1.0/(1.0+np.exp(-z))\n",
        "\n",
        "    return g"
      ],
      "metadata": {
        "id": "aRPbhq4Ju9qZ"
      },
      "execution_count": 2,
      "outputs": []
    },
    {
      "cell_type": "code",
      "source": [
        "def sigmoid_sym(z):\n",
        "    g = 1.0 / (1.0 + sym.exp(-z))\n",
        "    return g"
      ],
      "metadata": {
        "id": "-RW-FlEFzX6J"
      },
      "execution_count": 3,
      "outputs": []
    },
    {
      "cell_type": "markdown",
      "source": [
        "## 2.1.4.1 Forward propagation in a single layer"
      ],
      "metadata": {
        "id": "G2REgwz7tdbQ"
      }
    },
    {
      "cell_type": "markdown",
      "source": [
        "<img src='https://drive.google.com/uc?export=view&id=1bQM09Ig8jsDJnBVZ9KMxC4ewS7zjK7a2'>"
      ],
      "metadata": {
        "id": "wNDR10hEosz4"
      }
    },
    {
      "cell_type": "markdown",
      "source": [
        "## 2.1.4.2 General implementation of forward propagation\n",
        "\n",
        "<img src='https://drive.google.com/uc?export=view&id=112RqxSFHvBDl-KHCbw9-2gKRVo87MASs'>"
      ],
      "metadata": {
        "id": "2H1e52WZpQNV"
      }
    },
    {
      "cell_type": "code",
      "source": [
        "a_in = np.array([-2, 4])\n",
        "W = np.array([[1, -3, 5],\n",
        "              [2, 4, -6]])\n",
        "b = np.array([-1, 1, 2])"
      ],
      "metadata": {
        "id": "T5vcuWp8sjzx"
      },
      "execution_count": 4,
      "outputs": []
    },
    {
      "cell_type": "code",
      "source": [
        "def dense(a_in, W, b):\n",
        "    units = W.shape[1]\n",
        "    a_out = np.zeros(units)\n",
        "    for j in range(units):\n",
        "        w = W[:, j]\n",
        "        z = np.dot(w, a_in) + b[j]\n",
        "        a_out[j] = sigmoid(z)\n",
        "\n",
        "    return a_out\n",
        "\n",
        "dense(a_in, W, b)"
      ],
      "metadata": {
        "colab": {
          "base_uri": "https://localhost:8080/"
        },
        "id": "g87BKlOKtBeF",
        "outputId": "f9877e1b-f092-4921-c034-71c5b3eea2c8"
      },
      "execution_count": 5,
      "outputs": [
        {
          "output_type": "execute_result",
          "data": {
            "text/plain": [
              "array([9.93307149e-01, 1.00000000e+00, 1.26641655e-14])"
            ]
          },
          "metadata": {},
          "execution_count": 5
        }
      ]
    },
    {
      "cell_type": "markdown",
      "source": [
        "### Implementation in `sympy`"
      ],
      "metadata": {
        "id": "AGlfeJ6nvxKk"
      }
    },
    {
      "cell_type": "code",
      "source": [
        "a1, a2 = sym.symbols('a_1 a_2')\n",
        "wa, wb, wc, wd, we, wf = sym.symbols('w_a w_b w_c w_d w_e w_f')\n",
        "b1, b2, b3 = sym.symbols('b_1 b_2 b_3')"
      ],
      "metadata": {
        "id": "iR8wavNgv002"
      },
      "execution_count": 6,
      "outputs": []
    },
    {
      "cell_type": "code",
      "source": [
        "a_in = sym.Matrix([a1, a2])\n",
        "a_in"
      ],
      "metadata": {
        "colab": {
          "base_uri": "https://localhost:8080/",
          "height": 58
        },
        "id": "8MYVnfwTxSUA",
        "outputId": "22766551-fba5-426b-f8f3-3c7d7bd9bfa3"
      },
      "execution_count": 7,
      "outputs": [
        {
          "output_type": "execute_result",
          "data": {
            "text/plain": [
              "Matrix([\n",
              "[a_1],\n",
              "[a_2]])"
            ],
            "text/latex": "$\\displaystyle \\left[\\begin{matrix}a_{1}\\\\a_{2}\\end{matrix}\\right]$"
          },
          "metadata": {},
          "execution_count": 7
        }
      ]
    },
    {
      "cell_type": "code",
      "source": [
        "W = sym.Matrix([[wa, wc, we],\n",
        "                [wb, wd, wf]])\n",
        "W"
      ],
      "metadata": {
        "colab": {
          "base_uri": "https://localhost:8080/",
          "height": 58
        },
        "id": "DnOnyDo-xbC2",
        "outputId": "6d9e0838-dd52-4f7c-aaf9-19f0e553bf75"
      },
      "execution_count": 8,
      "outputs": [
        {
          "output_type": "execute_result",
          "data": {
            "text/plain": [
              "Matrix([\n",
              "[w_a, w_c, w_e],\n",
              "[w_b, w_d, w_f]])"
            ],
            "text/latex": "$\\displaystyle \\left[\\begin{matrix}w_{a} & w_{c} & w_{e}\\\\w_{b} & w_{d} & w_{f}\\end{matrix}\\right]$"
          },
          "metadata": {},
          "execution_count": 8
        }
      ]
    },
    {
      "cell_type": "code",
      "source": [
        "b = sym.Matrix([b1, b2, b3])\n",
        "b"
      ],
      "metadata": {
        "colab": {
          "base_uri": "https://localhost:8080/",
          "height": 78
        },
        "id": "To2f-z5Qxkx4",
        "outputId": "a768d755-474f-4bf6-a109-798eeb6c21c3"
      },
      "execution_count": 9,
      "outputs": [
        {
          "output_type": "execute_result",
          "data": {
            "text/plain": [
              "Matrix([\n",
              "[b_1],\n",
              "[b_2],\n",
              "[b_3]])"
            ],
            "text/latex": "$\\displaystyle \\left[\\begin{matrix}b_{1}\\\\b_{2}\\\\b_{3}\\end{matrix}\\right]$"
          },
          "metadata": {},
          "execution_count": 9
        }
      ]
    },
    {
      "cell_type": "code",
      "source": [
        "def dense_sym(a_in, W, b):\n",
        "    units = W.shape[1]\n",
        "    a_out = sym.zeros(units, 1)\n",
        "    for j in range(units):\n",
        "        w = W[:, j]\n",
        "        z = w.dot(a_in) + b[j]\n",
        "        a_out[j] = sigmoid_sym(z)\n",
        "\n",
        "    return a_out\n",
        "\n",
        "dense_sym(a_in, W, b)"
      ],
      "metadata": {
        "colab": {
          "base_uri": "https://localhost:8080/",
          "height": 88
        },
        "id": "dEBHIGFsxuXe",
        "outputId": "211f6539-8032-41b4-c008-e0619d26db78"
      },
      "execution_count": 10,
      "outputs": [
        {
          "output_type": "execute_result",
          "data": {
            "text/plain": [
              "Matrix([\n",
              "[1.0/(exp(-a_1*w_a - a_2*w_b - b_1) + 1.0)],\n",
              "[1.0/(exp(-a_1*w_c - a_2*w_d - b_2) + 1.0)],\n",
              "[1.0/(exp(-a_1*w_e - a_2*w_f - b_3) + 1.0)]])"
            ],
            "text/latex": "$\\displaystyle \\left[\\begin{matrix}\\frac{1.0}{e^{- a_{1} w_{a} - a_{2} w_{b} - b_{1}} + 1.0}\\\\\\frac{1.0}{e^{- a_{1} w_{c} - a_{2} w_{d} - b_{2}} + 1.0}\\\\\\frac{1.0}{e^{- a_{1} w_{e} - a_{2} w_{f} - b_{3}} + 1.0}\\end{matrix}\\right]$"
          },
          "metadata": {},
          "execution_count": 10
        }
      ]
    },
    {
      "cell_type": "code",
      "source": [
        "a_in = sym.Matrix([-2, 4])\n",
        "W = sym.Matrix([[1, -3, 5],\n",
        "              [2, 4, -6]])\n",
        "b = sym.Matrix([-1, 1, 2])\n",
        "\n",
        "test = dense_sym(a_in, W, b)\n",
        "test"
      ],
      "metadata": {
        "colab": {
          "base_uri": "https://localhost:8080/",
          "height": 80
        },
        "id": "gZPR04LE0c4T",
        "outputId": "7adfb56f-c651-4a54-85d4-12681aff3fa0"
      },
      "execution_count": 11,
      "outputs": [
        {
          "output_type": "execute_result",
          "data": {
            "text/plain": [
              "Matrix([\n",
              "[ 1.0/(exp(-5) + 1.0)],\n",
              "[1.0/(exp(-23) + 1.0)],\n",
              "[ 1.0/(1.0 + exp(32))]])"
            ],
            "text/latex": "$\\displaystyle \\left[\\begin{matrix}\\frac{1.0}{e^{-5} + 1.0}\\\\\\frac{1.0}{e^{-23} + 1.0}\\\\\\frac{1.0}{1.0 + e^{32}}\\end{matrix}\\right]$"
          },
          "metadata": {},
          "execution_count": 11
        }
      ]
    },
    {
      "cell_type": "code",
      "source": [
        "for element in test:\n",
        "    print(element.evalf())"
      ],
      "metadata": {
        "colab": {
          "base_uri": "https://localhost:8080/"
        },
        "id": "2yUhQFNd09W0",
        "outputId": "b972e2c9-8e4d-4b98-d1f3-d4045350bfa4"
      },
      "execution_count": 12,
      "outputs": [
        {
          "output_type": "stream",
          "name": "stdout",
          "text": [
            "0.993307149075715\n",
            "0.999999999897381\n",
            "1.26641655490940e-14\n"
          ]
        }
      ]
    },
    {
      "cell_type": "code",
      "source": [
        "test.evalf()"
      ],
      "metadata": {
        "colab": {
          "base_uri": "https://localhost:8080/",
          "height": 78
        },
        "id": "mswDYPRH1VOI",
        "outputId": "d5e855b9-d966-4304-8ee9-8bb0e12f2594"
      },
      "execution_count": 13,
      "outputs": [
        {
          "output_type": "execute_result",
          "data": {
            "text/plain": [
              "Matrix([\n",
              "[  0.993307149075715],\n",
              "[  0.999999999897381],\n",
              "[1.2664165549094e-14]])"
            ],
            "text/latex": "$\\displaystyle \\left[\\begin{matrix}0.993307149075715\\\\0.999999999897381\\\\1.2664165549094 \\cdot 10^{-14}\\end{matrix}\\right]$"
          },
          "metadata": {},
          "execution_count": 13
        }
      ]
    },
    {
      "cell_type": "markdown",
      "source": [
        "## 2.1.4.3 Lab - Coffee Roasting in `numpy`\n",
        "\n",
        "https://colab.research.google.com/drive/1xZL0Akac8uVLiyYK4KS1HTAZZViGbNA-"
      ],
      "metadata": {
        "id": "LSHpznQS5hs_"
      }
    }
  ]
}