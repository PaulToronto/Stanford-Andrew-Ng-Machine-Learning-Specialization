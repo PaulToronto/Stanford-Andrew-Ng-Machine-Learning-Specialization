{
  "nbformat": 4,
  "nbformat_minor": 0,
  "metadata": {
    "colab": {
      "provenance": [],
      "toc_visible": true,
      "authorship_tag": "ABX9TyNl2VigB/rC42ohnWMtnOu1",
      "include_colab_link": true
    },
    "kernelspec": {
      "name": "python3",
      "display_name": "Python 3"
    },
    "language_info": {
      "name": "python"
    }
  },
  "cells": [
    {
      "cell_type": "markdown",
      "metadata": {
        "id": "view-in-github",
        "colab_type": "text"
      },
      "source": [
        "<a href=\"https://colab.research.google.com/github/PaulToronto/Stanford-Andrew-Ng-Machine-Learning-Specialization/blob/main/2_1_4_Neural_network_implementation_in_Python.ipynb\" target=\"_parent\"><img src=\"https://colab.research.google.com/assets/colab-badge.svg\" alt=\"Open In Colab\"/></a>"
      ]
    },
    {
      "cell_type": "markdown",
      "source": [
        "2.1.4 Neural network implementation in Python"
      ],
      "metadata": {
        "id": "Ev1293EmtYx_"
      }
    },
    {
      "cell_type": "markdown",
      "source": [
        "## Imports"
      ],
      "metadata": {
        "id": "mKsQwmimta9G"
      }
    },
    {
      "cell_type": "code",
      "execution_count": 1,
      "metadata": {
        "id": "UqwNDXxstK4g"
      },
      "outputs": [],
      "source": [
        "import numpy as np\n",
        "import sympy as sym"
      ]
    },
    {
      "cell_type": "markdown",
      "source": [
        "## Functions"
      ],
      "metadata": {
        "id": "q5HXDj3-u8A5"
      }
    },
    {
      "cell_type": "code",
      "source": [
        "def sigmoid(z):\n",
        "    \"\"\"\n",
        "    Compute the sigmoid of z\n",
        "\n",
        "    Parameters\n",
        "    ----------\n",
        "    z : array_like\n",
        "        A scalar or numpy array of any size.\n",
        "\n",
        "    Returns\n",
        "    -------\n",
        "     g : array_like\n",
        "         sigmoid(z)\n",
        "    \"\"\"\n",
        "    z = np.clip( z, -500, 500 )           # protect against overflow\n",
        "    g = 1.0/(1.0+np.exp(-z))\n",
        "\n",
        "    return g"
      ],
      "metadata": {
        "id": "aRPbhq4Ju9qZ"
      },
      "execution_count": 2,
      "outputs": []
    },
    {
      "cell_type": "code",
      "source": [
        "def sigmoid_sym(z):\n",
        "    g = 1.0 / (1.0 + sym.exp(-z))\n",
        "    return g"
      ],
      "metadata": {
        "id": "-RW-FlEFzX6J"
      },
      "execution_count": 3,
      "outputs": []
    },
    {
      "cell_type": "markdown",
      "source": [
        "## 2.1.4.1 Forward propagation in a single layer"
      ],
      "metadata": {
        "id": "G2REgwz7tdbQ"
      }
    },
    {
      "cell_type": "markdown",
      "source": [
        "<img src='https://drive.google.com/uc?export=view&id=1bQM09Ig8jsDJnBVZ9KMxC4ewS7zjK7a2'>"
      ],
      "metadata": {
        "id": "wNDR10hEosz4"
      }
    },
    {
      "cell_type": "markdown",
      "source": [
        "## 2.1.4.2 General implementation of forward propagation\n",
        "\n",
        "<img src='https://drive.google.com/uc?export=view&id=112RqxSFHvBDl-KHCbw9-2gKRVo87MASs'>"
      ],
      "metadata": {
        "id": "2H1e52WZpQNV"
      }
    },
    {
      "cell_type": "code",
      "source": [
        "a_in = np.array([-2, 4])\n",
        "W = np.array([[1, -3, 5],\n",
        "              [2, 4, -6]])\n",
        "b = np.array([-1, 1, 2])"
      ],
      "metadata": {
        "id": "T5vcuWp8sjzx"
      },
      "execution_count": 4,
      "outputs": []
    },
    {
      "cell_type": "code",
      "source": [
        "def dense(a_in, W, b):\n",
        "    units = W.shape[1]\n",
        "    a_out = np.zeros(units)\n",
        "    for j in range(units):\n",
        "        w = W[:, j]\n",
        "        z = np.dot(w, a_in) + b[j]\n",
        "        a_out[j] = sigmoid(z)\n",
        "\n",
        "    return a_out\n",
        "\n",
        "dense(a_in, W, b)"
      ],
      "metadata": {
        "colab": {
          "base_uri": "https://localhost:8080/"
        },
        "id": "g87BKlOKtBeF",
        "outputId": "9f185294-ef57-46f0-d8ad-2630f4aced52"
      },
      "execution_count": 5,
      "outputs": [
        {
          "output_type": "execute_result",
          "data": {
            "text/plain": [
              "array([9.93307149e-01, 1.00000000e+00, 1.26641655e-14])"
            ]
          },
          "metadata": {},
          "execution_count": 5
        }
      ]
    },
    {
      "cell_type": "code",
      "source": [
        "a_in = np.array([[-2],\n",
        "                 [4]]) # note this is a 2D array now\n",
        "\n",
        "W = np.array([[1, -3, 5],\n",
        "              [2, 4, -6]])\n",
        "b = np.array([[-1, 1, 2]]) # note this is a 2D array now"
      ],
      "metadata": {
        "id": "HW32BcA_JmQl"
      },
      "execution_count": 6,
      "outputs": []
    },
    {
      "cell_type": "code",
      "source": [
        "def dense_mat(a_in, W, b):\n",
        "    z = np.matmul(a_in.T, W) + b\n",
        "    a_out = sigmoid(z)\n",
        "    return a_out\n",
        "\n",
        "dense_mat(a_in, W, b)"
      ],
      "metadata": {
        "colab": {
          "base_uri": "https://localhost:8080/"
        },
        "id": "h2PZo3S3EcPS",
        "outputId": "a15ae15f-952f-456c-a135-10440bbb629a"
      },
      "execution_count": 7,
      "outputs": [
        {
          "output_type": "execute_result",
          "data": {
            "text/plain": [
              "array([[9.93307149e-01, 1.00000000e+00, 1.26641655e-14]])"
            ]
          },
          "metadata": {},
          "execution_count": 7
        }
      ]
    },
    {
      "cell_type": "markdown",
      "source": [
        "### Implementation in `sympy`"
      ],
      "metadata": {
        "id": "AGlfeJ6nvxKk"
      }
    },
    {
      "cell_type": "code",
      "source": [
        "a1, a2 = sym.symbols('a_1 a_2')\n",
        "wa, wb, wc, wd, we, wf = sym.symbols('w_a w_b w_c w_d w_e w_f')\n",
        "b1, b2, b3 = sym.symbols('b_1 b_2 b_3')"
      ],
      "metadata": {
        "id": "iR8wavNgv002"
      },
      "execution_count": 8,
      "outputs": []
    },
    {
      "cell_type": "code",
      "source": [
        "a_in = sym.Matrix([a1, a2])\n",
        "a_in"
      ],
      "metadata": {
        "colab": {
          "base_uri": "https://localhost:8080/",
          "height": 58
        },
        "id": "8MYVnfwTxSUA",
        "outputId": "4e5cf644-1590-42d5-fd08-933188a045f2"
      },
      "execution_count": 9,
      "outputs": [
        {
          "output_type": "execute_result",
          "data": {
            "text/plain": [
              "Matrix([\n",
              "[a_1],\n",
              "[a_2]])"
            ],
            "text/latex": "$\\displaystyle \\left[\\begin{matrix}a_{1}\\\\a_{2}\\end{matrix}\\right]$"
          },
          "metadata": {},
          "execution_count": 9
        }
      ]
    },
    {
      "cell_type": "code",
      "source": [
        "W = sym.Matrix([[wa, wc, we],\n",
        "                [wb, wd, wf]])\n",
        "W"
      ],
      "metadata": {
        "colab": {
          "base_uri": "https://localhost:8080/",
          "height": 58
        },
        "id": "DnOnyDo-xbC2",
        "outputId": "cc7df550-22fe-4b8c-d006-5d3460bf6b7a"
      },
      "execution_count": 10,
      "outputs": [
        {
          "output_type": "execute_result",
          "data": {
            "text/plain": [
              "Matrix([\n",
              "[w_a, w_c, w_e],\n",
              "[w_b, w_d, w_f]])"
            ],
            "text/latex": "$\\displaystyle \\left[\\begin{matrix}w_{a} & w_{c} & w_{e}\\\\w_{b} & w_{d} & w_{f}\\end{matrix}\\right]$"
          },
          "metadata": {},
          "execution_count": 10
        }
      ]
    },
    {
      "cell_type": "code",
      "source": [
        "b = sym.Matrix([b1, b2, b3])\n",
        "b"
      ],
      "metadata": {
        "colab": {
          "base_uri": "https://localhost:8080/",
          "height": 78
        },
        "id": "To2f-z5Qxkx4",
        "outputId": "879df028-4db3-4e88-d17e-de08edc2c444"
      },
      "execution_count": 11,
      "outputs": [
        {
          "output_type": "execute_result",
          "data": {
            "text/plain": [
              "Matrix([\n",
              "[b_1],\n",
              "[b_2],\n",
              "[b_3]])"
            ],
            "text/latex": "$\\displaystyle \\left[\\begin{matrix}b_{1}\\\\b_{2}\\\\b_{3}\\end{matrix}\\right]$"
          },
          "metadata": {},
          "execution_count": 11
        }
      ]
    },
    {
      "cell_type": "code",
      "source": [
        "def dense_sym(a_in, W, b):\n",
        "    units = W.shape[1]\n",
        "    a_out = sym.zeros(units, 1)\n",
        "    for j in range(units):\n",
        "        w = W[:, j]\n",
        "        z = w.dot(a_in) + b[j]\n",
        "        a_out[j] = sigmoid_sym(z)\n",
        "\n",
        "    return a_out\n",
        "\n",
        "dense_sym(a_in, W, b)"
      ],
      "metadata": {
        "colab": {
          "base_uri": "https://localhost:8080/",
          "height": 88
        },
        "id": "dEBHIGFsxuXe",
        "outputId": "55fdc94a-9f98-4b1b-d5fa-becdccf40b92"
      },
      "execution_count": 12,
      "outputs": [
        {
          "output_type": "execute_result",
          "data": {
            "text/plain": [
              "Matrix([\n",
              "[1.0/(exp(-a_1*w_a - a_2*w_b - b_1) + 1.0)],\n",
              "[1.0/(exp(-a_1*w_c - a_2*w_d - b_2) + 1.0)],\n",
              "[1.0/(exp(-a_1*w_e - a_2*w_f - b_3) + 1.0)]])"
            ],
            "text/latex": "$\\displaystyle \\left[\\begin{matrix}\\frac{1.0}{e^{- a_{1} w_{a} - a_{2} w_{b} - b_{1}} + 1.0}\\\\\\frac{1.0}{e^{- a_{1} w_{c} - a_{2} w_{d} - b_{2}} + 1.0}\\\\\\frac{1.0}{e^{- a_{1} w_{e} - a_{2} w_{f} - b_{3}} + 1.0}\\end{matrix}\\right]$"
          },
          "metadata": {},
          "execution_count": 12
        }
      ]
    },
    {
      "cell_type": "code",
      "source": [
        "a_in = sym.Matrix([-2, 4])\n",
        "W = sym.Matrix([[1, -3, 5],\n",
        "              [2, 4, -6]])\n",
        "b = sym.Matrix([-1, 1, 2])\n",
        "\n",
        "dense_sym(a_in, W, b).evalf()"
      ],
      "metadata": {
        "colab": {
          "base_uri": "https://localhost:8080/",
          "height": 78
        },
        "id": "gZPR04LE0c4T",
        "outputId": "a7831c7b-047e-4040-df3b-42908e857049"
      },
      "execution_count": 13,
      "outputs": [
        {
          "output_type": "execute_result",
          "data": {
            "text/plain": [
              "Matrix([\n",
              "[  0.993307149075715],\n",
              "[  0.999999999897381],\n",
              "[1.2664165549094e-14]])"
            ],
            "text/latex": "$\\displaystyle \\left[\\begin{matrix}0.993307149075715\\\\0.999999999897381\\\\1.2664165549094 \\cdot 10^{-14}\\end{matrix}\\right]$"
          },
          "metadata": {},
          "execution_count": 13
        }
      ]
    },
    {
      "cell_type": "markdown",
      "source": [
        "### Vectorized implementation in `sympy`"
      ],
      "metadata": {
        "id": "NagwP23L-tpA"
      }
    },
    {
      "cell_type": "code",
      "source": [
        "a1, a2 = sym.symbols('a_1 a_2')\n",
        "wa, wb, wc, wd, we, wf = sym.symbols('w_a w_b w_c w_d w_e w_f')\n",
        "b1, b2, b3 = sym.symbols('b_1 b_2 b_3')\n",
        "\n",
        "a_in = sym.Matrix([[a1, a2]])\n",
        "W = sym.Matrix([[wa, wc, we],\n",
        "                [wb, wd, wf]])\n",
        "b = sym.Matrix([[b1, b2, b3]])\n",
        "\n",
        "def dense_sym_mat(a_in, W, b):\n",
        "    z = a_in @ W + b\n",
        "    a_out = z.applyfunc(sigmoid_sym)\n",
        "    return a_out\n",
        "\n",
        "dense_sym_mat(a_in, W, b)"
      ],
      "metadata": {
        "colab": {
          "base_uri": "https://localhost:8080/",
          "height": 47
        },
        "id": "XYP2U4Ux-y4O",
        "outputId": "1a26c511-8a5c-490f-d3f0-ae00f5654bfe"
      },
      "execution_count": 14,
      "outputs": [
        {
          "output_type": "execute_result",
          "data": {
            "text/plain": [
              "Matrix([[1.0/(exp(-a_1*w_a - a_2*w_b - b_1) + 1.0), 1.0/(exp(-a_1*w_c - a_2*w_d - b_2) + 1.0), 1.0/(exp(-a_1*w_e - a_2*w_f - b_3) + 1.0)]])"
            ],
            "text/latex": "$\\displaystyle \\left[\\begin{matrix}\\frac{1.0}{e^{- a_{1} w_{a} - a_{2} w_{b} - b_{1}} + 1.0} & \\frac{1.0}{e^{- a_{1} w_{c} - a_{2} w_{d} - b_{2}} + 1.0} & \\frac{1.0}{e^{- a_{1} w_{e} - a_{2} w_{f} - b_{3}} + 1.0}\\end{matrix}\\right]$"
          },
          "metadata": {},
          "execution_count": 14
        }
      ]
    },
    {
      "cell_type": "code",
      "source": [
        "dense_sym_mat(a_in, W, b).T == dense_sym(a_in, W, b)"
      ],
      "metadata": {
        "colab": {
          "base_uri": "https://localhost:8080/"
        },
        "id": "Z78bzBefX7l5",
        "outputId": "a57de953-6ea5-4318-a259-e0f63ea236fc"
      },
      "execution_count": 15,
      "outputs": [
        {
          "output_type": "execute_result",
          "data": {
            "text/plain": [
              "True"
            ]
          },
          "metadata": {},
          "execution_count": 15
        }
      ]
    },
    {
      "cell_type": "code",
      "source": [
        "a_in = sym.Matrix([[-2, 4]])\n",
        "W = sym.Matrix([[1, -3, 5],\n",
        "              [2, 4, -6]])\n",
        "b = sym.Matrix([[-1, 1, 2]])\n",
        "\n",
        "dense_sym_mat(a_in, W, b).evalf()"
      ],
      "metadata": {
        "colab": {
          "base_uri": "https://localhost:8080/",
          "height": 39
        },
        "id": "OGsPgZpJA8So",
        "outputId": "875b590c-346e-431f-b698-0842101f7e3f"
      },
      "execution_count": 16,
      "outputs": [
        {
          "output_type": "execute_result",
          "data": {
            "text/plain": [
              "Matrix([[0.993307149075715, 0.999999999897381, 1.2664165549094e-14]])"
            ],
            "text/latex": "$\\displaystyle \\left[\\begin{matrix}0.993307149075715 & 0.999999999897381 & 1.2664165549094 \\cdot 10^{-14}\\end{matrix}\\right]$"
          },
          "metadata": {},
          "execution_count": 16
        }
      ]
    },
    {
      "cell_type": "code",
      "source": [
        "dense_sym(a_in, W, b).evalf().T == dense_sym_mat(a_in, W, b).evalf()"
      ],
      "metadata": {
        "colab": {
          "base_uri": "https://localhost:8080/"
        },
        "id": "g3AjqUy6A_lJ",
        "outputId": "c78725ff-6cc6-43bd-ccd4-9a76e0efd3fa"
      },
      "execution_count": 17,
      "outputs": [
        {
          "output_type": "execute_result",
          "data": {
            "text/plain": [
              "True"
            ]
          },
          "metadata": {},
          "execution_count": 17
        }
      ]
    },
    {
      "cell_type": "markdown",
      "source": [
        "## 2.1.4.3 Lab - Coffee Roasting in `numpy`\n",
        "\n",
        "https://colab.research.google.com/drive/1xZL0Akac8uVLiyYK4KS1HTAZZViGbNA-"
      ],
      "metadata": {
        "id": "LSHpznQS5hs_"
      }
    }
  ]
}