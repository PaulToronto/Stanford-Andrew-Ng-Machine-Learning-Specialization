{
  "nbformat": 4,
  "nbformat_minor": 0,
  "metadata": {
    "colab": {
      "provenance": [],
      "toc_visible": true,
      "authorship_tag": "ABX9TyN8oqXu4bobhm8jCFCZZBQ7",
      "include_colab_link": true
    },
    "kernelspec": {
      "name": "python3",
      "display_name": "Python 3"
    },
    "language_info": {
      "name": "python"
    }
  },
  "cells": [
    {
      "cell_type": "markdown",
      "metadata": {
        "id": "view-in-github",
        "colab_type": "text"
      },
      "source": [
        "<a href=\"https://colab.research.google.com/github/PaulToronto/Stanford-Andrew-Ng-Machine-Learning-Specialization/blob/main/2_1_5_Vectorization.ipynb\" target=\"_parent\"><img src=\"https://colab.research.google.com/assets/colab-badge.svg\" alt=\"Open In Colab\"/></a>"
      ]
    },
    {
      "cell_type": "markdown",
      "source": [
        "# 2.1.5 Vectorization"
      ],
      "metadata": {
        "id": "ii1ija6pt7bb"
      }
    },
    {
      "cell_type": "markdown",
      "source": [
        "## Imports"
      ],
      "metadata": {
        "id": "wQ5jXtT_t_ZS"
      }
    },
    {
      "cell_type": "code",
      "execution_count": 1,
      "metadata": {
        "id": "yhdHc1-ft0BA"
      },
      "outputs": [],
      "source": [
        "import sympy as sym\n",
        "import numpy as np"
      ]
    },
    {
      "cell_type": "markdown",
      "source": [
        "## 2.1.4.1 How neural networks are implemented efficiently"
      ],
      "metadata": {
        "id": "m_SGIcoFuBJs"
      }
    },
    {
      "cell_type": "markdown",
      "source": [
        "### Forward propagation code for a single layer\n",
        "\n",
        "<img src='https://drive.google.com/uc?export=view&id=16Q6UQu5igmo1mProwbUOqlIWsGO7aM9b'>"
      ],
      "metadata": {
        "id": "wj-2aeYau76c"
      }
    },
    {
      "cell_type": "markdown",
      "source": [
        "## 2.1.4.2 Matrix multiplication"
      ],
      "metadata": {
        "id": "Eky5k1PTwtNm"
      }
    },
    {
      "cell_type": "markdown",
      "source": [
        "### Dot Product"
      ],
      "metadata": {
        "id": "yAqUNLxIxAM5"
      }
    },
    {
      "cell_type": "code",
      "source": [
        "a, b, c, d, e, f, g, h = sym.symbols('a b c d e f g h')"
      ],
      "metadata": {
        "id": "jUyc3P3qxP8B"
      },
      "execution_count": 2,
      "outputs": []
    },
    {
      "cell_type": "code",
      "source": [
        "A = sym.Matrix([a, b])\n",
        "B = sym.Matrix([c, d])"
      ],
      "metadata": {
        "id": "rr2pI84XxU5l"
      },
      "execution_count": 3,
      "outputs": []
    },
    {
      "cell_type": "code",
      "source": [
        "A.dot(B)"
      ],
      "metadata": {
        "colab": {
          "base_uri": "https://localhost:8080/",
          "height": 39
        },
        "id": "kJJgzE_BxkZ3",
        "outputId": "ed8654a2-21b2-4c41-f47f-80e151f3fa8b"
      },
      "execution_count": 4,
      "outputs": [
        {
          "output_type": "execute_result",
          "data": {
            "text/plain": [
              "a*c + b*d"
            ],
            "text/latex": "$\\displaystyle a c + b d$"
          },
          "metadata": {},
          "execution_count": 4
        }
      ]
    },
    {
      "cell_type": "code",
      "source": [
        "# alternate\n",
        "A.T * B"
      ],
      "metadata": {
        "colab": {
          "base_uri": "https://localhost:8080/",
          "height": 39
        },
        "id": "GBptE4Jty5UJ",
        "outputId": "9994f518-1fb4-4814-d1b2-395feb8ff420"
      },
      "execution_count": 5,
      "outputs": [
        {
          "output_type": "execute_result",
          "data": {
            "text/plain": [
              "Matrix([[a*c + b*d]])"
            ],
            "text/latex": "$\\displaystyle \\left[\\begin{matrix}a c + b d\\end{matrix}\\right]$"
          },
          "metadata": {},
          "execution_count": 5
        }
      ]
    },
    {
      "cell_type": "code",
      "source": [
        "# alternate\n",
        "A.T @ B"
      ],
      "metadata": {
        "colab": {
          "base_uri": "https://localhost:8080/",
          "height": 39
        },
        "id": "tnj4CfnPzMVL",
        "outputId": "025771d1-7f5e-4b9e-e24b-224cc7499af3"
      },
      "execution_count": 6,
      "outputs": [
        {
          "output_type": "execute_result",
          "data": {
            "text/plain": [
              "Matrix([[a*c + b*d]])"
            ],
            "text/latex": "$\\displaystyle \\left[\\begin{matrix}a c + b d\\end{matrix}\\right]$"
          },
          "metadata": {},
          "execution_count": 6
        }
      ]
    },
    {
      "cell_type": "code",
      "source": [
        "A = A.subs({a: 1, b: 2})\n",
        "B = B.subs({c: 3, d: 4})"
      ],
      "metadata": {
        "id": "HKgGF1GHx0TB"
      },
      "execution_count": 7,
      "outputs": []
    },
    {
      "cell_type": "code",
      "source": [
        "A.dot(B)"
      ],
      "metadata": {
        "colab": {
          "base_uri": "https://localhost:8080/",
          "height": 37
        },
        "id": "NhYCvX8Tx5LC",
        "outputId": "9f63e99c-cac6-4108-e66f-c271b7fa646a"
      },
      "execution_count": 8,
      "outputs": [
        {
          "output_type": "execute_result",
          "data": {
            "text/plain": [
              "11"
            ],
            "text/latex": "$\\displaystyle 11$"
          },
          "metadata": {},
          "execution_count": 8
        }
      ]
    },
    {
      "cell_type": "code",
      "source": [
        "A.T * B"
      ],
      "metadata": {
        "colab": {
          "base_uri": "https://localhost:8080/",
          "height": 39
        },
        "id": "ZlvWSBwgzV-A",
        "outputId": "a8884e48-d873-45db-9933-7d105a0c43ca"
      },
      "execution_count": 9,
      "outputs": [
        {
          "output_type": "execute_result",
          "data": {
            "text/plain": [
              "Matrix([[11]])"
            ],
            "text/latex": "$\\displaystyle \\left[\\begin{matrix}11\\end{matrix}\\right]$"
          },
          "metadata": {},
          "execution_count": 9
        }
      ]
    },
    {
      "cell_type": "code",
      "source": [
        "A.T @ B"
      ],
      "metadata": {
        "colab": {
          "base_uri": "https://localhost:8080/",
          "height": 39
        },
        "id": "4bqvHFZ7zbd_",
        "outputId": "f22ffab8-8bc8-43b4-8be1-eb33344912eb"
      },
      "execution_count": 10,
      "outputs": [
        {
          "output_type": "execute_result",
          "data": {
            "text/plain": [
              "Matrix([[11]])"
            ],
            "text/latex": "$\\displaystyle \\left[\\begin{matrix}11\\end{matrix}\\right]$"
          },
          "metadata": {},
          "execution_count": 10
        }
      ]
    },
    {
      "cell_type": "markdown",
      "source": [
        "### Vector matrix multiplication"
      ],
      "metadata": {
        "id": "lxWwjCbSz4E9"
      }
    },
    {
      "cell_type": "code",
      "source": [
        "A = sym.Matrix([a, b])\n",
        "A"
      ],
      "metadata": {
        "colab": {
          "base_uri": "https://localhost:8080/",
          "height": 58
        },
        "id": "L_mY898bz-rl",
        "outputId": "f5a35e65-4a0a-4e84-8572-26ddb9a822f9"
      },
      "execution_count": 11,
      "outputs": [
        {
          "output_type": "execute_result",
          "data": {
            "text/plain": [
              "Matrix([\n",
              "[a],\n",
              "[b]])"
            ],
            "text/latex": "$\\displaystyle \\left[\\begin{matrix}a\\\\b\\end{matrix}\\right]$"
          },
          "metadata": {},
          "execution_count": 11
        }
      ]
    },
    {
      "cell_type": "code",
      "source": [
        "A.T"
      ],
      "metadata": {
        "colab": {
          "base_uri": "https://localhost:8080/",
          "height": 39
        },
        "id": "TyZ2xmgR0L-o",
        "outputId": "aad03268-3960-425a-f754-9b5ec5edb62a"
      },
      "execution_count": 12,
      "outputs": [
        {
          "output_type": "execute_result",
          "data": {
            "text/plain": [
              "Matrix([[a, b]])"
            ],
            "text/latex": "$\\displaystyle \\left[\\begin{matrix}a & b\\end{matrix}\\right]$"
          },
          "metadata": {},
          "execution_count": 12
        }
      ]
    },
    {
      "cell_type": "code",
      "source": [
        "M = sym.Matrix([[c, e],\n",
        "                [d, f]])\n",
        "M"
      ],
      "metadata": {
        "colab": {
          "base_uri": "https://localhost:8080/",
          "height": 58
        },
        "id": "QrLvF9-G0Yqf",
        "outputId": "aa1f6fe9-f49f-455e-db5e-0ce7f27cfb1f"
      },
      "execution_count": 13,
      "outputs": [
        {
          "output_type": "execute_result",
          "data": {
            "text/plain": [
              "Matrix([\n",
              "[c, e],\n",
              "[d, f]])"
            ],
            "text/latex": "$\\displaystyle \\left[\\begin{matrix}c & e\\\\d & f\\end{matrix}\\right]$"
          },
          "metadata": {},
          "execution_count": 13
        }
      ]
    },
    {
      "cell_type": "code",
      "source": [
        "A.T * M"
      ],
      "metadata": {
        "colab": {
          "base_uri": "https://localhost:8080/",
          "height": 39
        },
        "id": "91e5v__m0nAb",
        "outputId": "7092896f-beab-4cce-8a3f-37fb60026ef5"
      },
      "execution_count": 14,
      "outputs": [
        {
          "output_type": "execute_result",
          "data": {
            "text/plain": [
              "Matrix([[a*c + b*d, a*e + b*f]])"
            ],
            "text/latex": "$\\displaystyle \\left[\\begin{matrix}a c + b d & a e + b f\\end{matrix}\\right]$"
          },
          "metadata": {},
          "execution_count": 14
        }
      ]
    },
    {
      "cell_type": "code",
      "source": [
        "sym.Matrix([A.dot(M.col(0)), A.dot(M.col(1))]).T"
      ],
      "metadata": {
        "colab": {
          "base_uri": "https://localhost:8080/",
          "height": 39
        },
        "id": "vaYqRcCn1NLI",
        "outputId": "77e92b6e-53ee-4339-ac65-775ae23d418b"
      },
      "execution_count": 15,
      "outputs": [
        {
          "output_type": "execute_result",
          "data": {
            "text/plain": [
              "Matrix([[a*c + b*d, a*e + b*f]])"
            ],
            "text/latex": "$\\displaystyle \\left[\\begin{matrix}a c + b d & a e + b f\\end{matrix}\\right]$"
          },
          "metadata": {},
          "execution_count": 15
        }
      ]
    },
    {
      "cell_type": "code",
      "source": [
        "A = A.subs({a: 1, b: 2})\n",
        "M = M.subs({c: 3, d: 4, e: 5, f: 6})"
      ],
      "metadata": {
        "id": "CDRVb8hl1odI"
      },
      "execution_count": 16,
      "outputs": []
    },
    {
      "cell_type": "code",
      "source": [
        "A.T * M"
      ],
      "metadata": {
        "colab": {
          "base_uri": "https://localhost:8080/",
          "height": 39
        },
        "id": "PCal7wRm10rx",
        "outputId": "f75ec592-7bef-45ac-f892-d777e4eb0d80"
      },
      "execution_count": 17,
      "outputs": [
        {
          "output_type": "execute_result",
          "data": {
            "text/plain": [
              "Matrix([[11, 17]])"
            ],
            "text/latex": "$\\displaystyle \\left[\\begin{matrix}11 & 17\\end{matrix}\\right]$"
          },
          "metadata": {},
          "execution_count": 17
        }
      ]
    },
    {
      "cell_type": "markdown",
      "source": [
        "### Matrix matrix multiplication"
      ],
      "metadata": {
        "id": "IKFBbO632WfM"
      }
    },
    {
      "cell_type": "code",
      "source": [
        "A = sym.Matrix([[a, b],\n",
        "                [c, d]])\n",
        "B = sym.Matrix([[e, f],\n",
        "                [g, h]])"
      ],
      "metadata": {
        "id": "UJFqNom_2Nfr"
      },
      "execution_count": 18,
      "outputs": []
    },
    {
      "cell_type": "code",
      "source": [
        "A"
      ],
      "metadata": {
        "colab": {
          "base_uri": "https://localhost:8080/",
          "height": 58
        },
        "id": "4Fp-tFco2h_-",
        "outputId": "34ddf41c-e52c-46d5-f267-26d4c1735865"
      },
      "execution_count": 19,
      "outputs": [
        {
          "output_type": "execute_result",
          "data": {
            "text/plain": [
              "Matrix([\n",
              "[a, b],\n",
              "[c, d]])"
            ],
            "text/latex": "$\\displaystyle \\left[\\begin{matrix}a & b\\\\c & d\\end{matrix}\\right]$"
          },
          "metadata": {},
          "execution_count": 19
        }
      ]
    },
    {
      "cell_type": "code",
      "source": [
        "B"
      ],
      "metadata": {
        "colab": {
          "base_uri": "https://localhost:8080/",
          "height": 58
        },
        "id": "zFP32OoK2jCr",
        "outputId": "4c65e252-f475-497f-ca9d-f61b868d261f"
      },
      "execution_count": 20,
      "outputs": [
        {
          "output_type": "execute_result",
          "data": {
            "text/plain": [
              "Matrix([\n",
              "[e, f],\n",
              "[g, h]])"
            ],
            "text/latex": "$\\displaystyle \\left[\\begin{matrix}e & f\\\\g & h\\end{matrix}\\right]$"
          },
          "metadata": {},
          "execution_count": 20
        }
      ]
    },
    {
      "cell_type": "code",
      "source": [
        "A * B"
      ],
      "metadata": {
        "colab": {
          "base_uri": "https://localhost:8080/",
          "height": 58
        },
        "id": "7tr0HVak2ps7",
        "outputId": "51af6999-d337-4ab8-b88e-0da69d46f9e4"
      },
      "execution_count": 21,
      "outputs": [
        {
          "output_type": "execute_result",
          "data": {
            "text/plain": [
              "Matrix([\n",
              "[a*e + b*g, a*f + b*h],\n",
              "[c*e + d*g, c*f + d*h]])"
            ],
            "text/latex": "$\\displaystyle \\left[\\begin{matrix}a e + b g & a f + b h\\\\c e + d g & c f + d h\\end{matrix}\\right]$"
          },
          "metadata": {},
          "execution_count": 21
        }
      ]
    },
    {
      "cell_type": "code",
      "source": [
        "sym.Matrix([[A.row(0).dot(B.col(0)), A.row(0).dot(B.col(1))],\n",
        "            [A.row(1).dot(B.col(0)), A.row(1).dot(B.col(1))]])"
      ],
      "metadata": {
        "colab": {
          "base_uri": "https://localhost:8080/",
          "height": 58
        },
        "id": "-IKjkeQh2sHc",
        "outputId": "b3093ec1-f3bc-4530-8250-f12e1dfa2c88"
      },
      "execution_count": 22,
      "outputs": [
        {
          "output_type": "execute_result",
          "data": {
            "text/plain": [
              "Matrix([\n",
              "[a*e + b*g, a*f + b*h],\n",
              "[c*e + d*g, c*f + d*h]])"
            ],
            "text/latex": "$\\displaystyle \\left[\\begin{matrix}a e + b g & a f + b h\\\\c e + d g & c f + d h\\end{matrix}\\right]$"
          },
          "metadata": {},
          "execution_count": 22
        }
      ]
    },
    {
      "cell_type": "code",
      "source": [
        "A = A.subs({a: 1, b: -1, c: 2, d: -2})\n",
        "A"
      ],
      "metadata": {
        "colab": {
          "base_uri": "https://localhost:8080/",
          "height": 58
        },
        "id": "pW3gUtS53pYM",
        "outputId": "81415037-6d21-45c7-bad2-69c2c08eaecc"
      },
      "execution_count": 23,
      "outputs": [
        {
          "output_type": "execute_result",
          "data": {
            "text/plain": [
              "Matrix([\n",
              "[1, -1],\n",
              "[2, -2]])"
            ],
            "text/latex": "$\\displaystyle \\left[\\begin{matrix}1 & -1\\\\2 & -2\\end{matrix}\\right]$"
          },
          "metadata": {},
          "execution_count": 23
        }
      ]
    },
    {
      "cell_type": "code",
      "source": [
        "A.T"
      ],
      "metadata": {
        "colab": {
          "base_uri": "https://localhost:8080/",
          "height": 58
        },
        "id": "iiv3dmK_3xRP",
        "outputId": "6197a060-7223-4dff-d042-b37c0be99331"
      },
      "execution_count": 24,
      "outputs": [
        {
          "output_type": "execute_result",
          "data": {
            "text/plain": [
              "Matrix([\n",
              "[ 1,  2],\n",
              "[-1, -2]])"
            ],
            "text/latex": "$\\displaystyle \\left[\\begin{matrix}1 & 2\\\\-1 & -2\\end{matrix}\\right]$"
          },
          "metadata": {},
          "execution_count": 24
        }
      ]
    },
    {
      "cell_type": "code",
      "source": [
        "M"
      ],
      "metadata": {
        "colab": {
          "base_uri": "https://localhost:8080/",
          "height": 58
        },
        "id": "0z6SRMJk4UzW",
        "outputId": "2cdb7272-2fe4-4a1c-a789-621b3670513c"
      },
      "execution_count": 25,
      "outputs": [
        {
          "output_type": "execute_result",
          "data": {
            "text/plain": [
              "Matrix([\n",
              "[3, 5],\n",
              "[4, 6]])"
            ],
            "text/latex": "$\\displaystyle \\left[\\begin{matrix}3 & 5\\\\4 & 6\\end{matrix}\\right]$"
          },
          "metadata": {},
          "execution_count": 25
        }
      ]
    },
    {
      "cell_type": "code",
      "source": [
        "A.T * M"
      ],
      "metadata": {
        "colab": {
          "base_uri": "https://localhost:8080/",
          "height": 58
        },
        "id": "sR-d9qF84WQD",
        "outputId": "e3e8f5b1-dcdf-4782-f14e-70776a9bb365"
      },
      "execution_count": 26,
      "outputs": [
        {
          "output_type": "execute_result",
          "data": {
            "text/plain": [
              "Matrix([\n",
              "[ 11,  17],\n",
              "[-11, -17]])"
            ],
            "text/latex": "$\\displaystyle \\left[\\begin{matrix}11 & 17\\\\-11 & -17\\end{matrix}\\right]$"
          },
          "metadata": {},
          "execution_count": 26
        }
      ]
    },
    {
      "cell_type": "code",
      "source": [
        "A.T @ M"
      ],
      "metadata": {
        "colab": {
          "base_uri": "https://localhost:8080/",
          "height": 58
        },
        "id": "EY78cz754Yfi",
        "outputId": "55697598-f555-458e-e01c-f24f3a547534"
      },
      "execution_count": 27,
      "outputs": [
        {
          "output_type": "execute_result",
          "data": {
            "text/plain": [
              "Matrix([\n",
              "[ 11,  17],\n",
              "[-11, -17]])"
            ],
            "text/latex": "$\\displaystyle \\left[\\begin{matrix}11 & 17\\\\-11 & -17\\end{matrix}\\right]$"
          },
          "metadata": {},
          "execution_count": 27
        }
      ]
    },
    {
      "cell_type": "markdown",
      "source": [
        "### A way to think about matrices used for vectorization\n",
        "\n",
        "- Think of a matrix as being a collection of column vectors\n",
        "- Think of the transpose of a matrix as being a collection of row vectors"
      ],
      "metadata": {
        "id": "wWT7rAkZ44sJ"
      }
    },
    {
      "cell_type": "markdown",
      "source": [
        "## 2.1.4.3 Matrix multiplication rules"
      ],
      "metadata": {
        "id": "xph_QktI55f6"
      }
    },
    {
      "cell_type": "code",
      "source": [
        "W = np.array([[3, 5, 7, 9],\n",
        "              [4, 6, 8, 0]])\n",
        "W"
      ],
      "metadata": {
        "colab": {
          "base_uri": "https://localhost:8080/"
        },
        "id": "r_lcbemy9CTz",
        "outputId": "bdab43b8-a97c-4b72-fa04-77413390d18d"
      },
      "execution_count": 28,
      "outputs": [
        {
          "output_type": "execute_result",
          "data": {
            "text/plain": [
              "array([[3, 5, 7, 9],\n",
              "       [4, 6, 8, 0]])"
            ]
          },
          "metadata": {},
          "execution_count": 28
        }
      ]
    },
    {
      "cell_type": "code",
      "source": [
        "Wsym = sym.Matrix(W)\n",
        "Wsym"
      ],
      "metadata": {
        "colab": {
          "base_uri": "https://localhost:8080/",
          "height": 58
        },
        "id": "80cc_sG89It0",
        "outputId": "bf910763-d898-4897-c680-71b63f1ea3b9"
      },
      "execution_count": 29,
      "outputs": [
        {
          "output_type": "execute_result",
          "data": {
            "text/plain": [
              "Matrix([\n",
              "[3, 5, 7, 9],\n",
              "[4, 6, 8, 0]])"
            ],
            "text/latex": "$\\displaystyle \\left[\\begin{matrix}3 & 5 & 7 & 9\\\\4 & 6 & 8 & 0\\end{matrix}\\right]$"
          },
          "metadata": {},
          "execution_count": 29
        }
      ]
    },
    {
      "cell_type": "code",
      "source": [
        "A = np.array([[1, -1, 0.1],\n",
        "               [2, -2, 0.2]])\n",
        "A"
      ],
      "metadata": {
        "colab": {
          "base_uri": "https://localhost:8080/"
        },
        "id": "bP-BvbTo62Hl",
        "outputId": "a8600671-88c8-432a-8247-1330fde88369"
      },
      "execution_count": 30,
      "outputs": [
        {
          "output_type": "execute_result",
          "data": {
            "text/plain": [
              "array([[ 1. , -1. ,  0.1],\n",
              "       [ 2. , -2. ,  0.2]])"
            ]
          },
          "metadata": {},
          "execution_count": 30
        }
      ]
    },
    {
      "cell_type": "code",
      "source": [
        "Asym = sym.Matrix(A)\n",
        "Asym"
      ],
      "metadata": {
        "colab": {
          "base_uri": "https://localhost:8080/",
          "height": 58
        },
        "id": "uQ1nMoBr7K13",
        "outputId": "0cba05bb-40b7-4f07-9496-0ecd15d520d9"
      },
      "execution_count": 31,
      "outputs": [
        {
          "output_type": "execute_result",
          "data": {
            "text/plain": [
              "Matrix([\n",
              "[1.0, -1.0, 0.1],\n",
              "[2.0, -2.0, 0.2]])"
            ],
            "text/latex": "$\\displaystyle \\left[\\begin{matrix}1.0 & -1.0 & 0.1\\\\2.0 & -2.0 & 0.2\\end{matrix}\\right]$"
          },
          "metadata": {},
          "execution_count": 31
        }
      ]
    },
    {
      "cell_type": "markdown",
      "source": [
        "Think of $Asym$ as 3 column vectors."
      ],
      "metadata": {
        "id": "qJQbCzow7b0s"
      }
    },
    {
      "cell_type": "code",
      "source": [
        "a1 = Asym.col(0)\n",
        "a2 = Asym.col(1)\n",
        "a3 = Asym.col(2)\n",
        "display(a1, a2, a3)"
      ],
      "metadata": {
        "colab": {
          "base_uri": "https://localhost:8080/",
          "height": 139
        },
        "id": "XmkKRxsD8PAG",
        "outputId": "feb55cc9-3167-4e1a-d1e1-0a3b4fed1b94"
      },
      "execution_count": 32,
      "outputs": [
        {
          "output_type": "display_data",
          "data": {
            "text/plain": [
              "Matrix([\n",
              "[1.0],\n",
              "[2.0]])"
            ],
            "text/latex": "$\\displaystyle \\left[\\begin{matrix}1.0\\\\2.0\\end{matrix}\\right]$"
          },
          "metadata": {}
        },
        {
          "output_type": "display_data",
          "data": {
            "text/plain": [
              "Matrix([\n",
              "[-1.0],\n",
              "[-2.0]])"
            ],
            "text/latex": "$\\displaystyle \\left[\\begin{matrix}-1.0\\\\-2.0\\end{matrix}\\right]$"
          },
          "metadata": {}
        },
        {
          "output_type": "display_data",
          "data": {
            "text/plain": [
              "Matrix([\n",
              "[0.1],\n",
              "[0.2]])"
            ],
            "text/latex": "$\\displaystyle \\left[\\begin{matrix}0.1\\\\0.2\\end{matrix}\\right]$"
          },
          "metadata": {}
        }
      ]
    },
    {
      "cell_type": "code",
      "source": [
        "A.T"
      ],
      "metadata": {
        "colab": {
          "base_uri": "https://localhost:8080/"
        },
        "id": "6FcnR5VB7kBX",
        "outputId": "5a83d385-dbb2-46aa-bd8b-15d6cc695a31"
      },
      "execution_count": 33,
      "outputs": [
        {
          "output_type": "execute_result",
          "data": {
            "text/plain": [
              "array([[ 1. ,  2. ],\n",
              "       [-1. , -2. ],\n",
              "       [ 0.1,  0.2]])"
            ]
          },
          "metadata": {},
          "execution_count": 33
        }
      ]
    },
    {
      "cell_type": "code",
      "source": [
        "Asym.T"
      ],
      "metadata": {
        "colab": {
          "base_uri": "https://localhost:8080/",
          "height": 78
        },
        "id": "neuyrh3t79Pi",
        "outputId": "504afc74-ff80-4b51-fc96-1f54cac888e4"
      },
      "execution_count": 34,
      "outputs": [
        {
          "output_type": "execute_result",
          "data": {
            "text/plain": [
              "Matrix([\n",
              "[ 1.0,  2.0],\n",
              "[-1.0, -2.0],\n",
              "[ 0.1,  0.2]])"
            ],
            "text/latex": "$\\displaystyle \\left[\\begin{matrix}1.0 & 2.0\\\\-1.0 & -2.0\\\\0.1 & 0.2\\end{matrix}\\right]$"
          },
          "metadata": {},
          "execution_count": 34
        }
      ]
    },
    {
      "cell_type": "markdown",
      "source": [
        "Think of $Asym.T$ as 3 row vectors."
      ],
      "metadata": {
        "id": "Cd1lJuDm7oX2"
      }
    },
    {
      "cell_type": "code",
      "source": [
        "a1T = Asym.T.row(0)\n",
        "a2T = Asym.T.row(1)\n",
        "a3T = Asym.T.row(2)\n",
        "display(a1T, a2T, a3T)"
      ],
      "metadata": {
        "colab": {
          "base_uri": "https://localhost:8080/",
          "height": 82
        },
        "id": "zjEh9hF48eaW",
        "outputId": "350368ea-9250-4cf0-d5b9-151aa3466946"
      },
      "execution_count": 35,
      "outputs": [
        {
          "output_type": "display_data",
          "data": {
            "text/plain": [
              "Matrix([[1.0, 2.0]])"
            ],
            "text/latex": "$\\displaystyle \\left[\\begin{matrix}1.0 & 2.0\\end{matrix}\\right]$"
          },
          "metadata": {}
        },
        {
          "output_type": "display_data",
          "data": {
            "text/plain": [
              "Matrix([[-1.0, -2.0]])"
            ],
            "text/latex": "$\\displaystyle \\left[\\begin{matrix}-1.0 & -2.0\\end{matrix}\\right]$"
          },
          "metadata": {}
        },
        {
          "output_type": "display_data",
          "data": {
            "text/plain": [
              "Matrix([[0.1, 0.2]])"
            ],
            "text/latex": "$\\displaystyle \\left[\\begin{matrix}0.1 & 0.2\\end{matrix}\\right]$"
          },
          "metadata": {}
        }
      ]
    },
    {
      "cell_type": "markdown",
      "source": [
        "Think of $Wsym$ as 4 column vectors"
      ],
      "metadata": {
        "id": "4a79aIxP9PfV"
      }
    },
    {
      "cell_type": "code",
      "source": [
        "w1 = Wsym.col(0)\n",
        "w2 = Wsym.col(1)\n",
        "w3 = Wsym.col(2)\n",
        "w4 = Wsym.col(3)\n",
        "display(w1, w2, w3, w4)"
      ],
      "metadata": {
        "colab": {
          "base_uri": "https://localhost:8080/",
          "height": 180
        },
        "id": "PXqAjIlp9Up5",
        "outputId": "68a8316c-0df4-4a77-9ba4-35d6d700f69a"
      },
      "execution_count": 36,
      "outputs": [
        {
          "output_type": "display_data",
          "data": {
            "text/plain": [
              "Matrix([\n",
              "[3],\n",
              "[4]])"
            ],
            "text/latex": "$\\displaystyle \\left[\\begin{matrix}3\\\\4\\end{matrix}\\right]$"
          },
          "metadata": {}
        },
        {
          "output_type": "display_data",
          "data": {
            "text/plain": [
              "Matrix([\n",
              "[5],\n",
              "[6]])"
            ],
            "text/latex": "$\\displaystyle \\left[\\begin{matrix}5\\\\6\\end{matrix}\\right]$"
          },
          "metadata": {}
        },
        {
          "output_type": "display_data",
          "data": {
            "text/plain": [
              "Matrix([\n",
              "[7],\n",
              "[8]])"
            ],
            "text/latex": "$\\displaystyle \\left[\\begin{matrix}7\\\\8\\end{matrix}\\right]$"
          },
          "metadata": {}
        },
        {
          "output_type": "display_data",
          "data": {
            "text/plain": [
              "Matrix([\n",
              "[9],\n",
              "[0]])"
            ],
            "text/latex": "$\\displaystyle \\left[\\begin{matrix}9\\\\0\\end{matrix}\\right]$"
          },
          "metadata": {}
        }
      ]
    },
    {
      "cell_type": "markdown",
      "source": [
        "$$\n",
        "Z = A^{T}W\n",
        "$$"
      ],
      "metadata": {
        "id": "51PYAhVp9vIW"
      }
    },
    {
      "cell_type": "code",
      "source": [
        "Z = A.T @ W\n",
        "Z"
      ],
      "metadata": {
        "colab": {
          "base_uri": "https://localhost:8080/"
        },
        "id": "z_vun7Ym9s7Z",
        "outputId": "ce66c441-8c97-4df1-ae82-3d6d40e0367d"
      },
      "execution_count": 37,
      "outputs": [
        {
          "output_type": "execute_result",
          "data": {
            "text/plain": [
              "array([[ 11. ,  17. ,  23. ,   9. ],\n",
              "       [-11. , -17. , -23. ,  -9. ],\n",
              "       [  1.1,   1.7,   2.3,   0.9]])"
            ]
          },
          "metadata": {},
          "execution_count": 37
        }
      ]
    },
    {
      "cell_type": "code",
      "source": [
        "Z = np.matmul(A.T, W)\n",
        "Z"
      ],
      "metadata": {
        "colab": {
          "base_uri": "https://localhost:8080/"
        },
        "id": "cIOsAArA-j7L",
        "outputId": "c450df23-7ca0-4f93-f8b6-e3ed780a7036"
      },
      "execution_count": 38,
      "outputs": [
        {
          "output_type": "execute_result",
          "data": {
            "text/plain": [
              "array([[ 11. ,  17. ,  23. ,   9. ],\n",
              "       [-11. , -17. , -23. ,  -9. ],\n",
              "       [  1.1,   1.7,   2.3,   0.9]])"
            ]
          },
          "metadata": {},
          "execution_count": 38
        }
      ]
    },
    {
      "cell_type": "code",
      "source": [
        "Zsym = Asym.T @ Wsym\n",
        "Zsym"
      ],
      "metadata": {
        "colab": {
          "base_uri": "https://localhost:8080/",
          "height": 78
        },
        "id": "UpDtVO2I-AEP",
        "outputId": "180c22b8-7a57-4010-f950-7d920956b81d"
      },
      "execution_count": 39,
      "outputs": [
        {
          "output_type": "execute_result",
          "data": {
            "text/plain": [
              "Matrix([\n",
              "[ 11.0,  17.0,  23.0,  9.0],\n",
              "[-11.0, -17.0, -23.0, -9.0],\n",
              "[  1.1,   1.7,   2.3,  0.9]])"
            ],
            "text/latex": "$\\displaystyle \\left[\\begin{matrix}11.0 & 17.0 & 23.0 & 9.0\\\\-11.0 & -17.0 & -23.0 & -9.0\\\\1.1 & 1.7 & 2.3 & 0.9\\end{matrix}\\right]$"
          },
          "metadata": {},
          "execution_count": 39
        }
      ]
    },
    {
      "cell_type": "code",
      "source": [
        "Asym.T.shape, Wsym.shape"
      ],
      "metadata": {
        "colab": {
          "base_uri": "https://localhost:8080/"
        },
        "id": "_U3AcJj8-GAO",
        "outputId": "a212b8eb-40c3-4af6-87e7-22279f98f3f4"
      },
      "execution_count": 40,
      "outputs": [
        {
          "output_type": "execute_result",
          "data": {
            "text/plain": [
              "((3, 2), (2, 4))"
            ]
          },
          "metadata": {},
          "execution_count": 40
        }
      ]
    },
    {
      "cell_type": "markdown",
      "source": [
        "The product will be a $3 \\times 4$ matrix"
      ],
      "metadata": {
        "id": "0Y79k-jE_M_q"
      }
    },
    {
      "cell_type": "code",
      "source": [
        "sym.Matrix([[a1T.dot(w1), a1T.dot(w2), a1T.dot(w3), a1T.dot(w4)],\n",
        "            [a2T.dot(w1), a2T.dot(w2), a2T.dot(w3), a2T.dot(w4)],\n",
        "            [a3T.dot(w1), a3T.dot(w2), a3T.dot(w3), a3T.dot(w4)]])"
      ],
      "metadata": {
        "colab": {
          "base_uri": "https://localhost:8080/",
          "height": 78
        },
        "id": "-KivvEeJ_SUJ",
        "outputId": "0b64a572-c270-45f4-ba59-587e1f0c1968"
      },
      "execution_count": 41,
      "outputs": [
        {
          "output_type": "execute_result",
          "data": {
            "text/plain": [
              "Matrix([\n",
              "[ 11.0,  17.0,  23.0,  9.0],\n",
              "[-11.0, -17.0, -23.0, -9.0],\n",
              "[  1.1,   1.7,   2.3,  0.9]])"
            ],
            "text/latex": "$\\displaystyle \\left[\\begin{matrix}11.0 & 17.0 & 23.0 & 9.0\\\\-11.0 & -17.0 & -23.0 & -9.0\\\\1.1 & 1.7 & 2.3 & 0.9\\end{matrix}\\right]$"
          },
          "metadata": {},
          "execution_count": 41
        }
      ]
    },
    {
      "cell_type": "code",
      "source": [
        "A.T @ W"
      ],
      "metadata": {
        "colab": {
          "base_uri": "https://localhost:8080/"
        },
        "id": "BBLFh3V2ATNi",
        "outputId": "c3526538-7707-4e23-c0d9-bec9de17f1f3"
      },
      "execution_count": 42,
      "outputs": [
        {
          "output_type": "execute_result",
          "data": {
            "text/plain": [
              "array([[ 11. ,  17. ,  23. ,   9. ],\n",
              "       [-11. , -17. , -23. ,  -9. ],\n",
              "       [  1.1,   1.7,   2.3,   0.9]])"
            ]
          },
          "metadata": {},
          "execution_count": 42
        }
      ]
    },
    {
      "cell_type": "code",
      "source": [
        "np.matmul(A.T, W)"
      ],
      "metadata": {
        "colab": {
          "base_uri": "https://localhost:8080/"
        },
        "id": "C3eASqAsChIx",
        "outputId": "9b1b2085-a47d-4eb6-e021-b246a79b62f6"
      },
      "execution_count": 43,
      "outputs": [
        {
          "output_type": "execute_result",
          "data": {
            "text/plain": [
              "array([[ 11. ,  17. ,  23. ,   9. ],\n",
              "       [-11. , -17. , -23. ,  -9. ],\n",
              "       [  1.1,   1.7,   2.3,   0.9]])"
            ]
          },
          "metadata": {},
          "execution_count": 43
        }
      ]
    },
    {
      "cell_type": "markdown",
      "source": [
        "## 2.1.4.4 Matrix multiplication code"
      ],
      "metadata": {
        "id": "k1x-PBolEUBE"
      }
    }
  ]
}