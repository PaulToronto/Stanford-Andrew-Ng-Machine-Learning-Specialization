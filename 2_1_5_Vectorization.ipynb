{
  "nbformat": 4,
  "nbformat_minor": 0,
  "metadata": {
    "colab": {
      "provenance": [],
      "toc_visible": true,
      "authorship_tag": "ABX9TyP237tnuayMB5YQFJzuxifo",
      "include_colab_link": true
    },
    "kernelspec": {
      "name": "python3",
      "display_name": "Python 3"
    },
    "language_info": {
      "name": "python"
    }
  },
  "cells": [
    {
      "cell_type": "markdown",
      "metadata": {
        "id": "view-in-github",
        "colab_type": "text"
      },
      "source": [
        "<a href=\"https://colab.research.google.com/github/PaulToronto/Stanford-Andrew-Ng-Machine-Learning-Specialization/blob/main/2_1_5_Vectorization.ipynb\" target=\"_parent\"><img src=\"https://colab.research.google.com/assets/colab-badge.svg\" alt=\"Open In Colab\"/></a>"
      ]
    },
    {
      "cell_type": "markdown",
      "source": [
        "# 2.1.5 Vectorization"
      ],
      "metadata": {
        "id": "ii1ija6pt7bb"
      }
    },
    {
      "cell_type": "markdown",
      "source": [
        "## Imports"
      ],
      "metadata": {
        "id": "wQ5jXtT_t_ZS"
      }
    },
    {
      "cell_type": "code",
      "execution_count": 1,
      "metadata": {
        "id": "yhdHc1-ft0BA"
      },
      "outputs": [],
      "source": [
        "import sympy as sym\n",
        "import numpy as np"
      ]
    },
    {
      "cell_type": "markdown",
      "source": [
        "## Functions"
      ],
      "metadata": {
        "id": "auG6DAEtTEja"
      }
    },
    {
      "cell_type": "code",
      "source": [
        "def sigmoid(z):\n",
        "    \"\"\"\n",
        "    Compute the sigmoid of z\n",
        "\n",
        "    Parameters\n",
        "    ----------\n",
        "    z : array_like\n",
        "        A scalar or numpy array of any size.\n",
        "\n",
        "    Returns\n",
        "    -------\n",
        "     g : array_like\n",
        "         sigmoid(z)\n",
        "    \"\"\"\n",
        "    z = np.clip( z, -500, 500 )           # protect against overflow\n",
        "    g = 1.0/(1.0+np.exp(-z))\n",
        "\n",
        "    return g"
      ],
      "metadata": {
        "id": "lDd0DxPXTGH-"
      },
      "execution_count": 2,
      "outputs": []
    },
    {
      "cell_type": "markdown",
      "source": [
        "## 2.1.4.1 How neural networks are implemented efficiently"
      ],
      "metadata": {
        "id": "m_SGIcoFuBJs"
      }
    },
    {
      "cell_type": "markdown",
      "source": [
        "### Forward propagation code for a single layer\n",
        "\n",
        "<img src='https://drive.google.com/uc?export=view&id=16Q6UQu5igmo1mProwbUOqlIWsGO7aM9b'>"
      ],
      "metadata": {
        "id": "wj-2aeYau76c"
      }
    },
    {
      "cell_type": "markdown",
      "source": [
        "## 2.1.4.2 Matrix multiplication"
      ],
      "metadata": {
        "id": "Eky5k1PTwtNm"
      }
    },
    {
      "cell_type": "markdown",
      "source": [
        "### Dot Product"
      ],
      "metadata": {
        "id": "yAqUNLxIxAM5"
      }
    },
    {
      "cell_type": "code",
      "source": [
        "a, b, c, d, e, f, g, h = sym.symbols('a b c d e f g h')"
      ],
      "metadata": {
        "id": "jUyc3P3qxP8B"
      },
      "execution_count": 3,
      "outputs": []
    },
    {
      "cell_type": "code",
      "source": [
        "A = sym.Matrix([a, b])\n",
        "B = sym.Matrix([c, d])"
      ],
      "metadata": {
        "id": "rr2pI84XxU5l"
      },
      "execution_count": 4,
      "outputs": []
    },
    {
      "cell_type": "code",
      "source": [
        "A.dot(B)"
      ],
      "metadata": {
        "colab": {
          "base_uri": "https://localhost:8080/",
          "height": 39
        },
        "id": "kJJgzE_BxkZ3",
        "outputId": "fa53b583-65b6-407c-f2e1-c00394f838f2"
      },
      "execution_count": 5,
      "outputs": [
        {
          "output_type": "execute_result",
          "data": {
            "text/plain": [
              "a*c + b*d"
            ],
            "text/latex": "$\\displaystyle a c + b d$"
          },
          "metadata": {},
          "execution_count": 5
        }
      ]
    },
    {
      "cell_type": "code",
      "source": [
        "# alternate\n",
        "A.T * B"
      ],
      "metadata": {
        "colab": {
          "base_uri": "https://localhost:8080/",
          "height": 39
        },
        "id": "GBptE4Jty5UJ",
        "outputId": "a678f0ae-d223-4e30-99b6-01e58746bd48"
      },
      "execution_count": 6,
      "outputs": [
        {
          "output_type": "execute_result",
          "data": {
            "text/plain": [
              "Matrix([[a*c + b*d]])"
            ],
            "text/latex": "$\\displaystyle \\left[\\begin{matrix}a c + b d\\end{matrix}\\right]$"
          },
          "metadata": {},
          "execution_count": 6
        }
      ]
    },
    {
      "cell_type": "code",
      "source": [
        "# alternate\n",
        "A.T @ B"
      ],
      "metadata": {
        "colab": {
          "base_uri": "https://localhost:8080/",
          "height": 39
        },
        "id": "tnj4CfnPzMVL",
        "outputId": "2f1ba224-4115-4f1d-9cbb-cd4a1cc9d70f"
      },
      "execution_count": 7,
      "outputs": [
        {
          "output_type": "execute_result",
          "data": {
            "text/plain": [
              "Matrix([[a*c + b*d]])"
            ],
            "text/latex": "$\\displaystyle \\left[\\begin{matrix}a c + b d\\end{matrix}\\right]$"
          },
          "metadata": {},
          "execution_count": 7
        }
      ]
    },
    {
      "cell_type": "code",
      "source": [
        "A = A.subs({a: 1, b: 2})\n",
        "B = B.subs({c: 3, d: 4})"
      ],
      "metadata": {
        "id": "HKgGF1GHx0TB"
      },
      "execution_count": 8,
      "outputs": []
    },
    {
      "cell_type": "code",
      "source": [
        "A.dot(B)"
      ],
      "metadata": {
        "colab": {
          "base_uri": "https://localhost:8080/",
          "height": 37
        },
        "id": "NhYCvX8Tx5LC",
        "outputId": "968a11f9-2ecd-4ab4-aad3-8c0d8a8d6664"
      },
      "execution_count": 9,
      "outputs": [
        {
          "output_type": "execute_result",
          "data": {
            "text/plain": [
              "11"
            ],
            "text/latex": "$\\displaystyle 11$"
          },
          "metadata": {},
          "execution_count": 9
        }
      ]
    },
    {
      "cell_type": "code",
      "source": [
        "A.T * B"
      ],
      "metadata": {
        "colab": {
          "base_uri": "https://localhost:8080/",
          "height": 39
        },
        "id": "ZlvWSBwgzV-A",
        "outputId": "6cf27f35-2f05-4b4f-a902-10b8c8ea2484"
      },
      "execution_count": 10,
      "outputs": [
        {
          "output_type": "execute_result",
          "data": {
            "text/plain": [
              "Matrix([[11]])"
            ],
            "text/latex": "$\\displaystyle \\left[\\begin{matrix}11\\end{matrix}\\right]$"
          },
          "metadata": {},
          "execution_count": 10
        }
      ]
    },
    {
      "cell_type": "code",
      "source": [
        "A.T @ B"
      ],
      "metadata": {
        "colab": {
          "base_uri": "https://localhost:8080/",
          "height": 39
        },
        "id": "4bqvHFZ7zbd_",
        "outputId": "a23f5710-822c-4bde-8679-61dc04103ad8"
      },
      "execution_count": 11,
      "outputs": [
        {
          "output_type": "execute_result",
          "data": {
            "text/plain": [
              "Matrix([[11]])"
            ],
            "text/latex": "$\\displaystyle \\left[\\begin{matrix}11\\end{matrix}\\right]$"
          },
          "metadata": {},
          "execution_count": 11
        }
      ]
    },
    {
      "cell_type": "markdown",
      "source": [
        "### Vector matrix multiplication"
      ],
      "metadata": {
        "id": "lxWwjCbSz4E9"
      }
    },
    {
      "cell_type": "code",
      "source": [
        "A = sym.Matrix([a, b])\n",
        "A"
      ],
      "metadata": {
        "colab": {
          "base_uri": "https://localhost:8080/",
          "height": 58
        },
        "id": "L_mY898bz-rl",
        "outputId": "a15d7669-bc24-4e4b-b37b-01f8733f3123"
      },
      "execution_count": 12,
      "outputs": [
        {
          "output_type": "execute_result",
          "data": {
            "text/plain": [
              "Matrix([\n",
              "[a],\n",
              "[b]])"
            ],
            "text/latex": "$\\displaystyle \\left[\\begin{matrix}a\\\\b\\end{matrix}\\right]$"
          },
          "metadata": {},
          "execution_count": 12
        }
      ]
    },
    {
      "cell_type": "code",
      "source": [
        "A.T"
      ],
      "metadata": {
        "colab": {
          "base_uri": "https://localhost:8080/",
          "height": 39
        },
        "id": "TyZ2xmgR0L-o",
        "outputId": "1fac5ffd-f23b-4590-96f8-89b599c101a5"
      },
      "execution_count": 13,
      "outputs": [
        {
          "output_type": "execute_result",
          "data": {
            "text/plain": [
              "Matrix([[a, b]])"
            ],
            "text/latex": "$\\displaystyle \\left[\\begin{matrix}a & b\\end{matrix}\\right]$"
          },
          "metadata": {},
          "execution_count": 13
        }
      ]
    },
    {
      "cell_type": "code",
      "source": [
        "M = sym.Matrix([[c, e],\n",
        "                [d, f]])\n",
        "M"
      ],
      "metadata": {
        "colab": {
          "base_uri": "https://localhost:8080/",
          "height": 58
        },
        "id": "QrLvF9-G0Yqf",
        "outputId": "e7e49800-a532-4809-c1be-e32ca2c454c0"
      },
      "execution_count": 14,
      "outputs": [
        {
          "output_type": "execute_result",
          "data": {
            "text/plain": [
              "Matrix([\n",
              "[c, e],\n",
              "[d, f]])"
            ],
            "text/latex": "$\\displaystyle \\left[\\begin{matrix}c & e\\\\d & f\\end{matrix}\\right]$"
          },
          "metadata": {},
          "execution_count": 14
        }
      ]
    },
    {
      "cell_type": "code",
      "source": [
        "A.T * M"
      ],
      "metadata": {
        "colab": {
          "base_uri": "https://localhost:8080/",
          "height": 39
        },
        "id": "91e5v__m0nAb",
        "outputId": "0488863c-f8dc-4fa7-9d50-08a782fb0680"
      },
      "execution_count": 15,
      "outputs": [
        {
          "output_type": "execute_result",
          "data": {
            "text/plain": [
              "Matrix([[a*c + b*d, a*e + b*f]])"
            ],
            "text/latex": "$\\displaystyle \\left[\\begin{matrix}a c + b d & a e + b f\\end{matrix}\\right]$"
          },
          "metadata": {},
          "execution_count": 15
        }
      ]
    },
    {
      "cell_type": "code",
      "source": [
        "sym.Matrix([A.dot(M.col(0)), A.dot(M.col(1))]).T"
      ],
      "metadata": {
        "colab": {
          "base_uri": "https://localhost:8080/",
          "height": 39
        },
        "id": "vaYqRcCn1NLI",
        "outputId": "397bdca7-e2f7-448e-c4d4-a40c4df23742"
      },
      "execution_count": 16,
      "outputs": [
        {
          "output_type": "execute_result",
          "data": {
            "text/plain": [
              "Matrix([[a*c + b*d, a*e + b*f]])"
            ],
            "text/latex": "$\\displaystyle \\left[\\begin{matrix}a c + b d & a e + b f\\end{matrix}\\right]$"
          },
          "metadata": {},
          "execution_count": 16
        }
      ]
    },
    {
      "cell_type": "code",
      "source": [
        "A = A.subs({a: 1, b: 2})\n",
        "M = M.subs({c: 3, d: 4, e: 5, f: 6})"
      ],
      "metadata": {
        "id": "CDRVb8hl1odI"
      },
      "execution_count": 17,
      "outputs": []
    },
    {
      "cell_type": "code",
      "source": [
        "A.T * M"
      ],
      "metadata": {
        "colab": {
          "base_uri": "https://localhost:8080/",
          "height": 39
        },
        "id": "PCal7wRm10rx",
        "outputId": "8165d549-d6b1-4d06-9787-8408d2c84e2f"
      },
      "execution_count": 18,
      "outputs": [
        {
          "output_type": "execute_result",
          "data": {
            "text/plain": [
              "Matrix([[11, 17]])"
            ],
            "text/latex": "$\\displaystyle \\left[\\begin{matrix}11 & 17\\end{matrix}\\right]$"
          },
          "metadata": {},
          "execution_count": 18
        }
      ]
    },
    {
      "cell_type": "markdown",
      "source": [
        "### Matrix matrix multiplication"
      ],
      "metadata": {
        "id": "IKFBbO632WfM"
      }
    },
    {
      "cell_type": "code",
      "source": [
        "A = sym.Matrix([[a, b],\n",
        "                [c, d]])\n",
        "B = sym.Matrix([[e, f],\n",
        "                [g, h]])"
      ],
      "metadata": {
        "id": "UJFqNom_2Nfr"
      },
      "execution_count": 19,
      "outputs": []
    },
    {
      "cell_type": "code",
      "source": [
        "A"
      ],
      "metadata": {
        "colab": {
          "base_uri": "https://localhost:8080/",
          "height": 58
        },
        "id": "4Fp-tFco2h_-",
        "outputId": "778162b6-aeb4-4a4b-d9fe-8ed01fa78fe8"
      },
      "execution_count": 20,
      "outputs": [
        {
          "output_type": "execute_result",
          "data": {
            "text/plain": [
              "Matrix([\n",
              "[a, b],\n",
              "[c, d]])"
            ],
            "text/latex": "$\\displaystyle \\left[\\begin{matrix}a & b\\\\c & d\\end{matrix}\\right]$"
          },
          "metadata": {},
          "execution_count": 20
        }
      ]
    },
    {
      "cell_type": "code",
      "source": [
        "B"
      ],
      "metadata": {
        "colab": {
          "base_uri": "https://localhost:8080/",
          "height": 58
        },
        "id": "zFP32OoK2jCr",
        "outputId": "26a53f4b-f2b5-4a3d-dca7-6f428ab3c5d6"
      },
      "execution_count": 21,
      "outputs": [
        {
          "output_type": "execute_result",
          "data": {
            "text/plain": [
              "Matrix([\n",
              "[e, f],\n",
              "[g, h]])"
            ],
            "text/latex": "$\\displaystyle \\left[\\begin{matrix}e & f\\\\g & h\\end{matrix}\\right]$"
          },
          "metadata": {},
          "execution_count": 21
        }
      ]
    },
    {
      "cell_type": "code",
      "source": [
        "A * B"
      ],
      "metadata": {
        "colab": {
          "base_uri": "https://localhost:8080/",
          "height": 58
        },
        "id": "7tr0HVak2ps7",
        "outputId": "e1bbb093-0de4-4713-aff5-2dd1e0c9cb29"
      },
      "execution_count": 22,
      "outputs": [
        {
          "output_type": "execute_result",
          "data": {
            "text/plain": [
              "Matrix([\n",
              "[a*e + b*g, a*f + b*h],\n",
              "[c*e + d*g, c*f + d*h]])"
            ],
            "text/latex": "$\\displaystyle \\left[\\begin{matrix}a e + b g & a f + b h\\\\c e + d g & c f + d h\\end{matrix}\\right]$"
          },
          "metadata": {},
          "execution_count": 22
        }
      ]
    },
    {
      "cell_type": "code",
      "source": [
        "sym.Matrix([[A.row(0).dot(B.col(0)), A.row(0).dot(B.col(1))],\n",
        "            [A.row(1).dot(B.col(0)), A.row(1).dot(B.col(1))]])"
      ],
      "metadata": {
        "colab": {
          "base_uri": "https://localhost:8080/",
          "height": 58
        },
        "id": "-IKjkeQh2sHc",
        "outputId": "59611082-1bb6-4f20-b284-382ac5db092d"
      },
      "execution_count": 23,
      "outputs": [
        {
          "output_type": "execute_result",
          "data": {
            "text/plain": [
              "Matrix([\n",
              "[a*e + b*g, a*f + b*h],\n",
              "[c*e + d*g, c*f + d*h]])"
            ],
            "text/latex": "$\\displaystyle \\left[\\begin{matrix}a e + b g & a f + b h\\\\c e + d g & c f + d h\\end{matrix}\\right]$"
          },
          "metadata": {},
          "execution_count": 23
        }
      ]
    },
    {
      "cell_type": "code",
      "source": [
        "A = A.subs({a: 1, b: -1, c: 2, d: -2})\n",
        "A"
      ],
      "metadata": {
        "colab": {
          "base_uri": "https://localhost:8080/",
          "height": 58
        },
        "id": "pW3gUtS53pYM",
        "outputId": "ff4ae814-1907-480f-a13b-2886ad23069f"
      },
      "execution_count": 24,
      "outputs": [
        {
          "output_type": "execute_result",
          "data": {
            "text/plain": [
              "Matrix([\n",
              "[1, -1],\n",
              "[2, -2]])"
            ],
            "text/latex": "$\\displaystyle \\left[\\begin{matrix}1 & -1\\\\2 & -2\\end{matrix}\\right]$"
          },
          "metadata": {},
          "execution_count": 24
        }
      ]
    },
    {
      "cell_type": "code",
      "source": [
        "A.T"
      ],
      "metadata": {
        "colab": {
          "base_uri": "https://localhost:8080/",
          "height": 58
        },
        "id": "iiv3dmK_3xRP",
        "outputId": "ef6ec55f-8e8c-40aa-ee5e-59d1bbbb7e27"
      },
      "execution_count": 25,
      "outputs": [
        {
          "output_type": "execute_result",
          "data": {
            "text/plain": [
              "Matrix([\n",
              "[ 1,  2],\n",
              "[-1, -2]])"
            ],
            "text/latex": "$\\displaystyle \\left[\\begin{matrix}1 & 2\\\\-1 & -2\\end{matrix}\\right]$"
          },
          "metadata": {},
          "execution_count": 25
        }
      ]
    },
    {
      "cell_type": "code",
      "source": [
        "M"
      ],
      "metadata": {
        "colab": {
          "base_uri": "https://localhost:8080/",
          "height": 58
        },
        "id": "0z6SRMJk4UzW",
        "outputId": "36d0cd6b-636e-4359-9ef7-277ba06a5fa4"
      },
      "execution_count": 26,
      "outputs": [
        {
          "output_type": "execute_result",
          "data": {
            "text/plain": [
              "Matrix([\n",
              "[3, 5],\n",
              "[4, 6]])"
            ],
            "text/latex": "$\\displaystyle \\left[\\begin{matrix}3 & 5\\\\4 & 6\\end{matrix}\\right]$"
          },
          "metadata": {},
          "execution_count": 26
        }
      ]
    },
    {
      "cell_type": "code",
      "source": [
        "A.T * M"
      ],
      "metadata": {
        "colab": {
          "base_uri": "https://localhost:8080/",
          "height": 58
        },
        "id": "sR-d9qF84WQD",
        "outputId": "5ef5c931-983d-49b6-e69a-23c0caaed1d2"
      },
      "execution_count": 27,
      "outputs": [
        {
          "output_type": "execute_result",
          "data": {
            "text/plain": [
              "Matrix([\n",
              "[ 11,  17],\n",
              "[-11, -17]])"
            ],
            "text/latex": "$\\displaystyle \\left[\\begin{matrix}11 & 17\\\\-11 & -17\\end{matrix}\\right]$"
          },
          "metadata": {},
          "execution_count": 27
        }
      ]
    },
    {
      "cell_type": "code",
      "source": [
        "A.T @ M"
      ],
      "metadata": {
        "colab": {
          "base_uri": "https://localhost:8080/",
          "height": 58
        },
        "id": "EY78cz754Yfi",
        "outputId": "587880e6-76a3-4087-c334-86cb57e31db5"
      },
      "execution_count": 28,
      "outputs": [
        {
          "output_type": "execute_result",
          "data": {
            "text/plain": [
              "Matrix([\n",
              "[ 11,  17],\n",
              "[-11, -17]])"
            ],
            "text/latex": "$\\displaystyle \\left[\\begin{matrix}11 & 17\\\\-11 & -17\\end{matrix}\\right]$"
          },
          "metadata": {},
          "execution_count": 28
        }
      ]
    },
    {
      "cell_type": "markdown",
      "source": [
        "### A way to think about matrices used for vectorization\n",
        "\n",
        "- Think of a matrix as being a collection of column vectors\n",
        "- Think of the transpose of a matrix as being a collection of row vectors"
      ],
      "metadata": {
        "id": "wWT7rAkZ44sJ"
      }
    },
    {
      "cell_type": "markdown",
      "source": [
        "## 2.1.4.3 Matrix multiplication rules"
      ],
      "metadata": {
        "id": "xph_QktI55f6"
      }
    },
    {
      "cell_type": "code",
      "source": [
        "W = np.array([[3, 5, 7, 9],\n",
        "              [4, 6, 8, 0]])\n",
        "W"
      ],
      "metadata": {
        "colab": {
          "base_uri": "https://localhost:8080/"
        },
        "id": "r_lcbemy9CTz",
        "outputId": "f2d04d67-e681-4724-b8c6-da1ede2e149e"
      },
      "execution_count": 29,
      "outputs": [
        {
          "output_type": "execute_result",
          "data": {
            "text/plain": [
              "array([[3, 5, 7, 9],\n",
              "       [4, 6, 8, 0]])"
            ]
          },
          "metadata": {},
          "execution_count": 29
        }
      ]
    },
    {
      "cell_type": "code",
      "source": [
        "Wsym = sym.Matrix(W)\n",
        "Wsym"
      ],
      "metadata": {
        "colab": {
          "base_uri": "https://localhost:8080/",
          "height": 58
        },
        "id": "80cc_sG89It0",
        "outputId": "01e5b5e3-2724-4123-84c1-648ec6779767"
      },
      "execution_count": 30,
      "outputs": [
        {
          "output_type": "execute_result",
          "data": {
            "text/plain": [
              "Matrix([\n",
              "[3, 5, 7, 9],\n",
              "[4, 6, 8, 0]])"
            ],
            "text/latex": "$\\displaystyle \\left[\\begin{matrix}3 & 5 & 7 & 9\\\\4 & 6 & 8 & 0\\end{matrix}\\right]$"
          },
          "metadata": {},
          "execution_count": 30
        }
      ]
    },
    {
      "cell_type": "code",
      "source": [
        "A = np.array([[1, -1, 0.1],\n",
        "               [2, -2, 0.2]])\n",
        "A"
      ],
      "metadata": {
        "colab": {
          "base_uri": "https://localhost:8080/"
        },
        "id": "bP-BvbTo62Hl",
        "outputId": "79726276-4b73-4df0-af88-8f6302bae564"
      },
      "execution_count": 31,
      "outputs": [
        {
          "output_type": "execute_result",
          "data": {
            "text/plain": [
              "array([[ 1. , -1. ,  0.1],\n",
              "       [ 2. , -2. ,  0.2]])"
            ]
          },
          "metadata": {},
          "execution_count": 31
        }
      ]
    },
    {
      "cell_type": "code",
      "source": [
        "Asym = sym.Matrix(A)\n",
        "Asym"
      ],
      "metadata": {
        "colab": {
          "base_uri": "https://localhost:8080/",
          "height": 58
        },
        "id": "uQ1nMoBr7K13",
        "outputId": "642f8282-c0ec-4d4b-8672-e67cbe10bd10"
      },
      "execution_count": 32,
      "outputs": [
        {
          "output_type": "execute_result",
          "data": {
            "text/plain": [
              "Matrix([\n",
              "[1.0, -1.0, 0.1],\n",
              "[2.0, -2.0, 0.2]])"
            ],
            "text/latex": "$\\displaystyle \\left[\\begin{matrix}1.0 & -1.0 & 0.1\\\\2.0 & -2.0 & 0.2\\end{matrix}\\right]$"
          },
          "metadata": {},
          "execution_count": 32
        }
      ]
    },
    {
      "cell_type": "markdown",
      "source": [
        "Think of $Asym$ as 3 column vectors."
      ],
      "metadata": {
        "id": "qJQbCzow7b0s"
      }
    },
    {
      "cell_type": "code",
      "source": [
        "a1 = Asym.col(0)\n",
        "a2 = Asym.col(1)\n",
        "a3 = Asym.col(2)\n",
        "display(a1, a2, a3)"
      ],
      "metadata": {
        "colab": {
          "base_uri": "https://localhost:8080/",
          "height": 139
        },
        "id": "XmkKRxsD8PAG",
        "outputId": "0db59ba2-90fd-4663-ec43-fa93829af251"
      },
      "execution_count": 33,
      "outputs": [
        {
          "output_type": "display_data",
          "data": {
            "text/plain": [
              "Matrix([\n",
              "[1.0],\n",
              "[2.0]])"
            ],
            "text/latex": "$\\displaystyle \\left[\\begin{matrix}1.0\\\\2.0\\end{matrix}\\right]$"
          },
          "metadata": {}
        },
        {
          "output_type": "display_data",
          "data": {
            "text/plain": [
              "Matrix([\n",
              "[-1.0],\n",
              "[-2.0]])"
            ],
            "text/latex": "$\\displaystyle \\left[\\begin{matrix}-1.0\\\\-2.0\\end{matrix}\\right]$"
          },
          "metadata": {}
        },
        {
          "output_type": "display_data",
          "data": {
            "text/plain": [
              "Matrix([\n",
              "[0.1],\n",
              "[0.2]])"
            ],
            "text/latex": "$\\displaystyle \\left[\\begin{matrix}0.1\\\\0.2\\end{matrix}\\right]$"
          },
          "metadata": {}
        }
      ]
    },
    {
      "cell_type": "code",
      "source": [
        "A.T"
      ],
      "metadata": {
        "colab": {
          "base_uri": "https://localhost:8080/"
        },
        "id": "6FcnR5VB7kBX",
        "outputId": "c4da54d5-2832-46a9-ace9-cf1b2774421f"
      },
      "execution_count": 34,
      "outputs": [
        {
          "output_type": "execute_result",
          "data": {
            "text/plain": [
              "array([[ 1. ,  2. ],\n",
              "       [-1. , -2. ],\n",
              "       [ 0.1,  0.2]])"
            ]
          },
          "metadata": {},
          "execution_count": 34
        }
      ]
    },
    {
      "cell_type": "code",
      "source": [
        "Asym.T"
      ],
      "metadata": {
        "colab": {
          "base_uri": "https://localhost:8080/",
          "height": 78
        },
        "id": "neuyrh3t79Pi",
        "outputId": "2a0a5c5a-24bb-402a-8c78-cd8fad4236c4"
      },
      "execution_count": 35,
      "outputs": [
        {
          "output_type": "execute_result",
          "data": {
            "text/plain": [
              "Matrix([\n",
              "[ 1.0,  2.0],\n",
              "[-1.0, -2.0],\n",
              "[ 0.1,  0.2]])"
            ],
            "text/latex": "$\\displaystyle \\left[\\begin{matrix}1.0 & 2.0\\\\-1.0 & -2.0\\\\0.1 & 0.2\\end{matrix}\\right]$"
          },
          "metadata": {},
          "execution_count": 35
        }
      ]
    },
    {
      "cell_type": "markdown",
      "source": [
        "Think of `Asym.T` as 3 row vectors."
      ],
      "metadata": {
        "id": "Cd1lJuDm7oX2"
      }
    },
    {
      "cell_type": "code",
      "source": [
        "a1T = Asym.T.row(0)\n",
        "a2T = Asym.T.row(1)\n",
        "a3T = Asym.T.row(2)\n",
        "display(a1T, a2T, a3T)"
      ],
      "metadata": {
        "colab": {
          "base_uri": "https://localhost:8080/",
          "height": 82
        },
        "id": "zjEh9hF48eaW",
        "outputId": "ae9e9383-252c-44e1-c610-2302fe339f95"
      },
      "execution_count": 36,
      "outputs": [
        {
          "output_type": "display_data",
          "data": {
            "text/plain": [
              "Matrix([[1.0, 2.0]])"
            ],
            "text/latex": "$\\displaystyle \\left[\\begin{matrix}1.0 & 2.0\\end{matrix}\\right]$"
          },
          "metadata": {}
        },
        {
          "output_type": "display_data",
          "data": {
            "text/plain": [
              "Matrix([[-1.0, -2.0]])"
            ],
            "text/latex": "$\\displaystyle \\left[\\begin{matrix}-1.0 & -2.0\\end{matrix}\\right]$"
          },
          "metadata": {}
        },
        {
          "output_type": "display_data",
          "data": {
            "text/plain": [
              "Matrix([[0.1, 0.2]])"
            ],
            "text/latex": "$\\displaystyle \\left[\\begin{matrix}0.1 & 0.2\\end{matrix}\\right]$"
          },
          "metadata": {}
        }
      ]
    },
    {
      "cell_type": "markdown",
      "source": [
        "Think of `Wsym` as 4 column vectors"
      ],
      "metadata": {
        "id": "4a79aIxP9PfV"
      }
    },
    {
      "cell_type": "code",
      "source": [
        "w1 = Wsym.col(0)\n",
        "w2 = Wsym.col(1)\n",
        "w3 = Wsym.col(2)\n",
        "w4 = Wsym.col(3)\n",
        "display(w1, w2, w3, w4)"
      ],
      "metadata": {
        "colab": {
          "base_uri": "https://localhost:8080/",
          "height": 180
        },
        "id": "PXqAjIlp9Up5",
        "outputId": "094ef807-16c8-469f-aeef-491cddaeabd3"
      },
      "execution_count": 37,
      "outputs": [
        {
          "output_type": "display_data",
          "data": {
            "text/plain": [
              "Matrix([\n",
              "[3],\n",
              "[4]])"
            ],
            "text/latex": "$\\displaystyle \\left[\\begin{matrix}3\\\\4\\end{matrix}\\right]$"
          },
          "metadata": {}
        },
        {
          "output_type": "display_data",
          "data": {
            "text/plain": [
              "Matrix([\n",
              "[5],\n",
              "[6]])"
            ],
            "text/latex": "$\\displaystyle \\left[\\begin{matrix}5\\\\6\\end{matrix}\\right]$"
          },
          "metadata": {}
        },
        {
          "output_type": "display_data",
          "data": {
            "text/plain": [
              "Matrix([\n",
              "[7],\n",
              "[8]])"
            ],
            "text/latex": "$\\displaystyle \\left[\\begin{matrix}7\\\\8\\end{matrix}\\right]$"
          },
          "metadata": {}
        },
        {
          "output_type": "display_data",
          "data": {
            "text/plain": [
              "Matrix([\n",
              "[9],\n",
              "[0]])"
            ],
            "text/latex": "$\\displaystyle \\left[\\begin{matrix}9\\\\0\\end{matrix}\\right]$"
          },
          "metadata": {}
        }
      ]
    },
    {
      "cell_type": "markdown",
      "source": [
        "$$\n",
        "Z = A^{T}W\n",
        "$$"
      ],
      "metadata": {
        "id": "51PYAhVp9vIW"
      }
    },
    {
      "cell_type": "code",
      "source": [
        "Z = A.T @ W\n",
        "Z"
      ],
      "metadata": {
        "colab": {
          "base_uri": "https://localhost:8080/"
        },
        "id": "z_vun7Ym9s7Z",
        "outputId": "9c06144d-1f83-45c7-d500-9af3ce572d3a"
      },
      "execution_count": 38,
      "outputs": [
        {
          "output_type": "execute_result",
          "data": {
            "text/plain": [
              "array([[ 11. ,  17. ,  23. ,   9. ],\n",
              "       [-11. , -17. , -23. ,  -9. ],\n",
              "       [  1.1,   1.7,   2.3,   0.9]])"
            ]
          },
          "metadata": {},
          "execution_count": 38
        }
      ]
    },
    {
      "cell_type": "code",
      "source": [
        "Z = np.matmul(A.T, W)\n",
        "Z"
      ],
      "metadata": {
        "colab": {
          "base_uri": "https://localhost:8080/"
        },
        "id": "cIOsAArA-j7L",
        "outputId": "9be58ed4-06f3-4624-f0a8-354234fd5869"
      },
      "execution_count": 39,
      "outputs": [
        {
          "output_type": "execute_result",
          "data": {
            "text/plain": [
              "array([[ 11. ,  17. ,  23. ,   9. ],\n",
              "       [-11. , -17. , -23. ,  -9. ],\n",
              "       [  1.1,   1.7,   2.3,   0.9]])"
            ]
          },
          "metadata": {},
          "execution_count": 39
        }
      ]
    },
    {
      "cell_type": "code",
      "source": [
        "Zsym = Asym.T @ Wsym\n",
        "Zsym"
      ],
      "metadata": {
        "colab": {
          "base_uri": "https://localhost:8080/",
          "height": 78
        },
        "id": "UpDtVO2I-AEP",
        "outputId": "2f21c28b-a1b0-4f2b-dbdc-3c71c19c9ed0"
      },
      "execution_count": 40,
      "outputs": [
        {
          "output_type": "execute_result",
          "data": {
            "text/plain": [
              "Matrix([\n",
              "[ 11.0,  17.0,  23.0,  9.0],\n",
              "[-11.0, -17.0, -23.0, -9.0],\n",
              "[  1.1,   1.7,   2.3,  0.9]])"
            ],
            "text/latex": "$\\displaystyle \\left[\\begin{matrix}11.0 & 17.0 & 23.0 & 9.0\\\\-11.0 & -17.0 & -23.0 & -9.0\\\\1.1 & 1.7 & 2.3 & 0.9\\end{matrix}\\right]$"
          },
          "metadata": {},
          "execution_count": 40
        }
      ]
    },
    {
      "cell_type": "code",
      "source": [
        "Asym.T.shape, Wsym.shape"
      ],
      "metadata": {
        "colab": {
          "base_uri": "https://localhost:8080/"
        },
        "id": "_U3AcJj8-GAO",
        "outputId": "5e8684f1-2a59-4f6a-9e6e-034af7bc9566"
      },
      "execution_count": 41,
      "outputs": [
        {
          "output_type": "execute_result",
          "data": {
            "text/plain": [
              "((3, 2), (2, 4))"
            ]
          },
          "metadata": {},
          "execution_count": 41
        }
      ]
    },
    {
      "cell_type": "markdown",
      "source": [
        "The product will be a $3 \\times 4$ matrix"
      ],
      "metadata": {
        "id": "0Y79k-jE_M_q"
      }
    },
    {
      "cell_type": "code",
      "source": [
        "sym.Matrix([[a1T.dot(w1), a1T.dot(w2), a1T.dot(w3), a1T.dot(w4)],\n",
        "            [a2T.dot(w1), a2T.dot(w2), a2T.dot(w3), a2T.dot(w4)],\n",
        "            [a3T.dot(w1), a3T.dot(w2), a3T.dot(w3), a3T.dot(w4)]])"
      ],
      "metadata": {
        "colab": {
          "base_uri": "https://localhost:8080/",
          "height": 78
        },
        "id": "-KivvEeJ_SUJ",
        "outputId": "4aaa90bd-878b-4e2b-81a2-14c6351a32ff"
      },
      "execution_count": 42,
      "outputs": [
        {
          "output_type": "execute_result",
          "data": {
            "text/plain": [
              "Matrix([\n",
              "[ 11.0,  17.0,  23.0,  9.0],\n",
              "[-11.0, -17.0, -23.0, -9.0],\n",
              "[  1.1,   1.7,   2.3,  0.9]])"
            ],
            "text/latex": "$\\displaystyle \\left[\\begin{matrix}11.0 & 17.0 & 23.0 & 9.0\\\\-11.0 & -17.0 & -23.0 & -9.0\\\\1.1 & 1.7 & 2.3 & 0.9\\end{matrix}\\right]$"
          },
          "metadata": {},
          "execution_count": 42
        }
      ]
    },
    {
      "cell_type": "code",
      "source": [
        "A.T @ W"
      ],
      "metadata": {
        "colab": {
          "base_uri": "https://localhost:8080/"
        },
        "id": "BBLFh3V2ATNi",
        "outputId": "ee62f25a-0c47-4e6f-a44d-658c8d13286c"
      },
      "execution_count": 43,
      "outputs": [
        {
          "output_type": "execute_result",
          "data": {
            "text/plain": [
              "array([[ 11. ,  17. ,  23. ,   9. ],\n",
              "       [-11. , -17. , -23. ,  -9. ],\n",
              "       [  1.1,   1.7,   2.3,   0.9]])"
            ]
          },
          "metadata": {},
          "execution_count": 43
        }
      ]
    },
    {
      "cell_type": "code",
      "source": [
        "np.matmul(A.T, W)"
      ],
      "metadata": {
        "colab": {
          "base_uri": "https://localhost:8080/"
        },
        "id": "C3eASqAsChIx",
        "outputId": "663c80d3-5368-4ace-ebea-87d0429ca667"
      },
      "execution_count": 44,
      "outputs": [
        {
          "output_type": "execute_result",
          "data": {
            "text/plain": [
              "array([[ 11. ,  17. ,  23. ,   9. ],\n",
              "       [-11. , -17. , -23. ,  -9. ],\n",
              "       [  1.1,   1.7,   2.3,   0.9]])"
            ]
          },
          "metadata": {},
          "execution_count": 44
        }
      ]
    },
    {
      "cell_type": "markdown",
      "source": [
        "## 2.1.4.4 Matrix multiplication code"
      ],
      "metadata": {
        "id": "k1x-PBolEUBE"
      }
    },
    {
      "cell_type": "code",
      "source": [
        "A = np.array([[200],\n",
        "              [17]])\n",
        "A.T.shape, A.T"
      ],
      "metadata": {
        "colab": {
          "base_uri": "https://localhost:8080/"
        },
        "id": "Uc68cSWoRELZ",
        "outputId": "c8f67fa6-d0dc-43fb-9445-b6c607920dca"
      },
      "execution_count": 45,
      "outputs": [
        {
          "output_type": "execute_result",
          "data": {
            "text/plain": [
              "((1, 2), array([[200,  17]]))"
            ]
          },
          "metadata": {},
          "execution_count": 45
        }
      ]
    },
    {
      "cell_type": "code",
      "source": [
        "W = np.array([[1, -3, 5],\n",
        "              [-2, 4, -6]])\n",
        "W.shape, W"
      ],
      "metadata": {
        "colab": {
          "base_uri": "https://localhost:8080/"
        },
        "id": "1usTQYP6RMHL",
        "outputId": "fd238885-11be-408a-c1b8-1a7e19438edf"
      },
      "execution_count": 46,
      "outputs": [
        {
          "output_type": "execute_result",
          "data": {
            "text/plain": [
              "((2, 3),\n",
              " array([[ 1, -3,  5],\n",
              "        [-2,  4, -6]]))"
            ]
          },
          "metadata": {},
          "execution_count": 46
        }
      ]
    },
    {
      "cell_type": "code",
      "source": [
        "B = np.array([[-1, 1, 2]])\n",
        "B.shape, B"
      ],
      "metadata": {
        "colab": {
          "base_uri": "https://localhost:8080/"
        },
        "id": "DnyoZLBTRVAD",
        "outputId": "f09c5be4-adad-4e56-a2c0-0115494c62be"
      },
      "execution_count": 47,
      "outputs": [
        {
          "output_type": "execute_result",
          "data": {
            "text/plain": [
              "((1, 3), array([[-1,  1,  2]]))"
            ]
          },
          "metadata": {},
          "execution_count": 47
        }
      ]
    },
    {
      "cell_type": "code",
      "source": [
        "Z = np.matmul(A.T, W) + B\n",
        "Z"
      ],
      "metadata": {
        "colab": {
          "base_uri": "https://localhost:8080/"
        },
        "id": "9W2uFi7pRn4g",
        "outputId": "27c65f90-1987-4821-df89-85352eaeccd9"
      },
      "execution_count": 48,
      "outputs": [
        {
          "output_type": "execute_result",
          "data": {
            "text/plain": [
              "array([[ 165, -531,  900]])"
            ]
          },
          "metadata": {},
          "execution_count": 48
        }
      ]
    },
    {
      "cell_type": "code",
      "source": [
        "sigmoid(Z)"
      ],
      "metadata": {
        "colab": {
          "base_uri": "https://localhost:8080/"
        },
        "id": "IP5TlriYS-7o",
        "outputId": "362ad4a8-2d34-426e-d0b7-c2f68a0f53f4"
      },
      "execution_count": 49,
      "outputs": [
        {
          "output_type": "execute_result",
          "data": {
            "text/plain": [
              "array([[1.00000000e+000, 7.12457641e-218, 1.00000000e+000]])"
            ]
          },
          "metadata": {},
          "execution_count": 49
        }
      ]
    },
    {
      "cell_type": "code",
      "source": [
        "def dense(A, W, B):\n",
        "    Z = np.matmul(A.T, W) + B\n",
        "    a_out = sigmoid(Z)\n",
        "    return a_out\n",
        "\n",
        "dense(A, W, B) # [1, 0, 1]"
      ],
      "metadata": {
        "colab": {
          "base_uri": "https://localhost:8080/"
        },
        "id": "3fkWaGQcTY1s",
        "outputId": "434958d0-0100-4752-ec55-eca73e1ed293"
      },
      "execution_count": 50,
      "outputs": [
        {
          "output_type": "execute_result",
          "data": {
            "text/plain": [
              "array([[1.00000000e+000, 7.12457641e-218, 1.00000000e+000]])"
            ]
          },
          "metadata": {},
          "execution_count": 50
        }
      ]
    },
    {
      "cell_type": "code",
      "source": [
        "# this is how it is implemented in the video\n",
        "def dense2(AT, W, B):\n",
        "    Z = np.matmul(AT, W) + B\n",
        "    a_out = sigmoid(Z)\n",
        "    return a_out\n",
        "\n",
        "dense2(A.T, W, B) # [1, 0, 1]"
      ],
      "metadata": {
        "colab": {
          "base_uri": "https://localhost:8080/"
        },
        "id": "wCjG6EiYVsdY",
        "outputId": "57bc6f66-2e21-479f-cf45-5c780bd27e9a"
      },
      "execution_count": 51,
      "outputs": [
        {
          "output_type": "execute_result",
          "data": {
            "text/plain": [
              "array([[1.00000000e+000, 7.12457641e-218, 1.00000000e+000]])"
            ]
          },
          "metadata": {},
          "execution_count": 51
        }
      ]
    }
  ]
}