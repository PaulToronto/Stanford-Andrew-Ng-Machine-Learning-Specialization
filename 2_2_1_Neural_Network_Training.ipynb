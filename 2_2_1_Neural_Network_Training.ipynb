{
  "nbformat": 4,
  "nbformat_minor": 0,
  "metadata": {
    "colab": {
      "provenance": [],
      "toc_visible": true,
      "authorship_tag": "ABX9TyNS+WAOmXA45CZxyHPAUhVv",
      "include_colab_link": true
    },
    "kernelspec": {
      "name": "python3",
      "display_name": "Python 3"
    },
    "language_info": {
      "name": "python"
    }
  },
  "cells": [
    {
      "cell_type": "markdown",
      "metadata": {
        "id": "view-in-github",
        "colab_type": "text"
      },
      "source": [
        "<a href=\"https://colab.research.google.com/github/PaulToronto/Stanford-Andrew-Ng-Machine-Learning-Specialization/blob/main/2_2_1_Neural_Network_Training.ipynb\" target=\"_parent\"><img src=\"https://colab.research.google.com/assets/colab-badge.svg\" alt=\"Open In Colab\"/></a>"
      ]
    },
    {
      "cell_type": "markdown",
      "source": [
        "# 2.2.1 Neural Network Training"
      ],
      "metadata": {
        "id": "d7uaIpPtbDHX"
      }
    },
    {
      "cell_type": "markdown",
      "source": [
        "## 2.2.1.1 TensorFlow implementation"
      ],
      "metadata": {
        "id": "sJ9ex-cNbH9u"
      }
    },
    {
      "cell_type": "markdown",
      "source": [
        "### Handwritten Digit Recognition\n",
        "\n",
        "<img src='https://drive.google.com/uc?export=view&id=1C_A9lzNGf9qYiZDKQ5LZl34Inhv1Dk__'>\n",
        "\n",
        "#### Steps to train a Neural Network in TensorFlow\n",
        "\n",
        "1. Specify the model\n",
        "2. Compile the model\n",
        "3. Fit the model"
      ],
      "metadata": {
        "id": "-4s3AmAGc4rh"
      }
    },
    {
      "cell_type": "markdown",
      "source": [
        "## 2.2.1.2 Training Details"
      ],
      "metadata": {
        "id": "S8P_pEvmfbtr"
      }
    },
    {
      "cell_type": "markdown",
      "source": [
        "<img src='https://drive.google.com/uc?export=view&id=1yGMwVdV3EZ8YSz9NqTGBzPgo-Cm3y2Hf'>"
      ],
      "metadata": {
        "id": "FN-9ak4YmJb1"
      }
    },
    {
      "cell_type": "markdown",
      "source": [
        "### Step 1: Create the model\n",
        "\n",
        "- specify how to compute output given input $\\vec{x}$ and parameters, $\\vec{w}$ and $b$.\n",
        "\n",
        "<img src='https://drive.google.com/uc?export=view&id=1R2M68c62VCoyNghi3N8LHqFXQ0QXgtkW'>\n",
        "\n"
      ],
      "metadata": {
        "id": "Ds3PBblimg2r"
      }
    },
    {
      "cell_type": "markdown",
      "source": [
        "### Step 2: Loss and cost functions\n",
        "\n",
        "<img src='https://drive.google.com/uc?export=view&id=1Fpio_QO0VyLSLrXI3wZCLyZ_OLT1-Z4t'>\n"
      ],
      "metadata": {
        "id": "P4mQ6607piCu"
      }
    },
    {
      "cell_type": "markdown",
      "source": [
        "### Step 3: Gradient Descent\n",
        "\n",
        "- Gradient descent is repeated for every layer $l$ and every unit $j$\n",
        "\n",
        "<img src='https://drive.google.com/uc?export=view&id=1kHsyIvStL78N6cXIT4e6vsp1ykfJkn82'>"
      ],
      "metadata": {
        "id": "lMJfmfg8seZE"
      }
    }
  ]
}