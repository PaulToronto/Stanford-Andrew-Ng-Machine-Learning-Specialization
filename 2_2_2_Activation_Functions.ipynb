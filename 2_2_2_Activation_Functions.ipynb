{
  "nbformat": 4,
  "nbformat_minor": 0,
  "metadata": {
    "colab": {
      "provenance": [],
      "toc_visible": true,
      "authorship_tag": "ABX9TyMMpbjsvjIZ0Ylh1ScHk/1u",
      "include_colab_link": true
    },
    "kernelspec": {
      "name": "python3",
      "display_name": "Python 3"
    },
    "language_info": {
      "name": "python"
    }
  },
  "cells": [
    {
      "cell_type": "markdown",
      "metadata": {
        "id": "view-in-github",
        "colab_type": "text"
      },
      "source": [
        "<a href=\"https://colab.research.google.com/github/PaulToronto/Stanford-Andrew-Ng-Machine-Learning-Specialization/blob/main/2_2_2_Activation_Functions.ipynb\" target=\"_parent\"><img src=\"https://colab.research.google.com/assets/colab-badge.svg\" alt=\"Open In Colab\"/></a>"
      ]
    },
    {
      "cell_type": "markdown",
      "source": [
        "# 2.2.2 Activation Functions"
      ],
      "metadata": {
        "id": "MUS4leAayE9W"
      }
    },
    {
      "cell_type": "markdown",
      "source": [
        "## Imports"
      ],
      "metadata": {
        "id": "jbHfEtW1yJnp"
      }
    },
    {
      "cell_type": "code",
      "execution_count": 1,
      "metadata": {
        "id": "tVAmocKAx_s7"
      },
      "outputs": [],
      "source": [
        "import numpy as np\n",
        "import matplotlib.pyplot as plt"
      ]
    },
    {
      "cell_type": "markdown",
      "source": [
        "## 2.2.2.1 Alternatives to the sigmoid activation"
      ],
      "metadata": {
        "id": "wERsst4XyM5h"
      }
    },
    {
      "cell_type": "markdown",
      "source": [
        "Recall the demand prediction example (T-shirts) from previous a previous lecture.\n",
        "\n",
        "<img src='https://drive.google.com/uc?export=view&id=1HE-uao34rDYmvfi8NyG9HQIs6n6iX_8w'>\n",
        "\n",
        "- We are assumiming that \"awareness\" is binary\n",
        " - People can be a little bit aware, somewhat aware, extremely aware, or maybe the awareness of the item has gone viral\n",
        " - So instead of modeling awareness as binary (0, 1) and then estimating a probability of awareness, maybew awareness should be any non-negative number: from 0 to very large numbers"
      ],
      "metadata": {
        "id": "nzcvIXtIKf3F"
      }
    },
    {
      "cell_type": "markdown",
      "source": [
        "We could change the activation function.\n",
        "\n",
        "<img src='https://drive.google.com/uc?export=view&id=11PFMySBrr3BEhENj7Ln2Cz15ngsZA8H_'>\n",
        "\n",
        "  "
      ],
      "metadata": {
        "id": "54oaQT8TNuwc"
      }
    },
    {
      "cell_type": "code",
      "source": [
        "x = np.linspace(-100, 100, 100)\n",
        "y = np.zeros_like(x)\n",
        "\n",
        "for i, number in enumerate(x):\n",
        "    y[i] = np.max([0, number])\n",
        "\n",
        "plt.figure(figsize=(6, 4))\n",
        "plt.title('ReLU')\n",
        "plt.xlabel('z')\n",
        "plt.ylabel('g(z)')\n",
        "\n",
        "plt.plot(x, y, label='g(z) = max(0, z)')\n",
        "plt.legend()\n",
        "\n",
        "plt.show()"
      ],
      "metadata": {
        "colab": {
          "base_uri": "https://localhost:8080/",
          "height": 410
        },
        "id": "ErY35ZAkOF7L",
        "outputId": "1a0a2013-e40a-400b-f208-cb4fd8abdda9"
      },
      "execution_count": 2,
      "outputs": [
        {
          "output_type": "display_data",
          "data": {
            "text/plain": [
              "<Figure size 600x400 with 1 Axes>"
            ],
            "image/png": "[encoded data removed]"
          },
          "metadata": {}
        }
      ]
    },
    {
      "cell_type": "markdown",
      "source": [
        "The activation function\n",
        "\n",
        "$$\n",
        "g(z) = max(0, z)\n",
        "$$\n",
        "\n",
        "is called **ReLU**, which stands for **Rectified Linear Unit**."
      ],
      "metadata": {
        "id": "NZ6J_SrlRIHO"
      }
    },
    {
      "cell_type": "markdown",
      "source": [
        "### The most commonly used activation functions\n",
        "\n",
        "<img src='https://drive.google.com/uc?export=view&id=12zXBnZP46AojI-AKBsGaSwe8XF0Bx_CG'>\n",
        "\n",
        "- When choosing the **linear activation function**, that is equivalent to using no activation function at all"
      ],
      "metadata": {
        "id": "L-9ikPhHR48l"
      }
    },
    {
      "cell_type": "markdown",
      "source": [
        "## 2.2.2.2 Choosing activation functions"
      ],
      "metadata": {
        "id": "eMPJGQrtTHM-"
      }
    },
    {
      "cell_type": "markdown",
      "source": [
        "### Choosing an activation function for the output layer\n",
        "\n",
        "<img src='https://drive.google.com/uc?export=view&id=13zAF19obonRU9c-Nj3a-G6Q12cTApEwq'>\n",
        "\n",
        "- If it is a binary classification problem, then the **sigmoid activation function** will almost always be the most natural choice\n",
        " - in this case, the neural network learns to predict the probability that $y = 1$\n",
        "- If it is a regression problem, you might choose a different activation function\n",
        " - example: trying to predict how tomorrow's stock price will change compared to today's stock price\n",
        "    - this can go up or down, so $y$ can be negative or positive\n",
        "    - in this case, it is probably best to choose the **linear activation function**\n",
        "- If $y$ can only take on non-negative values, such as predicting the price of a house, then the most natural choice would be the **ReLU activation function**"
      ],
      "metadata": {
        "id": "IWe_bEe_q4uu"
      }
    },
    {
      "cell_type": "markdown",
      "source": [
        "### Choosing an activation function for the hidden layers\n",
        "\n",
        "<img src='https://drive.google.com/uc?export=view&id=1fYLQTpSbJy0rYKY2wq0cWjeRCtM7QgbA'>\n",
        "\n",
        "- The **ReLU activation function** is by far the most common choice\n",
        " - Two reasons:\n",
        "   1. ReLU is faster to compute\n",
        "   2. More importantly, the ReLU function goes flat in only one part of the graph, whereas the sigmoid function goes flat in two places. When the function is flat, gradient descent is slow. It is true that gradient descent optimizes the cost function, $J(w,b)$, but the activation function is a piece of what goes into the computation. More places in the activation function being flat results in more places in the cost function being flat.  "
      ],
      "metadata": {
        "id": "aN8HUW5Ptw6H"
      }
    },
    {
      "cell_type": "markdown",
      "source": [
        "### Summary\n",
        "\n",
        "<img src='https://drive.google.com/uc?export=view&id=17cqFHoiRNfAmjmBYDqm16PVo89R6EkD9'>\n",
        "\n",
        "- For the output layer:\n",
        " - **sigmoid activation function** for binary classification\n",
        " - **linear activation function** if $y$ can take on both positive and negative values\n",
        " - **ReLU activation function** if $y$ can only take on non-negative values\n",
        "- For the hidden layers:\n",
        " - **ReLU activation function** is the default"
      ],
      "metadata": {
        "id": "vhR8Z7yHxOVq"
      }
    },
    {
      "cell_type": "markdown",
      "source": [
        "## 2.2.2.3 Why do we need activation functions?"
      ],
      "metadata": {
        "id": "O3W6Q6Vo2ImR"
      }
    }
  ]
}