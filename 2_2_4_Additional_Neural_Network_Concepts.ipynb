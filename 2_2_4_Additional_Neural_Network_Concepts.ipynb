{
  "nbformat": 4,
  "nbformat_minor": 0,
  "metadata": {
    "colab": {
      "provenance": [],
      "toc_visible": true,
      "authorship_tag": "ABX9TyPhLp5svVpgxZybom33t/of",
      "include_colab_link": true
    },
    "kernelspec": {
      "name": "python3",
      "display_name": "Python 3"
    },
    "language_info": {
      "name": "python"
    }
  },
  "cells": [
    {
      "cell_type": "markdown",
      "metadata": {
        "id": "view-in-github",
        "colab_type": "text"
      },
      "source": [
        "<a href=\"https://colab.research.google.com/github/PaulToronto/Stanford-Andrew-Ng-Machine-Learning-Specialization/blob/main/2_2_4_Additional_Neural_Network_Concepts.ipynb\" target=\"_parent\"><img src=\"https://colab.research.google.com/assets/colab-badge.svg\" alt=\"Open In Colab\"/></a>"
      ]
    },
    {
      "cell_type": "markdown",
      "source": [
        "# 2.2.4 Additional Neural Network Concepts"
      ],
      "metadata": {
        "id": "HE5vRNTtmi7v"
      }
    },
    {
      "cell_type": "markdown",
      "source": [
        "## 2.2.4.1 Advanced Optimization\n",
        "\n",
        "There are alternative to Gradient Descent for minimizing the Cost Function which are faster."
      ],
      "metadata": {
        "id": "VlkLf4WYmoe9"
      }
    },
    {
      "cell_type": "markdown",
      "source": [
        "### **Adam** algorithm\n",
        "\n",
        "The **Adam** algorithm can increase or decrease the learning rate when it is appropriate to do so\n",
        "\n",
        "<img src='https://drive.google.com/uc?export=view&id=1Se7WdZi39oI83B38QgoFpcWPCk2HKML1'>\n",
        "\n",
        "- **increase $\\alpha$:** when each step is going in the same direction (left side of image)\n",
        "- **decrease $\\alpha$:** when the steps keep changing direction (right side of image)"
      ],
      "metadata": {
        "id": "1A7T_HZToXD_"
      }
    },
    {
      "cell_type": "markdown",
      "source": [
        "- The Adam algorithm doesn't use a global learning rage\n",
        "- It uses different learning rates for each parameter of your model\n",
        "- Below, there are 11 different learning rates\n",
        "\n",
        "<img src='https://drive.google.com/uc?export=view&id=1Cbye10Fz6NHlBrdVNs7_dS3KNfIquPn2'>\n",
        "\n",
        "- If $w_j$ or $b$ keeps moving in the same direction, increase $\\alpha_{j}$\n",
        "- If $w_j$ or $b$ keeps oscillating, decrease $\\alpha_{j}$\n",
        "- The details of the Adam algorithm are beyond the scope of this course\n"
      ],
      "metadata": {
        "id": "q4RuiAOmsesz"
      }
    },
    {
      "cell_type": "markdown",
      "source": [
        "<img src='https://drive.google.com/uc?export=view&id=1tW5g27bD53fVZbO-RsXHR2qWT3p8G1MJ'>\n",
        "\n",
        "- An optimizer is added to `model.compile()`\n",
        "- A default learning rate is needed\n",
        "    - This is a hyperparameter that can be tuned like any other"
      ],
      "metadata": {
        "id": "9X_r0GIAu5Hw"
      }
    },
    {
      "cell_type": "markdown",
      "source": [
        "## 2.2.4.2 Additional Layer Types"
      ],
      "metadata": {
        "id": "lRcWcTQtv8Py"
      }
    },
    {
      "cell_type": "markdown",
      "source": [
        "### Dense Layer\n",
        "\n",
        "<img src='https://drive.google.com/uc?export=view&id=1C7H0osE-br8HXSCwqDpSsPb1P6Wo85Gl'>"
      ],
      "metadata": {
        "id": "q1eHHRphwv4N"
      }
    },
    {
      "cell_type": "markdown",
      "source": [
        "### Convolutional Layer\n",
        "\n",
        "Yann LeCun in the founding father of convolutional nets: https://en.wikipedia.org/wiki/Yann_LeCun\n",
        "\n",
        "<img src='https://drive.google.com/uc?export=view&id=1KDRUiENJk-AiXN_qDhExL1Q5AYsTkVWf'>"
      ],
      "metadata": {
        "id": "usqVhaOaxW_S"
      }
    },
    {
      "cell_type": "markdown",
      "source": [
        "<img src='https://drive.google.com/uc?export=view&id=1REkfDQyqXBX-0v8x0DT9qFi0GfXQ_vU3'>\n",
        "\n",
        "- EKG: An electrocardiogram (ECG or EKG) records the electrical signal from the heart to check for different heart conditions. Electrodes are placed on the chest to record the heart's electrical signals, which cause the heart to beat. The signals are shown as waves on an attached computer monitor or printer.\n",
        "- $x_1, \\cdots x_{100}$ corresond to the heights of the curve at 100 different points\n",
        "- the goal is to predict whether or not the patient has a diagnosable heart condition\n",
        "- convolutional layers have a lot of architectural choices"
      ],
      "metadata": {
        "id": "9NyuHPsy2dKD"
      }
    }
  ]
}