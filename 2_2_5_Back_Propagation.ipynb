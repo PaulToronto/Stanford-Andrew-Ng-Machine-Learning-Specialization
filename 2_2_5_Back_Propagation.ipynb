{
  "nbformat": 4,
  "nbformat_minor": 0,
  "metadata": {
    "colab": {
      "provenance": [],
      "toc_visible": true,
      "authorship_tag": "ABX9TyOLeAAM/tuTjQ4K4f4u/7ec",
      "include_colab_link": true
    },
    "kernelspec": {
      "name": "python3",
      "display_name": "Python 3"
    },
    "language_info": {
      "name": "python"
    }
  },
  "cells": [
    {
      "cell_type": "markdown",
      "metadata": {
        "id": "view-in-github",
        "colab_type": "text"
      },
      "source": [
        "<a href=\"https://colab.research.google.com/github/PaulToronto/Stanford-Andrew-Ng-Machine-Learning-Specialization/blob/main/2_2_5_Back_Propagation.ipynb\" target=\"_parent\"><img src=\"https://colab.research.google.com/assets/colab-badge.svg\" alt=\"Open In Colab\"/></a>"
      ]
    },
    {
      "cell_type": "markdown",
      "source": [
        "# 2.2.5 Back Propagation\n",
        "\n",
        "The **Back Propagation** algorithm, which computes derivatives of your Cost Function with respect to the parameters, is a key algorithm in neural network learning."
      ],
      "metadata": {
        "id": "_n4GFuK26yhK"
      }
    },
    {
      "cell_type": "markdown",
      "source": [
        "## Imports"
      ],
      "metadata": {
        "id": "AVlX3LtqFpus"
      }
    },
    {
      "cell_type": "code",
      "source": [
        "import sympy as sym"
      ],
      "metadata": {
        "id": "6gSyAsyAFr9X"
      },
      "execution_count": 1,
      "outputs": []
    },
    {
      "cell_type": "markdown",
      "source": [
        "## 2.2.5.1 What is a derivative?\n",
        "\n",
        "\n"
      ],
      "metadata": {
        "id": "T-DcareU625h"
      }
    },
    {
      "cell_type": "markdown",
      "source": [
        "### Derivative Example\n",
        "\n",
        "- The smaller the value of $\\epsilon$, the more accurate this is.\n",
        "\n",
        "<img src='https://drive.google.com/uc?export=view&id=18dbJKy6hH70NJ6hLpoC1uBf9Vit7ZdIr'>"
      ],
      "metadata": {
        "id": "Hk493IIPA-UK"
      }
    },
    {
      "cell_type": "markdown",
      "source": [
        "### Informal Defintion of Derivate\n",
        "\n",
        "<img src='https://drive.google.com/uc?export=view&id=13kBsHr5sbbX46oEGAkBLkbIqKz0pfTag'>\n",
        "\n",
        "- $k$ is the derivative\n",
        "\n",
        "<img src='https://drive.google.com/uc?export=view&id=1oSr8925l-_wDJ9uq2jepS7r5FNLlYJF5'>"
      ],
      "metadata": {
        "id": "wbeSZ89AB5V6"
      }
    },
    {
      "cell_type": "markdown",
      "source": [
        "### More Derivative Examples\n",
        "\n",
        "<img src='https://drive.google.com/uc?export=view&id=1laItHmuWxfEF6wohSHgLEhlNZ-ahTtTM'>"
      ],
      "metadata": {
        "id": "AHfGbZn5DVws"
      }
    },
    {
      "cell_type": "code",
      "source": [
        "J, w = sym.symbols('J w')"
      ],
      "metadata": {
        "id": "Fj6QEhtBFuvV"
      },
      "execution_count": 2,
      "outputs": []
    },
    {
      "cell_type": "code",
      "source": [
        "J = w**2\n",
        "J.diff()"
      ],
      "metadata": {
        "colab": {
          "base_uri": "https://localhost:8080/",
          "height": 39
        },
        "id": "P3GZWiEPF-kP",
        "outputId": "27ea3f9e-01da-44fa-fa16-6a20f63875d6"
      },
      "execution_count": 3,
      "outputs": [
        {
          "output_type": "execute_result",
          "data": {
            "text/plain": [
              "2*w"
            ],
            "text/latex": "$\\displaystyle 2 w$"
          },
          "metadata": {},
          "execution_count": 3
        }
      ]
    },
    {
      "cell_type": "code",
      "source": [
        "J = w**3\n",
        "J.diff()"
      ],
      "metadata": {
        "colab": {
          "base_uri": "https://localhost:8080/",
          "height": 39
        },
        "id": "alJHX-pwHU-X",
        "outputId": "3cc428ac-e4e7-4eb1-b302-ec6a704939d2"
      },
      "execution_count": 4,
      "outputs": [
        {
          "output_type": "execute_result",
          "data": {
            "text/plain": [
              "3*w**2"
            ],
            "text/latex": "$\\displaystyle 3 w^{2}$"
          },
          "metadata": {},
          "execution_count": 4
        }
      ]
    },
    {
      "cell_type": "code",
      "source": [
        "J = w\n",
        "J.diff()"
      ],
      "metadata": {
        "colab": {
          "base_uri": "https://localhost:8080/",
          "height": 37
        },
        "id": "lQhjTguEH6O-",
        "outputId": "eb43cbf5-52bc-46a7-a4c1-8d6417f8fc9d"
      },
      "execution_count": 5,
      "outputs": [
        {
          "output_type": "execute_result",
          "data": {
            "text/plain": [
              "1"
            ],
            "text/latex": "$\\displaystyle 1$"
          },
          "metadata": {},
          "execution_count": 5
        }
      ]
    },
    {
      "cell_type": "code",
      "source": [
        "J = 1/w\n",
        "J.diff()"
      ],
      "metadata": {
        "colab": {
          "base_uri": "https://localhost:8080/",
          "height": 51
        },
        "id": "Ob8NXlNTIMpQ",
        "outputId": "e60e8d0a-05fc-4972-b0fa-940e48ac4a54"
      },
      "execution_count": 6,
      "outputs": [
        {
          "output_type": "execute_result",
          "data": {
            "text/plain": [
              "-1/w**2"
            ],
            "text/latex": "$\\displaystyle - \\frac{1}{w^{2}}$"
          },
          "metadata": {},
          "execution_count": 6
        }
      ]
    },
    {
      "cell_type": "markdown",
      "source": [
        "### Derivative Notation\n",
        "\n",
        "<img src='https://drive.google.com/uc?export=view&id=1B1pY5TBPRi4GZH93K69IHxdCqCs4WDz7'>"
      ],
      "metadata": {
        "id": "HGs0yIv1Kh4o"
      }
    },
    {
      "cell_type": "markdown",
      "source": [
        "## 2.2.5.2 Computation graph"
      ],
      "metadata": {
        "id": "AE5XQIc9LgX9"
      }
    }
  ]
}