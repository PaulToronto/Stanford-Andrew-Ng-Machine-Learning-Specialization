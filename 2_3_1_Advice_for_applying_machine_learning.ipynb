{
  "nbformat": 4,
  "nbformat_minor": 0,
  "metadata": {
    "colab": {
      "provenance": [],
      "toc_visible": true,
      "authorship_tag": "ABX9TyM8ELAF/yp9gvjrk/UwfwgB",
      "include_colab_link": true
    },
    "kernelspec": {
      "name": "python3",
      "display_name": "Python 3"
    },
    "language_info": {
      "name": "python"
    }
  },
  "cells": [
    {
      "cell_type": "markdown",
      "metadata": {
        "id": "view-in-github",
        "colab_type": "text"
      },
      "source": [
        "<a href=\"https://colab.research.google.com/github/PaulToronto/Stanford-Andrew-Ng-Machine-Learning-Specialization/blob/main/2_3_1_Advice_for_applying_machine_learning.ipynb\" target=\"_parent\"><img src=\"https://colab.research.google.com/assets/colab-badge.svg\" alt=\"Open In Colab\"/></a>"
      ]
    },
    {
      "cell_type": "markdown",
      "source": [
        "# 2.3.1 Advice for applying machine learning"
      ],
      "metadata": {
        "id": "dwpSAYlpptd2"
      }
    },
    {
      "cell_type": "markdown",
      "source": [
        "## 2.3.1.1 Deciding what to try next"
      ],
      "metadata": {
        "id": "uPsvE5Etpzl9"
      }
    },
    {
      "cell_type": "markdown",
      "source": [
        "### Review of Overfitting and Underfitting\n",
        "\n",
        "- **high bias - underfitting** refers to a strong preconception or bias that the housing prices are going to be a completely linear function\n",
        "- **high variance - overfitting** refers to the fact that a slightly different training set would likely give rise to a very different model\n",
        "- **regularization** shrinks the parameters which reduces variance and increases bias\n",
        " - the higher the value of $\\lambda$ the more the variance is reduced\n",
        " - a value of lambda that is too high could result in high bias"
      ],
      "metadata": {
        "id": "vGiTUAIB2BwC"
      }
    },
    {
      "cell_type": "markdown",
      "source": [
        "### Degugging a learning algorithm\n",
        "\n",
        "<img src='https://drive.google.com/uc?export=view&id=1o-OkJxot4AodNNzAPKLTJpydZgKBckpg'>\n",
        "\n",
        "- Get more training examples\n",
        "- Try smaller sets of features\n",
        "- Try getting additional features\n",
        "- Try adding polynomial features ($x_1^{2}, x_2^{2}, x_1^{3}$, etc)\n",
        "- Try decreasing $\\lambda$\n",
        "- Try increasing $\\lambda$\n",
        "\n",
        "Some of these things could be fruitful and others might not. They key to being effecive at building an ML model is to find a way to make good choices about where you invest your time.\n",
        "\n",
        "- Should you spend weeks collecting more training example?\n",
        "    - May or may not help\n",
        "\n",
        "There are diagnostic tests which can help you gain insight into what is and isn't working.\n",
        "\n",
        "- Diagnostics can take time to implement, but running them could be a very good use of your time, saving months of time."
      ],
      "metadata": {
        "id": "4eEww1Ft4avD"
      }
    },
    {
      "cell_type": "markdown",
      "source": [
        "## 2.3.1.2 Evaluating a model\n",
        "\n",
        "Having a systematic way to evaluate performance helps paint a clearer path to improving its performance."
      ],
      "metadata": {
        "id": "tVW5Su3P81e2"
      }
    },
    {
      "cell_type": "markdown",
      "source": [
        "### Example: Predicting Housing Prices\n",
        "\n",
        "<img src='https://drive.google.com/uc?export=view&id=1BSJ5wa1-4HOFL32r3Khdco00Iy2bpTuX'>\n",
        "\n",
        "- Only a single feature is being used: $x_1$\n",
        " - But there are polynomial features of that single feature included\n",
        " - If more features are added, it becomes impossible to visualize\n",
        "\n",
        "Since we can't visualize it, we need a systematic way to evaluate the model\n",
        "\n",
        "- Split the data into a **training set** and a **test set**\n",
        " - a 70/30 split is commonly used\n",
        "\n",
        " <img src='https://drive.google.com/uc?export=view&id=1Zicv3UhOatavZmzafbDisSqxMdEjA1in'>\n",
        "\n",
        " - Notice that when the error is computed in the test set, the **regularization term is not included**.\n",
        "\n",
        "<img src='https://drive.google.com/uc?export=view&id=1mkm_SLd0yojjh-eGid0JgG-3QWTn-UgZ'>\n",
        "\n",
        "- The training error can also be computed, **without the regularization parameter**.\n",
        "\n",
        "<img src='https://drive.google.com/uc?export=view&id=1u8sbtBhTGxa86WOHW5ikkzIHazo9sePU'>\n",
        "\n",
        "- If $J_{train}$ is low, but $J_{test}$ is high, then the model is not generalizing well.\n",
        " - That means the model has high variance\n",
        " - The model is overfitting\n",
        "\n",
        "\n",
        "\n"
      ],
      "metadata": {
        "id": "gzO80Zpu9x4T"
      }
    },
    {
      "cell_type": "markdown",
      "source": [
        "### Example: A Binary Classification Problem\n",
        "\n",
        "- Suppose logistic regression is used\n",
        "- Again, the **regularization term is not used when computing the test error or the training error**\n",
        "\n",
        "<img src='https://drive.google.com/uc?export=view&id=1BuJ0XcIDdGRm6PfAW0l_amM1KYdWsUAY'>\n",
        "\n",
        "- Computing the test error and train error this way is not as common for binary classification models\n",
        "- Instead of using logistic loss to compute the test error and the training error, it is more commong to measure the **fraction of the test set and the fraction of the training set that the algorithm has misclassified**\n",
        "\n",
        "<img src='https://drive.google.com/uc?export=view&id=16PUYzBqI9Rocqecgc87eNMUDcOBbMb0Q'>\n",
        "\n",
        "\n"
      ],
      "metadata": {
        "id": "Kjrp8MutJw5k"
      }
    },
    {
      "cell_type": "markdown",
      "source": [
        "## 2.3.1.3 Model selection and training/cross validation/test sets"
      ],
      "metadata": {
        "id": "UcT5Rw7RN83Y"
      }
    }
  ]
}