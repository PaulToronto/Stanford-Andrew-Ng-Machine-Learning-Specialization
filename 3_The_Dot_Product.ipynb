{
  "nbformat": 4,
  "nbformat_minor": 0,
  "metadata": {
    "colab": {
      "provenance": [],
      "toc_visible": true,
      "authorship_tag": "ABX9TyMctPUQ2uT3Kw3CzVLwz0J0",
      "include_colab_link": true
    },
    "kernelspec": {
      "name": "python3",
      "display_name": "Python 3"
    },
    "language_info": {
      "name": "python"
    }
  },
  "cells": [
    {
      "cell_type": "markdown",
      "metadata": {
        "id": "view-in-github",
        "colab_type": "text"
      },
      "source": [
        "<a href=\"https://colab.research.google.com/github/PaulToronto/Stanford-Andrew-Ng-Machine-Learning-Specialization/blob/main/3_The_Dot_Product.ipynb\" target=\"_parent\"><img src=\"https://colab.research.google.com/assets/colab-badge.svg\" alt=\"Open In Colab\"/></a>"
      ]
    },
    {
      "cell_type": "markdown",
      "source": [
        "# The Dot Product"
      ],
      "metadata": {
        "id": "IbRQht0gFf9U"
      }
    },
    {
      "cell_type": "markdown",
      "source": [
        "## Imports"
      ],
      "metadata": {
        "id": "zh82Gd7xFi-o"
      }
    },
    {
      "cell_type": "code",
      "execution_count": 1,
      "metadata": {
        "id": "Ai4cNTsSFdoM"
      },
      "outputs": [],
      "source": [
        "import matplotlib.pyplot as plt\n",
        "import numpy as np"
      ]
    },
    {
      "cell_type": "markdown",
      "source": [
        "## Defintion: Dot Product\n",
        "\n",
        "If $\\mathbf{a}$ and $\\mathbf{b}$ are two vectors taken with a comon initial point, then\n",
        "\n",
        "$$\n",
        "\\mathbf{a} \\cdot \\mathbf{b} = \\left|\\mathbf{a}\\right|\\left|\\mathbf{b}\\right|\\cos{\\theta}\n",
        "$$\n",
        "\n",
        "where $\\theta$ is the angle between $\\mathbf{a}$ and $\\mathbf{b}$ and $0 \\le \\theta \\le \\pi$."
      ],
      "metadata": {
        "id": "X0i6oczZF12R"
      }
    },
    {
      "cell_type": "markdown",
      "source": [
        "## Properties of the Dot Product"
      ],
      "metadata": {
        "id": "Wz56fYITGsZv"
      }
    },
    {
      "cell_type": "markdown",
      "source": [
        "### 1. The Dot Product is Commutative $\\mathbf{a}\\cdot\\mathbf{b} = \\mathbf{b}\\cdot\\mathbf{a}$\n",
        "\n",
        "$$\n",
        "\\begin{align}\n",
        "\\mathbf{a}\\cdot\\mathbf{b} &= \\left|\\mathbf{a}\\right|\\left|\\mathbf{b}\\right|\\cos{\\theta} \\\\\n",
        "&= \\left|\\mathbf{b}\\right|\\left|\\mathbf{a}\\right|\\cos{\\theta} \\\\\n",
        "&= \\mathbf{b}\\cdot\\mathbf{a}\n",
        "\\end{align}\n",
        "$$"
      ],
      "metadata": {
        "id": "12zbHf_jKRGu"
      }
    },
    {
      "cell_type": "markdown",
      "source": [
        "### 2. Vectors $\\mathbf{a}$, $\\mathbf{b}$ are perpendicular if and only if $\\mathbf{a}\\cdot\\mathbf{b} = 0$\n",
        "\n",
        "$$\n",
        "\\begin{align}\n",
        "\\theta = \\frac{\\pi}{2} &\\iff \\cos{\\theta} = 0 \\\\\n",
        "&\\iff \\left|\\mathbf{a}\\right|\\left|\\mathbf{b}\\right|\\cos{\\theta} = 0 \\\\\n",
        "&\\iff \\mathbf{a}\\cdot\\mathbf{b} = 0\n",
        "\\end{align}\n",
        "$$"
      ],
      "metadata": {
        "id": "UT2LgSHkLVig"
      }
    },
    {
      "cell_type": "markdown",
      "source": [
        "### 3. $\\left|\\mathbf{a}\\right|^{2} = \\mathbf{a}\\cdot\\mathbf{a}$\n",
        "\n",
        "$$\n",
        "\\begin{align}\n",
        "\\mathbf{a}\\cdot\\mathbf{a} &= \\left|\\mathbf{a}\\right|\\left|\\mathbf{a}\\right|\\cos0 \\\\\n",
        "&= \\left|\\mathbf{a}\\right|^{2}\\times1 \\\\\n",
        "&= \\left|\\mathbf{a}\\right|^{2}\n",
        "\\end{align}\n",
        "$$"
      ],
      "metadata": {
        "id": "W425hYGLNOyq"
      }
    },
    {
      "cell_type": "markdown",
      "source": [
        "### 4. $\\mathbf{i}$, $\\mathbf{j}$ and $\\mathbf{k}$ are mutually perpendicular"
      ],
      "metadata": {
        "id": "8u_aZ4zIPQkE"
      }
    },
    {
      "cell_type": "code",
      "source": [
        "i = np.array([1, 0, 0])\n",
        "j = np.array([0, 1, 0])\n",
        "k = np.array([0, 0, 1])\n",
        "\n",
        "i.dot(j), i.dot(k), j.dot(k)"
      ],
      "metadata": {
        "colab": {
          "base_uri": "https://localhost:8080/"
        },
        "id": "lTz3w95lPdlB",
        "outputId": "c00195ca-8dde-496e-bec2-6880cf559c73"
      },
      "execution_count": 2,
      "outputs": [
        {
          "output_type": "execute_result",
          "data": {
            "text/plain": [
              "(0, 0, 0)"
            ]
          },
          "metadata": {},
          "execution_count": 2
        }
      ]
    },
    {
      "cell_type": "code",
      "source": [
        "i.dot(i), j.dot(j), k.dot(k)"
      ],
      "metadata": {
        "colab": {
          "base_uri": "https://localhost:8080/"
        },
        "id": "PgWPtmFhPrdk",
        "outputId": "247be158-60b7-43d2-ae36-f8711949a49a"
      },
      "execution_count": 3,
      "outputs": [
        {
          "output_type": "execute_result",
          "data": {
            "text/plain": [
              "(1, 1, 1)"
            ]
          },
          "metadata": {},
          "execution_count": 3
        }
      ]
    },
    {
      "cell_type": "markdown",
      "source": [
        "### 5. The angle between two vectors is $\\arccos{\\dfrac{\\mathbf{a}\\cdot\\mathbf{b}}{\\left|\\mathbf{a}\\right|\\left|\\mathbf{b}\\right|}}$\n",
        "\n",
        "<br>\n",
        "\n",
        "$$\n",
        "\\begin{align}\n",
        "\\mathbf{a} \\cdot \\mathbf{b} = \\left|\\mathbf{a}\\right|\\left|\\mathbf{b}\\right|\\cos{\\theta}\n",
        "&\\implies \\cos{\\theta} = \\dfrac{\\mathbf{a}\\cdot\\mathbf{b}}{\\left|\\mathbf{a}\\right|\\left|\\mathbf{b}\\right|} \\\\\n",
        "&\\implies \\theta = \\arccos{\\dfrac{\\mathbf{a}\\cdot\\mathbf{b}}{\\left|\\mathbf{a}\\right|\\left|\\mathbf{b}\\right|}}\n",
        "\\end{align}\n",
        "$$"
      ],
      "metadata": {
        "id": "glmvR2_KPxFD"
      }
    },
    {
      "cell_type": "markdown",
      "source": [
        "### 6. $\n",
        "\\begin{align}\n",
        "\\text{comp}_{\\mathbf{b}}{\\mathbf{a}}\n",
        "&= \\frac{\\mathbf{a} \\cdot \\mathbf{b}}{\\left|\\mathbf{b}\\right|}\n",
        "\\end{align}\n",
        "$\n",
        "\n",
        "$$\n",
        "\\begin{align}\n",
        "\\text{comp}_{\\mathbf{b}}{\\mathbf{a}} &= \\left|\\mathbf{a}\\right|\\cos{\\theta} \\\\\n",
        "&= \\left|\\mathbf{a}\\right|\\dfrac{\\mathbf{a}\\cdot\\mathbf{b}}{\\left|\\mathbf{a}\\right|\\left|\\mathbf{b}\\right|} \\\\\n",
        "&= \\frac{\\mathbf{a} \\cdot \\mathbf{b}}{\\left|\\mathbf{b}\\right|}\n",
        "\\end{align}\n",
        "$$"
      ],
      "metadata": {
        "id": "GYHs3w8ASbyK"
      }
    },
    {
      "cell_type": "markdown",
      "source": [
        "### 7. The Dot Product is Distributive $\\mathbf{a}\\cdot\\left(\\mathbf{b} + \\mathbf{c}\\right) = \\mathbf{a}\\cdot\\mathbf{b} + \\mathbf{a}\\cdot\\mathbf{c}$\n",
        "\n",
        "Let\n",
        "$$\n",
        "\\mathbf{a}=\n",
        "\\begin{bmatrix}\n",
        "    a_1\\\\\n",
        "    a_2\\\\\n",
        "    \\vdots\\\\\n",
        "    a_n\\\\\n",
        "\\end{bmatrix}\n",
        "\\hspace{1cm}\n",
        "\\mathbf{b}=\n",
        "\\begin{bmatrix}\n",
        "    b_1\\\\\n",
        "    b_2\\\\\n",
        "    \\vdots\\\\\n",
        "    b_n\\\\\n",
        "\\end{bmatrix}\n",
        "\\hspace{1cm}\n",
        "\\mathbf{c}=\n",
        "\\begin{bmatrix}\n",
        "    c_1\\\\\n",
        "    c_2\\\\\n",
        "    \\vdots\\\\\n",
        "    c_n\\\\\n",
        "\\end{bmatrix}\n",
        "\\hspace{1cm}\n",
        "$$\n",
        "\n",
        "<br>\n",
        "\n",
        "$$\n",
        "\\begin{align}\n",
        "\\mathbf{a}\\cdot\\left(\\mathbf{b} + \\mathbf{c}\\right) &= \\begin{bmatrix}\n",
        "    a_1\\\\\n",
        "    a_2\\\\\n",
        "    \\vdots\\\\\n",
        "    a_n\\\\\n",
        "\\end{bmatrix} \\cdot \\begin{bmatrix}\n",
        "    b_1 + c_1\\\\\n",
        "    b_2 + c_2\\\\\n",
        "    \\vdots\\\\\n",
        "    b_n + c_n\\\\\n",
        "\\end{bmatrix} \\\\\n",
        "&= a_1(b_1 + c_1) + a_2(b_2 + c_2) + \\cdots + a_n(b_n + c_n) \\\\\n",
        "&= a_1b_1 + a_1c_1 + a_2b_2 + a_2c_2 + \\cdots + a_nb_n + a_nc_n \\\\\\\\\n",
        "&= a_1b_1 + a_2b_2 + \\cdots + a_nb_n \\\\\n",
        "&+ a_1c_1 + a_2c_2 + \\cdots + a_nc_n \\\\ \\\\\n",
        "&= \\mathbf{a}\\cdot\\mathbf{b} + \\mathbf{a} \\cdot \\mathbf{c}\n",
        "\\end{align}\n",
        "$$\n",
        "\n"
      ],
      "metadata": {
        "id": "LoI8XRQJUlgf"
      }
    },
    {
      "cell_type": "markdown",
      "source": [
        "## Visualization of the Dot Product"
      ],
      "metadata": {
        "id": "JQx7be32J9mV"
      }
    },
    {
      "cell_type": "code",
      "source": [
        "rotation_matrix = lambda theta: np.array([[np.cos(theta), -np.sin(theta)],\n",
        "                                         [np.sin(theta), np.cos(theta)]])\n",
        "\n",
        "rotation_matrix(np.pi / 2)"
      ],
      "metadata": {
        "colab": {
          "base_uri": "https://localhost:8080/"
        },
        "id": "PLoQtGyh31PN",
        "outputId": "fc6fae58-db06-45de-fa6c-b5782aefd29b"
      },
      "execution_count": 4,
      "outputs": [
        {
          "output_type": "execute_result",
          "data": {
            "text/plain": [
              "array([[ 6.123234e-17, -1.000000e+00],\n",
              "       [ 1.000000e+00,  6.123234e-17]])"
            ]
          },
          "metadata": {},
          "execution_count": 4
        }
      ]
    },
    {
      "cell_type": "code",
      "source": [
        "vec_a = np.array([1, 0])\n",
        "initial_b = np.array([1, 0])\n",
        "\n",
        "rads = np.linspace(0, 2 * np.pi, 360)\n",
        "dot_products = []\n",
        "\n",
        "x_tick_dot_products = []\n",
        "x_tick_values = [0, (1/4)*np.pi, (2/4)*np.pi, (3/4)*np.pi,\n",
        "                 (4/4)*np.pi, (5/4)*np.pi, (6/4)*np.pi,\n",
        "                 (7/4)*np.pi, (8/4)*np.pi]\n",
        "x_tick_labels = [0, r'$\\dfrac{\\pi}{4}$', r'$\\dfrac{\\pi}{2}$', r'$\\dfrac{3\\pi}{4}$',\n",
        "                 r'$\\pi$', r'$\\dfrac{5\\pi}{4}$', r'$\\dfrac{3\\pi}{2}$',\n",
        "                 r'$\\dfrac{7\\pi}{4}$', r'$2\\pi$']\n",
        "\n",
        "for val in x_tick_values: # iterate through labeled radians\n",
        "    vec_b = rotation_matrix(val) @ initial_b\n",
        "    x_tick_dot_products.append(vec_a.dot(vec_b))\n",
        "\n",
        "for rad in rads: # go from 0 to 2pi radians\n",
        "    vec_b = rotation_matrix(rad) @ initial_b\n",
        "    dot_products.append(vec_a.dot(vec_b))\n",
        "\n",
        "plt.subplots(1, 1, figsize=(12, 4))\n",
        "plt.plot(rads, dot_products, color='dodgerblue', linewidth=3)\n",
        "plt.plot(rads, np.cos(rads), color='lime')\n",
        "plt.scatter(x_tick_values, x_tick_dot_products, color='red', zorder=100, s=100)\n",
        "plt.xticks(x_tick_values, x_tick_labels)\n",
        "plt.title('Dot Product of (0, 1) with the rotation of (0, 1) about the origin')\n",
        "plt.grid()\n",
        "plt.show()"
      ],
      "metadata": {
        "colab": {
          "base_uri": "https://localhost:8080/",
          "height": 405
        },
        "id": "xKgD2POB2Y3i",
        "outputId": "d006f801-a545-422e-d45d-0c988eb16d49"
      },
      "execution_count": 5,
      "outputs": [
        {
          "output_type": "display_data",
          "data": {
            "text/plain": [
              "<Figure size 1200x400 with 1 Axes>"
            ],
            "image/png": "[encoded data removed]"
          },
          "metadata": {}
        }
      ]
    }
  ]
}