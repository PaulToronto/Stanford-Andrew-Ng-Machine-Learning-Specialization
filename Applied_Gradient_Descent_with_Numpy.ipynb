{
  "nbformat": 4,
  "nbformat_minor": 0,
  "metadata": {
    "colab": {
      "provenance": [],
      "toc_visible": true,
      "authorship_tag": "ABX9TyMbAKTuxsxUcAImv5Nvlk3h",
      "include_colab_link": true
    },
    "kernelspec": {
      "name": "python3",
      "display_name": "Python 3"
    },
    "language_info": {
      "name": "python"
    }
  },
  "cells": [
    {
      "cell_type": "markdown",
      "metadata": {
        "id": "view-in-github",
        "colab_type": "text"
      },
      "source": [
        "<a href=\"https://colab.research.google.com/github/PaulToronto/Stanford-Andrew-Ng-Machine-Learning-Specialization/blob/main/Applied_Gradient_Descent_with_Numpy.ipynb\" target=\"_parent\"><img src=\"https://colab.research.google.com/assets/colab-badge.svg\" alt=\"Open In Colab\"/></a>"
      ]
    },
    {
      "cell_type": "markdown",
      "source": [
        "# Applied Gradient Descent with `numpy`"
      ],
      "metadata": {
        "id": "SA2pVdP09SoF"
      }
    },
    {
      "cell_type": "markdown",
      "source": [
        "## Imports"
      ],
      "metadata": {
        "id": "61o_RNH19Yxi"
      }
    },
    {
      "cell_type": "code",
      "source": [
        "import pandas as pd\n",
        "import numpy as np\n",
        "import math\n",
        "import copy\n",
        "from sklearn.linear_model import LinearRegression\n",
        "from sklearn.metrics import mean_squared_error"
      ],
      "metadata": {
        "id": "sWpyuZLg9aMj"
      },
      "execution_count": 1,
      "outputs": []
    },
    {
      "cell_type": "markdown",
      "source": [
        "## The Data"
      ],
      "metadata": {
        "id": "h9qCW66HJwSQ"
      }
    },
    {
      "cell_type": "code",
      "source": [
        "path = 'https://raw.githubusercontent.com/PaulToronto/'\n",
        "path += 'Stanford-Andrew-Ng-Machine-Learning-Specialization/main/data/'\n",
        "path += 'houses2.csv'\n",
        "houses = pd.read_csv(path, header=None)"
      ],
      "metadata": {
        "id": "jutylghrJyG_"
      },
      "execution_count": 2,
      "outputs": []
    },
    {
      "cell_type": "code",
      "source": [
        "houses.columns = ['size_sqft', 'bedrooms', 'floors', 'age', 'price']\n",
        "houses"
      ],
      "metadata": {
        "colab": {
          "base_uri": "https://localhost:8080/",
          "height": 424
        },
        "id": "5h3KZWtqKIFZ",
        "outputId": "9c2855ee-cf6d-4d8b-d25a-3667a490cd39"
      },
      "execution_count": 3,
      "outputs": [
        {
          "output_type": "execute_result",
          "data": {
            "text/plain": [
              "    size_sqft  bedrooms  floors   age  price\n",
              "0       952.0       2.0     1.0  65.0  271.5\n",
              "1      1244.0       3.0     1.0  64.0  300.0\n",
              "2      1947.0       3.0     2.0  17.0  509.8\n",
              "3      1725.0       3.0     2.0  42.0  394.0\n",
              "4      1959.0       3.0     2.0  15.0  540.0\n",
              "..        ...       ...     ...   ...    ...\n",
              "95     1224.0       2.0     2.0  12.0  329.0\n",
              "96     1432.0       2.0     1.0  43.0  388.0\n",
              "97     1660.0       3.0     2.0  19.0  390.0\n",
              "98     1212.0       3.0     1.0  20.0  356.0\n",
              "99     1050.0       2.0     1.0  65.0  257.8\n",
              "\n",
              "[100 rows x 5 columns]"
            ],
            "text/html": [
              "\n",
              "  <div id=\"df-7f3c65e7-a438-4b77-9356-d1e4334fac1a\" class=\"colab-df-container\">\n",
              "    <div>\n",
              "<style scoped>\n",
              "    .dataframe tbody tr th:only-of-type {\n",
              "        vertical-align: middle;\n",
              "    }\n",
              "\n",
              "    .dataframe tbody tr th {\n",
              "        vertical-align: top;\n",
              "    }\n",
              "\n",
              "    .dataframe thead th {\n",
              "        text-align: right;\n",
              "    }\n",
              "</style>\n",
              "<table border=\"1\" class=\"dataframe\">\n",
              "  <thead>\n",
              "    <tr style=\"text-align: right;\">\n",
              "      <th></th>\n",
              "      <th>size_sqft</th>\n",
              "      <th>bedrooms</th>\n",
              "      <th>floors</th>\n",
              "      <th>age</th>\n",
              "      <th>price</th>\n",
              "    </tr>\n",
              "  </thead>\n",
              "  <tbody>\n",
              "    <tr>\n",
              "      <th>0</th>\n",
              "      <td>952.0</td>\n",
              "      <td>2.0</td>\n",
              "      <td>1.0</td>\n",
              "      <td>65.0</td>\n",
              "      <td>271.5</td>\n",
              "    </tr>\n",
              "    <tr>\n",
              "      <th>1</th>\n",
              "      <td>1244.0</td>\n",
              "      <td>3.0</td>\n",
              "      <td>1.0</td>\n",
              "      <td>64.0</td>\n",
              "      <td>300.0</td>\n",
              "    </tr>\n",
              "    <tr>\n",
              "      <th>2</th>\n",
              "      <td>1947.0</td>\n",
              "      <td>3.0</td>\n",
              "      <td>2.0</td>\n",
              "      <td>17.0</td>\n",
              "      <td>509.8</td>\n",
              "    </tr>\n",
              "    <tr>\n",
              "      <th>3</th>\n",
              "      <td>1725.0</td>\n",
              "      <td>3.0</td>\n",
              "      <td>2.0</td>\n",
              "      <td>42.0</td>\n",
              "      <td>394.0</td>\n",
              "    </tr>\n",
              "    <tr>\n",
              "      <th>4</th>\n",
              "      <td>1959.0</td>\n",
              "      <td>3.0</td>\n",
              "      <td>2.0</td>\n",
              "      <td>15.0</td>\n",
              "      <td>540.0</td>\n",
              "    </tr>\n",
              "    <tr>\n",
              "      <th>...</th>\n",
              "      <td>...</td>\n",
              "      <td>...</td>\n",
              "      <td>...</td>\n",
              "      <td>...</td>\n",
              "      <td>...</td>\n",
              "    </tr>\n",
              "    <tr>\n",
              "      <th>95</th>\n",
              "      <td>1224.0</td>\n",
              "      <td>2.0</td>\n",
              "      <td>2.0</td>\n",
              "      <td>12.0</td>\n",
              "      <td>329.0</td>\n",
              "    </tr>\n",
              "    <tr>\n",
              "      <th>96</th>\n",
              "      <td>1432.0</td>\n",
              "      <td>2.0</td>\n",
              "      <td>1.0</td>\n",
              "      <td>43.0</td>\n",
              "      <td>388.0</td>\n",
              "    </tr>\n",
              "    <tr>\n",
              "      <th>97</th>\n",
              "      <td>1660.0</td>\n",
              "      <td>3.0</td>\n",
              "      <td>2.0</td>\n",
              "      <td>19.0</td>\n",
              "      <td>390.0</td>\n",
              "    </tr>\n",
              "    <tr>\n",
              "      <th>98</th>\n",
              "      <td>1212.0</td>\n",
              "      <td>3.0</td>\n",
              "      <td>1.0</td>\n",
              "      <td>20.0</td>\n",
              "      <td>356.0</td>\n",
              "    </tr>\n",
              "    <tr>\n",
              "      <th>99</th>\n",
              "      <td>1050.0</td>\n",
              "      <td>2.0</td>\n",
              "      <td>1.0</td>\n",
              "      <td>65.0</td>\n",
              "      <td>257.8</td>\n",
              "    </tr>\n",
              "  </tbody>\n",
              "</table>\n",
              "<p>100 rows × 5 columns</p>\n",
              "</div>\n",
              "    <div class=\"colab-df-buttons\">\n",
              "\n",
              "  <div class=\"colab-df-container\">\n",
              "    <button class=\"colab-df-convert\" onclick=\"convertToInteractive('df-7f3c65e7-a438-4b77-9356-d1e4334fac1a')\"\n",
              "            title=\"Convert this dataframe to an interactive table.\"\n",
              "            style=\"display:none;\">\n",
              "\n",
              "  <svg xmlns=\"http://www.w3.org/2000/svg\" height=\"24px\" viewBox=\"0 -960 960 960\">\n",
              "    <path d=\"M120-120v-720h720v720H120Zm60-500h600v-160H180v160Zm220 220h160v-160H400v160Zm0 220h160v-160H400v160ZM180-400h160v-160H180v160Zm440 0h160v-160H620v160ZM180-180h160v-160H180v160Zm440 0h160v-160H620v160Z\"/>\n",
              "  </svg>\n",
              "    </button>\n",
              "\n",
              "  <style>\n",
              "    .colab-df-container {\n",
              "      display:flex;\n",
              "      gap: 12px;\n",
              "    }\n",
              "\n",
              "    .colab-df-convert {\n",
              "      background-color: #E8F0FE;\n",
              "      border: none;\n",
              "      border-radius: 50%;\n",
              "      cursor: pointer;\n",
              "      display: none;\n",
              "      fill: #1967D2;\n",
              "      height: 32px;\n",
              "      padding: 0 0 0 0;\n",
              "      width: 32px;\n",
              "    }\n",
              "\n",
              "    .colab-df-convert:hover {\n",
              "      background-color: #E2EBFA;\n",
              "      box-shadow: 0px 1px 2px rgba(60, 64, 67, 0.3), 0px 1px 3px 1px rgba(60, 64, 67, 0.15);\n",
              "      fill: #174EA6;\n",
              "    }\n",
              "\n",
              "    .colab-df-buttons div {\n",
              "      margin-bottom: 4px;\n",
              "    }\n",
              "\n",
              "    [theme=dark] .colab-df-convert {\n",
              "      background-color: #3B4455;\n",
              "      fill: #D2E3FC;\n",
              "    }\n",
              "\n",
              "    [theme=dark] .colab-df-convert:hover {\n",
              "      background-color: #434B5C;\n",
              "      box-shadow: 0px 1px 3px 1px rgba(0, 0, 0, 0.15);\n",
              "      filter: drop-shadow(0px 1px 2px rgba(0, 0, 0, 0.3));\n",
              "      fill: #FFFFFF;\n",
              "    }\n",
              "  </style>\n",
              "\n",
              "    <script>\n",
              "      const buttonEl =\n",
              "        document.querySelector('#df-7f3c65e7-a438-4b77-9356-d1e4334fac1a button.colab-df-convert');\n",
              "      buttonEl.style.display =\n",
              "        google.colab.kernel.accessAllowed ? 'block' : 'none';\n",
              "\n",
              "      async function convertToInteractive(key) {\n",
              "        const element = document.querySelector('#df-7f3c65e7-a438-4b77-9356-d1e4334fac1a');\n",
              "        const dataTable =\n",
              "          await google.colab.kernel.invokeFunction('convertToInteractive',\n",
              "                                                    [key], {});\n",
              "        if (!dataTable) return;\n",
              "\n",
              "        const docLinkHtml = 'Like what you see? Visit the ' +\n",
              "          '<a target=\"_blank\" href=https://colab.research.google.com/notebooks/data_table.ipynb>data table notebook</a>'\n",
              "          + ' to learn more about interactive tables.';\n",
              "        element.innerHTML = '';\n",
              "        dataTable['output_type'] = 'display_data';\n",
              "        await google.colab.output.renderOutput(dataTable, element);\n",
              "        const docLink = document.createElement('div');\n",
              "        docLink.innerHTML = docLinkHtml;\n",
              "        element.appendChild(docLink);\n",
              "      }\n",
              "    </script>\n",
              "  </div>\n",
              "\n",
              "\n",
              "<div id=\"df-31fe05b6-3977-49a1-9a5c-44573534a1c7\">\n",
              "  <button class=\"colab-df-quickchart\" onclick=\"quickchart('df-31fe05b6-3977-49a1-9a5c-44573534a1c7')\"\n",
              "            title=\"Suggest charts.\"\n",
              "            style=\"display:none;\">\n",
              "\n",
              "<svg xmlns=\"http://www.w3.org/2000/svg\" height=\"24px\"viewBox=\"0 0 24 24\"\n",
              "     width=\"24px\">\n",
              "    <g>\n",
              "        <path d=\"M19 3H5c-1.1 0-2 .9-2 2v14c0 1.1.9 2 2 2h14c1.1 0 2-.9 2-2V5c0-1.1-.9-2-2-2zM9 17H7v-7h2v7zm4 0h-2V7h2v10zm4 0h-2v-4h2v4z\"/>\n",
              "    </g>\n",
              "</svg>\n",
              "  </button>\n",
              "\n",
              "<style>\n",
              "  .colab-df-quickchart {\n",
              "    background-color: #E8F0FE;\n",
              "    border: none;\n",
              "    border-radius: 50%;\n",
              "    cursor: pointer;\n",
              "    display: none;\n",
              "    fill: #1967D2;\n",
              "    height: 32px;\n",
              "    padding: 0 0 0 0;\n",
              "    width: 32px;\n",
              "  }\n",
              "\n",
              "  .colab-df-quickchart:hover {\n",
              "    background-color: #E2EBFA;\n",
              "    box-shadow: 0px 1px 2px rgba(60, 64, 67, 0.3), 0px 1px 3px 1px rgba(60, 64, 67, 0.15);\n",
              "    fill: #174EA6;\n",
              "  }\n",
              "\n",
              "  [theme=dark] .colab-df-quickchart {\n",
              "    background-color: #3B4455;\n",
              "    fill: #D2E3FC;\n",
              "  }\n",
              "\n",
              "  [theme=dark] .colab-df-quickchart:hover {\n",
              "    background-color: #434B5C;\n",
              "    box-shadow: 0px 1px 3px 1px rgba(0, 0, 0, 0.15);\n",
              "    filter: drop-shadow(0px 1px 2px rgba(0, 0, 0, 0.3));\n",
              "    fill: #FFFFFF;\n",
              "  }\n",
              "</style>\n",
              "\n",
              "  <script>\n",
              "    async function quickchart(key) {\n",
              "      const charts = await google.colab.kernel.invokeFunction(\n",
              "          'suggestCharts', [key], {});\n",
              "    }\n",
              "    (() => {\n",
              "      let quickchartButtonEl =\n",
              "        document.querySelector('#df-31fe05b6-3977-49a1-9a5c-44573534a1c7 button');\n",
              "      quickchartButtonEl.style.display =\n",
              "        google.colab.kernel.accessAllowed ? 'block' : 'none';\n",
              "    })();\n",
              "  </script>\n",
              "</div>\n",
              "    </div>\n",
              "  </div>\n"
            ]
          },
          "metadata": {},
          "execution_count": 3
        }
      ]
    },
    {
      "cell_type": "markdown",
      "source": [
        "### `X_train`, `y_train`"
      ],
      "metadata": {
        "id": "UVV6KMm2z6rs"
      }
    },
    {
      "cell_type": "code",
      "source": [
        "X_train = houses.drop('price', axis=1).values\n",
        "X_train.shape, X_train[0:5]"
      ],
      "metadata": {
        "colab": {
          "base_uri": "https://localhost:8080/"
        },
        "id": "bwFiKlobz-7p",
        "outputId": "58062bb7-c41e-491c-9ff2-461f2d9fe4db"
      },
      "execution_count": 4,
      "outputs": [
        {
          "output_type": "execute_result",
          "data": {
            "text/plain": [
              "((100, 4),\n",
              " array([[9.520e+02, 2.000e+00, 1.000e+00, 6.500e+01],\n",
              "        [1.244e+03, 3.000e+00, 1.000e+00, 6.400e+01],\n",
              "        [1.947e+03, 3.000e+00, 2.000e+00, 1.700e+01],\n",
              "        [1.725e+03, 3.000e+00, 2.000e+00, 4.200e+01],\n",
              "        [1.959e+03, 3.000e+00, 2.000e+00, 1.500e+01]]))"
            ]
          },
          "metadata": {},
          "execution_count": 4
        }
      ]
    },
    {
      "cell_type": "code",
      "source": [
        "y_train = houses['price'].values\n",
        "y_train.shape, y_train"
      ],
      "metadata": {
        "colab": {
          "base_uri": "https://localhost:8080/"
        },
        "id": "DJ-C5l6Q0Prj",
        "outputId": "bca332d1-aecc-4a5f-8405-adb8872582d2"
      },
      "execution_count": 5,
      "outputs": [
        {
          "output_type": "execute_result",
          "data": {
            "text/plain": [
              "((100,),\n",
              " array([271.5  , 300.   , 509.8  , 394.   , 540.   , 415.   , 230.   ,\n",
              "        560.   , 294.   , 718.2  , 200.   , 302.   , 468.   , 374.2  ,\n",
              "        388.   , 282.   , 311.8  , 401.   , 449.8  , 301.   , 502.   ,\n",
              "        340.   , 400.282, 572.   , 264.   , 304.   , 298.   , 219.8  ,\n",
              "        490.7  , 216.96 , 368.2  , 280.   , 526.87 , 237.   , 562.426,\n",
              "        369.8  , 460.   , 374.   , 390.   , 158.   , 426.   , 390.   ,\n",
              "        277.774, 216.96 , 425.8  , 504.   , 329.   , 464.   , 220.   ,\n",
              "        358.   , 478.   , 334.   , 426.98 , 290.   , 463.   , 390.8  ,\n",
              "        354.   , 350.   , 460.   , 237.   , 288.304, 282.   , 249.   ,\n",
              "        304.   , 332.   , 351.8  , 310.   , 216.96 , 666.336, 330.   ,\n",
              "        480.   , 330.3  , 348.   , 304.   , 384.   , 316.   , 430.4  ,\n",
              "        450.   , 284.   , 275.   , 414.   , 258.   , 378.   , 350.   ,\n",
              "        412.   , 373.   , 225.   , 390.   , 267.4  , 464.   , 174.   ,\n",
              "        340.   , 430.   , 440.   , 216.   , 329.   , 388.   , 390.   ,\n",
              "        356.   , 257.8  ]))"
            ]
          },
          "metadata": {},
          "execution_count": 5
        }
      ]
    },
    {
      "cell_type": "markdown",
      "source": [
        "### `best_w`, `best_b`"
      ],
      "metadata": {
        "id": "EmunIhWh1ok4"
      }
    },
    {
      "cell_type": "code",
      "source": [
        "model = LinearRegression()\n",
        "model.fit(X_train, y_train)\n",
        "w_best = model.coef_\n",
        "b_best = model.intercept_\n",
        "w_best, b_best"
      ],
      "metadata": {
        "colab": {
          "base_uri": "https://localhost:8080/"
        },
        "id": "CyUNbFAv1tdR",
        "outputId": "acf2ffb1-0f78-4010-f2a8-00ab504e9c58"
      },
      "execution_count": 6,
      "outputs": [
        {
          "output_type": "execute_result",
          "data": {
            "text/plain": [
              "(array([  0.26836643, -32.90362407, -67.28804158,  -1.46516763]),\n",
              " 221.50226366888353)"
            ]
          },
          "metadata": {},
          "execution_count": 6
        }
      ]
    },
    {
      "cell_type": "markdown",
      "source": [
        "## Functions"
      ],
      "metadata": {
        "id": "6QpswfGp9b7o"
      }
    },
    {
      "cell_type": "markdown",
      "source": [
        "### Model Prediction Function"
      ],
      "metadata": {
        "id": "uZXMMX8itagY"
      }
    },
    {
      "cell_type": "code",
      "source": [
        "def f_wb(X, w, b):\n",
        "    pred = X @ w + b\n",
        "    return pred"
      ],
      "metadata": {
        "id": "kgVVUgk6Jvsd"
      },
      "execution_count": 7,
      "outputs": []
    },
    {
      "cell_type": "code",
      "source": [
        "f_wb(X_train, w_best, b_best)"
      ],
      "metadata": {
        "colab": {
          "base_uri": "https://localhost:8080/"
        },
        "id": "hHaJn7Gpzn6E",
        "outputId": "463f1fe0-5092-4b50-b9cb-a380261f2ae2"
      },
      "execution_count": 8,
      "outputs": [
        {
          "output_type": "execute_result",
          "data": {
            "text/plain": [
              "array([248.65591798, 295.58045873, 485.81689524, 389.61035726,\n",
              "       491.96762765, 420.52811442, 223.57450463, 523.31626324,\n",
              "       267.84509755, 685.00447351, 182.66630919, 318.25079707,\n",
              "       479.88048606, 409.96399029, 393.83650249, 287.69238564,\n",
              "       323.97747981, 405.90878584, 436.31413687, 270.13705992,\n",
              "       500.97979389, 329.10878125, 388.16122321, 552.41859037,\n",
              "       242.3019055 , 295.69011978, 283.12331913, 217.52238166,\n",
              "       491.06890089, 229.84738873, 341.18908562, 291.69315602,\n",
              "       489.92233626, 239.03010489, 597.95447816, 384.07367102,\n",
              "       452.70618447, 401.4470128 , 405.86539494, 173.12727791,\n",
              "       423.54102555, 434.16299105, 277.3044564 , 229.84738873,\n",
              "       448.56536512, 488.89226144, 332.01742952, 465.74081655,\n",
              "       222.41425711, 386.76114193, 456.59466253, 370.7813079 ,\n",
              "       469.12413346, 310.3417961 , 426.44966536, 392.08127297,\n",
              "       347.54993532, 339.61307315, 471.54323795, 243.74234709,\n",
              "       298.2466504 , 273.2843497 , 250.25244212, 297.97524493,\n",
              "       335.29869018, 375.91683218, 289.26299993, 229.84738873,\n",
              "       620.56234453, 353.09081906, 511.00678586, 363.89437763,\n",
              "       363.02840638, 297.97524493, 407.30202145, 288.88615624,\n",
              "       385.79616192, 488.15224851, 261.24441409, 260.02776423,\n",
              "       427.94073438, 238.4115722 , 355.51414638, 339.6439734 ,\n",
              "       390.61610534, 381.54568996, 220.40932602, 434.16299105,\n",
              "       243.76404254, 465.74081655, 186.69180562, 341.21078107,\n",
              "       410.54293025, 445.6133344 , 232.26083979, 332.01742952,\n",
              "       409.70549167, 405.86539494, 351.46010883, 274.955828  ])"
            ]
          },
          "metadata": {},
          "execution_count": 8
        }
      ]
    },
    {
      "cell_type": "markdown",
      "source": [
        "### Compute Cost Function"
      ],
      "metadata": {
        "id": "Xm-MGbY1tjb5"
      }
    },
    {
      "cell_type": "code",
      "source": [
        "def compute_cost(X, y, w, b):\n",
        "    \"\"\"\n",
        "    compute cost\n",
        "    Args:\n",
        "      X (ndarray (m,n)): Data, m examples with n features\n",
        "      y (ndarray (m,)) : target values\n",
        "      w (ndarray (n,)) : model parameters\n",
        "      b (scalar)       : model parameter\n",
        "\n",
        "    Returns:\n",
        "      cost (scalar): cost\n",
        "    \"\"\"\n",
        "    m = X.shape[0]\n",
        "    cost = 0.0\n",
        "    for i in range(m):\n",
        "        f_wb_i = w.dot(X[i]) + b\n",
        "        cost = cost + (f_wb_i - y[i])**2\n",
        "    cost = cost / (2 * m)\n",
        "    return cost"
      ],
      "metadata": {
        "id": "mxYgjy9CsJse"
      },
      "execution_count": 9,
      "outputs": []
    },
    {
      "cell_type": "code",
      "source": [
        "compute_cost(X_train, y_train, w_best, b_best)"
      ],
      "metadata": {
        "colab": {
          "base_uri": "https://localhost:8080/"
        },
        "id": "-Rkv2WH92YCj",
        "outputId": "3524f3a7-71d3-454e-8739-930bbe1b7753"
      },
      "execution_count": 10,
      "outputs": [
        {
          "output_type": "execute_result",
          "data": {
            "text/plain": [
              "219.7113017649621"
            ]
          },
          "metadata": {},
          "execution_count": 10
        }
      ]
    },
    {
      "cell_type": "code",
      "source": [
        "def compute_cost_matrix(X, y, w, b, verbose=False):\n",
        "    \"\"\"\n",
        "    Computes the gradient for linear regression\n",
        "     Args:\n",
        "      X : (array_like Shape (m,n)) variable such as house size\n",
        "      y : (array_like Shape (m,)) actual value\n",
        "      w : (array_like Shape (n,)) parameters of the model\n",
        "      b : (scalar               ) parameter of the model\n",
        "      verbose : (Boolean) If true, print out intermediate value f_wb\n",
        "    Returns\n",
        "      cost: (scalar)\n",
        "    \"\"\"\n",
        "    m,n = X.shape\n",
        "\n",
        "    # calculate f_wb for all examples.\n",
        "    f_wb = X @ w + b\n",
        "    # calculate cost\n",
        "    total_cost = (1/(2*m)) * np.sum((f_wb-y)**2)\n",
        "\n",
        "    if verbose: print(\"f_wb:\")\n",
        "    if verbose: print(f_wb)\n",
        "\n",
        "    return total_cost"
      ],
      "metadata": {
        "id": "0IZsBVbguUE9"
      },
      "execution_count": 11,
      "outputs": []
    },
    {
      "cell_type": "code",
      "source": [
        "compute_cost_matrix(X_train, y_train, w_best, b_best)"
      ],
      "metadata": {
        "colab": {
          "base_uri": "https://localhost:8080/"
        },
        "id": "rPQVkywg2xnf",
        "outputId": "1ef71b32-f9ca-443f-f224-b5977003eb7c"
      },
      "execution_count": 12,
      "outputs": [
        {
          "output_type": "execute_result",
          "data": {
            "text/plain": [
              "219.71130176496206"
            ]
          },
          "metadata": {},
          "execution_count": 12
        }
      ]
    },
    {
      "cell_type": "markdown",
      "source": [
        "### Compute Gradient Function"
      ],
      "metadata": {
        "id": "vGtp67_dtqaj"
      }
    },
    {
      "cell_type": "code",
      "source": [
        "def compute_gradient(X, y, w, b):\n",
        "    \"\"\"\n",
        "    Computes the gradient for linear regression\n",
        "    Args:\n",
        "      X (ndarray (m,n)): Data, m examples with n features\n",
        "      y (ndarray (m,)) : target values\n",
        "      w (ndarray (n,)) : model parameters\n",
        "      b (scalar)       : model parameter\n",
        "\n",
        "    Returns:\n",
        "      dj_dw (ndarray (n,)): The gradient of the cost w.r.t. the parameters w.\n",
        "      dj_db (scalar):       The gradient of the cost w.r.t. the parameter b.\n",
        "    \"\"\"\n",
        "    m, n = X.shape\n",
        "    dj_dw = np.zeros((n, ))\n",
        "    dj_db = 0.0\n",
        "\n",
        "    for i in range(m):\n",
        "        err = w.dot(X[i]) + b - y[i]\n",
        "        for j in range(n):\n",
        "            dj_dw[j] = dj_dw[j] + err * X[i, j]\n",
        "        dj_db = dj_db + err\n",
        "\n",
        "    dj_dw = dj_dw / m\n",
        "    dj_db = dj_db / m\n",
        "\n",
        "    return dj_db, dj_dw"
      ],
      "metadata": {
        "id": "xv9J3ma6v-tJ"
      },
      "execution_count": 13,
      "outputs": []
    },
    {
      "cell_type": "code",
      "source": [
        "compute_gradient(X_train, y_train, w_best, b_best)"
      ],
      "metadata": {
        "colab": {
          "base_uri": "https://localhost:8080/"
        },
        "id": "mNO3E7Jm3NV5",
        "outputId": "ea1d3e20-86f0-4b01-8bdb-c6fde95cbda2"
      },
      "execution_count": 14,
      "outputs": [
        {
          "output_type": "execute_result",
          "data": {
            "text/plain": [
              "(4.860112312599085e-14,\n",
              " array([ 4.73301043e-11, -6.70752343e-14,  1.13402621e-13, -7.33371053e-11]))"
            ]
          },
          "metadata": {},
          "execution_count": 14
        }
      ]
    },
    {
      "cell_type": "code",
      "source": [
        "def compute_gradient_matrix(X, y, w, b):\n",
        "    \"\"\"\n",
        "    Computes the gradient for linear regression\n",
        "\n",
        "    Args:\n",
        "      X : (array_like Shape (m,n)) variable such as house size\n",
        "      y : (array_like Shape (m,1)) actual value\n",
        "      w : (array_like Shape (n,1)) Values of parameters of the model\n",
        "      b : (scalar )                Values of parameter of the model\n",
        "    Returns\n",
        "      dj_dw: (array_like Shape (n,1)) The gradient of the cost w.r.t. the parameters w.\n",
        "      dj_db: (scalar)                The gradient of the cost w.r.t. the parameter b.\n",
        "\n",
        "    \"\"\"\n",
        "    m,n = X.shape\n",
        "    f_wb = X @ w + b\n",
        "    err = f_wb - y\n",
        "    dj_dw  = (1/m) * (X.T @ err)\n",
        "    dj_db  = (1/m) * np.sum(err)\n",
        "\n",
        "    return dj_db,dj_dw"
      ],
      "metadata": {
        "id": "SAkRruEuyULu"
      },
      "execution_count": 15,
      "outputs": []
    },
    {
      "cell_type": "code",
      "source": [
        "compute_gradient_matrix(X_train, y_train, w_best, b_best)"
      ],
      "metadata": {
        "colab": {
          "base_uri": "https://localhost:8080/"
        },
        "id": "gZcjXEXI48FJ",
        "outputId": "db3fff52-815c-4a4c-c588-c54606c3f9c2"
      },
      "execution_count": 16,
      "outputs": [
        {
          "output_type": "execute_result",
          "data": {
            "text/plain": [
              "(4.860112312599085e-14,\n",
              " array([ 4.59840521e-11, -6.70752343e-14,  1.13686838e-13, -7.33780325e-11]))"
            ]
          },
          "metadata": {},
          "execution_count": 16
        }
      ]
    },
    {
      "cell_type": "markdown",
      "source": [
        "### Gradient Descent Function"
      ],
      "metadata": {
        "id": "B0oS1NNTw4jr"
      }
    },
    {
      "cell_type": "code",
      "source": [
        "def gradient_descent(X, y, w_in, b_in, f_cost, f_gradient, alpha, num_iters):\n",
        "    \"\"\"\n",
        "    Performs batch gradient descent to learn w and b. Updates w and b by taking\n",
        "    num_iters gradient steps with learning rate alpha\n",
        "\n",
        "    Args:\n",
        "      X (ndarray (m,n))   : Data, m examples with n features\n",
        "      y (ndarray (m,))    : target values\n",
        "      w_in (ndarray (n,)) : initial model parameters\n",
        "      b_in (scalar)       : initial model parameter\n",
        "      cost_function       : function to compute cost\n",
        "      gradient_function   : function to compute the gradient\n",
        "      alpha (float)       : Learning rate\n",
        "      num_iters (int)     : number of iterations to run gradient descent\n",
        "\n",
        "    Returns:\n",
        "      w (ndarray (n,)) : Updated values of parameters\n",
        "      b (scalar)       : Updated value of parameter\n",
        "    \"\"\"\n",
        "    J_history = []\n",
        "    w = copy.deepcopy(w_in) # avoid modify global w within function\n",
        "    b = b_in\n",
        "\n",
        "    for i in range(num_iters):\n",
        "        # calculate the gradient\n",
        "        dj_db, dj_dw = f_gradient(X, y, w, b)\n",
        "        collect_w = []\n",
        "\n",
        "        # update the parameters\n",
        "        w = w - alpha * dj_dw\n",
        "        b = b - alpha * dj_db\n",
        "\n",
        "        if i < 100_000: # prevent resource exhaustion\n",
        "            J_history.append(f_cost(X, y, w, b))\n",
        "\n",
        "        # print cost\n",
        "        if i % math.ceil(num_iters / 10) == 0:\n",
        "            print(f'Iteration {i:4d}: Cost {J_history[-1]:8.2f}: w {w}: b {b}')\n",
        "\n",
        "    return w, b, J_history"
      ],
      "metadata": {
        "id": "dGqa2o5fw68J"
      },
      "execution_count": 17,
      "outputs": []
    },
    {
      "cell_type": "code",
      "source": [
        "w_init = np.zeros_like(w_best)\n",
        "b_init = 0.0\n",
        "alpha = 1e-7\n",
        "iterations = 1000\n",
        "w, b, j_hist = gradient_descent(X_train,\n",
        "                                y_train,\n",
        "                                w_init,\n",
        "                                b_init,\n",
        "                                compute_cost_matrix,\n",
        "                                compute_gradient_matrix,\n",
        "                                alpha,\n",
        "                                iterations)"
      ],
      "metadata": {
        "colab": {
          "base_uri": "https://localhost:8080/"
        },
        "id": "1KWQcfcl8AoP",
        "outputId": "747b5e51-4730-4e54-e49c-e09b2048b821"
      },
      "execution_count": 18,
      "outputs": [
        {
          "output_type": "stream",
          "name": "stdout",
          "text": [
            "Iteration    0: Cost 44154.43: w [5.48850468e-02 1.00137228e-04 5.16041620e-05 1.24551926e-03]: b 3.6223952e-05\n",
            "Iteration  100: Cost  1565.13: w [ 2.53110091e-01  3.99748568e-04  1.58795427e-04 -5.20149806e-04]: b 0.00020954284178614476\n",
            "Iteration  200: Cost  1560.99: w [ 2.53263981e-01  3.36211727e-04  7.68794965e-05 -6.95667688e-03]: b 0.0002540372436067192\n",
            "Iteration  300: Cost  1556.92: w [ 2.53416458e-01  2.73231665e-04 -4.94840021e-06 -1.33341039e-02]: b 0.00029884478436808425\n",
            "Iteration  400: Cost  1552.92: w [ 2.53567535e-01  2.10803270e-04 -8.66890711e-05 -1.96529735e-02]: b 0.00034396258850019504\n",
            "Iteration  500: Cost  1549.00: w [ 2.53717225e-01  1.48921476e-04 -1.68343316e-04 -2.59138234e-02]: b 0.00038938780683453575\n",
            "Iteration  600: Cost  1545.15: w [ 2.53865541e-01  8.75812639e-05 -2.49911928e-04 -3.21171864e-02]: b 0.0004351176163647442\n",
            "Iteration  700: Cost  1541.36: w [ 2.54012495e-01  2.67776603e-05 -3.31395692e-04 -3.82635903e-02]: b 0.00048114922000638046\n",
            "Iteration  800: Cost  1537.65: w [ 2.54158100e-01 -3.34942620e-05 -4.12795387e-04 -4.43535581e-02]: b 0.0005274798463589026\n",
            "Iteration  900: Cost  1534.01: w [ 2.54302369e-01 -9.32393853e-05 -4.94111783e-04 -5.03876082e-02]: b 0.0005741067494698271\n"
          ]
        }
      ]
    },
    {
      "cell_type": "markdown",
      "source": [
        "### Z-score Normalization Function"
      ],
      "metadata": {
        "id": "kXKdhkDFHtQm"
      }
    },
    {
      "cell_type": "code",
      "source": [
        "def zscore_normalize_features(X):\n",
        "    \"\"\"\n",
        "    computes  X, zcore normalized by column\n",
        "\n",
        "    Args:\n",
        "      X (ndarray (m,n))     : input data, m examples, n features\n",
        "\n",
        "    Returns:\n",
        "      X_norm (ndarray (m,n)): input normalized by column\n",
        "      mu (ndarray (n,))     : mean of each feature\n",
        "      sigma (ndarray (n,))  : standard deviation of each feature\n",
        "    \"\"\"\n",
        "    # find the mean of each feature\n",
        "    mu = np.mean(X, axis=0)\n",
        "    # find the standard deviation of each feature\n",
        "    sigma = np.std(X, axis=0)\n",
        "    # element-wise, subtract mean for each column and divide by standard deviation\n",
        "    X_norm = (X - mu) / sigma\n",
        "\n",
        "    return X_norm, mu, sigma"
      ],
      "metadata": {
        "id": "ggeTwY1BHzeC"
      },
      "execution_count": 19,
      "outputs": []
    },
    {
      "cell_type": "markdown",
      "source": [
        "## Run Gradient Descent"
      ],
      "metadata": {
        "id": "7cETlhYwBhb0"
      }
    },
    {
      "cell_type": "code",
      "source": [
        "def run_gradient_descent(X, y, alpha, iterations):\n",
        "    m, n = X.shape\n",
        "    initial_w = np.zeros(n)\n",
        "    initial_b = 0\n",
        "\n",
        "    w, b, j_hist = gradient_descent(X,\n",
        "                                    y,\n",
        "                                    initial_w,\n",
        "                                    initial_b,\n",
        "                                    compute_cost_matrix,\n",
        "                                    compute_gradient_matrix,\n",
        "                                    alpha,\n",
        "                                    iterations)\n",
        "\n",
        "    return w, b, j_hist"
      ],
      "metadata": {
        "id": "zepp_TGyCBHg"
      },
      "execution_count": 20,
      "outputs": []
    },
    {
      "cell_type": "code",
      "source": [
        "alpha = 1e-7\n",
        "iterations = 1000\n",
        "\n",
        "w, b, j_hist = run_gradient_descent(X_train, y_train, alpha, iterations)"
      ],
      "metadata": {
        "colab": {
          "base_uri": "https://localhost:8080/"
        },
        "id": "VkmdS7cYGa3a",
        "outputId": "8c91a2b3-f02d-4931-9ca7-3ddcf3ad14ee"
      },
      "execution_count": 21,
      "outputs": [
        {
          "output_type": "stream",
          "name": "stdout",
          "text": [
            "Iteration    0: Cost 44154.43: w [5.48850468e-02 1.00137228e-04 5.16041620e-05 1.24551926e-03]: b 3.6223952e-05\n",
            "Iteration  100: Cost  1565.13: w [ 2.53110091e-01  3.99748568e-04  1.58795427e-04 -5.20149806e-04]: b 0.00020954284178614476\n",
            "Iteration  200: Cost  1560.99: w [ 2.53263981e-01  3.36211727e-04  7.68794965e-05 -6.95667688e-03]: b 0.0002540372436067192\n",
            "Iteration  300: Cost  1556.92: w [ 2.53416458e-01  2.73231665e-04 -4.94840021e-06 -1.33341039e-02]: b 0.00029884478436808425\n",
            "Iteration  400: Cost  1552.92: w [ 2.53567535e-01  2.10803270e-04 -8.66890711e-05 -1.96529735e-02]: b 0.00034396258850019504\n",
            "Iteration  500: Cost  1549.00: w [ 2.53717225e-01  1.48921476e-04 -1.68343316e-04 -2.59138234e-02]: b 0.00038938780683453575\n",
            "Iteration  600: Cost  1545.15: w [ 2.53865541e-01  8.75812639e-05 -2.49911928e-04 -3.21171864e-02]: b 0.0004351176163647442\n",
            "Iteration  700: Cost  1541.36: w [ 2.54012495e-01  2.67776603e-05 -3.31395692e-04 -3.82635903e-02]: b 0.00048114922000638046\n",
            "Iteration  800: Cost  1537.65: w [ 2.54158100e-01 -3.34942620e-05 -4.12795387e-04 -4.43535581e-02]: b 0.0005274798463589026\n",
            "Iteration  900: Cost  1534.01: w [ 2.54302369e-01 -9.32393853e-05 -4.94111783e-04 -5.03876082e-02]: b 0.0005741067494698271\n"
          ]
        }
      ]
    },
    {
      "cell_type": "code",
      "source": [
        "w, w_best"
      ],
      "metadata": {
        "colab": {
          "base_uri": "https://localhost:8080/"
        },
        "id": "K7HVk3csGmlY",
        "outputId": "7230bb79-226a-412b-93ec-7e8499d25214"
      },
      "execution_count": 22,
      "outputs": [
        {
          "output_type": "execute_result",
          "data": {
            "text/plain": [
              "(array([ 2.54443890e-01, -1.51872883e-04, -5.74533712e-04, -5.63067399e-02]),\n",
              " array([  0.26836643, -32.90362407, -67.28804158,  -1.46516763]))"
            ]
          },
          "metadata": {},
          "execution_count": 22
        }
      ]
    },
    {
      "cell_type": "code",
      "source": [
        "b, b_best"
      ],
      "metadata": {
        "colab": {
          "base_uri": "https://localhost:8080/"
        },
        "id": "AR-Hsj18Gpe1",
        "outputId": "b6a63bd1-c316-45f8-db4d-d35fd04e22d0"
      },
      "execution_count": 23,
      "outputs": [
        {
          "output_type": "execute_result",
          "data": {
            "text/plain": [
              "(0.0006205565597795537, 221.50226366888353)"
            ]
          },
          "metadata": {},
          "execution_count": 23
        }
      ]
    },
    {
      "cell_type": "markdown",
      "source": [
        "## Feature Scaling\n",
        "\n",
        "- Comparing `w` to `w_best` and `b` to `b_best`, we see that 1000 iterations doesn't get us very far when $\\alpha = 1e-7$\n",
        "- If we scale the data, then we can make $\\alpha$ vastly larger so we should get more out of 1000 iterations"
      ],
      "metadata": {
        "id": "zhs1knVPGsY0"
      }
    },
    {
      "cell_type": "code",
      "source": [
        "X_norm, mu, sigma = zscore_normalize_features(X_train)\n",
        "X_norm.shape, X_norm[0:5]"
      ],
      "metadata": {
        "colab": {
          "base_uri": "https://localhost:8080/"
        },
        "id": "9L4JfX1PH1zo",
        "outputId": "29efae73-b117-47d0-d6e3-50264cd71261"
      },
      "execution_count": 24,
      "outputs": [
        {
          "output_type": "execute_result",
          "data": {
            "text/plain": [
              "((100, 4),\n",
              " array([[-1.12018542, -1.08793896, -0.78288136,  1.02191098],\n",
              "        [-0.41174475,  0.44436943, -0.78288136,  0.98312878],\n",
              "        [ 1.29385043,  0.44436943,  1.27733275, -0.83963464],\n",
              "        [ 0.75524143,  0.44436943,  1.27733275,  0.12992037],\n",
              "        [ 1.32296443,  0.44436943,  1.27733275, -0.91719904]]))"
            ]
          },
          "metadata": {},
          "execution_count": 24
        }
      ]
    },
    {
      "cell_type": "code",
      "source": [
        "model_norm = LinearRegression()\n",
        "model_norm.fit(X_norm, y_train)\n",
        "w_best_norm = model_norm.coef_\n",
        "b_best_norm = model_norm.intercept_\n",
        "w_best_norm, b_best_norm"
      ],
      "metadata": {
        "colab": {
          "base_uri": "https://localhost:8080/"
        },
        "id": "n12jP3fAIaDu",
        "outputId": "21507f2d-5dd0-485c-8b47-bc1213aee96e"
      },
      "execution_count": 25,
      "outputs": [
        {
          "output_type": "execute_result",
          "data": {
            "text/plain": [
              "(array([110.61335173, -21.47323884, -32.66070323, -37.77938362]), 362.23952)"
            ]
          },
          "metadata": {},
          "execution_count": 25
        }
      ]
    },
    {
      "cell_type": "code",
      "source": [
        "alpha = 1.0e-1\n",
        "iterations = 1000\n",
        "\n",
        "w_norm, b_norm, j_hist_norm = run_gradient_descent(X_norm, y_train, alpha, iterations)"
      ],
      "metadata": {
        "colab": {
          "base_uri": "https://localhost:8080/"
        },
        "id": "5gOY26BYJADC",
        "outputId": "a847ee6e-35d8-459b-99d6-43c183fd2888"
      },
      "execution_count": 26,
      "outputs": [
        {
          "output_type": "stream",
          "name": "stdout",
          "text": [
            "Iteration    0: Cost 57326.42: w [ 8.91588014  3.01913493  3.32746878 -5.99326502]: b 36.223952000000004\n",
            "Iteration  100: Cost   221.73: w [107.8550472  -20.10250817 -31.10498049 -38.30743962]: b 362.23086057045475\n",
            "Iteration  200: Cost   219.71: w [110.51801435 -21.42511468 -32.60780139 -37.79800254]: b 362.2395197699934\n",
            "Iteration  300: Cost   219.71: w [110.61005719 -21.47157412 -32.65887703 -37.78002774]: b 362.23951999999383\n",
            "Iteration  400: Cost   219.71: w [110.61323789 -21.47318131 -32.66064012 -37.77940588]: b 362.23951999999974\n",
            "Iteration  500: Cost   219.71: w [110.6133478  -21.47323685 -32.66070105 -37.77938439]: b 362.2395199999998\n",
            "Iteration  600: Cost   219.71: w [110.6133516  -21.47323877 -32.66070315 -37.77938365]: b 362.2395199999998\n",
            "Iteration  700: Cost   219.71: w [110.61335173 -21.47323884 -32.66070322 -37.77938362]: b 362.2395199999998\n",
            "Iteration  800: Cost   219.71: w [110.61335173 -21.47323884 -32.66070323 -37.77938362]: b 362.2395199999998\n",
            "Iteration  900: Cost   219.71: w [110.61335173 -21.47323884 -32.66070323 -37.77938362]: b 362.2395199999998\n"
          ]
        }
      ]
    },
    {
      "cell_type": "code",
      "source": [
        "w_norm, w_best_norm"
      ],
      "metadata": {
        "colab": {
          "base_uri": "https://localhost:8080/"
        },
        "id": "Z84yK6GZMqAd",
        "outputId": "d2fe3145-4191-4362-8d00-8c774a9e1188"
      },
      "execution_count": 27,
      "outputs": [
        {
          "output_type": "execute_result",
          "data": {
            "text/plain": [
              "(array([110.61335173, -21.47323884, -32.66070323, -37.77938362]),\n",
              " array([110.61335173, -21.47323884, -32.66070323, -37.77938362]))"
            ]
          },
          "metadata": {},
          "execution_count": 27
        }
      ]
    },
    {
      "cell_type": "code",
      "source": [
        "b_norm, b_best_norm"
      ],
      "metadata": {
        "colab": {
          "base_uri": "https://localhost:8080/"
        },
        "id": "Yf4tuEELMvtA",
        "outputId": "fe9ecdd0-4237-4da8-b3cb-099f994dfbff"
      },
      "execution_count": 28,
      "outputs": [
        {
          "output_type": "execute_result",
          "data": {
            "text/plain": [
              "(362.2395199999998, 362.23952)"
            ]
          },
          "metadata": {},
          "execution_count": 28
        }
      ]
    },
    {
      "cell_type": "markdown",
      "source": [
        "By normalizing the training data, we get excellent convergence after just 1000 iterations."
      ],
      "metadata": {
        "id": "uecVUaCBM0qM"
      }
    },
    {
      "cell_type": "markdown",
      "source": [
        "## `mean_squared_error`"
      ],
      "metadata": {
        "id": "OMMdGEwpNqmf"
      }
    },
    {
      "cell_type": "code",
      "source": [
        "(mean_squared_error(y_train, model.predict(X_train)),\n",
        " mean_squared_error(y_train, model_norm.predict(X_norm)))"
      ],
      "metadata": {
        "colab": {
          "base_uri": "https://localhost:8080/"
        },
        "id": "cEXr-OVcNvWJ",
        "outputId": "8b1dc628-41c8-4e9c-ce32-6dce4c87e0c7"
      },
      "execution_count": 29,
      "outputs": [
        {
          "output_type": "execute_result",
          "data": {
            "text/plain": [
              "(439.4226035299241, 439.4226035299241)"
            ]
          },
          "metadata": {},
          "execution_count": 29
        }
      ]
    },
    {
      "cell_type": "code",
      "source": [
        "(np.sum((y_train - f_wb(X_train, w, b))**2) / X_train.shape[0],\n",
        " np.sum((y_train - f_wb(X_norm, w_norm, b_norm))**2) / X_norm.shape[0])"
      ],
      "metadata": {
        "colab": {
          "base_uri": "https://localhost:8080/"
        },
        "id": "_BKPsZRvOXHO",
        "outputId": "caa738d7-649a-4938-8692-604e49504ff5"
      },
      "execution_count": 30,
      "outputs": [
        {
          "output_type": "execute_result",
          "data": {
            "text/plain": [
              "(3060.9320333060627, 439.4226035299239)"
            ]
          },
          "metadata": {},
          "execution_count": 30
        }
      ]
    }
  ]
}