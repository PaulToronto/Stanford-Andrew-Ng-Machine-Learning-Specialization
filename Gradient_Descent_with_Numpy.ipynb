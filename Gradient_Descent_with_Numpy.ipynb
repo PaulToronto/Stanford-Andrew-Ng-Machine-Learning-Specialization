{
  "nbformat": 4,
  "nbformat_minor": 0,
  "metadata": {
    "colab": {
      "provenance": [],
      "toc_visible": true,
      "authorship_tag": "ABX9TyNmvvdIB/im7nW3JIlFrxYG",
      "include_colab_link": true
    },
    "kernelspec": {
      "name": "python3",
      "display_name": "Python 3"
    },
    "language_info": {
      "name": "python"
    }
  },
  "cells": [
    {
      "cell_type": "markdown",
      "metadata": {
        "id": "view-in-github",
        "colab_type": "text"
      },
      "source": [
        "<a href=\"https://colab.research.google.com/github/PaulToronto/Stanford-Andrew-Ng-Machine-Learning-Specialization/blob/main/Gradient_Descent_with_Numpy.ipynb\" target=\"_parent\"><img src=\"https://colab.research.google.com/assets/colab-badge.svg\" alt=\"Open In Colab\"/></a>"
      ]
    },
    {
      "cell_type": "markdown",
      "source": [
        "# Gradient Desscent with `numpy`\n",
        "\n",
        "The `sympy` versions of these functions are developed and tested in the [Gradient Descent with Sympy](https://colab.research.google.com/drive/1-CmDZG76UYe1EkpuzyTY1lZVoqsbsoDG#scrollTo=iJO3dQp2zsEL) notebook"
      ],
      "metadata": {
        "id": "ta1jdRKkzyO-"
      }
    },
    {
      "cell_type": "markdown",
      "source": [
        "## Imports"
      ],
      "metadata": {
        "id": "rDElnkc1z4RL"
      }
    },
    {
      "cell_type": "code",
      "execution_count": 1,
      "metadata": {
        "id": "X0gmiUnwft49"
      },
      "outputs": [],
      "source": [
        "import sympy as sym\n",
        "import pandas as pd\n",
        "import numpy as np\n",
        "from math import ceil"
      ]
    },
    {
      "cell_type": "markdown",
      "source": [
        "## Toy Datasets"
      ],
      "metadata": {
        "id": "_MAM7IS00HDU"
      }
    },
    {
      "cell_type": "markdown",
      "source": [
        "###  Dataset for multiple linear regression"
      ],
      "metadata": {
        "id": "TT9UYpjL0J58"
      }
    },
    {
      "cell_type": "code",
      "source": [
        "data_multi = pd.DataFrame({'feature1': [2104, 1416, 852],\n",
        "                         'feature2': [5, 3, 2],\n",
        "                         'feature3': [1, 2, 1],\n",
        "                         'feature4': [45, 40, 35],\n",
        "                         'target': [460, 232, 178]})\n",
        "\n",
        "data_multi"
      ],
      "metadata": {
        "colab": {
          "base_uri": "https://localhost:8080/",
          "height": 143
        },
        "id": "roOx406X0QhX",
        "outputId": "785edc5a-a340-4bc9-de69-4b29768d02c0"
      },
      "execution_count": 2,
      "outputs": [
        {
          "output_type": "execute_result",
          "data": {
            "text/plain": [
              "   feature1  feature2  feature3  feature4  target\n",
              "0      2104         5         1        45     460\n",
              "1      1416         3         2        40     232\n",
              "2       852         2         1        35     178"
            ],
            "text/html": [
              "\n",
              "  <div id=\"df-314d0ede-e59f-4ad0-85f5-06f00dd9dc5e\" class=\"colab-df-container\">\n",
              "    <div>\n",
              "<style scoped>\n",
              "    .dataframe tbody tr th:only-of-type {\n",
              "        vertical-align: middle;\n",
              "    }\n",
              "\n",
              "    .dataframe tbody tr th {\n",
              "        vertical-align: top;\n",
              "    }\n",
              "\n",
              "    .dataframe thead th {\n",
              "        text-align: right;\n",
              "    }\n",
              "</style>\n",
              "<table border=\"1\" class=\"dataframe\">\n",
              "  <thead>\n",
              "    <tr style=\"text-align: right;\">\n",
              "      <th></th>\n",
              "      <th>feature1</th>\n",
              "      <th>feature2</th>\n",
              "      <th>feature3</th>\n",
              "      <th>feature4</th>\n",
              "      <th>target</th>\n",
              "    </tr>\n",
              "  </thead>\n",
              "  <tbody>\n",
              "    <tr>\n",
              "      <th>0</th>\n",
              "      <td>2104</td>\n",
              "      <td>5</td>\n",
              "      <td>1</td>\n",
              "      <td>45</td>\n",
              "      <td>460</td>\n",
              "    </tr>\n",
              "    <tr>\n",
              "      <th>1</th>\n",
              "      <td>1416</td>\n",
              "      <td>3</td>\n",
              "      <td>2</td>\n",
              "      <td>40</td>\n",
              "      <td>232</td>\n",
              "    </tr>\n",
              "    <tr>\n",
              "      <th>2</th>\n",
              "      <td>852</td>\n",
              "      <td>2</td>\n",
              "      <td>1</td>\n",
              "      <td>35</td>\n",
              "      <td>178</td>\n",
              "    </tr>\n",
              "  </tbody>\n",
              "</table>\n",
              "</div>\n",
              "    <div class=\"colab-df-buttons\">\n",
              "\n",
              "  <div class=\"colab-df-container\">\n",
              "    <button class=\"colab-df-convert\" onclick=\"convertToInteractive('df-314d0ede-e59f-4ad0-85f5-06f00dd9dc5e')\"\n",
              "            title=\"Convert this dataframe to an interactive table.\"\n",
              "            style=\"display:none;\">\n",
              "\n",
              "  <svg xmlns=\"http://www.w3.org/2000/svg\" height=\"24px\" viewBox=\"0 -960 960 960\">\n",
              "    <path d=\"M120-120v-720h720v720H120Zm60-500h600v-160H180v160Zm220 220h160v-160H400v160Zm0 220h160v-160H400v160ZM180-400h160v-160H180v160Zm440 0h160v-160H620v160ZM180-180h160v-160H180v160Zm440 0h160v-160H620v160Z\"/>\n",
              "  </svg>\n",
              "    </button>\n",
              "\n",
              "  <style>\n",
              "    .colab-df-container {\n",
              "      display:flex;\n",
              "      gap: 12px;\n",
              "    }\n",
              "\n",
              "    .colab-df-convert {\n",
              "      background-color: #E8F0FE;\n",
              "      border: none;\n",
              "      border-radius: 50%;\n",
              "      cursor: pointer;\n",
              "      display: none;\n",
              "      fill: #1967D2;\n",
              "      height: 32px;\n",
              "      padding: 0 0 0 0;\n",
              "      width: 32px;\n",
              "    }\n",
              "\n",
              "    .colab-df-convert:hover {\n",
              "      background-color: #E2EBFA;\n",
              "      box-shadow: 0px 1px 2px rgba(60, 64, 67, 0.3), 0px 1px 3px 1px rgba(60, 64, 67, 0.15);\n",
              "      fill: #174EA6;\n",
              "    }\n",
              "\n",
              "    .colab-df-buttons div {\n",
              "      margin-bottom: 4px;\n",
              "    }\n",
              "\n",
              "    [theme=dark] .colab-df-convert {\n",
              "      background-color: #3B4455;\n",
              "      fill: #D2E3FC;\n",
              "    }\n",
              "\n",
              "    [theme=dark] .colab-df-convert:hover {\n",
              "      background-color: #434B5C;\n",
              "      box-shadow: 0px 1px 3px 1px rgba(0, 0, 0, 0.15);\n",
              "      filter: drop-shadow(0px 1px 2px rgba(0, 0, 0, 0.3));\n",
              "      fill: #FFFFFF;\n",
              "    }\n",
              "  </style>\n",
              "\n",
              "    <script>\n",
              "      const buttonEl =\n",
              "        document.querySelector('#df-314d0ede-e59f-4ad0-85f5-06f00dd9dc5e button.colab-df-convert');\n",
              "      buttonEl.style.display =\n",
              "        google.colab.kernel.accessAllowed ? 'block' : 'none';\n",
              "\n",
              "      async function convertToInteractive(key) {\n",
              "        const element = document.querySelector('#df-314d0ede-e59f-4ad0-85f5-06f00dd9dc5e');\n",
              "        const dataTable =\n",
              "          await google.colab.kernel.invokeFunction('convertToInteractive',\n",
              "                                                    [key], {});\n",
              "        if (!dataTable) return;\n",
              "\n",
              "        const docLinkHtml = 'Like what you see? Visit the ' +\n",
              "          '<a target=\"_blank\" href=https://colab.research.google.com/notebooks/data_table.ipynb>data table notebook</a>'\n",
              "          + ' to learn more about interactive tables.';\n",
              "        element.innerHTML = '';\n",
              "        dataTable['output_type'] = 'display_data';\n",
              "        await google.colab.output.renderOutput(dataTable, element);\n",
              "        const docLink = document.createElement('div');\n",
              "        docLink.innerHTML = docLinkHtml;\n",
              "        element.appendChild(docLink);\n",
              "      }\n",
              "    </script>\n",
              "  </div>\n",
              "\n",
              "\n",
              "<div id=\"df-cc8cd9bb-158b-4b52-84c2-60af1be3e5c9\">\n",
              "  <button class=\"colab-df-quickchart\" onclick=\"quickchart('df-cc8cd9bb-158b-4b52-84c2-60af1be3e5c9')\"\n",
              "            title=\"Suggest charts.\"\n",
              "            style=\"display:none;\">\n",
              "\n",
              "<svg xmlns=\"http://www.w3.org/2000/svg\" height=\"24px\"viewBox=\"0 0 24 24\"\n",
              "     width=\"24px\">\n",
              "    <g>\n",
              "        <path d=\"M19 3H5c-1.1 0-2 .9-2 2v14c0 1.1.9 2 2 2h14c1.1 0 2-.9 2-2V5c0-1.1-.9-2-2-2zM9 17H7v-7h2v7zm4 0h-2V7h2v10zm4 0h-2v-4h2v4z\"/>\n",
              "    </g>\n",
              "</svg>\n",
              "  </button>\n",
              "\n",
              "<style>\n",
              "  .colab-df-quickchart {\n",
              "    background-color: #E8F0FE;\n",
              "    border: none;\n",
              "    border-radius: 50%;\n",
              "    cursor: pointer;\n",
              "    display: none;\n",
              "    fill: #1967D2;\n",
              "    height: 32px;\n",
              "    padding: 0 0 0 0;\n",
              "    width: 32px;\n",
              "  }\n",
              "\n",
              "  .colab-df-quickchart:hover {\n",
              "    background-color: #E2EBFA;\n",
              "    box-shadow: 0px 1px 2px rgba(60, 64, 67, 0.3), 0px 1px 3px 1px rgba(60, 64, 67, 0.15);\n",
              "    fill: #174EA6;\n",
              "  }\n",
              "\n",
              "  [theme=dark] .colab-df-quickchart {\n",
              "    background-color: #3B4455;\n",
              "    fill: #D2E3FC;\n",
              "  }\n",
              "\n",
              "  [theme=dark] .colab-df-quickchart:hover {\n",
              "    background-color: #434B5C;\n",
              "    box-shadow: 0px 1px 3px 1px rgba(0, 0, 0, 0.15);\n",
              "    filter: drop-shadow(0px 1px 2px rgba(0, 0, 0, 0.3));\n",
              "    fill: #FFFFFF;\n",
              "  }\n",
              "</style>\n",
              "\n",
              "  <script>\n",
              "    async function quickchart(key) {\n",
              "      const charts = await google.colab.kernel.invokeFunction(\n",
              "          'suggestCharts', [key], {});\n",
              "    }\n",
              "    (() => {\n",
              "      let quickchartButtonEl =\n",
              "        document.querySelector('#df-cc8cd9bb-158b-4b52-84c2-60af1be3e5c9 button');\n",
              "      quickchartButtonEl.style.display =\n",
              "        google.colab.kernel.accessAllowed ? 'block' : 'none';\n",
              "    })();\n",
              "  </script>\n",
              "</div>\n",
              "    </div>\n",
              "  </div>\n"
            ]
          },
          "metadata": {},
          "execution_count": 2
        }
      ]
    },
    {
      "cell_type": "code",
      "source": [
        "X_train_multi = np.array(data_multi.drop('target', axis=1))\n",
        "y_train_multi = np.array(data_multi['target']).reshape(3, -1)\n",
        "X_train_multi, y_train_multi"
      ],
      "metadata": {
        "colab": {
          "base_uri": "https://localhost:8080/"
        },
        "id": "h_7j3wRd6GlD",
        "outputId": "9ed94366-3e41-4e16-d358-9d01833d6203"
      },
      "execution_count": 3,
      "outputs": [
        {
          "output_type": "execute_result",
          "data": {
            "text/plain": [
              "(array([[2104,    5,    1,   45],\n",
              "        [1416,    3,    2,   40],\n",
              "        [ 852,    2,    1,   35]]),\n",
              " array([[460],\n",
              "        [232],\n",
              "        [178]]))"
            ]
          },
          "metadata": {},
          "execution_count": 3
        }
      ]
    },
    {
      "cell_type": "code",
      "source": [
        "X_train_multi_sym = sym.Matrix(X_train_multi)\n",
        "y_train_multi_sym = sym.Matrix(y_train_multi)\n",
        "display(X_train_multi_sym)\n",
        "y_train_multi_sym"
      ],
      "metadata": {
        "colab": {
          "base_uri": "https://localhost:8080/",
          "height": 139
        },
        "id": "6EXDMWYsGHk-",
        "outputId": "3dbf8bf8-cd27-48cf-a655-72b5da206d3b"
      },
      "execution_count": 4,
      "outputs": [
        {
          "output_type": "display_data",
          "data": {
            "text/plain": [
              "Matrix([\n",
              "[2104, 5, 1, 45],\n",
              "[1416, 3, 2, 40],\n",
              "[ 852, 2, 1, 35]])"
            ],
            "text/latex": "$\\displaystyle \\left[\\begin{matrix}2104 & 5 & 1 & 45\\\\1416 & 3 & 2 & 40\\\\852 & 2 & 1 & 35\\end{matrix}\\right]$"
          },
          "metadata": {}
        },
        {
          "output_type": "execute_result",
          "data": {
            "text/plain": [
              "Matrix([\n",
              "[460],\n",
              "[232],\n",
              "[178]])"
            ],
            "text/latex": "$\\displaystyle \\left[\\begin{matrix}460\\\\232\\\\178\\end{matrix}\\right]$"
          },
          "metadata": {},
          "execution_count": 4
        }
      ]
    },
    {
      "cell_type": "code",
      "source": [
        "# optimal w and b for testing\n",
        "w_multi_best = np.array([ 0.39133535, 18.75376741, -53.36032453, -26.42131618]).reshape(-4, 1)\n",
        "b_multi_best = 785.1811367994083\n",
        "w_multi_best, b_multi_best"
      ],
      "metadata": {
        "colab": {
          "base_uri": "https://localhost:8080/"
        },
        "id": "VpEBqeQ30kGl",
        "outputId": "edfe19d8-9683-4c75-dfee-98e127e11ddb"
      },
      "execution_count": 5,
      "outputs": [
        {
          "output_type": "execute_result",
          "data": {
            "text/plain": [
              "(array([[  0.39133535],\n",
              "        [ 18.75376741],\n",
              "        [-53.36032453],\n",
              "        [-26.42131618]]),\n",
              " 785.1811367994083)"
            ]
          },
          "metadata": {},
          "execution_count": 5
        }
      ]
    },
    {
      "cell_type": "code",
      "source": [
        "w_multi_best_sym = sym.Matrix(w_multi_best)\n",
        "b_multi_best_sym = b_multi_best\n",
        "display(w_multi_best_sym)\n",
        "b_multi_best_sym"
      ],
      "metadata": {
        "colab": {
          "base_uri": "https://localhost:8080/",
          "height": 116
        },
        "id": "u8Fes6YMGhUD",
        "outputId": "3ed8d525-db7d-410b-9006-8721c935b5ad"
      },
      "execution_count": 6,
      "outputs": [
        {
          "output_type": "display_data",
          "data": {
            "text/plain": [
              "Matrix([\n",
              "[  0.39133535],\n",
              "[ 18.75376741],\n",
              "[-53.36032453],\n",
              "[-26.42131618]])"
            ],
            "text/latex": "$\\displaystyle \\left[\\begin{matrix}0.39133535\\\\18.75376741\\\\-53.36032453\\\\-26.42131618\\end{matrix}\\right]$"
          },
          "metadata": {}
        },
        {
          "output_type": "execute_result",
          "data": {
            "text/plain": [
              "785.1811367994083"
            ]
          },
          "metadata": {},
          "execution_count": 6
        }
      ]
    },
    {
      "cell_type": "markdown",
      "source": [
        "### Dataset for simple linear regression"
      ],
      "metadata": {
        "id": "56ex5yKK0V0a"
      }
    },
    {
      "cell_type": "code",
      "source": [
        "data_simple = pd.DataFrame({'feature': [1, 2],\n",
        "                            'target': [300, 500]})\n",
        "data_simple"
      ],
      "metadata": {
        "colab": {
          "base_uri": "https://localhost:8080/",
          "height": 112
        },
        "id": "LFM8a3PE0Z2s",
        "outputId": "39062f20-6f21-4f26-f58d-8a02fccc2e39"
      },
      "execution_count": 7,
      "outputs": [
        {
          "output_type": "execute_result",
          "data": {
            "text/plain": [
              "   feature  target\n",
              "0        1     300\n",
              "1        2     500"
            ],
            "text/html": [
              "\n",
              "  <div id=\"df-a3dcfcae-58bb-47c9-ace7-57653e457d78\" class=\"colab-df-container\">\n",
              "    <div>\n",
              "<style scoped>\n",
              "    .dataframe tbody tr th:only-of-type {\n",
              "        vertical-align: middle;\n",
              "    }\n",
              "\n",
              "    .dataframe tbody tr th {\n",
              "        vertical-align: top;\n",
              "    }\n",
              "\n",
              "    .dataframe thead th {\n",
              "        text-align: right;\n",
              "    }\n",
              "</style>\n",
              "<table border=\"1\" class=\"dataframe\">\n",
              "  <thead>\n",
              "    <tr style=\"text-align: right;\">\n",
              "      <th></th>\n",
              "      <th>feature</th>\n",
              "      <th>target</th>\n",
              "    </tr>\n",
              "  </thead>\n",
              "  <tbody>\n",
              "    <tr>\n",
              "      <th>0</th>\n",
              "      <td>1</td>\n",
              "      <td>300</td>\n",
              "    </tr>\n",
              "    <tr>\n",
              "      <th>1</th>\n",
              "      <td>2</td>\n",
              "      <td>500</td>\n",
              "    </tr>\n",
              "  </tbody>\n",
              "</table>\n",
              "</div>\n",
              "    <div class=\"colab-df-buttons\">\n",
              "\n",
              "  <div class=\"colab-df-container\">\n",
              "    <button class=\"colab-df-convert\" onclick=\"convertToInteractive('df-a3dcfcae-58bb-47c9-ace7-57653e457d78')\"\n",
              "            title=\"Convert this dataframe to an interactive table.\"\n",
              "            style=\"display:none;\">\n",
              "\n",
              "  <svg xmlns=\"http://www.w3.org/2000/svg\" height=\"24px\" viewBox=\"0 -960 960 960\">\n",
              "    <path d=\"M120-120v-720h720v720H120Zm60-500h600v-160H180v160Zm220 220h160v-160H400v160Zm0 220h160v-160H400v160ZM180-400h160v-160H180v160Zm440 0h160v-160H620v160ZM180-180h160v-160H180v160Zm440 0h160v-160H620v160Z\"/>\n",
              "  </svg>\n",
              "    </button>\n",
              "\n",
              "  <style>\n",
              "    .colab-df-container {\n",
              "      display:flex;\n",
              "      gap: 12px;\n",
              "    }\n",
              "\n",
              "    .colab-df-convert {\n",
              "      background-color: #E8F0FE;\n",
              "      border: none;\n",
              "      border-radius: 50%;\n",
              "      cursor: pointer;\n",
              "      display: none;\n",
              "      fill: #1967D2;\n",
              "      height: 32px;\n",
              "      padding: 0 0 0 0;\n",
              "      width: 32px;\n",
              "    }\n",
              "\n",
              "    .colab-df-convert:hover {\n",
              "      background-color: #E2EBFA;\n",
              "      box-shadow: 0px 1px 2px rgba(60, 64, 67, 0.3), 0px 1px 3px 1px rgba(60, 64, 67, 0.15);\n",
              "      fill: #174EA6;\n",
              "    }\n",
              "\n",
              "    .colab-df-buttons div {\n",
              "      margin-bottom: 4px;\n",
              "    }\n",
              "\n",
              "    [theme=dark] .colab-df-convert {\n",
              "      background-color: #3B4455;\n",
              "      fill: #D2E3FC;\n",
              "    }\n",
              "\n",
              "    [theme=dark] .colab-df-convert:hover {\n",
              "      background-color: #434B5C;\n",
              "      box-shadow: 0px 1px 3px 1px rgba(0, 0, 0, 0.15);\n",
              "      filter: drop-shadow(0px 1px 2px rgba(0, 0, 0, 0.3));\n",
              "      fill: #FFFFFF;\n",
              "    }\n",
              "  </style>\n",
              "\n",
              "    <script>\n",
              "      const buttonEl =\n",
              "        document.querySelector('#df-a3dcfcae-58bb-47c9-ace7-57653e457d78 button.colab-df-convert');\n",
              "      buttonEl.style.display =\n",
              "        google.colab.kernel.accessAllowed ? 'block' : 'none';\n",
              "\n",
              "      async function convertToInteractive(key) {\n",
              "        const element = document.querySelector('#df-a3dcfcae-58bb-47c9-ace7-57653e457d78');\n",
              "        const dataTable =\n",
              "          await google.colab.kernel.invokeFunction('convertToInteractive',\n",
              "                                                    [key], {});\n",
              "        if (!dataTable) return;\n",
              "\n",
              "        const docLinkHtml = 'Like what you see? Visit the ' +\n",
              "          '<a target=\"_blank\" href=https://colab.research.google.com/notebooks/data_table.ipynb>data table notebook</a>'\n",
              "          + ' to learn more about interactive tables.';\n",
              "        element.innerHTML = '';\n",
              "        dataTable['output_type'] = 'display_data';\n",
              "        await google.colab.output.renderOutput(dataTable, element);\n",
              "        const docLink = document.createElement('div');\n",
              "        docLink.innerHTML = docLinkHtml;\n",
              "        element.appendChild(docLink);\n",
              "      }\n",
              "    </script>\n",
              "  </div>\n",
              "\n",
              "\n",
              "<div id=\"df-541d51b9-9b46-4b6f-b3a3-24fe0bc94331\">\n",
              "  <button class=\"colab-df-quickchart\" onclick=\"quickchart('df-541d51b9-9b46-4b6f-b3a3-24fe0bc94331')\"\n",
              "            title=\"Suggest charts.\"\n",
              "            style=\"display:none;\">\n",
              "\n",
              "<svg xmlns=\"http://www.w3.org/2000/svg\" height=\"24px\"viewBox=\"0 0 24 24\"\n",
              "     width=\"24px\">\n",
              "    <g>\n",
              "        <path d=\"M19 3H5c-1.1 0-2 .9-2 2v14c0 1.1.9 2 2 2h14c1.1 0 2-.9 2-2V5c0-1.1-.9-2-2-2zM9 17H7v-7h2v7zm4 0h-2V7h2v10zm4 0h-2v-4h2v4z\"/>\n",
              "    </g>\n",
              "</svg>\n",
              "  </button>\n",
              "\n",
              "<style>\n",
              "  .colab-df-quickchart {\n",
              "    background-color: #E8F0FE;\n",
              "    border: none;\n",
              "    border-radius: 50%;\n",
              "    cursor: pointer;\n",
              "    display: none;\n",
              "    fill: #1967D2;\n",
              "    height: 32px;\n",
              "    padding: 0 0 0 0;\n",
              "    width: 32px;\n",
              "  }\n",
              "\n",
              "  .colab-df-quickchart:hover {\n",
              "    background-color: #E2EBFA;\n",
              "    box-shadow: 0px 1px 2px rgba(60, 64, 67, 0.3), 0px 1px 3px 1px rgba(60, 64, 67, 0.15);\n",
              "    fill: #174EA6;\n",
              "  }\n",
              "\n",
              "  [theme=dark] .colab-df-quickchart {\n",
              "    background-color: #3B4455;\n",
              "    fill: #D2E3FC;\n",
              "  }\n",
              "\n",
              "  [theme=dark] .colab-df-quickchart:hover {\n",
              "    background-color: #434B5C;\n",
              "    box-shadow: 0px 1px 3px 1px rgba(0, 0, 0, 0.15);\n",
              "    filter: drop-shadow(0px 1px 2px rgba(0, 0, 0, 0.3));\n",
              "    fill: #FFFFFF;\n",
              "  }\n",
              "</style>\n",
              "\n",
              "  <script>\n",
              "    async function quickchart(key) {\n",
              "      const charts = await google.colab.kernel.invokeFunction(\n",
              "          'suggestCharts', [key], {});\n",
              "    }\n",
              "    (() => {\n",
              "      let quickchartButtonEl =\n",
              "        document.querySelector('#df-541d51b9-9b46-4b6f-b3a3-24fe0bc94331 button');\n",
              "      quickchartButtonEl.style.display =\n",
              "        google.colab.kernel.accessAllowed ? 'block' : 'none';\n",
              "    })();\n",
              "  </script>\n",
              "</div>\n",
              "    </div>\n",
              "  </div>\n"
            ]
          },
          "metadata": {},
          "execution_count": 7
        }
      ]
    },
    {
      "cell_type": "code",
      "source": [
        "X_train_simple = np.array(data_simple.drop('target', axis=1))\n",
        "y_train_simple = np.array(data_simple['target']).reshape(2, -1)\n",
        "X_train_simple, y_train_simple"
      ],
      "metadata": {
        "colab": {
          "base_uri": "https://localhost:8080/"
        },
        "id": "MAq3jorl-CnX",
        "outputId": "a1da2140-0c8d-4e95-9c59-241c39d023c7"
      },
      "execution_count": 8,
      "outputs": [
        {
          "output_type": "execute_result",
          "data": {
            "text/plain": [
              "(array([[1],\n",
              "        [2]]),\n",
              " array([[300],\n",
              "        [500]]))"
            ]
          },
          "metadata": {},
          "execution_count": 8
        }
      ]
    },
    {
      "cell_type": "code",
      "source": [
        "X_train_simple_sym = sym.Matrix(X_train_simple)\n",
        "y_train_simple_sym = sym.Matrix(y_train_simple)\n",
        "display(X_train_simple_sym)\n",
        "y_train_simple_sym"
      ],
      "metadata": {
        "colab": {
          "base_uri": "https://localhost:8080/",
          "height": 98
        },
        "id": "6k1bby8cEwfw",
        "outputId": "b7fbbe04-4137-4f0d-f1d2-24b43fae86e5"
      },
      "execution_count": 9,
      "outputs": [
        {
          "output_type": "display_data",
          "data": {
            "text/plain": [
              "Matrix([\n",
              "[1],\n",
              "[2]])"
            ],
            "text/latex": "$\\displaystyle \\left[\\begin{matrix}1\\\\2\\end{matrix}\\right]$"
          },
          "metadata": {}
        },
        {
          "output_type": "execute_result",
          "data": {
            "text/plain": [
              "Matrix([\n",
              "[300],\n",
              "[500]])"
            ],
            "text/latex": "$\\displaystyle \\left[\\begin{matrix}300\\\\500\\end{matrix}\\right]$"
          },
          "metadata": {},
          "execution_count": 9
        }
      ]
    },
    {
      "cell_type": "code",
      "source": [
        "# optimal w and b for testing\n",
        "w_simple_best = np.array([[200]])\n",
        "b_simple_best = 100\n",
        "w_simple_best, b_simple_best"
      ],
      "metadata": {
        "colab": {
          "base_uri": "https://localhost:8080/"
        },
        "id": "j92CJGHV09GU",
        "outputId": "c3b1065b-1ce8-49bd-a0a6-41dd5e9ea297"
      },
      "execution_count": 10,
      "outputs": [
        {
          "output_type": "execute_result",
          "data": {
            "text/plain": [
              "(array([[200]]), 100)"
            ]
          },
          "metadata": {},
          "execution_count": 10
        }
      ]
    },
    {
      "cell_type": "code",
      "source": [
        "w_simple_best_sym = sym.Matrix(w_simple_best)\n",
        "b_simple_best_sym = b_simple_best\n",
        "display(w_simple_best_sym)\n",
        "b_simple_best_sym"
      ],
      "metadata": {
        "colab": {
          "base_uri": "https://localhost:8080/",
          "height": 57
        },
        "id": "DxTfZXXXG7F0",
        "outputId": "1cebc11d-9602-4c96-9521-43688ff5d15f"
      },
      "execution_count": 11,
      "outputs": [
        {
          "output_type": "display_data",
          "data": {
            "text/plain": [
              "Matrix([[200]])"
            ],
            "text/latex": "$\\displaystyle \\left[\\begin{matrix}200\\end{matrix}\\right]$"
          },
          "metadata": {}
        },
        {
          "output_type": "execute_result",
          "data": {
            "text/plain": [
              "100"
            ]
          },
          "metadata": {},
          "execution_count": 11
        }
      ]
    },
    {
      "cell_type": "markdown",
      "source": [
        "## The Model Prediction\n",
        "\n",
        "$$\n",
        "f_{\\mathbf{w},b}(\\mathbf{x}^{(i)}) = \\mathbf{w}\\cdot\\mathbf{x}^{(i)} + b\n",
        "$$\n",
        "\n",
        "where\n",
        "\n",
        "- $\\mathbf{x}$ is a vector representing the $i^{th}$ row of $\\mathbf{X}$\n",
        "- $\\mathbf{w}$ is column vector containing the weights of the model\n",
        "- $b$ is a scalar representing the bias"
      ],
      "metadata": {
        "id": "oyXSjD5L5NQ8"
      }
    },
    {
      "cell_type": "markdown",
      "source": [
        "### `sympy` version"
      ],
      "metadata": {
        "id": "gYUnxQFqDRhf"
      }
    },
    {
      "cell_type": "code",
      "source": [
        "# `X * w` is used instead of `X @ w`\n",
        "#   so that the function also works\n",
        "#   for simple linear regression\n",
        "def f_wb_sym(X, w, b):\n",
        "    m = X.shape[0]\n",
        "    pred = X * w + b * sym.ones(m, 1)\n",
        "    return pred"
      ],
      "metadata": {
        "id": "i5JUcABfDNqY"
      },
      "execution_count": 12,
      "outputs": []
    },
    {
      "cell_type": "code",
      "source": [
        "f_wb_sym(X_train_multi_sym, w_multi_best_sym, b_multi_best_sym)"
      ],
      "metadata": {
        "colab": {
          "base_uri": "https://localhost:8080/",
          "height": 78
        },
        "id": "JeleLtYfEpuy",
        "outputId": "28eee91d-db81-40fc-b777-87db1ebf4f17"
      },
      "execution_count": 13,
      "outputs": [
        {
          "output_type": "execute_result",
          "data": {
            "text/plain": [
              "Matrix([\n",
              "[459.999997619408],\n",
              "[231.999998369408],\n",
              "[177.999998989408]])"
            ],
            "text/latex": "$\\displaystyle \\left[\\begin{matrix}459.999997619408\\\\231.999998369408\\\\177.999998989408\\end{matrix}\\right]$"
          },
          "metadata": {},
          "execution_count": 13
        }
      ]
    },
    {
      "cell_type": "code",
      "source": [
        "f_wb_sym(X_train_simple_sym, w_simple_best_sym, b_simple_best_sym)"
      ],
      "metadata": {
        "colab": {
          "base_uri": "https://localhost:8080/",
          "height": 58
        },
        "id": "_PUd8RCyKS1S",
        "outputId": "29a8a269-b4eb-4a63-b121-73aa47dc30bf"
      },
      "execution_count": 14,
      "outputs": [
        {
          "output_type": "execute_result",
          "data": {
            "text/plain": [
              "Matrix([\n",
              "[300],\n",
              "[500]])"
            ],
            "text/latex": "$\\displaystyle \\left[\\begin{matrix}300\\\\500\\end{matrix}\\right]$"
          },
          "metadata": {},
          "execution_count": 14
        }
      ]
    },
    {
      "cell_type": "markdown",
      "source": [
        "### `numpy` version"
      ],
      "metadata": {
        "id": "c2vbu7IjKusf"
      }
    },
    {
      "cell_type": "code",
      "source": [
        "def f_wb(X, w, b):\n",
        "    m = X.shape[0]\n",
        "    pred = X @ w + b\n",
        "    return pred"
      ],
      "metadata": {
        "id": "LSxYYw1X5QRw"
      },
      "execution_count": 15,
      "outputs": []
    },
    {
      "cell_type": "code",
      "source": [
        "# works with multiple rows\n",
        "f_wb(X_train_multi, w_multi_best, b_multi_best)"
      ],
      "metadata": {
        "colab": {
          "base_uri": "https://localhost:8080/"
        },
        "id": "wYIMRU-oCj1B",
        "outputId": "d397f01a-e253-49ee-80a2-f2da81bbc3f1"
      },
      "execution_count": 16,
      "outputs": [
        {
          "output_type": "execute_result",
          "data": {
            "text/plain": [
              "array([[459.99999762],\n",
              "       [231.99999837],\n",
              "       [177.99999899]])"
            ]
          },
          "metadata": {},
          "execution_count": 16
        }
      ]
    },
    {
      "cell_type": "code",
      "source": [
        "# works with a single row\n",
        "f_wb(X_train_multi[0], w_multi_best, b_multi_best)"
      ],
      "metadata": {
        "colab": {
          "base_uri": "https://localhost:8080/"
        },
        "id": "Vfyt_juzCoTv",
        "outputId": "79c1b4c5-cdaa-4e07-9342-d54780a3b4eb"
      },
      "execution_count": 17,
      "outputs": [
        {
          "output_type": "execute_result",
          "data": {
            "text/plain": [
              "array([459.99999762])"
            ]
          },
          "metadata": {},
          "execution_count": 17
        }
      ]
    },
    {
      "cell_type": "code",
      "source": [
        "# works with simple regression\n",
        "f_wb(X_train_simple, w_simple_best, b_simple_best)"
      ],
      "metadata": {
        "colab": {
          "base_uri": "https://localhost:8080/"
        },
        "id": "RNOArPzFKLle",
        "outputId": "b330b88d-035f-486a-a2cc-69118204e1ea"
      },
      "execution_count": 18,
      "outputs": [
        {
          "output_type": "execute_result",
          "data": {
            "text/plain": [
              "array([[300],\n",
              "       [500]])"
            ]
          },
          "metadata": {},
          "execution_count": 18
        }
      ]
    },
    {
      "cell_type": "code",
      "source": [
        "# works with simple regression, single row\n",
        "f_wb(X_train_simple[0], w_simple_best, b_simple_best)"
      ],
      "metadata": {
        "colab": {
          "base_uri": "https://localhost:8080/"
        },
        "id": "vNlvZexTK0In",
        "outputId": "b3422ba5-f44b-4a96-ec0b-3a607bc2093c"
      },
      "execution_count": 19,
      "outputs": [
        {
          "output_type": "execute_result",
          "data": {
            "text/plain": [
              "array([300])"
            ]
          },
          "metadata": {},
          "execution_count": 19
        }
      ]
    },
    {
      "cell_type": "markdown",
      "source": [
        "### Speed comparison: `sympy` vs `numpy`"
      ],
      "metadata": {
        "id": "oAqWVzzJLLII"
      }
    },
    {
      "cell_type": "code",
      "source": [
        "%%timeit -r7 -n1000\n",
        "f_wb_sym(X_train_multi_sym, w_multi_best_sym, b_multi_best_sym)"
      ],
      "metadata": {
        "colab": {
          "base_uri": "https://localhost:8080/"
        },
        "id": "T8FpIv_xLShY",
        "outputId": "5fe79edd-6d9b-4fad-a2e9-49aaf89d55f1"
      },
      "execution_count": 20,
      "outputs": [
        {
          "output_type": "stream",
          "name": "stdout",
          "text": [
            "The slowest run took 4.25 times longer than the fastest. This could mean that an intermediate result is being cached.\n",
            "981 µs ± 539 µs per loop (mean ± std. dev. of 7 runs, 1000 loops each)\n"
          ]
        }
      ]
    },
    {
      "cell_type": "code",
      "source": [
        "%%timeit -r7 -n1000\n",
        "f_wb(X_train_multi, w_multi_best, b_multi_best)"
      ],
      "metadata": {
        "colab": {
          "base_uri": "https://localhost:8080/"
        },
        "id": "yniwymRtLeFE",
        "outputId": "71552943-e4b1-42d7-d852-aed1b25ec6a2"
      },
      "execution_count": 21,
      "outputs": [
        {
          "output_type": "stream",
          "name": "stdout",
          "text": [
            "8.48 µs ± 2.17 µs per loop (mean ± std. dev. of 7 runs, 1000 loops each)\n"
          ]
        }
      ]
    },
    {
      "cell_type": "markdown",
      "source": [
        "## The Cost Function\n",
        "\n",
        "$$\n",
        "J(\\mathbf{w},b) = \\frac{1}{2m} \\sum\\limits_{i = 0}^{m-1} (f_{\\mathbf{w},b}(\\mathbf{x}^{(i)}) - y^{(i)})^2\n",
        "$$"
      ],
      "metadata": {
        "id": "SygNF4nKMGpK"
      }
    },
    {
      "cell_type": "markdown",
      "source": [
        "### `sympy` versions"
      ],
      "metadata": {
        "id": "AQOYoxnXMKK7"
      }
    },
    {
      "cell_type": "code",
      "source": [
        "def compute_cost_loop_sym(X, y, w, b):\n",
        "    m = X.shape[0]\n",
        "    cost = sym.Matrix([0.0])\n",
        "\n",
        "    for i in range(m):\n",
        "        f_wb_i = f_wb_sym(X[i,:], w, b)\n",
        "        cost = cost + (f_wb_i - sym.Matrix([y[i]])).applyfunc(lambda x: x**2)\n",
        "    cost = cost / (2 * m)\n",
        "    return cost[0]"
      ],
      "metadata": {
        "id": "tzeRx8LpMT-z"
      },
      "execution_count": 22,
      "outputs": []
    },
    {
      "cell_type": "code",
      "source": [
        "def compute_cost_sym(X, y, w, b):\n",
        "    m = X.shape[0]\n",
        "    pred = f_wb_sym(X, w, b)\n",
        "    cost = sum((pred - y).applyfunc(lambda x: x**2)) / (2 * m)\n",
        "    return cost"
      ],
      "metadata": {
        "id": "w0x7j2KZMfY5"
      },
      "execution_count": 23,
      "outputs": []
    },
    {
      "cell_type": "code",
      "source": [
        "compute_cost_sym(X_train_multi_sym,\n",
        "                 y_train_multi_sym,\n",
        "                 w_multi_best_sym,\n",
        "                 b_multi_best_sym)"
      ],
      "metadata": {
        "colab": {
          "base_uri": "https://localhost:8080/",
          "height": 37
        },
        "id": "Il2BlNLDMkyz",
        "outputId": "1530e85a-14d8-4980-d92e-bc5488b580ff"
      },
      "execution_count": 24,
      "outputs": [
        {
          "output_type": "execute_result",
          "data": {
            "text/plain": [
              "1.55789044289666e-12"
            ],
            "text/latex": "$\\displaystyle 1.55789044289666 \\cdot 10^{-12}$"
          },
          "metadata": {},
          "execution_count": 24
        }
      ]
    },
    {
      "cell_type": "code",
      "source": [
        "compute_cost_sym(X_train_simple_sym,\n",
        "                 y_train_simple_sym,\n",
        "                 w_simple_best_sym,\n",
        "                 b_simple_best_sym)"
      ],
      "metadata": {
        "colab": {
          "base_uri": "https://localhost:8080/",
          "height": 37
        },
        "id": "NlwSGAsvOtOG",
        "outputId": "c0e78401-a73b-4aa8-c800-8c331d808fc8"
      },
      "execution_count": 25,
      "outputs": [
        {
          "output_type": "execute_result",
          "data": {
            "text/plain": [
              "0"
            ],
            "text/latex": "$\\displaystyle 0$"
          },
          "metadata": {},
          "execution_count": 25
        }
      ]
    },
    {
      "cell_type": "markdown",
      "source": [
        "### `numpy` versions"
      ],
      "metadata": {
        "id": "aaAYd5vEO9bD"
      }
    },
    {
      "cell_type": "markdown",
      "source": [
        "#### `compute_cost_loop`"
      ],
      "metadata": {
        "id": "cxK4xucKPk57"
      }
    },
    {
      "cell_type": "code",
      "source": [
        "def compute_cost_loop(X, y, w, b):\n",
        "    m = X.shape[0]\n",
        "\n",
        "    cost = 0.0\n",
        "    for i in range(m):\n",
        "        f_wb_i = f_wb(X[i], w, b)\n",
        "        cost = cost + (f_wb_i - y[i])**2\n",
        "    cost = cost / (2 * m)\n",
        "    return cost[0]"
      ],
      "metadata": {
        "id": "IMMceg68PsUJ"
      },
      "execution_count": 26,
      "outputs": []
    },
    {
      "cell_type": "code",
      "source": [
        "# test for multiple linear regression\n",
        "compute_cost_loop(X_train_multi, y_train_multi, w_multi_best, b_multi_best)"
      ],
      "metadata": {
        "colab": {
          "base_uri": "https://localhost:8080/"
        },
        "id": "BnWebO33fZ36",
        "outputId": "3d1e2674-3f1e-4dbc-f02b-a6a927bfb168"
      },
      "execution_count": 27,
      "outputs": [
        {
          "output_type": "execute_result",
          "data": {
            "text/plain": [
              "1.5578904428966628e-12"
            ]
          },
          "metadata": {},
          "execution_count": 27
        }
      ]
    },
    {
      "cell_type": "code",
      "source": [
        "# test for simple linear regression\n",
        "compute_cost_loop(X_train_simple, y_train_simple, w_simple_best, b_simple_best)"
      ],
      "metadata": {
        "colab": {
          "base_uri": "https://localhost:8080/"
        },
        "id": "bcogHRGtffdy",
        "outputId": "c492963b-753a-4fe1-d6f4-00dd78c53c7f"
      },
      "execution_count": 28,
      "outputs": [
        {
          "output_type": "execute_result",
          "data": {
            "text/plain": [
              "0.0"
            ]
          },
          "metadata": {},
          "execution_count": 28
        }
      ]
    },
    {
      "cell_type": "markdown",
      "source": [
        "#### `compute_cost`"
      ],
      "metadata": {
        "id": "mpmq0yGCPo_i"
      }
    },
    {
      "cell_type": "code",
      "source": [
        "def compute_cost(X, y, w, b):\n",
        "    m = X.shape[0]\n",
        "    pred = f_wb(X, w, b)\n",
        "    cost = sum((pred - y)**2) / (2 * m)\n",
        "    return cost[0]"
      ],
      "metadata": {
        "id": "GuqpjpsGPB1x"
      },
      "execution_count": 29,
      "outputs": []
    },
    {
      "cell_type": "code",
      "source": [
        "# test for multiple linear regression\n",
        "compute_cost(X_train_multi, y_train_multi, w_multi_best, b_multi_best)"
      ],
      "metadata": {
        "colab": {
          "base_uri": "https://localhost:8080/"
        },
        "id": "XgoiswWNiZ19",
        "outputId": "61eeb6c8-ebe9-4df3-9a1d-0c58258ece86"
      },
      "execution_count": 30,
      "outputs": [
        {
          "output_type": "execute_result",
          "data": {
            "text/plain": [
              "1.5578904045996674e-12"
            ]
          },
          "metadata": {},
          "execution_count": 30
        }
      ]
    },
    {
      "cell_type": "code",
      "source": [
        "# test for simple linear regression\n",
        "compute_cost(X_train_simple, y_train_simple, w_simple_best, b_simple_best)"
      ],
      "metadata": {
        "colab": {
          "base_uri": "https://localhost:8080/"
        },
        "id": "Gyp6EysdicZ2",
        "outputId": "ea629e65-5a7f-4583-b375-06787b5ca489"
      },
      "execution_count": 31,
      "outputs": [
        {
          "output_type": "execute_result",
          "data": {
            "text/plain": [
              "0.0"
            ]
          },
          "metadata": {},
          "execution_count": 31
        }
      ]
    },
    {
      "cell_type": "markdown",
      "source": [
        "### Speed comparison: `sympy` vs `numpy`"
      ],
      "metadata": {
        "id": "TtiT6WnBjf9V"
      }
    },
    {
      "cell_type": "code",
      "source": [
        "%%timeit -r7 -n1000\n",
        "compute_cost_loop_sym(X_train_multi_sym,\n",
        "                      y_train_multi_sym,\n",
        "                      w_multi_best_sym,\n",
        "                      b_multi_best_sym)"
      ],
      "metadata": {
        "colab": {
          "base_uri": "https://localhost:8080/"
        },
        "id": "LmtYhPDNj7H-",
        "outputId": "b7af85fe-22d4-4c5f-e715-ca573abee581"
      },
      "execution_count": 32,
      "outputs": [
        {
          "output_type": "stream",
          "name": "stdout",
          "text": [
            "2.83 ms ± 1.23 ms per loop (mean ± std. dev. of 7 runs, 1000 loops each)\n"
          ]
        }
      ]
    },
    {
      "cell_type": "code",
      "source": [
        "%%timeit -r7 -n1000\n",
        "compute_cost_sym(X_train_multi_sym,\n",
        "                 y_train_multi_sym,\n",
        "                 w_multi_best_sym,\n",
        "                 b_multi_best_sym)"
      ],
      "metadata": {
        "colab": {
          "base_uri": "https://localhost:8080/"
        },
        "id": "nVVOrw7dj7qj",
        "outputId": "59b85158-a9b1-4611-e9d8-d56a73a8bf18"
      },
      "execution_count": 33,
      "outputs": [
        {
          "output_type": "stream",
          "name": "stdout",
          "text": [
            "874 µs ± 196 µs per loop (mean ± std. dev. of 7 runs, 1000 loops each)\n"
          ]
        }
      ]
    },
    {
      "cell_type": "code",
      "source": [
        "%%timeit -r7 -n1000\n",
        "compute_cost_loop(X_train_multi,\n",
        "                  y_train_multi,\n",
        "                  w_multi_best,\n",
        "                  b_multi_best)"
      ],
      "metadata": {
        "colab": {
          "base_uri": "https://localhost:8080/"
        },
        "id": "BwL0uf6Lj70b",
        "outputId": "2715f730-bdd3-4e0e-ed9d-6883f3f6afac"
      },
      "execution_count": 34,
      "outputs": [
        {
          "output_type": "stream",
          "name": "stdout",
          "text": [
            "30 µs ± 10.6 µs per loop (mean ± std. dev. of 7 runs, 1000 loops each)\n"
          ]
        }
      ]
    },
    {
      "cell_type": "code",
      "source": [
        "%%timeit -r7 -n1000\n",
        "compute_cost(X_train_multi,\n",
        "             y_train_multi,\n",
        "             w_multi_best,\n",
        "             b_multi_best)"
      ],
      "metadata": {
        "colab": {
          "base_uri": "https://localhost:8080/"
        },
        "id": "IuwbRcFej78w",
        "outputId": "04108630-9fa6-40fc-fef6-530f80f8d807"
      },
      "execution_count": 35,
      "outputs": [
        {
          "output_type": "stream",
          "name": "stdout",
          "text": [
            "19 µs ± 7.12 µs per loop (mean ± std. dev. of 7 runs, 1000 loops each)\n"
          ]
        }
      ]
    },
    {
      "cell_type": "markdown",
      "source": [
        "## The Gradient\n",
        "\n",
        "$$\n",
        "\\begin{align}\n",
        "\\frac{\\partial J(\\mathbf{w},b)}{\\partial w_j}  &= \\frac{1}{m} \\sum\\limits_{i = 0}^{m-1} (f_{\\mathbf{w},b}(\\mathbf{x}^{(i)}) - y^{(i)})x_{j}^{(i)} \\\\\n",
        "\\frac{\\partial J(\\mathbf{w},b)}{\\partial b}  &= \\frac{1}{m} \\sum\\limits_{i = 0}^{m-1} (f_{\\mathbf{w},b}(\\mathbf{x}^{(i)}) - y^{(i)})\n",
        "\\end{align}\n",
        "$$"
      ],
      "metadata": {
        "id": "aqqmuzmZl-Dg"
      }
    },
    {
      "cell_type": "markdown",
      "source": [
        "### `sympy` versions"
      ],
      "metadata": {
        "id": "DJXXQkzRnDL2"
      }
    },
    {
      "cell_type": "code",
      "source": [
        "def compute_gradient_loop_sym(X, y, w, b):\n",
        "    m, n = X.shape\n",
        "\n",
        "    dj_dw = sym.zeros(n, 1)\n",
        "    dj_db = 0.0\n",
        "\n",
        "    for i in range(m):\n",
        "        err = f_wb_sym(X[i,:], w, b)[0] - y[i]\n",
        "        for j in range(n):\n",
        "            dj_dw[j] = dj_dw[j] + (err * X[i, j])\n",
        "        dj_db = dj_db + err\n",
        "    dj_dw = dj_dw / m\n",
        "    dj_db = dj_db / m\n",
        "\n",
        "    return dj_db, dj_dw"
      ],
      "metadata": {
        "id": "6xdZWCA8nCcs"
      },
      "execution_count": 36,
      "outputs": []
    },
    {
      "cell_type": "code",
      "source": [
        "def compute_gradient_sym(X, y, w, b):\n",
        "    m, n = X.shape\n",
        "\n",
        "    y_pred = f_wb_sym(X, w, b)\n",
        "    err = y_pred - y\n",
        "\n",
        "    dj_dw = (X.T @ err) / m\n",
        "    dj_db = sum(err) / m\n",
        "\n",
        "    return dj_db, dj_dw"
      ],
      "metadata": {
        "id": "Yg-zQxNcnhSy"
      },
      "execution_count": 37,
      "outputs": []
    },
    {
      "cell_type": "code",
      "source": [
        "dj_db, dj_dw = compute_gradient_sym(X_train_multi_sym,\n",
        "                                    y_train_multi_sym,\n",
        "                                    w_multi_best_sym,\n",
        "                                    b_multi_best_sym)\n",
        "display(dj_db)\n",
        "display(dj_dw)"
      ],
      "metadata": {
        "colab": {
          "base_uri": "https://localhost:8080/",
          "height": 119
        },
        "id": "lKQ7A3Xnn1wg",
        "outputId": "630265d4-8b86-4ec3-c3aa-440b5ffa4ced"
      },
      "execution_count": 38,
      "outputs": [
        {
          "output_type": "display_data",
          "data": {
            "text/plain": [
              "-1.67392515019552e-6"
            ],
            "text/latex": "$\\displaystyle -1.67392515019552 \\cdot 10^{-6}$"
          },
          "metadata": {}
        },
        {
          "output_type": "display_data",
          "data": {
            "text/plain": [
              "Matrix([\n",
              "[-0.00272623577196403],\n",
              "[-6.27197262777675e-6],\n",
              "[-2.21745578225333e-6],\n",
              "[-6.92403390682254e-5]])"
            ],
            "text/latex": "$\\displaystyle \\left[\\begin{matrix}-0.00272623577196403\\\\-6.27197262777675 \\cdot 10^{-6}\\\\-2.21745578225333 \\cdot 10^{-6}\\\\-6.92403390682254 \\cdot 10^{-5}\\end{matrix}\\right]$"
          },
          "metadata": {}
        }
      ]
    },
    {
      "cell_type": "code",
      "source": [
        "dj_db, dj_dw = compute_gradient_sym(X_train_simple_sym,\n",
        "                                    y_train_simple_sym,\n",
        "                                    w_simple_best_sym,\n",
        "                                    b_simple_best_sym)\n",
        "display(dj_db)\n",
        "display(dj_dw)"
      ],
      "metadata": {
        "colab": {
          "base_uri": "https://localhost:8080/",
          "height": 59
        },
        "id": "5DbWmfjpocFD",
        "outputId": "f62b9326-a4dc-4860-d386-f74980160977"
      },
      "execution_count": 39,
      "outputs": [
        {
          "output_type": "display_data",
          "data": {
            "text/plain": [
              "0"
            ],
            "text/latex": "$\\displaystyle 0$"
          },
          "metadata": {}
        },
        {
          "output_type": "display_data",
          "data": {
            "text/plain": [
              "Matrix([[0]])"
            ],
            "text/latex": "$\\displaystyle \\left[\\begin{matrix}0\\end{matrix}\\right]$"
          },
          "metadata": {}
        }
      ]
    },
    {
      "cell_type": "markdown",
      "source": [
        "### `numpy` versions"
      ],
      "metadata": {
        "id": "Kfm3NcYaorSu"
      }
    },
    {
      "cell_type": "markdown",
      "source": [
        "#### `compute_gradient_loop`"
      ],
      "metadata": {
        "id": "ihvSGsTdpSuD"
      }
    },
    {
      "cell_type": "code",
      "source": [
        "def compute_gradient_loop(X, y, w, b):\n",
        "    m, n = X.shape\n",
        "\n",
        "    dj_dw = np.zeros((n, 1))\n",
        "    dj_db = 0.0\n",
        "\n",
        "    for i in range(m):\n",
        "        err = f_wb(X[i], w, b)[0] - y[i]\n",
        "        for j in range(n):\n",
        "            dj_dw[j] = dj_dw[j] + (err * X[i,j])\n",
        "        dj_db = dj_db + err\n",
        "\n",
        "    dj_dw = dj_dw / m\n",
        "    dj_db = dj_db / m\n",
        "\n",
        "    return dj_db[0], dj_dw"
      ],
      "metadata": {
        "id": "mJ7ZDCwipiKQ"
      },
      "execution_count": 40,
      "outputs": []
    },
    {
      "cell_type": "code",
      "source": [
        "# test for multiple linear regression\n",
        "dj_db, dj_dw = compute_gradient_loop(X_train_multi,\n",
        "                                     y_train_multi,\n",
        "                                     w_multi_best,\n",
        "                                     b_multi_best)\n",
        "\n",
        "dj_db, dj_dw"
      ],
      "metadata": {
        "colab": {
          "base_uri": "https://localhost:8080/"
        },
        "id": "L52cG7fhpiNw",
        "outputId": "d2c657f4-6eb4-46e9-9c95-c4e9a1c39340"
      },
      "execution_count": 41,
      "outputs": [
        {
          "output_type": "execute_result",
          "data": {
            "text/plain": [
              "(-1.6739251501955248e-06,\n",
              " array([[-2.72623577e-03],\n",
              "        [-6.27197263e-06],\n",
              "        [-2.21745578e-06],\n",
              "        [-6.92403391e-05]]))"
            ]
          },
          "metadata": {},
          "execution_count": 41
        }
      ]
    },
    {
      "cell_type": "code",
      "source": [
        "# test for simple linear regression\n",
        "dj_db, dj_dw = compute_gradient_loop(X_train_simple,\n",
        "                                     y_train_simple,\n",
        "                                     w_simple_best,\n",
        "                                     b_simple_best)\n",
        "\n",
        "dj_db, dj_dw"
      ],
      "metadata": {
        "colab": {
          "base_uri": "https://localhost:8080/"
        },
        "id": "qCV7ms55piRA",
        "outputId": "7bc22bd0-2a02-4a66-be51-2592041f95a5"
      },
      "execution_count": 42,
      "outputs": [
        {
          "output_type": "execute_result",
          "data": {
            "text/plain": [
              "(0.0, array([[0.]]))"
            ]
          },
          "metadata": {},
          "execution_count": 42
        }
      ]
    },
    {
      "cell_type": "markdown",
      "source": [
        "#### `compute_gradient`"
      ],
      "metadata": {
        "id": "zQZ0KIegpZ06"
      }
    },
    {
      "cell_type": "code",
      "source": [
        "def compute_gradient(X, y, w, b):\n",
        "    m, n = X.shape\n",
        "\n",
        "    y_pred = f_wb(X, w, b)\n",
        "    err = y_pred - y\n",
        "\n",
        "    dj_dw = (X.T @ err) / m\n",
        "    dj_db = sum(err) / m\n",
        "\n",
        "    return dj_db[0], dj_dw"
      ],
      "metadata": {
        "id": "jLF5s2bdpz17"
      },
      "execution_count": 43,
      "outputs": []
    },
    {
      "cell_type": "code",
      "source": [
        "# test for multiple linear regression\n",
        "dj_db, dj_dw = compute_gradient(X_train_multi,\n",
        "                                y_train_multi,\n",
        "                                w_multi_best,\n",
        "                                b_multi_best)\n",
        "\n",
        "dj_db, dj_dw"
      ],
      "metadata": {
        "colab": {
          "base_uri": "https://localhost:8080/"
        },
        "id": "uKppv7b7p6YE",
        "outputId": "477b3a15-494c-4194-b288-386f4df03cb4"
      },
      "execution_count": 44,
      "outputs": [
        {
          "output_type": "execute_result",
          "data": {
            "text/plain": [
              "(-1.6739251122999121e-06,\n",
              " array([[-2.72623574e-03],\n",
              "        [-6.27197255e-06],\n",
              "        [-2.21745574e-06],\n",
              "        [-6.92403377e-05]]))"
            ]
          },
          "metadata": {},
          "execution_count": 44
        }
      ]
    },
    {
      "cell_type": "code",
      "source": [
        "# test for simple linear regression\n",
        "dj_db, dj_dw = compute_gradient(X_train_simple,\n",
        "                                y_train_simple,\n",
        "                                w_simple_best,\n",
        "                                b_simple_best)\n",
        "\n",
        "dj_db, dj_dw"
      ],
      "metadata": {
        "colab": {
          "base_uri": "https://localhost:8080/"
        },
        "id": "1bjHPi-Bp6lb",
        "outputId": "67d0c256-6f41-4b98-af3b-13f091340358"
      },
      "execution_count": 45,
      "outputs": [
        {
          "output_type": "execute_result",
          "data": {
            "text/plain": [
              "(0.0, array([[0.]]))"
            ]
          },
          "metadata": {},
          "execution_count": 45
        }
      ]
    },
    {
      "cell_type": "markdown",
      "source": [
        "### Speed comparison: `sympy` vs `numpy`"
      ],
      "metadata": {
        "id": "LkhNuLVovrG3"
      }
    },
    {
      "cell_type": "code",
      "source": [
        "%%timeit -r7 -n1000\n",
        "compute_gradient_loop_sym(X_train_multi_sym,\n",
        "                         y_train_multi_sym,\n",
        "                         w_multi_best_sym,\n",
        "                         b_multi_best_sym)"
      ],
      "metadata": {
        "colab": {
          "base_uri": "https://localhost:8080/"
        },
        "outputId": "0b84301a-7828-41b8-c23a-f0c5baa433c6",
        "id": "93XflWfCv0pK"
      },
      "execution_count": 46,
      "outputs": [
        {
          "output_type": "stream",
          "name": "stdout",
          "text": [
            "1.76 ms ± 323 µs per loop (mean ± std. dev. of 7 runs, 1000 loops each)\n"
          ]
        }
      ]
    },
    {
      "cell_type": "code",
      "source": [
        "%%timeit -r7 -n1000\n",
        "compute_gradient_sym(X_train_multi_sym,\n",
        "                     y_train_multi_sym,\n",
        "                     w_multi_best_sym,\n",
        "                     b_multi_best_sym)"
      ],
      "metadata": {
        "colab": {
          "base_uri": "https://localhost:8080/"
        },
        "outputId": "45e53b1f-2e94-4ae4-9252-f516326044ed",
        "id": "QZqo-9JQv0pM"
      },
      "execution_count": 47,
      "outputs": [
        {
          "output_type": "stream",
          "name": "stdout",
          "text": [
            "977 µs ± 22.7 µs per loop (mean ± std. dev. of 7 runs, 1000 loops each)\n"
          ]
        }
      ]
    },
    {
      "cell_type": "code",
      "source": [
        "%%timeit -r7 -n1000\n",
        "compute_gradient_loop(X_train_multi,\n",
        "                     y_train_multi,\n",
        "                     w_multi_best,\n",
        "                     b_multi_best)"
      ],
      "metadata": {
        "colab": {
          "base_uri": "https://localhost:8080/"
        },
        "outputId": "38932b1e-a7a9-45c5-d0b4-ee799c3fbc84",
        "id": "jgJK_VQTv0pM"
      },
      "execution_count": 48,
      "outputs": [
        {
          "output_type": "stream",
          "name": "stdout",
          "text": [
            "63.7 µs ± 4.4 µs per loop (mean ± std. dev. of 7 runs, 1000 loops each)\n"
          ]
        }
      ]
    },
    {
      "cell_type": "code",
      "source": [
        "%%timeit -r7 -n1000\n",
        "compute_gradient(X_train_multi,\n",
        "                 y_train_multi,\n",
        "                 w_multi_best,\n",
        "                 b_multi_best)"
      ],
      "metadata": {
        "colab": {
          "base_uri": "https://localhost:8080/"
        },
        "outputId": "357d9179-46c3-4ee9-8d5e-5a2bbf10bad6",
        "id": "7XqrTPjkv0pM"
      },
      "execution_count": 49,
      "outputs": [
        {
          "output_type": "stream",
          "name": "stdout",
          "text": [
            "18 µs ± 1.82 µs per loop (mean ± std. dev. of 7 runs, 1000 loops each)\n"
          ]
        }
      ]
    },
    {
      "cell_type": "markdown",
      "source": [
        "## Gradient Descent"
      ],
      "metadata": {
        "id": "ue7eO690wVSm"
      }
    },
    {
      "cell_type": "markdown",
      "source": [
        "### `sympy` version"
      ],
      "metadata": {
        "id": "4Jg8B2twxiO3"
      }
    },
    {
      "cell_type": "code",
      "source": [
        "def gradient_descent_sym(X, y, w, b, f_cost, f_gradient, alpha, num_iters):\n",
        "\n",
        "    w = sym.Matrix([w]) # so it works with simple regression\n",
        "\n",
        "    J_history = []\n",
        "\n",
        "    for i in range(iterations):\n",
        "        dj_db, dj_dw = f_gradient(X, y, w, b)\n",
        "\n",
        "        w = w - alpha * dj_dw\n",
        "        b = b - alpha * dj_db\n",
        "\n",
        "        J_history.append(f_cost(X, y, w, b))\n",
        "\n",
        "        # print cost\n",
        "        if i % ceil(num_iters / 10) == 0:\n",
        "            print(f'Iteration {i:4d}: Cost {J_history[-1]:8.2f}')\n",
        "\n",
        "    return w, b, J_history"
      ],
      "metadata": {
        "id": "UH9tDOI5wUnf"
      },
      "execution_count": 50,
      "outputs": []
    },
    {
      "cell_type": "code",
      "source": [
        "# test multiple linear regression with `compute_cost_sym`\n",
        "# and `compute_gradient_sym`\n",
        "initial_w = sym.zeros(w_multi_best.shape[0], 1)\n",
        "initial_b = 0.0\n",
        "iterations = 1000\n",
        "alpha = 5.0e-7\n",
        "\n",
        "w_final, b_final, J_history = gradient_descent_sym(X_train_multi_sym,\n",
        "                                                   y_train_multi_sym,\n",
        "                                                   initial_w,\n",
        "                                                   initial_b,\n",
        "                                                   compute_cost_sym,\n",
        "                                                   compute_gradient_sym,\n",
        "                                                   alpha,\n",
        "                                                   iterations)\n",
        "\n",
        "print('w_final:')\n",
        "display(w_final)\n",
        "print('b_final:')\n",
        "display(b_final)\n",
        "print('Cost:')\n",
        "J_history[-1]"
      ],
      "metadata": {
        "colab": {
          "base_uri": "https://localhost:8080/",
          "height": 371
        },
        "id": "NVV0339bx0KN",
        "outputId": "69c23b18-c382-486d-a575-b2735e35a3a2"
      },
      "execution_count": 51,
      "outputs": [
        {
          "output_type": "stream",
          "name": "stdout",
          "text": [
            "Iteration    0: Cost  2529.46\n",
            "Iteration  100: Cost   695.99\n",
            "Iteration  200: Cost   694.92\n",
            "Iteration  300: Cost   693.86\n",
            "Iteration  400: Cost   692.81\n",
            "Iteration  500: Cost   691.77\n",
            "Iteration  600: Cost   690.73\n",
            "Iteration  700: Cost   689.71\n",
            "Iteration  800: Cost   688.70\n",
            "Iteration  900: Cost   687.69\n",
            "w_final:\n"
          ]
        },
        {
          "output_type": "display_data",
          "data": {
            "text/plain": [
              "Matrix([\n",
              "[  0.203965687318831],\n",
              "[0.00374919220982854],\n",
              "[-0.0112487038789788],\n",
              "[-0.0658613999237372]])"
            ],
            "text/latex": "$\\displaystyle \\left[\\begin{matrix}0.203965687318831\\\\0.00374919220982854\\\\-0.0112487038789788\\\\-0.0658613999237372\\end{matrix}\\right]$"
          },
          "metadata": {}
        },
        {
          "output_type": "stream",
          "name": "stdout",
          "text": [
            "b_final:\n"
          ]
        },
        {
          "output_type": "display_data",
          "data": {
            "text/plain": [
              "-0.00223540753093253"
            ],
            "text/latex": "$\\displaystyle -0.00223540753093253$"
          },
          "metadata": {}
        },
        {
          "output_type": "stream",
          "name": "stdout",
          "text": [
            "Cost:\n"
          ]
        },
        {
          "output_type": "execute_result",
          "data": {
            "text/plain": [
              "686.703411666521"
            ],
            "text/latex": "$\\displaystyle 686.703411666521$"
          },
          "metadata": {},
          "execution_count": 51
        }
      ]
    },
    {
      "cell_type": "code",
      "source": [
        "# test simple linear regression\n",
        "initial_w = 0\n",
        "initial_b = 0\n",
        "iterations = 10_000\n",
        "alpha = 1.0e-2\n",
        "w_final, b_final, J_history = gradient_descent_sym(X_train_simple_sym,\n",
        "                                                   y_train_simple_sym,\n",
        "                                                   initial_b, initial_w,\n",
        "                                                   compute_cost_sym,\n",
        "                                                   compute_gradient_sym,\n",
        "                                                   alpha,\n",
        "                                                   iterations)\n",
        "\n",
        "print('w_final:')\n",
        "display(w_final)\n",
        "print('b_final:')\n",
        "display(b_final)\n",
        "print('Cost:')\n",
        "J_history[-1]"
      ],
      "metadata": {
        "colab": {
          "base_uri": "https://localhost:8080/",
          "height": 312
        },
        "id": "PWn4sNAh09nN",
        "outputId": "0acd85d2-1618-4ec1-dc85-cd26fb6787b4"
      },
      "execution_count": 52,
      "outputs": [
        {
          "output_type": "stream",
          "name": "stdout",
          "text": [
            "Iteration    0: Cost 79274.81\n",
            "Iteration 1000: Cost     3.41\n",
            "Iteration 2000: Cost     0.79\n",
            "Iteration 3000: Cost     0.18\n",
            "Iteration 4000: Cost     0.04\n",
            "Iteration 5000: Cost     0.01\n",
            "Iteration 6000: Cost     0.00\n",
            "Iteration 7000: Cost     0.00\n",
            "Iteration 8000: Cost     0.00\n",
            "Iteration 9000: Cost     0.00\n",
            "w_final:\n"
          ]
        },
        {
          "output_type": "display_data",
          "data": {
            "text/plain": [
              "Matrix([[199.992850751318]])"
            ],
            "text/latex": "$\\displaystyle \\left[\\begin{matrix}199.992850751318\\end{matrix}\\right]$"
          },
          "metadata": {}
        },
        {
          "output_type": "stream",
          "name": "stdout",
          "text": [
            "b_final:\n"
          ]
        },
        {
          "output_type": "display_data",
          "data": {
            "text/plain": [
              "100.011567727362"
            ],
            "text/latex": "$\\displaystyle 100.011567727362$"
          },
          "metadata": {}
        },
        {
          "output_type": "stream",
          "name": "stdout",
          "text": [
            "Cost:\n"
          ]
        },
        {
          "output_type": "execute_result",
          "data": {
            "text/plain": [
              "6.74501466258040e-6"
            ],
            "text/latex": "$\\displaystyle 6.7450146625804 \\cdot 10^{-6}$"
          },
          "metadata": {},
          "execution_count": 52
        }
      ]
    },
    {
      "cell_type": "markdown",
      "source": [
        "### `numpy` version"
      ],
      "metadata": {
        "id": "jT4ROrEW2AFk"
      }
    },
    {
      "cell_type": "code",
      "source": [
        "def gradient_descent(X, y, w, b, f_cost, f_gradient, alpha, num_iters):\n",
        "\n",
        "    # so that it works for simple regression\n",
        "    if np.isscalar(w):\n",
        "        w = np.array(w).reshape(1, 1)\n",
        "\n",
        "    J_history = []\n",
        "\n",
        "    for i in range(num_iters):\n",
        "        dj_db, dj_dw = f_gradient(X, y, w, b)\n",
        "\n",
        "        w = w - alpha * dj_dw\n",
        "        b = b - alpha * dj_db\n",
        "\n",
        "        J_history.append(f_cost(X, y, w, b))\n",
        "\n",
        "        # print cost\n",
        "        if i % ceil(num_iters / 10) == 0:\n",
        "            print(f'Iteration {i:4d}: Cost {J_history[-1]:8.2f}')\n",
        "\n",
        "    return w, b, J_history"
      ],
      "metadata": {
        "id": "LO4IAzJ92aEB"
      },
      "execution_count": 53,
      "outputs": []
    },
    {
      "cell_type": "code",
      "source": [
        "# test multiple linear regression with `compute_cost_loop`\n",
        "# and `compute_gradient_loop`\n",
        "\n",
        "initial_w = np.zeros((w_multi_best.shape[0], 1))\n",
        "initial_b = 0.0\n",
        "iterations = 1000\n",
        "alpha = 5.0e-7\n",
        "\n",
        "w_final, b_final, J_history = gradient_descent(X_train_multi,\n",
        "                                               y_train_multi,\n",
        "                                               initial_w,\n",
        "                                               initial_b,\n",
        "                                               compute_cost_loop,\n",
        "                                               compute_gradient_loop,\n",
        "                                               alpha,\n",
        "                                               iterations)\n",
        "\n",
        "print('w_final:')\n",
        "display(w_final)\n",
        "print('b_final:')\n",
        "display(b_final)\n",
        "print('Cost:')\n",
        "J_history[-1]"
      ],
      "metadata": {
        "colab": {
          "base_uri": "https://localhost:8080/",
          "height": 356
        },
        "id": "fTfNYe7r3TFU",
        "outputId": "1d8f6b56-cd53-4cb7-9af9-630042d8dbe0"
      },
      "execution_count": 54,
      "outputs": [
        {
          "output_type": "stream",
          "name": "stdout",
          "text": [
            "Iteration    0: Cost  2529.46\n",
            "Iteration  100: Cost   695.99\n",
            "Iteration  200: Cost   694.92\n",
            "Iteration  300: Cost   693.86\n",
            "Iteration  400: Cost   692.81\n",
            "Iteration  500: Cost   691.77\n",
            "Iteration  600: Cost   690.73\n",
            "Iteration  700: Cost   689.71\n",
            "Iteration  800: Cost   688.70\n",
            "Iteration  900: Cost   687.69\n",
            "w_final:\n"
          ]
        },
        {
          "output_type": "display_data",
          "data": {
            "text/plain": [
              "array([[ 0.20396569],\n",
              "       [ 0.00374919],\n",
              "       [-0.0112487 ],\n",
              "       [-0.0658614 ]])"
            ]
          },
          "metadata": {}
        },
        {
          "output_type": "stream",
          "name": "stdout",
          "text": [
            "b_final:\n"
          ]
        },
        {
          "output_type": "display_data",
          "data": {
            "text/plain": [
              "-0.002235407530932535"
            ]
          },
          "metadata": {}
        },
        {
          "output_type": "stream",
          "name": "stdout",
          "text": [
            "Cost:\n"
          ]
        },
        {
          "output_type": "execute_result",
          "data": {
            "text/plain": [
              "686.7034116665205"
            ]
          },
          "metadata": {},
          "execution_count": 54
        }
      ]
    },
    {
      "cell_type": "code",
      "source": [
        "# test multiple linear regression with `compute_cost`\n",
        "# and `compute_gradient`\n",
        "\n",
        "initial_w = np.zeros((w_multi_best.shape[0], 1))\n",
        "initial_b = 0.0\n",
        "iterations = 1000\n",
        "alpha = 5.0e-7\n",
        "\n",
        "w_final, b_final, J_history = gradient_descent(X_train_multi,\n",
        "                                               y_train_multi,\n",
        "                                               initial_w,\n",
        "                                               initial_b,\n",
        "                                               compute_cost,\n",
        "                                               compute_gradient,\n",
        "                                               alpha,\n",
        "                                               iterations)\n",
        "\n",
        "print('w_final:')\n",
        "display(w_final)\n",
        "print('b_final:')\n",
        "display(b_final)\n",
        "print('Cost:')\n",
        "J_history[-1]"
      ],
      "metadata": {
        "colab": {
          "base_uri": "https://localhost:8080/",
          "height": 356
        },
        "id": "jsVIy_vm64C6",
        "outputId": "ce32cc83-cc15-4769-b707-8afa29a00402"
      },
      "execution_count": 55,
      "outputs": [
        {
          "output_type": "stream",
          "name": "stdout",
          "text": [
            "Iteration    0: Cost  2529.46\n",
            "Iteration  100: Cost   695.99\n",
            "Iteration  200: Cost   694.92\n",
            "Iteration  300: Cost   693.86\n",
            "Iteration  400: Cost   692.81\n",
            "Iteration  500: Cost   691.77\n",
            "Iteration  600: Cost   690.73\n",
            "Iteration  700: Cost   689.71\n",
            "Iteration  800: Cost   688.70\n",
            "Iteration  900: Cost   687.69\n",
            "w_final:\n"
          ]
        },
        {
          "output_type": "display_data",
          "data": {
            "text/plain": [
              "array([[ 0.20396569],\n",
              "       [ 0.00374919],\n",
              "       [-0.0112487 ],\n",
              "       [-0.0658614 ]])"
            ]
          },
          "metadata": {}
        },
        {
          "output_type": "stream",
          "name": "stdout",
          "text": [
            "b_final:\n"
          ]
        },
        {
          "output_type": "display_data",
          "data": {
            "text/plain": [
              "-0.002235407530932535"
            ]
          },
          "metadata": {}
        },
        {
          "output_type": "stream",
          "name": "stdout",
          "text": [
            "Cost:\n"
          ]
        },
        {
          "output_type": "execute_result",
          "data": {
            "text/plain": [
              "686.7034116665213"
            ]
          },
          "metadata": {},
          "execution_count": 55
        }
      ]
    },
    {
      "cell_type": "code",
      "source": [
        "# test simple linear regression with `compute_cost_loop`\n",
        "# and `compute_gradient_loop`\n",
        "initial_w = 0\n",
        "initial_b = 0\n",
        "iterations = 10_000\n",
        "alpha = 1.0e-2\n",
        "w_final, b_final, J_history = gradient_descent(X_train_simple,\n",
        "                                               y_train_simple,\n",
        "                                               initial_b,\n",
        "                                               initial_w,\n",
        "                                               compute_cost_loop,\n",
        "                                               compute_gradient_loop,\n",
        "                                               alpha,\n",
        "                                               iterations)\n",
        "\n",
        "print('w_final:')\n",
        "display(w_final)\n",
        "print('b_final:')\n",
        "display(b_final)\n",
        "print('Cost:')\n",
        "J_history[-1]"
      ],
      "metadata": {
        "colab": {
          "base_uri": "https://localhost:8080/",
          "height": 303
        },
        "id": "_4apNiL77eY3",
        "outputId": "c7ffc765-fc0e-4cbd-8a48-f065f3ec96bc"
      },
      "execution_count": 56,
      "outputs": [
        {
          "output_type": "stream",
          "name": "stdout",
          "text": [
            "Iteration    0: Cost 79274.81\n",
            "Iteration 1000: Cost     3.41\n",
            "Iteration 2000: Cost     0.79\n",
            "Iteration 3000: Cost     0.18\n",
            "Iteration 4000: Cost     0.04\n",
            "Iteration 5000: Cost     0.01\n",
            "Iteration 6000: Cost     0.00\n",
            "Iteration 7000: Cost     0.00\n",
            "Iteration 8000: Cost     0.00\n",
            "Iteration 9000: Cost     0.00\n",
            "w_final:\n"
          ]
        },
        {
          "output_type": "display_data",
          "data": {
            "text/plain": [
              "array([[199.99285075]])"
            ]
          },
          "metadata": {}
        },
        {
          "output_type": "stream",
          "name": "stdout",
          "text": [
            "b_final:\n"
          ]
        },
        {
          "output_type": "display_data",
          "data": {
            "text/plain": [
              "100.011567727362"
            ]
          },
          "metadata": {}
        },
        {
          "output_type": "stream",
          "name": "stdout",
          "text": [
            "Cost:\n"
          ]
        },
        {
          "output_type": "execute_result",
          "data": {
            "text/plain": [
              "6.745014662580395e-06"
            ]
          },
          "metadata": {},
          "execution_count": 56
        }
      ]
    },
    {
      "cell_type": "code",
      "source": [
        "# test simple linear regression with `compute_cost`\n",
        "# and `compute_gradient`\n",
        "initial_w = 0\n",
        "initial_b = 0\n",
        "iterations = 10_000\n",
        "alpha = 1.0e-2\n",
        "w_final, b_final, J_history = gradient_descent(X_train_simple,\n",
        "                                               y_train_simple,\n",
        "                                               initial_b,\n",
        "                                               initial_w,\n",
        "                                               compute_cost,\n",
        "                                               compute_gradient,\n",
        "                                               alpha,\n",
        "                                               iterations)\n",
        "\n",
        "print('w_final:')\n",
        "display(w_final)\n",
        "print('b_final:')\n",
        "display(b_final)\n",
        "print('Cost:')\n",
        "J_history[-1]"
      ],
      "metadata": {
        "colab": {
          "base_uri": "https://localhost:8080/",
          "height": 303
        },
        "id": "7JjHCQxA9EyI",
        "outputId": "c04e1082-4891-473d-b224-f82b844fc353"
      },
      "execution_count": 57,
      "outputs": [
        {
          "output_type": "stream",
          "name": "stdout",
          "text": [
            "Iteration    0: Cost 79274.81\n",
            "Iteration 1000: Cost     3.41\n",
            "Iteration 2000: Cost     0.79\n",
            "Iteration 3000: Cost     0.18\n",
            "Iteration 4000: Cost     0.04\n",
            "Iteration 5000: Cost     0.01\n",
            "Iteration 6000: Cost     0.00\n",
            "Iteration 7000: Cost     0.00\n",
            "Iteration 8000: Cost     0.00\n",
            "Iteration 9000: Cost     0.00\n",
            "w_final:\n"
          ]
        },
        {
          "output_type": "display_data",
          "data": {
            "text/plain": [
              "array([[199.99285075]])"
            ]
          },
          "metadata": {}
        },
        {
          "output_type": "stream",
          "name": "stdout",
          "text": [
            "b_final:\n"
          ]
        },
        {
          "output_type": "display_data",
          "data": {
            "text/plain": [
              "100.011567727362"
            ]
          },
          "metadata": {}
        },
        {
          "output_type": "stream",
          "name": "stdout",
          "text": [
            "Cost:\n"
          ]
        },
        {
          "output_type": "execute_result",
          "data": {
            "text/plain": [
              "6.745014662580395e-06"
            ]
          },
          "metadata": {},
          "execution_count": 57
        }
      ]
    },
    {
      "cell_type": "markdown",
      "source": [
        "### Speed comparison: `sympy` vs `numpy`\n",
        "\n",
        "To do this we need versions of the `gradient_descent` functions that suppress printing"
      ],
      "metadata": {
        "id": "f3mgWf1v9qtU"
      }
    },
    {
      "cell_type": "code",
      "source": [
        "def gradient_descent_sym_no_print(X, y, w, b, f_cost, f_gradient, alpha, num_iters):\n",
        "\n",
        "    w = sym.Matrix([w]) # so it works with simple regression\n",
        "\n",
        "    for i in range(iterations):\n",
        "        dj_db, dj_dw = f_gradient(X, y, w, b)\n",
        "\n",
        "        w = w - alpha * dj_dw\n",
        "        b = b - alpha * dj_db\n",
        "\n",
        "        cost = f_cost(X, y, w, b)\n",
        "\n",
        "    return w, b, cost\n",
        "\n",
        "def gradient_descent_no_print(X, y, w, b, f_cost, f_gradient, alpha, num_iters):\n",
        "\n",
        "    # so that it works for simple regression\n",
        "    if np.isscalar(w):\n",
        "        w = np.array(w).reshape(1, 1)\n",
        "\n",
        "    for i in range(num_iters):\n",
        "        dj_db, dj_dw = f_gradient(X, y, w, b)\n",
        "\n",
        "        w = w - alpha * dj_dw\n",
        "        b = b - alpha * dj_db\n",
        "\n",
        "        cost = f_cost(X, y, w, b)\n",
        "\n",
        "    return w, b, cost"
      ],
      "metadata": {
        "id": "CKsB2dgk-DIK"
      },
      "execution_count": 58,
      "outputs": []
    },
    {
      "cell_type": "code",
      "source": [
        "initial_w = sym.zeros(w_multi_best.shape[0], 1)\n",
        "initial_b = 0.0\n",
        "iterations = 1000\n",
        "alpha = 5.0e-7"
      ],
      "metadata": {
        "id": "fjiu19Sc-e_e"
      },
      "execution_count": 59,
      "outputs": []
    },
    {
      "cell_type": "code",
      "source": [
        "%%timeit -r3 -n50\n",
        "gradient_descent_sym_no_print(X_train_multi_sym,\n",
        "                              y_train_multi_sym,\n",
        "                              initial_w,\n",
        "                              initial_b,\n",
        "                              compute_cost_loop_sym,\n",
        "                              compute_gradient_loop_sym,\n",
        "                              alpha,\n",
        "                              iterations)"
      ],
      "metadata": {
        "colab": {
          "base_uri": "https://localhost:8080/"
        },
        "id": "-zJ2NnKd-lei",
        "outputId": "dbd2dff6-6aff-487a-d4d0-e0eb1ed62ad5"
      },
      "execution_count": 60,
      "outputs": [
        {
          "output_type": "stream",
          "name": "stdout",
          "text": [
            "5.26 s ± 16.3 ms per loop (mean ± std. dev. of 3 runs, 50 loops each)\n"
          ]
        }
      ]
    },
    {
      "cell_type": "code",
      "source": [
        "%%timeit -r3 -n50\n",
        "gradient_descent_sym_no_print(X_train_multi_sym,\n",
        "                             y_train_multi_sym,\n",
        "                             initial_w,\n",
        "                             initial_b,\n",
        "                             compute_cost_sym,\n",
        "                             compute_gradient_sym,\n",
        "                             alpha,\n",
        "                             iterations)"
      ],
      "metadata": {
        "colab": {
          "base_uri": "https://localhost:8080/"
        },
        "id": "MaBKs2iN_CAJ",
        "outputId": "7db815f1-6625-4197-cea4-ee650b74babb"
      },
      "execution_count": 61,
      "outputs": [
        {
          "output_type": "stream",
          "name": "stdout",
          "text": [
            "3.39 s ± 16.6 ms per loop (mean ± std. dev. of 3 runs, 50 loops each)\n"
          ]
        }
      ]
    },
    {
      "cell_type": "code",
      "source": [
        "initial_w = np.zeros((w_multi_best.shape[0], 1))\n",
        "initial_b = 0.0\n",
        "iterations = 1000\n",
        "alpha = 5.0e-7"
      ],
      "metadata": {
        "id": "jZzpFccd_RFV"
      },
      "execution_count": 62,
      "outputs": []
    },
    {
      "cell_type": "code",
      "source": [
        "%%timeit -r3 -n50\n",
        "gradient_descent_no_print(X_train_multi,\n",
        "                          y_train_multi,\n",
        "                          initial_w,\n",
        "                          initial_b,\n",
        "                          compute_cost_loop,\n",
        "                          compute_gradient_loop,\n",
        "                          alpha,\n",
        "                          iterations)"
      ],
      "metadata": {
        "colab": {
          "base_uri": "https://localhost:8080/"
        },
        "id": "Bw-IiPqI_arn",
        "outputId": "e9f96585-5fda-437a-e450-6aeb51f96c5e"
      },
      "execution_count": 63,
      "outputs": [
        {
          "output_type": "stream",
          "name": "stdout",
          "text": [
            "99.5 ms ± 8.15 ms per loop (mean ± std. dev. of 3 runs, 50 loops each)\n"
          ]
        }
      ]
    },
    {
      "cell_type": "code",
      "source": [
        "%%timeit -r3 -n50\n",
        "gradient_descent_no_print(X_train_multi,\n",
        "                          y_train_multi,\n",
        "                          initial_w,\n",
        "                          initial_b,\n",
        "                          compute_cost,\n",
        "                          compute_gradient,\n",
        "                          alpha,\n",
        "                          iterations)"
      ],
      "metadata": {
        "colab": {
          "base_uri": "https://localhost:8080/"
        },
        "id": "X5xtvjqLAFJ-",
        "outputId": "1fc2b0e1-615e-484d-e846-ff8560cf9c15"
      },
      "execution_count": 64,
      "outputs": [
        {
          "output_type": "stream",
          "name": "stdout",
          "text": [
            "48.2 ms ± 5.57 ms per loop (mean ± std. dev. of 3 runs, 50 loops each)\n"
          ]
        }
      ]
    }
  ]
}