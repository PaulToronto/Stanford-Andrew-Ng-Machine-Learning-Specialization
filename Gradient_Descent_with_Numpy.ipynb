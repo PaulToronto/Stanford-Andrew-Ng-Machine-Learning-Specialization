{
  "cells": [
    {
      "cell_type": "markdown",
      "metadata": {
        "id": "view-in-github",
        "colab_type": "text"
      },
      "source": [
        "<a href=\"https://colab.research.google.com/github/PaulToronto/Stanford-Andrew-Ng-Machine-Learning-Specialization/blob/main/Gradient_Descent_with_Numpy.ipynb\" target=\"_parent\"><img src=\"https://colab.research.google.com/assets/colab-badge.svg\" alt=\"Open In Colab\"/></a>"
      ]
    },
    {
      "cell_type": "markdown",
      "metadata": {
        "id": "ta1jdRKkzyO-"
      },
      "source": [
        "# Gradient Descent with `numpy`\n",
        "\n",
        "The `sympy` versions of these functions are developed and tested in the [Gradient Descent with Sympy](https://colab.research.google.com/drive/1-CmDZG76UYe1EkpuzyTY1lZVoqsbsoDG#scrollTo=iJO3dQp2zsEL) notebook"
      ]
    },
    {
      "cell_type": "markdown",
      "metadata": {
        "id": "rDElnkc1z4RL"
      },
      "source": [
        "## Imports"
      ]
    },
    {
      "cell_type": "code",
      "execution_count": 1,
      "metadata": {
        "id": "X0gmiUnwft49"
      },
      "outputs": [],
      "source": [
        "import sympy as sym\n",
        "import pandas as pd\n",
        "import numpy as np\n",
        "from math import ceil"
      ]
    },
    {
      "cell_type": "markdown",
      "metadata": {
        "id": "_MAM7IS00HDU"
      },
      "source": [
        "## Toy Datasets"
      ]
    },
    {
      "cell_type": "markdown",
      "metadata": {
        "id": "TT9UYpjL0J58"
      },
      "source": [
        "###  Dataset for multiple linear regression"
      ]
    },
    {
      "cell_type": "code",
      "execution_count": 2,
      "metadata": {
        "colab": {
          "base_uri": "https://localhost:8080/",
          "height": 143
        },
        "id": "roOx406X0QhX",
        "outputId": "4fe5446c-588e-4c6e-d06d-971ce5769b9d"
      },
      "outputs": [
        {
          "output_type": "execute_result",
          "data": {
            "text/plain": [
              "   feature1  feature2  feature3  feature4  target\n",
              "0      2104         5         1        45     460\n",
              "1      1416         3         2        40     232\n",
              "2       852         2         1        35     178"
            ],
            "text/html": [
              "\n",
              "  <div id=\"df-355df9b2-b87e-4066-a43d-a3fdf1df17d6\" class=\"colab-df-container\">\n",
              "    <div>\n",
              "<style scoped>\n",
              "    .dataframe tbody tr th:only-of-type {\n",
              "        vertical-align: middle;\n",
              "    }\n",
              "\n",
              "    .dataframe tbody tr th {\n",
              "        vertical-align: top;\n",
              "    }\n",
              "\n",
              "    .dataframe thead th {\n",
              "        text-align: right;\n",
              "    }\n",
              "</style>\n",
              "<table border=\"1\" class=\"dataframe\">\n",
              "  <thead>\n",
              "    <tr style=\"text-align: right;\">\n",
              "      <th></th>\n",
              "      <th>feature1</th>\n",
              "      <th>feature2</th>\n",
              "      <th>feature3</th>\n",
              "      <th>feature4</th>\n",
              "      <th>target</th>\n",
              "    </tr>\n",
              "  </thead>\n",
              "  <tbody>\n",
              "    <tr>\n",
              "      <th>0</th>\n",
              "      <td>2104</td>\n",
              "      <td>5</td>\n",
              "      <td>1</td>\n",
              "      <td>45</td>\n",
              "      <td>460</td>\n",
              "    </tr>\n",
              "    <tr>\n",
              "      <th>1</th>\n",
              "      <td>1416</td>\n",
              "      <td>3</td>\n",
              "      <td>2</td>\n",
              "      <td>40</td>\n",
              "      <td>232</td>\n",
              "    </tr>\n",
              "    <tr>\n",
              "      <th>2</th>\n",
              "      <td>852</td>\n",
              "      <td>2</td>\n",
              "      <td>1</td>\n",
              "      <td>35</td>\n",
              "      <td>178</td>\n",
              "    </tr>\n",
              "  </tbody>\n",
              "</table>\n",
              "</div>\n",
              "    <div class=\"colab-df-buttons\">\n",
              "\n",
              "  <div class=\"colab-df-container\">\n",
              "    <button class=\"colab-df-convert\" onclick=\"convertToInteractive('df-355df9b2-b87e-4066-a43d-a3fdf1df17d6')\"\n",
              "            title=\"Convert this dataframe to an interactive table.\"\n",
              "            style=\"display:none;\">\n",
              "\n",
              "  <svg xmlns=\"http://www.w3.org/2000/svg\" height=\"24px\" viewBox=\"0 -960 960 960\">\n",
              "    <path d=\"M120-120v-720h720v720H120Zm60-500h600v-160H180v160Zm220 220h160v-160H400v160Zm0 220h160v-160H400v160ZM180-400h160v-160H180v160Zm440 0h160v-160H620v160ZM180-180h160v-160H180v160Zm440 0h160v-160H620v160Z\"/>\n",
              "  </svg>\n",
              "    </button>\n",
              "\n",
              "  <style>\n",
              "    .colab-df-container {\n",
              "      display:flex;\n",
              "      gap: 12px;\n",
              "    }\n",
              "\n",
              "    .colab-df-convert {\n",
              "      background-color: #E8F0FE;\n",
              "      border: none;\n",
              "      border-radius: 50%;\n",
              "      cursor: pointer;\n",
              "      display: none;\n",
              "      fill: #1967D2;\n",
              "      height: 32px;\n",
              "      padding: 0 0 0 0;\n",
              "      width: 32px;\n",
              "    }\n",
              "\n",
              "    .colab-df-convert:hover {\n",
              "      background-color: #E2EBFA;\n",
              "      box-shadow: 0px 1px 2px rgba(60, 64, 67, 0.3), 0px 1px 3px 1px rgba(60, 64, 67, 0.15);\n",
              "      fill: #174EA6;\n",
              "    }\n",
              "\n",
              "    .colab-df-buttons div {\n",
              "      margin-bottom: 4px;\n",
              "    }\n",
              "\n",
              "    [theme=dark] .colab-df-convert {\n",
              "      background-color: #3B4455;\n",
              "      fill: #D2E3FC;\n",
              "    }\n",
              "\n",
              "    [theme=dark] .colab-df-convert:hover {\n",
              "      background-color: #434B5C;\n",
              "      box-shadow: 0px 1px 3px 1px rgba(0, 0, 0, 0.15);\n",
              "      filter: drop-shadow(0px 1px 2px rgba(0, 0, 0, 0.3));\n",
              "      fill: #FFFFFF;\n",
              "    }\n",
              "  </style>\n",
              "\n",
              "    <script>\n",
              "      const buttonEl =\n",
              "        document.querySelector('#df-355df9b2-b87e-4066-a43d-a3fdf1df17d6 button.colab-df-convert');\n",
              "      buttonEl.style.display =\n",
              "        google.colab.kernel.accessAllowed ? 'block' : 'none';\n",
              "\n",
              "      async function convertToInteractive(key) {\n",
              "        const element = document.querySelector('#df-355df9b2-b87e-4066-a43d-a3fdf1df17d6');\n",
              "        const dataTable =\n",
              "          await google.colab.kernel.invokeFunction('convertToInteractive',\n",
              "                                                    [key], {});\n",
              "        if (!dataTable) return;\n",
              "\n",
              "        const docLinkHtml = 'Like what you see? Visit the ' +\n",
              "          '<a target=\"_blank\" href=https://colab.research.google.com/notebooks/data_table.ipynb>data table notebook</a>'\n",
              "          + ' to learn more about interactive tables.';\n",
              "        element.innerHTML = '';\n",
              "        dataTable['output_type'] = 'display_data';\n",
              "        await google.colab.output.renderOutput(dataTable, element);\n",
              "        const docLink = document.createElement('div');\n",
              "        docLink.innerHTML = docLinkHtml;\n",
              "        element.appendChild(docLink);\n",
              "      }\n",
              "    </script>\n",
              "  </div>\n",
              "\n",
              "    </div>\n",
              "  </div>\n"
            ]
          },
          "metadata": {},
          "execution_count": 2
        }
      ],
      "source": [
        "data_multi = pd.DataFrame({'feature1': [2104, 1416, 852],\n",
        "                         'feature2': [5, 3, 2],\n",
        "                         'feature3': [1, 2, 1],\n",
        "                         'feature4': [45, 40, 35],\n",
        "                         'target': [460, 232, 178]})\n",
        "\n",
        "data_multi"
      ]
    },
    {
      "cell_type": "code",
      "execution_count": 3,
      "metadata": {
        "colab": {
          "base_uri": "https://localhost:8080/"
        },
        "id": "h_7j3wRd6GlD",
        "outputId": "f5c4cdcb-35e5-46ad-b65f-af28dcc81ee9"
      },
      "outputs": [
        {
          "output_type": "execute_result",
          "data": {
            "text/plain": [
              "(array([[2104,    5,    1,   45],\n",
              "        [1416,    3,    2,   40],\n",
              "        [ 852,    2,    1,   35]]),\n",
              " array([[460],\n",
              "        [232],\n",
              "        [178]]))"
            ]
          },
          "metadata": {},
          "execution_count": 3
        }
      ],
      "source": [
        "X_train_multi = np.array(data_multi.drop('target', axis=1))\n",
        "y_train_multi = np.array(data_multi['target']).reshape(3, -1)\n",
        "X_train_multi, y_train_multi"
      ]
    },
    {
      "cell_type": "code",
      "execution_count": 4,
      "metadata": {
        "colab": {
          "base_uri": "https://localhost:8080/",
          "height": 139
        },
        "id": "6EXDMWYsGHk-",
        "outputId": "851c90d5-e097-4fe3-d65b-c64263c6ecfb"
      },
      "outputs": [
        {
          "output_type": "display_data",
          "data": {
            "text/plain": [
              "Matrix([\n",
              "[2104, 5, 1, 45],\n",
              "[1416, 3, 2, 40],\n",
              "[ 852, 2, 1, 35]])"
            ],
            "text/latex": "$\\displaystyle \\left[\\begin{matrix}2104 & 5 & 1 & 45\\\\1416 & 3 & 2 & 40\\\\852 & 2 & 1 & 35\\end{matrix}\\right]$"
          },
          "metadata": {}
        },
        {
          "output_type": "execute_result",
          "data": {
            "text/plain": [
              "Matrix([\n",
              "[460],\n",
              "[232],\n",
              "[178]])"
            ],
            "text/latex": "$\\displaystyle \\left[\\begin{matrix}460\\\\232\\\\178\\end{matrix}\\right]$"
          },
          "metadata": {},
          "execution_count": 4
        }
      ],
      "source": [
        "X_train_multi_sym = sym.Matrix(X_train_multi)\n",
        "y_train_multi_sym = sym.Matrix(y_train_multi)\n",
        "display(X_train_multi_sym)\n",
        "y_train_multi_sym"
      ]
    },
    {
      "cell_type": "code",
      "execution_count": 5,
      "metadata": {
        "colab": {
          "base_uri": "https://localhost:8080/"
        },
        "id": "VpEBqeQ30kGl",
        "outputId": "04e3e4fa-6561-4586-9fe1-6d32bf0abfc6"
      },
      "outputs": [
        {
          "output_type": "execute_result",
          "data": {
            "text/plain": [
              "(array([[  0.39133535],\n",
              "        [ 18.75376741],\n",
              "        [-53.36032453],\n",
              "        [-26.42131618]]),\n",
              " 785.1811367994083)"
            ]
          },
          "metadata": {},
          "execution_count": 5
        }
      ],
      "source": [
        "# optimal w and b for testing\n",
        "w_multi_best = np.array([ 0.39133535, 18.75376741, -53.36032453, -26.42131618]).reshape(4, -1)\n",
        "b_multi_best = 785.1811367994083\n",
        "w_multi_best, b_multi_best"
      ]
    },
    {
      "cell_type": "code",
      "execution_count": 6,
      "metadata": {
        "colab": {
          "base_uri": "https://localhost:8080/",
          "height": 116
        },
        "id": "u8Fes6YMGhUD",
        "outputId": "8497961a-8425-43ae-eac8-e2573db78a3b"
      },
      "outputs": [
        {
          "output_type": "display_data",
          "data": {
            "text/plain": [
              "Matrix([\n",
              "[  0.39133535],\n",
              "[ 18.75376741],\n",
              "[-53.36032453],\n",
              "[-26.42131618]])"
            ],
            "text/latex": "$\\displaystyle \\left[\\begin{matrix}0.39133535\\\\18.75376741\\\\-53.36032453\\\\-26.42131618\\end{matrix}\\right]$"
          },
          "metadata": {}
        },
        {
          "output_type": "execute_result",
          "data": {
            "text/plain": [
              "785.1811367994083"
            ]
          },
          "metadata": {},
          "execution_count": 6
        }
      ],
      "source": [
        "w_multi_best_sym = sym.Matrix(w_multi_best)\n",
        "b_multi_best_sym = b_multi_best\n",
        "display(w_multi_best_sym)\n",
        "b_multi_best_sym"
      ]
    },
    {
      "cell_type": "markdown",
      "metadata": {
        "id": "56ex5yKK0V0a"
      },
      "source": [
        "### Dataset for simple linear regression"
      ]
    },
    {
      "cell_type": "code",
      "execution_count": 7,
      "metadata": {
        "colab": {
          "base_uri": "https://localhost:8080/",
          "height": 112
        },
        "id": "LFM8a3PE0Z2s",
        "outputId": "58b0684b-17e1-455e-fc04-eb7db06dcdda"
      },
      "outputs": [
        {
          "output_type": "execute_result",
          "data": {
            "text/plain": [
              "   feature  target\n",
              "0        1     300\n",
              "1        2     500"
            ],
            "text/html": [
              "\n",
              "  <div id=\"df-d758be96-15ee-4384-be9e-e62bd3ffa419\" class=\"colab-df-container\">\n",
              "    <div>\n",
              "<style scoped>\n",
              "    .dataframe tbody tr th:only-of-type {\n",
              "        vertical-align: middle;\n",
              "    }\n",
              "\n",
              "    .dataframe tbody tr th {\n",
              "        vertical-align: top;\n",
              "    }\n",
              "\n",
              "    .dataframe thead th {\n",
              "        text-align: right;\n",
              "    }\n",
              "</style>\n",
              "<table border=\"1\" class=\"dataframe\">\n",
              "  <thead>\n",
              "    <tr style=\"text-align: right;\">\n",
              "      <th></th>\n",
              "      <th>feature</th>\n",
              "      <th>target</th>\n",
              "    </tr>\n",
              "  </thead>\n",
              "  <tbody>\n",
              "    <tr>\n",
              "      <th>0</th>\n",
              "      <td>1</td>\n",
              "      <td>300</td>\n",
              "    </tr>\n",
              "    <tr>\n",
              "      <th>1</th>\n",
              "      <td>2</td>\n",
              "      <td>500</td>\n",
              "    </tr>\n",
              "  </tbody>\n",
              "</table>\n",
              "</div>\n",
              "    <div class=\"colab-df-buttons\">\n",
              "\n",
              "  <div class=\"colab-df-container\">\n",
              "    <button class=\"colab-df-convert\" onclick=\"convertToInteractive('df-d758be96-15ee-4384-be9e-e62bd3ffa419')\"\n",
              "            title=\"Convert this dataframe to an interactive table.\"\n",
              "            style=\"display:none;\">\n",
              "\n",
              "  <svg xmlns=\"http://www.w3.org/2000/svg\" height=\"24px\" viewBox=\"0 -960 960 960\">\n",
              "    <path d=\"M120-120v-720h720v720H120Zm60-500h600v-160H180v160Zm220 220h160v-160H400v160Zm0 220h160v-160H400v160ZM180-400h160v-160H180v160Zm440 0h160v-160H620v160ZM180-180h160v-160H180v160Zm440 0h160v-160H620v160Z\"/>\n",
              "  </svg>\n",
              "    </button>\n",
              "\n",
              "  <style>\n",
              "    .colab-df-container {\n",
              "      display:flex;\n",
              "      gap: 12px;\n",
              "    }\n",
              "\n",
              "    .colab-df-convert {\n",
              "      background-color: #E8F0FE;\n",
              "      border: none;\n",
              "      border-radius: 50%;\n",
              "      cursor: pointer;\n",
              "      display: none;\n",
              "      fill: #1967D2;\n",
              "      height: 32px;\n",
              "      padding: 0 0 0 0;\n",
              "      width: 32px;\n",
              "    }\n",
              "\n",
              "    .colab-df-convert:hover {\n",
              "      background-color: #E2EBFA;\n",
              "      box-shadow: 0px 1px 2px rgba(60, 64, 67, 0.3), 0px 1px 3px 1px rgba(60, 64, 67, 0.15);\n",
              "      fill: #174EA6;\n",
              "    }\n",
              "\n",
              "    .colab-df-buttons div {\n",
              "      margin-bottom: 4px;\n",
              "    }\n",
              "\n",
              "    [theme=dark] .colab-df-convert {\n",
              "      background-color: #3B4455;\n",
              "      fill: #D2E3FC;\n",
              "    }\n",
              "\n",
              "    [theme=dark] .colab-df-convert:hover {\n",
              "      background-color: #434B5C;\n",
              "      box-shadow: 0px 1px 3px 1px rgba(0, 0, 0, 0.15);\n",
              "      filter: drop-shadow(0px 1px 2px rgba(0, 0, 0, 0.3));\n",
              "      fill: #FFFFFF;\n",
              "    }\n",
              "  </style>\n",
              "\n",
              "    <script>\n",
              "      const buttonEl =\n",
              "        document.querySelector('#df-d758be96-15ee-4384-be9e-e62bd3ffa419 button.colab-df-convert');\n",
              "      buttonEl.style.display =\n",
              "        google.colab.kernel.accessAllowed ? 'block' : 'none';\n",
              "\n",
              "      async function convertToInteractive(key) {\n",
              "        const element = document.querySelector('#df-d758be96-15ee-4384-be9e-e62bd3ffa419');\n",
              "        const dataTable =\n",
              "          await google.colab.kernel.invokeFunction('convertToInteractive',\n",
              "                                                    [key], {});\n",
              "        if (!dataTable) return;\n",
              "\n",
              "        const docLinkHtml = 'Like what you see? Visit the ' +\n",
              "          '<a target=\"_blank\" href=https://colab.research.google.com/notebooks/data_table.ipynb>data table notebook</a>'\n",
              "          + ' to learn more about interactive tables.';\n",
              "        element.innerHTML = '';\n",
              "        dataTable['output_type'] = 'display_data';\n",
              "        await google.colab.output.renderOutput(dataTable, element);\n",
              "        const docLink = document.createElement('div');\n",
              "        docLink.innerHTML = docLinkHtml;\n",
              "        element.appendChild(docLink);\n",
              "      }\n",
              "    </script>\n",
              "  </div>\n",
              "\n",
              "    </div>\n",
              "  </div>\n"
            ]
          },
          "metadata": {},
          "execution_count": 7
        }
      ],
      "source": [
        "data_simple = pd.DataFrame({'feature': [1, 2],\n",
        "                            'target': [300, 500]})\n",
        "data_simple"
      ]
    },
    {
      "cell_type": "code",
      "execution_count": 8,
      "metadata": {
        "colab": {
          "base_uri": "https://localhost:8080/"
        },
        "id": "MAq3jorl-CnX",
        "outputId": "ada05cae-9f4c-4c6f-e64d-95f390e3c9e4"
      },
      "outputs": [
        {
          "output_type": "execute_result",
          "data": {
            "text/plain": [
              "(array([[1],\n",
              "        [2]]),\n",
              " array([[300],\n",
              "        [500]]))"
            ]
          },
          "metadata": {},
          "execution_count": 8
        }
      ],
      "source": [
        "X_train_simple = np.array(data_simple.drop('target', axis=1))\n",
        "y_train_simple = np.array(data_simple['target']).reshape(2, -1)\n",
        "X_train_simple, y_train_simple"
      ]
    },
    {
      "cell_type": "code",
      "execution_count": 9,
      "metadata": {
        "colab": {
          "base_uri": "https://localhost:8080/",
          "height": 98
        },
        "id": "6k1bby8cEwfw",
        "outputId": "470990d1-f6e9-4344-d07e-fd422615b143"
      },
      "outputs": [
        {
          "output_type": "display_data",
          "data": {
            "text/plain": [
              "Matrix([\n",
              "[1],\n",
              "[2]])"
            ],
            "text/latex": "$\\displaystyle \\left[\\begin{matrix}1\\\\2\\end{matrix}\\right]$"
          },
          "metadata": {}
        },
        {
          "output_type": "execute_result",
          "data": {
            "text/plain": [
              "Matrix([\n",
              "[300],\n",
              "[500]])"
            ],
            "text/latex": "$\\displaystyle \\left[\\begin{matrix}300\\\\500\\end{matrix}\\right]$"
          },
          "metadata": {},
          "execution_count": 9
        }
      ],
      "source": [
        "X_train_simple_sym = sym.Matrix(X_train_simple)\n",
        "y_train_simple_sym = sym.Matrix(y_train_simple)\n",
        "display(X_train_simple_sym)\n",
        "y_train_simple_sym"
      ]
    },
    {
      "cell_type": "code",
      "execution_count": 10,
      "metadata": {
        "colab": {
          "base_uri": "https://localhost:8080/"
        },
        "id": "j92CJGHV09GU",
        "outputId": "14586c2d-4fa2-4272-da5b-b8698ec9a8aa"
      },
      "outputs": [
        {
          "output_type": "execute_result",
          "data": {
            "text/plain": [
              "(array([[200]]), 100)"
            ]
          },
          "metadata": {},
          "execution_count": 10
        }
      ],
      "source": [
        "# optimal w and b for testing\n",
        "w_simple_best = np.array([[200]])\n",
        "b_simple_best = 100\n",
        "w_simple_best, b_simple_best"
      ]
    },
    {
      "cell_type": "code",
      "execution_count": 11,
      "metadata": {
        "colab": {
          "base_uri": "https://localhost:8080/",
          "height": 56
        },
        "id": "DxTfZXXXG7F0",
        "outputId": "e1111c71-11a8-48de-de29-3b6ee8a46c45"
      },
      "outputs": [
        {
          "output_type": "display_data",
          "data": {
            "text/plain": [
              "Matrix([[200]])"
            ],
            "text/latex": "$\\displaystyle \\left[\\begin{matrix}200\\end{matrix}\\right]$"
          },
          "metadata": {}
        },
        {
          "output_type": "execute_result",
          "data": {
            "text/plain": [
              "100"
            ]
          },
          "metadata": {},
          "execution_count": 11
        }
      ],
      "source": [
        "w_simple_best_sym = sym.Matrix(w_simple_best)\n",
        "b_simple_best_sym = b_simple_best\n",
        "display(w_simple_best_sym)\n",
        "b_simple_best_sym"
      ]
    },
    {
      "cell_type": "markdown",
      "metadata": {
        "id": "oyXSjD5L5NQ8"
      },
      "source": [
        "## The Model Prediction\n",
        "\n",
        "$$\n",
        "f_{\\mathbf{w},b}(\\mathbf{x}^{(i)}) = \\mathbf{w}\\cdot\\mathbf{x}^{(i)} + b\n",
        "$$\n",
        "\n",
        "where\n",
        "\n",
        "- $\\mathbf{x}$ is a vector representing the $i^{th}$ row of $\\mathbf{X}$\n",
        "- $\\mathbf{w}$ is column vector containing the weights of the model\n",
        "- $b$ is a scalar representing the bias"
      ]
    },
    {
      "cell_type": "markdown",
      "metadata": {
        "id": "gYUnxQFqDRhf"
      },
      "source": [
        "### `sympy` version"
      ]
    },
    {
      "cell_type": "code",
      "execution_count": 12,
      "metadata": {
        "id": "i5JUcABfDNqY"
      },
      "outputs": [],
      "source": [
        "# `X * w` is used instead of `X @ w`\n",
        "#   so that the function also works\n",
        "#   for simple linear regression\n",
        "def f_wb_sym(X, w, b):\n",
        "    m = X.shape[0]\n",
        "    pred = X * w + b * sym.ones(m, 1)\n",
        "    return pred"
      ]
    },
    {
      "cell_type": "code",
      "execution_count": 13,
      "metadata": {
        "colab": {
          "base_uri": "https://localhost:8080/",
          "height": 78
        },
        "id": "JeleLtYfEpuy",
        "outputId": "d19fd19c-c0a0-432c-b9a2-978ec16f945c"
      },
      "outputs": [
        {
          "output_type": "execute_result",
          "data": {
            "text/plain": [
              "Matrix([\n",
              "[459.999997619408],\n",
              "[231.999998369408],\n",
              "[177.999998989408]])"
            ],
            "text/latex": "$\\displaystyle \\left[\\begin{matrix}459.999997619408\\\\231.999998369408\\\\177.999998989408\\end{matrix}\\right]$"
          },
          "metadata": {},
          "execution_count": 13
        }
      ],
      "source": [
        "f_wb_sym(X_train_multi_sym, w_multi_best_sym, b_multi_best_sym)"
      ]
    },
    {
      "cell_type": "code",
      "execution_count": 14,
      "metadata": {
        "colab": {
          "base_uri": "https://localhost:8080/",
          "height": 58
        },
        "id": "_PUd8RCyKS1S",
        "outputId": "77280f01-6289-4cee-d9a8-4b78579b945b"
      },
      "outputs": [
        {
          "output_type": "execute_result",
          "data": {
            "text/plain": [
              "Matrix([\n",
              "[300],\n",
              "[500]])"
            ],
            "text/latex": "$\\displaystyle \\left[\\begin{matrix}300\\\\500\\end{matrix}\\right]$"
          },
          "metadata": {},
          "execution_count": 14
        }
      ],
      "source": [
        "f_wb_sym(X_train_simple_sym, w_simple_best_sym, b_simple_best_sym)"
      ]
    },
    {
      "cell_type": "markdown",
      "metadata": {
        "id": "c2vbu7IjKusf"
      },
      "source": [
        "### `numpy` version"
      ]
    },
    {
      "cell_type": "code",
      "execution_count": 15,
      "metadata": {
        "id": "LSxYYw1X5QRw"
      },
      "outputs": [],
      "source": [
        "def f_wb(X, w, b):\n",
        "    m = X.shape[0]\n",
        "    pred = X @ w + b\n",
        "    return pred"
      ]
    },
    {
      "cell_type": "code",
      "execution_count": 16,
      "metadata": {
        "colab": {
          "base_uri": "https://localhost:8080/"
        },
        "id": "wYIMRU-oCj1B",
        "outputId": "bc33129a-2811-4500-b04d-b9e3f81deea9"
      },
      "outputs": [
        {
          "output_type": "execute_result",
          "data": {
            "text/plain": [
              "array([[459.99999762],\n",
              "       [231.99999837],\n",
              "       [177.99999899]])"
            ]
          },
          "metadata": {},
          "execution_count": 16
        }
      ],
      "source": [
        "# works with multiple rows\n",
        "f_wb(X_train_multi, w_multi_best, b_multi_best)"
      ]
    },
    {
      "cell_type": "code",
      "execution_count": 17,
      "metadata": {
        "colab": {
          "base_uri": "https://localhost:8080/"
        },
        "id": "Vfyt_juzCoTv",
        "outputId": "484c1875-4178-4295-b4bb-e44811df8108"
      },
      "outputs": [
        {
          "output_type": "execute_result",
          "data": {
            "text/plain": [
              "array([459.99999762])"
            ]
          },
          "metadata": {},
          "execution_count": 17
        }
      ],
      "source": [
        "# works with a single row\n",
        "f_wb(X_train_multi[0], w_multi_best, b_multi_best)"
      ]
    },
    {
      "cell_type": "code",
      "execution_count": 18,
      "metadata": {
        "colab": {
          "base_uri": "https://localhost:8080/"
        },
        "id": "RNOArPzFKLle",
        "outputId": "00d686b5-1a08-4082-8348-b0d72df56e7c"
      },
      "outputs": [
        {
          "output_type": "execute_result",
          "data": {
            "text/plain": [
              "array([[300],\n",
              "       [500]])"
            ]
          },
          "metadata": {},
          "execution_count": 18
        }
      ],
      "source": [
        "# works with simple regression\n",
        "f_wb(X_train_simple, w_simple_best, b_simple_best)"
      ]
    },
    {
      "cell_type": "code",
      "execution_count": 19,
      "metadata": {
        "colab": {
          "base_uri": "https://localhost:8080/"
        },
        "id": "vNlvZexTK0In",
        "outputId": "8ac6cfc4-0160-440d-98ab-ba4a717be28e"
      },
      "outputs": [
        {
          "output_type": "execute_result",
          "data": {
            "text/plain": [
              "array([300])"
            ]
          },
          "metadata": {},
          "execution_count": 19
        }
      ],
      "source": [
        "# works with simple regression, single row\n",
        "f_wb(X_train_simple[0], w_simple_best, b_simple_best)"
      ]
    },
    {
      "cell_type": "markdown",
      "metadata": {
        "id": "oAqWVzzJLLII"
      },
      "source": [
        "### Speed comparison: `sympy` vs `numpy`"
      ]
    },
    {
      "cell_type": "code",
      "execution_count": 20,
      "metadata": {
        "colab": {
          "base_uri": "https://localhost:8080/"
        },
        "id": "T8FpIv_xLShY",
        "outputId": "834856c4-95ec-4995-d34a-64b32a4b554a"
      },
      "outputs": [
        {
          "output_type": "stream",
          "name": "stdout",
          "text": [
            "954 µs ± 159 µs per loop (mean ± std. dev. of 7 runs, 1000 loops each)\n"
          ]
        }
      ],
      "source": [
        "%%timeit -r7 -n1000\n",
        "f_wb_sym(X_train_multi_sym, w_multi_best_sym, b_multi_best_sym)"
      ]
    },
    {
      "cell_type": "code",
      "execution_count": 21,
      "metadata": {
        "colab": {
          "base_uri": "https://localhost:8080/"
        },
        "id": "yniwymRtLeFE",
        "outputId": "107786ac-bc8f-4f3d-a431-5e9338711fdd"
      },
      "outputs": [
        {
          "output_type": "stream",
          "name": "stdout",
          "text": [
            "The slowest run took 5.83 times longer than the fastest. This could mean that an intermediate result is being cached.\n",
            "22.4 µs ± 11.9 µs per loop (mean ± std. dev. of 7 runs, 1000 loops each)\n"
          ]
        }
      ],
      "source": [
        "%%timeit -r7 -n1000\n",
        "f_wb(X_train_multi, w_multi_best, b_multi_best)"
      ]
    },
    {
      "cell_type": "markdown",
      "metadata": {
        "id": "SygNF4nKMGpK"
      },
      "source": [
        "## The Cost Function\n",
        "\n",
        "$$\n",
        "J(\\mathbf{w},b) = \\frac{1}{2m} \\sum\\limits_{i = 0}^{m-1} (f_{\\mathbf{w},b}(\\mathbf{x}^{(i)}) - y^{(i)})^2\n",
        "$$"
      ]
    },
    {
      "cell_type": "markdown",
      "metadata": {
        "id": "AQOYoxnXMKK7"
      },
      "source": [
        "### `sympy` versions"
      ]
    },
    {
      "cell_type": "code",
      "execution_count": 22,
      "metadata": {
        "id": "tzeRx8LpMT-z"
      },
      "outputs": [],
      "source": [
        "def compute_cost_loop_sym(X, y, w, b):\n",
        "    m = X.shape[0]\n",
        "    cost = sym.Matrix([0.0])\n",
        "\n",
        "    for i in range(m):\n",
        "        f_wb_i = f_wb_sym(X[i,:], w, b)\n",
        "        cost = cost + (f_wb_i - sym.Matrix([y[i]])).applyfunc(lambda x: x**2)\n",
        "    cost = cost / (2 * m)\n",
        "    return cost[0]"
      ]
    },
    {
      "cell_type": "code",
      "execution_count": 23,
      "metadata": {
        "id": "w0x7j2KZMfY5"
      },
      "outputs": [],
      "source": [
        "def compute_cost_sym(X, y, w, b):\n",
        "    m = X.shape[0]\n",
        "    pred = f_wb_sym(X, w, b)\n",
        "    cost = sum((pred - y).applyfunc(lambda x: x**2)) / (2 * m)\n",
        "    return cost"
      ]
    },
    {
      "cell_type": "code",
      "execution_count": 24,
      "metadata": {
        "colab": {
          "base_uri": "https://localhost:8080/",
          "height": 37
        },
        "id": "Il2BlNLDMkyz",
        "outputId": "1210d872-1047-4cc9-a870-17731fcd33ee"
      },
      "outputs": [
        {
          "output_type": "execute_result",
          "data": {
            "text/plain": [
              "1.55789044289666e-12"
            ],
            "text/latex": "$\\displaystyle 1.55789044289666 \\cdot 10^{-12}$"
          },
          "metadata": {},
          "execution_count": 24
        }
      ],
      "source": [
        "compute_cost_sym(X_train_multi_sym,\n",
        "                 y_train_multi_sym,\n",
        "                 w_multi_best_sym,\n",
        "                 b_multi_best_sym)"
      ]
    },
    {
      "cell_type": "code",
      "execution_count": 25,
      "metadata": {
        "colab": {
          "base_uri": "https://localhost:8080/",
          "height": 37
        },
        "id": "NlwSGAsvOtOG",
        "outputId": "9256d8bd-4903-44f1-9dab-4f6552a000f0"
      },
      "outputs": [
        {
          "output_type": "execute_result",
          "data": {
            "text/plain": [
              "0"
            ],
            "text/latex": "$\\displaystyle 0$"
          },
          "metadata": {},
          "execution_count": 25
        }
      ],
      "source": [
        "compute_cost_sym(X_train_simple_sym,\n",
        "                 y_train_simple_sym,\n",
        "                 w_simple_best_sym,\n",
        "                 b_simple_best_sym)"
      ]
    },
    {
      "cell_type": "markdown",
      "metadata": {
        "id": "aaAYd5vEO9bD"
      },
      "source": [
        "### `numpy` versions"
      ]
    },
    {
      "cell_type": "markdown",
      "metadata": {
        "id": "cxK4xucKPk57"
      },
      "source": [
        "#### `compute_cost_loop`"
      ]
    },
    {
      "cell_type": "code",
      "execution_count": 26,
      "metadata": {
        "id": "IMMceg68PsUJ"
      },
      "outputs": [],
      "source": [
        "def compute_cost_loop(X, y, w, b):\n",
        "    m = X.shape[0]\n",
        "\n",
        "    cost = 0.0\n",
        "    for i in range(m):\n",
        "        f_wb_i = f_wb(X[i], w, b)\n",
        "        cost = cost + (f_wb_i - y[i])**2\n",
        "    cost = cost / (2 * m)\n",
        "    return cost[0]"
      ]
    },
    {
      "cell_type": "code",
      "execution_count": 27,
      "metadata": {
        "colab": {
          "base_uri": "https://localhost:8080/"
        },
        "id": "BnWebO33fZ36",
        "outputId": "8f02904b-048e-4fdd-9a18-6cf087f765ef"
      },
      "outputs": [
        {
          "output_type": "execute_result",
          "data": {
            "text/plain": [
              "1.5578904428966628e-12"
            ]
          },
          "metadata": {},
          "execution_count": 27
        }
      ],
      "source": [
        "# test for multiple linear regression\n",
        "compute_cost_loop(X_train_multi, y_train_multi, w_multi_best, b_multi_best)"
      ]
    },
    {
      "cell_type": "code",
      "execution_count": 28,
      "metadata": {
        "colab": {
          "base_uri": "https://localhost:8080/"
        },
        "id": "bcogHRGtffdy",
        "outputId": "e0490b4c-cd13-4eb0-993f-c38a596bafdd"
      },
      "outputs": [
        {
          "output_type": "execute_result",
          "data": {
            "text/plain": [
              "0.0"
            ]
          },
          "metadata": {},
          "execution_count": 28
        }
      ],
      "source": [
        "# test for simple linear regression\n",
        "compute_cost_loop(X_train_simple, y_train_simple, w_simple_best, b_simple_best)"
      ]
    },
    {
      "cell_type": "markdown",
      "metadata": {
        "id": "mpmq0yGCPo_i"
      },
      "source": [
        "#### `compute_cost`"
      ]
    },
    {
      "cell_type": "code",
      "execution_count": 29,
      "metadata": {
        "id": "GuqpjpsGPB1x"
      },
      "outputs": [],
      "source": [
        "def compute_cost(X, y, w, b):\n",
        "    m = X.shape[0]\n",
        "    pred = f_wb(X, w, b)\n",
        "    cost = sum((pred - y)**2) / (2 * m)\n",
        "    return cost[0]"
      ]
    },
    {
      "cell_type": "code",
      "execution_count": 30,
      "metadata": {
        "colab": {
          "base_uri": "https://localhost:8080/"
        },
        "id": "XgoiswWNiZ19",
        "outputId": "f81708ec-223a-4e1d-8cc9-97c6ef8d30c7"
      },
      "outputs": [
        {
          "output_type": "execute_result",
          "data": {
            "text/plain": [
              "1.5578904045996674e-12"
            ]
          },
          "metadata": {},
          "execution_count": 30
        }
      ],
      "source": [
        "# test for multiple linear regression\n",
        "compute_cost(X_train_multi, y_train_multi, w_multi_best, b_multi_best)"
      ]
    },
    {
      "cell_type": "code",
      "execution_count": 31,
      "metadata": {
        "colab": {
          "base_uri": "https://localhost:8080/"
        },
        "id": "Gyp6EysdicZ2",
        "outputId": "d18c00a9-f076-4497-f4d0-19bcdf3e5858"
      },
      "outputs": [
        {
          "output_type": "execute_result",
          "data": {
            "text/plain": [
              "0.0"
            ]
          },
          "metadata": {},
          "execution_count": 31
        }
      ],
      "source": [
        "# test for simple linear regression\n",
        "compute_cost(X_train_simple, y_train_simple, w_simple_best, b_simple_best)"
      ]
    },
    {
      "cell_type": "markdown",
      "metadata": {
        "id": "TtiT6WnBjf9V"
      },
      "source": [
        "### Speed comparison: `sympy` vs `numpy`"
      ]
    },
    {
      "cell_type": "code",
      "execution_count": 32,
      "metadata": {
        "colab": {
          "base_uri": "https://localhost:8080/"
        },
        "id": "LmtYhPDNj7H-",
        "outputId": "6bd9b0a1-5b81-4acb-f0c3-73db2bd578d9"
      },
      "outputs": [
        {
          "output_type": "stream",
          "name": "stdout",
          "text": [
            "The slowest run took 4.40 times longer than the fastest. This could mean that an intermediate result is being cached.\n",
            "3.03 ms ± 2.05 ms per loop (mean ± std. dev. of 7 runs, 1000 loops each)\n"
          ]
        }
      ],
      "source": [
        "%%timeit -r7 -n1000\n",
        "compute_cost_loop_sym(X_train_multi_sym,\n",
        "                      y_train_multi_sym,\n",
        "                      w_multi_best_sym,\n",
        "                      b_multi_best_sym)"
      ]
    },
    {
      "cell_type": "code",
      "execution_count": 33,
      "metadata": {
        "colab": {
          "base_uri": "https://localhost:8080/"
        },
        "id": "nVVOrw7dj7qj",
        "outputId": "9235d7d4-8b2f-4375-c563-0ea16a90ef7d"
      },
      "outputs": [
        {
          "output_type": "stream",
          "name": "stdout",
          "text": [
            "752 µs ± 129 µs per loop (mean ± std. dev. of 7 runs, 1000 loops each)\n"
          ]
        }
      ],
      "source": [
        "%%timeit -r7 -n1000\n",
        "compute_cost_sym(X_train_multi_sym,\n",
        "                 y_train_multi_sym,\n",
        "                 w_multi_best_sym,\n",
        "                 b_multi_best_sym)"
      ]
    },
    {
      "cell_type": "code",
      "execution_count": 34,
      "metadata": {
        "colab": {
          "base_uri": "https://localhost:8080/"
        },
        "id": "BwL0uf6Lj70b",
        "outputId": "9943f775-435e-4521-fc79-6513d6443f84"
      },
      "outputs": [
        {
          "output_type": "stream",
          "name": "stdout",
          "text": [
            "25.5 µs ± 3.75 µs per loop (mean ± std. dev. of 7 runs, 1000 loops each)\n"
          ]
        }
      ],
      "source": [
        "%%timeit -r7 -n1000\n",
        "compute_cost_loop(X_train_multi,\n",
        "                  y_train_multi,\n",
        "                  w_multi_best,\n",
        "                  b_multi_best)"
      ]
    },
    {
      "cell_type": "code",
      "execution_count": 35,
      "metadata": {
        "colab": {
          "base_uri": "https://localhost:8080/"
        },
        "id": "IuwbRcFej78w",
        "outputId": "18f40296-cc98-46c1-f0c0-f08c65cdfaca"
      },
      "outputs": [
        {
          "output_type": "stream",
          "name": "stdout",
          "text": [
            "15.4 µs ± 2.58 µs per loop (mean ± std. dev. of 7 runs, 1000 loops each)\n"
          ]
        }
      ],
      "source": [
        "%%timeit -r7 -n1000\n",
        "compute_cost(X_train_multi,\n",
        "             y_train_multi,\n",
        "             w_multi_best,\n",
        "             b_multi_best)"
      ]
    },
    {
      "cell_type": "markdown",
      "metadata": {
        "id": "aqqmuzmZl-Dg"
      },
      "source": [
        "## The Gradient\n",
        "\n",
        "$$\n",
        "\\begin{align}\n",
        "\\frac{\\partial J(\\mathbf{w},b)}{\\partial w_j}  &= \\frac{1}{m} \\sum\\limits_{i = 0}^{m-1} (f_{\\mathbf{w},b}(\\mathbf{x}^{(i)}) - y^{(i)})x_{j}^{(i)} \\\\\n",
        "\\frac{\\partial J(\\mathbf{w},b)}{\\partial b}  &= \\frac{1}{m} \\sum\\limits_{i = 0}^{m-1} (f_{\\mathbf{w},b}(\\mathbf{x}^{(i)}) - y^{(i)})\n",
        "\\end{align}\n",
        "$$"
      ]
    },
    {
      "cell_type": "markdown",
      "metadata": {
        "id": "DJXXQkzRnDL2"
      },
      "source": [
        "### `sympy` versions"
      ]
    },
    {
      "cell_type": "code",
      "execution_count": 36,
      "metadata": {
        "id": "6xdZWCA8nCcs"
      },
      "outputs": [],
      "source": [
        "def compute_gradient_loop_sym(X, y, w, b):\n",
        "    m, n = X.shape\n",
        "\n",
        "    dj_dw = sym.zeros(n, 1)\n",
        "    dj_db = 0.0\n",
        "\n",
        "    for i in range(m):\n",
        "        err = f_wb_sym(X[i,:], w, b)[0] - y[i]\n",
        "        for j in range(n):\n",
        "            dj_dw[j] = dj_dw[j] + (err * X[i, j])\n",
        "        dj_db = dj_db + err\n",
        "    dj_dw = dj_dw / m\n",
        "    dj_db = dj_db / m\n",
        "\n",
        "    return dj_db, dj_dw"
      ]
    },
    {
      "cell_type": "code",
      "execution_count": 37,
      "metadata": {
        "id": "Yg-zQxNcnhSy"
      },
      "outputs": [],
      "source": [
        "def compute_gradient_sym(X, y, w, b):\n",
        "    m, n = X.shape\n",
        "\n",
        "    y_pred = f_wb_sym(X, w, b)\n",
        "    err = y_pred - y\n",
        "\n",
        "    dj_dw = (X.T @ err) / m\n",
        "    dj_db = sum(err) / m\n",
        "\n",
        "    return dj_db, dj_dw"
      ]
    },
    {
      "cell_type": "code",
      "execution_count": 38,
      "metadata": {
        "colab": {
          "base_uri": "https://localhost:8080/",
          "height": 119
        },
        "id": "lKQ7A3Xnn1wg",
        "outputId": "33b6cef5-b436-4c7d-d5e6-839b5ec67a6e"
      },
      "outputs": [
        {
          "output_type": "display_data",
          "data": {
            "text/plain": [
              "-1.67392515019552e-6"
            ],
            "text/latex": "$\\displaystyle -1.67392515019552 \\cdot 10^{-6}$"
          },
          "metadata": {}
        },
        {
          "output_type": "display_data",
          "data": {
            "text/plain": [
              "Matrix([\n",
              "[-0.00272623577196403],\n",
              "[-6.27197262777675e-6],\n",
              "[-2.21745578225333e-6],\n",
              "[-6.92403390682254e-5]])"
            ],
            "text/latex": "$\\displaystyle \\left[\\begin{matrix}-0.00272623577196403\\\\-6.27197262777675 \\cdot 10^{-6}\\\\-2.21745578225333 \\cdot 10^{-6}\\\\-6.92403390682254 \\cdot 10^{-5}\\end{matrix}\\right]$"
          },
          "metadata": {}
        }
      ],
      "source": [
        "dj_db, dj_dw = compute_gradient_sym(X_train_multi_sym,\n",
        "                                    y_train_multi_sym,\n",
        "                                    w_multi_best_sym,\n",
        "                                    b_multi_best_sym)\n",
        "display(dj_db)\n",
        "display(dj_dw)"
      ]
    },
    {
      "cell_type": "code",
      "execution_count": 39,
      "metadata": {
        "colab": {
          "base_uri": "https://localhost:8080/",
          "height": 59
        },
        "id": "5DbWmfjpocFD",
        "outputId": "cf593c0a-6d8d-441a-b207-eafe51ccd672"
      },
      "outputs": [
        {
          "output_type": "display_data",
          "data": {
            "text/plain": [
              "0"
            ],
            "text/latex": "$\\displaystyle 0$"
          },
          "metadata": {}
        },
        {
          "output_type": "display_data",
          "data": {
            "text/plain": [
              "Matrix([[0]])"
            ],
            "text/latex": "$\\displaystyle \\left[\\begin{matrix}0\\end{matrix}\\right]$"
          },
          "metadata": {}
        }
      ],
      "source": [
        "dj_db, dj_dw = compute_gradient_sym(X_train_simple_sym,\n",
        "                                    y_train_simple_sym,\n",
        "                                    w_simple_best_sym,\n",
        "                                    b_simple_best_sym)\n",
        "display(dj_db)\n",
        "display(dj_dw)"
      ]
    },
    {
      "cell_type": "markdown",
      "metadata": {
        "id": "Kfm3NcYaorSu"
      },
      "source": [
        "### `numpy` versions"
      ]
    },
    {
      "cell_type": "markdown",
      "metadata": {
        "id": "ihvSGsTdpSuD"
      },
      "source": [
        "#### `compute_gradient_loop`"
      ]
    },
    {
      "cell_type": "code",
      "execution_count": 40,
      "metadata": {
        "id": "mJ7ZDCwipiKQ"
      },
      "outputs": [],
      "source": [
        "def compute_gradient_loop(X, y, w, b):\n",
        "    m, n = X.shape\n",
        "\n",
        "    dj_dw = np.zeros((n, 1))\n",
        "    dj_db = 0.0\n",
        "\n",
        "    for i in range(m):\n",
        "        err = f_wb(X[i], w, b)[0] - y[i]\n",
        "        for j in range(n):\n",
        "            dj_dw[j] = dj_dw[j] + (err * X[i,j])\n",
        "        dj_db = dj_db + err\n",
        "\n",
        "    dj_dw = dj_dw / m\n",
        "    dj_db = dj_db / m\n",
        "\n",
        "    return dj_db[0], dj_dw"
      ]
    },
    {
      "cell_type": "code",
      "execution_count": 41,
      "metadata": {
        "colab": {
          "base_uri": "https://localhost:8080/"
        },
        "id": "L52cG7fhpiNw",
        "outputId": "5ea9bdfe-c143-4826-edce-39724b40536d"
      },
      "outputs": [
        {
          "output_type": "execute_result",
          "data": {
            "text/plain": [
              "(-1.6739251501955248e-06,\n",
              " array([[-2.72623577e-03],\n",
              "        [-6.27197263e-06],\n",
              "        [-2.21745578e-06],\n",
              "        [-6.92403391e-05]]))"
            ]
          },
          "metadata": {},
          "execution_count": 41
        }
      ],
      "source": [
        "# test for multiple linear regression\n",
        "dj_db, dj_dw = compute_gradient_loop(X_train_multi,\n",
        "                                     y_train_multi,\n",
        "                                     w_multi_best,\n",
        "                                     b_multi_best)\n",
        "\n",
        "dj_db, dj_dw"
      ]
    },
    {
      "cell_type": "code",
      "execution_count": 42,
      "metadata": {
        "colab": {
          "base_uri": "https://localhost:8080/"
        },
        "id": "qCV7ms55piRA",
        "outputId": "2df062b3-9be7-444a-dc83-b626c006c978"
      },
      "outputs": [
        {
          "output_type": "execute_result",
          "data": {
            "text/plain": [
              "(0.0, array([[0.]]))"
            ]
          },
          "metadata": {},
          "execution_count": 42
        }
      ],
      "source": [
        "# test for simple linear regression\n",
        "dj_db, dj_dw = compute_gradient_loop(X_train_simple,\n",
        "                                     y_train_simple,\n",
        "                                     w_simple_best,\n",
        "                                     b_simple_best)\n",
        "\n",
        "dj_db, dj_dw"
      ]
    },
    {
      "cell_type": "markdown",
      "metadata": {
        "id": "zQZ0KIegpZ06"
      },
      "source": [
        "#### `compute_gradient`"
      ]
    },
    {
      "cell_type": "code",
      "execution_count": 43,
      "metadata": {
        "id": "jLF5s2bdpz17"
      },
      "outputs": [],
      "source": [
        "def compute_gradient(X, y, w, b):\n",
        "    m, n = X.shape\n",
        "\n",
        "    y_pred = f_wb(X, w, b)\n",
        "    err = y_pred - y\n",
        "\n",
        "    dj_dw = (X.T @ err) / m\n",
        "    dj_db = sum(err) / m\n",
        "\n",
        "    return dj_db[0], dj_dw"
      ]
    },
    {
      "cell_type": "code",
      "execution_count": 44,
      "metadata": {
        "colab": {
          "base_uri": "https://localhost:8080/"
        },
        "id": "uKppv7b7p6YE",
        "outputId": "99646f0e-d859-4d3c-b3dd-158799646a30"
      },
      "outputs": [
        {
          "output_type": "execute_result",
          "data": {
            "text/plain": [
              "(-1.6739251122999121e-06,\n",
              " array([[-2.72623574e-03],\n",
              "        [-6.27197255e-06],\n",
              "        [-2.21745574e-06],\n",
              "        [-6.92403377e-05]]))"
            ]
          },
          "metadata": {},
          "execution_count": 44
        }
      ],
      "source": [
        "# test for multiple linear regression\n",
        "dj_db, dj_dw = compute_gradient(X_train_multi,\n",
        "                                y_train_multi,\n",
        "                                w_multi_best,\n",
        "                                b_multi_best)\n",
        "\n",
        "dj_db, dj_dw"
      ]
    },
    {
      "cell_type": "code",
      "execution_count": 45,
      "metadata": {
        "colab": {
          "base_uri": "https://localhost:8080/"
        },
        "id": "1bjHPi-Bp6lb",
        "outputId": "2726d822-259d-4b1d-faa8-68e11199fa07"
      },
      "outputs": [
        {
          "output_type": "execute_result",
          "data": {
            "text/plain": [
              "(0.0, array([[0.]]))"
            ]
          },
          "metadata": {},
          "execution_count": 45
        }
      ],
      "source": [
        "# test for simple linear regression\n",
        "dj_db, dj_dw = compute_gradient(X_train_simple,\n",
        "                                y_train_simple,\n",
        "                                w_simple_best,\n",
        "                                b_simple_best)\n",
        "\n",
        "dj_db, dj_dw"
      ]
    },
    {
      "cell_type": "markdown",
      "metadata": {
        "id": "LkhNuLVovrG3"
      },
      "source": [
        "### Speed comparison: `sympy` vs `numpy`"
      ]
    },
    {
      "cell_type": "code",
      "execution_count": 46,
      "metadata": {
        "colab": {
          "base_uri": "https://localhost:8080/"
        },
        "id": "93XflWfCv0pK",
        "outputId": "9555f6fa-63db-41ce-d780-919df28df461"
      },
      "outputs": [
        {
          "output_type": "stream",
          "name": "stdout",
          "text": [
            "1.78 ms ± 289 µs per loop (mean ± std. dev. of 7 runs, 1000 loops each)\n"
          ]
        }
      ],
      "source": [
        "%%timeit -r7 -n1000\n",
        "compute_gradient_loop_sym(X_train_multi_sym,\n",
        "                         y_train_multi_sym,\n",
        "                         w_multi_best_sym,\n",
        "                         b_multi_best_sym)"
      ]
    },
    {
      "cell_type": "code",
      "execution_count": 47,
      "metadata": {
        "colab": {
          "base_uri": "https://localhost:8080/"
        },
        "id": "QZqo-9JQv0pM",
        "outputId": "b2724ad3-883b-4a38-86f4-0321762e39ca"
      },
      "outputs": [
        {
          "output_type": "stream",
          "name": "stdout",
          "text": [
            "1.09 ms ± 218 µs per loop (mean ± std. dev. of 7 runs, 1000 loops each)\n"
          ]
        }
      ],
      "source": [
        "%%timeit -r7 -n1000\n",
        "compute_gradient_sym(X_train_multi_sym,\n",
        "                     y_train_multi_sym,\n",
        "                     w_multi_best_sym,\n",
        "                     b_multi_best_sym)"
      ]
    },
    {
      "cell_type": "code",
      "execution_count": 48,
      "metadata": {
        "colab": {
          "base_uri": "https://localhost:8080/"
        },
        "id": "jgJK_VQTv0pM",
        "outputId": "20adf87a-f81c-40a3-a0e7-a539cf6798dd"
      },
      "outputs": [
        {
          "output_type": "stream",
          "name": "stdout",
          "text": [
            "123 µs ± 9.15 µs per loop (mean ± std. dev. of 7 runs, 1000 loops each)\n"
          ]
        }
      ],
      "source": [
        "%%timeit -r7 -n1000\n",
        "compute_gradient_loop(X_train_multi,\n",
        "                     y_train_multi,\n",
        "                     w_multi_best,\n",
        "                     b_multi_best)"
      ]
    },
    {
      "cell_type": "code",
      "execution_count": 49,
      "metadata": {
        "colab": {
          "base_uri": "https://localhost:8080/"
        },
        "id": "7XqrTPjkv0pM",
        "outputId": "21e6200f-5a18-47fc-ab97-e83bd1edf5fb"
      },
      "outputs": [
        {
          "output_type": "stream",
          "name": "stdout",
          "text": [
            "29.6 µs ± 9.11 µs per loop (mean ± std. dev. of 7 runs, 1000 loops each)\n"
          ]
        }
      ],
      "source": [
        "%%timeit -r7 -n1000\n",
        "compute_gradient(X_train_multi,\n",
        "                 y_train_multi,\n",
        "                 w_multi_best,\n",
        "                 b_multi_best)"
      ]
    },
    {
      "cell_type": "markdown",
      "metadata": {
        "id": "ue7eO690wVSm"
      },
      "source": [
        "## Gradient Descent"
      ]
    },
    {
      "cell_type": "markdown",
      "metadata": {
        "id": "4Jg8B2twxiO3"
      },
      "source": [
        "### `sympy` version"
      ]
    },
    {
      "cell_type": "code",
      "execution_count": 50,
      "metadata": {
        "id": "UH9tDOI5wUnf"
      },
      "outputs": [],
      "source": [
        "def gradient_descent_sym(X, y, w, b, f_cost, f_gradient, alpha, num_iters):\n",
        "\n",
        "    w = sym.Matrix([w]) # so it works with simple regression\n",
        "\n",
        "    J_history = []\n",
        "\n",
        "    for i in range(iterations):\n",
        "        dj_db, dj_dw = f_gradient(X, y, w, b)\n",
        "\n",
        "        w = w - alpha * dj_dw\n",
        "        b = b - alpha * dj_db\n",
        "\n",
        "        J_history.append(f_cost(X, y, w, b))\n",
        "\n",
        "        # print cost\n",
        "        if i % ceil(num_iters / 10) == 0:\n",
        "            print(f'Iteration {i:4d}: Cost {J_history[-1]:8.2f}')\n",
        "\n",
        "    return w, b, J_history"
      ]
    },
    {
      "cell_type": "code",
      "execution_count": 51,
      "metadata": {
        "colab": {
          "base_uri": "https://localhost:8080/",
          "height": 371
        },
        "id": "NVV0339bx0KN",
        "outputId": "8f5d1bee-d016-4431-8887-5916c37a48bd"
      },
      "outputs": [
        {
          "output_type": "stream",
          "name": "stdout",
          "text": [
            "Iteration    0: Cost  2529.46\n",
            "Iteration  100: Cost   695.99\n",
            "Iteration  200: Cost   694.92\n",
            "Iteration  300: Cost   693.86\n",
            "Iteration  400: Cost   692.81\n",
            "Iteration  500: Cost   691.77\n",
            "Iteration  600: Cost   690.73\n",
            "Iteration  700: Cost   689.71\n",
            "Iteration  800: Cost   688.70\n",
            "Iteration  900: Cost   687.69\n",
            "w_final:\n"
          ]
        },
        {
          "output_type": "display_data",
          "data": {
            "text/plain": [
              "Matrix([\n",
              "[  0.203965687318831],\n",
              "[0.00374919220982854],\n",
              "[-0.0112487038789788],\n",
              "[-0.0658613999237372]])"
            ],
            "text/latex": "$\\displaystyle \\left[\\begin{matrix}0.203965687318831\\\\0.00374919220982854\\\\-0.0112487038789788\\\\-0.0658613999237372\\end{matrix}\\right]$"
          },
          "metadata": {}
        },
        {
          "output_type": "stream",
          "name": "stdout",
          "text": [
            "b_final:\n"
          ]
        },
        {
          "output_type": "display_data",
          "data": {
            "text/plain": [
              "-0.00223540753093253"
            ],
            "text/latex": "$\\displaystyle -0.00223540753093253$"
          },
          "metadata": {}
        },
        {
          "output_type": "stream",
          "name": "stdout",
          "text": [
            "Cost:\n"
          ]
        },
        {
          "output_type": "execute_result",
          "data": {
            "text/plain": [
              "686.703411666521"
            ],
            "text/latex": "$\\displaystyle 686.703411666521$"
          },
          "metadata": {},
          "execution_count": 51
        }
      ],
      "source": [
        "# test multiple linear regression with `compute_cost_sym`\n",
        "# and `compute_gradient_sym`\n",
        "initial_w = sym.zeros(w_multi_best.shape[0], 1)\n",
        "initial_b = 0.0\n",
        "iterations = 1000\n",
        "alpha = 5.0e-7\n",
        "\n",
        "w_final, b_final, J_history = gradient_descent_sym(X_train_multi_sym,\n",
        "                                                   y_train_multi_sym,\n",
        "                                                   initial_w,\n",
        "                                                   initial_b,\n",
        "                                                   compute_cost_sym,\n",
        "                                                   compute_gradient_sym,\n",
        "                                                   alpha,\n",
        "                                                   iterations)\n",
        "\n",
        "print('w_final:')\n",
        "display(w_final)\n",
        "print('b_final:')\n",
        "display(b_final)\n",
        "print('Cost:')\n",
        "J_history[-1]"
      ]
    },
    {
      "cell_type": "code",
      "execution_count": 52,
      "metadata": {
        "colab": {
          "base_uri": "https://localhost:8080/",
          "height": 312
        },
        "id": "PWn4sNAh09nN",
        "outputId": "f18c7f15-8915-4ff3-f06b-bf8f82a844f4"
      },
      "outputs": [
        {
          "output_type": "stream",
          "name": "stdout",
          "text": [
            "Iteration    0: Cost 79274.81\n",
            "Iteration 1000: Cost     3.41\n",
            "Iteration 2000: Cost     0.79\n",
            "Iteration 3000: Cost     0.18\n",
            "Iteration 4000: Cost     0.04\n",
            "Iteration 5000: Cost     0.01\n",
            "Iteration 6000: Cost     0.00\n",
            "Iteration 7000: Cost     0.00\n",
            "Iteration 8000: Cost     0.00\n",
            "Iteration 9000: Cost     0.00\n",
            "w_final:\n"
          ]
        },
        {
          "output_type": "display_data",
          "data": {
            "text/plain": [
              "Matrix([[199.992850751318]])"
            ],
            "text/latex": "$\\displaystyle \\left[\\begin{matrix}199.992850751318\\end{matrix}\\right]$"
          },
          "metadata": {}
        },
        {
          "output_type": "stream",
          "name": "stdout",
          "text": [
            "b_final:\n"
          ]
        },
        {
          "output_type": "display_data",
          "data": {
            "text/plain": [
              "100.011567727362"
            ],
            "text/latex": "$\\displaystyle 100.011567727362$"
          },
          "metadata": {}
        },
        {
          "output_type": "stream",
          "name": "stdout",
          "text": [
            "Cost:\n"
          ]
        },
        {
          "output_type": "execute_result",
          "data": {
            "text/plain": [
              "6.74501466258040e-6"
            ],
            "text/latex": "$\\displaystyle 6.7450146625804 \\cdot 10^{-6}$"
          },
          "metadata": {},
          "execution_count": 52
        }
      ],
      "source": [
        "# test simple linear regression\n",
        "initial_w = 0\n",
        "initial_b = 0\n",
        "iterations = 10_000\n",
        "alpha = 1.0e-2\n",
        "w_final, b_final, J_history = gradient_descent_sym(X_train_simple_sym,\n",
        "                                                   y_train_simple_sym,\n",
        "                                                   initial_b, initial_w,\n",
        "                                                   compute_cost_sym,\n",
        "                                                   compute_gradient_sym,\n",
        "                                                   alpha,\n",
        "                                                   iterations)\n",
        "\n",
        "print('w_final:')\n",
        "display(w_final)\n",
        "print('b_final:')\n",
        "display(b_final)\n",
        "print('Cost:')\n",
        "J_history[-1]"
      ]
    },
    {
      "cell_type": "markdown",
      "metadata": {
        "id": "jT4ROrEW2AFk"
      },
      "source": [
        "### `numpy` version"
      ]
    },
    {
      "cell_type": "code",
      "execution_count": 53,
      "metadata": {
        "id": "LO4IAzJ92aEB"
      },
      "outputs": [],
      "source": [
        "def gradient_descent(X, y, w, b, f_cost, f_gradient, alpha, num_iters):\n",
        "\n",
        "    # so that it works for simple regression\n",
        "    if np.isscalar(w):\n",
        "        w = np.array(w).reshape(1, 1)\n",
        "\n",
        "    J_history = []\n",
        "\n",
        "    for i in range(num_iters):\n",
        "        dj_db, dj_dw = f_gradient(X, y, w, b)\n",
        "\n",
        "        w = w - alpha * dj_dw\n",
        "        b = b - alpha * dj_db\n",
        "\n",
        "        J_history.append(f_cost(X, y, w, b))\n",
        "\n",
        "        # print cost\n",
        "        if i % ceil(num_iters / 10) == 0:\n",
        "            print(f'Iteration {i:4d}: Cost {J_history[-1]:8.2f}')\n",
        "\n",
        "    return w, b, J_history"
      ]
    },
    {
      "cell_type": "code",
      "execution_count": 54,
      "metadata": {
        "colab": {
          "base_uri": "https://localhost:8080/",
          "height": 356
        },
        "id": "fTfNYe7r3TFU",
        "outputId": "009e5b4e-8255-4268-cdf0-d82f139814f9"
      },
      "outputs": [
        {
          "output_type": "stream",
          "name": "stdout",
          "text": [
            "Iteration    0: Cost  2529.46\n",
            "Iteration  100: Cost   695.99\n",
            "Iteration  200: Cost   694.92\n",
            "Iteration  300: Cost   693.86\n",
            "Iteration  400: Cost   692.81\n",
            "Iteration  500: Cost   691.77\n",
            "Iteration  600: Cost   690.73\n",
            "Iteration  700: Cost   689.71\n",
            "Iteration  800: Cost   688.70\n",
            "Iteration  900: Cost   687.69\n",
            "w_final:\n"
          ]
        },
        {
          "output_type": "display_data",
          "data": {
            "text/plain": [
              "array([[ 0.20396569],\n",
              "       [ 0.00374919],\n",
              "       [-0.0112487 ],\n",
              "       [-0.0658614 ]])"
            ]
          },
          "metadata": {}
        },
        {
          "output_type": "stream",
          "name": "stdout",
          "text": [
            "b_final:\n"
          ]
        },
        {
          "output_type": "display_data",
          "data": {
            "text/plain": [
              "-0.002235407530932535"
            ]
          },
          "metadata": {}
        },
        {
          "output_type": "stream",
          "name": "stdout",
          "text": [
            "Cost:\n"
          ]
        },
        {
          "output_type": "execute_result",
          "data": {
            "text/plain": [
              "686.7034116665205"
            ]
          },
          "metadata": {},
          "execution_count": 54
        }
      ],
      "source": [
        "# test multiple linear regression with `compute_cost_loop`\n",
        "# and `compute_gradient_loop`\n",
        "\n",
        "initial_w = np.zeros((w_multi_best.shape[0], 1))\n",
        "initial_b = 0.0\n",
        "iterations = 1000\n",
        "alpha = 5.0e-7\n",
        "\n",
        "w_final, b_final, J_history = gradient_descent(X_train_multi,\n",
        "                                               y_train_multi,\n",
        "                                               initial_w,\n",
        "                                               initial_b,\n",
        "                                               compute_cost_loop,\n",
        "                                               compute_gradient_loop,\n",
        "                                               alpha,\n",
        "                                               iterations)\n",
        "\n",
        "print('w_final:')\n",
        "display(w_final)\n",
        "print('b_final:')\n",
        "display(b_final)\n",
        "print('Cost:')\n",
        "J_history[-1]"
      ]
    },
    {
      "cell_type": "code",
      "execution_count": 55,
      "metadata": {
        "colab": {
          "base_uri": "https://localhost:8080/",
          "height": 356
        },
        "id": "jsVIy_vm64C6",
        "outputId": "a5cba317-8b23-4d6f-fd70-c6fe161ab0b8"
      },
      "outputs": [
        {
          "output_type": "stream",
          "name": "stdout",
          "text": [
            "Iteration    0: Cost  2529.46\n",
            "Iteration  100: Cost   695.99\n",
            "Iteration  200: Cost   694.92\n",
            "Iteration  300: Cost   693.86\n",
            "Iteration  400: Cost   692.81\n",
            "Iteration  500: Cost   691.77\n",
            "Iteration  600: Cost   690.73\n",
            "Iteration  700: Cost   689.71\n",
            "Iteration  800: Cost   688.70\n",
            "Iteration  900: Cost   687.69\n",
            "w_final:\n"
          ]
        },
        {
          "output_type": "display_data",
          "data": {
            "text/plain": [
              "array([[ 0.20396569],\n",
              "       [ 0.00374919],\n",
              "       [-0.0112487 ],\n",
              "       [-0.0658614 ]])"
            ]
          },
          "metadata": {}
        },
        {
          "output_type": "stream",
          "name": "stdout",
          "text": [
            "b_final:\n"
          ]
        },
        {
          "output_type": "display_data",
          "data": {
            "text/plain": [
              "-0.002235407530932535"
            ]
          },
          "metadata": {}
        },
        {
          "output_type": "stream",
          "name": "stdout",
          "text": [
            "Cost:\n"
          ]
        },
        {
          "output_type": "execute_result",
          "data": {
            "text/plain": [
              "686.7034116665213"
            ]
          },
          "metadata": {},
          "execution_count": 55
        }
      ],
      "source": [
        "# test multiple linear regression with `compute_cost`\n",
        "# and `compute_gradient`\n",
        "\n",
        "initial_w = np.zeros((w_multi_best.shape[0], 1))\n",
        "initial_b = 0.0\n",
        "iterations = 1000\n",
        "alpha = 5.0e-7\n",
        "\n",
        "w_final, b_final, J_history = gradient_descent(X_train_multi,\n",
        "                                               y_train_multi,\n",
        "                                               initial_w,\n",
        "                                               initial_b,\n",
        "                                               compute_cost,\n",
        "                                               compute_gradient,\n",
        "                                               alpha,\n",
        "                                               iterations)\n",
        "\n",
        "print('w_final:')\n",
        "display(w_final)\n",
        "print('b_final:')\n",
        "display(b_final)\n",
        "print('Cost:')\n",
        "J_history[-1]"
      ]
    },
    {
      "cell_type": "code",
      "execution_count": 56,
      "metadata": {
        "colab": {
          "base_uri": "https://localhost:8080/",
          "height": 303
        },
        "id": "_4apNiL77eY3",
        "outputId": "81636b0a-241a-49e3-ed82-80206d819c34"
      },
      "outputs": [
        {
          "output_type": "stream",
          "name": "stdout",
          "text": [
            "Iteration    0: Cost 79274.81\n",
            "Iteration 1000: Cost     3.41\n",
            "Iteration 2000: Cost     0.79\n",
            "Iteration 3000: Cost     0.18\n",
            "Iteration 4000: Cost     0.04\n",
            "Iteration 5000: Cost     0.01\n",
            "Iteration 6000: Cost     0.00\n",
            "Iteration 7000: Cost     0.00\n",
            "Iteration 8000: Cost     0.00\n",
            "Iteration 9000: Cost     0.00\n",
            "w_final:\n"
          ]
        },
        {
          "output_type": "display_data",
          "data": {
            "text/plain": [
              "array([[199.99285075]])"
            ]
          },
          "metadata": {}
        },
        {
          "output_type": "stream",
          "name": "stdout",
          "text": [
            "b_final:\n"
          ]
        },
        {
          "output_type": "display_data",
          "data": {
            "text/plain": [
              "100.011567727362"
            ]
          },
          "metadata": {}
        },
        {
          "output_type": "stream",
          "name": "stdout",
          "text": [
            "Cost:\n"
          ]
        },
        {
          "output_type": "execute_result",
          "data": {
            "text/plain": [
              "6.745014662580395e-06"
            ]
          },
          "metadata": {},
          "execution_count": 56
        }
      ],
      "source": [
        "# test simple linear regression with `compute_cost_loop`\n",
        "# and `compute_gradient_loop`\n",
        "initial_w = 0\n",
        "initial_b = 0\n",
        "iterations = 10_000\n",
        "alpha = 1.0e-2\n",
        "w_final, b_final, J_history = gradient_descent(X_train_simple,\n",
        "                                               y_train_simple,\n",
        "                                               initial_b,\n",
        "                                               initial_w,\n",
        "                                               compute_cost_loop,\n",
        "                                               compute_gradient_loop,\n",
        "                                               alpha,\n",
        "                                               iterations)\n",
        "\n",
        "print('w_final:')\n",
        "display(w_final)\n",
        "print('b_final:')\n",
        "display(b_final)\n",
        "print('Cost:')\n",
        "J_history[-1]"
      ]
    },
    {
      "cell_type": "code",
      "execution_count": 57,
      "metadata": {
        "colab": {
          "base_uri": "https://localhost:8080/",
          "height": 303
        },
        "id": "7JjHCQxA9EyI",
        "outputId": "c011250d-d9a0-4630-f230-8f3bfa3bfe3e"
      },
      "outputs": [
        {
          "output_type": "stream",
          "name": "stdout",
          "text": [
            "Iteration    0: Cost 79274.81\n",
            "Iteration 1000: Cost     3.41\n",
            "Iteration 2000: Cost     0.79\n",
            "Iteration 3000: Cost     0.18\n",
            "Iteration 4000: Cost     0.04\n",
            "Iteration 5000: Cost     0.01\n",
            "Iteration 6000: Cost     0.00\n",
            "Iteration 7000: Cost     0.00\n",
            "Iteration 8000: Cost     0.00\n",
            "Iteration 9000: Cost     0.00\n",
            "w_final:\n"
          ]
        },
        {
          "output_type": "display_data",
          "data": {
            "text/plain": [
              "array([[199.99285075]])"
            ]
          },
          "metadata": {}
        },
        {
          "output_type": "stream",
          "name": "stdout",
          "text": [
            "b_final:\n"
          ]
        },
        {
          "output_type": "display_data",
          "data": {
            "text/plain": [
              "100.011567727362"
            ]
          },
          "metadata": {}
        },
        {
          "output_type": "stream",
          "name": "stdout",
          "text": [
            "Cost:\n"
          ]
        },
        {
          "output_type": "execute_result",
          "data": {
            "text/plain": [
              "6.745014662580395e-06"
            ]
          },
          "metadata": {},
          "execution_count": 57
        }
      ],
      "source": [
        "# test simple linear regression with `compute_cost`\n",
        "# and `compute_gradient`\n",
        "initial_w = 0\n",
        "initial_b = 0\n",
        "iterations = 10_000\n",
        "alpha = 1.0e-2\n",
        "w_final, b_final, J_history = gradient_descent(X_train_simple,\n",
        "                                               y_train_simple,\n",
        "                                               initial_b,\n",
        "                                               initial_w,\n",
        "                                               compute_cost,\n",
        "                                               compute_gradient,\n",
        "                                               alpha,\n",
        "                                               iterations)\n",
        "\n",
        "print('w_final:')\n",
        "display(w_final)\n",
        "print('b_final:')\n",
        "display(b_final)\n",
        "print('Cost:')\n",
        "J_history[-1]"
      ]
    },
    {
      "cell_type": "markdown",
      "metadata": {
        "id": "f3mgWf1v9qtU"
      },
      "source": [
        "### Speed comparison: `sympy` vs `numpy`\n",
        "\n",
        "To do this we need versions of the `gradient_descent` functions that suppress printing"
      ]
    },
    {
      "cell_type": "code",
      "execution_count": 58,
      "metadata": {
        "id": "CKsB2dgk-DIK"
      },
      "outputs": [],
      "source": [
        "def gradient_descent_sym_no_print(X, y, w, b, f_cost, f_gradient, alpha, num_iters):\n",
        "\n",
        "    w = sym.Matrix([w]) # so it works with simple regression\n",
        "\n",
        "    for i in range(iterations):\n",
        "        dj_db, dj_dw = f_gradient(X, y, w, b)\n",
        "\n",
        "        w = w - alpha * dj_dw\n",
        "        b = b - alpha * dj_db\n",
        "\n",
        "        cost = f_cost(X, y, w, b)\n",
        "\n",
        "    return w, b, cost\n",
        "\n",
        "def gradient_descent_no_print(X, y, w, b, f_cost, f_gradient, alpha, num_iters):\n",
        "\n",
        "    # so that it works for simple regression\n",
        "    if np.isscalar(w):\n",
        "        w = np.array(w).reshape(1, 1)\n",
        "\n",
        "    for i in range(num_iters):\n",
        "        dj_db, dj_dw = f_gradient(X, y, w, b)\n",
        "\n",
        "        w = w - alpha * dj_dw\n",
        "        b = b - alpha * dj_db\n",
        "\n",
        "        cost = f_cost(X, y, w, b)\n",
        "\n",
        "    return w, b, cost"
      ]
    },
    {
      "cell_type": "code",
      "execution_count": 59,
      "metadata": {
        "id": "fjiu19Sc-e_e"
      },
      "outputs": [],
      "source": [
        "initial_w = sym.zeros(w_multi_best.shape[0], 1)\n",
        "initial_b = 0.0\n",
        "iterations = 1000\n",
        "alpha = 5.0e-7"
      ]
    },
    {
      "cell_type": "code",
      "execution_count": 60,
      "metadata": {
        "colab": {
          "base_uri": "https://localhost:8080/"
        },
        "id": "-zJ2NnKd-lei",
        "outputId": "5aa49b6c-3f51-48fc-ddc3-e3558b59c76c"
      },
      "outputs": [
        {
          "output_type": "stream",
          "name": "stdout",
          "text": [
            "5.18 s ± 17.1 ms per loop (mean ± std. dev. of 3 runs, 50 loops each)\n"
          ]
        }
      ],
      "source": [
        "%%timeit -r3 -n50\n",
        "gradient_descent_sym_no_print(X_train_multi_sym,\n",
        "                              y_train_multi_sym,\n",
        "                              initial_w,\n",
        "                              initial_b,\n",
        "                              compute_cost_loop_sym,\n",
        "                              compute_gradient_loop_sym,\n",
        "                              alpha,\n",
        "                              iterations)"
      ]
    },
    {
      "cell_type": "code",
      "execution_count": 61,
      "metadata": {
        "colab": {
          "base_uri": "https://localhost:8080/"
        },
        "id": "MaBKs2iN_CAJ",
        "outputId": "e3296d0d-8c70-49b9-ff93-d8ca83b3e0f8"
      },
      "outputs": [
        {
          "output_type": "stream",
          "name": "stdout",
          "text": [
            "3.37 s ± 20.5 ms per loop (mean ± std. dev. of 3 runs, 50 loops each)\n"
          ]
        }
      ],
      "source": [
        "%%timeit -r3 -n50\n",
        "gradient_descent_sym_no_print(X_train_multi_sym,\n",
        "                             y_train_multi_sym,\n",
        "                             initial_w,\n",
        "                             initial_b,\n",
        "                             compute_cost_sym,\n",
        "                             compute_gradient_sym,\n",
        "                             alpha,\n",
        "                             iterations)"
      ]
    },
    {
      "cell_type": "code",
      "execution_count": 62,
      "metadata": {
        "id": "jZzpFccd_RFV"
      },
      "outputs": [],
      "source": [
        "initial_w = np.zeros((w_multi_best.shape[0], 1))\n",
        "initial_b = 0.0\n",
        "iterations = 1000\n",
        "alpha = 5.0e-7"
      ]
    },
    {
      "cell_type": "code",
      "execution_count": 63,
      "metadata": {
        "id": "Bw-IiPqI_arn",
        "colab": {
          "base_uri": "https://localhost:8080/"
        },
        "outputId": "0478214f-2979-4f93-bf34-3d53710d4608"
      },
      "outputs": [
        {
          "output_type": "stream",
          "name": "stdout",
          "text": [
            "102 ms ± 12.9 ms per loop (mean ± std. dev. of 3 runs, 50 loops each)\n"
          ]
        }
      ],
      "source": [
        "%%timeit -r3 -n50\n",
        "gradient_descent_no_print(X_train_multi,\n",
        "                          y_train_multi,\n",
        "                          initial_w,\n",
        "                          initial_b,\n",
        "                          compute_cost_loop,\n",
        "                          compute_gradient_loop,\n",
        "                          alpha,\n",
        "                          iterations)"
      ]
    },
    {
      "cell_type": "code",
      "execution_count": 64,
      "metadata": {
        "id": "X5xtvjqLAFJ-",
        "colab": {
          "base_uri": "https://localhost:8080/"
        },
        "outputId": "20659d43-4949-4f93-ac42-5f4be25170d8"
      },
      "outputs": [
        {
          "output_type": "stream",
          "name": "stdout",
          "text": [
            "51.8 ms ± 9.83 ms per loop (mean ± std. dev. of 3 runs, 50 loops each)\n"
          ]
        }
      ],
      "source": [
        "%%timeit -r3 -n50\n",
        "gradient_descent_no_print(X_train_multi,\n",
        "                          y_train_multi,\n",
        "                          initial_w,\n",
        "                          initial_b,\n",
        "                          compute_cost,\n",
        "                          compute_gradient,\n",
        "                          alpha,\n",
        "                          iterations)"
      ]
    }
  ],
  "metadata": {
    "colab": {
      "toc_visible": true,
      "provenance": [],
      "authorship_tag": "ABX9TyNTUU44q3TRJAOPbjSOki4b",
      "include_colab_link": true
    },
    "kernelspec": {
      "display_name": "Python 3",
      "name": "python3"
    },
    "language_info": {
      "name": "python"
    }
  },
  "nbformat": 4,
  "nbformat_minor": 0
}