{
  "nbformat": 4,
  "nbformat_minor": 0,
  "metadata": {
    "colab": {
      "provenance": [],
      "toc_visible": true,
      "authorship_tag": "ABX9TyOPMGr9zKsjLp/UHna+bZhy",
      "include_colab_link": true
    },
    "kernelspec": {
      "name": "python3",
      "display_name": "Python 3"
    },
    "language_info": {
      "name": "python"
    }
  },
  "cells": [
    {
      "cell_type": "markdown",
      "metadata": {
        "id": "view-in-github",
        "colab_type": "text"
      },
      "source": [
        "<a href=\"https://colab.research.google.com/github/PaulToronto/Stanford-Andrew-Ng-Machine-Learning-Specialization/blob/main/Gradient_Descent_with_Sympy.ipynb\" target=\"_parent\"><img src=\"https://colab.research.google.com/assets/colab-badge.svg\" alt=\"Open In Colab\"/></a>"
      ]
    },
    {
      "cell_type": "markdown",
      "source": [
        "# Gradient Descent with `sympy`"
      ],
      "metadata": {
        "id": "1_eoJL0FgVt6"
      }
    },
    {
      "cell_type": "markdown",
      "source": [
        "## Imports"
      ],
      "metadata": {
        "id": "W2H8LNLRgbKA"
      }
    },
    {
      "cell_type": "code",
      "execution_count": 1,
      "metadata": {
        "id": "biUW5dmbgRwk"
      },
      "outputs": [],
      "source": [
        "import sympy as sym\n",
        "import pandas as pd\n",
        "import numpy as np\n",
        "from math import ceil\n",
        "\n",
        "from sklearn.linear_model import LinearRegression"
      ]
    },
    {
      "cell_type": "markdown",
      "source": [
        "## Functions"
      ],
      "metadata": {
        "id": "5Uqg6_8eQaRE"
      }
    },
    {
      "cell_type": "code",
      "source": [
        "def predict(X, w, b):\n",
        "    w = sym.Matrix(w)\n",
        "    if type(b) is not type(X):\n",
        "        b = b * sym.ones(X.shape[0], 1)\n",
        "    p = X @ w + b\n",
        "    return sym.Matrix(p)\n",
        "\n",
        "def compute_cost(X, y, w, b):\n",
        "    m = X.shape[0]\n",
        "    y = sym.Matrix(y)\n",
        "    y_pred = predict(X, w, b)\n",
        "    cost = sum((y_pred - y).applyfunc(lambda x: x**2)) / (2 * m)\n",
        "    return cost\n",
        "\n",
        "def compute_gradient(X, y, w, b):\n",
        "    m, n = X.shape\n",
        "    y = sym.Matrix(y)\n",
        "\n",
        "    y_pred = predict(X, w, b)\n",
        "    err = y_pred - y\n",
        "\n",
        "    dj_dw = (X.T @ err) / m\n",
        "    dj_db = sum(err) / m\n",
        "\n",
        "\n",
        "    return dj_db, dj_dw"
      ],
      "metadata": {
        "id": "D6sBr8piQbuP"
      },
      "execution_count": 2,
      "outputs": []
    },
    {
      "cell_type": "markdown",
      "source": [
        "## Example: Simple Linear Regression\n",
        "\n",
        "1. Predict the house price, given the `house` data and the ideal parameters.\n",
        "2. Build a regression model using gradient descent."
      ],
      "metadata": {
        "id": "4lHhzqUBlq5_"
      }
    },
    {
      "cell_type": "markdown",
      "source": [
        "## Example: Multiple Linear Regression\n",
        "\n",
        "1. Predict the house price, given the `houses` data and the ideal parameters.\n",
        "2. Build a regression model using gradient descent."
      ],
      "metadata": {
        "id": "o8ywIadlQdwu"
      }
    },
    {
      "cell_type": "code",
      "source": [
        "houses = pd.DataFrame({'size_sqft': [2104, 1416, 852],\n",
        "                       'bedrooms': [5, 3, 2],\n",
        "                       'floors': [1, 2, 1],\n",
        "                       'age': [45, 40, 35],\n",
        "                       'price': [460, 232, 178]})\n",
        "\n",
        "houses"
      ],
      "metadata": {
        "colab": {
          "base_uri": "https://localhost:8080/",
          "height": 143
        },
        "id": "XQHV8sckQoRh",
        "outputId": "667e0e06-7aa9-4d39-bea0-32482f006afc"
      },
      "execution_count": 3,
      "outputs": [
        {
          "output_type": "execute_result",
          "data": {
            "text/plain": [
              "   size_sqft  bedrooms  floors  age  price\n",
              "0       2104         5       1   45    460\n",
              "1       1416         3       2   40    232\n",
              "2        852         2       1   35    178"
            ],
            "text/html": [
              "\n",
              "  <div id=\"df-3383c3df-ed9b-429c-a0c4-2486f05751d9\" class=\"colab-df-container\">\n",
              "    <div>\n",
              "<style scoped>\n",
              "    .dataframe tbody tr th:only-of-type {\n",
              "        vertical-align: middle;\n",
              "    }\n",
              "\n",
              "    .dataframe tbody tr th {\n",
              "        vertical-align: top;\n",
              "    }\n",
              "\n",
              "    .dataframe thead th {\n",
              "        text-align: right;\n",
              "    }\n",
              "</style>\n",
              "<table border=\"1\" class=\"dataframe\">\n",
              "  <thead>\n",
              "    <tr style=\"text-align: right;\">\n",
              "      <th></th>\n",
              "      <th>size_sqft</th>\n",
              "      <th>bedrooms</th>\n",
              "      <th>floors</th>\n",
              "      <th>age</th>\n",
              "      <th>price</th>\n",
              "    </tr>\n",
              "  </thead>\n",
              "  <tbody>\n",
              "    <tr>\n",
              "      <th>0</th>\n",
              "      <td>2104</td>\n",
              "      <td>5</td>\n",
              "      <td>1</td>\n",
              "      <td>45</td>\n",
              "      <td>460</td>\n",
              "    </tr>\n",
              "    <tr>\n",
              "      <th>1</th>\n",
              "      <td>1416</td>\n",
              "      <td>3</td>\n",
              "      <td>2</td>\n",
              "      <td>40</td>\n",
              "      <td>232</td>\n",
              "    </tr>\n",
              "    <tr>\n",
              "      <th>2</th>\n",
              "      <td>852</td>\n",
              "      <td>2</td>\n",
              "      <td>1</td>\n",
              "      <td>35</td>\n",
              "      <td>178</td>\n",
              "    </tr>\n",
              "  </tbody>\n",
              "</table>\n",
              "</div>\n",
              "    <div class=\"colab-df-buttons\">\n",
              "\n",
              "  <div class=\"colab-df-container\">\n",
              "    <button class=\"colab-df-convert\" onclick=\"convertToInteractive('df-3383c3df-ed9b-429c-a0c4-2486f05751d9')\"\n",
              "            title=\"Convert this dataframe to an interactive table.\"\n",
              "            style=\"display:none;\">\n",
              "\n",
              "  <svg xmlns=\"http://www.w3.org/2000/svg\" height=\"24px\" viewBox=\"0 -960 960 960\">\n",
              "    <path d=\"M120-120v-720h720v720H120Zm60-500h600v-160H180v160Zm220 220h160v-160H400v160Zm0 220h160v-160H400v160ZM180-400h160v-160H180v160Zm440 0h160v-160H620v160ZM180-180h160v-160H180v160Zm440 0h160v-160H620v160Z\"/>\n",
              "  </svg>\n",
              "    </button>\n",
              "\n",
              "  <style>\n",
              "    .colab-df-container {\n",
              "      display:flex;\n",
              "      gap: 12px;\n",
              "    }\n",
              "\n",
              "    .colab-df-convert {\n",
              "      background-color: #E8F0FE;\n",
              "      border: none;\n",
              "      border-radius: 50%;\n",
              "      cursor: pointer;\n",
              "      display: none;\n",
              "      fill: #1967D2;\n",
              "      height: 32px;\n",
              "      padding: 0 0 0 0;\n",
              "      width: 32px;\n",
              "    }\n",
              "\n",
              "    .colab-df-convert:hover {\n",
              "      background-color: #E2EBFA;\n",
              "      box-shadow: 0px 1px 2px rgba(60, 64, 67, 0.3), 0px 1px 3px 1px rgba(60, 64, 67, 0.15);\n",
              "      fill: #174EA6;\n",
              "    }\n",
              "\n",
              "    .colab-df-buttons div {\n",
              "      margin-bottom: 4px;\n",
              "    }\n",
              "\n",
              "    [theme=dark] .colab-df-convert {\n",
              "      background-color: #3B4455;\n",
              "      fill: #D2E3FC;\n",
              "    }\n",
              "\n",
              "    [theme=dark] .colab-df-convert:hover {\n",
              "      background-color: #434B5C;\n",
              "      box-shadow: 0px 1px 3px 1px rgba(0, 0, 0, 0.15);\n",
              "      filter: drop-shadow(0px 1px 2px rgba(0, 0, 0, 0.3));\n",
              "      fill: #FFFFFF;\n",
              "    }\n",
              "  </style>\n",
              "\n",
              "    <script>\n",
              "      const buttonEl =\n",
              "        document.querySelector('#df-3383c3df-ed9b-429c-a0c4-2486f05751d9 button.colab-df-convert');\n",
              "      buttonEl.style.display =\n",
              "        google.colab.kernel.accessAllowed ? 'block' : 'none';\n",
              "\n",
              "      async function convertToInteractive(key) {\n",
              "        const element = document.querySelector('#df-3383c3df-ed9b-429c-a0c4-2486f05751d9');\n",
              "        const dataTable =\n",
              "          await google.colab.kernel.invokeFunction('convertToInteractive',\n",
              "                                                    [key], {});\n",
              "        if (!dataTable) return;\n",
              "\n",
              "        const docLinkHtml = 'Like what you see? Visit the ' +\n",
              "          '<a target=\"_blank\" href=https://colab.research.google.com/notebooks/data_table.ipynb>data table notebook</a>'\n",
              "          + ' to learn more about interactive tables.';\n",
              "        element.innerHTML = '';\n",
              "        dataTable['output_type'] = 'display_data';\n",
              "        await google.colab.output.renderOutput(dataTable, element);\n",
              "        const docLink = document.createElement('div');\n",
              "        docLink.innerHTML = docLinkHtml;\n",
              "        element.appendChild(docLink);\n",
              "      }\n",
              "    </script>\n",
              "  </div>\n",
              "\n",
              "\n",
              "<div id=\"df-3bba9ccf-3632-4672-9267-a953738cd9b4\">\n",
              "  <button class=\"colab-df-quickchart\" onclick=\"quickchart('df-3bba9ccf-3632-4672-9267-a953738cd9b4')\"\n",
              "            title=\"Suggest charts.\"\n",
              "            style=\"display:none;\">\n",
              "\n",
              "<svg xmlns=\"http://www.w3.org/2000/svg\" height=\"24px\"viewBox=\"0 0 24 24\"\n",
              "     width=\"24px\">\n",
              "    <g>\n",
              "        <path d=\"M19 3H5c-1.1 0-2 .9-2 2v14c0 1.1.9 2 2 2h14c1.1 0 2-.9 2-2V5c0-1.1-.9-2-2-2zM9 17H7v-7h2v7zm4 0h-2V7h2v10zm4 0h-2v-4h2v4z\"/>\n",
              "    </g>\n",
              "</svg>\n",
              "  </button>\n",
              "\n",
              "<style>\n",
              "  .colab-df-quickchart {\n",
              "    background-color: #E8F0FE;\n",
              "    border: none;\n",
              "    border-radius: 50%;\n",
              "    cursor: pointer;\n",
              "    display: none;\n",
              "    fill: #1967D2;\n",
              "    height: 32px;\n",
              "    padding: 0 0 0 0;\n",
              "    width: 32px;\n",
              "  }\n",
              "\n",
              "  .colab-df-quickchart:hover {\n",
              "    background-color: #E2EBFA;\n",
              "    box-shadow: 0px 1px 2px rgba(60, 64, 67, 0.3), 0px 1px 3px 1px rgba(60, 64, 67, 0.15);\n",
              "    fill: #174EA6;\n",
              "  }\n",
              "\n",
              "  [theme=dark] .colab-df-quickchart {\n",
              "    background-color: #3B4455;\n",
              "    fill: #D2E3FC;\n",
              "  }\n",
              "\n",
              "  [theme=dark] .colab-df-quickchart:hover {\n",
              "    background-color: #434B5C;\n",
              "    box-shadow: 0px 1px 3px 1px rgba(0, 0, 0, 0.15);\n",
              "    filter: drop-shadow(0px 1px 2px rgba(0, 0, 0, 0.3));\n",
              "    fill: #FFFFFF;\n",
              "  }\n",
              "</style>\n",
              "\n",
              "  <script>\n",
              "    async function quickchart(key) {\n",
              "      const charts = await google.colab.kernel.invokeFunction(\n",
              "          'suggestCharts', [key], {});\n",
              "    }\n",
              "    (() => {\n",
              "      let quickchartButtonEl =\n",
              "        document.querySelector('#df-3bba9ccf-3632-4672-9267-a953738cd9b4 button');\n",
              "      quickchartButtonEl.style.display =\n",
              "        google.colab.kernel.accessAllowed ? 'block' : 'none';\n",
              "    })();\n",
              "  </script>\n",
              "</div>\n",
              "    </div>\n",
              "  </div>\n"
            ]
          },
          "metadata": {},
          "execution_count": 3
        }
      ]
    },
    {
      "cell_type": "code",
      "source": [
        "# idea parameters\n",
        "w_init = np.array([ 0.39133535, 18.75376741, -53.36032453, -26.42131618])\n",
        "b_init = 785.1811367994083"
      ],
      "metadata": {
        "id": "30BsdAbPaUhV"
      },
      "execution_count": 4,
      "outputs": []
    },
    {
      "cell_type": "markdown",
      "source": [
        "### Prediction Using Known Ideal Parameters"
      ],
      "metadata": {
        "id": "zvxracBmTFM6"
      }
    },
    {
      "cell_type": "code",
      "source": [
        "# X_train\n",
        "X = sym.Matrix(houses.drop('price', axis=1))\n",
        "X"
      ],
      "metadata": {
        "colab": {
          "base_uri": "https://localhost:8080/",
          "height": 78
        },
        "id": "g5DOOErlRhpR",
        "outputId": "250bf7e2-954d-435a-f34f-08300be3b2d6"
      },
      "execution_count": 5,
      "outputs": [
        {
          "output_type": "execute_result",
          "data": {
            "text/plain": [
              "Matrix([\n",
              "[2104, 5, 1, 45],\n",
              "[1416, 3, 2, 40],\n",
              "[ 852, 2, 1, 35]])"
            ],
            "text/latex": "$\\displaystyle \\left[\\begin{matrix}2104 & 5 & 1 & 45\\\\1416 & 3 & 2 & 40\\\\852 & 2 & 1 & 35\\end{matrix}\\right]$"
          },
          "metadata": {},
          "execution_count": 5
        }
      ]
    },
    {
      "cell_type": "code",
      "source": [
        "# y_train\n",
        "y = sym.Matrix(houses['price'])\n",
        "y"
      ],
      "metadata": {
        "colab": {
          "base_uri": "https://localhost:8080/",
          "height": 78
        },
        "id": "WrefYFrrRyiW",
        "outputId": "1bf7a072-bfb0-449d-e8af-fda3bc0d736f"
      },
      "execution_count": 6,
      "outputs": [
        {
          "output_type": "execute_result",
          "data": {
            "text/plain": [
              "Matrix([\n",
              "[460],\n",
              "[232],\n",
              "[178]])"
            ],
            "text/latex": "$\\displaystyle \\left[\\begin{matrix}460\\\\232\\\\178\\end{matrix}\\right]$"
          },
          "metadata": {},
          "execution_count": 6
        }
      ]
    },
    {
      "cell_type": "code",
      "source": [
        "# parameter vector\n",
        "w_1, w_2, w_3, w_4, b = sym.symbols('w_1 w_2 w_3 w_4 b')\n",
        "w = sym.Matrix((w_1, w_2, w_3, w_4))\n",
        "display(w)\n",
        "display(b)"
      ],
      "metadata": {
        "colab": {
          "base_uri": "https://localhost:8080/",
          "height": 120
        },
        "id": "i_lovaeMR6xs",
        "outputId": "24391f44-13bd-4a46-f84f-f0aadb5adde0"
      },
      "execution_count": 7,
      "outputs": [
        {
          "output_type": "display_data",
          "data": {
            "text/plain": [
              "Matrix([\n",
              "[w_1],\n",
              "[w_2],\n",
              "[w_3],\n",
              "[w_4]])"
            ],
            "text/latex": "$\\displaystyle \\left[\\begin{matrix}w_{1}\\\\w_{2}\\\\w_{3}\\\\w_{4}\\end{matrix}\\right]$"
          },
          "metadata": {}
        },
        {
          "output_type": "display_data",
          "data": {
            "text/plain": [
              "b"
            ],
            "text/latex": "$\\displaystyle b$"
          },
          "metadata": {}
        }
      ]
    },
    {
      "cell_type": "markdown",
      "source": [
        "$$\n",
        "\\begin{align}\n",
        "Xw + b &= y \\\\\n",
        "\\left[\\begin{matrix}2104 & 5 & 1 & 45\\\\1416 & 3 & 2 & 40\\\\852 & 2 & 1 & 35\\end{matrix}\\right]\n",
        "\\cdot \\left[\\begin{matrix}w_{1}\\\\w_{2}\\\\w_{3}\\\\w_{4}\\end{matrix}\\right] + b\n",
        "\\left[\\begin{matrix}1\\\\1\\\\1 \\end{matrix}\\right] &=\n",
        "\\left[\\begin{matrix}460\\\\232\\\\178\\end{matrix}\\right] \\\\\n",
        "\\left[\\begin{matrix}b + 2104 w_{1} + 5 w_{2} + w_{3} + 45 w_{4}\\\\b + 1416 w_{1} + 3 w_{2} + 2 w_{3} + 40 w_{4}\\\\b + 852 w_{1} + 2 w_{2} + w_{3} + 35 w_{4}\\end{matrix}\\right] &= \\left[\\begin{matrix}460\\\\232\\\\178\\end{matrix}\\right]\n",
        "\\end{align}\n",
        "$$"
      ],
      "metadata": {
        "id": "pJnZq6lBXNMg"
      }
    },
    {
      "cell_type": "code",
      "source": [
        "# using the `predict` function\n",
        "predict(X, w_init, b_init)"
      ],
      "metadata": {
        "colab": {
          "base_uri": "https://localhost:8080/",
          "height": 78
        },
        "id": "M6GrqbywguFn",
        "outputId": "e5a80bc3-1054-4f50-9d12-aa82c8f0166e"
      },
      "execution_count": 8,
      "outputs": [
        {
          "output_type": "execute_result",
          "data": {
            "text/plain": [
              "Matrix([\n",
              "[459.999997619408],\n",
              "[231.999998369408],\n",
              "[177.999998989408]])"
            ],
            "text/latex": "$\\displaystyle \\left[\\begin{matrix}459.999997619408\\\\231.999998369408\\\\177.999998989408\\end{matrix}\\right]$"
          },
          "metadata": {},
          "execution_count": 8
        }
      ]
    },
    {
      "cell_type": "code",
      "source": [
        "w_best = w.subs({w[i]: w_init[i] for i in range(len(w))})\n",
        "b_best = b.subs({b:b_init}) * sym.ones(X.shape[0], 1)\n",
        "display(w_best)\n",
        "display(b_best)"
      ],
      "metadata": {
        "colab": {
          "base_uri": "https://localhost:8080/",
          "height": 159
        },
        "id": "vfYGvI1dxuAY",
        "outputId": "3b07f491-0534-40c0-da80-073e3705e339"
      },
      "execution_count": 9,
      "outputs": [
        {
          "output_type": "display_data",
          "data": {
            "text/plain": [
              "Matrix([\n",
              "[  0.39133535],\n",
              "[ 18.75376741],\n",
              "[-53.36032453],\n",
              "[-26.42131618]])"
            ],
            "text/latex": "$\\displaystyle \\left[\\begin{matrix}0.39133535\\\\18.75376741\\\\-53.36032453\\\\-26.42131618\\end{matrix}\\right]$"
          },
          "metadata": {}
        },
        {
          "output_type": "display_data",
          "data": {
            "text/plain": [
              "Matrix([\n",
              "[785.181136799408],\n",
              "[785.181136799408],\n",
              "[785.181136799408]])"
            ],
            "text/latex": "$\\displaystyle \\left[\\begin{matrix}785.181136799408\\\\785.181136799408\\\\785.181136799408\\end{matrix}\\right]$"
          },
          "metadata": {}
        }
      ]
    },
    {
      "cell_type": "code",
      "source": [
        "predict(X, w_best, b_best)"
      ],
      "metadata": {
        "colab": {
          "base_uri": "https://localhost:8080/",
          "height": 78
        },
        "id": "BnP6FPs61h14",
        "outputId": "a9b3536b-0d38-4576-f7d7-8029454ac55c"
      },
      "execution_count": 10,
      "outputs": [
        {
          "output_type": "execute_result",
          "data": {
            "text/plain": [
              "Matrix([\n",
              "[459.999997619408],\n",
              "[231.999998369408],\n",
              "[177.999998989408]])"
            ],
            "text/latex": "$\\displaystyle \\left[\\begin{matrix}459.999997619408\\\\231.999998369408\\\\177.999998989408\\end{matrix}\\right]$"
          },
          "metadata": {},
          "execution_count": 10
        }
      ]
    },
    {
      "cell_type": "markdown",
      "source": [
        "### Regression Model Using Gradient Descent"
      ],
      "metadata": {
        "id": "akCPQKXKebo2"
      }
    },
    {
      "cell_type": "code",
      "source": [
        "# test compute_cost\n",
        "compute_cost(X, y, w_init, b_init)"
      ],
      "metadata": {
        "colab": {
          "base_uri": "https://localhost:8080/",
          "height": 37
        },
        "id": "2flOii1TP219",
        "outputId": "f1cc5c0e-56c3-424e-f951-403d5fd96ab3"
      },
      "execution_count": 11,
      "outputs": [
        {
          "output_type": "execute_result",
          "data": {
            "text/plain": [
              "1.55789044289666e-12"
            ],
            "text/latex": "$\\displaystyle 1.55789044289666 \\cdot 10^{-12}$"
          },
          "metadata": {},
          "execution_count": 11
        }
      ]
    },
    {
      "cell_type": "code",
      "source": [
        "# test compute_gradient\n",
        "dj_db, dj_dw = compute_gradient(X, y, w_init, b_init)\n",
        "display(dj_db)\n",
        "display(dj_dw)"
      ],
      "metadata": {
        "colab": {
          "base_uri": "https://localhost:8080/",
          "height": 119
        },
        "id": "v029vLIxQCyU",
        "outputId": "1c564dbf-0121-41d6-f1cf-cfbdd229b1fb"
      },
      "execution_count": 12,
      "outputs": [
        {
          "output_type": "display_data",
          "data": {
            "text/plain": [
              "-1.67392515019552e-6"
            ],
            "text/latex": "$\\displaystyle -1.67392515019552 \\cdot 10^{-6}$"
          },
          "metadata": {}
        },
        {
          "output_type": "display_data",
          "data": {
            "text/plain": [
              "Matrix([\n",
              "[-0.00272623577196403],\n",
              "[-6.27197262777675e-6],\n",
              "[-2.21745578225333e-6],\n",
              "[-6.92403390682254e-5]])"
            ],
            "text/latex": "$\\displaystyle \\left[\\begin{matrix}-0.00272623577196403\\\\-6.27197262777675 \\cdot 10^{-6}\\\\-2.21745578225333 \\cdot 10^{-6}\\\\-6.92403390682254 \\cdot 10^{-5}\\end{matrix}\\right]$"
          },
          "metadata": {}
        }
      ]
    },
    {
      "cell_type": "code",
      "source": [
        "def gradient_descent(X, y, w, b, f_cost, f_gradient, alpha, num_iters):\n",
        "\n",
        "    J_history = []\n",
        "\n",
        "    for i in range(num_iters):\n",
        "        dj_db, dj_dw = f_gradient(X, y, w, b)\n",
        "\n",
        "        w = w - alpha * dj_dw\n",
        "        b = b - alpha * dj_db\n",
        "\n",
        "        J_history.append(f_cost(X, y, w, b))\n",
        "\n",
        "        # print cost\n",
        "        if i % ceil(num_iters / 10) == 0:\n",
        "            print(f'Iteration {i:4d}: Cost {J_history[-1]:8.2f}')\n",
        "\n",
        "    return w, b, J_history\n",
        "\n",
        "\n",
        "\n",
        "initial_w = sym.zeros(w_init.shape[0], 1)\n",
        "initial_b = 0.0\n",
        "iterations = 1000\n",
        "alpha = 5.0e-7\n",
        "\n",
        "w_final, b_final, J_hist = gradient_descent(X, y, initial_w, initial_b, compute_cost, compute_gradient, alpha, iterations)"
      ],
      "metadata": {
        "colab": {
          "base_uri": "https://localhost:8080/"
        },
        "id": "YOViS7RSQiHE",
        "outputId": "b58972b3-457c-4dd6-f14a-728385ea64b7"
      },
      "execution_count": 13,
      "outputs": [
        {
          "output_type": "stream",
          "name": "stdout",
          "text": [
            "Iteration    0: Cost  2529.46\n",
            "Iteration  100: Cost   695.99\n",
            "Iteration  200: Cost   694.92\n",
            "Iteration  300: Cost   693.86\n",
            "Iteration  400: Cost   692.81\n",
            "Iteration  500: Cost   691.77\n",
            "Iteration  600: Cost   690.73\n",
            "Iteration  700: Cost   689.71\n",
            "Iteration  800: Cost   688.70\n",
            "Iteration  900: Cost   687.69\n"
          ]
        }
      ]
    },
    {
      "cell_type": "code",
      "source": [
        "display(b_final)\n",
        "display(w_final)"
      ],
      "metadata": {
        "colab": {
          "base_uri": "https://localhost:8080/",
          "height": 119
        },
        "id": "PsmetQFGYOvd",
        "outputId": "cd48de9d-a53f-49e5-9bdd-f3d78a67d2d6"
      },
      "execution_count": 14,
      "outputs": [
        {
          "output_type": "display_data",
          "data": {
            "text/plain": [
              "-0.00223540753093253"
            ],
            "text/latex": "$\\displaystyle -0.00223540753093253$"
          },
          "metadata": {}
        },
        {
          "output_type": "display_data",
          "data": {
            "text/plain": [
              "Matrix([\n",
              "[  0.203965687318831],\n",
              "[0.00374919220982854],\n",
              "[-0.0112487038789788],\n",
              "[-0.0658613999237372]])"
            ],
            "text/latex": "$\\displaystyle \\left[\\begin{matrix}0.203965687318831\\\\0.00374919220982854\\\\-0.0112487038789788\\\\-0.0658613999237372\\end{matrix}\\right]$"
          },
          "metadata": {}
        }
      ]
    },
    {
      "cell_type": "markdown",
      "source": [
        "# Compare our weights to the ideal weights"
      ],
      "metadata": {
        "id": "90A-1crwYkqJ"
      }
    },
    {
      "cell_type": "code",
      "source": [
        "predict(X, w_final, b_final)"
      ],
      "metadata": {
        "colab": {
          "base_uri": "https://localhost:8080/",
          "height": 78
        },
        "id": "s1YPxWBRUOf7",
        "outputId": "a546fb87-7bfe-474a-b12f-fa32e0e07de5"
      },
      "execution_count": 15,
      "outputs": [
        {
          "output_type": "execute_result",
          "data": {
            "text/plain": [
              "Matrix([\n",
              "[426.185304971892],\n",
              "[286.167472007856],\n",
              "[171.467630871323]])"
            ],
            "text/latex": "$\\displaystyle \\left[\\begin{matrix}426.185304971892\\\\286.167472007856\\\\171.467630871323\\end{matrix}\\right]$"
          },
          "metadata": {},
          "execution_count": 15
        }
      ]
    },
    {
      "cell_type": "code",
      "source": [
        "predict(X, w_init, b_init)"
      ],
      "metadata": {
        "colab": {
          "base_uri": "https://localhost:8080/",
          "height": 78
        },
        "id": "bBEbrsmAYubl",
        "outputId": "74d11658-b3f4-465b-be18-42422c7688e0"
      },
      "execution_count": 16,
      "outputs": [
        {
          "output_type": "execute_result",
          "data": {
            "text/plain": [
              "Matrix([\n",
              "[459.999997619408],\n",
              "[231.999998369408],\n",
              "[177.999998989408]])"
            ],
            "text/latex": "$\\displaystyle \\left[\\begin{matrix}459.999997619408\\\\231.999998369408\\\\177.999998989408\\end{matrix}\\right]$"
          },
          "metadata": {},
          "execution_count": 16
        }
      ]
    },
    {
      "cell_type": "code",
      "source": [
        "y"
      ],
      "metadata": {
        "colab": {
          "base_uri": "https://localhost:8080/",
          "height": 78
        },
        "id": "AkkfAb-XYxjy",
        "outputId": "1f4e34f8-ea4b-4fe1-f354-bddced237329"
      },
      "execution_count": 17,
      "outputs": [
        {
          "output_type": "execute_result",
          "data": {
            "text/plain": [
              "Matrix([\n",
              "[460],\n",
              "[232],\n",
              "[178]])"
            ],
            "text/latex": "$\\displaystyle \\left[\\begin{matrix}460\\\\232\\\\178\\end{matrix}\\right]$"
          },
          "metadata": {},
          "execution_count": 17
        }
      ]
    }
  ]
}