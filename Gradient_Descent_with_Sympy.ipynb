{
  "nbformat": 4,
  "nbformat_minor": 0,
  "metadata": {
    "colab": {
      "provenance": [],
      "toc_visible": true,
      "authorship_tag": "ABX9TyOCPJjOEtn/wppe5e3jfHmw",
      "include_colab_link": true
    },
    "kernelspec": {
      "name": "python3",
      "display_name": "Python 3"
    },
    "language_info": {
      "name": "python"
    }
  },
  "cells": [
    {
      "cell_type": "markdown",
      "metadata": {
        "id": "view-in-github",
        "colab_type": "text"
      },
      "source": [
        "<a href=\"https://colab.research.google.com/github/PaulToronto/Stanford-Andrew-Ng-Machine-Learning-Specialization/blob/main/Gradient_Descent_with_Sympy.ipynb\" target=\"_parent\"><img src=\"https://colab.research.google.com/assets/colab-badge.svg\" alt=\"Open In Colab\"/></a>"
      ]
    },
    {
      "cell_type": "markdown",
      "source": [
        "# Gradient Descent with `sympy`"
      ],
      "metadata": {
        "id": "-5JTrT-SO8oG"
      }
    },
    {
      "cell_type": "markdown",
      "source": [
        "## Imports"
      ],
      "metadata": {
        "id": "vifdCXIkPCPP"
      }
    },
    {
      "cell_type": "code",
      "execution_count": null,
      "metadata": {
        "id": "C9kWXrYvO5qW"
      },
      "outputs": [],
      "source": [
        "import sympy as sym\n",
        "import pandas as pd\n",
        "import numpy as np\n",
        "from math import ceil"
      ]
    },
    {
      "cell_type": "markdown",
      "source": [
        "## Symbols"
      ],
      "metadata": {
        "id": "Z54zSuTTPFvj"
      }
    },
    {
      "cell_type": "code",
      "source": [
        "# training set data\n",
        "x11, x12, x13, x14 = sym.symbols('x_{11} x_{12} x_{13} x_{14}')\n",
        "x21, x22, x23, x24 = sym.symbols('x_{21} x_{22} x_{23} x_{24}')\n",
        "x31, x32, x33, x34 = sym.symbols('x_{31} x_{32} x_{33} x_{34}')\n",
        "\n",
        "# target\n",
        "y1, y2, y3 = sym.symbols('y_1 y_2 y_3')\n",
        "\n",
        "# weights and bias\n",
        "w1, w2, w3, w4, b = sym.symbols('w_1 w_2 w_3 w_4 b')\n",
        "\n",
        "# weight for simple linear regression\n",
        "m1 = sym.symbols('m_1')"
      ],
      "metadata": {
        "id": "6HL-dEjIPMiJ"
      },
      "execution_count": null,
      "outputs": []
    },
    {
      "cell_type": "markdown",
      "source": [
        "## Toy Datasets"
      ],
      "metadata": {
        "id": "F-FtpIdkaFNV"
      }
    },
    {
      "cell_type": "markdown",
      "source": [
        "### Dataset with symbols"
      ],
      "metadata": {
        "id": "GfTYK0ccF5pk"
      }
    },
    {
      "cell_type": "code",
      "source": [
        "data = pd.DataFrame({'feature1': [x11, x21, x31],\n",
        "                     'feature2': [x12, x22, x32],\n",
        "                     'feature3': [x13, x23, x33],\n",
        "                     'feature4': [x14, x24, x34],\n",
        "                     'target': [y1, y2, y3]})\n",
        "\n",
        "data"
      ],
      "metadata": {
        "colab": {
          "base_uri": "https://localhost:8080/",
          "height": 143
        },
        "id": "GQpWfRcFaJBG",
        "outputId": "31ce090e-090d-4138-d8e9-0eb71030ee12"
      },
      "execution_count": null,
      "outputs": [
        {
          "output_type": "execute_result",
          "data": {
            "text/plain": [
              "  feature1 feature2 feature3 feature4 target\n",
              "0   x_{11}   x_{12}   x_{13}   x_{14}    y_1\n",
              "1   x_{21}   x_{22}   x_{23}   x_{24}    y_2\n",
              "2   x_{31}   x_{32}   x_{33}   x_{34}    y_3"
            ],
            "text/html": [
              "\n",
              "  <div id=\"df-16417b56-d12e-498a-91d0-8f5a7509188b\" class=\"colab-df-container\">\n",
              "    <div>\n",
              "<style scoped>\n",
              "    .dataframe tbody tr th:only-of-type {\n",
              "        vertical-align: middle;\n",
              "    }\n",
              "\n",
              "    .dataframe tbody tr th {\n",
              "        vertical-align: top;\n",
              "    }\n",
              "\n",
              "    .dataframe thead th {\n",
              "        text-align: right;\n",
              "    }\n",
              "</style>\n",
              "<table border=\"1\" class=\"dataframe\">\n",
              "  <thead>\n",
              "    <tr style=\"text-align: right;\">\n",
              "      <th></th>\n",
              "      <th>feature1</th>\n",
              "      <th>feature2</th>\n",
              "      <th>feature3</th>\n",
              "      <th>feature4</th>\n",
              "      <th>target</th>\n",
              "    </tr>\n",
              "  </thead>\n",
              "  <tbody>\n",
              "    <tr>\n",
              "      <th>0</th>\n",
              "      <td>x_{11}</td>\n",
              "      <td>x_{12}</td>\n",
              "      <td>x_{13}</td>\n",
              "      <td>x_{14}</td>\n",
              "      <td>y_1</td>\n",
              "    </tr>\n",
              "    <tr>\n",
              "      <th>1</th>\n",
              "      <td>x_{21}</td>\n",
              "      <td>x_{22}</td>\n",
              "      <td>x_{23}</td>\n",
              "      <td>x_{24}</td>\n",
              "      <td>y_2</td>\n",
              "    </tr>\n",
              "    <tr>\n",
              "      <th>2</th>\n",
              "      <td>x_{31}</td>\n",
              "      <td>x_{32}</td>\n",
              "      <td>x_{33}</td>\n",
              "      <td>x_{34}</td>\n",
              "      <td>y_3</td>\n",
              "    </tr>\n",
              "  </tbody>\n",
              "</table>\n",
              "</div>\n",
              "    <div class=\"colab-df-buttons\">\n",
              "\n",
              "  <div class=\"colab-df-container\">\n",
              "    <button class=\"colab-df-convert\" onclick=\"convertToInteractive('df-16417b56-d12e-498a-91d0-8f5a7509188b')\"\n",
              "            title=\"Convert this dataframe to an interactive table.\"\n",
              "            style=\"display:none;\">\n",
              "\n",
              "  <svg xmlns=\"http://www.w3.org/2000/svg\" height=\"24px\" viewBox=\"0 -960 960 960\">\n",
              "    <path d=\"M120-120v-720h720v720H120Zm60-500h600v-160H180v160Zm220 220h160v-160H400v160Zm0 220h160v-160H400v160ZM180-400h160v-160H180v160Zm440 0h160v-160H620v160ZM180-180h160v-160H180v160Zm440 0h160v-160H620v160Z\"/>\n",
              "  </svg>\n",
              "    </button>\n",
              "\n",
              "  <style>\n",
              "    .colab-df-container {\n",
              "      display:flex;\n",
              "      gap: 12px;\n",
              "    }\n",
              "\n",
              "    .colab-df-convert {\n",
              "      background-color: #E8F0FE;\n",
              "      border: none;\n",
              "      border-radius: 50%;\n",
              "      cursor: pointer;\n",
              "      display: none;\n",
              "      fill: #1967D2;\n",
              "      height: 32px;\n",
              "      padding: 0 0 0 0;\n",
              "      width: 32px;\n",
              "    }\n",
              "\n",
              "    .colab-df-convert:hover {\n",
              "      background-color: #E2EBFA;\n",
              "      box-shadow: 0px 1px 2px rgba(60, 64, 67, 0.3), 0px 1px 3px 1px rgba(60, 64, 67, 0.15);\n",
              "      fill: #174EA6;\n",
              "    }\n",
              "\n",
              "    .colab-df-buttons div {\n",
              "      margin-bottom: 4px;\n",
              "    }\n",
              "\n",
              "    [theme=dark] .colab-df-convert {\n",
              "      background-color: #3B4455;\n",
              "      fill: #D2E3FC;\n",
              "    }\n",
              "\n",
              "    [theme=dark] .colab-df-convert:hover {\n",
              "      background-color: #434B5C;\n",
              "      box-shadow: 0px 1px 3px 1px rgba(0, 0, 0, 0.15);\n",
              "      filter: drop-shadow(0px 1px 2px rgba(0, 0, 0, 0.3));\n",
              "      fill: #FFFFFF;\n",
              "    }\n",
              "  </style>\n",
              "\n",
              "    <script>\n",
              "      const buttonEl =\n",
              "        document.querySelector('#df-16417b56-d12e-498a-91d0-8f5a7509188b button.colab-df-convert');\n",
              "      buttonEl.style.display =\n",
              "        google.colab.kernel.accessAllowed ? 'block' : 'none';\n",
              "\n",
              "      async function convertToInteractive(key) {\n",
              "        const element = document.querySelector('#df-16417b56-d12e-498a-91d0-8f5a7509188b');\n",
              "        const dataTable =\n",
              "          await google.colab.kernel.invokeFunction('convertToInteractive',\n",
              "                                                    [key], {});\n",
              "        if (!dataTable) return;\n",
              "\n",
              "        const docLinkHtml = 'Like what you see? Visit the ' +\n",
              "          '<a target=\"_blank\" href=https://colab.research.google.com/notebooks/data_table.ipynb>data table notebook</a>'\n",
              "          + ' to learn more about interactive tables.';\n",
              "        element.innerHTML = '';\n",
              "        dataTable['output_type'] = 'display_data';\n",
              "        await google.colab.output.renderOutput(dataTable, element);\n",
              "        const docLink = document.createElement('div');\n",
              "        docLink.innerHTML = docLinkHtml;\n",
              "        element.appendChild(docLink);\n",
              "      }\n",
              "    </script>\n",
              "  </div>\n",
              "\n",
              "\n",
              "<div id=\"df-3ffd480c-41b5-42bd-ab3a-5b552aac67b1\">\n",
              "  <button class=\"colab-df-quickchart\" onclick=\"quickchart('df-3ffd480c-41b5-42bd-ab3a-5b552aac67b1')\"\n",
              "            title=\"Suggest charts.\"\n",
              "            style=\"display:none;\">\n",
              "\n",
              "<svg xmlns=\"http://www.w3.org/2000/svg\" height=\"24px\"viewBox=\"0 0 24 24\"\n",
              "     width=\"24px\">\n",
              "    <g>\n",
              "        <path d=\"M19 3H5c-1.1 0-2 .9-2 2v14c0 1.1.9 2 2 2h14c1.1 0 2-.9 2-2V5c0-1.1-.9-2-2-2zM9 17H7v-7h2v7zm4 0h-2V7h2v10zm4 0h-2v-4h2v4z\"/>\n",
              "    </g>\n",
              "</svg>\n",
              "  </button>\n",
              "\n",
              "<style>\n",
              "  .colab-df-quickchart {\n",
              "    background-color: #E8F0FE;\n",
              "    border: none;\n",
              "    border-radius: 50%;\n",
              "    cursor: pointer;\n",
              "    display: none;\n",
              "    fill: #1967D2;\n",
              "    height: 32px;\n",
              "    padding: 0 0 0 0;\n",
              "    width: 32px;\n",
              "  }\n",
              "\n",
              "  .colab-df-quickchart:hover {\n",
              "    background-color: #E2EBFA;\n",
              "    box-shadow: 0px 1px 2px rgba(60, 64, 67, 0.3), 0px 1px 3px 1px rgba(60, 64, 67, 0.15);\n",
              "    fill: #174EA6;\n",
              "  }\n",
              "\n",
              "  [theme=dark] .colab-df-quickchart {\n",
              "    background-color: #3B4455;\n",
              "    fill: #D2E3FC;\n",
              "  }\n",
              "\n",
              "  [theme=dark] .colab-df-quickchart:hover {\n",
              "    background-color: #434B5C;\n",
              "    box-shadow: 0px 1px 3px 1px rgba(0, 0, 0, 0.15);\n",
              "    filter: drop-shadow(0px 1px 2px rgba(0, 0, 0, 0.3));\n",
              "    fill: #FFFFFF;\n",
              "  }\n",
              "</style>\n",
              "\n",
              "  <script>\n",
              "    async function quickchart(key) {\n",
              "      const charts = await google.colab.kernel.invokeFunction(\n",
              "          'suggestCharts', [key], {});\n",
              "    }\n",
              "    (() => {\n",
              "      let quickchartButtonEl =\n",
              "        document.querySelector('#df-3ffd480c-41b5-42bd-ab3a-5b552aac67b1 button');\n",
              "      quickchartButtonEl.style.display =\n",
              "        google.colab.kernel.accessAllowed ? 'block' : 'none';\n",
              "    })();\n",
              "  </script>\n",
              "</div>\n",
              "    </div>\n",
              "  </div>\n"
            ]
          },
          "metadata": {},
          "execution_count": 3
        }
      ]
    },
    {
      "cell_type": "markdown",
      "source": [
        "### Dataset with numbers"
      ],
      "metadata": {
        "id": "rCr-QEelGAJE"
      }
    },
    {
      "cell_type": "code",
      "source": [
        "data_num = pd.DataFrame({'feature1': [2104, 1416, 852],\n",
        "                         'feature2': [5, 3, 2],\n",
        "                         'feature3': [1, 2, 1],\n",
        "                         'feature4': [45, 40, 35],\n",
        "                         'target': [460, 232, 178]})\n",
        "\n",
        "data_num"
      ],
      "metadata": {
        "colab": {
          "base_uri": "https://localhost:8080/",
          "height": 143
        },
        "id": "S3q_VLGDGNWv",
        "outputId": "1788e1d9-e543-4b7a-89dd-0ce3d62c4a38"
      },
      "execution_count": null,
      "outputs": [
        {
          "output_type": "execute_result",
          "data": {
            "text/plain": [
              "   feature1  feature2  feature3  feature4  target\n",
              "0      2104         5         1        45     460\n",
              "1      1416         3         2        40     232\n",
              "2       852         2         1        35     178"
            ],
            "text/html": [
              "\n",
              "  <div id=\"df-a6f3e463-769c-471e-8486-97387bdb0fdf\" class=\"colab-df-container\">\n",
              "    <div>\n",
              "<style scoped>\n",
              "    .dataframe tbody tr th:only-of-type {\n",
              "        vertical-align: middle;\n",
              "    }\n",
              "\n",
              "    .dataframe tbody tr th {\n",
              "        vertical-align: top;\n",
              "    }\n",
              "\n",
              "    .dataframe thead th {\n",
              "        text-align: right;\n",
              "    }\n",
              "</style>\n",
              "<table border=\"1\" class=\"dataframe\">\n",
              "  <thead>\n",
              "    <tr style=\"text-align: right;\">\n",
              "      <th></th>\n",
              "      <th>feature1</th>\n",
              "      <th>feature2</th>\n",
              "      <th>feature3</th>\n",
              "      <th>feature4</th>\n",
              "      <th>target</th>\n",
              "    </tr>\n",
              "  </thead>\n",
              "  <tbody>\n",
              "    <tr>\n",
              "      <th>0</th>\n",
              "      <td>2104</td>\n",
              "      <td>5</td>\n",
              "      <td>1</td>\n",
              "      <td>45</td>\n",
              "      <td>460</td>\n",
              "    </tr>\n",
              "    <tr>\n",
              "      <th>1</th>\n",
              "      <td>1416</td>\n",
              "      <td>3</td>\n",
              "      <td>2</td>\n",
              "      <td>40</td>\n",
              "      <td>232</td>\n",
              "    </tr>\n",
              "    <tr>\n",
              "      <th>2</th>\n",
              "      <td>852</td>\n",
              "      <td>2</td>\n",
              "      <td>1</td>\n",
              "      <td>35</td>\n",
              "      <td>178</td>\n",
              "    </tr>\n",
              "  </tbody>\n",
              "</table>\n",
              "</div>\n",
              "    <div class=\"colab-df-buttons\">\n",
              "\n",
              "  <div class=\"colab-df-container\">\n",
              "    <button class=\"colab-df-convert\" onclick=\"convertToInteractive('df-a6f3e463-769c-471e-8486-97387bdb0fdf')\"\n",
              "            title=\"Convert this dataframe to an interactive table.\"\n",
              "            style=\"display:none;\">\n",
              "\n",
              "  <svg xmlns=\"http://www.w3.org/2000/svg\" height=\"24px\" viewBox=\"0 -960 960 960\">\n",
              "    <path d=\"M120-120v-720h720v720H120Zm60-500h600v-160H180v160Zm220 220h160v-160H400v160Zm0 220h160v-160H400v160ZM180-400h160v-160H180v160Zm440 0h160v-160H620v160ZM180-180h160v-160H180v160Zm440 0h160v-160H620v160Z\"/>\n",
              "  </svg>\n",
              "    </button>\n",
              "\n",
              "  <style>\n",
              "    .colab-df-container {\n",
              "      display:flex;\n",
              "      gap: 12px;\n",
              "    }\n",
              "\n",
              "    .colab-df-convert {\n",
              "      background-color: #E8F0FE;\n",
              "      border: none;\n",
              "      border-radius: 50%;\n",
              "      cursor: pointer;\n",
              "      display: none;\n",
              "      fill: #1967D2;\n",
              "      height: 32px;\n",
              "      padding: 0 0 0 0;\n",
              "      width: 32px;\n",
              "    }\n",
              "\n",
              "    .colab-df-convert:hover {\n",
              "      background-color: #E2EBFA;\n",
              "      box-shadow: 0px 1px 2px rgba(60, 64, 67, 0.3), 0px 1px 3px 1px rgba(60, 64, 67, 0.15);\n",
              "      fill: #174EA6;\n",
              "    }\n",
              "\n",
              "    .colab-df-buttons div {\n",
              "      margin-bottom: 4px;\n",
              "    }\n",
              "\n",
              "    [theme=dark] .colab-df-convert {\n",
              "      background-color: #3B4455;\n",
              "      fill: #D2E3FC;\n",
              "    }\n",
              "\n",
              "    [theme=dark] .colab-df-convert:hover {\n",
              "      background-color: #434B5C;\n",
              "      box-shadow: 0px 1px 3px 1px rgba(0, 0, 0, 0.15);\n",
              "      filter: drop-shadow(0px 1px 2px rgba(0, 0, 0, 0.3));\n",
              "      fill: #FFFFFF;\n",
              "    }\n",
              "  </style>\n",
              "\n",
              "    <script>\n",
              "      const buttonEl =\n",
              "        document.querySelector('#df-a6f3e463-769c-471e-8486-97387bdb0fdf button.colab-df-convert');\n",
              "      buttonEl.style.display =\n",
              "        google.colab.kernel.accessAllowed ? 'block' : 'none';\n",
              "\n",
              "      async function convertToInteractive(key) {\n",
              "        const element = document.querySelector('#df-a6f3e463-769c-471e-8486-97387bdb0fdf');\n",
              "        const dataTable =\n",
              "          await google.colab.kernel.invokeFunction('convertToInteractive',\n",
              "                                                    [key], {});\n",
              "        if (!dataTable) return;\n",
              "\n",
              "        const docLinkHtml = 'Like what you see? Visit the ' +\n",
              "          '<a target=\"_blank\" href=https://colab.research.google.com/notebooks/data_table.ipynb>data table notebook</a>'\n",
              "          + ' to learn more about interactive tables.';\n",
              "        element.innerHTML = '';\n",
              "        dataTable['output_type'] = 'display_data';\n",
              "        await google.colab.output.renderOutput(dataTable, element);\n",
              "        const docLink = document.createElement('div');\n",
              "        docLink.innerHTML = docLinkHtml;\n",
              "        element.appendChild(docLink);\n",
              "      }\n",
              "    </script>\n",
              "  </div>\n",
              "\n",
              "\n",
              "<div id=\"df-e5e33cbe-43ce-44b1-86e0-00dee032ece7\">\n",
              "  <button class=\"colab-df-quickchart\" onclick=\"quickchart('df-e5e33cbe-43ce-44b1-86e0-00dee032ece7')\"\n",
              "            title=\"Suggest charts.\"\n",
              "            style=\"display:none;\">\n",
              "\n",
              "<svg xmlns=\"http://www.w3.org/2000/svg\" height=\"24px\"viewBox=\"0 0 24 24\"\n",
              "     width=\"24px\">\n",
              "    <g>\n",
              "        <path d=\"M19 3H5c-1.1 0-2 .9-2 2v14c0 1.1.9 2 2 2h14c1.1 0 2-.9 2-2V5c0-1.1-.9-2-2-2zM9 17H7v-7h2v7zm4 0h-2V7h2v10zm4 0h-2v-4h2v4z\"/>\n",
              "    </g>\n",
              "</svg>\n",
              "  </button>\n",
              "\n",
              "<style>\n",
              "  .colab-df-quickchart {\n",
              "    background-color: #E8F0FE;\n",
              "    border: none;\n",
              "    border-radius: 50%;\n",
              "    cursor: pointer;\n",
              "    display: none;\n",
              "    fill: #1967D2;\n",
              "    height: 32px;\n",
              "    padding: 0 0 0 0;\n",
              "    width: 32px;\n",
              "  }\n",
              "\n",
              "  .colab-df-quickchart:hover {\n",
              "    background-color: #E2EBFA;\n",
              "    box-shadow: 0px 1px 2px rgba(60, 64, 67, 0.3), 0px 1px 3px 1px rgba(60, 64, 67, 0.15);\n",
              "    fill: #174EA6;\n",
              "  }\n",
              "\n",
              "  [theme=dark] .colab-df-quickchart {\n",
              "    background-color: #3B4455;\n",
              "    fill: #D2E3FC;\n",
              "  }\n",
              "\n",
              "  [theme=dark] .colab-df-quickchart:hover {\n",
              "    background-color: #434B5C;\n",
              "    box-shadow: 0px 1px 3px 1px rgba(0, 0, 0, 0.15);\n",
              "    filter: drop-shadow(0px 1px 2px rgba(0, 0, 0, 0.3));\n",
              "    fill: #FFFFFF;\n",
              "  }\n",
              "</style>\n",
              "\n",
              "  <script>\n",
              "    async function quickchart(key) {\n",
              "      const charts = await google.colab.kernel.invokeFunction(\n",
              "          'suggestCharts', [key], {});\n",
              "    }\n",
              "    (() => {\n",
              "      let quickchartButtonEl =\n",
              "        document.querySelector('#df-e5e33cbe-43ce-44b1-86e0-00dee032ece7 button');\n",
              "      quickchartButtonEl.style.display =\n",
              "        google.colab.kernel.accessAllowed ? 'block' : 'none';\n",
              "    })();\n",
              "  </script>\n",
              "</div>\n",
              "    </div>\n",
              "  </div>\n"
            ]
          },
          "metadata": {},
          "execution_count": 4
        }
      ]
    },
    {
      "cell_type": "code",
      "source": [
        "# optimal w and b for testing\n",
        "wn_best = sym.Matrix(np.array([ 0.39133535, 18.75376741, -53.36032453, -26.42131618]))\n",
        "bn_best = 785.1811367994083\n",
        "wn_best"
      ],
      "metadata": {
        "colab": {
          "base_uri": "https://localhost:8080/",
          "height": 98
        },
        "id": "eHw8qzUZewF8",
        "outputId": "d0a374a5-4abb-4a1a-d113-01793ec2d2e6"
      },
      "execution_count": null,
      "outputs": [
        {
          "output_type": "execute_result",
          "data": {
            "text/plain": [
              "Matrix([\n",
              "[  0.39133535],\n",
              "[ 18.75376741],\n",
              "[-53.36032453],\n",
              "[-26.42131618]])"
            ],
            "text/latex": "$\\displaystyle \\left[\\begin{matrix}0.39133535\\\\18.75376741\\\\-53.36032453\\\\-26.42131618\\end{matrix}\\right]$"
          },
          "metadata": {},
          "execution_count": 5
        }
      ]
    },
    {
      "cell_type": "markdown",
      "source": [
        "### Dataset for simple linear regression"
      ],
      "metadata": {
        "id": "CXt-KXXDIONQ"
      }
    },
    {
      "cell_type": "code",
      "source": [
        "data_simple = pd.DataFrame({'feature': [1, 2],\n",
        "                            'target': [300, 500]})\n",
        "data_simple"
      ],
      "metadata": {
        "colab": {
          "base_uri": "https://localhost:8080/",
          "height": 112
        },
        "id": "gJYhPX_eISuK",
        "outputId": "a4277d2f-a58b-4165-da71-692a784ab099"
      },
      "execution_count": null,
      "outputs": [
        {
          "output_type": "execute_result",
          "data": {
            "text/plain": [
              "   feature  target\n",
              "0        1     300\n",
              "1        2     500"
            ],
            "text/html": [
              "\n",
              "  <div id=\"df-3d642863-fa9f-4689-a1a7-595dbf43c4e2\" class=\"colab-df-container\">\n",
              "    <div>\n",
              "<style scoped>\n",
              "    .dataframe tbody tr th:only-of-type {\n",
              "        vertical-align: middle;\n",
              "    }\n",
              "\n",
              "    .dataframe tbody tr th {\n",
              "        vertical-align: top;\n",
              "    }\n",
              "\n",
              "    .dataframe thead th {\n",
              "        text-align: right;\n",
              "    }\n",
              "</style>\n",
              "<table border=\"1\" class=\"dataframe\">\n",
              "  <thead>\n",
              "    <tr style=\"text-align: right;\">\n",
              "      <th></th>\n",
              "      <th>feature</th>\n",
              "      <th>target</th>\n",
              "    </tr>\n",
              "  </thead>\n",
              "  <tbody>\n",
              "    <tr>\n",
              "      <th>0</th>\n",
              "      <td>1</td>\n",
              "      <td>300</td>\n",
              "    </tr>\n",
              "    <tr>\n",
              "      <th>1</th>\n",
              "      <td>2</td>\n",
              "      <td>500</td>\n",
              "    </tr>\n",
              "  </tbody>\n",
              "</table>\n",
              "</div>\n",
              "    <div class=\"colab-df-buttons\">\n",
              "\n",
              "  <div class=\"colab-df-container\">\n",
              "    <button class=\"colab-df-convert\" onclick=\"convertToInteractive('df-3d642863-fa9f-4689-a1a7-595dbf43c4e2')\"\n",
              "            title=\"Convert this dataframe to an interactive table.\"\n",
              "            style=\"display:none;\">\n",
              "\n",
              "  <svg xmlns=\"http://www.w3.org/2000/svg\" height=\"24px\" viewBox=\"0 -960 960 960\">\n",
              "    <path d=\"M120-120v-720h720v720H120Zm60-500h600v-160H180v160Zm220 220h160v-160H400v160Zm0 220h160v-160H400v160ZM180-400h160v-160H180v160Zm440 0h160v-160H620v160ZM180-180h160v-160H180v160Zm440 0h160v-160H620v160Z\"/>\n",
              "  </svg>\n",
              "    </button>\n",
              "\n",
              "  <style>\n",
              "    .colab-df-container {\n",
              "      display:flex;\n",
              "      gap: 12px;\n",
              "    }\n",
              "\n",
              "    .colab-df-convert {\n",
              "      background-color: #E8F0FE;\n",
              "      border: none;\n",
              "      border-radius: 50%;\n",
              "      cursor: pointer;\n",
              "      display: none;\n",
              "      fill: #1967D2;\n",
              "      height: 32px;\n",
              "      padding: 0 0 0 0;\n",
              "      width: 32px;\n",
              "    }\n",
              "\n",
              "    .colab-df-convert:hover {\n",
              "      background-color: #E2EBFA;\n",
              "      box-shadow: 0px 1px 2px rgba(60, 64, 67, 0.3), 0px 1px 3px 1px rgba(60, 64, 67, 0.15);\n",
              "      fill: #174EA6;\n",
              "    }\n",
              "\n",
              "    .colab-df-buttons div {\n",
              "      margin-bottom: 4px;\n",
              "    }\n",
              "\n",
              "    [theme=dark] .colab-df-convert {\n",
              "      background-color: #3B4455;\n",
              "      fill: #D2E3FC;\n",
              "    }\n",
              "\n",
              "    [theme=dark] .colab-df-convert:hover {\n",
              "      background-color: #434B5C;\n",
              "      box-shadow: 0px 1px 3px 1px rgba(0, 0, 0, 0.15);\n",
              "      filter: drop-shadow(0px 1px 2px rgba(0, 0, 0, 0.3));\n",
              "      fill: #FFFFFF;\n",
              "    }\n",
              "  </style>\n",
              "\n",
              "    <script>\n",
              "      const buttonEl =\n",
              "        document.querySelector('#df-3d642863-fa9f-4689-a1a7-595dbf43c4e2 button.colab-df-convert');\n",
              "      buttonEl.style.display =\n",
              "        google.colab.kernel.accessAllowed ? 'block' : 'none';\n",
              "\n",
              "      async function convertToInteractive(key) {\n",
              "        const element = document.querySelector('#df-3d642863-fa9f-4689-a1a7-595dbf43c4e2');\n",
              "        const dataTable =\n",
              "          await google.colab.kernel.invokeFunction('convertToInteractive',\n",
              "                                                    [key], {});\n",
              "        if (!dataTable) return;\n",
              "\n",
              "        const docLinkHtml = 'Like what you see? Visit the ' +\n",
              "          '<a target=\"_blank\" href=https://colab.research.google.com/notebooks/data_table.ipynb>data table notebook</a>'\n",
              "          + ' to learn more about interactive tables.';\n",
              "        element.innerHTML = '';\n",
              "        dataTable['output_type'] = 'display_data';\n",
              "        await google.colab.output.renderOutput(dataTable, element);\n",
              "        const docLink = document.createElement('div');\n",
              "        docLink.innerHTML = docLinkHtml;\n",
              "        element.appendChild(docLink);\n",
              "      }\n",
              "    </script>\n",
              "  </div>\n",
              "\n",
              "\n",
              "<div id=\"df-6f7f0ee9-5741-44d4-bec5-feb2e8d4fb3f\">\n",
              "  <button class=\"colab-df-quickchart\" onclick=\"quickchart('df-6f7f0ee9-5741-44d4-bec5-feb2e8d4fb3f')\"\n",
              "            title=\"Suggest charts.\"\n",
              "            style=\"display:none;\">\n",
              "\n",
              "<svg xmlns=\"http://www.w3.org/2000/svg\" height=\"24px\"viewBox=\"0 0 24 24\"\n",
              "     width=\"24px\">\n",
              "    <g>\n",
              "        <path d=\"M19 3H5c-1.1 0-2 .9-2 2v14c0 1.1.9 2 2 2h14c1.1 0 2-.9 2-2V5c0-1.1-.9-2-2-2zM9 17H7v-7h2v7zm4 0h-2V7h2v10zm4 0h-2v-4h2v4z\"/>\n",
              "    </g>\n",
              "</svg>\n",
              "  </button>\n",
              "\n",
              "<style>\n",
              "  .colab-df-quickchart {\n",
              "    background-color: #E8F0FE;\n",
              "    border: none;\n",
              "    border-radius: 50%;\n",
              "    cursor: pointer;\n",
              "    display: none;\n",
              "    fill: #1967D2;\n",
              "    height: 32px;\n",
              "    padding: 0 0 0 0;\n",
              "    width: 32px;\n",
              "  }\n",
              "\n",
              "  .colab-df-quickchart:hover {\n",
              "    background-color: #E2EBFA;\n",
              "    box-shadow: 0px 1px 2px rgba(60, 64, 67, 0.3), 0px 1px 3px 1px rgba(60, 64, 67, 0.15);\n",
              "    fill: #174EA6;\n",
              "  }\n",
              "\n",
              "  [theme=dark] .colab-df-quickchart {\n",
              "    background-color: #3B4455;\n",
              "    fill: #D2E3FC;\n",
              "  }\n",
              "\n",
              "  [theme=dark] .colab-df-quickchart:hover {\n",
              "    background-color: #434B5C;\n",
              "    box-shadow: 0px 1px 3px 1px rgba(0, 0, 0, 0.15);\n",
              "    filter: drop-shadow(0px 1px 2px rgba(0, 0, 0, 0.3));\n",
              "    fill: #FFFFFF;\n",
              "  }\n",
              "</style>\n",
              "\n",
              "  <script>\n",
              "    async function quickchart(key) {\n",
              "      const charts = await google.colab.kernel.invokeFunction(\n",
              "          'suggestCharts', [key], {});\n",
              "    }\n",
              "    (() => {\n",
              "      let quickchartButtonEl =\n",
              "        document.querySelector('#df-6f7f0ee9-5741-44d4-bec5-feb2e8d4fb3f button');\n",
              "      quickchartButtonEl.style.display =\n",
              "        google.colab.kernel.accessAllowed ? 'block' : 'none';\n",
              "    })();\n",
              "  </script>\n",
              "</div>\n",
              "    </div>\n",
              "  </div>\n"
            ]
          },
          "metadata": {},
          "execution_count": 6
        }
      ]
    },
    {
      "cell_type": "code",
      "source": [
        "# optimal m and b for testing\n",
        "ms_best = 200\n",
        "bs_best = 100"
      ],
      "metadata": {
        "id": "7ln7TtlbfbzV"
      },
      "execution_count": null,
      "outputs": []
    },
    {
      "cell_type": "markdown",
      "source": [
        "## Using `sympy` Matrices to train the model\n",
        "\n",
        "`X_train` is represented by the matrix $\\mathbf{X}$\n",
        "\n",
        "$$\n",
        "\\mathbf{X} = \\begin{bmatrix}\n",
        "x_{11} & x_{12} & x_{13} & x_{14}\\\\\n",
        "x_{21} & x_{22} & x_{23} & x_{24}\\\\\n",
        "x_{31} & x_{32} & x_{33} & x_{34}\\\\\n",
        "\\end{bmatrix}\n",
        "$$\n",
        "\n",
        "`y_train` is represented by the column matrix $\\mathbf{y}$.\n",
        "\n",
        "$$\n",
        "\\mathbf{y} = \\begin{bmatrix}y_1\\\\y_2\\\\y_3\\end{bmatrix}\n",
        "$$\n",
        "\n",
        "The weights of the model are represented by the matrix $\\mathbf{w}$ the bias is represented by the scalar $b$.\n",
        "\n",
        "$$\n",
        "\\mathbf{w} = \\begin{bmatrix}w_1\\\\w_2\\\\w_3\\\\w_4\\end{bmatrix}\n",
        "$$\n",
        "\n",
        "The goal of linear regression is to find the values for $\\mathbf{w}$ and $b$ that minimize the cost.\n",
        "\n",
        "$$\n",
        "\\begin{align}\n",
        "\\mathbf{X}\\mathbf{w} + b &= \\mathbf{y} \\\\\n",
        "\\begin{bmatrix}\n",
        "x_{11} & x_{12} & x_{13} & x_{14}\\\\\n",
        "x_{21} & x_{22} & x_{23} & x_{24}\\\\\n",
        "x_{31} & x_{32} & x_{33} & x_{34}\\\\\n",
        "\\end{bmatrix}\n",
        "\\begin{bmatrix}w_1\\\\w_2\\\\w_3\\\\w_4\\end{bmatrix} +\n",
        "b\\begin{bmatrix}1\\\\1\\\\1\\end{bmatrix} &= \\begin{bmatrix}y_1\\\\y_2\\\\y_3\\end{bmatrix} \\\\\n",
        "\\begin{bmatrix}\n",
        "w_1x_{11} + w_2x_{12} + w_3x_{13} + w_4x_{14} + b\\\\\n",
        "w_1x_{21} + w_2x_{22} + w_3x_{23} + w_4x_{24} + b\\\\\n",
        "w_1x_{31} + w_2x_{32} + w_3x_{33} + w_4x_{34} + b\n",
        "\\end{bmatrix} &= \\begin{bmatrix}y_1\\\\y_2\\\\y_3\\end{bmatrix}\n",
        "\\end{align}\n",
        "$$\n",
        "\n"
      ],
      "metadata": {
        "id": "NcoA8CNqcy6W"
      }
    },
    {
      "cell_type": "code",
      "source": [
        "X = sym.Matrix(data.drop('target', axis=1))\n",
        "y = sym.Matrix(data['target'])\n",
        "w = sym.Matrix([w1, w2, w3, w4])\n",
        "\n",
        "X @ w + b * sym.Matrix([1, 1, 1])"
      ],
      "metadata": {
        "colab": {
          "base_uri": "https://localhost:8080/",
          "height": 78
        },
        "id": "UNSKDGpTrGkG",
        "outputId": "484505ad-8a39-40d9-d626-71e9e7e83558"
      },
      "execution_count": null,
      "outputs": [
        {
          "output_type": "execute_result",
          "data": {
            "text/plain": [
              "Matrix([\n",
              "[b + w_1*x_{11} + w_2*x_{12} + w_3*x_{13} + w_4*x_{14}],\n",
              "[b + w_1*x_{21} + w_2*x_{22} + w_3*x_{23} + w_4*x_{24}],\n",
              "[b + w_1*x_{31} + w_2*x_{32} + w_3*x_{33} + w_4*x_{34}]])"
            ],
            "text/latex": "$\\displaystyle \\left[\\begin{matrix}b + w_{1} x_{11} + w_{2} x_{12} + w_{3} x_{13} + w_{4} x_{14}\\\\b + w_{1} x_{21} + w_{2} x_{22} + w_{3} x_{23} + w_{4} x_{24}\\\\b + w_{1} x_{31} + w_{2} x_{32} + w_{3} x_{33} + w_{4} x_{34}\\end{matrix}\\right]$"
          },
          "metadata": {},
          "execution_count": 8
        }
      ]
    },
    {
      "cell_type": "code",
      "source": [
        "y"
      ],
      "metadata": {
        "colab": {
          "base_uri": "https://localhost:8080/",
          "height": 78
        },
        "id": "dIaPj2qCwppI",
        "outputId": "d3acae45-4a33-4369-b680-bc01466d09b5"
      },
      "execution_count": null,
      "outputs": [
        {
          "output_type": "execute_result",
          "data": {
            "text/plain": [
              "Matrix([\n",
              "[y_1],\n",
              "[y_2],\n",
              "[y_3]])"
            ],
            "text/latex": "$\\displaystyle \\left[\\begin{matrix}y_{1}\\\\y_{2}\\\\y_{3}\\end{matrix}\\right]$"
          },
          "metadata": {},
          "execution_count": 9
        }
      ]
    },
    {
      "cell_type": "code",
      "source": [
        "# dataset with numbers\n",
        "Xn = sym.Matrix(data_num.drop('target', axis=1))\n",
        "yn = sym.Matrix(data_num['target'])"
      ],
      "metadata": {
        "id": "oztx7qQfI3_1"
      },
      "execution_count": null,
      "outputs": []
    },
    {
      "cell_type": "code",
      "source": [
        "# dataset for simple linear regression\n",
        "Xs = sym.Matrix(data_simple.drop('target', axis=1))\n",
        "ys = sym.Matrix(data_simple['target'])"
      ],
      "metadata": {
        "id": "8Qyz7dhsJVLt"
      },
      "execution_count": null,
      "outputs": []
    },
    {
      "cell_type": "markdown",
      "source": [
        "## The Model Prediction\n",
        "\n",
        "$$\n",
        "f_{\\mathbf{w},b}(\\mathbf{x}^{(i)}) = \\mathbf{w}\\cdot\\mathbf{x}^{(i)} + b\n",
        "$$\n",
        "\n",
        "where\n",
        "\n",
        "- $\\mathbf{x}$ is a vector representing the $i^{th}$ row of $\\mathbf{X}$\n",
        "- $\\mathbf{w}$ is vector containing the weights of the model\n",
        "- $b$ is a scalar representing the bias"
      ],
      "metadata": {
        "id": "EhK4E_wpeQNm"
      }
    },
    {
      "cell_type": "code",
      "source": [
        "# `X * w` is used instead of `X @ w`\n",
        "#   so that the function also works\n",
        "#   for simple linear regression\n",
        "def f_wb(X, w, b):\n",
        "    m = X.shape[0]\n",
        "    pred = X * w + b * sym.ones(m, 1)\n",
        "    return pred"
      ],
      "metadata": {
        "id": "iJO3dQp2zsEL"
      },
      "execution_count": null,
      "outputs": []
    },
    {
      "cell_type": "code",
      "source": [
        "# works with a single row\n",
        "f_wb(X[0,:], w, b)"
      ],
      "metadata": {
        "colab": {
          "base_uri": "https://localhost:8080/",
          "height": 39
        },
        "id": "mB8nxlVD0aP6",
        "outputId": "e8881104-465b-4ba5-eb7e-95f23eca25f5"
      },
      "execution_count": null,
      "outputs": [
        {
          "output_type": "execute_result",
          "data": {
            "text/plain": [
              "Matrix([[b + w_1*x_{11} + w_2*x_{12} + w_3*x_{13} + w_4*x_{14}]])"
            ],
            "text/latex": "$\\displaystyle \\left[\\begin{matrix}b + w_{1} x_{11} + w_{2} x_{12} + w_{3} x_{13} + w_{4} x_{14}\\end{matrix}\\right]$"
          },
          "metadata": {},
          "execution_count": 13
        }
      ]
    },
    {
      "cell_type": "code",
      "source": [
        "f_wb(Xn[0,:], w, b)"
      ],
      "metadata": {
        "colab": {
          "base_uri": "https://localhost:8080/",
          "height": 39
        },
        "id": "5pvMiaS7KBt_",
        "outputId": "e7bfc622-7137-406a-bf0e-d98032963212"
      },
      "execution_count": null,
      "outputs": [
        {
          "output_type": "execute_result",
          "data": {
            "text/plain": [
              "Matrix([[b + 2104*w_1 + 5*w_2 + w_3 + 45*w_4]])"
            ],
            "text/latex": "$\\displaystyle \\left[\\begin{matrix}b + 2104 w_{1} + 5 w_{2} + w_{3} + 45 w_{4}\\end{matrix}\\right]$"
          },
          "metadata": {},
          "execution_count": 14
        }
      ]
    },
    {
      "cell_type": "code",
      "source": [
        "# works with multiple rows\n",
        "f_wb(X, w, b)"
      ],
      "metadata": {
        "colab": {
          "base_uri": "https://localhost:8080/",
          "height": 78
        },
        "id": "ai3Qhu3p0zSG",
        "outputId": "6543165c-5b59-4dc3-aa75-81dbfb35cd38"
      },
      "execution_count": null,
      "outputs": [
        {
          "output_type": "execute_result",
          "data": {
            "text/plain": [
              "Matrix([\n",
              "[b + w_1*x_{11} + w_2*x_{12} + w_3*x_{13} + w_4*x_{14}],\n",
              "[b + w_1*x_{21} + w_2*x_{22} + w_3*x_{23} + w_4*x_{24}],\n",
              "[b + w_1*x_{31} + w_2*x_{32} + w_3*x_{33} + w_4*x_{34}]])"
            ],
            "text/latex": "$\\displaystyle \\left[\\begin{matrix}b + w_{1} x_{11} + w_{2} x_{12} + w_{3} x_{13} + w_{4} x_{14}\\\\b + w_{1} x_{21} + w_{2} x_{22} + w_{3} x_{23} + w_{4} x_{24}\\\\b + w_{1} x_{31} + w_{2} x_{32} + w_{3} x_{33} + w_{4} x_{34}\\end{matrix}\\right]$"
          },
          "metadata": {},
          "execution_count": 15
        }
      ]
    },
    {
      "cell_type": "code",
      "source": [
        "f_wb(Xn, w, b)"
      ],
      "metadata": {
        "colab": {
          "base_uri": "https://localhost:8080/",
          "height": 78
        },
        "id": "3mMkr6tJKOXr",
        "outputId": "134f65ce-678e-4fc4-adee-02e2afd17dd8"
      },
      "execution_count": null,
      "outputs": [
        {
          "output_type": "execute_result",
          "data": {
            "text/plain": [
              "Matrix([\n",
              "[  b + 2104*w_1 + 5*w_2 + w_3 + 45*w_4],\n",
              "[b + 1416*w_1 + 3*w_2 + 2*w_3 + 40*w_4],\n",
              "[   b + 852*w_1 + 2*w_2 + w_3 + 35*w_4]])"
            ],
            "text/latex": "$\\displaystyle \\left[\\begin{matrix}b + 2104 w_{1} + 5 w_{2} + w_{3} + 45 w_{4}\\\\b + 1416 w_{1} + 3 w_{2} + 2 w_{3} + 40 w_{4}\\\\b + 852 w_{1} + 2 w_{2} + w_{3} + 35 w_{4}\\end{matrix}\\right]$"
          },
          "metadata": {},
          "execution_count": 16
        }
      ]
    },
    {
      "cell_type": "code",
      "source": [
        "# works with simple linear regression\n",
        "f_wb(X[:,0], m1, b)"
      ],
      "metadata": {
        "colab": {
          "base_uri": "https://localhost:8080/",
          "height": 78
        },
        "id": "hSw1W0C-2IxT",
        "outputId": "f6a9977b-6aaa-49d2-a0a2-4dfbe5356ab5"
      },
      "execution_count": null,
      "outputs": [
        {
          "output_type": "execute_result",
          "data": {
            "text/plain": [
              "Matrix([\n",
              "[b + m_1*x_{11}],\n",
              "[b + m_1*x_{21}],\n",
              "[b + m_1*x_{31}]])"
            ],
            "text/latex": "$\\displaystyle \\left[\\begin{matrix}b + m_{1} x_{11}\\\\b + m_{1} x_{21}\\\\b + m_{1} x_{31}\\end{matrix}\\right]$"
          },
          "metadata": {},
          "execution_count": 17
        }
      ]
    },
    {
      "cell_type": "code",
      "source": [
        "f_wb(Xs, m1, b)"
      ],
      "metadata": {
        "colab": {
          "base_uri": "https://localhost:8080/",
          "height": 58
        },
        "id": "aqNG3DBaKUso",
        "outputId": "b6d80c8d-f7c5-45c3-9c48-ad9c45566918"
      },
      "execution_count": null,
      "outputs": [
        {
          "output_type": "execute_result",
          "data": {
            "text/plain": [
              "Matrix([\n",
              "[  b + m_1],\n",
              "[b + 2*m_1]])"
            ],
            "text/latex": "$\\displaystyle \\left[\\begin{matrix}b + m_{1}\\\\b + 2 m_{1}\\end{matrix}\\right]$"
          },
          "metadata": {},
          "execution_count": 18
        }
      ]
    },
    {
      "cell_type": "markdown",
      "source": [
        "## The Cost Function\n",
        "\n",
        "$$\n",
        "J(\\mathbf{w},b) = \\frac{1}{2m} \\sum\\limits_{i = 0}^{m-1} (f_{\\mathbf{w},b}(\\mathbf{x}^{(i)}) - y^{(i)})^2\n",
        "$$"
      ],
      "metadata": {
        "id": "PFJC7S4A5WLP"
      }
    },
    {
      "cell_type": "code",
      "source": [
        "def compute_cost_loop(X, y, w, b):\n",
        "    m = X.shape[0]\n",
        "    cost = sym.Matrix([0.0])\n",
        "\n",
        "    for i in range(m):\n",
        "        f_wb_i = f_wb(X[i,:], w, b)\n",
        "        cost = cost + (f_wb_i - sym.Matrix([y[i]])).applyfunc(lambda x: x**2)\n",
        "    cost = cost / (2 * m)\n",
        "    return cost[0]"
      ],
      "metadata": {
        "id": "YDXjp9Ld9Gjh"
      },
      "execution_count": null,
      "outputs": []
    },
    {
      "cell_type": "code",
      "source": [
        "# works for multiple linear regression\n",
        "compute_cost_loop(X, y, w, b)"
      ],
      "metadata": {
        "colab": {
          "base_uri": "https://localhost:8080/",
          "height": 56
        },
        "id": "NO-7EWGTCGO7",
        "outputId": "c3182088-f927-448e-8e27-42a8a4d0d08f"
      },
      "execution_count": null,
      "outputs": [
        {
          "output_type": "execute_result",
          "data": {
            "text/plain": [
              "(b + w_1*x_{11} + w_2*x_{12} + w_3*x_{13} + w_4*x_{14} - y_1)**2/6 + (b + w_1*x_{21} + w_2*x_{22} + w_3*x_{23} + w_4*x_{24} - y_2)**2/6 + (b + w_1*x_{31} + w_2*x_{32} + w_3*x_{33} + w_4*x_{34} - y_3)**2/6"
            ],
            "text/latex": "$\\displaystyle \\frac{\\left(b + w_{1} x_{11} + w_{2} x_{12} + w_{3} x_{13} + w_{4} x_{14} - y_{1}\\right)^{2}}{6} + \\frac{\\left(b + w_{1} x_{21} + w_{2} x_{22} + w_{3} x_{23} + w_{4} x_{24} - y_{2}\\right)^{2}}{6} + \\frac{\\left(b + w_{1} x_{31} + w_{2} x_{32} + w_{3} x_{33} + w_{4} x_{34} - y_{3}\\right)^{2}}{6}$"
          },
          "metadata": {},
          "execution_count": 20
        }
      ]
    },
    {
      "cell_type": "code",
      "source": [
        "compute_cost_loop(Xn, yn, w, b)"
      ],
      "metadata": {
        "colab": {
          "base_uri": "https://localhost:8080/",
          "height": 56
        },
        "id": "x9mRClYeTqys",
        "outputId": "312998b6-7d62-446c-88cf-939c06f8a2c1"
      },
      "execution_count": null,
      "outputs": [
        {
          "output_type": "execute_result",
          "data": {
            "text/plain": [
              "(b + 852*w_1 + 2*w_2 + w_3 + 35*w_4 - 178)**2/6 + (b + 1416*w_1 + 3*w_2 + 2*w_3 + 40*w_4 - 232)**2/6 + (b + 2104*w_1 + 5*w_2 + w_3 + 45*w_4 - 460)**2/6"
            ],
            "text/latex": "$\\displaystyle \\frac{\\left(b + 852 w_{1} + 2 w_{2} + w_{3} + 35 w_{4} - 178\\right)^{2}}{6} + \\frac{\\left(b + 1416 w_{1} + 3 w_{2} + 2 w_{3} + 40 w_{4} - 232\\right)^{2}}{6} + \\frac{\\left(b + 2104 w_{1} + 5 w_{2} + w_{3} + 45 w_{4} - 460\\right)^{2}}{6}$"
          },
          "metadata": {},
          "execution_count": 21
        }
      ]
    },
    {
      "cell_type": "code",
      "source": [
        "# works for simple linear regression\n",
        "compute_cost_loop(X[:,0], y, m1, b)"
      ],
      "metadata": {
        "colab": {
          "base_uri": "https://localhost:8080/",
          "height": 56
        },
        "id": "DoB8hw0eCLCs",
        "outputId": "edfcd65d-a61e-429e-8a86-95bbb1934c45"
      },
      "execution_count": null,
      "outputs": [
        {
          "output_type": "execute_result",
          "data": {
            "text/plain": [
              "(b + m_1*x_{11} - y_1)**2/6 + (b + m_1*x_{21} - y_2)**2/6 + (b + m_1*x_{31} - y_3)**2/6"
            ],
            "text/latex": "$\\displaystyle \\frac{\\left(b + m_{1} x_{11} - y_{1}\\right)^{2}}{6} + \\frac{\\left(b + m_{1} x_{21} - y_{2}\\right)^{2}}{6} + \\frac{\\left(b + m_{1} x_{31} - y_{3}\\right)^{2}}{6}$"
          },
          "metadata": {},
          "execution_count": 22
        }
      ]
    },
    {
      "cell_type": "code",
      "source": [
        "compute_cost_loop(Xs, ys, m1, b)"
      ],
      "metadata": {
        "colab": {
          "base_uri": "https://localhost:8080/",
          "height": 56
        },
        "id": "l5ymtKDQTuLi",
        "outputId": "d98e5bd6-b30e-4ceb-ef2a-b48252cb1ed2"
      },
      "execution_count": null,
      "outputs": [
        {
          "output_type": "execute_result",
          "data": {
            "text/plain": [
              "(b + m_1 - 300)**2/4 + (b + 2*m_1 - 500)**2/4"
            ],
            "text/latex": "$\\displaystyle \\frac{\\left(b + m_{1} - 300\\right)^{2}}{4} + \\frac{\\left(b + 2 m_{1} - 500\\right)^{2}}{4}$"
          },
          "metadata": {},
          "execution_count": 23
        }
      ]
    },
    {
      "cell_type": "markdown",
      "source": [
        "This can also be implemented without the loop."
      ],
      "metadata": {
        "id": "Gb15C2bjB2xR"
      }
    },
    {
      "cell_type": "code",
      "source": [
        "def compute_cost(X, y, w, b):\n",
        "    m = X.shape[0]\n",
        "    pred = f_wb(X, w, b)\n",
        "    cost = sum((pred - y).applyfunc(lambda x: x**2)) / (2 * m)\n",
        "    return cost"
      ],
      "metadata": {
        "id": "bbaffmLlFWXp"
      },
      "execution_count": null,
      "outputs": []
    },
    {
      "cell_type": "code",
      "source": [
        "# works for mulitiple linear regression\n",
        "compute_cost(X, y, w, b)"
      ],
      "metadata": {
        "colab": {
          "base_uri": "https://localhost:8080/",
          "height": 56
        },
        "id": "NjmvpYK2MSu3",
        "outputId": "8a933164-8ad2-4f54-fbfd-b8f48c8e0949"
      },
      "execution_count": null,
      "outputs": [
        {
          "output_type": "execute_result",
          "data": {
            "text/plain": [
              "(b + w_1*x_{11} + w_2*x_{12} + w_3*x_{13} + w_4*x_{14} - y_1)**2/6 + (b + w_1*x_{21} + w_2*x_{22} + w_3*x_{23} + w_4*x_{24} - y_2)**2/6 + (b + w_1*x_{31} + w_2*x_{32} + w_3*x_{33} + w_4*x_{34} - y_3)**2/6"
            ],
            "text/latex": "$\\displaystyle \\frac{\\left(b + w_{1} x_{11} + w_{2} x_{12} + w_{3} x_{13} + w_{4} x_{14} - y_{1}\\right)^{2}}{6} + \\frac{\\left(b + w_{1} x_{21} + w_{2} x_{22} + w_{3} x_{23} + w_{4} x_{24} - y_{2}\\right)^{2}}{6} + \\frac{\\left(b + w_{1} x_{31} + w_{2} x_{32} + w_{3} x_{33} + w_{4} x_{34} - y_{3}\\right)^{2}}{6}$"
          },
          "metadata": {},
          "execution_count": 25
        }
      ]
    },
    {
      "cell_type": "code",
      "source": [
        "compute_cost(Xn, yn, w, b)"
      ],
      "metadata": {
        "colab": {
          "base_uri": "https://localhost:8080/",
          "height": 56
        },
        "id": "F1ozyo3XMoM8",
        "outputId": "5ae29ba4-6c0c-456e-fed1-036c5aa935d1"
      },
      "execution_count": null,
      "outputs": [
        {
          "output_type": "execute_result",
          "data": {
            "text/plain": [
              "(b + 852*w_1 + 2*w_2 + w_3 + 35*w_4 - 178)**2/6 + (b + 1416*w_1 + 3*w_2 + 2*w_3 + 40*w_4 - 232)**2/6 + (b + 2104*w_1 + 5*w_2 + w_3 + 45*w_4 - 460)**2/6"
            ],
            "text/latex": "$\\displaystyle \\frac{\\left(b + 852 w_{1} + 2 w_{2} + w_{3} + 35 w_{4} - 178\\right)^{2}}{6} + \\frac{\\left(b + 1416 w_{1} + 3 w_{2} + 2 w_{3} + 40 w_{4} - 232\\right)^{2}}{6} + \\frac{\\left(b + 2104 w_{1} + 5 w_{2} + w_{3} + 45 w_{4} - 460\\right)^{2}}{6}$"
          },
          "metadata": {},
          "execution_count": 26
        }
      ]
    },
    {
      "cell_type": "code",
      "source": [
        "# test with optimal parameters\n",
        "compute_cost(Xn, yn, wn_best, bn_best)"
      ],
      "metadata": {
        "colab": {
          "base_uri": "https://localhost:8080/",
          "height": 37
        },
        "id": "7sz_LMr_f42d",
        "outputId": "7966f8c7-c588-430b-83cb-23f923497272"
      },
      "execution_count": null,
      "outputs": [
        {
          "output_type": "execute_result",
          "data": {
            "text/plain": [
              "1.55789044289666e-12"
            ],
            "text/latex": "$\\displaystyle 1.55789044289666 \\cdot 10^{-12}$"
          },
          "metadata": {},
          "execution_count": 27
        }
      ]
    },
    {
      "cell_type": "code",
      "source": [
        "# works for simple linear regression\n",
        "compute_cost(X[:,0], y, m1, b)"
      ],
      "metadata": {
        "colab": {
          "base_uri": "https://localhost:8080/",
          "height": 56
        },
        "id": "nXkxaP1qMsEb",
        "outputId": "a405ec3e-9812-4845-d5b0-c028fe547586"
      },
      "execution_count": null,
      "outputs": [
        {
          "output_type": "execute_result",
          "data": {
            "text/plain": [
              "(b + m_1*x_{11} - y_1)**2/6 + (b + m_1*x_{21} - y_2)**2/6 + (b + m_1*x_{31} - y_3)**2/6"
            ],
            "text/latex": "$\\displaystyle \\frac{\\left(b + m_{1} x_{11} - y_{1}\\right)^{2}}{6} + \\frac{\\left(b + m_{1} x_{21} - y_{2}\\right)^{2}}{6} + \\frac{\\left(b + m_{1} x_{31} - y_{3}\\right)^{2}}{6}$"
          },
          "metadata": {},
          "execution_count": 28
        }
      ]
    },
    {
      "cell_type": "code",
      "source": [
        "compute_cost(Xs, ys, m1, b)"
      ],
      "metadata": {
        "colab": {
          "base_uri": "https://localhost:8080/",
          "height": 56
        },
        "id": "BdUZKO3LNLir",
        "outputId": "16e9fdb2-c802-4cbd-e192-02e0632dd287"
      },
      "execution_count": null,
      "outputs": [
        {
          "output_type": "execute_result",
          "data": {
            "text/plain": [
              "(b + m_1 - 300)**2/4 + (b + 2*m_1 - 500)**2/4"
            ],
            "text/latex": "$\\displaystyle \\frac{\\left(b + m_{1} - 300\\right)^{2}}{4} + \\frac{\\left(b + 2 m_{1} - 500\\right)^{2}}{4}$"
          },
          "metadata": {},
          "execution_count": 29
        }
      ]
    },
    {
      "cell_type": "code",
      "source": [
        "# test with optimal parameters\n",
        "compute_cost(Xs, ys, ms_best, bs_best)"
      ],
      "metadata": {
        "colab": {
          "base_uri": "https://localhost:8080/",
          "height": 37
        },
        "id": "8rUjdG6xgaDE",
        "outputId": "3ac54631-54ef-4850-c0e5-0d2d8b67d5d6"
      },
      "execution_count": null,
      "outputs": [
        {
          "output_type": "execute_result",
          "data": {
            "text/plain": [
              "0"
            ],
            "text/latex": "$\\displaystyle 0$"
          },
          "metadata": {},
          "execution_count": 30
        }
      ]
    },
    {
      "cell_type": "markdown",
      "source": [
        "### Speed Comparison of `compute_cost_loop` and `compute_cost`"
      ],
      "metadata": {
        "id": "pIrj96IGUQuM"
      }
    },
    {
      "cell_type": "markdown",
      "source": [
        "#### `compute_cost_loop`"
      ],
      "metadata": {
        "id": "kbxcUZ2jiIxd"
      }
    },
    {
      "cell_type": "code",
      "source": [
        "%%timeit -r7 -n1000\n",
        "compute_cost_loop(X, y, w, b)"
      ],
      "metadata": {
        "colab": {
          "base_uri": "https://localhost:8080/"
        },
        "id": "J6rXcF51UZTW",
        "outputId": "f7c0aff8-5342-4da2-8d43-4a0e682d5593"
      },
      "execution_count": null,
      "outputs": [
        {
          "output_type": "stream",
          "name": "stdout",
          "text": [
            "2.41 ms ± 995 µs per loop (mean ± std. dev. of 7 runs, 1000 loops each)\n"
          ]
        }
      ]
    },
    {
      "cell_type": "code",
      "source": [
        "%%timeit -r7 -n1000\n",
        "compute_cost_loop(Xn, yn, w, b)"
      ],
      "metadata": {
        "colab": {
          "base_uri": "https://localhost:8080/"
        },
        "id": "seOdn0XOhSPY",
        "outputId": "082781d7-b3e4-46b3-daa7-946fd8f653db"
      },
      "execution_count": null,
      "outputs": [
        {
          "output_type": "stream",
          "name": "stdout",
          "text": [
            "1.51 ms ± 303 µs per loop (mean ± std. dev. of 7 runs, 1000 loops each)\n"
          ]
        }
      ]
    },
    {
      "cell_type": "code",
      "source": [
        "%%timeit -r7 -n1000\n",
        "compute_cost_loop(Xn, yn, wn_best, bn_best)"
      ],
      "metadata": {
        "colab": {
          "base_uri": "https://localhost:8080/"
        },
        "id": "g-cPJWpKh8GK",
        "outputId": "bdd97166-b915-44f9-8f07-e6e443332125"
      },
      "execution_count": null,
      "outputs": [
        {
          "output_type": "stream",
          "name": "stdout",
          "text": [
            "1.93 ms ± 316 µs per loop (mean ± std. dev. of 7 runs, 1000 loops each)\n"
          ]
        }
      ]
    },
    {
      "cell_type": "code",
      "source": [
        "%%timeit -r7 -n1000\n",
        "compute_cost_loop(Xs, ys, ms_best, bs_best)"
      ],
      "metadata": {
        "colab": {
          "base_uri": "https://localhost:8080/"
        },
        "id": "PG-nJukJizUY",
        "outputId": "a656ff19-85d5-415d-a13e-651fd544abc5"
      },
      "execution_count": null,
      "outputs": [
        {
          "output_type": "stream",
          "name": "stdout",
          "text": [
            "694 µs ± 13.7 µs per loop (mean ± std. dev. of 7 runs, 1000 loops each)\n"
          ]
        }
      ]
    },
    {
      "cell_type": "markdown",
      "source": [
        "#### `compute_cost`"
      ],
      "metadata": {
        "id": "MdMFJXqMiOZK"
      }
    },
    {
      "cell_type": "code",
      "source": [
        "%%timeit -r7 -n1000\n",
        "compute_cost(X, y, w, b)"
      ],
      "metadata": {
        "colab": {
          "base_uri": "https://localhost:8080/"
        },
        "id": "Aky6c4-4VAbn",
        "outputId": "48bc7195-f544-48bc-bd53-b7481b557c23"
      },
      "execution_count": null,
      "outputs": [
        {
          "output_type": "stream",
          "name": "stdout",
          "text": [
            "464 µs ± 109 µs per loop (mean ± std. dev. of 7 runs, 1000 loops each)\n"
          ]
        }
      ]
    },
    {
      "cell_type": "code",
      "source": [
        "%%timeit -r7 -n1000\n",
        "compute_cost(Xn, yn, w, b)"
      ],
      "metadata": {
        "colab": {
          "base_uri": "https://localhost:8080/"
        },
        "id": "PcpGUh1OhihK",
        "outputId": "fed0f441-d147-4129-9436-6397b0ae055b"
      },
      "execution_count": null,
      "outputs": [
        {
          "output_type": "stream",
          "name": "stdout",
          "text": [
            "505 µs ± 139 µs per loop (mean ± std. dev. of 7 runs, 1000 loops each)\n"
          ]
        }
      ]
    },
    {
      "cell_type": "code",
      "source": [
        "%%timeit -r7 -n1000\n",
        "compute_cost(Xn, yn, wn_best, bn_best)"
      ],
      "metadata": {
        "colab": {
          "base_uri": "https://localhost:8080/"
        },
        "id": "zJ4uOLemiFIb",
        "outputId": "75d11b06-038d-4550-e667-55a42af0479b"
      },
      "execution_count": null,
      "outputs": [
        {
          "output_type": "stream",
          "name": "stdout",
          "text": [
            "732 µs ± 18.2 µs per loop (mean ± std. dev. of 7 runs, 1000 loops each)\n"
          ]
        }
      ]
    },
    {
      "cell_type": "code",
      "source": [
        "%%timeit -r7 -n1000\n",
        "compute_cost(Xs, ys, ms_best, bs_best)"
      ],
      "metadata": {
        "colab": {
          "base_uri": "https://localhost:8080/"
        },
        "id": "qUCZmHhDiszE",
        "outputId": "15919799-b9f2-4c4f-be24-5f0e7b4d413d"
      },
      "execution_count": null,
      "outputs": [
        {
          "output_type": "stream",
          "name": "stdout",
          "text": [
            "214 µs ± 8.68 µs per loop (mean ± std. dev. of 7 runs, 1000 loops each)\n"
          ]
        }
      ]
    },
    {
      "cell_type": "markdown",
      "source": [
        "## The Gradient\n",
        "\n",
        "$$\n",
        "\\begin{align}\n",
        "\\frac{\\partial J(\\mathbf{w},b)}{\\partial w_j}  &= \\frac{1}{m} \\sum\\limits_{i = 0}^{m-1} (f_{\\mathbf{w},b}(\\mathbf{x}^{(i)}) - y^{(i)})x_{j}^{(i)} \\\\\n",
        "\\frac{\\partial J(\\mathbf{w},b)}{\\partial b}  &= \\frac{1}{m} \\sum\\limits_{i = 0}^{m-1} (f_{\\mathbf{w},b}(\\mathbf{x}^{(i)}) - y^{(i)})\n",
        "\\end{align}\n",
        "$$"
      ],
      "metadata": {
        "id": "3WBtqHDRR53o"
      }
    },
    {
      "cell_type": "code",
      "source": [
        "def compute_gradient_loop(X, y, w, b):\n",
        "    m, n = X.shape\n",
        "\n",
        "    dj_dw = sym.zeros(n, 1)\n",
        "    dj_db = 0.0\n",
        "\n",
        "    for i in range(m):\n",
        "        err = f_wb(X[i,:], w, b)[0] - y[i]\n",
        "        for j in range(n):\n",
        "            dj_dw[j] = dj_dw[j] + (err * X[i, j])\n",
        "        dj_db = dj_db + err\n",
        "    dj_dw = dj_dw / m\n",
        "    dj_db = dj_db / m\n",
        "\n",
        "    return dj_db, dj_dw"
      ],
      "metadata": {
        "id": "DyH0wwJ_oPJM"
      },
      "execution_count": null,
      "outputs": []
    },
    {
      "cell_type": "code",
      "source": [
        "# works for mulitiple linear regression\n",
        "dj_db, dj_dw = compute_gradient_loop(X, y, w, b)\n",
        "display(dj_db.factor())\n",
        "display(dj_dw)"
      ],
      "metadata": {
        "colab": {
          "base_uri": "https://localhost:8080/",
          "height": 145
        },
        "id": "TFtzJZARrE3N",
        "outputId": "11391b79-83a1-432b-8be7-e60b1ceb23da"
      },
      "execution_count": null,
      "outputs": [
        {
          "output_type": "display_data",
          "data": {
            "text/plain": [
              "(3*b + w_1*x_{11} + w_1*x_{21} + w_1*x_{31} + w_2*x_{12} + w_2*x_{22} + w_2*x_{32} + w_3*x_{13} + w_3*x_{23} + w_3*x_{33} + w_4*x_{14} + w_4*x_{24} + w_4*x_{34} - y_1 - y_2 - y_3)/3"
            ],
            "text/latex": "$\\displaystyle \\frac{3 b + w_{1} x_{11} + w_{1} x_{21} + w_{1} x_{31} + w_{2} x_{12} + w_{2} x_{22} + w_{2} x_{32} + w_{3} x_{13} + w_{3} x_{23} + w_{3} x_{33} + w_{4} x_{14} + w_{4} x_{24} + w_{4} x_{34} - y_{1} - y_{2} - y_{3}}{3}$"
          },
          "metadata": {}
        },
        {
          "output_type": "display_data",
          "data": {
            "text/plain": [
              "Matrix([\n",
              "[x_{11}*(b + w_1*x_{11} + w_2*x_{12} + w_3*x_{13} + w_4*x_{14} - y_1)/3 + x_{21}*(b + w_1*x_{21} + w_2*x_{22} + w_3*x_{23} + w_4*x_{24} - y_2)/3 + x_{31}*(b + w_1*x_{31} + w_2*x_{32} + w_3*x_{33} + w_4*x_{34} - y_3)/3],\n",
              "[x_{12}*(b + w_1*x_{11} + w_2*x_{12} + w_3*x_{13} + w_4*x_{14} - y_1)/3 + x_{22}*(b + w_1*x_{21} + w_2*x_{22} + w_3*x_{23} + w_4*x_{24} - y_2)/3 + x_{32}*(b + w_1*x_{31} + w_2*x_{32} + w_3*x_{33} + w_4*x_{34} - y_3)/3],\n",
              "[x_{13}*(b + w_1*x_{11} + w_2*x_{12} + w_3*x_{13} + w_4*x_{14} - y_1)/3 + x_{23}*(b + w_1*x_{21} + w_2*x_{22} + w_3*x_{23} + w_4*x_{24} - y_2)/3 + x_{33}*(b + w_1*x_{31} + w_2*x_{32} + w_3*x_{33} + w_4*x_{34} - y_3)/3],\n",
              "[x_{14}*(b + w_1*x_{11} + w_2*x_{12} + w_3*x_{13} + w_4*x_{14} - y_1)/3 + x_{24}*(b + w_1*x_{21} + w_2*x_{22} + w_3*x_{23} + w_4*x_{24} - y_2)/3 + x_{34}*(b + w_1*x_{31} + w_2*x_{32} + w_3*x_{33} + w_4*x_{34} - y_3)/3]])"
            ],
            "text/latex": "$\\displaystyle \\left[\\begin{matrix}\\frac{x_{11} \\left(b + w_{1} x_{11} + w_{2} x_{12} + w_{3} x_{13} + w_{4} x_{14} - y_{1}\\right)}{3} + \\frac{x_{21} \\left(b + w_{1} x_{21} + w_{2} x_{22} + w_{3} x_{23} + w_{4} x_{24} - y_{2}\\right)}{3} + \\frac{x_{31} \\left(b + w_{1} x_{31} + w_{2} x_{32} + w_{3} x_{33} + w_{4} x_{34} - y_{3}\\right)}{3}\\\\\\frac{x_{12} \\left(b + w_{1} x_{11} + w_{2} x_{12} + w_{3} x_{13} + w_{4} x_{14} - y_{1}\\right)}{3} + \\frac{x_{22} \\left(b + w_{1} x_{21} + w_{2} x_{22} + w_{3} x_{23} + w_{4} x_{24} - y_{2}\\right)}{3} + \\frac{x_{32} \\left(b + w_{1} x_{31} + w_{2} x_{32} + w_{3} x_{33} + w_{4} x_{34} - y_{3}\\right)}{3}\\\\\\frac{x_{13} \\left(b + w_{1} x_{11} + w_{2} x_{12} + w_{3} x_{13} + w_{4} x_{14} - y_{1}\\right)}{3} + \\frac{x_{23} \\left(b + w_{1} x_{21} + w_{2} x_{22} + w_{3} x_{23} + w_{4} x_{24} - y_{2}\\right)}{3} + \\frac{x_{33} \\left(b + w_{1} x_{31} + w_{2} x_{32} + w_{3} x_{33} + w_{4} x_{34} - y_{3}\\right)}{3}\\\\\\frac{x_{14} \\left(b + w_{1} x_{11} + w_{2} x_{12} + w_{3} x_{13} + w_{4} x_{14} - y_{1}\\right)}{3} + \\frac{x_{24} \\left(b + w_{1} x_{21} + w_{2} x_{22} + w_{3} x_{23} + w_{4} x_{24} - y_{2}\\right)}{3} + \\frac{x_{34} \\left(b + w_{1} x_{31} + w_{2} x_{32} + w_{3} x_{33} + w_{4} x_{34} - y_{3}\\right)}{3}\\end{matrix}\\right]$"
          },
          "metadata": {}
        }
      ]
    },
    {
      "cell_type": "code",
      "source": [
        "dj_db, dj_dw = compute_gradient_loop(Xn, yn, w, b)\n",
        "display(dj_db.factor())\n",
        "display(dj_dw)"
      ],
      "metadata": {
        "colab": {
          "base_uri": "https://localhost:8080/",
          "height": 136
        },
        "id": "HNmLqivirKwr",
        "outputId": "7bfd5180-751e-4777-d925-22fbe3c8adf2"
      },
      "execution_count": null,
      "outputs": [
        {
          "output_type": "display_data",
          "data": {
            "text/plain": [
              "(3*b + 4372*w_1 + 10*w_2 + 4*w_3 + 120*w_4 - 870)/3"
            ],
            "text/latex": "$\\displaystyle \\frac{3 b + 4372 w_{1} + 10 w_{2} + 4 w_{3} + 120 w_{4} - 870}{3}$"
          },
          "metadata": {}
        },
        {
          "output_type": "display_data",
          "data": {
            "text/plain": [
              "Matrix([\n",
              "[4372*b/3 + 7157776*w_1/3 + 16472*w_2/3 + 5788*w_3/3 + 60380*w_4 - 1448008/3],\n",
              "[            10*b/3 + 16472*w_1/3 + 38*w_2/3 + 13*w_3/3 + 415*w_4/3 - 3352/3],\n",
              "[                 4*b/3 + 5788*w_1/3 + 13*w_2/3 + 2*w_3 + 160*w_4/3 - 1102/3],\n",
              "[              40*b + 60380*w_1 + 415*w_2/3 + 160*w_3/3 + 4850*w_4/3 - 12070]])"
            ],
            "text/latex": "$\\displaystyle \\left[\\begin{matrix}\\frac{4372 b}{3} + \\frac{7157776 w_{1}}{3} + \\frac{16472 w_{2}}{3} + \\frac{5788 w_{3}}{3} + 60380 w_{4} - \\frac{1448008}{3}\\\\\\frac{10 b}{3} + \\frac{16472 w_{1}}{3} + \\frac{38 w_{2}}{3} + \\frac{13 w_{3}}{3} + \\frac{415 w_{4}}{3} - \\frac{3352}{3}\\\\\\frac{4 b}{3} + \\frac{5788 w_{1}}{3} + \\frac{13 w_{2}}{3} + 2 w_{3} + \\frac{160 w_{4}}{3} - \\frac{1102}{3}\\\\40 b + 60380 w_{1} + \\frac{415 w_{2}}{3} + \\frac{160 w_{3}}{3} + \\frac{4850 w_{4}}{3} - 12070\\end{matrix}\\right]$"
          },
          "metadata": {}
        }
      ]
    },
    {
      "cell_type": "code",
      "source": [
        "# test with optimal parameters\n",
        "dj_db, dj_dw = compute_gradient_loop(Xn, yn, wn_best, bn_best)\n",
        "display(dj_db)\n",
        "display(dj_dw)"
      ],
      "metadata": {
        "colab": {
          "base_uri": "https://localhost:8080/",
          "height": 119
        },
        "id": "Rd9pJ4XzrSK1",
        "outputId": "920e3a27-a471-416c-fb9d-31c968b57da7"
      },
      "execution_count": null,
      "outputs": [
        {
          "output_type": "display_data",
          "data": {
            "text/plain": [
              "-1.67392515019552e-6"
            ],
            "text/latex": "$\\displaystyle -1.67392515019552 \\cdot 10^{-6}$"
          },
          "metadata": {}
        },
        {
          "output_type": "display_data",
          "data": {
            "text/plain": [
              "Matrix([\n",
              "[-0.00272623577196403],\n",
              "[-6.27197262777675e-6],\n",
              "[-2.21745578225333e-6],\n",
              "[-6.92403390682254e-5]])"
            ],
            "text/latex": "$\\displaystyle \\left[\\begin{matrix}-0.00272623577196403\\\\-6.27197262777675 \\cdot 10^{-6}\\\\-2.21745578225333 \\cdot 10^{-6}\\\\-6.92403390682254 \\cdot 10^{-5}\\end{matrix}\\right]$"
          },
          "metadata": {}
        }
      ]
    },
    {
      "cell_type": "code",
      "source": [
        "# works for simple linear regression\n",
        "dj_db, dj_dw = compute_gradient_loop(X[:,0], y, m1, b)\n",
        "display(dj_db.factor())\n",
        "display(dj_dw)"
      ],
      "metadata": {
        "colab": {
          "base_uri": "https://localhost:8080/",
          "height": 82
        },
        "id": "_QqosKDJrYnl",
        "outputId": "0a12510c-11f1-42d1-979a-7bf5b8b7cf7e"
      },
      "execution_count": null,
      "outputs": [
        {
          "output_type": "display_data",
          "data": {
            "text/plain": [
              "(3*b + m_1*x_{11} + m_1*x_{21} + m_1*x_{31} - y_1 - y_2 - y_3)/3"
            ],
            "text/latex": "$\\displaystyle \\frac{3 b + m_{1} x_{11} + m_{1} x_{21} + m_{1} x_{31} - y_{1} - y_{2} - y_{3}}{3}$"
          },
          "metadata": {}
        },
        {
          "output_type": "display_data",
          "data": {
            "text/plain": [
              "Matrix([[x_{11}*(b + m_1*x_{11} - y_1)/3 + x_{21}*(b + m_1*x_{21} - y_2)/3 + x_{31}*(b + m_1*x_{31} - y_3)/3]])"
            ],
            "text/latex": "$\\displaystyle \\left[\\begin{matrix}\\frac{x_{11} \\left(b + m_{1} x_{11} - y_{1}\\right)}{3} + \\frac{x_{21} \\left(b + m_{1} x_{21} - y_{2}\\right)}{3} + \\frac{x_{31} \\left(b + m_{1} x_{31} - y_{3}\\right)}{3}\\end{matrix}\\right]$"
          },
          "metadata": {}
        }
      ]
    },
    {
      "cell_type": "code",
      "source": [
        "dj_db, dj_dw = compute_gradient_loop(Xs, ys, m1, b)\n",
        "display(dj_db.factor())\n",
        "display(dj_dw)"
      ],
      "metadata": {
        "colab": {
          "base_uri": "https://localhost:8080/",
          "height": 74
        },
        "id": "7iMwng1JrhlB",
        "outputId": "c3c0abb0-6cec-4355-f802-e6f89aaeab43"
      },
      "execution_count": null,
      "outputs": [
        {
          "output_type": "display_data",
          "data": {
            "text/plain": [
              "(2*b + 3*m_1 - 800)/2"
            ],
            "text/latex": "$\\displaystyle \\frac{2 b + 3 m_{1} - 800}{2}$"
          },
          "metadata": {}
        },
        {
          "output_type": "display_data",
          "data": {
            "text/plain": [
              "Matrix([[3*b/2 + 5*m_1/2 - 650]])"
            ],
            "text/latex": "$\\displaystyle \\left[\\begin{matrix}\\frac{3 b}{2} + \\frac{5 m_{1}}{2} - 650\\end{matrix}\\right]$"
          },
          "metadata": {}
        }
      ]
    },
    {
      "cell_type": "code",
      "source": [
        "# test with optimal parameters\n",
        "dj_db, dj_dw = compute_gradient_loop(Xs, ys, ms_best, bs_best)\n",
        "display(dj_db)\n",
        "display(dj_dw)"
      ],
      "metadata": {
        "colab": {
          "base_uri": "https://localhost:8080/",
          "height": 59
        },
        "id": "VHaSSNSzrlr-",
        "outputId": "799bc7ad-0141-4685-8703-38ceb8923673"
      },
      "execution_count": null,
      "outputs": [
        {
          "output_type": "display_data",
          "data": {
            "text/plain": [
              "0"
            ],
            "text/latex": "$\\displaystyle 0$"
          },
          "metadata": {}
        },
        {
          "output_type": "display_data",
          "data": {
            "text/plain": [
              "Matrix([[0]])"
            ],
            "text/latex": "$\\displaystyle \\left[\\begin{matrix}0\\end{matrix}\\right]$"
          },
          "metadata": {}
        }
      ]
    },
    {
      "cell_type": "markdown",
      "source": [
        "This can also be implemented without the loop."
      ],
      "metadata": {
        "id": "fd0RSlPZ8Ts5"
      }
    },
    {
      "cell_type": "code",
      "source": [
        "def compute_gradient(X, y, w, b):\n",
        "    m, n = X.shape\n",
        "\n",
        "    y_pred = f_wb(X, w, b)\n",
        "    err = y_pred - y\n",
        "\n",
        "    dj_dw = (X.T @ err) / m\n",
        "    dj_db = sum(err) / m\n",
        "\n",
        "    return dj_db, dj_dw"
      ],
      "metadata": {
        "id": "RnO8OegT8Ux7"
      },
      "execution_count": null,
      "outputs": []
    },
    {
      "cell_type": "code",
      "source": [
        "# works for mulitiple linear regression\n",
        "dj_db, dj_dw = compute_gradient(X, y, w, b)\n",
        "display(dj_db.factor())\n",
        "display(dj_dw)"
      ],
      "metadata": {
        "colab": {
          "base_uri": "https://localhost:8080/",
          "height": 145
        },
        "id": "XQ8BHxMzDMj9",
        "outputId": "465ed1e5-0ae6-4978-edc1-4d5cf7996cd4"
      },
      "execution_count": null,
      "outputs": [
        {
          "output_type": "display_data",
          "data": {
            "text/plain": [
              "(3*b + w_1*x_{11} + w_1*x_{21} + w_1*x_{31} + w_2*x_{12} + w_2*x_{22} + w_2*x_{32} + w_3*x_{13} + w_3*x_{23} + w_3*x_{33} + w_4*x_{14} + w_4*x_{24} + w_4*x_{34} - y_1 - y_2 - y_3)/3"
            ],
            "text/latex": "$\\displaystyle \\frac{3 b + w_{1} x_{11} + w_{1} x_{21} + w_{1} x_{31} + w_{2} x_{12} + w_{2} x_{22} + w_{2} x_{32} + w_{3} x_{13} + w_{3} x_{23} + w_{3} x_{33} + w_{4} x_{14} + w_{4} x_{24} + w_{4} x_{34} - y_{1} - y_{2} - y_{3}}{3}$"
          },
          "metadata": {}
        },
        {
          "output_type": "display_data",
          "data": {
            "text/plain": [
              "Matrix([\n",
              "[x_{11}*(b + w_1*x_{11} + w_2*x_{12} + w_3*x_{13} + w_4*x_{14} - y_1)/3 + x_{21}*(b + w_1*x_{21} + w_2*x_{22} + w_3*x_{23} + w_4*x_{24} - y_2)/3 + x_{31}*(b + w_1*x_{31} + w_2*x_{32} + w_3*x_{33} + w_4*x_{34} - y_3)/3],\n",
              "[x_{12}*(b + w_1*x_{11} + w_2*x_{12} + w_3*x_{13} + w_4*x_{14} - y_1)/3 + x_{22}*(b + w_1*x_{21} + w_2*x_{22} + w_3*x_{23} + w_4*x_{24} - y_2)/3 + x_{32}*(b + w_1*x_{31} + w_2*x_{32} + w_3*x_{33} + w_4*x_{34} - y_3)/3],\n",
              "[x_{13}*(b + w_1*x_{11} + w_2*x_{12} + w_3*x_{13} + w_4*x_{14} - y_1)/3 + x_{23}*(b + w_1*x_{21} + w_2*x_{22} + w_3*x_{23} + w_4*x_{24} - y_2)/3 + x_{33}*(b + w_1*x_{31} + w_2*x_{32} + w_3*x_{33} + w_4*x_{34} - y_3)/3],\n",
              "[x_{14}*(b + w_1*x_{11} + w_2*x_{12} + w_3*x_{13} + w_4*x_{14} - y_1)/3 + x_{24}*(b + w_1*x_{21} + w_2*x_{22} + w_3*x_{23} + w_4*x_{24} - y_2)/3 + x_{34}*(b + w_1*x_{31} + w_2*x_{32} + w_3*x_{33} + w_4*x_{34} - y_3)/3]])"
            ],
            "text/latex": "$\\displaystyle \\left[\\begin{matrix}\\frac{x_{11} \\left(b + w_{1} x_{11} + w_{2} x_{12} + w_{3} x_{13} + w_{4} x_{14} - y_{1}\\right)}{3} + \\frac{x_{21} \\left(b + w_{1} x_{21} + w_{2} x_{22} + w_{3} x_{23} + w_{4} x_{24} - y_{2}\\right)}{3} + \\frac{x_{31} \\left(b + w_{1} x_{31} + w_{2} x_{32} + w_{3} x_{33} + w_{4} x_{34} - y_{3}\\right)}{3}\\\\\\frac{x_{12} \\left(b + w_{1} x_{11} + w_{2} x_{12} + w_{3} x_{13} + w_{4} x_{14} - y_{1}\\right)}{3} + \\frac{x_{22} \\left(b + w_{1} x_{21} + w_{2} x_{22} + w_{3} x_{23} + w_{4} x_{24} - y_{2}\\right)}{3} + \\frac{x_{32} \\left(b + w_{1} x_{31} + w_{2} x_{32} + w_{3} x_{33} + w_{4} x_{34} - y_{3}\\right)}{3}\\\\\\frac{x_{13} \\left(b + w_{1} x_{11} + w_{2} x_{12} + w_{3} x_{13} + w_{4} x_{14} - y_{1}\\right)}{3} + \\frac{x_{23} \\left(b + w_{1} x_{21} + w_{2} x_{22} + w_{3} x_{23} + w_{4} x_{24} - y_{2}\\right)}{3} + \\frac{x_{33} \\left(b + w_{1} x_{31} + w_{2} x_{32} + w_{3} x_{33} + w_{4} x_{34} - y_{3}\\right)}{3}\\\\\\frac{x_{14} \\left(b + w_{1} x_{11} + w_{2} x_{12} + w_{3} x_{13} + w_{4} x_{14} - y_{1}\\right)}{3} + \\frac{x_{24} \\left(b + w_{1} x_{21} + w_{2} x_{22} + w_{3} x_{23} + w_{4} x_{24} - y_{2}\\right)}{3} + \\frac{x_{34} \\left(b + w_{1} x_{31} + w_{2} x_{32} + w_{3} x_{33} + w_{4} x_{34} - y_{3}\\right)}{3}\\end{matrix}\\right]$"
          },
          "metadata": {}
        }
      ]
    },
    {
      "cell_type": "code",
      "source": [
        "dj_db, dj_dw = compute_gradient(Xn, yn, w, b)\n",
        "display(dj_db.factor())\n",
        "display(dj_dw)"
      ],
      "metadata": {
        "colab": {
          "base_uri": "https://localhost:8080/",
          "height": 136
        },
        "id": "MbUcoY5nFcSH",
        "outputId": "10b47bd6-f205-4287-abae-c3378da25477"
      },
      "execution_count": null,
      "outputs": [
        {
          "output_type": "display_data",
          "data": {
            "text/plain": [
              "(3*b + 4372*w_1 + 10*w_2 + 4*w_3 + 120*w_4 - 870)/3"
            ],
            "text/latex": "$\\displaystyle \\frac{3 b + 4372 w_{1} + 10 w_{2} + 4 w_{3} + 120 w_{4} - 870}{3}$"
          },
          "metadata": {}
        },
        {
          "output_type": "display_data",
          "data": {
            "text/plain": [
              "Matrix([\n",
              "[4372*b/3 + 7157776*w_1/3 + 16472*w_2/3 + 5788*w_3/3 + 60380*w_4 - 1448008/3],\n",
              "[            10*b/3 + 16472*w_1/3 + 38*w_2/3 + 13*w_3/3 + 415*w_4/3 - 3352/3],\n",
              "[                 4*b/3 + 5788*w_1/3 + 13*w_2/3 + 2*w_3 + 160*w_4/3 - 1102/3],\n",
              "[              40*b + 60380*w_1 + 415*w_2/3 + 160*w_3/3 + 4850*w_4/3 - 12070]])"
            ],
            "text/latex": "$\\displaystyle \\left[\\begin{matrix}\\frac{4372 b}{3} + \\frac{7157776 w_{1}}{3} + \\frac{16472 w_{2}}{3} + \\frac{5788 w_{3}}{3} + 60380 w_{4} - \\frac{1448008}{3}\\\\\\frac{10 b}{3} + \\frac{16472 w_{1}}{3} + \\frac{38 w_{2}}{3} + \\frac{13 w_{3}}{3} + \\frac{415 w_{4}}{3} - \\frac{3352}{3}\\\\\\frac{4 b}{3} + \\frac{5788 w_{1}}{3} + \\frac{13 w_{2}}{3} + 2 w_{3} + \\frac{160 w_{4}}{3} - \\frac{1102}{3}\\\\40 b + 60380 w_{1} + \\frac{415 w_{2}}{3} + \\frac{160 w_{3}}{3} + \\frac{4850 w_{4}}{3} - 12070\\end{matrix}\\right]$"
          },
          "metadata": {}
        }
      ]
    },
    {
      "cell_type": "code",
      "source": [
        "# test with optimal parameters\n",
        "dj_db, dj_dw = compute_gradient(Xn, yn, wn_best, bn_best)\n",
        "display(dj_db)\n",
        "display(dj_dw)"
      ],
      "metadata": {
        "colab": {
          "base_uri": "https://localhost:8080/",
          "height": 119
        },
        "id": "8yN8phutFiEp",
        "outputId": "da2e492d-da66-46ae-bee9-f0fb284d8bc6"
      },
      "execution_count": null,
      "outputs": [
        {
          "output_type": "display_data",
          "data": {
            "text/plain": [
              "-1.67392515019552e-6"
            ],
            "text/latex": "$\\displaystyle -1.67392515019552 \\cdot 10^{-6}$"
          },
          "metadata": {}
        },
        {
          "output_type": "display_data",
          "data": {
            "text/plain": [
              "Matrix([\n",
              "[-0.00272623577196403],\n",
              "[-6.27197262777675e-6],\n",
              "[-2.21745578225333e-6],\n",
              "[-6.92403390682254e-5]])"
            ],
            "text/latex": "$\\displaystyle \\left[\\begin{matrix}-0.00272623577196403\\\\-6.27197262777675 \\cdot 10^{-6}\\\\-2.21745578225333 \\cdot 10^{-6}\\\\-6.92403390682254 \\cdot 10^{-5}\\end{matrix}\\right]$"
          },
          "metadata": {}
        }
      ]
    },
    {
      "cell_type": "code",
      "source": [
        "# works for simple linear regression\n",
        "dj_db, dj_dw = compute_gradient(X[:,0], y, m1, b)\n",
        "display(dj_db.factor())\n",
        "display(dj_dw)"
      ],
      "metadata": {
        "colab": {
          "base_uri": "https://localhost:8080/",
          "height": 82
        },
        "id": "HXeXO6fMFmXG",
        "outputId": "705117f1-6643-4c96-a2b7-4a3fb87bed69"
      },
      "execution_count": null,
      "outputs": [
        {
          "output_type": "display_data",
          "data": {
            "text/plain": [
              "(3*b + m_1*x_{11} + m_1*x_{21} + m_1*x_{31} - y_1 - y_2 - y_3)/3"
            ],
            "text/latex": "$\\displaystyle \\frac{3 b + m_{1} x_{11} + m_{1} x_{21} + m_{1} x_{31} - y_{1} - y_{2} - y_{3}}{3}$"
          },
          "metadata": {}
        },
        {
          "output_type": "display_data",
          "data": {
            "text/plain": [
              "Matrix([[x_{11}*(b + m_1*x_{11} - y_1)/3 + x_{21}*(b + m_1*x_{21} - y_2)/3 + x_{31}*(b + m_1*x_{31} - y_3)/3]])"
            ],
            "text/latex": "$\\displaystyle \\left[\\begin{matrix}\\frac{x_{11} \\left(b + m_{1} x_{11} - y_{1}\\right)}{3} + \\frac{x_{21} \\left(b + m_{1} x_{21} - y_{2}\\right)}{3} + \\frac{x_{31} \\left(b + m_{1} x_{31} - y_{3}\\right)}{3}\\end{matrix}\\right]$"
          },
          "metadata": {}
        }
      ]
    },
    {
      "cell_type": "code",
      "source": [
        "dj_db, dj_dw = compute_gradient(Xs, ys, m1, b)\n",
        "display(dj_db.factor())\n",
        "display(dj_dw)"
      ],
      "metadata": {
        "colab": {
          "base_uri": "https://localhost:8080/",
          "height": 74
        },
        "id": "uRtv0s5dFqDH",
        "outputId": "3e88e19a-798c-4ae3-c452-21cbdab39360"
      },
      "execution_count": null,
      "outputs": [
        {
          "output_type": "display_data",
          "data": {
            "text/plain": [
              "(2*b + 3*m_1 - 800)/2"
            ],
            "text/latex": "$\\displaystyle \\frac{2 b + 3 m_{1} - 800}{2}$"
          },
          "metadata": {}
        },
        {
          "output_type": "display_data",
          "data": {
            "text/plain": [
              "Matrix([[3*b/2 + 5*m_1/2 - 650]])"
            ],
            "text/latex": "$\\displaystyle \\left[\\begin{matrix}\\frac{3 b}{2} + \\frac{5 m_{1}}{2} - 650\\end{matrix}\\right]$"
          },
          "metadata": {}
        }
      ]
    },
    {
      "cell_type": "code",
      "source": [
        "# test with optimal parameters\n",
        "dj_db, dj_dw = compute_gradient(Xs, ys, ms_best, bs_best)\n",
        "display(dj_db)\n",
        "display(dj_dw)"
      ],
      "metadata": {
        "colab": {
          "base_uri": "https://localhost:8080/",
          "height": 59
        },
        "id": "cGujFp0TFtu5",
        "outputId": "4a924285-42b7-40df-c5bd-61a73ca4e53e"
      },
      "execution_count": null,
      "outputs": [
        {
          "output_type": "display_data",
          "data": {
            "text/plain": [
              "0"
            ],
            "text/latex": "$\\displaystyle 0$"
          },
          "metadata": {}
        },
        {
          "output_type": "display_data",
          "data": {
            "text/plain": [
              "Matrix([[0]])"
            ],
            "text/latex": "$\\displaystyle \\left[\\begin{matrix}0\\end{matrix}\\right]$"
          },
          "metadata": {}
        }
      ]
    },
    {
      "cell_type": "markdown",
      "source": [
        "### Speed Comparison of `compute_gradient_loop` and `compute_gradient`"
      ],
      "metadata": {
        "id": "qgBEOpLRINke"
      }
    },
    {
      "cell_type": "markdown",
      "source": [
        "#### `compute_gradient_loop`"
      ],
      "metadata": {
        "id": "x3cW6k8-ISDP"
      }
    },
    {
      "cell_type": "code",
      "source": [
        "%%timeit -r7 -n1000\n",
        "compute_gradient_loop(X, y, w, b)"
      ],
      "metadata": {
        "colab": {
          "base_uri": "https://localhost:8080/"
        },
        "id": "XCsP9tnHIelq",
        "outputId": "68537d55-aef7-46ed-e414-fa221d03e58a"
      },
      "execution_count": null,
      "outputs": [
        {
          "output_type": "stream",
          "name": "stdout",
          "text": [
            "1.12 ms ± 230 µs per loop (mean ± std. dev. of 7 runs, 1000 loops each)\n"
          ]
        }
      ]
    },
    {
      "cell_type": "code",
      "source": [
        "%%timeit -r7 -n1000\n",
        "compute_gradient_loop(Xn, yn, w, b)"
      ],
      "metadata": {
        "colab": {
          "base_uri": "https://localhost:8080/"
        },
        "id": "8qQdGwPTIeps",
        "outputId": "071e654a-9581-497d-ad68-5665b2c96006"
      },
      "execution_count": null,
      "outputs": [
        {
          "output_type": "stream",
          "name": "stdout",
          "text": [
            "1.42 ms ± 290 µs per loop (mean ± std. dev. of 7 runs, 1000 loops each)\n"
          ]
        }
      ]
    },
    {
      "cell_type": "code",
      "source": [
        "%%timeit -r7 -n1000\n",
        "compute_gradient_loop(Xn, yn, wn_best, bn_best)"
      ],
      "metadata": {
        "colab": {
          "base_uri": "https://localhost:8080/"
        },
        "id": "5OjgY1x-IetT",
        "outputId": "a2e5641a-0e8c-499d-839e-3bd5ea01f40c"
      },
      "execution_count": null,
      "outputs": [
        {
          "output_type": "stream",
          "name": "stdout",
          "text": [
            "1.78 ms ± 251 µs per loop (mean ± std. dev. of 7 runs, 1000 loops each)\n"
          ]
        }
      ]
    },
    {
      "cell_type": "code",
      "source": [
        "%%timeit -r7 -n1000\n",
        "compute_gradient_loop(Xs, ys, ms_best, bs_best)"
      ],
      "metadata": {
        "colab": {
          "base_uri": "https://localhost:8080/"
        },
        "id": "QmBshHGXIexu",
        "outputId": "54db630f-6ede-46eb-a3d2-cfd1f730bc64"
      },
      "execution_count": null,
      "outputs": [
        {
          "output_type": "stream",
          "name": "stdout",
          "text": [
            "401 µs ± 16.1 µs per loop (mean ± std. dev. of 7 runs, 1000 loops each)\n"
          ]
        }
      ]
    },
    {
      "cell_type": "markdown",
      "source": [
        "#### `compute_gradient`"
      ],
      "metadata": {
        "id": "2Td5YKucIYiF"
      }
    },
    {
      "cell_type": "code",
      "source": [
        "%%timeit -r7 -n1000\n",
        "compute_gradient(X, y, w, b)"
      ],
      "metadata": {
        "colab": {
          "base_uri": "https://localhost:8080/"
        },
        "id": "8n_8BrRmIdS6",
        "outputId": "73d73dfd-c430-4f02-f939-341696e8250d"
      },
      "execution_count": null,
      "outputs": [
        {
          "output_type": "stream",
          "name": "stdout",
          "text": [
            "647 µs ± 128 µs per loop (mean ± std. dev. of 7 runs, 1000 loops each)\n"
          ]
        }
      ]
    },
    {
      "cell_type": "code",
      "source": [
        "%%timeit -r7 -n1000\n",
        "compute_gradient(Xn, yn, w, b)"
      ],
      "metadata": {
        "colab": {
          "base_uri": "https://localhost:8080/"
        },
        "id": "wYuPSdWcIdrW",
        "outputId": "301522ae-3615-4f00-c92f-da9431f4ef45"
      },
      "execution_count": null,
      "outputs": [
        {
          "output_type": "stream",
          "name": "stdout",
          "text": [
            "747 µs ± 205 µs per loop (mean ± std. dev. of 7 runs, 1000 loops each)\n"
          ]
        }
      ]
    },
    {
      "cell_type": "code",
      "source": [
        "%%timeit -r7 -n1000\n",
        "compute_gradient(Xn, yn, wn_best, bn_best)"
      ],
      "metadata": {
        "colab": {
          "base_uri": "https://localhost:8080/"
        },
        "id": "OjyDhMleIdzi",
        "outputId": "53e647e8-9d87-4ae2-c621-c60f51e5b790"
      },
      "execution_count": null,
      "outputs": [
        {
          "output_type": "stream",
          "name": "stdout",
          "text": [
            "981 µs ± 20.5 µs per loop (mean ± std. dev. of 7 runs, 1000 loops each)\n"
          ]
        }
      ]
    },
    {
      "cell_type": "code",
      "source": [
        "%%timeit -r7 -n1000\n",
        "compute_gradient(Xs, ys, ms_best, bs_best)"
      ],
      "metadata": {
        "colab": {
          "base_uri": "https://localhost:8080/"
        },
        "id": "ol_j7FcKId5V",
        "outputId": "873485ac-acb6-44c4-c9e2-b75f53606353"
      },
      "execution_count": null,
      "outputs": [
        {
          "output_type": "stream",
          "name": "stdout",
          "text": [
            "299 µs ± 62 µs per loop (mean ± std. dev. of 7 runs, 1000 loops each)\n"
          ]
        }
      ]
    },
    {
      "cell_type": "markdown",
      "source": [
        "### Using `sympy` to compute the gradient\n",
        "\n",
        "This only works when the parameters, $\\mathbf{w}$ and $b$ are variables."
      ],
      "metadata": {
        "id": "9ETGhny0NtU3"
      }
    },
    {
      "cell_type": "code",
      "source": [
        "def compute_gradient_sympy(X, y, w, b):\n",
        "    cost = compute_cost(X, y, w, b)\n",
        "    w = sym.Matrix([w]) # so it works with simple regression\n",
        "\n",
        "    dj_dw = w.applyfunc(lambda x: sym.diff(cost, x))\n",
        "    dj_db = sym.diff(cost, b)\n",
        "\n",
        "    return dj_db, dj_dw"
      ],
      "metadata": {
        "id": "TTk0Nvo0N453"
      },
      "execution_count": null,
      "outputs": []
    },
    {
      "cell_type": "code",
      "source": [
        "# works for mulitiple linear regression\n",
        "dj_db, dj_dw = compute_gradient_sympy(X, y, w, b)\n",
        "display(dj_db.factor())\n",
        "display(dj_dw)"
      ],
      "metadata": {
        "colab": {
          "base_uri": "https://localhost:8080/",
          "height": 145
        },
        "id": "p2ggGcEcQ28I",
        "outputId": "7cf6ea10-851e-44ba-e0be-1a38f7bccbf8"
      },
      "execution_count": null,
      "outputs": [
        {
          "output_type": "display_data",
          "data": {
            "text/plain": [
              "(3*b + w_1*x_{11} + w_1*x_{21} + w_1*x_{31} + w_2*x_{12} + w_2*x_{22} + w_2*x_{32} + w_3*x_{13} + w_3*x_{23} + w_3*x_{33} + w_4*x_{14} + w_4*x_{24} + w_4*x_{34} - y_1 - y_2 - y_3)/3"
            ],
            "text/latex": "$\\displaystyle \\frac{3 b + w_{1} x_{11} + w_{1} x_{21} + w_{1} x_{31} + w_{2} x_{12} + w_{2} x_{22} + w_{2} x_{32} + w_{3} x_{13} + w_{3} x_{23} + w_{3} x_{33} + w_{4} x_{14} + w_{4} x_{24} + w_{4} x_{34} - y_{1} - y_{2} - y_{3}}{3}$"
          },
          "metadata": {}
        },
        {
          "output_type": "display_data",
          "data": {
            "text/plain": [
              "Matrix([\n",
              "[x_{11}*(b + w_1*x_{11} + w_2*x_{12} + w_3*x_{13} + w_4*x_{14} - y_1)/3 + x_{21}*(b + w_1*x_{21} + w_2*x_{22} + w_3*x_{23} + w_4*x_{24} - y_2)/3 + x_{31}*(b + w_1*x_{31} + w_2*x_{32} + w_3*x_{33} + w_4*x_{34} - y_3)/3],\n",
              "[x_{12}*(b + w_1*x_{11} + w_2*x_{12} + w_3*x_{13} + w_4*x_{14} - y_1)/3 + x_{22}*(b + w_1*x_{21} + w_2*x_{22} + w_3*x_{23} + w_4*x_{24} - y_2)/3 + x_{32}*(b + w_1*x_{31} + w_2*x_{32} + w_3*x_{33} + w_4*x_{34} - y_3)/3],\n",
              "[x_{13}*(b + w_1*x_{11} + w_2*x_{12} + w_3*x_{13} + w_4*x_{14} - y_1)/3 + x_{23}*(b + w_1*x_{21} + w_2*x_{22} + w_3*x_{23} + w_4*x_{24} - y_2)/3 + x_{33}*(b + w_1*x_{31} + w_2*x_{32} + w_3*x_{33} + w_4*x_{34} - y_3)/3],\n",
              "[x_{14}*(b + w_1*x_{11} + w_2*x_{12} + w_3*x_{13} + w_4*x_{14} - y_1)/3 + x_{24}*(b + w_1*x_{21} + w_2*x_{22} + w_3*x_{23} + w_4*x_{24} - y_2)/3 + x_{34}*(b + w_1*x_{31} + w_2*x_{32} + w_3*x_{33} + w_4*x_{34} - y_3)/3]])"
            ],
            "text/latex": "$\\displaystyle \\left[\\begin{matrix}\\frac{x_{11} \\left(b + w_{1} x_{11} + w_{2} x_{12} + w_{3} x_{13} + w_{4} x_{14} - y_{1}\\right)}{3} + \\frac{x_{21} \\left(b + w_{1} x_{21} + w_{2} x_{22} + w_{3} x_{23} + w_{4} x_{24} - y_{2}\\right)}{3} + \\frac{x_{31} \\left(b + w_{1} x_{31} + w_{2} x_{32} + w_{3} x_{33} + w_{4} x_{34} - y_{3}\\right)}{3}\\\\\\frac{x_{12} \\left(b + w_{1} x_{11} + w_{2} x_{12} + w_{3} x_{13} + w_{4} x_{14} - y_{1}\\right)}{3} + \\frac{x_{22} \\left(b + w_{1} x_{21} + w_{2} x_{22} + w_{3} x_{23} + w_{4} x_{24} - y_{2}\\right)}{3} + \\frac{x_{32} \\left(b + w_{1} x_{31} + w_{2} x_{32} + w_{3} x_{33} + w_{4} x_{34} - y_{3}\\right)}{3}\\\\\\frac{x_{13} \\left(b + w_{1} x_{11} + w_{2} x_{12} + w_{3} x_{13} + w_{4} x_{14} - y_{1}\\right)}{3} + \\frac{x_{23} \\left(b + w_{1} x_{21} + w_{2} x_{22} + w_{3} x_{23} + w_{4} x_{24} - y_{2}\\right)}{3} + \\frac{x_{33} \\left(b + w_{1} x_{31} + w_{2} x_{32} + w_{3} x_{33} + w_{4} x_{34} - y_{3}\\right)}{3}\\\\\\frac{x_{14} \\left(b + w_{1} x_{11} + w_{2} x_{12} + w_{3} x_{13} + w_{4} x_{14} - y_{1}\\right)}{3} + \\frac{x_{24} \\left(b + w_{1} x_{21} + w_{2} x_{22} + w_{3} x_{23} + w_{4} x_{24} - y_{2}\\right)}{3} + \\frac{x_{34} \\left(b + w_{1} x_{31} + w_{2} x_{32} + w_{3} x_{33} + w_{4} x_{34} - y_{3}\\right)}{3}\\end{matrix}\\right]$"
          },
          "metadata": {}
        }
      ]
    },
    {
      "cell_type": "code",
      "source": [
        "dj_db, dj_dw = compute_gradient_sympy(Xn, yn, w, b)\n",
        "display(dj_db.factor())\n",
        "display(dj_dw)"
      ],
      "metadata": {
        "colab": {
          "base_uri": "https://localhost:8080/",
          "height": 136
        },
        "id": "59xHbjK1Q6fY",
        "outputId": "493f50e2-9456-4945-8f2d-ed1ec4240e4f"
      },
      "execution_count": null,
      "outputs": [
        {
          "output_type": "display_data",
          "data": {
            "text/plain": [
              "(3*b + 4372*w_1 + 10*w_2 + 4*w_3 + 120*w_4 - 870)/3"
            ],
            "text/latex": "$\\displaystyle \\frac{3 b + 4372 w_{1} + 10 w_{2} + 4 w_{3} + 120 w_{4} - 870}{3}$"
          },
          "metadata": {}
        },
        {
          "output_type": "display_data",
          "data": {
            "text/plain": [
              "Matrix([\n",
              "[4372*b/3 + 7157776*w_1/3 + 16472*w_2/3 + 5788*w_3/3 + 60380*w_4 - 1448008/3],\n",
              "[            10*b/3 + 16472*w_1/3 + 38*w_2/3 + 13*w_3/3 + 415*w_4/3 - 3352/3],\n",
              "[                 4*b/3 + 5788*w_1/3 + 13*w_2/3 + 2*w_3 + 160*w_4/3 - 1102/3],\n",
              "[              40*b + 60380*w_1 + 415*w_2/3 + 160*w_3/3 + 4850*w_4/3 - 12070]])"
            ],
            "text/latex": "$\\displaystyle \\left[\\begin{matrix}\\frac{4372 b}{3} + \\frac{7157776 w_{1}}{3} + \\frac{16472 w_{2}}{3} + \\frac{5788 w_{3}}{3} + 60380 w_{4} - \\frac{1448008}{3}\\\\\\frac{10 b}{3} + \\frac{16472 w_{1}}{3} + \\frac{38 w_{2}}{3} + \\frac{13 w_{3}}{3} + \\frac{415 w_{4}}{3} - \\frac{3352}{3}\\\\\\frac{4 b}{3} + \\frac{5788 w_{1}}{3} + \\frac{13 w_{2}}{3} + 2 w_{3} + \\frac{160 w_{4}}{3} - \\frac{1102}{3}\\\\40 b + 60380 w_{1} + \\frac{415 w_{2}}{3} + \\frac{160 w_{3}}{3} + \\frac{4850 w_{4}}{3} - 12070\\end{matrix}\\right]$"
          },
          "metadata": {}
        }
      ]
    },
    {
      "cell_type": "code",
      "source": [
        "# works for simple linear regression\n",
        "dj_db, dj_dw = compute_gradient_sympy(X[:,0], y, m1, b)\n",
        "display(dj_db.factor())\n",
        "display(dj_dw)"
      ],
      "metadata": {
        "colab": {
          "base_uri": "https://localhost:8080/",
          "height": 82
        },
        "id": "vbS6MoujREXw",
        "outputId": "91d7d051-886f-44db-c1cf-e659e1e99298"
      },
      "execution_count": null,
      "outputs": [
        {
          "output_type": "display_data",
          "data": {
            "text/plain": [
              "(3*b + m_1*x_{11} + m_1*x_{21} + m_1*x_{31} - y_1 - y_2 - y_3)/3"
            ],
            "text/latex": "$\\displaystyle \\frac{3 b + m_{1} x_{11} + m_{1} x_{21} + m_{1} x_{31} - y_{1} - y_{2} - y_{3}}{3}$"
          },
          "metadata": {}
        },
        {
          "output_type": "display_data",
          "data": {
            "text/plain": [
              "Matrix([[x_{11}*(b + m_1*x_{11} - y_1)/3 + x_{21}*(b + m_1*x_{21} - y_2)/3 + x_{31}*(b + m_1*x_{31} - y_3)/3]])"
            ],
            "text/latex": "$\\displaystyle \\left[\\begin{matrix}\\frac{x_{11} \\left(b + m_{1} x_{11} - y_{1}\\right)}{3} + \\frac{x_{21} \\left(b + m_{1} x_{21} - y_{2}\\right)}{3} + \\frac{x_{31} \\left(b + m_{1} x_{31} - y_{3}\\right)}{3}\\end{matrix}\\right]$"
          },
          "metadata": {}
        }
      ]
    },
    {
      "cell_type": "code",
      "source": [
        "dj_db, dj_dw = compute_gradient_sympy(Xs, ys, m1, b)\n",
        "display(dj_db.factor())\n",
        "display(dj_dw)"
      ],
      "metadata": {
        "colab": {
          "base_uri": "https://localhost:8080/",
          "height": 74
        },
        "id": "ObbzpdVTRUjK",
        "outputId": "c956902e-107d-42fe-e771-20245fd426f5"
      },
      "execution_count": null,
      "outputs": [
        {
          "output_type": "display_data",
          "data": {
            "text/plain": [
              "(2*b + 3*m_1 - 800)/2"
            ],
            "text/latex": "$\\displaystyle \\frac{2 b + 3 m_{1} - 800}{2}$"
          },
          "metadata": {}
        },
        {
          "output_type": "display_data",
          "data": {
            "text/plain": [
              "Matrix([[3*b/2 + 5*m_1/2 - 650]])"
            ],
            "text/latex": "$\\displaystyle \\left[\\begin{matrix}\\frac{3 b}{2} + \\frac{5 m_{1}}{2} - 650\\end{matrix}\\right]$"
          },
          "metadata": {}
        }
      ]
    },
    {
      "cell_type": "markdown",
      "source": [
        "#### Speed Comparison of `compute_gradient` and `compute_gradient_sympy`\n",
        "\n",
        "`compute_gradient_sympy` is much slower as expected."
      ],
      "metadata": {
        "id": "AAzbYTtJUJFB"
      }
    },
    {
      "cell_type": "markdown",
      "source": [
        "##### `compute_gradient`"
      ],
      "metadata": {
        "id": "D3g3YXo3Uc7q"
      }
    },
    {
      "cell_type": "code",
      "source": [
        "%%timeit -r7 -n1000\n",
        "compute_gradient(X, y, w, b)"
      ],
      "metadata": {
        "colab": {
          "base_uri": "https://localhost:8080/"
        },
        "id": "auaM_u2jURDS",
        "outputId": "ce073a40-86b1-4379-9738-a632898f31b8"
      },
      "execution_count": null,
      "outputs": [
        {
          "output_type": "stream",
          "name": "stdout",
          "text": [
            "502 µs ± 24.9 µs per loop (mean ± std. dev. of 7 runs, 1000 loops each)\n"
          ]
        }
      ]
    },
    {
      "cell_type": "code",
      "source": [
        "%%timeit -r7 -n1000\n",
        "compute_gradient(Xn, yn, w, b)"
      ],
      "metadata": {
        "colab": {
          "base_uri": "https://localhost:8080/"
        },
        "id": "tdPGMX7OUjWV",
        "outputId": "9588a004-bf1e-42a0-a96a-43d7f50200e8"
      },
      "execution_count": null,
      "outputs": [
        {
          "output_type": "stream",
          "name": "stdout",
          "text": [
            "583 µs ± 31.8 µs per loop (mean ± std. dev. of 7 runs, 1000 loops each)\n"
          ]
        }
      ]
    },
    {
      "cell_type": "code",
      "source": [
        "%%timeit -r7 -n1000\n",
        "compute_gradient(X[:,0], y, m1, b)"
      ],
      "metadata": {
        "colab": {
          "base_uri": "https://localhost:8080/"
        },
        "id": "Ly8ZlGe0Uki1",
        "outputId": "5f16e0e8-9b3c-4251-c637-b290a53415ca"
      },
      "execution_count": null,
      "outputs": [
        {
          "output_type": "stream",
          "name": "stdout",
          "text": [
            "395 µs ± 79.4 µs per loop (mean ± std. dev. of 7 runs, 1000 loops each)\n"
          ]
        }
      ]
    },
    {
      "cell_type": "code",
      "source": [
        "%%timeit -r7 -n1000\n",
        "compute_gradient(Xs, ys, m1, b)"
      ],
      "metadata": {
        "colab": {
          "base_uri": "https://localhost:8080/"
        },
        "id": "o_STtMxgUkrO",
        "outputId": "2b1807eb-e670-4e6c-cdbe-f08169439d85"
      },
      "execution_count": null,
      "outputs": [
        {
          "output_type": "stream",
          "name": "stdout",
          "text": [
            "451 µs ± 109 µs per loop (mean ± std. dev. of 7 runs, 1000 loops each)\n"
          ]
        }
      ]
    },
    {
      "cell_type": "markdown",
      "source": [
        "##### `compute_gradient_sympy`"
      ],
      "metadata": {
        "id": "vFtm-4kxUk8F"
      }
    },
    {
      "cell_type": "code",
      "source": [
        "%%timeit -r7 -n1000\n",
        "compute_gradient_sympy(X, y, w, b)"
      ],
      "metadata": {
        "colab": {
          "base_uri": "https://localhost:8080/"
        },
        "id": "voDQXH-xUsvH",
        "outputId": "86b7bcb6-8385-4402-fdbb-92b520435b25"
      },
      "execution_count": null,
      "outputs": [
        {
          "output_type": "stream",
          "name": "stdout",
          "text": [
            "1.92 ms ± 412 µs per loop (mean ± std. dev. of 7 runs, 1000 loops each)\n"
          ]
        }
      ]
    },
    {
      "cell_type": "code",
      "source": [
        "%%timeit -r7 -n1000\n",
        "compute_gradient_sympy(Xn, yn, w, b)"
      ],
      "metadata": {
        "colab": {
          "base_uri": "https://localhost:8080/"
        },
        "id": "T221V2fXUs37",
        "outputId": "de3c6d18-60d3-4fb3-f040-2e7a5f04a223"
      },
      "execution_count": null,
      "outputs": [
        {
          "output_type": "stream",
          "name": "stdout",
          "text": [
            "1.68 ms ± 248 µs per loop (mean ± std. dev. of 7 runs, 1000 loops each)\n"
          ]
        }
      ]
    },
    {
      "cell_type": "code",
      "source": [
        "%%timeit -r7 -n1000\n",
        "compute_gradient_sympy(X[:,0], y, m1, b)"
      ],
      "metadata": {
        "colab": {
          "base_uri": "https://localhost:8080/"
        },
        "id": "CJAjmOwLUs9g",
        "outputId": "e688d516-296c-4ac6-888f-b4e5cb79d099"
      },
      "execution_count": null,
      "outputs": [
        {
          "output_type": "stream",
          "name": "stdout",
          "text": [
            "793 µs ± 15 µs per loop (mean ± std. dev. of 7 runs, 1000 loops each)\n"
          ]
        }
      ]
    },
    {
      "cell_type": "code",
      "source": [
        "%%timeit -r7 -n1000\n",
        "compute_gradient_sympy(Xs, ys, m1, b)"
      ],
      "metadata": {
        "colab": {
          "base_uri": "https://localhost:8080/"
        },
        "id": "eIVKBaeTUtCc",
        "outputId": "74de4c2b-db25-421a-8fc0-7628b2871ab9"
      },
      "execution_count": null,
      "outputs": [
        {
          "output_type": "stream",
          "name": "stdout",
          "text": [
            "732 µs ± 140 µs per loop (mean ± std. dev. of 7 runs, 1000 loops each)\n"
          ]
        }
      ]
    },
    {
      "cell_type": "markdown",
      "source": [
        "## Gradient Descent"
      ],
      "metadata": {
        "id": "vcV0mS7vWbzN"
      }
    },
    {
      "cell_type": "code",
      "source": [
        "def gradient_descent(X, y, w, b, f_cost, f_gradient, alpha, num_iters):\n",
        "\n",
        "    J_history = []\n",
        "\n",
        "    for i in range(num_iters):\n",
        "        dj_db, dj_dw = f_gradient(X, y, w, b)\n",
        "\n",
        "        w = w - alpha * dj_dw\n",
        "        b = b - alpha * dj_db\n",
        "\n",
        "        J_history.append(f_cost(X, y, w, b))\n",
        "\n",
        "        # print cost\n",
        "        if i % ceil(num_iters / 10) == 0:\n",
        "            print(f'Iteration {i:4d}: Cost {J_history[-1]:8.2f}')\n",
        "\n",
        "    return w, b, J_history"
      ],
      "metadata": {
        "id": "VAD19tt8WnXe"
      },
      "execution_count": null,
      "outputs": []
    }
  ]
}