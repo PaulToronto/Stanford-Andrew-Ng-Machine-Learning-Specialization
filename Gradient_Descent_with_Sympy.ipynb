{
  "nbformat": 4,
  "nbformat_minor": 0,
  "metadata": {
    "colab": {
      "provenance": [],
      "toc_visible": true,
      "authorship_tag": "ABX9TyPWdZxQPIGGRvWprCIqp9dp",
      "include_colab_link": true
    },
    "kernelspec": {
      "name": "python3",
      "display_name": "Python 3"
    },
    "language_info": {
      "name": "python"
    }
  },
  "cells": [
    {
      "cell_type": "markdown",
      "metadata": {
        "id": "view-in-github",
        "colab_type": "text"
      },
      "source": [
        "<a href=\"https://colab.research.google.com/github/PaulToronto/Stanford-Andrew-Ng-Machine-Learning-Specialization/blob/main/Gradient_Descent_with_Sympy.ipynb\" target=\"_parent\"><img src=\"https://colab.research.google.com/assets/colab-badge.svg\" alt=\"Open In Colab\"/></a>"
      ]
    },
    {
      "cell_type": "markdown",
      "source": [
        "# Gradient Descent with `sympy`"
      ],
      "metadata": {
        "id": "-5JTrT-SO8oG"
      }
    },
    {
      "cell_type": "markdown",
      "source": [
        "## Imports"
      ],
      "metadata": {
        "id": "vifdCXIkPCPP"
      }
    },
    {
      "cell_type": "code",
      "execution_count": 1,
      "metadata": {
        "id": "C9kWXrYvO5qW"
      },
      "outputs": [],
      "source": [
        "import sympy as sym\n",
        "import pandas as pd\n",
        "import numpy as np\n",
        "from math import ceil"
      ]
    },
    {
      "cell_type": "markdown",
      "source": [
        "## Symbols"
      ],
      "metadata": {
        "id": "Z54zSuTTPFvj"
      }
    },
    {
      "cell_type": "code",
      "source": [
        "# training set data\n",
        "x11, x12, x13, x14 = sym.symbols('x_{11} x_{12} x_{13} x_{14}')\n",
        "x21, x22, x23, x24 = sym.symbols('x_{21} x_{22} x_{23} x_{24}')\n",
        "x31, x32, x33, x34 = sym.symbols('x_{31} x_{32} x_{33} x_{34}')\n",
        "\n",
        "# target\n",
        "y1, y2, y3 = sym.symbols('y_1 y_2 y_3')\n",
        "\n",
        "# weights and bias\n",
        "w1, w2, w3, w4, b = sym.symbols('w_1 w_2 w_3 w_4 b')\n",
        "\n",
        "# weight for simple linear regression\n",
        "m1 = sym.symbols('m_1')"
      ],
      "metadata": {
        "id": "6HL-dEjIPMiJ"
      },
      "execution_count": 2,
      "outputs": []
    },
    {
      "cell_type": "markdown",
      "source": [
        "## Toy Datasets"
      ],
      "metadata": {
        "id": "F-FtpIdkaFNV"
      }
    },
    {
      "cell_type": "markdown",
      "source": [
        "### Dataset with symbols"
      ],
      "metadata": {
        "id": "GfTYK0ccF5pk"
      }
    },
    {
      "cell_type": "code",
      "source": [
        "data = pd.DataFrame({'feature1': [x11, x21, x31],\n",
        "                     'feature2': [x12, x22, x32],\n",
        "                     'feature3': [x13, x23, x33],\n",
        "                     'feature4': [x14, x24, x34],\n",
        "                     'target': [y1, y2, y3]})\n",
        "\n",
        "data"
      ],
      "metadata": {
        "colab": {
          "base_uri": "https://localhost:8080/",
          "height": 143
        },
        "id": "GQpWfRcFaJBG",
        "outputId": "f665ea63-e668-4733-c28f-6ad393bd7eaa"
      },
      "execution_count": 3,
      "outputs": [
        {
          "output_type": "execute_result",
          "data": {
            "text/plain": [
              "  feature1 feature2 feature3 feature4 target\n",
              "0   x_{11}   x_{12}   x_{13}   x_{14}    y_1\n",
              "1   x_{21}   x_{22}   x_{23}   x_{24}    y_2\n",
              "2   x_{31}   x_{32}   x_{33}   x_{34}    y_3"
            ],
            "text/html": [
              "\n",
              "  <div id=\"df-d0d851fd-18d1-47c6-84f2-2619b568dfb0\" class=\"colab-df-container\">\n",
              "    <div>\n",
              "<style scoped>\n",
              "    .dataframe tbody tr th:only-of-type {\n",
              "        vertical-align: middle;\n",
              "    }\n",
              "\n",
              "    .dataframe tbody tr th {\n",
              "        vertical-align: top;\n",
              "    }\n",
              "\n",
              "    .dataframe thead th {\n",
              "        text-align: right;\n",
              "    }\n",
              "</style>\n",
              "<table border=\"1\" class=\"dataframe\">\n",
              "  <thead>\n",
              "    <tr style=\"text-align: right;\">\n",
              "      <th></th>\n",
              "      <th>feature1</th>\n",
              "      <th>feature2</th>\n",
              "      <th>feature3</th>\n",
              "      <th>feature4</th>\n",
              "      <th>target</th>\n",
              "    </tr>\n",
              "  </thead>\n",
              "  <tbody>\n",
              "    <tr>\n",
              "      <th>0</th>\n",
              "      <td>x_{11}</td>\n",
              "      <td>x_{12}</td>\n",
              "      <td>x_{13}</td>\n",
              "      <td>x_{14}</td>\n",
              "      <td>y_1</td>\n",
              "    </tr>\n",
              "    <tr>\n",
              "      <th>1</th>\n",
              "      <td>x_{21}</td>\n",
              "      <td>x_{22}</td>\n",
              "      <td>x_{23}</td>\n",
              "      <td>x_{24}</td>\n",
              "      <td>y_2</td>\n",
              "    </tr>\n",
              "    <tr>\n",
              "      <th>2</th>\n",
              "      <td>x_{31}</td>\n",
              "      <td>x_{32}</td>\n",
              "      <td>x_{33}</td>\n",
              "      <td>x_{34}</td>\n",
              "      <td>y_3</td>\n",
              "    </tr>\n",
              "  </tbody>\n",
              "</table>\n",
              "</div>\n",
              "    <div class=\"colab-df-buttons\">\n",
              "\n",
              "  <div class=\"colab-df-container\">\n",
              "    <button class=\"colab-df-convert\" onclick=\"convertToInteractive('df-d0d851fd-18d1-47c6-84f2-2619b568dfb0')\"\n",
              "            title=\"Convert this dataframe to an interactive table.\"\n",
              "            style=\"display:none;\">\n",
              "\n",
              "  <svg xmlns=\"http://www.w3.org/2000/svg\" height=\"24px\" viewBox=\"0 -960 960 960\">\n",
              "    <path d=\"M120-120v-720h720v720H120Zm60-500h600v-160H180v160Zm220 220h160v-160H400v160Zm0 220h160v-160H400v160ZM180-400h160v-160H180v160Zm440 0h160v-160H620v160ZM180-180h160v-160H180v160Zm440 0h160v-160H620v160Z\"/>\n",
              "  </svg>\n",
              "    </button>\n",
              "\n",
              "  <style>\n",
              "    .colab-df-container {\n",
              "      display:flex;\n",
              "      gap: 12px;\n",
              "    }\n",
              "\n",
              "    .colab-df-convert {\n",
              "      background-color: #E8F0FE;\n",
              "      border: none;\n",
              "      border-radius: 50%;\n",
              "      cursor: pointer;\n",
              "      display: none;\n",
              "      fill: #1967D2;\n",
              "      height: 32px;\n",
              "      padding: 0 0 0 0;\n",
              "      width: 32px;\n",
              "    }\n",
              "\n",
              "    .colab-df-convert:hover {\n",
              "      background-color: #E2EBFA;\n",
              "      box-shadow: 0px 1px 2px rgba(60, 64, 67, 0.3), 0px 1px 3px 1px rgba(60, 64, 67, 0.15);\n",
              "      fill: #174EA6;\n",
              "    }\n",
              "\n",
              "    .colab-df-buttons div {\n",
              "      margin-bottom: 4px;\n",
              "    }\n",
              "\n",
              "    [theme=dark] .colab-df-convert {\n",
              "      background-color: #3B4455;\n",
              "      fill: #D2E3FC;\n",
              "    }\n",
              "\n",
              "    [theme=dark] .colab-df-convert:hover {\n",
              "      background-color: #434B5C;\n",
              "      box-shadow: 0px 1px 3px 1px rgba(0, 0, 0, 0.15);\n",
              "      filter: drop-shadow(0px 1px 2px rgba(0, 0, 0, 0.3));\n",
              "      fill: #FFFFFF;\n",
              "    }\n",
              "  </style>\n",
              "\n",
              "    <script>\n",
              "      const buttonEl =\n",
              "        document.querySelector('#df-d0d851fd-18d1-47c6-84f2-2619b568dfb0 button.colab-df-convert');\n",
              "      buttonEl.style.display =\n",
              "        google.colab.kernel.accessAllowed ? 'block' : 'none';\n",
              "\n",
              "      async function convertToInteractive(key) {\n",
              "        const element = document.querySelector('#df-d0d851fd-18d1-47c6-84f2-2619b568dfb0');\n",
              "        const dataTable =\n",
              "          await google.colab.kernel.invokeFunction('convertToInteractive',\n",
              "                                                    [key], {});\n",
              "        if (!dataTable) return;\n",
              "\n",
              "        const docLinkHtml = 'Like what you see? Visit the ' +\n",
              "          '<a target=\"_blank\" href=https://colab.research.google.com/notebooks/data_table.ipynb>data table notebook</a>'\n",
              "          + ' to learn more about interactive tables.';\n",
              "        element.innerHTML = '';\n",
              "        dataTable['output_type'] = 'display_data';\n",
              "        await google.colab.output.renderOutput(dataTable, element);\n",
              "        const docLink = document.createElement('div');\n",
              "        docLink.innerHTML = docLinkHtml;\n",
              "        element.appendChild(docLink);\n",
              "      }\n",
              "    </script>\n",
              "  </div>\n",
              "\n",
              "\n",
              "<div id=\"df-a43f0de6-fc0e-48d0-ab5f-f4595e43c020\">\n",
              "  <button class=\"colab-df-quickchart\" onclick=\"quickchart('df-a43f0de6-fc0e-48d0-ab5f-f4595e43c020')\"\n",
              "            title=\"Suggest charts.\"\n",
              "            style=\"display:none;\">\n",
              "\n",
              "<svg xmlns=\"http://www.w3.org/2000/svg\" height=\"24px\"viewBox=\"0 0 24 24\"\n",
              "     width=\"24px\">\n",
              "    <g>\n",
              "        <path d=\"M19 3H5c-1.1 0-2 .9-2 2v14c0 1.1.9 2 2 2h14c1.1 0 2-.9 2-2V5c0-1.1-.9-2-2-2zM9 17H7v-7h2v7zm4 0h-2V7h2v10zm4 0h-2v-4h2v4z\"/>\n",
              "    </g>\n",
              "</svg>\n",
              "  </button>\n",
              "\n",
              "<style>\n",
              "  .colab-df-quickchart {\n",
              "    background-color: #E8F0FE;\n",
              "    border: none;\n",
              "    border-radius: 50%;\n",
              "    cursor: pointer;\n",
              "    display: none;\n",
              "    fill: #1967D2;\n",
              "    height: 32px;\n",
              "    padding: 0 0 0 0;\n",
              "    width: 32px;\n",
              "  }\n",
              "\n",
              "  .colab-df-quickchart:hover {\n",
              "    background-color: #E2EBFA;\n",
              "    box-shadow: 0px 1px 2px rgba(60, 64, 67, 0.3), 0px 1px 3px 1px rgba(60, 64, 67, 0.15);\n",
              "    fill: #174EA6;\n",
              "  }\n",
              "\n",
              "  [theme=dark] .colab-df-quickchart {\n",
              "    background-color: #3B4455;\n",
              "    fill: #D2E3FC;\n",
              "  }\n",
              "\n",
              "  [theme=dark] .colab-df-quickchart:hover {\n",
              "    background-color: #434B5C;\n",
              "    box-shadow: 0px 1px 3px 1px rgba(0, 0, 0, 0.15);\n",
              "    filter: drop-shadow(0px 1px 2px rgba(0, 0, 0, 0.3));\n",
              "    fill: #FFFFFF;\n",
              "  }\n",
              "</style>\n",
              "\n",
              "  <script>\n",
              "    async function quickchart(key) {\n",
              "      const charts = await google.colab.kernel.invokeFunction(\n",
              "          'suggestCharts', [key], {});\n",
              "    }\n",
              "    (() => {\n",
              "      let quickchartButtonEl =\n",
              "        document.querySelector('#df-a43f0de6-fc0e-48d0-ab5f-f4595e43c020 button');\n",
              "      quickchartButtonEl.style.display =\n",
              "        google.colab.kernel.accessAllowed ? 'block' : 'none';\n",
              "    })();\n",
              "  </script>\n",
              "</div>\n",
              "    </div>\n",
              "  </div>\n"
            ]
          },
          "metadata": {},
          "execution_count": 3
        }
      ]
    },
    {
      "cell_type": "markdown",
      "source": [
        "### Dataset with numbers"
      ],
      "metadata": {
        "id": "rCr-QEelGAJE"
      }
    },
    {
      "cell_type": "code",
      "source": [
        "data_num = pd.DataFrame({'feature1': [2104, 1416, 852],\n",
        "                         'feature2': [5, 3, 2],\n",
        "                         'feature3': [1, 2, 1],\n",
        "                         'feature4': [45, 40, 35],\n",
        "                         'target': [460, 232, 178]})\n",
        "\n",
        "data_num"
      ],
      "metadata": {
        "colab": {
          "base_uri": "https://localhost:8080/",
          "height": 143
        },
        "id": "S3q_VLGDGNWv",
        "outputId": "37fdd20b-f9a9-482f-913a-e2cb5008c68c"
      },
      "execution_count": 4,
      "outputs": [
        {
          "output_type": "execute_result",
          "data": {
            "text/plain": [
              "   feature1  feature2  feature3  feature4  target\n",
              "0      2104         5         1        45     460\n",
              "1      1416         3         2        40     232\n",
              "2       852         2         1        35     178"
            ],
            "text/html": [
              "\n",
              "  <div id=\"df-0459d8b8-30f7-4ae7-a6f1-8234683b21b7\" class=\"colab-df-container\">\n",
              "    <div>\n",
              "<style scoped>\n",
              "    .dataframe tbody tr th:only-of-type {\n",
              "        vertical-align: middle;\n",
              "    }\n",
              "\n",
              "    .dataframe tbody tr th {\n",
              "        vertical-align: top;\n",
              "    }\n",
              "\n",
              "    .dataframe thead th {\n",
              "        text-align: right;\n",
              "    }\n",
              "</style>\n",
              "<table border=\"1\" class=\"dataframe\">\n",
              "  <thead>\n",
              "    <tr style=\"text-align: right;\">\n",
              "      <th></th>\n",
              "      <th>feature1</th>\n",
              "      <th>feature2</th>\n",
              "      <th>feature3</th>\n",
              "      <th>feature4</th>\n",
              "      <th>target</th>\n",
              "    </tr>\n",
              "  </thead>\n",
              "  <tbody>\n",
              "    <tr>\n",
              "      <th>0</th>\n",
              "      <td>2104</td>\n",
              "      <td>5</td>\n",
              "      <td>1</td>\n",
              "      <td>45</td>\n",
              "      <td>460</td>\n",
              "    </tr>\n",
              "    <tr>\n",
              "      <th>1</th>\n",
              "      <td>1416</td>\n",
              "      <td>3</td>\n",
              "      <td>2</td>\n",
              "      <td>40</td>\n",
              "      <td>232</td>\n",
              "    </tr>\n",
              "    <tr>\n",
              "      <th>2</th>\n",
              "      <td>852</td>\n",
              "      <td>2</td>\n",
              "      <td>1</td>\n",
              "      <td>35</td>\n",
              "      <td>178</td>\n",
              "    </tr>\n",
              "  </tbody>\n",
              "</table>\n",
              "</div>\n",
              "    <div class=\"colab-df-buttons\">\n",
              "\n",
              "  <div class=\"colab-df-container\">\n",
              "    <button class=\"colab-df-convert\" onclick=\"convertToInteractive('df-0459d8b8-30f7-4ae7-a6f1-8234683b21b7')\"\n",
              "            title=\"Convert this dataframe to an interactive table.\"\n",
              "            style=\"display:none;\">\n",
              "\n",
              "  <svg xmlns=\"http://www.w3.org/2000/svg\" height=\"24px\" viewBox=\"0 -960 960 960\">\n",
              "    <path d=\"M120-120v-720h720v720H120Zm60-500h600v-160H180v160Zm220 220h160v-160H400v160Zm0 220h160v-160H400v160ZM180-400h160v-160H180v160Zm440 0h160v-160H620v160ZM180-180h160v-160H180v160Zm440 0h160v-160H620v160Z\"/>\n",
              "  </svg>\n",
              "    </button>\n",
              "\n",
              "  <style>\n",
              "    .colab-df-container {\n",
              "      display:flex;\n",
              "      gap: 12px;\n",
              "    }\n",
              "\n",
              "    .colab-df-convert {\n",
              "      background-color: #E8F0FE;\n",
              "      border: none;\n",
              "      border-radius: 50%;\n",
              "      cursor: pointer;\n",
              "      display: none;\n",
              "      fill: #1967D2;\n",
              "      height: 32px;\n",
              "      padding: 0 0 0 0;\n",
              "      width: 32px;\n",
              "    }\n",
              "\n",
              "    .colab-df-convert:hover {\n",
              "      background-color: #E2EBFA;\n",
              "      box-shadow: 0px 1px 2px rgba(60, 64, 67, 0.3), 0px 1px 3px 1px rgba(60, 64, 67, 0.15);\n",
              "      fill: #174EA6;\n",
              "    }\n",
              "\n",
              "    .colab-df-buttons div {\n",
              "      margin-bottom: 4px;\n",
              "    }\n",
              "\n",
              "    [theme=dark] .colab-df-convert {\n",
              "      background-color: #3B4455;\n",
              "      fill: #D2E3FC;\n",
              "    }\n",
              "\n",
              "    [theme=dark] .colab-df-convert:hover {\n",
              "      background-color: #434B5C;\n",
              "      box-shadow: 0px 1px 3px 1px rgba(0, 0, 0, 0.15);\n",
              "      filter: drop-shadow(0px 1px 2px rgba(0, 0, 0, 0.3));\n",
              "      fill: #FFFFFF;\n",
              "    }\n",
              "  </style>\n",
              "\n",
              "    <script>\n",
              "      const buttonEl =\n",
              "        document.querySelector('#df-0459d8b8-30f7-4ae7-a6f1-8234683b21b7 button.colab-df-convert');\n",
              "      buttonEl.style.display =\n",
              "        google.colab.kernel.accessAllowed ? 'block' : 'none';\n",
              "\n",
              "      async function convertToInteractive(key) {\n",
              "        const element = document.querySelector('#df-0459d8b8-30f7-4ae7-a6f1-8234683b21b7');\n",
              "        const dataTable =\n",
              "          await google.colab.kernel.invokeFunction('convertToInteractive',\n",
              "                                                    [key], {});\n",
              "        if (!dataTable) return;\n",
              "\n",
              "        const docLinkHtml = 'Like what you see? Visit the ' +\n",
              "          '<a target=\"_blank\" href=https://colab.research.google.com/notebooks/data_table.ipynb>data table notebook</a>'\n",
              "          + ' to learn more about interactive tables.';\n",
              "        element.innerHTML = '';\n",
              "        dataTable['output_type'] = 'display_data';\n",
              "        await google.colab.output.renderOutput(dataTable, element);\n",
              "        const docLink = document.createElement('div');\n",
              "        docLink.innerHTML = docLinkHtml;\n",
              "        element.appendChild(docLink);\n",
              "      }\n",
              "    </script>\n",
              "  </div>\n",
              "\n",
              "\n",
              "<div id=\"df-b18cbcd7-8b4d-46e7-b5ce-e48cc09ca692\">\n",
              "  <button class=\"colab-df-quickchart\" onclick=\"quickchart('df-b18cbcd7-8b4d-46e7-b5ce-e48cc09ca692')\"\n",
              "            title=\"Suggest charts.\"\n",
              "            style=\"display:none;\">\n",
              "\n",
              "<svg xmlns=\"http://www.w3.org/2000/svg\" height=\"24px\"viewBox=\"0 0 24 24\"\n",
              "     width=\"24px\">\n",
              "    <g>\n",
              "        <path d=\"M19 3H5c-1.1 0-2 .9-2 2v14c0 1.1.9 2 2 2h14c1.1 0 2-.9 2-2V5c0-1.1-.9-2-2-2zM9 17H7v-7h2v7zm4 0h-2V7h2v10zm4 0h-2v-4h2v4z\"/>\n",
              "    </g>\n",
              "</svg>\n",
              "  </button>\n",
              "\n",
              "<style>\n",
              "  .colab-df-quickchart {\n",
              "    background-color: #E8F0FE;\n",
              "    border: none;\n",
              "    border-radius: 50%;\n",
              "    cursor: pointer;\n",
              "    display: none;\n",
              "    fill: #1967D2;\n",
              "    height: 32px;\n",
              "    padding: 0 0 0 0;\n",
              "    width: 32px;\n",
              "  }\n",
              "\n",
              "  .colab-df-quickchart:hover {\n",
              "    background-color: #E2EBFA;\n",
              "    box-shadow: 0px 1px 2px rgba(60, 64, 67, 0.3), 0px 1px 3px 1px rgba(60, 64, 67, 0.15);\n",
              "    fill: #174EA6;\n",
              "  }\n",
              "\n",
              "  [theme=dark] .colab-df-quickchart {\n",
              "    background-color: #3B4455;\n",
              "    fill: #D2E3FC;\n",
              "  }\n",
              "\n",
              "  [theme=dark] .colab-df-quickchart:hover {\n",
              "    background-color: #434B5C;\n",
              "    box-shadow: 0px 1px 3px 1px rgba(0, 0, 0, 0.15);\n",
              "    filter: drop-shadow(0px 1px 2px rgba(0, 0, 0, 0.3));\n",
              "    fill: #FFFFFF;\n",
              "  }\n",
              "</style>\n",
              "\n",
              "  <script>\n",
              "    async function quickchart(key) {\n",
              "      const charts = await google.colab.kernel.invokeFunction(\n",
              "          'suggestCharts', [key], {});\n",
              "    }\n",
              "    (() => {\n",
              "      let quickchartButtonEl =\n",
              "        document.querySelector('#df-b18cbcd7-8b4d-46e7-b5ce-e48cc09ca692 button');\n",
              "      quickchartButtonEl.style.display =\n",
              "        google.colab.kernel.accessAllowed ? 'block' : 'none';\n",
              "    })();\n",
              "  </script>\n",
              "</div>\n",
              "    </div>\n",
              "  </div>\n"
            ]
          },
          "metadata": {},
          "execution_count": 4
        }
      ]
    },
    {
      "cell_type": "code",
      "source": [
        "# optimal w and b for testing\n",
        "wn_best = sym.Matrix(np.array([ 0.39133535, 18.75376741, -53.36032453, -26.42131618]))\n",
        "bn_best = 785.1811367994083\n",
        "wn_best"
      ],
      "metadata": {
        "colab": {
          "base_uri": "https://localhost:8080/",
          "height": 98
        },
        "id": "eHw8qzUZewF8",
        "outputId": "6f8222f0-8f8f-418b-c9ee-57fe2a7627b4"
      },
      "execution_count": 5,
      "outputs": [
        {
          "output_type": "execute_result",
          "data": {
            "text/plain": [
              "Matrix([\n",
              "[  0.39133535],\n",
              "[ 18.75376741],\n",
              "[-53.36032453],\n",
              "[-26.42131618]])"
            ],
            "text/latex": "$\\displaystyle \\left[\\begin{matrix}0.39133535\\\\18.75376741\\\\-53.36032453\\\\-26.42131618\\end{matrix}\\right]$"
          },
          "metadata": {},
          "execution_count": 5
        }
      ]
    },
    {
      "cell_type": "markdown",
      "source": [
        "### Dataset for simple linear regression"
      ],
      "metadata": {
        "id": "CXt-KXXDIONQ"
      }
    },
    {
      "cell_type": "code",
      "source": [
        "data_simple = pd.DataFrame({'feature': [1, 2],\n",
        "                            'target': [300, 500]})\n",
        "data_simple"
      ],
      "metadata": {
        "colab": {
          "base_uri": "https://localhost:8080/",
          "height": 112
        },
        "id": "gJYhPX_eISuK",
        "outputId": "f97307eb-247c-4161-f4f0-af1db8689943"
      },
      "execution_count": 6,
      "outputs": [
        {
          "output_type": "execute_result",
          "data": {
            "text/plain": [
              "   feature  target\n",
              "0        1     300\n",
              "1        2     500"
            ],
            "text/html": [
              "\n",
              "  <div id=\"df-d0d51819-b5e0-47a8-80c2-a9db6df433db\" class=\"colab-df-container\">\n",
              "    <div>\n",
              "<style scoped>\n",
              "    .dataframe tbody tr th:only-of-type {\n",
              "        vertical-align: middle;\n",
              "    }\n",
              "\n",
              "    .dataframe tbody tr th {\n",
              "        vertical-align: top;\n",
              "    }\n",
              "\n",
              "    .dataframe thead th {\n",
              "        text-align: right;\n",
              "    }\n",
              "</style>\n",
              "<table border=\"1\" class=\"dataframe\">\n",
              "  <thead>\n",
              "    <tr style=\"text-align: right;\">\n",
              "      <th></th>\n",
              "      <th>feature</th>\n",
              "      <th>target</th>\n",
              "    </tr>\n",
              "  </thead>\n",
              "  <tbody>\n",
              "    <tr>\n",
              "      <th>0</th>\n",
              "      <td>1</td>\n",
              "      <td>300</td>\n",
              "    </tr>\n",
              "    <tr>\n",
              "      <th>1</th>\n",
              "      <td>2</td>\n",
              "      <td>500</td>\n",
              "    </tr>\n",
              "  </tbody>\n",
              "</table>\n",
              "</div>\n",
              "    <div class=\"colab-df-buttons\">\n",
              "\n",
              "  <div class=\"colab-df-container\">\n",
              "    <button class=\"colab-df-convert\" onclick=\"convertToInteractive('df-d0d51819-b5e0-47a8-80c2-a9db6df433db')\"\n",
              "            title=\"Convert this dataframe to an interactive table.\"\n",
              "            style=\"display:none;\">\n",
              "\n",
              "  <svg xmlns=\"http://www.w3.org/2000/svg\" height=\"24px\" viewBox=\"0 -960 960 960\">\n",
              "    <path d=\"M120-120v-720h720v720H120Zm60-500h600v-160H180v160Zm220 220h160v-160H400v160Zm0 220h160v-160H400v160ZM180-400h160v-160H180v160Zm440 0h160v-160H620v160ZM180-180h160v-160H180v160Zm440 0h160v-160H620v160Z\"/>\n",
              "  </svg>\n",
              "    </button>\n",
              "\n",
              "  <style>\n",
              "    .colab-df-container {\n",
              "      display:flex;\n",
              "      gap: 12px;\n",
              "    }\n",
              "\n",
              "    .colab-df-convert {\n",
              "      background-color: #E8F0FE;\n",
              "      border: none;\n",
              "      border-radius: 50%;\n",
              "      cursor: pointer;\n",
              "      display: none;\n",
              "      fill: #1967D2;\n",
              "      height: 32px;\n",
              "      padding: 0 0 0 0;\n",
              "      width: 32px;\n",
              "    }\n",
              "\n",
              "    .colab-df-convert:hover {\n",
              "      background-color: #E2EBFA;\n",
              "      box-shadow: 0px 1px 2px rgba(60, 64, 67, 0.3), 0px 1px 3px 1px rgba(60, 64, 67, 0.15);\n",
              "      fill: #174EA6;\n",
              "    }\n",
              "\n",
              "    .colab-df-buttons div {\n",
              "      margin-bottom: 4px;\n",
              "    }\n",
              "\n",
              "    [theme=dark] .colab-df-convert {\n",
              "      background-color: #3B4455;\n",
              "      fill: #D2E3FC;\n",
              "    }\n",
              "\n",
              "    [theme=dark] .colab-df-convert:hover {\n",
              "      background-color: #434B5C;\n",
              "      box-shadow: 0px 1px 3px 1px rgba(0, 0, 0, 0.15);\n",
              "      filter: drop-shadow(0px 1px 2px rgba(0, 0, 0, 0.3));\n",
              "      fill: #FFFFFF;\n",
              "    }\n",
              "  </style>\n",
              "\n",
              "    <script>\n",
              "      const buttonEl =\n",
              "        document.querySelector('#df-d0d51819-b5e0-47a8-80c2-a9db6df433db button.colab-df-convert');\n",
              "      buttonEl.style.display =\n",
              "        google.colab.kernel.accessAllowed ? 'block' : 'none';\n",
              "\n",
              "      async function convertToInteractive(key) {\n",
              "        const element = document.querySelector('#df-d0d51819-b5e0-47a8-80c2-a9db6df433db');\n",
              "        const dataTable =\n",
              "          await google.colab.kernel.invokeFunction('convertToInteractive',\n",
              "                                                    [key], {});\n",
              "        if (!dataTable) return;\n",
              "\n",
              "        const docLinkHtml = 'Like what you see? Visit the ' +\n",
              "          '<a target=\"_blank\" href=https://colab.research.google.com/notebooks/data_table.ipynb>data table notebook</a>'\n",
              "          + ' to learn more about interactive tables.';\n",
              "        element.innerHTML = '';\n",
              "        dataTable['output_type'] = 'display_data';\n",
              "        await google.colab.output.renderOutput(dataTable, element);\n",
              "        const docLink = document.createElement('div');\n",
              "        docLink.innerHTML = docLinkHtml;\n",
              "        element.appendChild(docLink);\n",
              "      }\n",
              "    </script>\n",
              "  </div>\n",
              "\n",
              "\n",
              "<div id=\"df-1a4cbada-6ff3-42f5-9ae3-2513f5a8f193\">\n",
              "  <button class=\"colab-df-quickchart\" onclick=\"quickchart('df-1a4cbada-6ff3-42f5-9ae3-2513f5a8f193')\"\n",
              "            title=\"Suggest charts.\"\n",
              "            style=\"display:none;\">\n",
              "\n",
              "<svg xmlns=\"http://www.w3.org/2000/svg\" height=\"24px\"viewBox=\"0 0 24 24\"\n",
              "     width=\"24px\">\n",
              "    <g>\n",
              "        <path d=\"M19 3H5c-1.1 0-2 .9-2 2v14c0 1.1.9 2 2 2h14c1.1 0 2-.9 2-2V5c0-1.1-.9-2-2-2zM9 17H7v-7h2v7zm4 0h-2V7h2v10zm4 0h-2v-4h2v4z\"/>\n",
              "    </g>\n",
              "</svg>\n",
              "  </button>\n",
              "\n",
              "<style>\n",
              "  .colab-df-quickchart {\n",
              "    background-color: #E8F0FE;\n",
              "    border: none;\n",
              "    border-radius: 50%;\n",
              "    cursor: pointer;\n",
              "    display: none;\n",
              "    fill: #1967D2;\n",
              "    height: 32px;\n",
              "    padding: 0 0 0 0;\n",
              "    width: 32px;\n",
              "  }\n",
              "\n",
              "  .colab-df-quickchart:hover {\n",
              "    background-color: #E2EBFA;\n",
              "    box-shadow: 0px 1px 2px rgba(60, 64, 67, 0.3), 0px 1px 3px 1px rgba(60, 64, 67, 0.15);\n",
              "    fill: #174EA6;\n",
              "  }\n",
              "\n",
              "  [theme=dark] .colab-df-quickchart {\n",
              "    background-color: #3B4455;\n",
              "    fill: #D2E3FC;\n",
              "  }\n",
              "\n",
              "  [theme=dark] .colab-df-quickchart:hover {\n",
              "    background-color: #434B5C;\n",
              "    box-shadow: 0px 1px 3px 1px rgba(0, 0, 0, 0.15);\n",
              "    filter: drop-shadow(0px 1px 2px rgba(0, 0, 0, 0.3));\n",
              "    fill: #FFFFFF;\n",
              "  }\n",
              "</style>\n",
              "\n",
              "  <script>\n",
              "    async function quickchart(key) {\n",
              "      const charts = await google.colab.kernel.invokeFunction(\n",
              "          'suggestCharts', [key], {});\n",
              "    }\n",
              "    (() => {\n",
              "      let quickchartButtonEl =\n",
              "        document.querySelector('#df-1a4cbada-6ff3-42f5-9ae3-2513f5a8f193 button');\n",
              "      quickchartButtonEl.style.display =\n",
              "        google.colab.kernel.accessAllowed ? 'block' : 'none';\n",
              "    })();\n",
              "  </script>\n",
              "</div>\n",
              "    </div>\n",
              "  </div>\n"
            ]
          },
          "metadata": {},
          "execution_count": 6
        }
      ]
    },
    {
      "cell_type": "code",
      "source": [
        "# optimal m and b for testing\n",
        "ms_best = 200\n",
        "bs_best = 100"
      ],
      "metadata": {
        "id": "7ln7TtlbfbzV"
      },
      "execution_count": 7,
      "outputs": []
    },
    {
      "cell_type": "markdown",
      "source": [
        "## Using `sympy` Matrices to train the model\n",
        "\n",
        "`X_train` is represented by the matrix $\\mathbf{X}$\n",
        "\n",
        "$$\n",
        "\\mathbf{X} = \\begin{bmatrix}\n",
        "x_{11} & x_{12} & x_{13} & x_{14}\\\\\n",
        "x_{21} & x_{22} & x_{23} & x_{24}\\\\\n",
        "x_{31} & x_{32} & x_{33} & x_{34}\\\\\n",
        "\\end{bmatrix}\n",
        "$$\n",
        "\n",
        "`y_train` is represented by the column matrix $\\mathbf{y}$.\n",
        "\n",
        "$$\n",
        "\\mathbf{y} = \\begin{bmatrix}y_1\\\\y_2\\\\y_3\\end{bmatrix}\n",
        "$$\n",
        "\n",
        "The weights of the model are represented by the matrix $\\mathbf{w}$ the bias is represented by the scalar $b$.\n",
        "\n",
        "$$\n",
        "\\mathbf{w} = \\begin{bmatrix}w_1\\\\w_2\\\\w_3\\\\w_4\\end{bmatrix}\n",
        "$$\n",
        "\n",
        "The goal of linear regression is to find the values for $\\mathbf{w}$ and $b$ that minimize the cost. The cost is defined later with the cost funtion, but in a nutshell, the closer the left side of this \"equation\" is to the right side, the lower the cost. The left side are the model's predictions, $\\widehat{y}$, the right side are the actual values for the target, $y$.\n",
        "\n",
        "$$\n",
        "\\begin{align}\n",
        "\\mathbf{X}\\mathbf{w} + b &= \\mathbf{y} \\\\\n",
        "\\begin{bmatrix}\n",
        "x_{11} & x_{12} & x_{13} & x_{14}\\\\\n",
        "x_{21} & x_{22} & x_{23} & x_{24}\\\\\n",
        "x_{31} & x_{32} & x_{33} & x_{34}\\\\\n",
        "\\end{bmatrix}\n",
        "\\begin{bmatrix}w_1\\\\w_2\\\\w_3\\\\w_4\\end{bmatrix} +\n",
        "b\\begin{bmatrix}1\\\\1\\\\1\\end{bmatrix} &= \\begin{bmatrix}y_1\\\\y_2\\\\y_3\\end{bmatrix} \\\\\n",
        "\\begin{bmatrix}\n",
        "w_1x_{11} + w_2x_{12} + w_3x_{13} + w_4x_{14} + b\\\\\n",
        "w_1x_{21} + w_2x_{22} + w_3x_{23} + w_4x_{24} + b\\\\\n",
        "w_1x_{31} + w_2x_{32} + w_3x_{33} + w_4x_{34} + b\n",
        "\\end{bmatrix} &= \\begin{bmatrix}y_1\\\\y_2\\\\y_3\\end{bmatrix}\n",
        "\\end{align}\n",
        "$$\n",
        "\n"
      ],
      "metadata": {
        "id": "NcoA8CNqcy6W"
      }
    },
    {
      "cell_type": "code",
      "source": [
        "X = sym.Matrix(data.drop('target', axis=1))\n",
        "y = sym.Matrix(data['target'])\n",
        "w = sym.Matrix([w1, w2, w3, w4])\n",
        "\n",
        "X @ w + b * sym.Matrix([1, 1, 1])"
      ],
      "metadata": {
        "colab": {
          "base_uri": "https://localhost:8080/",
          "height": 78
        },
        "id": "UNSKDGpTrGkG",
        "outputId": "f1ec6b91-7831-44fd-88b2-ecc7d8433fb4"
      },
      "execution_count": 8,
      "outputs": [
        {
          "output_type": "execute_result",
          "data": {
            "text/plain": [
              "Matrix([\n",
              "[b + w_1*x_{11} + w_2*x_{12} + w_3*x_{13} + w_4*x_{14}],\n",
              "[b + w_1*x_{21} + w_2*x_{22} + w_3*x_{23} + w_4*x_{24}],\n",
              "[b + w_1*x_{31} + w_2*x_{32} + w_3*x_{33} + w_4*x_{34}]])"
            ],
            "text/latex": "$\\displaystyle \\left[\\begin{matrix}b + w_{1} x_{11} + w_{2} x_{12} + w_{3} x_{13} + w_{4} x_{14}\\\\b + w_{1} x_{21} + w_{2} x_{22} + w_{3} x_{23} + w_{4} x_{24}\\\\b + w_{1} x_{31} + w_{2} x_{32} + w_{3} x_{33} + w_{4} x_{34}\\end{matrix}\\right]$"
          },
          "metadata": {},
          "execution_count": 8
        }
      ]
    },
    {
      "cell_type": "code",
      "source": [
        "y"
      ],
      "metadata": {
        "colab": {
          "base_uri": "https://localhost:8080/",
          "height": 78
        },
        "id": "dIaPj2qCwppI",
        "outputId": "7bcc5ce3-2e61-44a5-b097-5a25914bfb22"
      },
      "execution_count": 9,
      "outputs": [
        {
          "output_type": "execute_result",
          "data": {
            "text/plain": [
              "Matrix([\n",
              "[y_1],\n",
              "[y_2],\n",
              "[y_3]])"
            ],
            "text/latex": "$\\displaystyle \\left[\\begin{matrix}y_{1}\\\\y_{2}\\\\y_{3}\\end{matrix}\\right]$"
          },
          "metadata": {},
          "execution_count": 9
        }
      ]
    },
    {
      "cell_type": "code",
      "source": [
        "# dataset with numbers\n",
        "Xn = sym.Matrix(data_num.drop('target', axis=1))\n",
        "yn = sym.Matrix(data_num['target'])"
      ],
      "metadata": {
        "id": "oztx7qQfI3_1"
      },
      "execution_count": 10,
      "outputs": []
    },
    {
      "cell_type": "code",
      "source": [
        "# dataset for simple linear regression\n",
        "Xs = sym.Matrix(data_simple.drop('target', axis=1))\n",
        "ys = sym.Matrix(data_simple['target'])"
      ],
      "metadata": {
        "id": "8Qyz7dhsJVLt"
      },
      "execution_count": 11,
      "outputs": []
    },
    {
      "cell_type": "markdown",
      "source": [
        "## The Model Prediction\n",
        "\n",
        "$$\n",
        "f_{\\mathbf{w},b}(\\mathbf{x}^{(i)}) = \\mathbf{w}\\cdot\\mathbf{x}^{(i)} + b\n",
        "$$\n",
        "\n",
        "where\n",
        "\n",
        "- $\\mathbf{x}$ is a vector representing the $i^{th}$ row of $\\mathbf{X}$\n",
        "- $\\mathbf{w}$ is vector containing the weights of the model\n",
        "- $b$ is a scalar representing the bias"
      ],
      "metadata": {
        "id": "EhK4E_wpeQNm"
      }
    },
    {
      "cell_type": "code",
      "source": [
        "# `X * w` is used instead of `X @ w`\n",
        "#   so that the function also works\n",
        "#   for simple linear regression\n",
        "def f_wb(X, w, b):\n",
        "    m = X.shape[0]\n",
        "    pred = X * w + b * sym.ones(m, 1)\n",
        "    return pred"
      ],
      "metadata": {
        "id": "iJO3dQp2zsEL"
      },
      "execution_count": 12,
      "outputs": []
    },
    {
      "cell_type": "code",
      "source": [
        "# works with a single row\n",
        "f_wb(X[0,:], w, b)"
      ],
      "metadata": {
        "colab": {
          "base_uri": "https://localhost:8080/",
          "height": 38
        },
        "id": "mB8nxlVD0aP6",
        "outputId": "1ef938e9-7e86-4341-c2e2-7b81bd94527b"
      },
      "execution_count": 13,
      "outputs": [
        {
          "output_type": "execute_result",
          "data": {
            "text/plain": [
              "Matrix([[b + w_1*x_{11} + w_2*x_{12} + w_3*x_{13} + w_4*x_{14}]])"
            ],
            "text/latex": "$\\displaystyle \\left[\\begin{matrix}b + w_{1} x_{11} + w_{2} x_{12} + w_{3} x_{13} + w_{4} x_{14}\\end{matrix}\\right]$"
          },
          "metadata": {},
          "execution_count": 13
        }
      ]
    },
    {
      "cell_type": "code",
      "source": [
        "f_wb(Xn[0,:], w, b)"
      ],
      "metadata": {
        "colab": {
          "base_uri": "https://localhost:8080/",
          "height": 38
        },
        "id": "5pvMiaS7KBt_",
        "outputId": "d71da115-82bc-45b5-ad1e-3c2c1afa0a2c"
      },
      "execution_count": 14,
      "outputs": [
        {
          "output_type": "execute_result",
          "data": {
            "text/plain": [
              "Matrix([[b + 2104*w_1 + 5*w_2 + w_3 + 45*w_4]])"
            ],
            "text/latex": "$\\displaystyle \\left[\\begin{matrix}b + 2104 w_{1} + 5 w_{2} + w_{3} + 45 w_{4}\\end{matrix}\\right]$"
          },
          "metadata": {},
          "execution_count": 14
        }
      ]
    },
    {
      "cell_type": "code",
      "source": [
        "# works with multiple rows\n",
        "f_wb(X, w, b)"
      ],
      "metadata": {
        "colab": {
          "base_uri": "https://localhost:8080/",
          "height": 78
        },
        "id": "ai3Qhu3p0zSG",
        "outputId": "64356cb2-e106-451b-e24b-da65dd0e5dd0"
      },
      "execution_count": 15,
      "outputs": [
        {
          "output_type": "execute_result",
          "data": {
            "text/plain": [
              "Matrix([\n",
              "[b + w_1*x_{11} + w_2*x_{12} + w_3*x_{13} + w_4*x_{14}],\n",
              "[b + w_1*x_{21} + w_2*x_{22} + w_3*x_{23} + w_4*x_{24}],\n",
              "[b + w_1*x_{31} + w_2*x_{32} + w_3*x_{33} + w_4*x_{34}]])"
            ],
            "text/latex": "$\\displaystyle \\left[\\begin{matrix}b + w_{1} x_{11} + w_{2} x_{12} + w_{3} x_{13} + w_{4} x_{14}\\\\b + w_{1} x_{21} + w_{2} x_{22} + w_{3} x_{23} + w_{4} x_{24}\\\\b + w_{1} x_{31} + w_{2} x_{32} + w_{3} x_{33} + w_{4} x_{34}\\end{matrix}\\right]$"
          },
          "metadata": {},
          "execution_count": 15
        }
      ]
    },
    {
      "cell_type": "code",
      "source": [
        "f_wb(Xn, w, b)"
      ],
      "metadata": {
        "colab": {
          "base_uri": "https://localhost:8080/",
          "height": 78
        },
        "id": "3mMkr6tJKOXr",
        "outputId": "f1102d54-cf14-4d5c-8e1f-15e5a2b73349"
      },
      "execution_count": 16,
      "outputs": [
        {
          "output_type": "execute_result",
          "data": {
            "text/plain": [
              "Matrix([\n",
              "[  b + 2104*w_1 + 5*w_2 + w_3 + 45*w_4],\n",
              "[b + 1416*w_1 + 3*w_2 + 2*w_3 + 40*w_4],\n",
              "[   b + 852*w_1 + 2*w_2 + w_3 + 35*w_4]])"
            ],
            "text/latex": "$\\displaystyle \\left[\\begin{matrix}b + 2104 w_{1} + 5 w_{2} + w_{3} + 45 w_{4}\\\\b + 1416 w_{1} + 3 w_{2} + 2 w_{3} + 40 w_{4}\\\\b + 852 w_{1} + 2 w_{2} + w_{3} + 35 w_{4}\\end{matrix}\\right]$"
          },
          "metadata": {},
          "execution_count": 16
        }
      ]
    },
    {
      "cell_type": "code",
      "source": [
        "# works with simple linear regression\n",
        "f_wb(X[:,0], m1, b)"
      ],
      "metadata": {
        "colab": {
          "base_uri": "https://localhost:8080/",
          "height": 78
        },
        "id": "hSw1W0C-2IxT",
        "outputId": "d9b01c2a-a929-478e-9d9b-57d3553884ef"
      },
      "execution_count": 17,
      "outputs": [
        {
          "output_type": "execute_result",
          "data": {
            "text/plain": [
              "Matrix([\n",
              "[b + m_1*x_{11}],\n",
              "[b + m_1*x_{21}],\n",
              "[b + m_1*x_{31}]])"
            ],
            "text/latex": "$\\displaystyle \\left[\\begin{matrix}b + m_{1} x_{11}\\\\b + m_{1} x_{21}\\\\b + m_{1} x_{31}\\end{matrix}\\right]$"
          },
          "metadata": {},
          "execution_count": 17
        }
      ]
    },
    {
      "cell_type": "code",
      "source": [
        "f_wb(Xs, m1, b)"
      ],
      "metadata": {
        "colab": {
          "base_uri": "https://localhost:8080/",
          "height": 58
        },
        "id": "aqNG3DBaKUso",
        "outputId": "586f2815-5487-4d5d-d939-a59d6545376c"
      },
      "execution_count": 18,
      "outputs": [
        {
          "output_type": "execute_result",
          "data": {
            "text/plain": [
              "Matrix([\n",
              "[  b + m_1],\n",
              "[b + 2*m_1]])"
            ],
            "text/latex": "$\\displaystyle \\left[\\begin{matrix}b + m_{1}\\\\b + 2 m_{1}\\end{matrix}\\right]$"
          },
          "metadata": {},
          "execution_count": 18
        }
      ]
    },
    {
      "cell_type": "markdown",
      "source": [
        "## The Cost Function\n",
        "\n",
        "$$\n",
        "J(\\mathbf{w},b) = \\frac{1}{2m} \\sum\\limits_{i = 0}^{m-1} (f_{\\mathbf{w},b}(\\mathbf{x}^{(i)}) - y^{(i)})^2\n",
        "$$"
      ],
      "metadata": {
        "id": "PFJC7S4A5WLP"
      }
    },
    {
      "cell_type": "code",
      "source": [
        "def compute_cost_loop(X, y, w, b):\n",
        "    m = X.shape[0]\n",
        "    cost = sym.Matrix([0.0])\n",
        "\n",
        "    for i in range(m):\n",
        "        f_wb_i = f_wb(X[i,:], w, b)\n",
        "        cost = cost + (f_wb_i - sym.Matrix([y[i]])).applyfunc(lambda x: x**2)\n",
        "    cost = cost / (2 * m)\n",
        "    return cost[0]"
      ],
      "metadata": {
        "id": "YDXjp9Ld9Gjh"
      },
      "execution_count": 19,
      "outputs": []
    },
    {
      "cell_type": "code",
      "source": [
        "# works for multiple linear regression\n",
        "compute_cost_loop(X, y, w, b)"
      ],
      "metadata": {
        "colab": {
          "base_uri": "https://localhost:8080/",
          "height": 56
        },
        "id": "NO-7EWGTCGO7",
        "outputId": "560ac285-a351-4a94-ebcc-89346c3c15a3"
      },
      "execution_count": 20,
      "outputs": [
        {
          "output_type": "execute_result",
          "data": {
            "text/plain": [
              "(b + w_1*x_{11} + w_2*x_{12} + w_3*x_{13} + w_4*x_{14} - y_1)**2/6 + (b + w_1*x_{21} + w_2*x_{22} + w_3*x_{23} + w_4*x_{24} - y_2)**2/6 + (b + w_1*x_{31} + w_2*x_{32} + w_3*x_{33} + w_4*x_{34} - y_3)**2/6"
            ],
            "text/latex": "$\\displaystyle \\frac{\\left(b + w_{1} x_{11} + w_{2} x_{12} + w_{3} x_{13} + w_{4} x_{14} - y_{1}\\right)^{2}}{6} + \\frac{\\left(b + w_{1} x_{21} + w_{2} x_{22} + w_{3} x_{23} + w_{4} x_{24} - y_{2}\\right)^{2}}{6} + \\frac{\\left(b + w_{1} x_{31} + w_{2} x_{32} + w_{3} x_{33} + w_{4} x_{34} - y_{3}\\right)^{2}}{6}$"
          },
          "metadata": {},
          "execution_count": 20
        }
      ]
    },
    {
      "cell_type": "code",
      "source": [
        "compute_cost_loop(Xn, yn, w, b)"
      ],
      "metadata": {
        "colab": {
          "base_uri": "https://localhost:8080/",
          "height": 56
        },
        "id": "x9mRClYeTqys",
        "outputId": "43cac356-1971-432f-b10c-22d33a4d6af6"
      },
      "execution_count": 21,
      "outputs": [
        {
          "output_type": "execute_result",
          "data": {
            "text/plain": [
              "(b + 852*w_1 + 2*w_2 + w_3 + 35*w_4 - 178)**2/6 + (b + 1416*w_1 + 3*w_2 + 2*w_3 + 40*w_4 - 232)**2/6 + (b + 2104*w_1 + 5*w_2 + w_3 + 45*w_4 - 460)**2/6"
            ],
            "text/latex": "$\\displaystyle \\frac{\\left(b + 852 w_{1} + 2 w_{2} + w_{3} + 35 w_{4} - 178\\right)^{2}}{6} + \\frac{\\left(b + 1416 w_{1} + 3 w_{2} + 2 w_{3} + 40 w_{4} - 232\\right)^{2}}{6} + \\frac{\\left(b + 2104 w_{1} + 5 w_{2} + w_{3} + 45 w_{4} - 460\\right)^{2}}{6}$"
          },
          "metadata": {},
          "execution_count": 21
        }
      ]
    },
    {
      "cell_type": "code",
      "source": [
        "# works for simple linear regression\n",
        "compute_cost_loop(X[:,0], y, m1, b)"
      ],
      "metadata": {
        "colab": {
          "base_uri": "https://localhost:8080/",
          "height": 56
        },
        "id": "DoB8hw0eCLCs",
        "outputId": "4ed4b53e-c5a5-47cf-d71d-3a80a6b17313"
      },
      "execution_count": 22,
      "outputs": [
        {
          "output_type": "execute_result",
          "data": {
            "text/plain": [
              "(b + m_1*x_{11} - y_1)**2/6 + (b + m_1*x_{21} - y_2)**2/6 + (b + m_1*x_{31} - y_3)**2/6"
            ],
            "text/latex": "$\\displaystyle \\frac{\\left(b + m_{1} x_{11} - y_{1}\\right)^{2}}{6} + \\frac{\\left(b + m_{1} x_{21} - y_{2}\\right)^{2}}{6} + \\frac{\\left(b + m_{1} x_{31} - y_{3}\\right)^{2}}{6}$"
          },
          "metadata": {},
          "execution_count": 22
        }
      ]
    },
    {
      "cell_type": "code",
      "source": [
        "compute_cost_loop(Xs, ys, m1, b)"
      ],
      "metadata": {
        "colab": {
          "base_uri": "https://localhost:8080/",
          "height": 56
        },
        "id": "l5ymtKDQTuLi",
        "outputId": "d0b3997e-8b04-4536-9e09-cfee8d09c60d"
      },
      "execution_count": 23,
      "outputs": [
        {
          "output_type": "execute_result",
          "data": {
            "text/plain": [
              "(b + m_1 - 300)**2/4 + (b + 2*m_1 - 500)**2/4"
            ],
            "text/latex": "$\\displaystyle \\frac{\\left(b + m_{1} - 300\\right)^{2}}{4} + \\frac{\\left(b + 2 m_{1} - 500\\right)^{2}}{4}$"
          },
          "metadata": {},
          "execution_count": 23
        }
      ]
    },
    {
      "cell_type": "markdown",
      "source": [
        "This can also be implemented without the loop."
      ],
      "metadata": {
        "id": "Gb15C2bjB2xR"
      }
    },
    {
      "cell_type": "code",
      "source": [
        "def compute_cost(X, y, w, b):\n",
        "    m = X.shape[0]\n",
        "    pred = f_wb(X, w, b)\n",
        "    cost = sum((pred - y).applyfunc(lambda x: x**2)) / (2 * m)\n",
        "    return cost"
      ],
      "metadata": {
        "id": "bbaffmLlFWXp"
      },
      "execution_count": 24,
      "outputs": []
    },
    {
      "cell_type": "code",
      "source": [
        "# works for mulitiple linear regression\n",
        "compute_cost(X, y, w, b)"
      ],
      "metadata": {
        "colab": {
          "base_uri": "https://localhost:8080/",
          "height": 56
        },
        "id": "NjmvpYK2MSu3",
        "outputId": "f5cb47d5-c500-4dc5-9b37-5ffeffd45f1f"
      },
      "execution_count": 25,
      "outputs": [
        {
          "output_type": "execute_result",
          "data": {
            "text/plain": [
              "(b + w_1*x_{11} + w_2*x_{12} + w_3*x_{13} + w_4*x_{14} - y_1)**2/6 + (b + w_1*x_{21} + w_2*x_{22} + w_3*x_{23} + w_4*x_{24} - y_2)**2/6 + (b + w_1*x_{31} + w_2*x_{32} + w_3*x_{33} + w_4*x_{34} - y_3)**2/6"
            ],
            "text/latex": "$\\displaystyle \\frac{\\left(b + w_{1} x_{11} + w_{2} x_{12} + w_{3} x_{13} + w_{4} x_{14} - y_{1}\\right)^{2}}{6} + \\frac{\\left(b + w_{1} x_{21} + w_{2} x_{22} + w_{3} x_{23} + w_{4} x_{24} - y_{2}\\right)^{2}}{6} + \\frac{\\left(b + w_{1} x_{31} + w_{2} x_{32} + w_{3} x_{33} + w_{4} x_{34} - y_{3}\\right)^{2}}{6}$"
          },
          "metadata": {},
          "execution_count": 25
        }
      ]
    },
    {
      "cell_type": "code",
      "source": [
        "compute_cost(Xn, yn, w, b)"
      ],
      "metadata": {
        "colab": {
          "base_uri": "https://localhost:8080/",
          "height": 56
        },
        "id": "F1ozyo3XMoM8",
        "outputId": "8a2b8624-8223-4c1d-c714-7d13e41c4eb6"
      },
      "execution_count": 26,
      "outputs": [
        {
          "output_type": "execute_result",
          "data": {
            "text/plain": [
              "(b + 852*w_1 + 2*w_2 + w_3 + 35*w_4 - 178)**2/6 + (b + 1416*w_1 + 3*w_2 + 2*w_3 + 40*w_4 - 232)**2/6 + (b + 2104*w_1 + 5*w_2 + w_3 + 45*w_4 - 460)**2/6"
            ],
            "text/latex": "$\\displaystyle \\frac{\\left(b + 852 w_{1} + 2 w_{2} + w_{3} + 35 w_{4} - 178\\right)^{2}}{6} + \\frac{\\left(b + 1416 w_{1} + 3 w_{2} + 2 w_{3} + 40 w_{4} - 232\\right)^{2}}{6} + \\frac{\\left(b + 2104 w_{1} + 5 w_{2} + w_{3} + 45 w_{4} - 460\\right)^{2}}{6}$"
          },
          "metadata": {},
          "execution_count": 26
        }
      ]
    },
    {
      "cell_type": "code",
      "source": [
        "# test with optimal parameters\n",
        "compute_cost(Xn, yn, wn_best, bn_best)"
      ],
      "metadata": {
        "colab": {
          "base_uri": "https://localhost:8080/",
          "height": 37
        },
        "id": "7sz_LMr_f42d",
        "outputId": "83c53532-9f18-4202-94ef-49b27eb71eb0"
      },
      "execution_count": 27,
      "outputs": [
        {
          "output_type": "execute_result",
          "data": {
            "text/plain": [
              "1.55789044289666e-12"
            ],
            "text/latex": "$\\displaystyle 1.55789044289666 \\cdot 10^{-12}$"
          },
          "metadata": {},
          "execution_count": 27
        }
      ]
    },
    {
      "cell_type": "code",
      "source": [
        "# works for simple linear regression\n",
        "compute_cost(X[:,0], y, m1, b)"
      ],
      "metadata": {
        "colab": {
          "base_uri": "https://localhost:8080/",
          "height": 56
        },
        "id": "nXkxaP1qMsEb",
        "outputId": "9f62756a-0621-4ca4-ce1c-377755c6c510"
      },
      "execution_count": 28,
      "outputs": [
        {
          "output_type": "execute_result",
          "data": {
            "text/plain": [
              "(b + m_1*x_{11} - y_1)**2/6 + (b + m_1*x_{21} - y_2)**2/6 + (b + m_1*x_{31} - y_3)**2/6"
            ],
            "text/latex": "$\\displaystyle \\frac{\\left(b + m_{1} x_{11} - y_{1}\\right)^{2}}{6} + \\frac{\\left(b + m_{1} x_{21} - y_{2}\\right)^{2}}{6} + \\frac{\\left(b + m_{1} x_{31} - y_{3}\\right)^{2}}{6}$"
          },
          "metadata": {},
          "execution_count": 28
        }
      ]
    },
    {
      "cell_type": "code",
      "source": [
        "compute_cost(Xs, ys, m1, b)"
      ],
      "metadata": {
        "colab": {
          "base_uri": "https://localhost:8080/",
          "height": 56
        },
        "id": "BdUZKO3LNLir",
        "outputId": "0b511522-4da5-40f4-eded-c84c91ed7a4c"
      },
      "execution_count": 29,
      "outputs": [
        {
          "output_type": "execute_result",
          "data": {
            "text/plain": [
              "(b + m_1 - 300)**2/4 + (b + 2*m_1 - 500)**2/4"
            ],
            "text/latex": "$\\displaystyle \\frac{\\left(b + m_{1} - 300\\right)^{2}}{4} + \\frac{\\left(b + 2 m_{1} - 500\\right)^{2}}{4}$"
          },
          "metadata": {},
          "execution_count": 29
        }
      ]
    },
    {
      "cell_type": "code",
      "source": [
        "# test with optimal parameters\n",
        "compute_cost(Xs, ys, ms_best, bs_best)"
      ],
      "metadata": {
        "colab": {
          "base_uri": "https://localhost:8080/",
          "height": 37
        },
        "id": "8rUjdG6xgaDE",
        "outputId": "89e001fb-68fd-4751-a1dc-c9d14510934a"
      },
      "execution_count": 30,
      "outputs": [
        {
          "output_type": "execute_result",
          "data": {
            "text/plain": [
              "0"
            ],
            "text/latex": "$\\displaystyle 0$"
          },
          "metadata": {},
          "execution_count": 30
        }
      ]
    },
    {
      "cell_type": "markdown",
      "source": [
        "### Speed Comparison of `compute_cost_loop` and `compute_cost`"
      ],
      "metadata": {
        "id": "pIrj96IGUQuM"
      }
    },
    {
      "cell_type": "markdown",
      "source": [
        "#### `compute_cost_loop`"
      ],
      "metadata": {
        "id": "kbxcUZ2jiIxd"
      }
    },
    {
      "cell_type": "code",
      "source": [
        "%%timeit -r7 -n1000\n",
        "compute_cost_loop(X, y, w, b)"
      ],
      "metadata": {
        "colab": {
          "base_uri": "https://localhost:8080/"
        },
        "id": "J6rXcF51UZTW",
        "outputId": "033efcfb-46bf-4db8-b162-8e888da8daec"
      },
      "execution_count": 31,
      "outputs": [
        {
          "output_type": "stream",
          "name": "stdout",
          "text": [
            "2.3 ms ± 911 µs per loop (mean ± std. dev. of 7 runs, 1000 loops each)\n"
          ]
        }
      ]
    },
    {
      "cell_type": "code",
      "source": [
        "%%timeit -r7 -n1000\n",
        "compute_cost_loop(Xn, yn, w, b)"
      ],
      "metadata": {
        "colab": {
          "base_uri": "https://localhost:8080/"
        },
        "id": "seOdn0XOhSPY",
        "outputId": "27d9f9ef-afd2-4057-a913-b22a7b9f2eee"
      },
      "execution_count": 32,
      "outputs": [
        {
          "output_type": "stream",
          "name": "stdout",
          "text": [
            "1.7 ms ± 470 µs per loop (mean ± std. dev. of 7 runs, 1000 loops each)\n"
          ]
        }
      ]
    },
    {
      "cell_type": "code",
      "source": [
        "%%timeit -r7 -n1000\n",
        "compute_cost_loop(Xn, yn, wn_best, bn_best)"
      ],
      "metadata": {
        "colab": {
          "base_uri": "https://localhost:8080/"
        },
        "id": "g-cPJWpKh8GK",
        "outputId": "e830a7ca-2393-42f6-b9ed-2fd48e85e1da"
      },
      "execution_count": 33,
      "outputs": [
        {
          "output_type": "stream",
          "name": "stdout",
          "text": [
            "1.98 ms ± 243 µs per loop (mean ± std. dev. of 7 runs, 1000 loops each)\n"
          ]
        }
      ]
    },
    {
      "cell_type": "code",
      "source": [
        "%%timeit -r7 -n1000\n",
        "compute_cost_loop(Xs, ys, ms_best, bs_best)"
      ],
      "metadata": {
        "colab": {
          "base_uri": "https://localhost:8080/"
        },
        "id": "PG-nJukJizUY",
        "outputId": "349a9e93-ebae-4e10-9f1e-0a9f91a831ab"
      },
      "execution_count": 34,
      "outputs": [
        {
          "output_type": "stream",
          "name": "stdout",
          "text": [
            "699 µs ± 13.8 µs per loop (mean ± std. dev. of 7 runs, 1000 loops each)\n"
          ]
        }
      ]
    },
    {
      "cell_type": "markdown",
      "source": [
        "#### `compute_cost`"
      ],
      "metadata": {
        "id": "MdMFJXqMiOZK"
      }
    },
    {
      "cell_type": "code",
      "source": [
        "%%timeit -r7 -n1000\n",
        "compute_cost(X, y, w, b)"
      ],
      "metadata": {
        "colab": {
          "base_uri": "https://localhost:8080/"
        },
        "id": "Aky6c4-4VAbn",
        "outputId": "94694769-c7c4-45d3-83d9-53fbb2443a22"
      },
      "execution_count": 35,
      "outputs": [
        {
          "output_type": "stream",
          "name": "stdout",
          "text": [
            "555 µs ± 102 µs per loop (mean ± std. dev. of 7 runs, 1000 loops each)\n"
          ]
        }
      ]
    },
    {
      "cell_type": "code",
      "source": [
        "%%timeit -r7 -n1000\n",
        "compute_cost(Xn, yn, w, b)"
      ],
      "metadata": {
        "colab": {
          "base_uri": "https://localhost:8080/"
        },
        "id": "PcpGUh1OhihK",
        "outputId": "764e9c88-2c21-449a-907f-164748921c7a"
      },
      "execution_count": 36,
      "outputs": [
        {
          "output_type": "stream",
          "name": "stdout",
          "text": [
            "435 µs ± 12.2 µs per loop (mean ± std. dev. of 7 runs, 1000 loops each)\n"
          ]
        }
      ]
    },
    {
      "cell_type": "code",
      "source": [
        "%%timeit -r7 -n1000\n",
        "compute_cost(Xn, yn, wn_best, bn_best)"
      ],
      "metadata": {
        "colab": {
          "base_uri": "https://localhost:8080/"
        },
        "id": "zJ4uOLemiFIb",
        "outputId": "cc96d1bc-76d4-4484-fbad-1ea73a5ac21a"
      },
      "execution_count": 37,
      "outputs": [
        {
          "output_type": "stream",
          "name": "stdout",
          "text": [
            "741 µs ± 12.8 µs per loop (mean ± std. dev. of 7 runs, 1000 loops each)\n"
          ]
        }
      ]
    },
    {
      "cell_type": "code",
      "source": [
        "%%timeit -r7 -n1000\n",
        "compute_cost(Xs, ys, ms_best, bs_best)"
      ],
      "metadata": {
        "colab": {
          "base_uri": "https://localhost:8080/"
        },
        "id": "qUCZmHhDiszE",
        "outputId": "4a5d653c-53ed-4259-8d14-3df476679265"
      },
      "execution_count": 38,
      "outputs": [
        {
          "output_type": "stream",
          "name": "stdout",
          "text": [
            "220 µs ± 12.9 µs per loop (mean ± std. dev. of 7 runs, 1000 loops each)\n"
          ]
        }
      ]
    },
    {
      "cell_type": "markdown",
      "source": [
        "## The Gradient\n",
        "\n",
        "$$\n",
        "\\begin{align}\n",
        "\\frac{\\partial J(\\mathbf{w},b)}{\\partial w_j}  &= \\frac{1}{m} \\sum\\limits_{i = 0}^{m-1} (f_{\\mathbf{w},b}(\\mathbf{x}^{(i)}) - y^{(i)})x_{j}^{(i)} \\\\\n",
        "\\frac{\\partial J(\\mathbf{w},b)}{\\partial b}  &= \\frac{1}{m} \\sum\\limits_{i = 0}^{m-1} (f_{\\mathbf{w},b}(\\mathbf{x}^{(i)}) - y^{(i)})\n",
        "\\end{align}\n",
        "$$"
      ],
      "metadata": {
        "id": "3WBtqHDRR53o"
      }
    },
    {
      "cell_type": "code",
      "source": [
        "def compute_gradient_loop(X, y, w, b):\n",
        "    m, n = X.shape\n",
        "\n",
        "    dj_dw = sym.zeros(n, 1)\n",
        "    dj_db = 0.0\n",
        "\n",
        "    for i in range(m):\n",
        "        err = f_wb(X[i,:], w, b)[0] - y[i]\n",
        "        for j in range(n):\n",
        "            dj_dw[j] = dj_dw[j] + (err * X[i, j])\n",
        "        dj_db = dj_db + err\n",
        "    dj_dw = dj_dw / m\n",
        "    dj_db = dj_db / m\n",
        "\n",
        "    return dj_db, dj_dw"
      ],
      "metadata": {
        "id": "DyH0wwJ_oPJM"
      },
      "execution_count": 39,
      "outputs": []
    },
    {
      "cell_type": "code",
      "source": [
        "# works for mulitiple linear regression\n",
        "dj_db, dj_dw = compute_gradient_loop(X, y, w, b)\n",
        "display(dj_db.factor())\n",
        "display(dj_dw)"
      ],
      "metadata": {
        "colab": {
          "base_uri": "https://localhost:8080/",
          "height": 145
        },
        "id": "TFtzJZARrE3N",
        "outputId": "34b58dd6-9df6-46a1-8925-76c09d2f43d7"
      },
      "execution_count": 40,
      "outputs": [
        {
          "output_type": "display_data",
          "data": {
            "text/plain": [
              "(3*b + w_1*x_{11} + w_1*x_{21} + w_1*x_{31} + w_2*x_{12} + w_2*x_{22} + w_2*x_{32} + w_3*x_{13} + w_3*x_{23} + w_3*x_{33} + w_4*x_{14} + w_4*x_{24} + w_4*x_{34} - y_1 - y_2 - y_3)/3"
            ],
            "text/latex": "$\\displaystyle \\frac{3 b + w_{1} x_{11} + w_{1} x_{21} + w_{1} x_{31} + w_{2} x_{12} + w_{2} x_{22} + w_{2} x_{32} + w_{3} x_{13} + w_{3} x_{23} + w_{3} x_{33} + w_{4} x_{14} + w_{4} x_{24} + w_{4} x_{34} - y_{1} - y_{2} - y_{3}}{3}$"
          },
          "metadata": {}
        },
        {
          "output_type": "display_data",
          "data": {
            "text/plain": [
              "Matrix([\n",
              "[x_{11}*(b + w_1*x_{11} + w_2*x_{12} + w_3*x_{13} + w_4*x_{14} - y_1)/3 + x_{21}*(b + w_1*x_{21} + w_2*x_{22} + w_3*x_{23} + w_4*x_{24} - y_2)/3 + x_{31}*(b + w_1*x_{31} + w_2*x_{32} + w_3*x_{33} + w_4*x_{34} - y_3)/3],\n",
              "[x_{12}*(b + w_1*x_{11} + w_2*x_{12} + w_3*x_{13} + w_4*x_{14} - y_1)/3 + x_{22}*(b + w_1*x_{21} + w_2*x_{22} + w_3*x_{23} + w_4*x_{24} - y_2)/3 + x_{32}*(b + w_1*x_{31} + w_2*x_{32} + w_3*x_{33} + w_4*x_{34} - y_3)/3],\n",
              "[x_{13}*(b + w_1*x_{11} + w_2*x_{12} + w_3*x_{13} + w_4*x_{14} - y_1)/3 + x_{23}*(b + w_1*x_{21} + w_2*x_{22} + w_3*x_{23} + w_4*x_{24} - y_2)/3 + x_{33}*(b + w_1*x_{31} + w_2*x_{32} + w_3*x_{33} + w_4*x_{34} - y_3)/3],\n",
              "[x_{14}*(b + w_1*x_{11} + w_2*x_{12} + w_3*x_{13} + w_4*x_{14} - y_1)/3 + x_{24}*(b + w_1*x_{21} + w_2*x_{22} + w_3*x_{23} + w_4*x_{24} - y_2)/3 + x_{34}*(b + w_1*x_{31} + w_2*x_{32} + w_3*x_{33} + w_4*x_{34} - y_3)/3]])"
            ],
            "text/latex": "$\\displaystyle \\left[\\begin{matrix}\\frac{x_{11} \\left(b + w_{1} x_{11} + w_{2} x_{12} + w_{3} x_{13} + w_{4} x_{14} - y_{1}\\right)}{3} + \\frac{x_{21} \\left(b + w_{1} x_{21} + w_{2} x_{22} + w_{3} x_{23} + w_{4} x_{24} - y_{2}\\right)}{3} + \\frac{x_{31} \\left(b + w_{1} x_{31} + w_{2} x_{32} + w_{3} x_{33} + w_{4} x_{34} - y_{3}\\right)}{3}\\\\\\frac{x_{12} \\left(b + w_{1} x_{11} + w_{2} x_{12} + w_{3} x_{13} + w_{4} x_{14} - y_{1}\\right)}{3} + \\frac{x_{22} \\left(b + w_{1} x_{21} + w_{2} x_{22} + w_{3} x_{23} + w_{4} x_{24} - y_{2}\\right)}{3} + \\frac{x_{32} \\left(b + w_{1} x_{31} + w_{2} x_{32} + w_{3} x_{33} + w_{4} x_{34} - y_{3}\\right)}{3}\\\\\\frac{x_{13} \\left(b + w_{1} x_{11} + w_{2} x_{12} + w_{3} x_{13} + w_{4} x_{14} - y_{1}\\right)}{3} + \\frac{x_{23} \\left(b + w_{1} x_{21} + w_{2} x_{22} + w_{3} x_{23} + w_{4} x_{24} - y_{2}\\right)}{3} + \\frac{x_{33} \\left(b + w_{1} x_{31} + w_{2} x_{32} + w_{3} x_{33} + w_{4} x_{34} - y_{3}\\right)}{3}\\\\\\frac{x_{14} \\left(b + w_{1} x_{11} + w_{2} x_{12} + w_{3} x_{13} + w_{4} x_{14} - y_{1}\\right)}{3} + \\frac{x_{24} \\left(b + w_{1} x_{21} + w_{2} x_{22} + w_{3} x_{23} + w_{4} x_{24} - y_{2}\\right)}{3} + \\frac{x_{34} \\left(b + w_{1} x_{31} + w_{2} x_{32} + w_{3} x_{33} + w_{4} x_{34} - y_{3}\\right)}{3}\\end{matrix}\\right]$"
          },
          "metadata": {}
        }
      ]
    },
    {
      "cell_type": "code",
      "source": [
        "dj_db, dj_dw = compute_gradient_loop(Xn, yn, w, b)\n",
        "display(dj_db.factor())\n",
        "display(dj_dw)"
      ],
      "metadata": {
        "colab": {
          "base_uri": "https://localhost:8080/",
          "height": 136
        },
        "id": "HNmLqivirKwr",
        "outputId": "45350920-365f-4ad0-a4fa-f78aa7e57fe8"
      },
      "execution_count": 41,
      "outputs": [
        {
          "output_type": "display_data",
          "data": {
            "text/plain": [
              "(3*b + 4372*w_1 + 10*w_2 + 4*w_3 + 120*w_4 - 870)/3"
            ],
            "text/latex": "$\\displaystyle \\frac{3 b + 4372 w_{1} + 10 w_{2} + 4 w_{3} + 120 w_{4} - 870}{3}$"
          },
          "metadata": {}
        },
        {
          "output_type": "display_data",
          "data": {
            "text/plain": [
              "Matrix([\n",
              "[4372*b/3 + 7157776*w_1/3 + 16472*w_2/3 + 5788*w_3/3 + 60380*w_4 - 1448008/3],\n",
              "[            10*b/3 + 16472*w_1/3 + 38*w_2/3 + 13*w_3/3 + 415*w_4/3 - 3352/3],\n",
              "[                 4*b/3 + 5788*w_1/3 + 13*w_2/3 + 2*w_3 + 160*w_4/3 - 1102/3],\n",
              "[              40*b + 60380*w_1 + 415*w_2/3 + 160*w_3/3 + 4850*w_4/3 - 12070]])"
            ],
            "text/latex": "$\\displaystyle \\left[\\begin{matrix}\\frac{4372 b}{3} + \\frac{7157776 w_{1}}{3} + \\frac{16472 w_{2}}{3} + \\frac{5788 w_{3}}{3} + 60380 w_{4} - \\frac{1448008}{3}\\\\\\frac{10 b}{3} + \\frac{16472 w_{1}}{3} + \\frac{38 w_{2}}{3} + \\frac{13 w_{3}}{3} + \\frac{415 w_{4}}{3} - \\frac{3352}{3}\\\\\\frac{4 b}{3} + \\frac{5788 w_{1}}{3} + \\frac{13 w_{2}}{3} + 2 w_{3} + \\frac{160 w_{4}}{3} - \\frac{1102}{3}\\\\40 b + 60380 w_{1} + \\frac{415 w_{2}}{3} + \\frac{160 w_{3}}{3} + \\frac{4850 w_{4}}{3} - 12070\\end{matrix}\\right]$"
          },
          "metadata": {}
        }
      ]
    },
    {
      "cell_type": "code",
      "source": [
        "# test with optimal parameters\n",
        "dj_db, dj_dw = compute_gradient_loop(Xn, yn, wn_best, bn_best)\n",
        "display(dj_db)\n",
        "display(dj_dw)"
      ],
      "metadata": {
        "colab": {
          "base_uri": "https://localhost:8080/",
          "height": 119
        },
        "id": "Rd9pJ4XzrSK1",
        "outputId": "52eb524b-341e-4b57-91a0-cc533361e3cd"
      },
      "execution_count": 42,
      "outputs": [
        {
          "output_type": "display_data",
          "data": {
            "text/plain": [
              "-1.67392515019552e-6"
            ],
            "text/latex": "$\\displaystyle -1.67392515019552 \\cdot 10^{-6}$"
          },
          "metadata": {}
        },
        {
          "output_type": "display_data",
          "data": {
            "text/plain": [
              "Matrix([\n",
              "[-0.00272623577196403],\n",
              "[-6.27197262777675e-6],\n",
              "[-2.21745578225333e-6],\n",
              "[-6.92403390682254e-5]])"
            ],
            "text/latex": "$\\displaystyle \\left[\\begin{matrix}-0.00272623577196403\\\\-6.27197262777675 \\cdot 10^{-6}\\\\-2.21745578225333 \\cdot 10^{-6}\\\\-6.92403390682254 \\cdot 10^{-5}\\end{matrix}\\right]$"
          },
          "metadata": {}
        }
      ]
    },
    {
      "cell_type": "code",
      "source": [
        "# works for simple linear regression\n",
        "dj_db, dj_dw = compute_gradient_loop(X[:,0], y, m1, b)\n",
        "display(dj_db.factor())\n",
        "display(dj_dw)"
      ],
      "metadata": {
        "colab": {
          "base_uri": "https://localhost:8080/",
          "height": 82
        },
        "id": "_QqosKDJrYnl",
        "outputId": "c9359fb0-de85-4db4-db27-30316204b517"
      },
      "execution_count": 43,
      "outputs": [
        {
          "output_type": "display_data",
          "data": {
            "text/plain": [
              "(3*b + m_1*x_{11} + m_1*x_{21} + m_1*x_{31} - y_1 - y_2 - y_3)/3"
            ],
            "text/latex": "$\\displaystyle \\frac{3 b + m_{1} x_{11} + m_{1} x_{21} + m_{1} x_{31} - y_{1} - y_{2} - y_{3}}{3}$"
          },
          "metadata": {}
        },
        {
          "output_type": "display_data",
          "data": {
            "text/plain": [
              "Matrix([[x_{11}*(b + m_1*x_{11} - y_1)/3 + x_{21}*(b + m_1*x_{21} - y_2)/3 + x_{31}*(b + m_1*x_{31} - y_3)/3]])"
            ],
            "text/latex": "$\\displaystyle \\left[\\begin{matrix}\\frac{x_{11} \\left(b + m_{1} x_{11} - y_{1}\\right)}{3} + \\frac{x_{21} \\left(b + m_{1} x_{21} - y_{2}\\right)}{3} + \\frac{x_{31} \\left(b + m_{1} x_{31} - y_{3}\\right)}{3}\\end{matrix}\\right]$"
          },
          "metadata": {}
        }
      ]
    },
    {
      "cell_type": "code",
      "source": [
        "dj_db, dj_dw = compute_gradient_loop(Xs, ys, m1, b)\n",
        "display(dj_db.factor())\n",
        "display(dj_dw)"
      ],
      "metadata": {
        "colab": {
          "base_uri": "https://localhost:8080/",
          "height": 73
        },
        "id": "7iMwng1JrhlB",
        "outputId": "842d683a-6451-4a6f-cd3b-0f71e4c156f2"
      },
      "execution_count": 44,
      "outputs": [
        {
          "output_type": "display_data",
          "data": {
            "text/plain": [
              "(2*b + 3*m_1 - 800)/2"
            ],
            "text/latex": "$\\displaystyle \\frac{2 b + 3 m_{1} - 800}{2}$"
          },
          "metadata": {}
        },
        {
          "output_type": "display_data",
          "data": {
            "text/plain": [
              "Matrix([[3*b/2 + 5*m_1/2 - 650]])"
            ],
            "text/latex": "$\\displaystyle \\left[\\begin{matrix}\\frac{3 b}{2} + \\frac{5 m_{1}}{2} - 650\\end{matrix}\\right]$"
          },
          "metadata": {}
        }
      ]
    },
    {
      "cell_type": "code",
      "source": [
        "# test with optimal parameters\n",
        "dj_db, dj_dw = compute_gradient_loop(Xs, ys, ms_best, bs_best)\n",
        "display(dj_db)\n",
        "display(dj_dw)"
      ],
      "metadata": {
        "colab": {
          "base_uri": "https://localhost:8080/",
          "height": 59
        },
        "id": "VHaSSNSzrlr-",
        "outputId": "3b7a8212-33fe-49fd-c1d6-9e8768860711"
      },
      "execution_count": 45,
      "outputs": [
        {
          "output_type": "display_data",
          "data": {
            "text/plain": [
              "0"
            ],
            "text/latex": "$\\displaystyle 0$"
          },
          "metadata": {}
        },
        {
          "output_type": "display_data",
          "data": {
            "text/plain": [
              "Matrix([[0]])"
            ],
            "text/latex": "$\\displaystyle \\left[\\begin{matrix}0\\end{matrix}\\right]$"
          },
          "metadata": {}
        }
      ]
    },
    {
      "cell_type": "markdown",
      "source": [
        "This can also be implemented without the loop."
      ],
      "metadata": {
        "id": "fd0RSlPZ8Ts5"
      }
    },
    {
      "cell_type": "code",
      "source": [
        "def compute_gradient(X, y, w, b):\n",
        "    m, n = X.shape\n",
        "\n",
        "    y_pred = f_wb(X, w, b)\n",
        "    err = y_pred - y\n",
        "\n",
        "    dj_dw = (X.T @ err) / m\n",
        "    dj_db = sum(err) / m\n",
        "\n",
        "    return dj_db, dj_dw"
      ],
      "metadata": {
        "id": "RnO8OegT8Ux7"
      },
      "execution_count": 46,
      "outputs": []
    },
    {
      "cell_type": "code",
      "source": [
        "# works for mulitiple linear regression\n",
        "dj_db, dj_dw = compute_gradient(X, y, w, b)\n",
        "display(dj_db.factor())\n",
        "display(dj_dw)"
      ],
      "metadata": {
        "colab": {
          "base_uri": "https://localhost:8080/",
          "height": 145
        },
        "id": "XQ8BHxMzDMj9",
        "outputId": "9742bc34-4320-4c71-9238-df7372c23c61"
      },
      "execution_count": 47,
      "outputs": [
        {
          "output_type": "display_data",
          "data": {
            "text/plain": [
              "(3*b + w_1*x_{11} + w_1*x_{21} + w_1*x_{31} + w_2*x_{12} + w_2*x_{22} + w_2*x_{32} + w_3*x_{13} + w_3*x_{23} + w_3*x_{33} + w_4*x_{14} + w_4*x_{24} + w_4*x_{34} - y_1 - y_2 - y_3)/3"
            ],
            "text/latex": "$\\displaystyle \\frac{3 b + w_{1} x_{11} + w_{1} x_{21} + w_{1} x_{31} + w_{2} x_{12} + w_{2} x_{22} + w_{2} x_{32} + w_{3} x_{13} + w_{3} x_{23} + w_{3} x_{33} + w_{4} x_{14} + w_{4} x_{24} + w_{4} x_{34} - y_{1} - y_{2} - y_{3}}{3}$"
          },
          "metadata": {}
        },
        {
          "output_type": "display_data",
          "data": {
            "text/plain": [
              "Matrix([\n",
              "[x_{11}*(b + w_1*x_{11} + w_2*x_{12} + w_3*x_{13} + w_4*x_{14} - y_1)/3 + x_{21}*(b + w_1*x_{21} + w_2*x_{22} + w_3*x_{23} + w_4*x_{24} - y_2)/3 + x_{31}*(b + w_1*x_{31} + w_2*x_{32} + w_3*x_{33} + w_4*x_{34} - y_3)/3],\n",
              "[x_{12}*(b + w_1*x_{11} + w_2*x_{12} + w_3*x_{13} + w_4*x_{14} - y_1)/3 + x_{22}*(b + w_1*x_{21} + w_2*x_{22} + w_3*x_{23} + w_4*x_{24} - y_2)/3 + x_{32}*(b + w_1*x_{31} + w_2*x_{32} + w_3*x_{33} + w_4*x_{34} - y_3)/3],\n",
              "[x_{13}*(b + w_1*x_{11} + w_2*x_{12} + w_3*x_{13} + w_4*x_{14} - y_1)/3 + x_{23}*(b + w_1*x_{21} + w_2*x_{22} + w_3*x_{23} + w_4*x_{24} - y_2)/3 + x_{33}*(b + w_1*x_{31} + w_2*x_{32} + w_3*x_{33} + w_4*x_{34} - y_3)/3],\n",
              "[x_{14}*(b + w_1*x_{11} + w_2*x_{12} + w_3*x_{13} + w_4*x_{14} - y_1)/3 + x_{24}*(b + w_1*x_{21} + w_2*x_{22} + w_3*x_{23} + w_4*x_{24} - y_2)/3 + x_{34}*(b + w_1*x_{31} + w_2*x_{32} + w_3*x_{33} + w_4*x_{34} - y_3)/3]])"
            ],
            "text/latex": "$\\displaystyle \\left[\\begin{matrix}\\frac{x_{11} \\left(b + w_{1} x_{11} + w_{2} x_{12} + w_{3} x_{13} + w_{4} x_{14} - y_{1}\\right)}{3} + \\frac{x_{21} \\left(b + w_{1} x_{21} + w_{2} x_{22} + w_{3} x_{23} + w_{4} x_{24} - y_{2}\\right)}{3} + \\frac{x_{31} \\left(b + w_{1} x_{31} + w_{2} x_{32} + w_{3} x_{33} + w_{4} x_{34} - y_{3}\\right)}{3}\\\\\\frac{x_{12} \\left(b + w_{1} x_{11} + w_{2} x_{12} + w_{3} x_{13} + w_{4} x_{14} - y_{1}\\right)}{3} + \\frac{x_{22} \\left(b + w_{1} x_{21} + w_{2} x_{22} + w_{3} x_{23} + w_{4} x_{24} - y_{2}\\right)}{3} + \\frac{x_{32} \\left(b + w_{1} x_{31} + w_{2} x_{32} + w_{3} x_{33} + w_{4} x_{34} - y_{3}\\right)}{3}\\\\\\frac{x_{13} \\left(b + w_{1} x_{11} + w_{2} x_{12} + w_{3} x_{13} + w_{4} x_{14} - y_{1}\\right)}{3} + \\frac{x_{23} \\left(b + w_{1} x_{21} + w_{2} x_{22} + w_{3} x_{23} + w_{4} x_{24} - y_{2}\\right)}{3} + \\frac{x_{33} \\left(b + w_{1} x_{31} + w_{2} x_{32} + w_{3} x_{33} + w_{4} x_{34} - y_{3}\\right)}{3}\\\\\\frac{x_{14} \\left(b + w_{1} x_{11} + w_{2} x_{12} + w_{3} x_{13} + w_{4} x_{14} - y_{1}\\right)}{3} + \\frac{x_{24} \\left(b + w_{1} x_{21} + w_{2} x_{22} + w_{3} x_{23} + w_{4} x_{24} - y_{2}\\right)}{3} + \\frac{x_{34} \\left(b + w_{1} x_{31} + w_{2} x_{32} + w_{3} x_{33} + w_{4} x_{34} - y_{3}\\right)}{3}\\end{matrix}\\right]$"
          },
          "metadata": {}
        }
      ]
    },
    {
      "cell_type": "code",
      "source": [
        "dj_db, dj_dw = compute_gradient(Xn, yn, w, b)\n",
        "display(dj_db.factor())\n",
        "display(dj_dw)"
      ],
      "metadata": {
        "colab": {
          "base_uri": "https://localhost:8080/",
          "height": 136
        },
        "id": "MbUcoY5nFcSH",
        "outputId": "a9f7f1c6-c7e1-4b06-9352-3894e282f57f"
      },
      "execution_count": 48,
      "outputs": [
        {
          "output_type": "display_data",
          "data": {
            "text/plain": [
              "(3*b + 4372*w_1 + 10*w_2 + 4*w_3 + 120*w_4 - 870)/3"
            ],
            "text/latex": "$\\displaystyle \\frac{3 b + 4372 w_{1} + 10 w_{2} + 4 w_{3} + 120 w_{4} - 870}{3}$"
          },
          "metadata": {}
        },
        {
          "output_type": "display_data",
          "data": {
            "text/plain": [
              "Matrix([\n",
              "[4372*b/3 + 7157776*w_1/3 + 16472*w_2/3 + 5788*w_3/3 + 60380*w_4 - 1448008/3],\n",
              "[            10*b/3 + 16472*w_1/3 + 38*w_2/3 + 13*w_3/3 + 415*w_4/3 - 3352/3],\n",
              "[                 4*b/3 + 5788*w_1/3 + 13*w_2/3 + 2*w_3 + 160*w_4/3 - 1102/3],\n",
              "[              40*b + 60380*w_1 + 415*w_2/3 + 160*w_3/3 + 4850*w_4/3 - 12070]])"
            ],
            "text/latex": "$\\displaystyle \\left[\\begin{matrix}\\frac{4372 b}{3} + \\frac{7157776 w_{1}}{3} + \\frac{16472 w_{2}}{3} + \\frac{5788 w_{3}}{3} + 60380 w_{4} - \\frac{1448008}{3}\\\\\\frac{10 b}{3} + \\frac{16472 w_{1}}{3} + \\frac{38 w_{2}}{3} + \\frac{13 w_{3}}{3} + \\frac{415 w_{4}}{3} - \\frac{3352}{3}\\\\\\frac{4 b}{3} + \\frac{5788 w_{1}}{3} + \\frac{13 w_{2}}{3} + 2 w_{3} + \\frac{160 w_{4}}{3} - \\frac{1102}{3}\\\\40 b + 60380 w_{1} + \\frac{415 w_{2}}{3} + \\frac{160 w_{3}}{3} + \\frac{4850 w_{4}}{3} - 12070\\end{matrix}\\right]$"
          },
          "metadata": {}
        }
      ]
    },
    {
      "cell_type": "code",
      "source": [
        "# test with optimal parameters\n",
        "dj_db, dj_dw = compute_gradient(Xn, yn, wn_best, bn_best)\n",
        "display(dj_db)\n",
        "display(dj_dw)"
      ],
      "metadata": {
        "colab": {
          "base_uri": "https://localhost:8080/",
          "height": 119
        },
        "id": "8yN8phutFiEp",
        "outputId": "6bb00e1b-06d8-4195-c17b-4e2e5ed76ba3"
      },
      "execution_count": 49,
      "outputs": [
        {
          "output_type": "display_data",
          "data": {
            "text/plain": [
              "-1.67392515019552e-6"
            ],
            "text/latex": "$\\displaystyle -1.67392515019552 \\cdot 10^{-6}$"
          },
          "metadata": {}
        },
        {
          "output_type": "display_data",
          "data": {
            "text/plain": [
              "Matrix([\n",
              "[-0.00272623577196403],\n",
              "[-6.27197262777675e-6],\n",
              "[-2.21745578225333e-6],\n",
              "[-6.92403390682254e-5]])"
            ],
            "text/latex": "$\\displaystyle \\left[\\begin{matrix}-0.00272623577196403\\\\-6.27197262777675 \\cdot 10^{-6}\\\\-2.21745578225333 \\cdot 10^{-6}\\\\-6.92403390682254 \\cdot 10^{-5}\\end{matrix}\\right]$"
          },
          "metadata": {}
        }
      ]
    },
    {
      "cell_type": "code",
      "source": [
        "# works for simple linear regression\n",
        "dj_db, dj_dw = compute_gradient(X[:,0], y, m1, b)\n",
        "display(dj_db.factor())\n",
        "display(dj_dw)"
      ],
      "metadata": {
        "colab": {
          "base_uri": "https://localhost:8080/",
          "height": 82
        },
        "id": "HXeXO6fMFmXG",
        "outputId": "e959735f-f7f9-4370-8023-700a92ca1704"
      },
      "execution_count": 50,
      "outputs": [
        {
          "output_type": "display_data",
          "data": {
            "text/plain": [
              "(3*b + m_1*x_{11} + m_1*x_{21} + m_1*x_{31} - y_1 - y_2 - y_3)/3"
            ],
            "text/latex": "$\\displaystyle \\frac{3 b + m_{1} x_{11} + m_{1} x_{21} + m_{1} x_{31} - y_{1} - y_{2} - y_{3}}{3}$"
          },
          "metadata": {}
        },
        {
          "output_type": "display_data",
          "data": {
            "text/plain": [
              "Matrix([[x_{11}*(b + m_1*x_{11} - y_1)/3 + x_{21}*(b + m_1*x_{21} - y_2)/3 + x_{31}*(b + m_1*x_{31} - y_3)/3]])"
            ],
            "text/latex": "$\\displaystyle \\left[\\begin{matrix}\\frac{x_{11} \\left(b + m_{1} x_{11} - y_{1}\\right)}{3} + \\frac{x_{21} \\left(b + m_{1} x_{21} - y_{2}\\right)}{3} + \\frac{x_{31} \\left(b + m_{1} x_{31} - y_{3}\\right)}{3}\\end{matrix}\\right]$"
          },
          "metadata": {}
        }
      ]
    },
    {
      "cell_type": "code",
      "source": [
        "dj_db, dj_dw = compute_gradient(Xs, ys, m1, b)\n",
        "display(dj_db.factor())\n",
        "display(dj_dw)"
      ],
      "metadata": {
        "colab": {
          "base_uri": "https://localhost:8080/",
          "height": 73
        },
        "id": "uRtv0s5dFqDH",
        "outputId": "3a6a0168-ec2a-4158-9000-5b5209cadcd1"
      },
      "execution_count": 51,
      "outputs": [
        {
          "output_type": "display_data",
          "data": {
            "text/plain": [
              "(2*b + 3*m_1 - 800)/2"
            ],
            "text/latex": "$\\displaystyle \\frac{2 b + 3 m_{1} - 800}{2}$"
          },
          "metadata": {}
        },
        {
          "output_type": "display_data",
          "data": {
            "text/plain": [
              "Matrix([[3*b/2 + 5*m_1/2 - 650]])"
            ],
            "text/latex": "$\\displaystyle \\left[\\begin{matrix}\\frac{3 b}{2} + \\frac{5 m_{1}}{2} - 650\\end{matrix}\\right]$"
          },
          "metadata": {}
        }
      ]
    },
    {
      "cell_type": "code",
      "source": [
        "# test with optimal parameters\n",
        "dj_db, dj_dw = compute_gradient(Xs, ys, ms_best, bs_best)\n",
        "display(dj_db)\n",
        "display(dj_dw)"
      ],
      "metadata": {
        "colab": {
          "base_uri": "https://localhost:8080/",
          "height": 59
        },
        "id": "cGujFp0TFtu5",
        "outputId": "87509345-eda1-40c3-b4ab-d3048699d38f"
      },
      "execution_count": 52,
      "outputs": [
        {
          "output_type": "display_data",
          "data": {
            "text/plain": [
              "0"
            ],
            "text/latex": "$\\displaystyle 0$"
          },
          "metadata": {}
        },
        {
          "output_type": "display_data",
          "data": {
            "text/plain": [
              "Matrix([[0]])"
            ],
            "text/latex": "$\\displaystyle \\left[\\begin{matrix}0\\end{matrix}\\right]$"
          },
          "metadata": {}
        }
      ]
    },
    {
      "cell_type": "markdown",
      "source": [
        "### Speed Comparison of `compute_gradient_loop` and `compute_gradient`"
      ],
      "metadata": {
        "id": "qgBEOpLRINke"
      }
    },
    {
      "cell_type": "markdown",
      "source": [
        "#### `compute_gradient_loop`"
      ],
      "metadata": {
        "id": "x3cW6k8-ISDP"
      }
    },
    {
      "cell_type": "code",
      "source": [
        "%%timeit -r7 -n1000\n",
        "compute_gradient_loop(X, y, w, b)"
      ],
      "metadata": {
        "colab": {
          "base_uri": "https://localhost:8080/"
        },
        "id": "XCsP9tnHIelq",
        "outputId": "3b12eef4-1a22-48a5-cb8a-12d79521fd96"
      },
      "execution_count": 53,
      "outputs": [
        {
          "output_type": "stream",
          "name": "stdout",
          "text": [
            "1.18 ms ± 225 µs per loop (mean ± std. dev. of 7 runs, 1000 loops each)\n"
          ]
        }
      ]
    },
    {
      "cell_type": "code",
      "source": [
        "%%timeit -r7 -n1000\n",
        "compute_gradient_loop(Xn, yn, w, b)"
      ],
      "metadata": {
        "colab": {
          "base_uri": "https://localhost:8080/"
        },
        "id": "8qQdGwPTIeps",
        "outputId": "ce97f62b-5430-4621-d458-d9991121f468"
      },
      "execution_count": 54,
      "outputs": [
        {
          "output_type": "stream",
          "name": "stdout",
          "text": [
            "1.25 ms ± 233 µs per loop (mean ± std. dev. of 7 runs, 1000 loops each)\n"
          ]
        }
      ]
    },
    {
      "cell_type": "code",
      "source": [
        "%%timeit -r7 -n1000\n",
        "compute_gradient_loop(Xn, yn, wn_best, bn_best)"
      ],
      "metadata": {
        "colab": {
          "base_uri": "https://localhost:8080/"
        },
        "id": "5OjgY1x-IetT",
        "outputId": "fef06147-352c-473a-9b69-76505d561523"
      },
      "execution_count": 55,
      "outputs": [
        {
          "output_type": "stream",
          "name": "stdout",
          "text": [
            "1.8 ms ± 231 µs per loop (mean ± std. dev. of 7 runs, 1000 loops each)\n"
          ]
        }
      ]
    },
    {
      "cell_type": "code",
      "source": [
        "%%timeit -r7 -n1000\n",
        "compute_gradient_loop(Xs, ys, ms_best, bs_best)"
      ],
      "metadata": {
        "colab": {
          "base_uri": "https://localhost:8080/"
        },
        "id": "QmBshHGXIexu",
        "outputId": "e08fedb6-512b-4b72-8846-b1d79da5e7e5"
      },
      "execution_count": 56,
      "outputs": [
        {
          "output_type": "stream",
          "name": "stdout",
          "text": [
            "409 µs ± 13.9 µs per loop (mean ± std. dev. of 7 runs, 1000 loops each)\n"
          ]
        }
      ]
    },
    {
      "cell_type": "markdown",
      "source": [
        "#### `compute_gradient`"
      ],
      "metadata": {
        "id": "2Td5YKucIYiF"
      }
    },
    {
      "cell_type": "code",
      "source": [
        "%%timeit -r7 -n1000\n",
        "compute_gradient(X, y, w, b)"
      ],
      "metadata": {
        "colab": {
          "base_uri": "https://localhost:8080/"
        },
        "id": "8n_8BrRmIdS6",
        "outputId": "ee1fffb0-53fe-4262-f86d-25f7a5e51200"
      },
      "execution_count": 57,
      "outputs": [
        {
          "output_type": "stream",
          "name": "stdout",
          "text": [
            "The slowest run took 4.00 times longer than the fastest. This could mean that an intermediate result is being cached.\n",
            "747 µs ± 524 µs per loop (mean ± std. dev. of 7 runs, 1000 loops each)\n"
          ]
        }
      ]
    },
    {
      "cell_type": "code",
      "source": [
        "%%timeit -r7 -n1000\n",
        "compute_gradient(Xn, yn, w, b)"
      ],
      "metadata": {
        "colab": {
          "base_uri": "https://localhost:8080/"
        },
        "id": "wYuPSdWcIdrW",
        "outputId": "3c666906-7773-4efa-af86-c461c583647a"
      },
      "execution_count": 58,
      "outputs": [
        {
          "output_type": "stream",
          "name": "stdout",
          "text": [
            "683 µs ± 256 µs per loop (mean ± std. dev. of 7 runs, 1000 loops each)\n"
          ]
        }
      ]
    },
    {
      "cell_type": "code",
      "source": [
        "%%timeit -r7 -n1000\n",
        "compute_gradient(Xn, yn, wn_best, bn_best)"
      ],
      "metadata": {
        "colab": {
          "base_uri": "https://localhost:8080/"
        },
        "id": "OjyDhMleIdzi",
        "outputId": "888d082f-eca9-4b10-ab65-473e44500ad0"
      },
      "execution_count": 59,
      "outputs": [
        {
          "output_type": "stream",
          "name": "stdout",
          "text": [
            "1.1 ms ± 221 µs per loop (mean ± std. dev. of 7 runs, 1000 loops each)\n"
          ]
        }
      ]
    },
    {
      "cell_type": "code",
      "source": [
        "%%timeit -r7 -n1000\n",
        "compute_gradient(Xs, ys, ms_best, bs_best)"
      ],
      "metadata": {
        "colab": {
          "base_uri": "https://localhost:8080/"
        },
        "id": "ol_j7FcKId5V",
        "outputId": "ac54b5a4-3d53-4ece-a11d-ce5f2333fb51"
      },
      "execution_count": 60,
      "outputs": [
        {
          "output_type": "stream",
          "name": "stdout",
          "text": [
            "288 µs ± 67.7 µs per loop (mean ± std. dev. of 7 runs, 1000 loops each)\n"
          ]
        }
      ]
    },
    {
      "cell_type": "markdown",
      "source": [
        "### Using `sympy` to compute the gradient\n",
        "\n",
        "This only works when the parameters, $\\mathbf{w}$ and $b$ are variables."
      ],
      "metadata": {
        "id": "9ETGhny0NtU3"
      }
    },
    {
      "cell_type": "code",
      "source": [
        "def compute_gradient_sympy(X, y, w, b):\n",
        "    cost = compute_cost(X, y, w, b)\n",
        "    w = sym.Matrix([w]) # so it works with simple regression\n",
        "\n",
        "    dj_dw = w.applyfunc(lambda x: sym.diff(cost, x))\n",
        "    dj_db = sym.diff(cost, b)\n",
        "\n",
        "    return dj_db, dj_dw"
      ],
      "metadata": {
        "id": "TTk0Nvo0N453"
      },
      "execution_count": 61,
      "outputs": []
    },
    {
      "cell_type": "code",
      "source": [
        "# works for mulitiple linear regression\n",
        "dj_db, dj_dw = compute_gradient_sympy(X, y, w, b)\n",
        "display(dj_db.factor())\n",
        "display(dj_dw)"
      ],
      "metadata": {
        "colab": {
          "base_uri": "https://localhost:8080/",
          "height": 145
        },
        "id": "p2ggGcEcQ28I",
        "outputId": "cadbca9d-3115-41f9-c07a-0d772a9c3052"
      },
      "execution_count": 62,
      "outputs": [
        {
          "output_type": "display_data",
          "data": {
            "text/plain": [
              "(3*b + w_1*x_{11} + w_1*x_{21} + w_1*x_{31} + w_2*x_{12} + w_2*x_{22} + w_2*x_{32} + w_3*x_{13} + w_3*x_{23} + w_3*x_{33} + w_4*x_{14} + w_4*x_{24} + w_4*x_{34} - y_1 - y_2 - y_3)/3"
            ],
            "text/latex": "$\\displaystyle \\frac{3 b + w_{1} x_{11} + w_{1} x_{21} + w_{1} x_{31} + w_{2} x_{12} + w_{2} x_{22} + w_{2} x_{32} + w_{3} x_{13} + w_{3} x_{23} + w_{3} x_{33} + w_{4} x_{14} + w_{4} x_{24} + w_{4} x_{34} - y_{1} - y_{2} - y_{3}}{3}$"
          },
          "metadata": {}
        },
        {
          "output_type": "display_data",
          "data": {
            "text/plain": [
              "Matrix([\n",
              "[x_{11}*(b + w_1*x_{11} + w_2*x_{12} + w_3*x_{13} + w_4*x_{14} - y_1)/3 + x_{21}*(b + w_1*x_{21} + w_2*x_{22} + w_3*x_{23} + w_4*x_{24} - y_2)/3 + x_{31}*(b + w_1*x_{31} + w_2*x_{32} + w_3*x_{33} + w_4*x_{34} - y_3)/3],\n",
              "[x_{12}*(b + w_1*x_{11} + w_2*x_{12} + w_3*x_{13} + w_4*x_{14} - y_1)/3 + x_{22}*(b + w_1*x_{21} + w_2*x_{22} + w_3*x_{23} + w_4*x_{24} - y_2)/3 + x_{32}*(b + w_1*x_{31} + w_2*x_{32} + w_3*x_{33} + w_4*x_{34} - y_3)/3],\n",
              "[x_{13}*(b + w_1*x_{11} + w_2*x_{12} + w_3*x_{13} + w_4*x_{14} - y_1)/3 + x_{23}*(b + w_1*x_{21} + w_2*x_{22} + w_3*x_{23} + w_4*x_{24} - y_2)/3 + x_{33}*(b + w_1*x_{31} + w_2*x_{32} + w_3*x_{33} + w_4*x_{34} - y_3)/3],\n",
              "[x_{14}*(b + w_1*x_{11} + w_2*x_{12} + w_3*x_{13} + w_4*x_{14} - y_1)/3 + x_{24}*(b + w_1*x_{21} + w_2*x_{22} + w_3*x_{23} + w_4*x_{24} - y_2)/3 + x_{34}*(b + w_1*x_{31} + w_2*x_{32} + w_3*x_{33} + w_4*x_{34} - y_3)/3]])"
            ],
            "text/latex": "$\\displaystyle \\left[\\begin{matrix}\\frac{x_{11} \\left(b + w_{1} x_{11} + w_{2} x_{12} + w_{3} x_{13} + w_{4} x_{14} - y_{1}\\right)}{3} + \\frac{x_{21} \\left(b + w_{1} x_{21} + w_{2} x_{22} + w_{3} x_{23} + w_{4} x_{24} - y_{2}\\right)}{3} + \\frac{x_{31} \\left(b + w_{1} x_{31} + w_{2} x_{32} + w_{3} x_{33} + w_{4} x_{34} - y_{3}\\right)}{3}\\\\\\frac{x_{12} \\left(b + w_{1} x_{11} + w_{2} x_{12} + w_{3} x_{13} + w_{4} x_{14} - y_{1}\\right)}{3} + \\frac{x_{22} \\left(b + w_{1} x_{21} + w_{2} x_{22} + w_{3} x_{23} + w_{4} x_{24} - y_{2}\\right)}{3} + \\frac{x_{32} \\left(b + w_{1} x_{31} + w_{2} x_{32} + w_{3} x_{33} + w_{4} x_{34} - y_{3}\\right)}{3}\\\\\\frac{x_{13} \\left(b + w_{1} x_{11} + w_{2} x_{12} + w_{3} x_{13} + w_{4} x_{14} - y_{1}\\right)}{3} + \\frac{x_{23} \\left(b + w_{1} x_{21} + w_{2} x_{22} + w_{3} x_{23} + w_{4} x_{24} - y_{2}\\right)}{3} + \\frac{x_{33} \\left(b + w_{1} x_{31} + w_{2} x_{32} + w_{3} x_{33} + w_{4} x_{34} - y_{3}\\right)}{3}\\\\\\frac{x_{14} \\left(b + w_{1} x_{11} + w_{2} x_{12} + w_{3} x_{13} + w_{4} x_{14} - y_{1}\\right)}{3} + \\frac{x_{24} \\left(b + w_{1} x_{21} + w_{2} x_{22} + w_{3} x_{23} + w_{4} x_{24} - y_{2}\\right)}{3} + \\frac{x_{34} \\left(b + w_{1} x_{31} + w_{2} x_{32} + w_{3} x_{33} + w_{4} x_{34} - y_{3}\\right)}{3}\\end{matrix}\\right]$"
          },
          "metadata": {}
        }
      ]
    },
    {
      "cell_type": "code",
      "source": [
        "dj_db, dj_dw = compute_gradient_sympy(Xn, yn, w, b)\n",
        "display(dj_db.factor())\n",
        "display(dj_dw)"
      ],
      "metadata": {
        "colab": {
          "base_uri": "https://localhost:8080/",
          "height": 136
        },
        "id": "59xHbjK1Q6fY",
        "outputId": "2d266d0a-ff67-44f1-e131-ae1762ff11ef"
      },
      "execution_count": 63,
      "outputs": [
        {
          "output_type": "display_data",
          "data": {
            "text/plain": [
              "(3*b + 4372*w_1 + 10*w_2 + 4*w_3 + 120*w_4 - 870)/3"
            ],
            "text/latex": "$\\displaystyle \\frac{3 b + 4372 w_{1} + 10 w_{2} + 4 w_{3} + 120 w_{4} - 870}{3}$"
          },
          "metadata": {}
        },
        {
          "output_type": "display_data",
          "data": {
            "text/plain": [
              "Matrix([\n",
              "[4372*b/3 + 7157776*w_1/3 + 16472*w_2/3 + 5788*w_3/3 + 60380*w_4 - 1448008/3],\n",
              "[            10*b/3 + 16472*w_1/3 + 38*w_2/3 + 13*w_3/3 + 415*w_4/3 - 3352/3],\n",
              "[                 4*b/3 + 5788*w_1/3 + 13*w_2/3 + 2*w_3 + 160*w_4/3 - 1102/3],\n",
              "[              40*b + 60380*w_1 + 415*w_2/3 + 160*w_3/3 + 4850*w_4/3 - 12070]])"
            ],
            "text/latex": "$\\displaystyle \\left[\\begin{matrix}\\frac{4372 b}{3} + \\frac{7157776 w_{1}}{3} + \\frac{16472 w_{2}}{3} + \\frac{5788 w_{3}}{3} + 60380 w_{4} - \\frac{1448008}{3}\\\\\\frac{10 b}{3} + \\frac{16472 w_{1}}{3} + \\frac{38 w_{2}}{3} + \\frac{13 w_{3}}{3} + \\frac{415 w_{4}}{3} - \\frac{3352}{3}\\\\\\frac{4 b}{3} + \\frac{5788 w_{1}}{3} + \\frac{13 w_{2}}{3} + 2 w_{3} + \\frac{160 w_{4}}{3} - \\frac{1102}{3}\\\\40 b + 60380 w_{1} + \\frac{415 w_{2}}{3} + \\frac{160 w_{3}}{3} + \\frac{4850 w_{4}}{3} - 12070\\end{matrix}\\right]$"
          },
          "metadata": {}
        }
      ]
    },
    {
      "cell_type": "code",
      "source": [
        "# works for simple linear regression\n",
        "dj_db, dj_dw = compute_gradient_sympy(X[:,0], y, m1, b)\n",
        "display(dj_db.factor())\n",
        "display(dj_dw)"
      ],
      "metadata": {
        "colab": {
          "base_uri": "https://localhost:8080/",
          "height": 82
        },
        "id": "vbS6MoujREXw",
        "outputId": "12e826ea-8442-4abf-df3c-f738c7aba8b6"
      },
      "execution_count": 64,
      "outputs": [
        {
          "output_type": "display_data",
          "data": {
            "text/plain": [
              "(3*b + m_1*x_{11} + m_1*x_{21} + m_1*x_{31} - y_1 - y_2 - y_3)/3"
            ],
            "text/latex": "$\\displaystyle \\frac{3 b + m_{1} x_{11} + m_{1} x_{21} + m_{1} x_{31} - y_{1} - y_{2} - y_{3}}{3}$"
          },
          "metadata": {}
        },
        {
          "output_type": "display_data",
          "data": {
            "text/plain": [
              "Matrix([[x_{11}*(b + m_1*x_{11} - y_1)/3 + x_{21}*(b + m_1*x_{21} - y_2)/3 + x_{31}*(b + m_1*x_{31} - y_3)/3]])"
            ],
            "text/latex": "$\\displaystyle \\left[\\begin{matrix}\\frac{x_{11} \\left(b + m_{1} x_{11} - y_{1}\\right)}{3} + \\frac{x_{21} \\left(b + m_{1} x_{21} - y_{2}\\right)}{3} + \\frac{x_{31} \\left(b + m_{1} x_{31} - y_{3}\\right)}{3}\\end{matrix}\\right]$"
          },
          "metadata": {}
        }
      ]
    },
    {
      "cell_type": "code",
      "source": [
        "dj_db, dj_dw = compute_gradient_sympy(Xs, ys, m1, b)\n",
        "display(dj_db.factor())\n",
        "display(dj_dw)"
      ],
      "metadata": {
        "colab": {
          "base_uri": "https://localhost:8080/",
          "height": 73
        },
        "id": "ObbzpdVTRUjK",
        "outputId": "d7add6f9-a8a8-47a7-a70b-dcfab3230d7c"
      },
      "execution_count": 65,
      "outputs": [
        {
          "output_type": "display_data",
          "data": {
            "text/plain": [
              "(2*b + 3*m_1 - 800)/2"
            ],
            "text/latex": "$\\displaystyle \\frac{2 b + 3 m_{1} - 800}{2}$"
          },
          "metadata": {}
        },
        {
          "output_type": "display_data",
          "data": {
            "text/plain": [
              "Matrix([[3*b/2 + 5*m_1/2 - 650]])"
            ],
            "text/latex": "$\\displaystyle \\left[\\begin{matrix}\\frac{3 b}{2} + \\frac{5 m_{1}}{2} - 650\\end{matrix}\\right]$"
          },
          "metadata": {}
        }
      ]
    },
    {
      "cell_type": "markdown",
      "source": [
        "#### Speed Comparison of `compute_gradient` and `compute_gradient_sympy`\n",
        "\n",
        "`compute_gradient_sympy` is much slower as expected."
      ],
      "metadata": {
        "id": "AAzbYTtJUJFB"
      }
    },
    {
      "cell_type": "markdown",
      "source": [
        "##### `compute_gradient`"
      ],
      "metadata": {
        "id": "D3g3YXo3Uc7q"
      }
    },
    {
      "cell_type": "code",
      "source": [
        "%%timeit -r7 -n1000\n",
        "compute_gradient(X, y, w, b)"
      ],
      "metadata": {
        "colab": {
          "base_uri": "https://localhost:8080/"
        },
        "id": "auaM_u2jURDS",
        "outputId": "a4f6525e-afe6-41a5-d409-16d914de755d"
      },
      "execution_count": 66,
      "outputs": [
        {
          "output_type": "stream",
          "name": "stdout",
          "text": [
            "506 µs ± 10.2 µs per loop (mean ± std. dev. of 7 runs, 1000 loops each)\n"
          ]
        }
      ]
    },
    {
      "cell_type": "code",
      "source": [
        "%%timeit -r7 -n1000\n",
        "compute_gradient(Xn, yn, w, b)"
      ],
      "metadata": {
        "colab": {
          "base_uri": "https://localhost:8080/"
        },
        "id": "tdPGMX7OUjWV",
        "outputId": "fcf0be35-6ded-4492-ecdd-bbd1251ba19c"
      },
      "execution_count": 67,
      "outputs": [
        {
          "output_type": "stream",
          "name": "stdout",
          "text": [
            "579 µs ± 14.9 µs per loop (mean ± std. dev. of 7 runs, 1000 loops each)\n"
          ]
        }
      ]
    },
    {
      "cell_type": "code",
      "source": [
        "%%timeit -r7 -n1000\n",
        "compute_gradient(X[:,0], y, m1, b)"
      ],
      "metadata": {
        "colab": {
          "base_uri": "https://localhost:8080/"
        },
        "id": "Ly8ZlGe0Uki1",
        "outputId": "756b84ee-affb-4942-ceaf-1098682354a8"
      },
      "execution_count": 68,
      "outputs": [
        {
          "output_type": "stream",
          "name": "stdout",
          "text": [
            "531 µs ± 107 µs per loop (mean ± std. dev. of 7 runs, 1000 loops each)\n"
          ]
        }
      ]
    },
    {
      "cell_type": "code",
      "source": [
        "%%timeit -r7 -n1000\n",
        "compute_gradient(Xs, ys, m1, b)"
      ],
      "metadata": {
        "colab": {
          "base_uri": "https://localhost:8080/"
        },
        "id": "o_STtMxgUkrO",
        "outputId": "da3b3201-5be1-4b44-fa15-9e6b56955027"
      },
      "execution_count": 69,
      "outputs": [
        {
          "output_type": "stream",
          "name": "stdout",
          "text": [
            "353 µs ± 11 µs per loop (mean ± std. dev. of 7 runs, 1000 loops each)\n"
          ]
        }
      ]
    },
    {
      "cell_type": "markdown",
      "source": [
        "##### `compute_gradient_sympy`"
      ],
      "metadata": {
        "id": "vFtm-4kxUk8F"
      }
    },
    {
      "cell_type": "code",
      "source": [
        "%%timeit -r7 -n1000\n",
        "compute_gradient_sympy(X, y, w, b)"
      ],
      "metadata": {
        "colab": {
          "base_uri": "https://localhost:8080/"
        },
        "id": "voDQXH-xUsvH",
        "outputId": "70a47761-a704-412e-cba3-73f63f35adcc"
      },
      "execution_count": 70,
      "outputs": [
        {
          "output_type": "stream",
          "name": "stdout",
          "text": [
            "1.94 ms ± 401 µs per loop (mean ± std. dev. of 7 runs, 1000 loops each)\n"
          ]
        }
      ]
    },
    {
      "cell_type": "code",
      "source": [
        "%%timeit -r7 -n1000\n",
        "compute_gradient_sympy(Xn, yn, w, b)"
      ],
      "metadata": {
        "colab": {
          "base_uri": "https://localhost:8080/"
        },
        "id": "T221V2fXUs37",
        "outputId": "4b9828f4-3e4c-4628-806e-5fe0d6abfd5a"
      },
      "execution_count": 71,
      "outputs": [
        {
          "output_type": "stream",
          "name": "stdout",
          "text": [
            "1.69 ms ± 370 µs per loop (mean ± std. dev. of 7 runs, 1000 loops each)\n"
          ]
        }
      ]
    },
    {
      "cell_type": "code",
      "source": [
        "%%timeit -r7 -n1000\n",
        "compute_gradient_sympy(X[:,0], y, m1, b)"
      ],
      "metadata": {
        "colab": {
          "base_uri": "https://localhost:8080/"
        },
        "id": "CJAjmOwLUs9g",
        "outputId": "e1f6abd3-e4af-40e6-e6e5-a3c431242063"
      },
      "execution_count": 72,
      "outputs": [
        {
          "output_type": "stream",
          "name": "stdout",
          "text": [
            "798 µs ± 16.8 µs per loop (mean ± std. dev. of 7 runs, 1000 loops each)\n"
          ]
        }
      ]
    },
    {
      "cell_type": "code",
      "source": [
        "%%timeit -r7 -n1000\n",
        "compute_gradient_sympy(Xs, ys, m1, b)"
      ],
      "metadata": {
        "colab": {
          "base_uri": "https://localhost:8080/"
        },
        "id": "eIVKBaeTUtCc",
        "outputId": "02cfaf92-9234-4947-e51d-687b4451f264"
      },
      "execution_count": 73,
      "outputs": [
        {
          "output_type": "stream",
          "name": "stdout",
          "text": [
            "803 µs ± 177 µs per loop (mean ± std. dev. of 7 runs, 1000 loops each)\n"
          ]
        }
      ]
    },
    {
      "cell_type": "markdown",
      "source": [
        "## Gradient Descent"
      ],
      "metadata": {
        "id": "vcV0mS7vWbzN"
      }
    },
    {
      "cell_type": "code",
      "source": [
        "def gradient_descent(X, y, w, b, f_cost, f_gradient, alpha, num_iters):\n",
        "\n",
        "    w = sym.Matrix([w]) # so it works with simple regression\n",
        "\n",
        "    J_history = []\n",
        "\n",
        "    for i in range(num_iters):\n",
        "        dj_db, dj_dw = f_gradient(X, y, w, b)\n",
        "\n",
        "        w = w - alpha * dj_dw\n",
        "        b = b - alpha * dj_db\n",
        "\n",
        "        J_history.append(f_cost(X, y, w, b))\n",
        "\n",
        "        # print cost\n",
        "        if i % ceil(num_iters / 10) == 0:\n",
        "            print(f'Iteration {i:4d}: Cost {J_history[-1]:8.2f}')\n",
        "\n",
        "    return w, b, J_history"
      ],
      "metadata": {
        "id": "VAD19tt8WnXe"
      },
      "execution_count": 74,
      "outputs": []
    },
    {
      "cell_type": "markdown",
      "source": [
        "This is no point in using the symbolic dataset here, as it results in very complicated algebraic expressions for the cost."
      ],
      "metadata": {
        "id": "ciUEGIyzPI5v"
      }
    },
    {
      "cell_type": "code",
      "source": [
        "# test multiple linear regression with `compute_cost_loop` and `compute_gradient_loop`\n",
        "initial_w = sym.zeros(w.shape[0], 1)\n",
        "initial_b = 0.0\n",
        "iterations = 1000\n",
        "alpha = 5.0e-7\n",
        "\n",
        "w_final, b_final, J_history = gradient_descent(Xn, yn,\n",
        "                                               initial_w, initial_b,\n",
        "                                               compute_cost_loop, compute_gradient_loop,\n",
        "                                               alpha, iterations)\n",
        "\n",
        "print('w_final:')\n",
        "display(w_final)\n",
        "print('b_final:')\n",
        "display(b_final)\n",
        "print('Cost:')\n",
        "J_history[-1]"
      ],
      "metadata": {
        "colab": {
          "base_uri": "https://localhost:8080/",
          "height": 365
        },
        "id": "bkbs7mqxNaeu",
        "outputId": "539b6a26-1d30-4fc4-dfff-2b226f874a25"
      },
      "execution_count": 75,
      "outputs": [
        {
          "output_type": "stream",
          "name": "stdout",
          "text": [
            "Iteration    0: Cost  2529.46\n",
            "Iteration  100: Cost   695.99\n",
            "Iteration  200: Cost   694.92\n",
            "Iteration  300: Cost   693.86\n",
            "Iteration  400: Cost   692.81\n",
            "Iteration  500: Cost   691.77\n",
            "Iteration  600: Cost   690.73\n",
            "Iteration  700: Cost   689.71\n",
            "Iteration  800: Cost   688.70\n",
            "Iteration  900: Cost   687.69\n",
            "w_final:\n"
          ]
        },
        {
          "output_type": "display_data",
          "data": {
            "text/plain": [
              "Matrix([\n",
              "[  0.203965687318831],\n",
              "[0.00374919220982854],\n",
              "[-0.0112487038789788],\n",
              "[-0.0658613999237372]])"
            ],
            "text/latex": "$\\displaystyle \\left[\\begin{matrix}0.203965687318831\\\\0.00374919220982854\\\\-0.0112487038789788\\\\-0.0658613999237372\\end{matrix}\\right]$"
          },
          "metadata": {}
        },
        {
          "output_type": "stream",
          "name": "stdout",
          "text": [
            "b_final:\n"
          ]
        },
        {
          "output_type": "display_data",
          "data": {
            "text/plain": [
              "-0.00223540753093253"
            ],
            "text/latex": "$\\displaystyle -0.00223540753093253$"
          },
          "metadata": {}
        },
        {
          "output_type": "stream",
          "name": "stdout",
          "text": [
            "Cost:\n"
          ]
        },
        {
          "output_type": "execute_result",
          "data": {
            "text/plain": [
              "686.703411666521"
            ],
            "text/latex": "$\\displaystyle 686.703411666521$"
          },
          "metadata": {},
          "execution_count": 75
        }
      ]
    },
    {
      "cell_type": "code",
      "source": [
        "# test multiple linear regression with `compute_cost` and `compute_gradient`\n",
        "initial_w = sym.zeros(w.shape[0], 1)\n",
        "initial_b = 0.0\n",
        "iterations = 1000\n",
        "alpha = 5.0e-7\n",
        "\n",
        "w_final, b_final, J_history = gradient_descent(Xn, yn,\n",
        "                                               initial_w, initial_b,\n",
        "                                               compute_cost, compute_gradient,\n",
        "                                               alpha, iterations)\n",
        "\n",
        "print('w_final:')\n",
        "display(w_final)\n",
        "print('b_final:')\n",
        "display(b_final)\n",
        "print('Cost:')\n",
        "J_history[-1]"
      ],
      "metadata": {
        "colab": {
          "base_uri": "https://localhost:8080/",
          "height": 365
        },
        "id": "hbCzp_jKRyGU",
        "outputId": "06210bda-c6fb-439f-c61c-c7ab3f34d839"
      },
      "execution_count": 76,
      "outputs": [
        {
          "output_type": "stream",
          "name": "stdout",
          "text": [
            "Iteration    0: Cost  2529.46\n",
            "Iteration  100: Cost   695.99\n",
            "Iteration  200: Cost   694.92\n",
            "Iteration  300: Cost   693.86\n",
            "Iteration  400: Cost   692.81\n",
            "Iteration  500: Cost   691.77\n",
            "Iteration  600: Cost   690.73\n",
            "Iteration  700: Cost   689.71\n",
            "Iteration  800: Cost   688.70\n",
            "Iteration  900: Cost   687.69\n",
            "w_final:\n"
          ]
        },
        {
          "output_type": "display_data",
          "data": {
            "text/plain": [
              "Matrix([\n",
              "[  0.203965687318831],\n",
              "[0.00374919220982854],\n",
              "[-0.0112487038789788],\n",
              "[-0.0658613999237372]])"
            ],
            "text/latex": "$\\displaystyle \\left[\\begin{matrix}0.203965687318831\\\\0.00374919220982854\\\\-0.0112487038789788\\\\-0.0658613999237372\\end{matrix}\\right]$"
          },
          "metadata": {}
        },
        {
          "output_type": "stream",
          "name": "stdout",
          "text": [
            "b_final:\n"
          ]
        },
        {
          "output_type": "display_data",
          "data": {
            "text/plain": [
              "-0.00223540753093253"
            ],
            "text/latex": "$\\displaystyle -0.00223540753093253$"
          },
          "metadata": {}
        },
        {
          "output_type": "stream",
          "name": "stdout",
          "text": [
            "Cost:\n"
          ]
        },
        {
          "output_type": "execute_result",
          "data": {
            "text/plain": [
              "686.703411666521"
            ],
            "text/latex": "$\\displaystyle 686.703411666521$"
          },
          "metadata": {},
          "execution_count": 76
        }
      ]
    },
    {
      "cell_type": "code",
      "source": [
        "# test simple linear regression\n",
        "initial_w = 0\n",
        "initial_b = 0\n",
        "iterations = 10_000\n",
        "alpha = 1.0e-2\n",
        "w_final, b_final, J_history = gradient_descent(Xs, ys,\n",
        "                                               initial_b, initial_w,\n",
        "                                               compute_cost, compute_gradient,\n",
        "                                               alpha, iterations)\n",
        "\n",
        "print('w_final:')\n",
        "display(w_final)\n",
        "print('b_final:')\n",
        "display(b_final)\n",
        "print('Cost:')\n",
        "J_history[-1]"
      ],
      "metadata": {
        "colab": {
          "base_uri": "https://localhost:8080/",
          "height": 305
        },
        "id": "UBT-Y8GiSZOW",
        "outputId": "4aa442c5-12a3-486f-d364-1917a14b2ec5"
      },
      "execution_count": 77,
      "outputs": [
        {
          "output_type": "stream",
          "name": "stdout",
          "text": [
            "Iteration    0: Cost 79274.81\n",
            "Iteration 1000: Cost     3.41\n",
            "Iteration 2000: Cost     0.79\n",
            "Iteration 3000: Cost     0.18\n",
            "Iteration 4000: Cost     0.04\n",
            "Iteration 5000: Cost     0.01\n",
            "Iteration 6000: Cost     0.00\n",
            "Iteration 7000: Cost     0.00\n",
            "Iteration 8000: Cost     0.00\n",
            "Iteration 9000: Cost     0.00\n",
            "w_final:\n"
          ]
        },
        {
          "output_type": "display_data",
          "data": {
            "text/plain": [
              "Matrix([[199.992850751318]])"
            ],
            "text/latex": "$\\displaystyle \\left[\\begin{matrix}199.992850751318\\end{matrix}\\right]$"
          },
          "metadata": {}
        },
        {
          "output_type": "stream",
          "name": "stdout",
          "text": [
            "b_final:\n"
          ]
        },
        {
          "output_type": "display_data",
          "data": {
            "text/plain": [
              "100.011567727362"
            ],
            "text/latex": "$\\displaystyle 100.011567727362$"
          },
          "metadata": {}
        },
        {
          "output_type": "stream",
          "name": "stdout",
          "text": [
            "Cost:\n"
          ]
        },
        {
          "output_type": "execute_result",
          "data": {
            "text/plain": [
              "6.74501466258040e-6"
            ],
            "text/latex": "$\\displaystyle 6.7450146625804 \\cdot 10^{-6}$"
          },
          "metadata": {},
          "execution_count": 77
        }
      ]
    },
    {
      "cell_type": "markdown",
      "source": [
        "### Speed Comparision\n",
        "\n",
        "We can be sure that `gradient_descent` runs faster when we use cost and gradient functions that use vectorization, but let's test it just for fun. To do so, we use a version of `gradient_descent` that suppresses printing."
      ],
      "metadata": {
        "id": "FwS5oVHOYLJp"
      }
    },
    {
      "cell_type": "code",
      "source": [
        "def gradient_descent_no_print(X, y, w, b, f_cost, f_gradient, alpha, num_iters):\n",
        "\n",
        "    w = sym.Matrix([w]) # so it works with simple regression\n",
        "\n",
        "    for i in range(iterations):\n",
        "        dj_db, dj_dw = f_gradient(X, y, w, b)\n",
        "\n",
        "        w = w - alpha * dj_dw\n",
        "        b = b - alpha * dj_db\n",
        "\n",
        "        cost = f_cost(X, y, w, b)\n",
        "\n",
        "    return w, b, cost"
      ],
      "metadata": {
        "id": "TURXiSVwZKty"
      },
      "execution_count": 78,
      "outputs": []
    },
    {
      "cell_type": "code",
      "source": [
        "initial_w = sym.zeros(w.shape[0], 1)\n",
        "initial_b = 0.0\n",
        "iterations = 1000\n",
        "alpha = 5.0e-7"
      ],
      "metadata": {
        "id": "GLf-lRAgYniT"
      },
      "execution_count": 79,
      "outputs": []
    },
    {
      "cell_type": "code",
      "source": [
        "%%timeit -r3 -n50\n",
        "gradient_descent_no_print(Xn, yn,\n",
        "                          initial_w, initial_b,\n",
        "                          compute_cost_loop,\n",
        "                          compute_gradient_loop,\n",
        "                          alpha, iterations)"
      ],
      "metadata": {
        "colab": {
          "base_uri": "https://localhost:8080/"
        },
        "id": "ZQdOAVN2j11O",
        "outputId": "873f711c-6f32-408a-e4ad-373cc7415f21"
      },
      "execution_count": 80,
      "outputs": [
        {
          "output_type": "stream",
          "name": "stdout",
          "text": [
            "5.31 s ± 16.2 ms per loop (mean ± std. dev. of 3 runs, 50 loops each)\n"
          ]
        }
      ]
    },
    {
      "cell_type": "code",
      "source": [
        "%%timeit -r3 -n50\n",
        "gradient_descent_no_print(Xn, yn,\n",
        "                          initial_w, initial_b,\n",
        "                          compute_cost,\n",
        "                          compute_gradient,\n",
        "                          alpha, iterations)"
      ],
      "metadata": {
        "colab": {
          "base_uri": "https://localhost:8080/"
        },
        "id": "BDafcHZXYjTw",
        "outputId": "8d44c738-47ce-4f59-b5a6-7bc61dd40f53"
      },
      "execution_count": 81,
      "outputs": [
        {
          "output_type": "stream",
          "name": "stdout",
          "text": [
            "3.45 s ± 24 ms per loop (mean ± std. dev. of 3 runs, 50 loops each)\n"
          ]
        }
      ]
    }
  ]
}