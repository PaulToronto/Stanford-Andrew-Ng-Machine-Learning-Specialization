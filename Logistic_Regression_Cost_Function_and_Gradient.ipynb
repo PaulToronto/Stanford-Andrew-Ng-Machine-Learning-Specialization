{
  "nbformat": 4,
  "nbformat_minor": 0,
  "metadata": {
    "colab": {
      "provenance": [],
      "authorship_tag": "ABX9TyNSqbG7j06L1ep3ERUv4isf",
      "include_colab_link": true
    },
    "kernelspec": {
      "name": "python3",
      "display_name": "Python 3"
    },
    "language_info": {
      "name": "python"
    }
  },
  "cells": [
    {
      "cell_type": "markdown",
      "metadata": {
        "id": "view-in-github",
        "colab_type": "text"
      },
      "source": [
        "<a href=\"https://colab.research.google.com/github/PaulToronto/Stanford-Andrew-Ng-Machine-Learning-Specialization/blob/main/Logistic_Regression_Cost_Function_and_Gradient.ipynb\" target=\"_parent\"><img src=\"https://colab.research.google.com/assets/colab-badge.svg\" alt=\"Open In Colab\"/></a>"
      ]
    },
    {
      "cell_type": "markdown",
      "source": [
        "# Logistic Regression - Cost Function and Gradient\n",
        "\n",
        "I need to review Calculus before attempting to find the gradient for logistic regression."
      ],
      "metadata": {
        "id": "nbEPAiMsoMSj"
      }
    },
    {
      "cell_type": "code",
      "source": [
        "import sympy as sym"
      ],
      "metadata": {
        "id": "_DtToXysvOU_"
      },
      "execution_count": 1,
      "outputs": []
    },
    {
      "cell_type": "markdown",
      "source": [
        "## Prediction"
      ],
      "metadata": {
        "id": "sMQbOiogoeLN"
      }
    },
    {
      "cell_type": "markdown",
      "source": [
        "$$\n",
        "f_{\\vec{w},b} = \\frac{1}{1 + e^{-(w_1x_1 + w_2x_2 + b)}}\n",
        "$$"
      ],
      "metadata": {
        "id": "QzHw_AtuoheI"
      }
    },
    {
      "cell_type": "markdown",
      "source": [
        "## Cost Function"
      ],
      "metadata": {
        "id": "0_nuxNvJpBic"
      }
    },
    {
      "cell_type": "markdown",
      "source": [
        "$$\n",
        "\\begin{align}\n",
        "J\\left(\\vec{w},b\\right) &= \\frac{1}{m}\\sum_{i=1}^{m}\\left(L\\left(f_{\\vec{w},b}\\left(\\vec{x}^{(i)}\\right), y^{(i)}\\right)\\right) \\\\\n",
        "&= \\frac{1}{m}\\sum_{i=1}^{m}\\left(-y^{(i)}\\log{\\left(f_{\\vec{w},b}\\left(\\vec{x}^{(i)}\\right)\\right)} - \\left(1 - y^{(i)}\\right)\\log{\\left(1 - f_{\\vec{w},b}\\left(\\vec{x}^{(i)}\\right)\\right)}\\right) \\\\\n",
        "&= -\\frac{1}{m}\\sum_{i=1}^{m}\\left(y^{(i)}\\log{\\left(f_{\\vec{w},b}\\left(\\vec{x}^{(i)}\\right)\\right)} + \\left(1 - y^{(i)}\\right)\\log{\\left(1 - f_{\\vec{w},b}\\left(\\vec{x}^{(i)}\\right)\\right)}\\right) \\\\\n",
        "&= -\\frac{1}{m}\\sum_{i=1}^{m}\\left(y^{(i)}\\log{(\\frac{1}{1 + e^{-(w_1x_1^{(i)} + w_2x_2^{(i)} + b)}})} + (1 - y^{(i)})\\log{(1 - \\frac{1}{1 + e^{-(w_1x_1^{(i)} + w_2x_2^{(i)} + b)}})}\\right)\n",
        "\\end{align}\n",
        "$$"
      ],
      "metadata": {
        "id": "T1zW8-c3pDb3"
      }
    },
    {
      "cell_type": "markdown",
      "source": [
        "## Gradient"
      ],
      "metadata": {
        "id": "qCKsnyVWvLxF"
      }
    },
    {
      "cell_type": "code",
      "source": [
        "y, x1, x2, w1, w2, b = sym.symbols('y x_1 x_2 w_1 w_2 b')"
      ],
      "metadata": {
        "id": "nygARFpgvRhf"
      },
      "execution_count": 2,
      "outputs": []
    },
    {
      "cell_type": "code",
      "source": [
        "expr = y * sym.log(1 / (1 + sym.exp(-(w1 * x1 + w2 * x2 + b)))) + (1 - y) * sym.log(1 - (1 / (1 + sym.exp(-(w1 * x1 + w2 * x2 + b)))))"
      ],
      "metadata": {
        "id": "YhYxHdkpvnDA"
      },
      "execution_count": 3,
      "outputs": []
    },
    {
      "cell_type": "code",
      "source": [
        "expr"
      ],
      "metadata": {
        "colab": {
          "base_uri": "https://localhost:8080/",
          "height": 58
        },
        "id": "Ty2j2w4GvyUd",
        "outputId": "dbc52f73-3dad-4c91-881d-2e684aba91ae"
      },
      "execution_count": 4,
      "outputs": [
        {
          "output_type": "execute_result",
          "data": {
            "text/plain": [
              "y*log(1/(exp(-b - w_1*x_1 - w_2*x_2) + 1)) + (1 - y)*log(1 - 1/(exp(-b - w_1*x_1 - w_2*x_2) + 1))"
            ],
            "text/latex": "$\\displaystyle y \\log{\\left(\\frac{1}{e^{- b - w_{1} x_{1} - w_{2} x_{2}} + 1} \\right)} + \\left(1 - y\\right) \\log{\\left(1 - \\frac{1}{e^{- b - w_{1} x_{1} - w_{2} x_{2}} + 1} \\right)}$"
          },
          "metadata": {},
          "execution_count": 4
        }
      ]
    },
    {
      "cell_type": "code",
      "source": [
        "expr.diff(w1).simplify()"
      ],
      "metadata": {
        "colab": {
          "base_uri": "https://localhost:8080/",
          "height": 57
        },
        "id": "TZ-jbvkSxWms",
        "outputId": "cf3d8b14-4a21-4dbb-e72d-0e21291f059f"
      },
      "execution_count": 5,
      "outputs": [
        {
          "output_type": "execute_result",
          "data": {
            "text/plain": [
              "x_1*(y*exp(b + w_1*x_1 + w_2*x_2) + y - exp(b + w_1*x_1 + w_2*x_2))/(exp(b + w_1*x_1 + w_2*x_2) + 1)"
            ],
            "text/latex": "$\\displaystyle \\frac{x_{1} \\left(y e^{b + w_{1} x_{1} + w_{2} x_{2}} + y - e^{b + w_{1} x_{1} + w_{2} x_{2}}\\right)}{e^{b + w_{1} x_{1} + w_{2} x_{2}} + 1}$"
          },
          "metadata": {},
          "execution_count": 5
        }
      ]
    },
    {
      "cell_type": "code",
      "source": [
        "expr.diff(w2).simplify()"
      ],
      "metadata": {
        "colab": {
          "base_uri": "https://localhost:8080/",
          "height": 57
        },
        "id": "3YcNG8gzzXSg",
        "outputId": "94486d60-c497-4044-fd40-c37a7cfd1262"
      },
      "execution_count": 6,
      "outputs": [
        {
          "output_type": "execute_result",
          "data": {
            "text/plain": [
              "x_2*(y*exp(b + w_1*x_1 + w_2*x_2) + y - exp(b + w_1*x_1 + w_2*x_2))/(exp(b + w_1*x_1 + w_2*x_2) + 1)"
            ],
            "text/latex": "$\\displaystyle \\frac{x_{2} \\left(y e^{b + w_{1} x_{1} + w_{2} x_{2}} + y - e^{b + w_{1} x_{1} + w_{2} x_{2}}\\right)}{e^{b + w_{1} x_{1} + w_{2} x_{2}} + 1}$"
          },
          "metadata": {},
          "execution_count": 6
        }
      ]
    },
    {
      "cell_type": "code",
      "source": [
        "expr.diff(b).simplify()"
      ],
      "metadata": {
        "colab": {
          "base_uri": "https://localhost:8080/",
          "height": 56
        },
        "id": "6eNO3dKGx1Ot",
        "outputId": "bf4638ae-3cd1-4610-ce06-ca0b81abc3ce"
      },
      "execution_count": 7,
      "outputs": [
        {
          "output_type": "execute_result",
          "data": {
            "text/plain": [
              "(y*exp(b + w_1*x_1 + w_2*x_2) + y - exp(b + w_1*x_1 + w_2*x_2))/(exp(b + w_1*x_1 + w_2*x_2) + 1)"
            ],
            "text/latex": "$\\displaystyle \\frac{y e^{b + w_{1} x_{1} + w_{2} x_{2}} + y - e^{b + w_{1} x_{1} + w_{2} x_{2}}}{e^{b + w_{1} x_{1} + w_{2} x_{2}} + 1}$"
          },
          "metadata": {},
          "execution_count": 7
        }
      ]
    }
  ]
}