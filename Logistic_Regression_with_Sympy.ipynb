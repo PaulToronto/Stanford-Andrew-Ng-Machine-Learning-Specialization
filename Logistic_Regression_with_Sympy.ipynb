{
  "nbformat": 4,
  "nbformat_minor": 0,
  "metadata": {
    "colab": {
      "provenance": [],
      "toc_visible": true,
      "authorship_tag": "ABX9TyOO+hune/CkxeipUDDvGCeT",
      "include_colab_link": true
    },
    "kernelspec": {
      "name": "python3",
      "display_name": "Python 3"
    },
    "language_info": {
      "name": "python"
    }
  },
  "cells": [
    {
      "cell_type": "markdown",
      "metadata": {
        "id": "view-in-github",
        "colab_type": "text"
      },
      "source": [
        "<a href=\"https://colab.research.google.com/github/PaulToronto/Stanford-Andrew-Ng-Machine-Learning-Specialization/blob/main/Logistic_Regression_with_Sympy.ipynb\" target=\"_parent\"><img src=\"https://colab.research.google.com/assets/colab-badge.svg\" alt=\"Open In Colab\"/></a>"
      ]
    },
    {
      "cell_type": "markdown",
      "source": [
        "# Logistic Regression with `sympy`"
      ],
      "metadata": {
        "id": "P_nrW-PmX3N5"
      }
    },
    {
      "cell_type": "markdown",
      "source": [
        "## Imports"
      ],
      "metadata": {
        "id": "WoTDyosNX7ze"
      }
    },
    {
      "cell_type": "code",
      "execution_count": 1,
      "metadata": {
        "id": "ARFhRe8AXxPW"
      },
      "outputs": [],
      "source": [
        "import sympy as sym\n",
        "import pandas as pd\n",
        "import numpy as np"
      ]
    },
    {
      "cell_type": "markdown",
      "source": [
        "## Functions"
      ],
      "metadata": {
        "id": "rlq-NZSLr9KP"
      }
    },
    {
      "cell_type": "code",
      "source": [
        "def sigmoid(z, clip=False):\n",
        "    \"\"\"\n",
        "    Compute the sigmoid of z\n",
        "\n",
        "    Parameters\n",
        "    ----------\n",
        "    z : array_like\n",
        "        A scalar or numpy array of any size.\n",
        "\n",
        "    Returns\n",
        "    -------\n",
        "     g : array_like\n",
        "         sigmoid(z)\n",
        "    \"\"\"\n",
        "    if clip:\n",
        "        z = np.clip( z, -500, 500 )           # protect against overflow\n",
        "    g = 1.0 / (1.0 + sym.exp(-z))\n",
        "\n",
        "    return g"
      ],
      "metadata": {
        "id": "lcvcGErQr8iC"
      },
      "execution_count": 2,
      "outputs": []
    },
    {
      "cell_type": "markdown",
      "source": [
        "## Symbols"
      ],
      "metadata": {
        "id": "1Auhy2zSgCeR"
      }
    },
    {
      "cell_type": "code",
      "source": [
        "# training set data\n",
        "x11, x12 = sym.symbols('x_{11} x_{12}')\n",
        "x21, x22 = sym.symbols('x_{21} x_{22}')\n",
        "x31, x32 = sym.symbols('x_{31} x_{32}')\n",
        "x41, x42 = sym.symbols('x_{41} x_{42}')\n",
        "x51, x52 = sym.symbols('x_{51} x_{52}')\n",
        "x61, x62 = sym.symbols('x_{61} x_{62}')\n",
        "\n",
        "# weights and bias\n",
        "w1, w2, b = sym.symbols('w_1 w_2 b')\n",
        "w = sym.Matrix([w1, w2])\n",
        "\n",
        "# weight for simple logistic regression\n",
        "m = sym.symbols('m')"
      ],
      "metadata": {
        "id": "kKDtN0_egEHA"
      },
      "execution_count": 3,
      "outputs": []
    },
    {
      "cell_type": "markdown",
      "source": [
        "## Toy Datasets"
      ],
      "metadata": {
        "id": "VbeWDsZBX-qd"
      }
    },
    {
      "cell_type": "code",
      "source": [
        "data1 = pd.DataFrame({\n",
        "    'feature1': [x11, x21, x31, x41, x51, x61],\n",
        "    'target': [0, 0, 0, 1, 1, 1]\n",
        "})\n",
        "\n",
        "x_train1 = sym.Matrix(data1.drop('target', axis=1))\n",
        "y_train1 = sym.Matrix(data1['target'])"
      ],
      "metadata": {
        "id": "L1F1blZahYhW"
      },
      "execution_count": 4,
      "outputs": []
    },
    {
      "cell_type": "code",
      "source": [
        "data2 = pd.DataFrame({\n",
        "    'feature1': [x11, x21, x31, x41, x51, x61],\n",
        "    'feature2': [x12, x22, x32, x42, x52, x62],\n",
        "    'target': [0, 0, 0, 1, 1, 1]\n",
        "})\n",
        "\n",
        "x_train2 = sym.Matrix(data2.drop('target', axis=1))\n",
        "y_train2 = sym.Matrix(data2['target'])"
      ],
      "metadata": {
        "id": "EeHxUF63pTaB"
      },
      "execution_count": 5,
      "outputs": []
    },
    {
      "cell_type": "code",
      "source": [
        "data3 = pd.DataFrame({\n",
        "        'x': [0, 1, 2, 3, 4, 5],\n",
        "        'y': [0, 0, 0, 1, 1, 1]\n",
        "})\n",
        "\n",
        "x_train3 = sym.Matrix(data3.drop('y', axis=1).values)\n",
        "y_train3 = sym.Matrix(data3['y'].values)\n",
        "\n",
        "pos3 = np.array(y_train3) == 1\n",
        "neg3 = np.array(y_train3) == 0"
      ],
      "metadata": {
        "id": "PrdYlK16w23V"
      },
      "execution_count": 14,
      "outputs": []
    },
    {
      "cell_type": "code",
      "source": [
        "data4 = pd.DataFrame({\n",
        "    'x1': [0.5, 1, 1.5, 3, 2, 1],\n",
        "    'x2': [1.5, 1, 0.5, 0.5, 2, 2.5],\n",
        "    'y': [0, 0, 0, 1, 1, 1]\n",
        "})\n",
        "\n",
        "x_train4 = sym.Matrix(data4.drop('y', axis=1).values)\n",
        "y_train4 = sym.Matrix(data4['y'].values)\n",
        "\n",
        "pos4 = np.array(y_train4) == 1\n",
        "neg4 = np.array(y_train4) == 0"
      ],
      "metadata": {
        "id": "93_t6TOWyI7Z"
      },
      "execution_count": 20,
      "outputs": []
    },
    {
      "cell_type": "markdown",
      "source": [
        "## Prediction\n",
        "\n",
        "$$\n",
        "f_{\\vec{w},b}\\left(\\vec{x}\\right) = \\frac{1}{1 + e^{-(\\vec{w}\\cdot\\vec{x} + b)}}\n",
        "$$"
      ],
      "metadata": {
        "id": "caaJmr4gjx5C"
      }
    },
    {
      "cell_type": "code",
      "source": [
        "def f_wb(X, w, b):\n",
        "    m, n = X.shape\n",
        "    w = sym.Matrix([w]) # ensure w is a matrix\n",
        "    pred = X @ w + b * sym.ones(m, 1)\n",
        "    pred = pred.applyfunc(sigmoid)\n",
        "    return pred"
      ],
      "metadata": {
        "id": "ED8rUpt1j1Qz"
      },
      "execution_count": 6,
      "outputs": []
    },
    {
      "cell_type": "code",
      "source": [
        "f_wb(x_train1, m, b)"
      ],
      "metadata": {
        "colab": {
          "base_uri": "https://localhost:8080/",
          "height": 149
        },
        "id": "4tDcFqO0wHxO",
        "outputId": "23f43128-ffda-4066-cbc6-b4aa54e779f0"
      },
      "execution_count": 7,
      "outputs": [
        {
          "output_type": "execute_result",
          "data": {
            "text/plain": [
              "Matrix([\n",
              "[1.0/(exp(-b - m*x_{11}) + 1.0)],\n",
              "[1.0/(exp(-b - m*x_{21}) + 1.0)],\n",
              "[1.0/(exp(-b - m*x_{31}) + 1.0)],\n",
              "[1.0/(exp(-b - m*x_{41}) + 1.0)],\n",
              "[1.0/(exp(-b - m*x_{51}) + 1.0)],\n",
              "[1.0/(exp(-b - m*x_{61}) + 1.0)]])"
            ],
            "text/latex": "$\\displaystyle \\left[\\begin{matrix}\\frac{1.0}{e^{- b - m x_{11}} + 1.0}\\\\\\frac{1.0}{e^{- b - m x_{21}} + 1.0}\\\\\\frac{1.0}{e^{- b - m x_{31}} + 1.0}\\\\\\frac{1.0}{e^{- b - m x_{41}} + 1.0}\\\\\\frac{1.0}{e^{- b - m x_{51}} + 1.0}\\\\\\frac{1.0}{e^{- b - m x_{61}} + 1.0}\\end{matrix}\\right]$"
          },
          "metadata": {},
          "execution_count": 7
        }
      ]
    },
    {
      "cell_type": "code",
      "source": [
        "f_wb(x_train1[0,:], m, b)"
      ],
      "metadata": {
        "colab": {
          "base_uri": "https://localhost:8080/",
          "height": 39
        },
        "id": "NSR9Uw-Rq-V7",
        "outputId": "ba332777-c930-4a3e-af1d-29eed4481a90"
      },
      "execution_count": 8,
      "outputs": [
        {
          "output_type": "execute_result",
          "data": {
            "text/plain": [
              "Matrix([[1.0/(exp(-b - m*x_{11}) + 1.0)]])"
            ],
            "text/latex": "$\\displaystyle \\left[\\begin{matrix}\\frac{1.0}{e^{- b - m x_{11}} + 1.0}\\end{matrix}\\right]$"
          },
          "metadata": {},
          "execution_count": 8
        }
      ]
    },
    {
      "cell_type": "code",
      "source": [
        "f_wb(x_train2, w, b)"
      ],
      "metadata": {
        "colab": {
          "base_uri": "https://localhost:8080/",
          "height": 149
        },
        "id": "Pg5BY_f8rBw2",
        "outputId": "b7e7715f-25aa-43b2-9c11-100eb8514f01"
      },
      "execution_count": 9,
      "outputs": [
        {
          "output_type": "execute_result",
          "data": {
            "text/plain": [
              "Matrix([\n",
              "[1.0/(exp(-b - w_1*x_{11} - w_2*x_{12}) + 1.0)],\n",
              "[1.0/(exp(-b - w_1*x_{21} - w_2*x_{22}) + 1.0)],\n",
              "[1.0/(exp(-b - w_1*x_{31} - w_2*x_{32}) + 1.0)],\n",
              "[1.0/(exp(-b - w_1*x_{41} - w_2*x_{42}) + 1.0)],\n",
              "[1.0/(exp(-b - w_1*x_{51} - w_2*x_{52}) + 1.0)],\n",
              "[1.0/(exp(-b - w_1*x_{61} - w_2*x_{62}) + 1.0)]])"
            ],
            "text/latex": "$\\displaystyle \\left[\\begin{matrix}\\frac{1.0}{e^{- b - w_{1} x_{11} - w_{2} x_{12}} + 1.0}\\\\\\frac{1.0}{e^{- b - w_{1} x_{21} - w_{2} x_{22}} + 1.0}\\\\\\frac{1.0}{e^{- b - w_{1} x_{31} - w_{2} x_{32}} + 1.0}\\\\\\frac{1.0}{e^{- b - w_{1} x_{41} - w_{2} x_{42}} + 1.0}\\\\\\frac{1.0}{e^{- b - w_{1} x_{51} - w_{2} x_{52}} + 1.0}\\\\\\frac{1.0}{e^{- b - w_{1} x_{61} - w_{2} x_{62}} + 1.0}\\end{matrix}\\right]$"
          },
          "metadata": {},
          "execution_count": 9
        }
      ]
    },
    {
      "cell_type": "code",
      "source": [
        "x_train3"
      ],
      "metadata": {
        "colab": {
          "base_uri": "https://localhost:8080/",
          "height": 139
        },
        "id": "ImE38x5dyxrp",
        "outputId": "8f877c53-88cb-4a91-c537-188e6e38dacc"
      },
      "execution_count": 21,
      "outputs": [
        {
          "output_type": "execute_result",
          "data": {
            "text/plain": [
              "Matrix([\n",
              "[0],\n",
              "[1],\n",
              "[2],\n",
              "[3],\n",
              "[4],\n",
              "[5]])"
            ],
            "text/latex": "$\\displaystyle \\left[\\begin{matrix}0\\\\1\\\\2\\\\3\\\\4\\\\5\\end{matrix}\\right]$"
          },
          "metadata": {},
          "execution_count": 21
        }
      ]
    },
    {
      "cell_type": "code",
      "source": [
        "f_wb(x_train3, m, b)"
      ],
      "metadata": {
        "colab": {
          "base_uri": "https://localhost:8080/",
          "height": 145
        },
        "id": "Z_PltGfByz__",
        "outputId": "a69eb540-9f89-4108-d971-79b6820c62d2"
      },
      "execution_count": 25,
      "outputs": [
        {
          "output_type": "execute_result",
          "data": {
            "text/plain": [
              "Matrix([\n",
              "[      1.0/(1.0 + exp(-b))],\n",
              "[  1.0/(exp(-b - m) + 1.0)],\n",
              "[1.0/(exp(-b - 2*m) + 1.0)],\n",
              "[1.0/(exp(-b - 3*m) + 1.0)],\n",
              "[1.0/(exp(-b - 4*m) + 1.0)],\n",
              "[1.0/(exp(-b - 5*m) + 1.0)]])"
            ],
            "text/latex": "$\\displaystyle \\left[\\begin{matrix}\\frac{1.0}{1.0 + e^{- b}}\\\\\\frac{1.0}{e^{- b - m} + 1.0}\\\\\\frac{1.0}{e^{- b - 2 m} + 1.0}\\\\\\frac{1.0}{e^{- b - 3 m} + 1.0}\\\\\\frac{1.0}{e^{- b - 4 m} + 1.0}\\\\\\frac{1.0}{e^{- b - 5 m} + 1.0}\\end{matrix}\\right]$"
          },
          "metadata": {},
          "execution_count": 25
        }
      ]
    },
    {
      "cell_type": "code",
      "source": [
        "f_wb(x_train4, w, b)"
      ],
      "metadata": {
        "colab": {
          "base_uri": "https://localhost:8080/",
          "height": 149
        },
        "id": "ZQiMntv3zDTI",
        "outputId": "88cb08fd-be37-4813-bcf4-e55578deb42c"
      },
      "execution_count": 26,
      "outputs": [
        {
          "output_type": "execute_result",
          "data": {
            "text/plain": [
              "Matrix([\n",
              "[1.0/(exp(-b - 0.5*w_1 - 1.5*w_2) + 1.0)],\n",
              "[1.0/(exp(-b - 1.0*w_1 - 1.0*w_2) + 1.0)],\n",
              "[1.0/(exp(-b - 1.5*w_1 - 0.5*w_2) + 1.0)],\n",
              "[1.0/(exp(-b - 3.0*w_1 - 0.5*w_2) + 1.0)],\n",
              "[1.0/(exp(-b - 2.0*w_1 - 2.0*w_2) + 1.0)],\n",
              "[1.0/(exp(-b - 1.0*w_1 - 2.5*w_2) + 1.0)]])"
            ],
            "text/latex": "$\\displaystyle \\left[\\begin{matrix}\\frac{1.0}{e^{- b - 0.5 w_{1} - 1.5 w_{2}} + 1.0}\\\\\\frac{1.0}{e^{- b - 1.0 w_{1} - 1.0 w_{2}} + 1.0}\\\\\\frac{1.0}{e^{- b - 1.5 w_{1} - 0.5 w_{2}} + 1.0}\\\\\\frac{1.0}{e^{- b - 3.0 w_{1} - 0.5 w_{2}} + 1.0}\\\\\\frac{1.0}{e^{- b - 2.0 w_{1} - 2.0 w_{2}} + 1.0}\\\\\\frac{1.0}{e^{- b - 1.0 w_{1} - 2.5 w_{2}} + 1.0}\\end{matrix}\\right]$"
          },
          "metadata": {},
          "execution_count": 26
        }
      ]
    },
    {
      "cell_type": "markdown",
      "source": [
        "## Cost Function\n",
        "\n",
        "$$\n",
        "J\\left(\\vec{w},b\\right) = -\\frac{1}{m}\\sum_{i=1}^{m}\\left(y^{(i)}\\log{\\left(f_{\\vec{w},b}\\left(\\vec{x}^{(i)}\\right)\\right)} + \\left(1 - y^{(i)}\\right)\\log{\\left(1 - f_{\\vec{w},b}\\left(\\vec{x}^{(i)}\\right)\\right)}\\right)\n",
        "$$"
      ],
      "metadata": {
        "id": "U6_W4wel_Lhw"
      }
    },
    {
      "cell_type": "code",
      "source": [
        "def compute_cost_loop(X, y, w, b):\n",
        "    m = X.shape[0]\n",
        "\n",
        "    cost = 0.0\n",
        "    for i in range(m):\n",
        "        f_wb_i = f_wb(X[i,:], w, b)\n",
        "        cost += -y[i] * sym.log(f_wb_i[0]) - (1 - y[i]) * sym.log(1 - f_wb_i[0])\n",
        "\n",
        "    cost = cost / m\n",
        "\n",
        "    return cost"
      ],
      "metadata": {
        "id": "yQuogFE__Qef"
      },
      "execution_count": 209,
      "outputs": []
    },
    {
      "cell_type": "code",
      "source": [
        "def compute_cost(X, y, w, b):\n",
        "    m = X.shape[0]\n",
        "\n",
        "    f = f_wb(X, w, b)\n",
        "    cost = sym.Rational(1, m) * ((-y.T @ f.applyfunc(sym.log)) -\n",
        "     (sym.ones(m, 1) - y).T  @ (sym.ones(m, 1) - f).applyfunc(sym.log))\n",
        "    cost = cost[0, 0]\n",
        "\n",
        "    return cost"
      ],
      "metadata": {
        "id": "ZakO-GCgd40I"
      },
      "execution_count": 381,
      "outputs": []
    },
    {
      "cell_type": "code",
      "source": [
        "compute_cost_loop(x_train1, y_train1, m, b)"
      ],
      "metadata": {
        "colab": {
          "base_uri": "https://localhost:8080/",
          "height": 66
        },
        "id": "X20jpz0VCngy",
        "outputId": "857af64b-88a9-4233-ae39-40ee17cc4f49"
      },
      "execution_count": 386,
      "outputs": [
        {
          "output_type": "execute_result",
          "data": {
            "text/plain": [
              "-log(1 - 1.0/(exp(-b - m*x_{11}) + 1.0))/6 - log(1 - 1.0/(exp(-b - m*x_{21}) + 1.0))/6 - log(1 - 1.0/(exp(-b - m*x_{31}) + 1.0))/6 - log(1.0/(exp(-b - m*x_{41}) + 1.0))/6 - log(1.0/(exp(-b - m*x_{51}) + 1.0))/6 - log(1.0/(exp(-b - m*x_{61}) + 1.0))/6"
            ],
            "text/latex": "$\\displaystyle - \\frac{\\log{\\left(1 - \\frac{1.0}{e^{- b - m x_{11}} + 1.0} \\right)}}{6} - \\frac{\\log{\\left(1 - \\frac{1.0}{e^{- b - m x_{21}} + 1.0} \\right)}}{6} - \\frac{\\log{\\left(1 - \\frac{1.0}{e^{- b - m x_{31}} + 1.0} \\right)}}{6} - \\frac{\\log{\\left(\\frac{1.0}{e^{- b - m x_{41}} + 1.0} \\right)}}{6} - \\frac{\\log{\\left(\\frac{1.0}{e^{- b - m x_{51}} + 1.0} \\right)}}{6} - \\frac{\\log{\\left(\\frac{1.0}{e^{- b - m x_{61}} + 1.0} \\right)}}{6}$"
          },
          "metadata": {},
          "execution_count": 386
        }
      ]
    },
    {
      "cell_type": "code",
      "source": [
        "compute_cost(x_train1, y_train1, m, b)"
      ],
      "metadata": {
        "colab": {
          "base_uri": "https://localhost:8080/",
          "height": 66
        },
        "id": "lNpl3oydnnlJ",
        "outputId": "b5e9f798-c36f-4aa9-a40c-6c17e3f10df1"
      },
      "execution_count": 387,
      "outputs": [
        {
          "output_type": "execute_result",
          "data": {
            "text/plain": [
              "-log(1 - 1.0/(exp(-b - m*x_{11}) + 1.0))/6 - log(1 - 1.0/(exp(-b - m*x_{21}) + 1.0))/6 - log(1 - 1.0/(exp(-b - m*x_{31}) + 1.0))/6 - log(1.0/(exp(-b - m*x_{41}) + 1.0))/6 - log(1.0/(exp(-b - m*x_{51}) + 1.0))/6 - log(1.0/(exp(-b - m*x_{61}) + 1.0))/6"
            ],
            "text/latex": "$\\displaystyle - \\frac{\\log{\\left(1 - \\frac{1.0}{e^{- b - m x_{11}} + 1.0} \\right)}}{6} - \\frac{\\log{\\left(1 - \\frac{1.0}{e^{- b - m x_{21}} + 1.0} \\right)}}{6} - \\frac{\\log{\\left(1 - \\frac{1.0}{e^{- b - m x_{31}} + 1.0} \\right)}}{6} - \\frac{\\log{\\left(\\frac{1.0}{e^{- b - m x_{41}} + 1.0} \\right)}}{6} - \\frac{\\log{\\left(\\frac{1.0}{e^{- b - m x_{51}} + 1.0} \\right)}}{6} - \\frac{\\log{\\left(\\frac{1.0}{e^{- b - m x_{61}} + 1.0} \\right)}}{6}$"
          },
          "metadata": {},
          "execution_count": 387
        }
      ]
    },
    {
      "cell_type": "code",
      "source": [
        "compute_cost_loop(x_train2, y_train2, w, b)"
      ],
      "metadata": {
        "colab": {
          "base_uri": "https://localhost:8080/",
          "height": 114
        },
        "id": "mvNRGF6RPJlR",
        "outputId": "c376864a-f393-4d15-db94-0f7c42a0e291"
      },
      "execution_count": 259,
      "outputs": [
        {
          "output_type": "execute_result",
          "data": {
            "text/plain": [
              "-log(1 - 1.0/(exp(-b - w_1*x_{11} - w_2*x_{12}) + 1.0))/6 - log(1 - 1.0/(exp(-b - w_1*x_{21} - w_2*x_{22}) + 1.0))/6 - log(1 - 1.0/(exp(-b - w_1*x_{31} - w_2*x_{32}) + 1.0))/6 - log(1.0/(exp(-b - w_1*x_{41} - w_2*x_{42}) + 1.0))/6 - log(1.0/(exp(-b - w_1*x_{51} - w_2*x_{52}) + 1.0))/6 - log(1.0/(exp(-b - w_1*x_{61} - w_2*x_{62}) + 1.0))/6"
            ],
            "text/latex": "$\\displaystyle - \\frac{\\log{\\left(1 - \\frac{1.0}{e^{- b - w_{1} x_{11} - w_{2} x_{12}} + 1.0} \\right)}}{6} - \\frac{\\log{\\left(1 - \\frac{1.0}{e^{- b - w_{1} x_{21} - w_{2} x_{22}} + 1.0} \\right)}}{6} - \\frac{\\log{\\left(1 - \\frac{1.0}{e^{- b - w_{1} x_{31} - w_{2} x_{32}} + 1.0} \\right)}}{6} - \\frac{\\log{\\left(\\frac{1.0}{e^{- b - w_{1} x_{41} - w_{2} x_{42}} + 1.0} \\right)}}{6} - \\frac{\\log{\\left(\\frac{1.0}{e^{- b - w_{1} x_{51} - w_{2} x_{52}} + 1.0} \\right)}}{6} - \\frac{\\log{\\left(\\frac{1.0}{e^{- b - w_{1} x_{61} - w_{2} x_{62}} + 1.0} \\right)}}{6}$"
          },
          "metadata": {},
          "execution_count": 259
        }
      ]
    },
    {
      "cell_type": "code",
      "source": [
        "compute_cost(x_train2, y_train2, w, b)"
      ],
      "metadata": {
        "colab": {
          "base_uri": "https://localhost:8080/",
          "height": 114
        },
        "id": "o59q3qSVn1_G",
        "outputId": "d9cea8fd-198d-46de-ed3e-f7743e8886a1"
      },
      "execution_count": 388,
      "outputs": [
        {
          "output_type": "execute_result",
          "data": {
            "text/plain": [
              "-log(1 - 1.0/(exp(-b - w_1*x_{11} - w_2*x_{12}) + 1.0))/6 - log(1 - 1.0/(exp(-b - w_1*x_{21} - w_2*x_{22}) + 1.0))/6 - log(1 - 1.0/(exp(-b - w_1*x_{31} - w_2*x_{32}) + 1.0))/6 - log(1.0/(exp(-b - w_1*x_{41} - w_2*x_{42}) + 1.0))/6 - log(1.0/(exp(-b - w_1*x_{51} - w_2*x_{52}) + 1.0))/6 - log(1.0/(exp(-b - w_1*x_{61} - w_2*x_{62}) + 1.0))/6"
            ],
            "text/latex": "$\\displaystyle - \\frac{\\log{\\left(1 - \\frac{1.0}{e^{- b - w_{1} x_{11} - w_{2} x_{12}} + 1.0} \\right)}}{6} - \\frac{\\log{\\left(1 - \\frac{1.0}{e^{- b - w_{1} x_{21} - w_{2} x_{22}} + 1.0} \\right)}}{6} - \\frac{\\log{\\left(1 - \\frac{1.0}{e^{- b - w_{1} x_{31} - w_{2} x_{32}} + 1.0} \\right)}}{6} - \\frac{\\log{\\left(\\frac{1.0}{e^{- b - w_{1} x_{41} - w_{2} x_{42}} + 1.0} \\right)}}{6} - \\frac{\\log{\\left(\\frac{1.0}{e^{- b - w_{1} x_{51} - w_{2} x_{52}} + 1.0} \\right)}}{6} - \\frac{\\log{\\left(\\frac{1.0}{e^{- b - w_{1} x_{61} - w_{2} x_{62}} + 1.0} \\right)}}{6}$"
          },
          "metadata": {},
          "execution_count": 388
        }
      ]
    },
    {
      "cell_type": "code",
      "source": [
        "compute_cost_loop(x_train3, y_train3, m, b)"
      ],
      "metadata": {
        "colab": {
          "base_uri": "https://localhost:8080/",
          "height": 57
        },
        "id": "MI6bRx7xfPeL",
        "outputId": "e18bdb21-873c-44b9-b76f-f4f7f1bf1256"
      },
      "execution_count": 277,
      "outputs": [
        {
          "output_type": "execute_result",
          "data": {
            "text/plain": [
              "-log(1 - 1.0/(1.0 + exp(-b)))/6 - log(1 - 1.0/(exp(-b - 2*m) + 1.0))/6 - log(1 - 1.0/(exp(-b - m) + 1.0))/6 - log(1.0/(exp(-b - 5*m) + 1.0))/6 - log(1.0/(exp(-b - 4*m) + 1.0))/6 - log(1.0/(exp(-b - 3*m) + 1.0))/6"
            ],
            "text/latex": "$\\displaystyle - \\frac{\\log{\\left(1 - \\frac{1.0}{1.0 + e^{- b}} \\right)}}{6} - \\frac{\\log{\\left(1 - \\frac{1.0}{e^{- b - 2 m} + 1.0} \\right)}}{6} - \\frac{\\log{\\left(1 - \\frac{1.0}{e^{- b - m} + 1.0} \\right)}}{6} - \\frac{\\log{\\left(\\frac{1.0}{e^{- b - 5 m} + 1.0} \\right)}}{6} - \\frac{\\log{\\left(\\frac{1.0}{e^{- b - 4 m} + 1.0} \\right)}}{6} - \\frac{\\log{\\left(\\frac{1.0}{e^{- b - 3 m} + 1.0} \\right)}}{6}$"
          },
          "metadata": {},
          "execution_count": 277
        }
      ]
    },
    {
      "cell_type": "code",
      "source": [
        "compute_cost(x_train3, y_train3, m, b)"
      ],
      "metadata": {
        "colab": {
          "base_uri": "https://localhost:8080/",
          "height": 57
        },
        "id": "AFfCb3-wn8E9",
        "outputId": "6851f041-6be7-42b0-db9d-04d72873513d"
      },
      "execution_count": 389,
      "outputs": [
        {
          "output_type": "execute_result",
          "data": {
            "text/plain": [
              "-log(1 - 1.0/(1.0 + exp(-b)))/6 - log(1 - 1.0/(exp(-b - 2*m) + 1.0))/6 - log(1 - 1.0/(exp(-b - m) + 1.0))/6 - log(1.0/(exp(-b - 5*m) + 1.0))/6 - log(1.0/(exp(-b - 4*m) + 1.0))/6 - log(1.0/(exp(-b - 3*m) + 1.0))/6"
            ],
            "text/latex": "$\\displaystyle - \\frac{\\log{\\left(1 - \\frac{1.0}{1.0 + e^{- b}} \\right)}}{6} - \\frac{\\log{\\left(1 - \\frac{1.0}{e^{- b - 2 m} + 1.0} \\right)}}{6} - \\frac{\\log{\\left(1 - \\frac{1.0}{e^{- b - m} + 1.0} \\right)}}{6} - \\frac{\\log{\\left(\\frac{1.0}{e^{- b - 5 m} + 1.0} \\right)}}{6} - \\frac{\\log{\\left(\\frac{1.0}{e^{- b - 4 m} + 1.0} \\right)}}{6} - \\frac{\\log{\\left(\\frac{1.0}{e^{- b - 3 m} + 1.0} \\right)}}{6}$"
          },
          "metadata": {},
          "execution_count": 389
        }
      ]
    },
    {
      "cell_type": "code",
      "source": [
        "compute_cost_loop(x_train4, y_train4, sym.Matrix([1, 1]), -3)"
      ],
      "metadata": {
        "colab": {
          "base_uri": "https://localhost:8080/",
          "height": 37
        },
        "id": "UaopxP2Uc0lA",
        "outputId": "041edebe-ce8a-4ecc-c9e3-8d019c02bd19"
      },
      "execution_count": 263,
      "outputs": [
        {
          "output_type": "execute_result",
          "data": {
            "text/plain": [
              "0.366866786405517"
            ],
            "text/latex": "$\\displaystyle 0.366866786405517$"
          },
          "metadata": {},
          "execution_count": 263
        }
      ]
    },
    {
      "cell_type": "code",
      "source": [
        "compute_cost(x_train4, y_train4, sym.Matrix([1, 1]), -3)"
      ],
      "metadata": {
        "colab": {
          "base_uri": "https://localhost:8080/",
          "height": 37
        },
        "id": "g4UwPkpjoALW",
        "outputId": "4ec29487-d5bd-4599-abc7-96fbea2b1e4d"
      },
      "execution_count": 392,
      "outputs": [
        {
          "output_type": "execute_result",
          "data": {
            "text/plain": [
              "0.366866786405517"
            ],
            "text/latex": "$\\displaystyle 0.366866786405517$"
          },
          "metadata": {},
          "execution_count": 392
        }
      ]
    },
    {
      "cell_type": "code",
      "source": [
        "compute_cost_loop(x_train4, y_train4, sym.Matrix([1, 1]), -4)"
      ],
      "metadata": {
        "colab": {
          "base_uri": "https://localhost:8080/",
          "height": 37
        },
        "id": "FkMhj_w2cO-U",
        "outputId": "4e1a4525-1b67-481a-f337-b9bc6d2e270c"
      },
      "execution_count": 264,
      "outputs": [
        {
          "output_type": "execute_result",
          "data": {
            "text/plain": [
              "0.503680863674846"
            ],
            "text/latex": "$\\displaystyle 0.503680863674846$"
          },
          "metadata": {},
          "execution_count": 264
        }
      ]
    },
    {
      "cell_type": "code",
      "source": [
        "compute_cost(x_train4, y_train4, sym.Matrix([1, 1]), -4)"
      ],
      "metadata": {
        "colab": {
          "base_uri": "https://localhost:8080/",
          "height": 37
        },
        "id": "EoPBeCyUoNNe",
        "outputId": "21800f90-e1fb-4b00-93d5-085a1069e3b9"
      },
      "execution_count": 393,
      "outputs": [
        {
          "output_type": "execute_result",
          "data": {
            "text/plain": [
              "0.503680863674846"
            ],
            "text/latex": "$\\displaystyle 0.503680863674846$"
          },
          "metadata": {},
          "execution_count": 393
        }
      ]
    },
    {
      "cell_type": "markdown",
      "source": [
        "## The Gradient\n",
        "\n",
        "$$\n",
        "\\begin{align}\n",
        "\\frac{\\partial}{\\partial w_j} &= \\frac{1}{m}\\sum_{i=1}^{m}\\left(f_{\\vec{w},b}\\left(\\vec{x}^{(i)}\\right) - y^{(i)}\\right)x_j^{(i)} \\\\\n",
        "\\frac{\\partial}{\\partial b} &= \\frac{1}{m}\\sum_{i=1}^{m}\\left(f_{\\vec{w},b}\\left(\\vec{x}^{(i)}\\right) - y^{(i)}\\right)\n",
        "\\end{align}\n",
        "$$"
      ],
      "metadata": {
        "id": "UlRVdZaIo43K"
      }
    },
    {
      "cell_type": "code",
      "source": [
        "def compute_gradient_loop(X, y, w, b):\n",
        "    pass"
      ],
      "metadata": {
        "id": "Kw3WQOKQp1Xj"
      },
      "execution_count": 394,
      "outputs": []
    },
    {
      "cell_type": "markdown",
      "source": [
        "https://colab.research.google.com/drive/1WfW2UehNdCORcvo9r2OYPGcOlDOQ38MQ"
      ],
      "metadata": {
        "id": "zJ3Y5mipqHyj"
      }
    }
  ]
}