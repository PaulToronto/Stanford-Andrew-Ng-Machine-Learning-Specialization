{
  "nbformat": 4,
  "nbformat_minor": 0,
  "metadata": {
    "colab": {
      "provenance": [],
      "authorship_tag": "ABX9TyOJuHpjYGdav8SimDkINuPq",
      "include_colab_link": true
    },
    "kernelspec": {
      "name": "python3",
      "display_name": "Python 3"
    },
    "language_info": {
      "name": "python"
    }
  },
  "cells": [
    {
      "cell_type": "markdown",
      "metadata": {
        "id": "view-in-github",
        "colab_type": "text"
      },
      "source": [
        "<a href=\"https://colab.research.google.com/github/PaulToronto/Stanford-Andrew-Ng-Machine-Learning-Specialization/blob/main/Overflow_safe_algorithm.ipynb\" target=\"_parent\"><img src=\"https://colab.research.google.com/assets/colab-badge.svg\" alt=\"Open In Colab\"/></a>"
      ]
    },
    {
      "cell_type": "markdown",
      "source": [
        "# Overflow safe algorithm"
      ],
      "metadata": {
        "id": "UPCIn05njbQo"
      }
    },
    {
      "cell_type": "markdown",
      "source": [
        "## Imports"
      ],
      "metadata": {
        "id": "g59jnrNZjeoG"
      }
    },
    {
      "cell_type": "code",
      "execution_count": 1,
      "metadata": {
        "id": "W2_z8lNNiiD9"
      },
      "outputs": [],
      "source": [
        "import numpy as np"
      ]
    },
    {
      "cell_type": "markdown",
      "source": [
        "## Functions"
      ],
      "metadata": {
        "id": "Tffz-5kAknit"
      }
    },
    {
      "cell_type": "code",
      "source": [
        "def sigmoid(z):\n",
        "    \"\"\"\n",
        "    Compute the sigmoid of z\n",
        "\n",
        "    Parameters\n",
        "    ----------\n",
        "    z : array_like\n",
        "        A scalar or numpy array of any size.\n",
        "\n",
        "    Returns\n",
        "    -------\n",
        "     g : array_like\n",
        "         sigmoid(z)\n",
        "    \"\"\"\n",
        "    z = np.clip( z, -500, 500 )           # protect against overflow\n",
        "    g = 1.0/(1.0+np.exp(-z))\n",
        "\n",
        "    return g"
      ],
      "metadata": {
        "id": "ISjsj_D5kmyC"
      },
      "execution_count": 2,
      "outputs": []
    },
    {
      "cell_type": "code",
      "source": [
        "def log_1pexp(x, maximum=20):\n",
        "    ''' approximate log(1+exp^x)\n",
        "        https://stats.stackexchange.com/questions/475589/numerical-computation-of-cross-entropy-in-practice\n",
        "    Args:\n",
        "    x   : (ndarray Shape (n,1) or (n,)  input\n",
        "    out : (ndarray Shape matches x      output ~= np.log(1+exp(x))\n",
        "    '''\n",
        "\n",
        "    out  = np.zeros_like(x,dtype=float)\n",
        "    i    = x <= maximum\n",
        "    ni   = np.logical_not(i)\n",
        "\n",
        "    out[i]  = np.log(1 + np.exp(x[i]))\n",
        "    out[ni] = x[ni]\n",
        "    return out"
      ],
      "metadata": {
        "id": "U-GQgwAsnJd3"
      },
      "execution_count": 3,
      "outputs": []
    },
    {
      "cell_type": "markdown",
      "source": [
        "## Compare algorithms"
      ],
      "metadata": {
        "id": "hdbrVc_-jhWf"
      }
    },
    {
      "cell_type": "markdown",
      "source": [
        "### Data"
      ],
      "metadata": {
        "id": "rQqqaVCxmaHT"
      }
    },
    {
      "cell_type": "code",
      "source": [
        "X = np.random.rand(6, 2)\n",
        "y = np.array([0, 0, 0, 1, 1, 1]).reshape(-1, 1)\n",
        "X, y"
      ],
      "metadata": {
        "colab": {
          "base_uri": "https://localhost:8080/"
        },
        "id": "IzFWvYBBjm5h",
        "outputId": "0b363cc5-28b8-46da-8dd6-84483c07f795"
      },
      "execution_count": 4,
      "outputs": [
        {
          "output_type": "execute_result",
          "data": {
            "text/plain": [
              "(array([[0.53220283, 0.40790202],\n",
              "        [0.88045336, 0.21175131],\n",
              "        [0.90223389, 0.1655283 ],\n",
              "        [0.80432846, 0.90127959],\n",
              "        [0.83611376, 0.79212886],\n",
              "        [0.01755092, 0.66547262]]),\n",
              " array([[0],\n",
              "        [0],\n",
              "        [0],\n",
              "        [1],\n",
              "        [1],\n",
              "        [1]]))"
            ]
          },
          "metadata": {},
          "execution_count": 4
        }
      ]
    },
    {
      "cell_type": "code",
      "source": [
        "w = np.random.rand(2, 1)\n",
        "b = np.random.rand(1)[0]\n",
        "w, b"
      ],
      "metadata": {
        "colab": {
          "base_uri": "https://localhost:8080/"
        },
        "id": "ep4vm9msojk9",
        "outputId": "7bc4192e-87ca-4082-b4e7-fea8e63fa79b"
      },
      "execution_count": 5,
      "outputs": [
        {
          "output_type": "execute_result",
          "data": {
            "text/plain": [
              "(array([[0.50594551],\n",
              "        [0.40416586]]),\n",
              " 0.5507352038138403)"
            ]
          },
          "metadata": {},
          "execution_count": 5
        }
      ]
    },
    {
      "cell_type": "markdown",
      "source": [
        "### Safe vs. Unsafe"
      ],
      "metadata": {
        "id": "oBvL4uqVnsEb"
      }
    },
    {
      "cell_type": "code",
      "source": [
        "def safe_cost(X, y, w, b):\n",
        "    m = X.shape[0]\n",
        "    z = X @ w + b\n",
        "    cost = -(y * z) + log_1pexp(z)\n",
        "    cost = np.sum(cost) / m\n",
        "    return cost"
      ],
      "metadata": {
        "id": "_d37dZtvkesd"
      },
      "execution_count": 6,
      "outputs": []
    },
    {
      "cell_type": "code",
      "source": [
        "def unsafe_cost(X, y, w, b):\n",
        "    m = X.shape[0]\n",
        "    f = sigmoid(X @ w + b)\n",
        "    cost = (1 / m) * (np.dot(-y.T, np.log(f)) - np.dot((1-y).T, np.log(1-f)))\n",
        "    cost = cost[0,0]\n",
        "    return cost"
      ],
      "metadata": {
        "id": "KiTp9oiwnoOk"
      },
      "execution_count": 7,
      "outputs": []
    },
    {
      "cell_type": "code",
      "source": [
        "safe_cost(X, y, w, b) - unsafe_cost(X, y, w, b)"
      ],
      "metadata": {
        "colab": {
          "base_uri": "https://localhost:8080/"
        },
        "id": "PPFbACrqoR8Q",
        "outputId": "3881ecc8-4ac8-4b5c-c752-1a14377af9c2"
      },
      "execution_count": 8,
      "outputs": [
        {
          "output_type": "execute_result",
          "data": {
            "text/plain": [
              "2.220446049250313e-16"
            ]
          },
          "metadata": {},
          "execution_count": 8
        }
      ]
    },
    {
      "cell_type": "code",
      "source": [
        "collect_all = []\n",
        "for i in range(100):\n",
        "    X = np.random.rand(6, 2)\n",
        "    y = np.random.randint(0, 2, 6).reshape(-1, 1)\n",
        "    w = np.random.rand(2, 1)\n",
        "    b = np.random.rand(1)[0]\n",
        "    difference = safe_cost(X, y, w, b) - unsafe_cost(X, y, w, b)\n",
        "    collect_all.append(difference)"
      ],
      "metadata": {
        "id": "E0_zQ1uIp8k3"
      },
      "execution_count": 9,
      "outputs": []
    },
    {
      "cell_type": "code",
      "source": [
        "collect_all"
      ],
      "metadata": {
        "colab": {
          "base_uri": "https://localhost:8080/"
        },
        "id": "iTBQvLA-rOIR",
        "outputId": "a1516e5b-1cbf-4e0b-93cf-584b1d37854c"
      },
      "execution_count": 10,
      "outputs": [
        {
          "output_type": "execute_result",
          "data": {
            "text/plain": [
              "[1.1102230246251565e-16,\n",
              " 2.220446049250313e-16,\n",
              " 0.0,\n",
              " 0.0,\n",
              " 0.0,\n",
              " 5.551115123125783e-17,\n",
              " 2.220446049250313e-16,\n",
              " 0.0,\n",
              " 2.220446049250313e-16,\n",
              " 0.0,\n",
              " -1.1102230246251565e-16,\n",
              " 0.0,\n",
              " 0.0,\n",
              " -2.220446049250313e-16,\n",
              " 0.0,\n",
              " 1.1102230246251565e-16,\n",
              " 0.0,\n",
              " -1.1102230246251565e-16,\n",
              " 0.0,\n",
              " -1.1102230246251565e-16,\n",
              " 5.551115123125783e-17,\n",
              " 0.0,\n",
              " 1.1102230246251565e-16,\n",
              " -2.220446049250313e-16,\n",
              " 0.0,\n",
              " 0.0,\n",
              " -5.551115123125783e-17,\n",
              " 0.0,\n",
              " 0.0,\n",
              " -2.220446049250313e-16,\n",
              " 0.0,\n",
              " 2.220446049250313e-16,\n",
              " 0.0,\n",
              " 1.1102230246251565e-16,\n",
              " 0.0,\n",
              " 0.0,\n",
              " 1.1102230246251565e-16,\n",
              " 2.220446049250313e-16,\n",
              " 5.551115123125783e-17,\n",
              " 3.3306690738754696e-16,\n",
              " -1.1102230246251565e-16,\n",
              " 0.0,\n",
              " 0.0,\n",
              " 0.0,\n",
              " -1.1102230246251565e-16,\n",
              " 0.0,\n",
              " -2.220446049250313e-16,\n",
              " -2.220446049250313e-16,\n",
              " 4.440892098500626e-16,\n",
              " -1.1102230246251565e-16,\n",
              " 2.220446049250313e-16,\n",
              " 0.0,\n",
              " 3.3306690738754696e-16,\n",
              " 2.220446049250313e-16,\n",
              " 2.220446049250313e-16,\n",
              " -1.1102230246251565e-16,\n",
              " 4.440892098500626e-16,\n",
              " 0.0,\n",
              " 0.0,\n",
              " 0.0,\n",
              " 1.1102230246251565e-16,\n",
              " 1.1102230246251565e-16,\n",
              " -1.1102230246251565e-16,\n",
              " 0.0,\n",
              " 0.0,\n",
              " -1.1102230246251565e-16,\n",
              " 0.0,\n",
              " 2.220446049250313e-16,\n",
              " 1.1102230246251565e-16,\n",
              " 0.0,\n",
              " 0.0,\n",
              " 0.0,\n",
              " 0.0,\n",
              " 0.0,\n",
              " 2.220446049250313e-16,\n",
              " 2.220446049250313e-16,\n",
              " 2.220446049250313e-16,\n",
              " 0.0,\n",
              " 0.0,\n",
              " 2.220446049250313e-16,\n",
              " -1.1102230246251565e-16,\n",
              " 0.0,\n",
              " 2.220446049250313e-16,\n",
              " 0.0,\n",
              " -1.1102230246251565e-16,\n",
              " -1.1102230246251565e-16,\n",
              " 0.0,\n",
              " 0.0,\n",
              " 1.1102230246251565e-16,\n",
              " 2.220446049250313e-16,\n",
              " 1.1102230246251565e-16,\n",
              " 1.1102230246251565e-16,\n",
              " 0.0,\n",
              " 0.0,\n",
              " 1.1102230246251565e-16,\n",
              " -1.1102230246251565e-16,\n",
              " -3.3306690738754696e-16,\n",
              " 0.0,\n",
              " 0.0,\n",
              " 2.7755575615628914e-16]"
            ]
          },
          "metadata": {},
          "execution_count": 10
        }
      ]
    },
    {
      "cell_type": "code",
      "source": [
        "sum(collect_all)"
      ],
      "metadata": {
        "colab": {
          "base_uri": "https://localhost:8080/"
        },
        "id": "vSq3m8zlqIKD",
        "outputId": "d0f52a8e-1c5e-40fc-90bc-1c2a82271691"
      },
      "execution_count": 11,
      "outputs": [
        {
          "output_type": "execute_result",
          "data": {
            "text/plain": [
              "3.7192471324942744e-15"
            ]
          },
          "metadata": {},
          "execution_count": 11
        }
      ]
    }
  ]
}