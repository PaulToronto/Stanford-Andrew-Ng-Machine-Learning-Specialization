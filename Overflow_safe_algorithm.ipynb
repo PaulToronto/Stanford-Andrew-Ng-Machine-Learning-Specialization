{
  "nbformat": 4,
  "nbformat_minor": 0,
  "metadata": {
    "colab": {
      "provenance": [],
      "toc_visible": true,
      "authorship_tag": "ABX9TyMNzwpnNwav23mKHm4+kSay",
      "include_colab_link": true
    },
    "kernelspec": {
      "name": "python3",
      "display_name": "Python 3"
    },
    "language_info": {
      "name": "python"
    }
  },
  "cells": [
    {
      "cell_type": "markdown",
      "metadata": {
        "id": "view-in-github",
        "colab_type": "text"
      },
      "source": [
        "<a href=\"https://colab.research.google.com/github/PaulToronto/Stanford-Andrew-Ng-Machine-Learning-Specialization/blob/main/Overflow_safe_algorithm.ipynb\" target=\"_parent\"><img src=\"https://colab.research.google.com/assets/colab-badge.svg\" alt=\"Open In Colab\"/></a>"
      ]
    },
    {
      "cell_type": "markdown",
      "source": [
        "# Overflow safe algorithm"
      ],
      "metadata": {
        "id": "UPCIn05njbQo"
      }
    },
    {
      "cell_type": "markdown",
      "source": [
        "## Imports"
      ],
      "metadata": {
        "id": "g59jnrNZjeoG"
      }
    },
    {
      "cell_type": "code",
      "execution_count": 1,
      "metadata": {
        "id": "W2_z8lNNiiD9"
      },
      "outputs": [],
      "source": [
        "import numpy as np\n",
        "import sympy as sym"
      ]
    },
    {
      "cell_type": "markdown",
      "source": [
        "## Functions"
      ],
      "metadata": {
        "id": "Tffz-5kAknit"
      }
    },
    {
      "cell_type": "code",
      "source": [
        "def sigmoid(z):\n",
        "    \"\"\"\n",
        "    Compute the sigmoid of z\n",
        "\n",
        "    Parameters\n",
        "    ----------\n",
        "    z : array_like\n",
        "        A scalar or numpy array of any size.\n",
        "\n",
        "    Returns\n",
        "    -------\n",
        "     g : array_like\n",
        "         sigmoid(z)\n",
        "    \"\"\"\n",
        "    z = np.clip( z, -500, 500 )           # protect against overflow\n",
        "    g = 1.0/(1.0+np.exp(-z))\n",
        "\n",
        "    return g"
      ],
      "metadata": {
        "id": "ISjsj_D5kmyC"
      },
      "execution_count": 2,
      "outputs": []
    },
    {
      "cell_type": "code",
      "source": [
        "def sigmoid_sym(z, clip=False):\n",
        "    \"\"\"\n",
        "    Compute the sigmoid of z\n",
        "\n",
        "    Parameters\n",
        "    ----------\n",
        "    z : array_like\n",
        "        A scalar or numpy array of any size.\n",
        "\n",
        "    Returns\n",
        "    -------\n",
        "     g : array_like\n",
        "         sigmoid(z)\n",
        "    \"\"\"\n",
        "    if clip:\n",
        "        z = np.clip( z, -500, 500 )           # protect against overflow\n",
        "    g = 1.0 / (1.0 + sym.exp(-z))\n",
        "\n",
        "    return g"
      ],
      "metadata": {
        "id": "uPUhrecvslTq"
      },
      "execution_count": 3,
      "outputs": []
    },
    {
      "cell_type": "code",
      "source": [
        "def log_1pexp(x, maximum=20):\n",
        "    ''' approximate log(1+exp^x)\n",
        "        https://stats.stackexchange.com/questions/475589/numerical-computation-of-cross-entropy-in-practice\n",
        "    Args:\n",
        "    x   : (ndarray Shape (n,1) or (n,)  input\n",
        "    out : (ndarray Shape matches x      output ~= np.log(1+exp(x))\n",
        "    '''\n",
        "\n",
        "    out  = np.zeros_like(x,dtype=float)\n",
        "    i    = x <= maximum\n",
        "    ni   = np.logical_not(i)\n",
        "\n",
        "    out[i]  = np.log(1 + np.exp(x[i]))\n",
        "    out[ni] = x[ni]\n",
        "    return out"
      ],
      "metadata": {
        "id": "U-GQgwAsnJd3"
      },
      "execution_count": 4,
      "outputs": []
    },
    {
      "cell_type": "code",
      "source": [
        "def log_1pexp_sym(x, maximum=20):\n",
        "    ''' approximate log(1+exp^x)\n",
        "        https://stats.stackexchange.com/questions/475589/numerical-computation-of-cross-entropy-in-practice\n",
        "    Args:\n",
        "    x   : (ndarray Shape (n,1) or (n,)  input\n",
        "    out : (ndarray Shape matches x      output ~= np.log(1+exp(x))\n",
        "    '''\n",
        "\n",
        "    x = np.array(x, dtype='float64') # because it is a sympy Matrix\n",
        "\n",
        "    out  = np.zeros_like(x,dtype=float)\n",
        "    i    = x <= maximum\n",
        "    ni   = np.logical_not(i)\n",
        "\n",
        "    out[i]  = np.log(1 + np.exp(x[i]))\n",
        "    out[ni] = x[ni]\n",
        "    out = sym.Matrix(out)\n",
        "    return out"
      ],
      "metadata": {
        "id": "i1kc-EBos22l"
      },
      "execution_count": 5,
      "outputs": []
    },
    {
      "cell_type": "markdown",
      "source": [
        "## Compare algorithms"
      ],
      "metadata": {
        "id": "hdbrVc_-jhWf"
      }
    },
    {
      "cell_type": "markdown",
      "source": [
        "### Data"
      ],
      "metadata": {
        "id": "rQqqaVCxmaHT"
      }
    },
    {
      "cell_type": "code",
      "source": [
        "X = np.random.rand(6, 2)\n",
        "y = np.array([0, 0, 0, 1, 1, 1]).reshape(-1, 1)\n",
        "X, y"
      ],
      "metadata": {
        "colab": {
          "base_uri": "https://localhost:8080/"
        },
        "id": "IzFWvYBBjm5h",
        "outputId": "6660f811-aa50-48e4-a208-ac922fb81eb7"
      },
      "execution_count": 6,
      "outputs": [
        {
          "output_type": "execute_result",
          "data": {
            "text/plain": [
              "(array([[0.33653749, 0.07470506],\n",
              "        [0.61771772, 0.46684572],\n",
              "        [0.61398487, 0.77887118],\n",
              "        [0.86671224, 0.91201079],\n",
              "        [0.35166004, 0.13244731],\n",
              "        [0.82014093, 0.21847606]]),\n",
              " array([[0],\n",
              "        [0],\n",
              "        [0],\n",
              "        [1],\n",
              "        [1],\n",
              "        [1]]))"
            ]
          },
          "metadata": {},
          "execution_count": 6
        }
      ]
    },
    {
      "cell_type": "code",
      "source": [
        "X_sym = sym.Matrix(X)\n",
        "y_sym = sym.Matrix(y)\n",
        "display(X_sym)\n",
        "display(y_sym)"
      ],
      "metadata": {
        "colab": {
          "base_uri": "https://localhost:8080/",
          "height": 261
        },
        "id": "tXgHjT99uZlH",
        "outputId": "a677c91a-6925-4f11-d238-99e93429fc38"
      },
      "execution_count": 7,
      "outputs": [
        {
          "output_type": "display_data",
          "data": {
            "text/plain": [
              "Matrix([\n",
              "[0.336537489337893, 0.0747050566389048],\n",
              "[0.617717723272549,  0.466845721010295],\n",
              "[0.613984865025102,  0.778871177187558],\n",
              "[0.866712235656763,  0.912010792871987],\n",
              "[0.351660040892619,  0.132447309503545],\n",
              "[0.820140934292399,  0.218476058604594]])"
            ],
            "text/latex": "$\\displaystyle \\left[\\begin{matrix}0.336537489337893 & 0.0747050566389048\\\\0.617717723272549 & 0.466845721010295\\\\0.613984865025102 & 0.778871177187558\\\\0.866712235656763 & 0.912010792871987\\\\0.351660040892619 & 0.132447309503545\\\\0.820140934292399 & 0.218476058604594\\end{matrix}\\right]$"
          },
          "metadata": {}
        },
        {
          "output_type": "display_data",
          "data": {
            "text/plain": [
              "Matrix([\n",
              "[0],\n",
              "[0],\n",
              "[0],\n",
              "[1],\n",
              "[1],\n",
              "[1]])"
            ],
            "text/latex": "$\\displaystyle \\left[\\begin{matrix}0\\\\0\\\\0\\\\1\\\\1\\\\1\\end{matrix}\\right]$"
          },
          "metadata": {}
        }
      ]
    },
    {
      "cell_type": "code",
      "source": [
        "w = np.random.rand(2, 1)\n",
        "b = np.random.rand(1)[0]\n",
        "w, b"
      ],
      "metadata": {
        "colab": {
          "base_uri": "https://localhost:8080/"
        },
        "id": "ep4vm9msojk9",
        "outputId": "ed7680f6-6efb-4f15-a642-1f46f2d406ae"
      },
      "execution_count": 8,
      "outputs": [
        {
          "output_type": "execute_result",
          "data": {
            "text/plain": [
              "(array([[0.63988059],\n",
              "        [0.94059587]]),\n",
              " 0.09001311477024132)"
            ]
          },
          "metadata": {},
          "execution_count": 8
        }
      ]
    },
    {
      "cell_type": "code",
      "source": [
        "w_sym = sym.Matrix(w)\n",
        "b_sym = sym.Matrix([b])[0]"
      ],
      "metadata": {
        "id": "_AILqzcAum3I"
      },
      "execution_count": 9,
      "outputs": []
    },
    {
      "cell_type": "markdown",
      "source": [
        "### Safe vs. Unsafe"
      ],
      "metadata": {
        "id": "oBvL4uqVnsEb"
      }
    },
    {
      "cell_type": "code",
      "source": [
        "def safe_cost(X, y, w, b):\n",
        "    m = X.shape[0]\n",
        "    z = X @ w + b\n",
        "    cost = -(y * z) + log_1pexp(z)\n",
        "    cost = np.sum(cost) / m\n",
        "    return cost"
      ],
      "metadata": {
        "id": "_d37dZtvkesd"
      },
      "execution_count": 10,
      "outputs": []
    },
    {
      "cell_type": "code",
      "source": [
        "def safe_cost_sym(X, y, w, b):\n",
        "    X = np.array(X, dtype='float64')\n",
        "    y = np.array(y, dtype='float64')\n",
        "    w = np.array(w, dtype='float64')\n",
        "    b = np.array(b, dtype='float64')\n",
        "    cost = safe_cost(X, y, w, b)\n",
        "    return cost"
      ],
      "metadata": {
        "id": "EKFhCMQX1URb"
      },
      "execution_count": 11,
      "outputs": []
    },
    {
      "cell_type": "code",
      "source": [
        "def unsafe_cost(X, y, w, b):\n",
        "    m = X.shape[0]\n",
        "    f = sigmoid(X @ w + b)\n",
        "    cost = (1 / m) * (np.dot(-y.T, np.log(f)) - np.dot((1-y).T, np.log(1-f)))\n",
        "    cost = cost[0,0]\n",
        "    return cost"
      ],
      "metadata": {
        "id": "KiTp9oiwnoOk"
      },
      "execution_count": 12,
      "outputs": []
    },
    {
      "cell_type": "code",
      "source": [
        "def unsafe_cost_sym(X, y, w, b):\n",
        "    X = np.array(X, dtype='float64')\n",
        "    y = np.array(y, dtype='float64')\n",
        "    w = np.array(w, dtype='float64')\n",
        "    b = np.array(b, dtype='float64')\n",
        "    cost = unsafe_cost(X, y, w, b)\n",
        "    return cost"
      ],
      "metadata": {
        "id": "9d21Hk4Y5YfK"
      },
      "execution_count": 13,
      "outputs": []
    },
    {
      "cell_type": "code",
      "source": [
        "safe_cost(X, y, w, b) - unsafe_cost(X, y, w, b)"
      ],
      "metadata": {
        "colab": {
          "base_uri": "https://localhost:8080/"
        },
        "id": "PPFbACrqoR8Q",
        "outputId": "a948f129-ede1-4ee1-89af-f5bed288b92d"
      },
      "execution_count": 14,
      "outputs": [
        {
          "output_type": "execute_result",
          "data": {
            "text/plain": [
              "-1.1102230246251565e-16"
            ]
          },
          "metadata": {},
          "execution_count": 14
        }
      ]
    },
    {
      "cell_type": "code",
      "source": [
        "safe_cost_sym(X_sym, y_sym, w_sym, b_sym) - unsafe_cost_sym(X_sym, y_sym, w_sym, b_sym)"
      ],
      "metadata": {
        "colab": {
          "base_uri": "https://localhost:8080/"
        },
        "id": "cQpJElx35tGG",
        "outputId": "8f9d084e-1fd6-401c-a9c3-64a7f24eaab3"
      },
      "execution_count": 15,
      "outputs": [
        {
          "output_type": "execute_result",
          "data": {
            "text/plain": [
              "-1.1102230246251565e-16"
            ]
          },
          "metadata": {},
          "execution_count": 15
        }
      ]
    },
    {
      "cell_type": "code",
      "source": [
        "collect_all = []\n",
        "for i in range(100):\n",
        "    X = np.random.rand(6, 2)\n",
        "    y = np.random.randint(0, 2, 6).reshape(-1, 1)\n",
        "    w = np.random.rand(2, 1)\n",
        "    b = np.random.rand(1)[0]\n",
        "    difference = safe_cost(X, y, w, b) - unsafe_cost(X, y, w, b)\n",
        "    collect_all.append(difference)"
      ],
      "metadata": {
        "id": "E0_zQ1uIp8k3"
      },
      "execution_count": 16,
      "outputs": []
    },
    {
      "cell_type": "code",
      "source": [
        "collect_all"
      ],
      "metadata": {
        "colab": {
          "base_uri": "https://localhost:8080/"
        },
        "id": "iTBQvLA-rOIR",
        "outputId": "15a03d01-8fd3-44d5-e40f-b31390244c8f"
      },
      "execution_count": 17,
      "outputs": [
        {
          "output_type": "execute_result",
          "data": {
            "text/plain": [
              "[-1.1102230246251565e-16,\n",
              " 0.0,\n",
              " -1.1102230246251565e-16,\n",
              " 1.1102230246251565e-16,\n",
              " -1.1102230246251565e-16,\n",
              " 0.0,\n",
              " 0.0,\n",
              " 1.1102230246251565e-16,\n",
              " 2.220446049250313e-16,\n",
              " 2.220446049250313e-16,\n",
              " 0.0,\n",
              " 1.1102230246251565e-16,\n",
              " 1.1102230246251565e-16,\n",
              " 2.220446049250313e-16,\n",
              " 0.0,\n",
              " 2.220446049250313e-16,\n",
              " 1.1102230246251565e-16,\n",
              " -1.1102230246251565e-16,\n",
              " 0.0,\n",
              " 1.1102230246251565e-16,\n",
              " 2.220446049250313e-16,\n",
              " 0.0,\n",
              " 1.1102230246251565e-16,\n",
              " 1.1102230246251565e-16,\n",
              " 1.1102230246251565e-16,\n",
              " 2.220446049250313e-16,\n",
              " 0.0,\n",
              " 2.220446049250313e-16,\n",
              " 0.0,\n",
              " 1.1102230246251565e-16,\n",
              " 0.0,\n",
              " 1.1102230246251565e-16,\n",
              " 0.0,\n",
              " 0.0,\n",
              " 0.0,\n",
              " 2.220446049250313e-16,\n",
              " 1.1102230246251565e-16,\n",
              " 1.1102230246251565e-16,\n",
              " 0.0,\n",
              " 0.0,\n",
              " 0.0,\n",
              " 0.0,\n",
              " -2.220446049250313e-16,\n",
              " -1.1102230246251565e-16,\n",
              " 0.0,\n",
              " 0.0,\n",
              " 0.0,\n",
              " 2.220446049250313e-16,\n",
              " -1.1102230246251565e-16,\n",
              " 0.0,\n",
              " 1.1102230246251565e-16,\n",
              " 1.1102230246251565e-16,\n",
              " 2.220446049250313e-16,\n",
              " -1.1102230246251565e-16,\n",
              " 0.0,\n",
              " 0.0,\n",
              " 1.1102230246251565e-16,\n",
              " 0.0,\n",
              " -1.1102230246251565e-16,\n",
              " -1.1102230246251565e-16,\n",
              " 0.0,\n",
              " -1.1102230246251565e-16,\n",
              " -1.1102230246251565e-16,\n",
              " 2.220446049250313e-16,\n",
              " 0.0,\n",
              " 2.220446049250313e-16,\n",
              " 0.0,\n",
              " 1.1102230246251565e-16,\n",
              " 0.0,\n",
              " 2.220446049250313e-16,\n",
              " -1.1102230246251565e-16,\n",
              " -2.220446049250313e-16,\n",
              " -3.3306690738754696e-16,\n",
              " 1.1102230246251565e-16,\n",
              " 2.220446049250313e-16,\n",
              " -2.220446049250313e-16,\n",
              " 0.0,\n",
              " -1.1102230246251565e-16,\n",
              " 0.0,\n",
              " 0.0,\n",
              " 0.0,\n",
              " 1.1102230246251565e-16,\n",
              " 1.1102230246251565e-16,\n",
              " 0.0,\n",
              " 0.0,\n",
              " 0.0,\n",
              " 2.220446049250313e-16,\n",
              " 1.1102230246251565e-16,\n",
              " 0.0,\n",
              " 1.1102230246251565e-16,\n",
              " 0.0,\n",
              " 0.0,\n",
              " 0.0,\n",
              " 0.0,\n",
              " 0.0,\n",
              " 1.1102230246251565e-16,\n",
              " -1.1102230246251565e-16,\n",
              " 0.0,\n",
              " -1.1102230246251565e-16,\n",
              " 1.1102230246251565e-16]"
            ]
          },
          "metadata": {},
          "execution_count": 17
        }
      ]
    },
    {
      "cell_type": "code",
      "source": [
        "sum(collect_all)"
      ],
      "metadata": {
        "colab": {
          "base_uri": "https://localhost:8080/"
        },
        "id": "vSq3m8zlqIKD",
        "outputId": "ba1dcdf6-54e4-4c44-8361-d05618f79239"
      },
      "execution_count": 18,
      "outputs": [
        {
          "output_type": "execute_result",
          "data": {
            "text/plain": [
              "3.3306690738754696e-15"
            ]
          },
          "metadata": {},
          "execution_count": 18
        }
      ]
    },
    {
      "cell_type": "code",
      "source": [
        "collect_all = []\n",
        "for i in range(100):\n",
        "    X = sym.Matrix(np.random.rand(6, 2), dtype='float64')\n",
        "    y = sym.Matrix(np.random.randint(0, 2, 6).reshape(-1, 1), dtype='float64')\n",
        "    w = sym.Matrix(np.random.rand(2, 1), dtype='float64')\n",
        "    b = np.random.rand(1)[0]\n",
        "    difference = safe_cost_sym(X, y, w, b) - unsafe_cost_sym(X, y, w, b)\n",
        "    collect_all.append(difference)"
      ],
      "metadata": {
        "id": "6mLmVUN0sdrZ"
      },
      "execution_count": 19,
      "outputs": []
    },
    {
      "cell_type": "code",
      "source": [
        "collect_all"
      ],
      "metadata": {
        "colab": {
          "base_uri": "https://localhost:8080/"
        },
        "id": "NqR_S80H77Fu",
        "outputId": "5bf8394b-2bfc-4e8c-a7df-bf00129c0398"
      },
      "execution_count": 20,
      "outputs": [
        {
          "output_type": "execute_result",
          "data": {
            "text/plain": [
              "[-1.1102230246251565e-16,\n",
              " 1.1102230246251565e-16,\n",
              " 0.0,\n",
              " 0.0,\n",
              " 0.0,\n",
              " 0.0,\n",
              " 1.1102230246251565e-16,\n",
              " 1.1102230246251565e-16,\n",
              " 1.1102230246251565e-16,\n",
              " 3.3306690738754696e-16,\n",
              " 5.551115123125783e-17,\n",
              " 1.1102230246251565e-16,\n",
              " 2.220446049250313e-16,\n",
              " 2.220446049250313e-16,\n",
              " 2.220446049250313e-16,\n",
              " -1.1102230246251565e-16,\n",
              " 2.220446049250313e-16,\n",
              " -1.1102230246251565e-16,\n",
              " 2.220446049250313e-16,\n",
              " 0.0,\n",
              " 0.0,\n",
              " 0.0,\n",
              " 0.0,\n",
              " -1.1102230246251565e-16,\n",
              " -1.1102230246251565e-16,\n",
              " -1.1102230246251565e-16,\n",
              " 1.1102230246251565e-16,\n",
              " 2.220446049250313e-16,\n",
              " -5.551115123125783e-17,\n",
              " 0.0,\n",
              " 2.220446049250313e-16,\n",
              " 0.0,\n",
              " 1.1102230246251565e-16,\n",
              " 0.0,\n",
              " 2.220446049250313e-16,\n",
              " 0.0,\n",
              " 1.1102230246251565e-16,\n",
              " -1.1102230246251565e-16,\n",
              " 0.0,\n",
              " 0.0,\n",
              " 0.0,\n",
              " 2.220446049250313e-16,\n",
              " 0.0,\n",
              " -1.1102230246251565e-16,\n",
              " 1.1102230246251565e-16,\n",
              " -1.1102230246251565e-16,\n",
              " 2.220446049250313e-16,\n",
              " 4.440892098500626e-16,\n",
              " 1.1102230246251565e-16,\n",
              " 2.220446049250313e-16,\n",
              " 0.0,\n",
              " 0.0,\n",
              " 1.1102230246251565e-16,\n",
              " 1.1102230246251565e-16,\n",
              " 2.220446049250313e-16,\n",
              " 0.0,\n",
              " 1.1102230246251565e-16,\n",
              " -3.3306690738754696e-16,\n",
              " 1.1102230246251565e-16,\n",
              " 2.220446049250313e-16,\n",
              " -1.1102230246251565e-16,\n",
              " 2.220446049250313e-16,\n",
              " 0.0,\n",
              " -1.1102230246251565e-16,\n",
              " 0.0,\n",
              " 2.220446049250313e-16,\n",
              " 0.0,\n",
              " 0.0,\n",
              " 0.0,\n",
              " -1.1102230246251565e-16,\n",
              " 1.1102230246251565e-16,\n",
              " 1.1102230246251565e-16,\n",
              " 0.0,\n",
              " 0.0,\n",
              " 2.220446049250313e-16,\n",
              " 1.1102230246251565e-16,\n",
              " 2.220446049250313e-16,\n",
              " 0.0,\n",
              " 1.1102230246251565e-16,\n",
              " 2.220446049250313e-16,\n",
              " 0.0,\n",
              " 0.0,\n",
              " 1.1102230246251565e-16,\n",
              " 6.661338147750939e-16,\n",
              " 0.0,\n",
              " -1.1102230246251565e-16,\n",
              " 2.220446049250313e-16,\n",
              " 0.0,\n",
              " 1.1102230246251565e-16,\n",
              " 2.220446049250313e-16,\n",
              " 2.220446049250313e-16,\n",
              " 0.0,\n",
              " 2.220446049250313e-16,\n",
              " 1.1102230246251565e-16,\n",
              " 1.1102230246251565e-16,\n",
              " 2.220446049250313e-16,\n",
              " 2.220446049250313e-16,\n",
              " 2.220446049250313e-16,\n",
              " -1.1102230246251565e-16,\n",
              " 4.440892098500626e-16]"
            ]
          },
          "metadata": {},
          "execution_count": 20
        }
      ]
    },
    {
      "cell_type": "code",
      "source": [
        "sum(collect_all)"
      ],
      "metadata": {
        "colab": {
          "base_uri": "https://localhost:8080/"
        },
        "id": "lWif8ZrJ79xj",
        "outputId": "903e8d66-534c-40a8-a5e0-22a18bdf7273"
      },
      "execution_count": 21,
      "outputs": [
        {
          "output_type": "execute_result",
          "data": {
            "text/plain": [
              "7.993605777301127e-15"
            ]
          },
          "metadata": {},
          "execution_count": 21
        }
      ]
    }
  ]
}